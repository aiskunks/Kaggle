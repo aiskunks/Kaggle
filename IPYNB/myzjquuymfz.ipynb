{
  "nbformat": 4,
  "nbformat_minor": 0,
  "metadata": {
    "colab": {
      "provenance": []
    },
    "kernelspec": {
      "name": "python3",
      "display_name": "Python 3"
    },
    "language_info": {
      "name": "python"
    }
  },
  "cells": [
    {
      "cell_type": "markdown",
      "source": [
        "# Abstract "
      ],
      "metadata": {
        "id": "sAwjc075pBhx"
      }
    },
    {
      "cell_type": "markdown",
      "source": [
        "1. Whats the problem statement?\n",
        "\n",
        "    To predict and understand what factors help in retaining customers \n",
        "\n",
        "    Understanding the importance of Exploratory Data Analysis(EDA) to prepare data in the right way to get good results and Implement SHAP analysis to get feature importance.\n",
        "\n",
        "2. What did you do?\n",
        "    \n",
        "    Performed EDA on data using techniques like Data Imputation, outlier detection and removal, finding features with high multi-collinearity and removal of these features to get better performance of model.\n",
        "\n",
        "3. How well did it work?\n",
        "\n",
        "    Accuracy of the model was accuracy is 89% and on removal of outlier the accuracy of model increases 2% apart from those, other parameters are pretty much the same.\n",
        "\n",
        "4. What did you learn?\n",
        "\n",
        "    How classification models help predict weather a customer would churn. How finding Multicollinearity to eleminate redudant effect, how imputation helps in achieving better results and how outliers effect the outcome of the model. \n",
        "\n",
        "\n",
        "\n",
        "\n",
        "\n",
        "\n",
        "\n"
      ],
      "metadata": {
        "id": "UGssqUPFCT49"
      }
    },
    {
      "cell_type": "markdown",
      "source": [
        "Mistakes i have made On the last assignment\n",
        "\n",
        "\n",
        "\n",
        "\n",
        "\n"
      ],
      "metadata": {
        "id": "mVj-DOCmzlsl"
      }
    },
    {
      "cell_type": "markdown",
      "source": [
        "# Basic terminology \n",
        "\n",
        "**Scaling of data -**\n",
        "\n",
        "\n",
        "Variables that are measured at different scales do not contribute equally to the model fitting & model learned function and might end up creating a bias. Thus, to deal with this potential problem feature-wise standardized (μ=0, σ=1) is usually used prior to model fitting.\n",
        "\n",
        "**Multicollinearity -**\n",
        "\n",
        " Multicollinearity occurs when there are two or more independent variables, which have a high correlation among themselves. When some features are highly correlated, we might have difficulty in distinguishing between their individual effects on the dependent (Target) variable. For more details - https://towardsdatascience.com/multi-collinearity-in-regression-fe7a2c1467ea\n",
        "\n",
        "\n",
        "\n",
        "**Variance Inflation Factor-** \n",
        "\n",
        "A variance inflation factor (VIF) provides a measure of multicollinearity among the independent variables. A large variance inflation factor (VIF) on an independent variable indicates a highly collinear relationship to the other variables. For more details - https://www.investopedia.com/terms/v/variance-inflation-factor.asp\n",
        "\n",
        "\n",
        " **Understanding \n",
        "True Positive(TP),True Negative(TN),False Positive(FP),False Negative (FN)**\n",
        "\n",
        "True Positive:\n",
        "Interpretation: You predicted positive and it’s true.\n",
        "You predicted that a woman is pregnant and she actually is.\n",
        "\n",
        "\n",
        "\n",
        "\n",
        "\n",
        "True Negative:\n",
        "Interpretation: You predicted negative and it’s true.\n",
        "You predicted that a man is not pregnant and he actually is not.\n",
        "\n",
        "\n",
        "\n",
        "\n",
        "False Positive: (Type 1 Error)\n",
        "Interpretation: You predicted positive and it’s false.\n",
        "You predicted that a man is pregnant but he actually is not.\n",
        "\n",
        "\n",
        "\n",
        "\n",
        "False Negative: (Type 2 Error)\n",
        "Interpretation: You predicted negative and it’s false.\n",
        "You predicted that a woman is not pregnant but she actually is.\n",
        "\n",
        "\n",
        "\n",
        "\n",
        "\n",
        "Understanding  \n",
        "\n",
        "\n",
        "\n",
        "\n",
        "More on - \n",
        "1.  **Confusion Matrix - ** https://towardsdatascience.com/understanding-confusion-matrix-a9ad42dcfd62\n",
        "2.  **Classification report - ** https://www.youtube.com/watch?v=XiUlqN1Ay0U&t=300s\n",
        "\n",
        "\n",
        "Permutation Importance- \n",
        "\n",
        "Permutation feature importance calculates feature importance by shuffling each predictor and recording the increase in RMSE(root mean square error). This will allow us to assess which predictors are useful for making predictions.\n",
        "\n",
        "More on it-\n",
        "\n",
        "https://towardsdatascience.com/from-scratch-permutation-feature-importance-for-ml-interpretability-b60f7d5d1fe9"
      ],
      "metadata": {
        "id": "TFRO1kW81uvn"
      }
    },
    {
      "cell_type": "markdown",
      "source": [
        "# "
      ],
      "metadata": {
        "id": "0r7jbrvv10aa"
      }
    },
    {
      "cell_type": "code",
      "execution_count": 3,
      "metadata": {
        "colab": {
          "base_uri": "https://localhost:8080/"
        },
        "id": "mYl6vm9eoepI",
        "outputId": "eb03e687-b649-44b9-a0cf-472d7ed3b4b3"
      },
      "outputs": [
        {
          "output_type": "stream",
          "name": "stdout",
          "text": [
            "Looking in indexes: https://pypi.org/simple, https://us-python.pkg.dev/colab-wheels/public/simple/\n",
            "Requirement already satisfied: mlxtend in /usr/local/lib/python3.8/dist-packages (0.21.0)\n",
            "Requirement already satisfied: scipy>=1.2.1 in /usr/local/lib/python3.8/dist-packages (from mlxtend) (1.7.3)\n",
            "Requirement already satisfied: pandas>=0.24.2 in /usr/local/lib/python3.8/dist-packages (from mlxtend) (1.3.5)\n",
            "Requirement already satisfied: scikit-learn>=1.0.2 in /usr/local/lib/python3.8/dist-packages (from mlxtend) (1.0.2)\n",
            "Requirement already satisfied: numpy>=1.16.2 in /usr/local/lib/python3.8/dist-packages (from mlxtend) (1.21.6)\n",
            "Requirement already satisfied: setuptools in /usr/local/lib/python3.8/dist-packages (from mlxtend) (57.4.0)\n",
            "Requirement already satisfied: matplotlib>=3.0.0 in /usr/local/lib/python3.8/dist-packages (from mlxtend) (3.2.2)\n",
            "Requirement already satisfied: joblib>=0.13.2 in /usr/local/lib/python3.8/dist-packages (from mlxtend) (1.2.0)\n",
            "Requirement already satisfied: python-dateutil>=2.1 in /usr/local/lib/python3.8/dist-packages (from matplotlib>=3.0.0->mlxtend) (2.8.2)\n",
            "Requirement already satisfied: pyparsing!=2.0.4,!=2.1.2,!=2.1.6,>=2.0.1 in /usr/local/lib/python3.8/dist-packages (from matplotlib>=3.0.0->mlxtend) (3.0.9)\n",
            "Requirement already satisfied: cycler>=0.10 in /usr/local/lib/python3.8/dist-packages (from matplotlib>=3.0.0->mlxtend) (0.11.0)\n",
            "Requirement already satisfied: kiwisolver>=1.0.1 in /usr/local/lib/python3.8/dist-packages (from matplotlib>=3.0.0->mlxtend) (1.4.4)\n",
            "Requirement already satisfied: pytz>=2017.3 in /usr/local/lib/python3.8/dist-packages (from pandas>=0.24.2->mlxtend) (2022.6)\n",
            "Requirement already satisfied: six>=1.5 in /usr/local/lib/python3.8/dist-packages (from python-dateutil>=2.1->matplotlib>=3.0.0->mlxtend) (1.15.0)\n",
            "Requirement already satisfied: threadpoolctl>=2.0.0 in /usr/local/lib/python3.8/dist-packages (from scikit-learn>=1.0.2->mlxtend) (3.1.0)\n",
            "Looking in indexes: https://pypi.org/simple, https://us-python.pkg.dev/colab-wheels/public/simple/\n",
            "Requirement already satisfied: eli5 in /usr/local/lib/python3.8/dist-packages (0.13.0)\n",
            "Requirement already satisfied: graphviz in /usr/local/lib/python3.8/dist-packages (from eli5) (0.10.1)\n",
            "Requirement already satisfied: scipy in /usr/local/lib/python3.8/dist-packages (from eli5) (1.7.3)\n",
            "Requirement already satisfied: numpy>=1.9.0 in /usr/local/lib/python3.8/dist-packages (from eli5) (1.21.6)\n",
            "Requirement already satisfied: scikit-learn>=0.20 in /usr/local/lib/python3.8/dist-packages (from eli5) (1.0.2)\n",
            "Requirement already satisfied: jinja2>=3.0.0 in /usr/local/lib/python3.8/dist-packages (from eli5) (3.1.2)\n",
            "Requirement already satisfied: tabulate>=0.7.7 in /usr/local/lib/python3.8/dist-packages (from eli5) (0.8.10)\n",
            "Requirement already satisfied: six in /usr/local/lib/python3.8/dist-packages (from eli5) (1.15.0)\n",
            "Requirement already satisfied: attrs>17.1.0 in /usr/local/lib/python3.8/dist-packages (from eli5) (22.1.0)\n",
            "Requirement already satisfied: MarkupSafe>=2.0 in /usr/local/lib/python3.8/dist-packages (from jinja2>=3.0.0->eli5) (2.0.1)\n",
            "Requirement already satisfied: joblib>=0.11 in /usr/local/lib/python3.8/dist-packages (from scikit-learn>=0.20->eli5) (1.2.0)\n",
            "Requirement already satisfied: threadpoolctl>=2.0.0 in /usr/local/lib/python3.8/dist-packages (from scikit-learn>=0.20->eli5) (3.1.0)\n"
          ]
        }
      ],
      "source": [
        "import numpy as np\n",
        "import pandas as pd\n",
        "import matplotlib.pyplot as plt \n",
        "import seaborn as sns\n",
        "%pip install mlxtend --upgrade\n",
        "!pip install eli5\n"
      ]
    },
    {
      "cell_type": "code",
      "source": [
        "df = pd.read_csv('./telecom_churn.csv')\n",
        "df.head(5)"
      ],
      "metadata": {
        "colab": {
          "base_uri": "https://localhost:8080/",
          "height": 206
        },
        "id": "EIRDrXAPpAuM",
        "outputId": "2378135e-ac89-4577-e96e-0f1057b08c11"
      },
      "execution_count": 4,
      "outputs": [
        {
          "output_type": "execute_result",
          "data": {
            "text/plain": [
              "   Churn  AccountWeeks  ContractRenewal  DataPlan  DataUsage  CustServCalls  \\\n",
              "0      0           128                1         1        2.7              1   \n",
              "1      0           107                1         1        3.7              1   \n",
              "2      0           137                1         0        0.0              0   \n",
              "3      0            84                0         0        0.0              2   \n",
              "4      0            75                0         0        0.0              3   \n",
              "\n",
              "   DayMins  DayCalls  MonthlyCharge  OverageFee  RoamMins  \n",
              "0    265.1       110           89.0        9.87      10.0  \n",
              "1    161.6       123           82.0        9.78      13.7  \n",
              "2    243.4       114           52.0        6.06      12.2  \n",
              "3    299.4        71           57.0        3.10       6.6  \n",
              "4    166.7       113           41.0        7.42      10.1  "
            ],
            "text/html": [
              "\n",
              "  <div id=\"df-6f52ac6a-d3a2-47bb-8ef4-26c44809da22\">\n",
              "    <div class=\"colab-df-container\">\n",
              "      <div>\n",
              "<style scoped>\n",
              "    .dataframe tbody tr th:only-of-type {\n",
              "        vertical-align: middle;\n",
              "    }\n",
              "\n",
              "    .dataframe tbody tr th {\n",
              "        vertical-align: top;\n",
              "    }\n",
              "\n",
              "    .dataframe thead th {\n",
              "        text-align: right;\n",
              "    }\n",
              "</style>\n",
              "<table border=\"1\" class=\"dataframe\">\n",
              "  <thead>\n",
              "    <tr style=\"text-align: right;\">\n",
              "      <th></th>\n",
              "      <th>Churn</th>\n",
              "      <th>AccountWeeks</th>\n",
              "      <th>ContractRenewal</th>\n",
              "      <th>DataPlan</th>\n",
              "      <th>DataUsage</th>\n",
              "      <th>CustServCalls</th>\n",
              "      <th>DayMins</th>\n",
              "      <th>DayCalls</th>\n",
              "      <th>MonthlyCharge</th>\n",
              "      <th>OverageFee</th>\n",
              "      <th>RoamMins</th>\n",
              "    </tr>\n",
              "  </thead>\n",
              "  <tbody>\n",
              "    <tr>\n",
              "      <th>0</th>\n",
              "      <td>0</td>\n",
              "      <td>128</td>\n",
              "      <td>1</td>\n",
              "      <td>1</td>\n",
              "      <td>2.7</td>\n",
              "      <td>1</td>\n",
              "      <td>265.1</td>\n",
              "      <td>110</td>\n",
              "      <td>89.0</td>\n",
              "      <td>9.87</td>\n",
              "      <td>10.0</td>\n",
              "    </tr>\n",
              "    <tr>\n",
              "      <th>1</th>\n",
              "      <td>0</td>\n",
              "      <td>107</td>\n",
              "      <td>1</td>\n",
              "      <td>1</td>\n",
              "      <td>3.7</td>\n",
              "      <td>1</td>\n",
              "      <td>161.6</td>\n",
              "      <td>123</td>\n",
              "      <td>82.0</td>\n",
              "      <td>9.78</td>\n",
              "      <td>13.7</td>\n",
              "    </tr>\n",
              "    <tr>\n",
              "      <th>2</th>\n",
              "      <td>0</td>\n",
              "      <td>137</td>\n",
              "      <td>1</td>\n",
              "      <td>0</td>\n",
              "      <td>0.0</td>\n",
              "      <td>0</td>\n",
              "      <td>243.4</td>\n",
              "      <td>114</td>\n",
              "      <td>52.0</td>\n",
              "      <td>6.06</td>\n",
              "      <td>12.2</td>\n",
              "    </tr>\n",
              "    <tr>\n",
              "      <th>3</th>\n",
              "      <td>0</td>\n",
              "      <td>84</td>\n",
              "      <td>0</td>\n",
              "      <td>0</td>\n",
              "      <td>0.0</td>\n",
              "      <td>2</td>\n",
              "      <td>299.4</td>\n",
              "      <td>71</td>\n",
              "      <td>57.0</td>\n",
              "      <td>3.10</td>\n",
              "      <td>6.6</td>\n",
              "    </tr>\n",
              "    <tr>\n",
              "      <th>4</th>\n",
              "      <td>0</td>\n",
              "      <td>75</td>\n",
              "      <td>0</td>\n",
              "      <td>0</td>\n",
              "      <td>0.0</td>\n",
              "      <td>3</td>\n",
              "      <td>166.7</td>\n",
              "      <td>113</td>\n",
              "      <td>41.0</td>\n",
              "      <td>7.42</td>\n",
              "      <td>10.1</td>\n",
              "    </tr>\n",
              "  </tbody>\n",
              "</table>\n",
              "</div>\n",
              "      <button class=\"colab-df-convert\" onclick=\"convertToInteractive('df-6f52ac6a-d3a2-47bb-8ef4-26c44809da22')\"\n",
              "              title=\"Convert this dataframe to an interactive table.\"\n",
              "              style=\"display:none;\">\n",
              "        \n",
              "  <svg xmlns=\"http://www.w3.org/2000/svg\" height=\"24px\"viewBox=\"0 0 24 24\"\n",
              "       width=\"24px\">\n",
              "    <path d=\"M0 0h24v24H0V0z\" fill=\"none\"/>\n",
              "    <path d=\"M18.56 5.44l.94 2.06.94-2.06 2.06-.94-2.06-.94-.94-2.06-.94 2.06-2.06.94zm-11 1L8.5 8.5l.94-2.06 2.06-.94-2.06-.94L8.5 2.5l-.94 2.06-2.06.94zm10 10l.94 2.06.94-2.06 2.06-.94-2.06-.94-.94-2.06-.94 2.06-2.06.94z\"/><path d=\"M17.41 7.96l-1.37-1.37c-.4-.4-.92-.59-1.43-.59-.52 0-1.04.2-1.43.59L10.3 9.45l-7.72 7.72c-.78.78-.78 2.05 0 2.83L4 21.41c.39.39.9.59 1.41.59.51 0 1.02-.2 1.41-.59l7.78-7.78 2.81-2.81c.8-.78.8-2.07 0-2.86zM5.41 20L4 18.59l7.72-7.72 1.47 1.35L5.41 20z\"/>\n",
              "  </svg>\n",
              "      </button>\n",
              "      \n",
              "  <style>\n",
              "    .colab-df-container {\n",
              "      display:flex;\n",
              "      flex-wrap:wrap;\n",
              "      gap: 12px;\n",
              "    }\n",
              "\n",
              "    .colab-df-convert {\n",
              "      background-color: #E8F0FE;\n",
              "      border: none;\n",
              "      border-radius: 50%;\n",
              "      cursor: pointer;\n",
              "      display: none;\n",
              "      fill: #1967D2;\n",
              "      height: 32px;\n",
              "      padding: 0 0 0 0;\n",
              "      width: 32px;\n",
              "    }\n",
              "\n",
              "    .colab-df-convert:hover {\n",
              "      background-color: #E2EBFA;\n",
              "      box-shadow: 0px 1px 2px rgba(60, 64, 67, 0.3), 0px 1px 3px 1px rgba(60, 64, 67, 0.15);\n",
              "      fill: #174EA6;\n",
              "    }\n",
              "\n",
              "    [theme=dark] .colab-df-convert {\n",
              "      background-color: #3B4455;\n",
              "      fill: #D2E3FC;\n",
              "    }\n",
              "\n",
              "    [theme=dark] .colab-df-convert:hover {\n",
              "      background-color: #434B5C;\n",
              "      box-shadow: 0px 1px 3px 1px rgba(0, 0, 0, 0.15);\n",
              "      filter: drop-shadow(0px 1px 2px rgba(0, 0, 0, 0.3));\n",
              "      fill: #FFFFFF;\n",
              "    }\n",
              "  </style>\n",
              "\n",
              "      <script>\n",
              "        const buttonEl =\n",
              "          document.querySelector('#df-6f52ac6a-d3a2-47bb-8ef4-26c44809da22 button.colab-df-convert');\n",
              "        buttonEl.style.display =\n",
              "          google.colab.kernel.accessAllowed ? 'block' : 'none';\n",
              "\n",
              "        async function convertToInteractive(key) {\n",
              "          const element = document.querySelector('#df-6f52ac6a-d3a2-47bb-8ef4-26c44809da22');\n",
              "          const dataTable =\n",
              "            await google.colab.kernel.invokeFunction('convertToInteractive',\n",
              "                                                     [key], {});\n",
              "          if (!dataTable) return;\n",
              "\n",
              "          const docLinkHtml = 'Like what you see? Visit the ' +\n",
              "            '<a target=\"_blank\" href=https://colab.research.google.com/notebooks/data_table.ipynb>data table notebook</a>'\n",
              "            + ' to learn more about interactive tables.';\n",
              "          element.innerHTML = '';\n",
              "          dataTable['output_type'] = 'display_data';\n",
              "          await google.colab.output.renderOutput(dataTable, element);\n",
              "          const docLink = document.createElement('div');\n",
              "          docLink.innerHTML = docLinkHtml;\n",
              "          element.appendChild(docLink);\n",
              "        }\n",
              "      </script>\n",
              "    </div>\n",
              "  </div>\n",
              "  "
            ]
          },
          "metadata": {},
          "execution_count": 4
        }
      ]
    },
    {
      "cell_type": "code",
      "source": [
        "df.isna().sum()"
      ],
      "metadata": {
        "colab": {
          "base_uri": "https://localhost:8080/"
        },
        "id": "J-mpaJ1Lvrz-",
        "outputId": "c513464c-ea6e-487c-d804-beceeb1e9eaf"
      },
      "execution_count": 5,
      "outputs": [
        {
          "output_type": "execute_result",
          "data": {
            "text/plain": [
              "Churn              0\n",
              "AccountWeeks       0\n",
              "ContractRenewal    0\n",
              "DataPlan           0\n",
              "DataUsage          0\n",
              "CustServCalls      0\n",
              "DayMins            0\n",
              "DayCalls           0\n",
              "MonthlyCharge      0\n",
              "OverageFee         0\n",
              "RoamMins           0\n",
              "dtype: int64"
            ]
          },
          "metadata": {},
          "execution_count": 5
        }
      ]
    },
    {
      "cell_type": "code",
      "source": [
        "df.nunique()"
      ],
      "metadata": {
        "colab": {
          "base_uri": "https://localhost:8080/"
        },
        "id": "AidEWizMvswl",
        "outputId": "d8b084fd-fd6d-4e5b-f085-51ab731a1557"
      },
      "execution_count": 6,
      "outputs": [
        {
          "output_type": "execute_result",
          "data": {
            "text/plain": [
              "Churn                 2\n",
              "AccountWeeks        212\n",
              "ContractRenewal       2\n",
              "DataPlan              2\n",
              "DataUsage           174\n",
              "CustServCalls        10\n",
              "DayMins            1667\n",
              "DayCalls            119\n",
              "MonthlyCharge       627\n",
              "OverageFee         1024\n",
              "RoamMins            162\n",
              "dtype: int64"
            ]
          },
          "metadata": {},
          "execution_count": 6
        }
      ]
    },
    {
      "cell_type": "markdown",
      "source": [
        "  This gives us unique values for each field. we see there in total of 3 catagorical feature ( with value 2 values )  ie. Churn, ContractRenewal & DataPlan and rest are all numeric."
      ],
      "metadata": {
        "id": "4bZA0QI75DJb"
      }
    },
    {
      "cell_type": "code",
      "source": [
        "df.describe()"
      ],
      "metadata": {
        "colab": {
          "base_uri": "https://localhost:8080/",
          "height": 300
        },
        "id": "yBxr3amqzAa4",
        "outputId": "69114cca-dc4d-4309-b138-fcc2ea3c4fca"
      },
      "execution_count": 7,
      "outputs": [
        {
          "output_type": "execute_result",
          "data": {
            "text/plain": [
              "             Churn  AccountWeeks  ContractRenewal     DataPlan    DataUsage  \\\n",
              "count  3333.000000   3333.000000      3333.000000  3333.000000  3333.000000   \n",
              "mean      0.144914    101.064806         0.903090     0.276628     0.816475   \n",
              "std       0.352067     39.822106         0.295879     0.447398     1.272668   \n",
              "min       0.000000      1.000000         0.000000     0.000000     0.000000   \n",
              "25%       0.000000     74.000000         1.000000     0.000000     0.000000   \n",
              "50%       0.000000    101.000000         1.000000     0.000000     0.000000   \n",
              "75%       0.000000    127.000000         1.000000     1.000000     1.780000   \n",
              "max       1.000000    243.000000         1.000000     1.000000     5.400000   \n",
              "\n",
              "       CustServCalls      DayMins     DayCalls  MonthlyCharge   OverageFee  \\\n",
              "count    3333.000000  3333.000000  3333.000000    3333.000000  3333.000000   \n",
              "mean        1.562856   179.775098   100.435644      56.305161    10.051488   \n",
              "std         1.315491    54.467389    20.069084      16.426032     2.535712   \n",
              "min         0.000000     0.000000     0.000000      14.000000     0.000000   \n",
              "25%         1.000000   143.700000    87.000000      45.000000     8.330000   \n",
              "50%         1.000000   179.400000   101.000000      53.500000    10.070000   \n",
              "75%         2.000000   216.400000   114.000000      66.200000    11.770000   \n",
              "max         9.000000   350.800000   165.000000     111.300000    18.190000   \n",
              "\n",
              "          RoamMins  \n",
              "count  3333.000000  \n",
              "mean     10.237294  \n",
              "std       2.791840  \n",
              "min       0.000000  \n",
              "25%       8.500000  \n",
              "50%      10.300000  \n",
              "75%      12.100000  \n",
              "max      20.000000  "
            ],
            "text/html": [
              "\n",
              "  <div id=\"df-b68d0df0-fcc1-4cf6-9961-2aff9b4e5638\">\n",
              "    <div class=\"colab-df-container\">\n",
              "      <div>\n",
              "<style scoped>\n",
              "    .dataframe tbody tr th:only-of-type {\n",
              "        vertical-align: middle;\n",
              "    }\n",
              "\n",
              "    .dataframe tbody tr th {\n",
              "        vertical-align: top;\n",
              "    }\n",
              "\n",
              "    .dataframe thead th {\n",
              "        text-align: right;\n",
              "    }\n",
              "</style>\n",
              "<table border=\"1\" class=\"dataframe\">\n",
              "  <thead>\n",
              "    <tr style=\"text-align: right;\">\n",
              "      <th></th>\n",
              "      <th>Churn</th>\n",
              "      <th>AccountWeeks</th>\n",
              "      <th>ContractRenewal</th>\n",
              "      <th>DataPlan</th>\n",
              "      <th>DataUsage</th>\n",
              "      <th>CustServCalls</th>\n",
              "      <th>DayMins</th>\n",
              "      <th>DayCalls</th>\n",
              "      <th>MonthlyCharge</th>\n",
              "      <th>OverageFee</th>\n",
              "      <th>RoamMins</th>\n",
              "    </tr>\n",
              "  </thead>\n",
              "  <tbody>\n",
              "    <tr>\n",
              "      <th>count</th>\n",
              "      <td>3333.000000</td>\n",
              "      <td>3333.000000</td>\n",
              "      <td>3333.000000</td>\n",
              "      <td>3333.000000</td>\n",
              "      <td>3333.000000</td>\n",
              "      <td>3333.000000</td>\n",
              "      <td>3333.000000</td>\n",
              "      <td>3333.000000</td>\n",
              "      <td>3333.000000</td>\n",
              "      <td>3333.000000</td>\n",
              "      <td>3333.000000</td>\n",
              "    </tr>\n",
              "    <tr>\n",
              "      <th>mean</th>\n",
              "      <td>0.144914</td>\n",
              "      <td>101.064806</td>\n",
              "      <td>0.903090</td>\n",
              "      <td>0.276628</td>\n",
              "      <td>0.816475</td>\n",
              "      <td>1.562856</td>\n",
              "      <td>179.775098</td>\n",
              "      <td>100.435644</td>\n",
              "      <td>56.305161</td>\n",
              "      <td>10.051488</td>\n",
              "      <td>10.237294</td>\n",
              "    </tr>\n",
              "    <tr>\n",
              "      <th>std</th>\n",
              "      <td>0.352067</td>\n",
              "      <td>39.822106</td>\n",
              "      <td>0.295879</td>\n",
              "      <td>0.447398</td>\n",
              "      <td>1.272668</td>\n",
              "      <td>1.315491</td>\n",
              "      <td>54.467389</td>\n",
              "      <td>20.069084</td>\n",
              "      <td>16.426032</td>\n",
              "      <td>2.535712</td>\n",
              "      <td>2.791840</td>\n",
              "    </tr>\n",
              "    <tr>\n",
              "      <th>min</th>\n",
              "      <td>0.000000</td>\n",
              "      <td>1.000000</td>\n",
              "      <td>0.000000</td>\n",
              "      <td>0.000000</td>\n",
              "      <td>0.000000</td>\n",
              "      <td>0.000000</td>\n",
              "      <td>0.000000</td>\n",
              "      <td>0.000000</td>\n",
              "      <td>14.000000</td>\n",
              "      <td>0.000000</td>\n",
              "      <td>0.000000</td>\n",
              "    </tr>\n",
              "    <tr>\n",
              "      <th>25%</th>\n",
              "      <td>0.000000</td>\n",
              "      <td>74.000000</td>\n",
              "      <td>1.000000</td>\n",
              "      <td>0.000000</td>\n",
              "      <td>0.000000</td>\n",
              "      <td>1.000000</td>\n",
              "      <td>143.700000</td>\n",
              "      <td>87.000000</td>\n",
              "      <td>45.000000</td>\n",
              "      <td>8.330000</td>\n",
              "      <td>8.500000</td>\n",
              "    </tr>\n",
              "    <tr>\n",
              "      <th>50%</th>\n",
              "      <td>0.000000</td>\n",
              "      <td>101.000000</td>\n",
              "      <td>1.000000</td>\n",
              "      <td>0.000000</td>\n",
              "      <td>0.000000</td>\n",
              "      <td>1.000000</td>\n",
              "      <td>179.400000</td>\n",
              "      <td>101.000000</td>\n",
              "      <td>53.500000</td>\n",
              "      <td>10.070000</td>\n",
              "      <td>10.300000</td>\n",
              "    </tr>\n",
              "    <tr>\n",
              "      <th>75%</th>\n",
              "      <td>0.000000</td>\n",
              "      <td>127.000000</td>\n",
              "      <td>1.000000</td>\n",
              "      <td>1.000000</td>\n",
              "      <td>1.780000</td>\n",
              "      <td>2.000000</td>\n",
              "      <td>216.400000</td>\n",
              "      <td>114.000000</td>\n",
              "      <td>66.200000</td>\n",
              "      <td>11.770000</td>\n",
              "      <td>12.100000</td>\n",
              "    </tr>\n",
              "    <tr>\n",
              "      <th>max</th>\n",
              "      <td>1.000000</td>\n",
              "      <td>243.000000</td>\n",
              "      <td>1.000000</td>\n",
              "      <td>1.000000</td>\n",
              "      <td>5.400000</td>\n",
              "      <td>9.000000</td>\n",
              "      <td>350.800000</td>\n",
              "      <td>165.000000</td>\n",
              "      <td>111.300000</td>\n",
              "      <td>18.190000</td>\n",
              "      <td>20.000000</td>\n",
              "    </tr>\n",
              "  </tbody>\n",
              "</table>\n",
              "</div>\n",
              "      <button class=\"colab-df-convert\" onclick=\"convertToInteractive('df-b68d0df0-fcc1-4cf6-9961-2aff9b4e5638')\"\n",
              "              title=\"Convert this dataframe to an interactive table.\"\n",
              "              style=\"display:none;\">\n",
              "        \n",
              "  <svg xmlns=\"http://www.w3.org/2000/svg\" height=\"24px\"viewBox=\"0 0 24 24\"\n",
              "       width=\"24px\">\n",
              "    <path d=\"M0 0h24v24H0V0z\" fill=\"none\"/>\n",
              "    <path d=\"M18.56 5.44l.94 2.06.94-2.06 2.06-.94-2.06-.94-.94-2.06-.94 2.06-2.06.94zm-11 1L8.5 8.5l.94-2.06 2.06-.94-2.06-.94L8.5 2.5l-.94 2.06-2.06.94zm10 10l.94 2.06.94-2.06 2.06-.94-2.06-.94-.94-2.06-.94 2.06-2.06.94z\"/><path d=\"M17.41 7.96l-1.37-1.37c-.4-.4-.92-.59-1.43-.59-.52 0-1.04.2-1.43.59L10.3 9.45l-7.72 7.72c-.78.78-.78 2.05 0 2.83L4 21.41c.39.39.9.59 1.41.59.51 0 1.02-.2 1.41-.59l7.78-7.78 2.81-2.81c.8-.78.8-2.07 0-2.86zM5.41 20L4 18.59l7.72-7.72 1.47 1.35L5.41 20z\"/>\n",
              "  </svg>\n",
              "      </button>\n",
              "      \n",
              "  <style>\n",
              "    .colab-df-container {\n",
              "      display:flex;\n",
              "      flex-wrap:wrap;\n",
              "      gap: 12px;\n",
              "    }\n",
              "\n",
              "    .colab-df-convert {\n",
              "      background-color: #E8F0FE;\n",
              "      border: none;\n",
              "      border-radius: 50%;\n",
              "      cursor: pointer;\n",
              "      display: none;\n",
              "      fill: #1967D2;\n",
              "      height: 32px;\n",
              "      padding: 0 0 0 0;\n",
              "      width: 32px;\n",
              "    }\n",
              "\n",
              "    .colab-df-convert:hover {\n",
              "      background-color: #E2EBFA;\n",
              "      box-shadow: 0px 1px 2px rgba(60, 64, 67, 0.3), 0px 1px 3px 1px rgba(60, 64, 67, 0.15);\n",
              "      fill: #174EA6;\n",
              "    }\n",
              "\n",
              "    [theme=dark] .colab-df-convert {\n",
              "      background-color: #3B4455;\n",
              "      fill: #D2E3FC;\n",
              "    }\n",
              "\n",
              "    [theme=dark] .colab-df-convert:hover {\n",
              "      background-color: #434B5C;\n",
              "      box-shadow: 0px 1px 3px 1px rgba(0, 0, 0, 0.15);\n",
              "      filter: drop-shadow(0px 1px 2px rgba(0, 0, 0, 0.3));\n",
              "      fill: #FFFFFF;\n",
              "    }\n",
              "  </style>\n",
              "\n",
              "      <script>\n",
              "        const buttonEl =\n",
              "          document.querySelector('#df-b68d0df0-fcc1-4cf6-9961-2aff9b4e5638 button.colab-df-convert');\n",
              "        buttonEl.style.display =\n",
              "          google.colab.kernel.accessAllowed ? 'block' : 'none';\n",
              "\n",
              "        async function convertToInteractive(key) {\n",
              "          const element = document.querySelector('#df-b68d0df0-fcc1-4cf6-9961-2aff9b4e5638');\n",
              "          const dataTable =\n",
              "            await google.colab.kernel.invokeFunction('convertToInteractive',\n",
              "                                                     [key], {});\n",
              "          if (!dataTable) return;\n",
              "\n",
              "          const docLinkHtml = 'Like what you see? Visit the ' +\n",
              "            '<a target=\"_blank\" href=https://colab.research.google.com/notebooks/data_table.ipynb>data table notebook</a>'\n",
              "            + ' to learn more about interactive tables.';\n",
              "          element.innerHTML = '';\n",
              "          dataTable['output_type'] = 'display_data';\n",
              "          await google.colab.output.renderOutput(dataTable, element);\n",
              "          const docLink = document.createElement('div');\n",
              "          docLink.innerHTML = docLinkHtml;\n",
              "          element.appendChild(docLink);\n",
              "        }\n",
              "      </script>\n",
              "    </div>\n",
              "  </div>\n",
              "  "
            ]
          },
          "metadata": {},
          "execution_count": 7
        }
      ]
    },
    {
      "cell_type": "markdown",
      "source": [
        "there are total of 11 features out of which Churn is Dependent/Target variable. this is Data Frame with descriptive statistics for features."
      ],
      "metadata": {
        "id": "Xu47tKNQzCRh"
      }
    },
    {
      "cell_type": "code",
      "source": [
        "colmn = df.columns\n",
        "binary_colmns = []\n",
        "numeric_colmns= []\n",
        "for i in colmn:\n",
        "    if df[i].value_counts().shape[0] == 2:\n",
        "        binary_colmns.append(i)\n",
        "    else:\n",
        "      \n",
        "      numeric_colmns.append(i)"
      ],
      "metadata": {
        "id": "16QKLkO4xyay"
      },
      "execution_count": 8,
      "outputs": []
    },
    {
      "cell_type": "markdown",
      "source": [
        "we use the above code snippet to set the lists binary_colmn and numeric_colmns with catagorical columns and numeric columns respectively "
      ],
      "metadata": {
        "id": "yPU9mhvYzdQy"
      }
    },
    {
      "cell_type": "code",
      "source": [
        "df[\"Churn\"].value_counts().plot(kind=\"pie\", title=\"All Over Churned Ratio\",\n",
        "                                labels = [\"Retained {:.2f} %\".format(len(df.loc[df.Churn==0])*100/len(df.Churn)),\n",
        "                                          \"Churned {:.2f} %\".format(len(df.loc[df.Churn==1])*100/len(df.Churn))],\n",
        "                                figsize=(4,4))"
      ],
      "metadata": {
        "colab": {
          "base_uri": "https://localhost:8080/",
          "height": 281
        },
        "id": "R-VOCISgwr1l",
        "outputId": "dadecc5e-6aba-4010-a062-36dea1d56146"
      },
      "execution_count": 9,
      "outputs": [
        {
          "output_type": "execute_result",
          "data": {
            "text/plain": [
              "<matplotlib.axes._subplots.AxesSubplot at 0x7f352c868c40>"
            ]
          },
          "metadata": {},
          "execution_count": 9
        },
        {
          "output_type": "display_data",
          "data": {
            "text/plain": [
              "<Figure size 288x288 with 1 Axes>"
            ],
            "image/png": "[encoded data removed]"
          },
          "metadata": {}
        }
      ]
    },
    {
      "cell_type": "code",
      "source": [
        "fig, axes = plt.subplots(1, len(binary_colmns), figsize=(12, 7), sharey=True)\n",
        "j=0\n",
        "for i in binary_colmns:\n",
        "  sns.countplot(str(i), data=df, ax=axes[binary_colmns.index(i)])"
      ],
      "metadata": {
        "colab": {
          "base_uri": "https://localhost:8080/",
          "height": 566
        },
        "id": "XGAiM4XexjO9",
        "outputId": "3409e176-2b3c-4482-8caf-86245bf451b3"
      },
      "execution_count": 10,
      "outputs": [
        {
          "output_type": "stream",
          "name": "stderr",
          "text": [
            "/usr/local/lib/python3.8/dist-packages/seaborn/_decorators.py:36: FutureWarning: Pass the following variable as a keyword arg: x. From version 0.12, the only valid positional argument will be `data`, and passing other arguments without an explicit keyword will result in an error or misinterpretation.\n",
            "  warnings.warn(\n",
            "/usr/local/lib/python3.8/dist-packages/seaborn/_decorators.py:36: FutureWarning: Pass the following variable as a keyword arg: x. From version 0.12, the only valid positional argument will be `data`, and passing other arguments without an explicit keyword will result in an error or misinterpretation.\n",
            "  warnings.warn(\n",
            "/usr/local/lib/python3.8/dist-packages/seaborn/_decorators.py:36: FutureWarning: Pass the following variable as a keyword arg: x. From version 0.12, the only valid positional argument will be `data`, and passing other arguments without an explicit keyword will result in an error or misinterpretation.\n",
            "  warnings.warn(\n"
          ]
        },
        {
          "output_type": "display_data",
          "data": {
            "text/plain": [
              "<Figure size 864x504 with 3 Axes>"
            ],
            "image/png": "[encoded data removed]"
          },
          "metadata": {
            "needs_background": "light"
          }
        }
      ]
    },
    {
      "cell_type": "code",
      "source": [
        "from statsmodels.graphics.gofplots import qqplot\n",
        "for i in numeric_colmns:\n",
        "  plt.figure(figsize=(8,5))\n",
        "  fig=qqplot(df[i],line='45',fit='True')\n",
        "  plt.xticks(fontsize=13)\n",
        "  plt.yticks(fontsize=13)\n",
        "  plt.xlabel(\"Theoretical quantiles\",fontsize=15)\n",
        "  plt.ylabel(\"Sample quantiles\",fontsize=15)\n",
        "  plt.title(\"Q-Q plot of {}\".format(i),fontsize=16)\n",
        "  plt.grid(True)\n",
        "  plt.show()"
      ],
      "metadata": {
        "colab": {
          "base_uri": "https://localhost:8080/",
          "height": 1000
        },
        "id": "j1SaQXouxpqM",
        "outputId": "f1b06d9a-b232-4e24-c8b0-b86be5c434f6"
      },
      "execution_count": 11,
      "outputs": [
        {
          "output_type": "display_data",
          "data": {
            "text/plain": [
              "<Figure size 576x360 with 0 Axes>"
            ]
          },
          "metadata": {}
        },
        {
          "output_type": "display_data",
          "data": {
            "text/plain": [
              "<Figure size 432x288 with 1 Axes>"
            ],
            "image/png": "[encoded data removed]"
          },
          "metadata": {
            "needs_background": "light"
          }
        },
        {
          "output_type": "display_data",
          "data": {
            "text/plain": [
              "<Figure size 576x360 with 0 Axes>"
            ]
          },
          "metadata": {}
        },
        {
          "output_type": "display_data",
          "data": {
            "text/plain": [
              "<Figure size 432x288 with 1 Axes>"
            ],
            "image/png": "[encoded data removed]"
          },
          "metadata": {
            "needs_background": "light"
          }
        },
        {
          "output_type": "display_data",
          "data": {
            "text/plain": [
              "<Figure size 576x360 with 0 Axes>"
            ]
          },
          "metadata": {}
        },
        {
          "output_type": "display_data",
          "data": {
            "text/plain": [
              "<Figure size 432x288 with 1 Axes>"
            ],
            "image/png": "[encoded data removed]"
          },
          "metadata": {
            "needs_background": "light"
          }
        },
        {
          "output_type": "display_data",
          "data": {
            "text/plain": [
              "<Figure size 576x360 with 0 Axes>"
            ]
          },
          "metadata": {}
        },
        {
          "output_type": "display_data",
          "data": {
            "text/plain": [
              "<Figure size 432x288 with 1 Axes>"
            ],
            "image/png": "[encoded data removed]"
          },
          "metadata": {
            "needs_background": "light"
          }
        },
        {
          "output_type": "display_data",
          "data": {
            "text/plain": [
              "<Figure size 576x360 with 0 Axes>"
            ]
          },
          "metadata": {}
        },
        {
          "output_type": "display_data",
          "data": {
            "text/plain": [
              "<Figure size 432x288 with 1 Axes>"
            ],
            "image/png": "[encoded data removed]"
          },
          "metadata": {
            "needs_background": "light"
          }
        },
        {
          "output_type": "display_data",
          "data": {
            "text/plain": [
              "<Figure size 576x360 with 0 Axes>"
            ]
          },
          "metadata": {}
        },
        {
          "output_type": "display_data",
          "data": {
            "text/plain": [
              "<Figure size 432x288 with 1 Axes>"
            ],
            "image/png": "[encoded data removed]"
          },
          "metadata": {
            "needs_background": "light"
          }
        },
        {
          "output_type": "display_data",
          "data": {
            "text/plain": [
              "<Figure size 576x360 with 0 Axes>"
            ]
          },
          "metadata": {}
        },
        {
          "output_type": "display_data",
          "data": {
            "text/plain": [
              "<Figure size 432x288 with 1 Axes>"
            ],
            "image/png": "[encoded data removed]"
          },
          "metadata": {
            "needs_background": "light"
          }
        },
        {
          "output_type": "display_data",
          "data": {
            "text/plain": [
              "<Figure size 576x360 with 0 Axes>"
            ]
          },
          "metadata": {}
        },
        {
          "output_type": "display_data",
          "data": {
            "text/plain": [
              "<Figure size 432x288 with 1 Axes>"
            ],
            "image/png": "[encoded data removed]"
          },
          "metadata": {
            "needs_background": "light"
          }
        }
      ]
    },
    {
      "cell_type": "markdown",
      "source": [
        "1.   In the above plots we can see most of the independent variable are normally distributed except for Customer Service Call (CustServCalls) and Data Usage.\n",
        "2.   A better understanding how QQ plots work and how independent variable's distribution can be found are in the links below\n",
        "\n",
        "  \n",
        "\n",
        "*   https://towardsdatascience.com/q-q-plots-explained-5aa8495426c0\n",
        "*   https://www.geeksforgeeks.org/qqplot-quantile-quantile-plot-in-python/\n",
        "\n",
        "\n",
        "\n",
        "  "
      ],
      "metadata": {
        "id": "IlXyEPD3yKzG"
      }
    },
    {
      "cell_type": "code",
      "source": [
        "numeric_df=pd.DataFrame([df.AccountWeeks,df.DayMins,df.DayCalls,df.OverageFee,df.RoamMins,df.DataUsage,df.MonthlyCharge,df.CustServCalls]).transpose()\n",
        "binary_df=pd.DataFrame([df.DataPlan,df.Churn,df.ContractRenewal]).transpose()\n",
        "numeric_df.head()"
      ],
      "metadata": {
        "colab": {
          "base_uri": "https://localhost:8080/",
          "height": 206
        },
        "id": "II1NQHBg0JKa",
        "outputId": "4ce4fac9-0aaf-4b94-f26f-722cd7e93471"
      },
      "execution_count": 12,
      "outputs": [
        {
          "output_type": "execute_result",
          "data": {
            "text/plain": [
              "   AccountWeeks  DayMins  DayCalls  OverageFee  RoamMins  DataUsage  \\\n",
              "0         128.0    265.1     110.0        9.87      10.0        2.7   \n",
              "1         107.0    161.6     123.0        9.78      13.7        3.7   \n",
              "2         137.0    243.4     114.0        6.06      12.2        0.0   \n",
              "3          84.0    299.4      71.0        3.10       6.6        0.0   \n",
              "4          75.0    166.7     113.0        7.42      10.1        0.0   \n",
              "\n",
              "   MonthlyCharge  CustServCalls  \n",
              "0           89.0            1.0  \n",
              "1           82.0            1.0  \n",
              "2           52.0            0.0  \n",
              "3           57.0            2.0  \n",
              "4           41.0            3.0  "
            ],
            "text/html": [
              "\n",
              "  <div id=\"df-8adbac43-53e6-4838-a41a-d4c3cc2c63d0\">\n",
              "    <div class=\"colab-df-container\">\n",
              "      <div>\n",
              "<style scoped>\n",
              "    .dataframe tbody tr th:only-of-type {\n",
              "        vertical-align: middle;\n",
              "    }\n",
              "\n",
              "    .dataframe tbody tr th {\n",
              "        vertical-align: top;\n",
              "    }\n",
              "\n",
              "    .dataframe thead th {\n",
              "        text-align: right;\n",
              "    }\n",
              "</style>\n",
              "<table border=\"1\" class=\"dataframe\">\n",
              "  <thead>\n",
              "    <tr style=\"text-align: right;\">\n",
              "      <th></th>\n",
              "      <th>AccountWeeks</th>\n",
              "      <th>DayMins</th>\n",
              "      <th>DayCalls</th>\n",
              "      <th>OverageFee</th>\n",
              "      <th>RoamMins</th>\n",
              "      <th>DataUsage</th>\n",
              "      <th>MonthlyCharge</th>\n",
              "      <th>CustServCalls</th>\n",
              "    </tr>\n",
              "  </thead>\n",
              "  <tbody>\n",
              "    <tr>\n",
              "      <th>0</th>\n",
              "      <td>128.0</td>\n",
              "      <td>265.1</td>\n",
              "      <td>110.0</td>\n",
              "      <td>9.87</td>\n",
              "      <td>10.0</td>\n",
              "      <td>2.7</td>\n",
              "      <td>89.0</td>\n",
              "      <td>1.0</td>\n",
              "    </tr>\n",
              "    <tr>\n",
              "      <th>1</th>\n",
              "      <td>107.0</td>\n",
              "      <td>161.6</td>\n",
              "      <td>123.0</td>\n",
              "      <td>9.78</td>\n",
              "      <td>13.7</td>\n",
              "      <td>3.7</td>\n",
              "      <td>82.0</td>\n",
              "      <td>1.0</td>\n",
              "    </tr>\n",
              "    <tr>\n",
              "      <th>2</th>\n",
              "      <td>137.0</td>\n",
              "      <td>243.4</td>\n",
              "      <td>114.0</td>\n",
              "      <td>6.06</td>\n",
              "      <td>12.2</td>\n",
              "      <td>0.0</td>\n",
              "      <td>52.0</td>\n",
              "      <td>0.0</td>\n",
              "    </tr>\n",
              "    <tr>\n",
              "      <th>3</th>\n",
              "      <td>84.0</td>\n",
              "      <td>299.4</td>\n",
              "      <td>71.0</td>\n",
              "      <td>3.10</td>\n",
              "      <td>6.6</td>\n",
              "      <td>0.0</td>\n",
              "      <td>57.0</td>\n",
              "      <td>2.0</td>\n",
              "    </tr>\n",
              "    <tr>\n",
              "      <th>4</th>\n",
              "      <td>75.0</td>\n",
              "      <td>166.7</td>\n",
              "      <td>113.0</td>\n",
              "      <td>7.42</td>\n",
              "      <td>10.1</td>\n",
              "      <td>0.0</td>\n",
              "      <td>41.0</td>\n",
              "      <td>3.0</td>\n",
              "    </tr>\n",
              "  </tbody>\n",
              "</table>\n",
              "</div>\n",
              "      <button class=\"colab-df-convert\" onclick=\"convertToInteractive('df-8adbac43-53e6-4838-a41a-d4c3cc2c63d0')\"\n",
              "              title=\"Convert this dataframe to an interactive table.\"\n",
              "              style=\"display:none;\">\n",
              "        \n",
              "  <svg xmlns=\"http://www.w3.org/2000/svg\" height=\"24px\"viewBox=\"0 0 24 24\"\n",
              "       width=\"24px\">\n",
              "    <path d=\"M0 0h24v24H0V0z\" fill=\"none\"/>\n",
              "    <path d=\"M18.56 5.44l.94 2.06.94-2.06 2.06-.94-2.06-.94-.94-2.06-.94 2.06-2.06.94zm-11 1L8.5 8.5l.94-2.06 2.06-.94-2.06-.94L8.5 2.5l-.94 2.06-2.06.94zm10 10l.94 2.06.94-2.06 2.06-.94-2.06-.94-.94-2.06-.94 2.06-2.06.94z\"/><path d=\"M17.41 7.96l-1.37-1.37c-.4-.4-.92-.59-1.43-.59-.52 0-1.04.2-1.43.59L10.3 9.45l-7.72 7.72c-.78.78-.78 2.05 0 2.83L4 21.41c.39.39.9.59 1.41.59.51 0 1.02-.2 1.41-.59l7.78-7.78 2.81-2.81c.8-.78.8-2.07 0-2.86zM5.41 20L4 18.59l7.72-7.72 1.47 1.35L5.41 20z\"/>\n",
              "  </svg>\n",
              "      </button>\n",
              "      \n",
              "  <style>\n",
              "    .colab-df-container {\n",
              "      display:flex;\n",
              "      flex-wrap:wrap;\n",
              "      gap: 12px;\n",
              "    }\n",
              "\n",
              "    .colab-df-convert {\n",
              "      background-color: #E8F0FE;\n",
              "      border: none;\n",
              "      border-radius: 50%;\n",
              "      cursor: pointer;\n",
              "      display: none;\n",
              "      fill: #1967D2;\n",
              "      height: 32px;\n",
              "      padding: 0 0 0 0;\n",
              "      width: 32px;\n",
              "    }\n",
              "\n",
              "    .colab-df-convert:hover {\n",
              "      background-color: #E2EBFA;\n",
              "      box-shadow: 0px 1px 2px rgba(60, 64, 67, 0.3), 0px 1px 3px 1px rgba(60, 64, 67, 0.15);\n",
              "      fill: #174EA6;\n",
              "    }\n",
              "\n",
              "    [theme=dark] .colab-df-convert {\n",
              "      background-color: #3B4455;\n",
              "      fill: #D2E3FC;\n",
              "    }\n",
              "\n",
              "    [theme=dark] .colab-df-convert:hover {\n",
              "      background-color: #434B5C;\n",
              "      box-shadow: 0px 1px 3px 1px rgba(0, 0, 0, 0.15);\n",
              "      filter: drop-shadow(0px 1px 2px rgba(0, 0, 0, 0.3));\n",
              "      fill: #FFFFFF;\n",
              "    }\n",
              "  </style>\n",
              "\n",
              "      <script>\n",
              "        const buttonEl =\n",
              "          document.querySelector('#df-8adbac43-53e6-4838-a41a-d4c3cc2c63d0 button.colab-df-convert');\n",
              "        buttonEl.style.display =\n",
              "          google.colab.kernel.accessAllowed ? 'block' : 'none';\n",
              "\n",
              "        async function convertToInteractive(key) {\n",
              "          const element = document.querySelector('#df-8adbac43-53e6-4838-a41a-d4c3cc2c63d0');\n",
              "          const dataTable =\n",
              "            await google.colab.kernel.invokeFunction('convertToInteractive',\n",
              "                                                     [key], {});\n",
              "          if (!dataTable) return;\n",
              "\n",
              "          const docLinkHtml = 'Like what you see? Visit the ' +\n",
              "            '<a target=\"_blank\" href=https://colab.research.google.com/notebooks/data_table.ipynb>data table notebook</a>'\n",
              "            + ' to learn more about interactive tables.';\n",
              "          element.innerHTML = '';\n",
              "          dataTable['output_type'] = 'display_data';\n",
              "          await google.colab.output.renderOutput(dataTable, element);\n",
              "          const docLink = document.createElement('div');\n",
              "          docLink.innerHTML = docLinkHtml;\n",
              "          element.appendChild(docLink);\n",
              "        }\n",
              "      </script>\n",
              "    </div>\n",
              "  </div>\n",
              "  "
            ]
          },
          "metadata": {},
          "execution_count": 12
        }
      ]
    },
    {
      "cell_type": "code",
      "source": [
        "plt.figure(figsize=(20,7))\n",
        "sns.boxplot(data=numeric_df)"
      ],
      "metadata": {
        "colab": {
          "base_uri": "https://localhost:8080/",
          "height": 445
        },
        "id": "BVizEwGRx9oN",
        "outputId": "21112f86-d64c-4542-c704-4266f62cbaf5"
      },
      "execution_count": 13,
      "outputs": [
        {
          "output_type": "execute_result",
          "data": {
            "text/plain": [
              "<matplotlib.axes._subplots.AxesSubplot at 0x7f352bd8b070>"
            ]
          },
          "metadata": {},
          "execution_count": 13
        },
        {
          "output_type": "display_data",
          "data": {
            "text/plain": [
              "<Figure size 1440x504 with 1 Axes>"
            ],
            "image/png": "[encoded data removed]"
          },
          "metadata": {
            "needs_background": "light"
          }
        }
      ]
    },
    {
      "cell_type": "code",
      "source": [
        "from sklearn.preprocessing import StandardScaler\n",
        "scaler = StandardScaler()\n",
        "# transform data\n",
        "numeric_df = pd.DataFrame(scaler.fit_transform(numeric_df),columns=numeric_df.columns)"
      ],
      "metadata": {
        "id": "Gvkwbz6AzQg2"
      },
      "execution_count": 14,
      "outputs": []
    },
    {
      "cell_type": "code",
      "source": [
        "plt.figure(figsize=(20,7))\n",
        "sns.boxplot(data=numeric_df)"
      ],
      "metadata": {
        "colab": {
          "base_uri": "https://localhost:8080/",
          "height": 445
        },
        "id": "TxBI0Z7q3fT7",
        "outputId": "b6e01970-9bb4-4083-f429-71698d3e397d"
      },
      "execution_count": 15,
      "outputs": [
        {
          "output_type": "execute_result",
          "data": {
            "text/plain": [
              "<matplotlib.axes._subplots.AxesSubplot at 0x7f352b6bafa0>"
            ]
          },
          "metadata": {},
          "execution_count": 15
        },
        {
          "output_type": "display_data",
          "data": {
            "text/plain": [
              "<Figure size 1440x504 with 1 Axes>"
            ],
            "image/png": "[encoded data removed]"
          },
          "metadata": {
            "needs_background": "light"
          }
        }
      ]
    },
    {
      "cell_type": "code",
      "source": [
        "df=pd.concat([numeric_df,binary_df], axis=1)"
      ],
      "metadata": {
        "id": "2ZQw4SbM3jrF"
      },
      "execution_count": 16,
      "outputs": []
    },
    {
      "cell_type": "code",
      "source": [
        "df.head()"
      ],
      "metadata": {
        "colab": {
          "base_uri": "https://localhost:8080/",
          "height": 206
        },
        "id": "EwwCFsEK32ar",
        "outputId": "17a11c0d-12b8-4d8f-8930-f960efa78812"
      },
      "execution_count": 17,
      "outputs": [
        {
          "output_type": "execute_result",
          "data": {
            "text/plain": [
              "   AccountWeeks   DayMins  DayCalls  OverageFee  RoamMins  DataUsage  \\\n",
              "0      0.676489  1.566767  0.476643   -0.071584 -0.085008   1.480204   \n",
              "1      0.149065 -0.333738  1.124503   -0.107082  1.240482   2.266072   \n",
              "2      0.902529  1.168304  0.675985   -1.574346  0.703121  -0.641642   \n",
              "3     -0.428590  2.196596 -1.466936   -2.741846 -1.303026  -0.641642   \n",
              "4     -0.654629 -0.240090  0.626149   -1.037927 -0.049184  -0.641642   \n",
              "\n",
              "   MonthlyCharge  CustServCalls  DataPlan  Churn  ContractRenewal  \n",
              "0       1.990727      -0.427932         1      0                1  \n",
              "1       1.564510      -0.427932         1      0                1  \n",
              "2      -0.262133      -1.188218         0      0                1  \n",
              "3       0.042307       0.332354         0      0                0  \n",
              "4      -0.931902       1.092641         0      0                0  "
            ],
            "text/html": [
              "\n",
              "  <div id=\"df-5825c66e-5d78-4ef6-939d-15ffc8fe7937\">\n",
              "    <div class=\"colab-df-container\">\n",
              "      <div>\n",
              "<style scoped>\n",
              "    .dataframe tbody tr th:only-of-type {\n",
              "        vertical-align: middle;\n",
              "    }\n",
              "\n",
              "    .dataframe tbody tr th {\n",
              "        vertical-align: top;\n",
              "    }\n",
              "\n",
              "    .dataframe thead th {\n",
              "        text-align: right;\n",
              "    }\n",
              "</style>\n",
              "<table border=\"1\" class=\"dataframe\">\n",
              "  <thead>\n",
              "    <tr style=\"text-align: right;\">\n",
              "      <th></th>\n",
              "      <th>AccountWeeks</th>\n",
              "      <th>DayMins</th>\n",
              "      <th>DayCalls</th>\n",
              "      <th>OverageFee</th>\n",
              "      <th>RoamMins</th>\n",
              "      <th>DataUsage</th>\n",
              "      <th>MonthlyCharge</th>\n",
              "      <th>CustServCalls</th>\n",
              "      <th>DataPlan</th>\n",
              "      <th>Churn</th>\n",
              "      <th>ContractRenewal</th>\n",
              "    </tr>\n",
              "  </thead>\n",
              "  <tbody>\n",
              "    <tr>\n",
              "      <th>0</th>\n",
              "      <td>0.676489</td>\n",
              "      <td>1.566767</td>\n",
              "      <td>0.476643</td>\n",
              "      <td>-0.071584</td>\n",
              "      <td>-0.085008</td>\n",
              "      <td>1.480204</td>\n",
              "      <td>1.990727</td>\n",
              "      <td>-0.427932</td>\n",
              "      <td>1</td>\n",
              "      <td>0</td>\n",
              "      <td>1</td>\n",
              "    </tr>\n",
              "    <tr>\n",
              "      <th>1</th>\n",
              "      <td>0.149065</td>\n",
              "      <td>-0.333738</td>\n",
              "      <td>1.124503</td>\n",
              "      <td>-0.107082</td>\n",
              "      <td>1.240482</td>\n",
              "      <td>2.266072</td>\n",
              "      <td>1.564510</td>\n",
              "      <td>-0.427932</td>\n",
              "      <td>1</td>\n",
              "      <td>0</td>\n",
              "      <td>1</td>\n",
              "    </tr>\n",
              "    <tr>\n",
              "      <th>2</th>\n",
              "      <td>0.902529</td>\n",
              "      <td>1.168304</td>\n",
              "      <td>0.675985</td>\n",
              "      <td>-1.574346</td>\n",
              "      <td>0.703121</td>\n",
              "      <td>-0.641642</td>\n",
              "      <td>-0.262133</td>\n",
              "      <td>-1.188218</td>\n",
              "      <td>0</td>\n",
              "      <td>0</td>\n",
              "      <td>1</td>\n",
              "    </tr>\n",
              "    <tr>\n",
              "      <th>3</th>\n",
              "      <td>-0.428590</td>\n",
              "      <td>2.196596</td>\n",
              "      <td>-1.466936</td>\n",
              "      <td>-2.741846</td>\n",
              "      <td>-1.303026</td>\n",
              "      <td>-0.641642</td>\n",
              "      <td>0.042307</td>\n",
              "      <td>0.332354</td>\n",
              "      <td>0</td>\n",
              "      <td>0</td>\n",
              "      <td>0</td>\n",
              "    </tr>\n",
              "    <tr>\n",
              "      <th>4</th>\n",
              "      <td>-0.654629</td>\n",
              "      <td>-0.240090</td>\n",
              "      <td>0.626149</td>\n",
              "      <td>-1.037927</td>\n",
              "      <td>-0.049184</td>\n",
              "      <td>-0.641642</td>\n",
              "      <td>-0.931902</td>\n",
              "      <td>1.092641</td>\n",
              "      <td>0</td>\n",
              "      <td>0</td>\n",
              "      <td>0</td>\n",
              "    </tr>\n",
              "  </tbody>\n",
              "</table>\n",
              "</div>\n",
              "      <button class=\"colab-df-convert\" onclick=\"convertToInteractive('df-5825c66e-5d78-4ef6-939d-15ffc8fe7937')\"\n",
              "              title=\"Convert this dataframe to an interactive table.\"\n",
              "              style=\"display:none;\">\n",
              "        \n",
              "  <svg xmlns=\"http://www.w3.org/2000/svg\" height=\"24px\"viewBox=\"0 0 24 24\"\n",
              "       width=\"24px\">\n",
              "    <path d=\"M0 0h24v24H0V0z\" fill=\"none\"/>\n",
              "    <path d=\"M18.56 5.44l.94 2.06.94-2.06 2.06-.94-2.06-.94-.94-2.06-.94 2.06-2.06.94zm-11 1L8.5 8.5l.94-2.06 2.06-.94-2.06-.94L8.5 2.5l-.94 2.06-2.06.94zm10 10l.94 2.06.94-2.06 2.06-.94-2.06-.94-.94-2.06-.94 2.06-2.06.94z\"/><path d=\"M17.41 7.96l-1.37-1.37c-.4-.4-.92-.59-1.43-.59-.52 0-1.04.2-1.43.59L10.3 9.45l-7.72 7.72c-.78.78-.78 2.05 0 2.83L4 21.41c.39.39.9.59 1.41.59.51 0 1.02-.2 1.41-.59l7.78-7.78 2.81-2.81c.8-.78.8-2.07 0-2.86zM5.41 20L4 18.59l7.72-7.72 1.47 1.35L5.41 20z\"/>\n",
              "  </svg>\n",
              "      </button>\n",
              "      \n",
              "  <style>\n",
              "    .colab-df-container {\n",
              "      display:flex;\n",
              "      flex-wrap:wrap;\n",
              "      gap: 12px;\n",
              "    }\n",
              "\n",
              "    .colab-df-convert {\n",
              "      background-color: #E8F0FE;\n",
              "      border: none;\n",
              "      border-radius: 50%;\n",
              "      cursor: pointer;\n",
              "      display: none;\n",
              "      fill: #1967D2;\n",
              "      height: 32px;\n",
              "      padding: 0 0 0 0;\n",
              "      width: 32px;\n",
              "    }\n",
              "\n",
              "    .colab-df-convert:hover {\n",
              "      background-color: #E2EBFA;\n",
              "      box-shadow: 0px 1px 2px rgba(60, 64, 67, 0.3), 0px 1px 3px 1px rgba(60, 64, 67, 0.15);\n",
              "      fill: #174EA6;\n",
              "    }\n",
              "\n",
              "    [theme=dark] .colab-df-convert {\n",
              "      background-color: #3B4455;\n",
              "      fill: #D2E3FC;\n",
              "    }\n",
              "\n",
              "    [theme=dark] .colab-df-convert:hover {\n",
              "      background-color: #434B5C;\n",
              "      box-shadow: 0px 1px 3px 1px rgba(0, 0, 0, 0.15);\n",
              "      filter: drop-shadow(0px 1px 2px rgba(0, 0, 0, 0.3));\n",
              "      fill: #FFFFFF;\n",
              "    }\n",
              "  </style>\n",
              "\n",
              "      <script>\n",
              "        const buttonEl =\n",
              "          document.querySelector('#df-5825c66e-5d78-4ef6-939d-15ffc8fe7937 button.colab-df-convert');\n",
              "        buttonEl.style.display =\n",
              "          google.colab.kernel.accessAllowed ? 'block' : 'none';\n",
              "\n",
              "        async function convertToInteractive(key) {\n",
              "          const element = document.querySelector('#df-5825c66e-5d78-4ef6-939d-15ffc8fe7937');\n",
              "          const dataTable =\n",
              "            await google.colab.kernel.invokeFunction('convertToInteractive',\n",
              "                                                     [key], {});\n",
              "          if (!dataTable) return;\n",
              "\n",
              "          const docLinkHtml = 'Like what you see? Visit the ' +\n",
              "            '<a target=\"_blank\" href=https://colab.research.google.com/notebooks/data_table.ipynb>data table notebook</a>'\n",
              "            + ' to learn more about interactive tables.';\n",
              "          element.innerHTML = '';\n",
              "          dataTable['output_type'] = 'display_data';\n",
              "          await google.colab.output.renderOutput(dataTable, element);\n",
              "          const docLink = document.createElement('div');\n",
              "          docLink.innerHTML = docLinkHtml;\n",
              "          element.appendChild(docLink);\n",
              "        }\n",
              "      </script>\n",
              "    </div>\n",
              "  </div>\n",
              "  "
            ]
          },
          "metadata": {},
          "execution_count": 17
        }
      ]
    },
    {
      "cell_type": "code",
      "source": [
        "#Pearson's Correlation methord\n",
        "corr = df.corr(method='pearson')"
      ],
      "metadata": {
        "id": "JfXXyIsi41lF"
      },
      "execution_count": 18,
      "outputs": []
    },
    {
      "cell_type": "code",
      "source": [
        "fig, ax = plt.subplots(figsize=(10,10))\n",
        "sns.heatmap(corr,xticklabels=df.columns,yticklabels=df.columns,annot=True,ax=ax)"
      ],
      "metadata": {
        "colab": {
          "base_uri": "https://localhost:8080/",
          "height": 687
        },
        "id": "t8xzzklo558P",
        "outputId": "00b67986-f380-4041-8272-f2df9df2b51d"
      },
      "execution_count": 19,
      "outputs": [
        {
          "output_type": "execute_result",
          "data": {
            "text/plain": [
              "<matplotlib.axes._subplots.AxesSubplot at 0x7f352b490eb0>"
            ]
          },
          "metadata": {},
          "execution_count": 19
        },
        {
          "output_type": "display_data",
          "data": {
            "text/plain": [
              "<Figure size 720x720 with 2 Axes>"
            ],
            "image/png": "[encoded data removed]"
          },
          "metadata": {
            "needs_background": "light"
          }
        }
      ]
    },
    {
      "cell_type": "markdown",
      "source": [
        "We can conclude that ContractactRenewal, CustServCalls, DataPlan, DataUsage and DayMins are fairly related. Values of correlation are supposed be in range from +1 and -1, with values close to +1 to show strong (+)ve correlation and values close to -1 to show strong (-)ve correlation and 0 if absolutly no relation. We also observe very strong Multicollinearity between features, DataPlans and DataUsage as well as MonthlyCharges with DataPlan and DataUsage. hence we shall calculate Variance Inflation Factor (VIF)"
      ],
      "metadata": {
        "id": "EawkxB6u8dDL"
      }
    },
    {
      "cell_type": "code",
      "source": [
        "from statsmodels.stats.outliers_influence import variance_inflation_factor\n",
        "  \n",
        "\n",
        "# VIF dataframe\n",
        "vif_data = pd.DataFrame()\n",
        "vif_data[\"feature\"] = df.columns\n",
        "  \n",
        "# calculating VIF for each feature\n",
        "vif_data[\"VIF\"] = [variance_inflation_factor(df.values, j)\n",
        "                          for j in range(len(df.columns))]\n",
        "  \n",
        "print(vif_data)"
      ],
      "metadata": {
        "colab": {
          "base_uri": "https://localhost:8080/"
        },
        "id": "V03289f75-tm",
        "outputId": "fa3feeba-c78e-4851-bad1-ad784b66d3bd"
      },
      "execution_count": 20,
      "outputs": [
        {
          "output_type": "stream",
          "name": "stdout",
          "text": [
            "            feature          VIF\n",
            "0      AccountWeeks     1.002924\n",
            "1           DayMins  1031.417153\n",
            "2          DayCalls     1.003347\n",
            "3        OverageFee   224.627101\n",
            "4          RoamMins     1.261471\n",
            "5         DataUsage  1963.147209\n",
            "6     MonthlyCharge  3242.933148\n",
            "7     CustServCalls     1.049729\n",
            "8          DataPlan    12.464419\n",
            "9             Churn     1.265908\n",
            "10  ContractRenewal     4.017902\n"
          ]
        }
      ]
    },
    {
      "cell_type": "markdown",
      "source": [
        "Here we calculate the variance inflation factor (VIF). We observe DayMins, OverageFee, DataUsage, MonthlyCharge features have fairly high VIF values\n",
        "\n",
        "The permisabe range for VIF is less than 5 or 10 based on the problem."
      ],
      "metadata": {
        "id": "BxCtQSMR9EtJ"
      }
    },
    {
      "cell_type": "code",
      "source": [
        "def correlation(dataset, threshold):\n",
        "  col_corr = set ()\n",
        "  corr_matrix = dataset.corr()\n",
        "  for i in range(len(corr_matrix.columns)):\n",
        "    for j in range(i):\n",
        "      if abs(corr_matrix.iloc[i, j]) > threshold:\n",
        "        colname = corr_matrix.columns [i] # getting the name of column\n",
        "        col_corr.add(colname)\n",
        "  print(col_corr)\n",
        "  return col_corr\n",
        "col_corr=correlation(df,0.7)"
      ],
      "metadata": {
        "colab": {
          "base_uri": "https://localhost:8080/"
        },
        "id": "_S0tMQs79Dtq",
        "outputId": "fe99f2ca-790f-4317-c9a1-42d3af8cd43b"
      },
      "execution_count": 21,
      "outputs": [
        {
          "output_type": "stream",
          "name": "stdout",
          "text": [
            "{'MonthlyCharge', 'DataPlan'}\n"
          ]
        }
      ]
    },
    {
      "cell_type": "markdown",
      "source": [
        "In this code snipet we get name of feature which show high collinearity based on the threshold we set\n",
        "\n",
        "I've set the threshold to 0.7  "
      ],
      "metadata": {
        "id": "i1I1lkTn9pFP"
      }
    },
    {
      "cell_type": "code",
      "source": [
        "columns=[]\n",
        "columns= col_corr\n",
        "df.drop(columns, inplace=True, axis=1)"
      ],
      "metadata": {
        "id": "VhEFujSS9oD6"
      },
      "execution_count": 22,
      "outputs": []
    },
    {
      "cell_type": "markdown",
      "source": [
        "This code simply finds all the features which has values of Collinearity greater than the threshold( recommended value for threshold is greater than 0.7 based on problem) subsequentily we drop these features off the data frame."
      ],
      "metadata": {
        "id": "skSJo-wZ-OPr"
      }
    },
    {
      "cell_type": "code",
      "source": [
        "from statsmodels.stats.outliers_influence import variance_inflation_factor\n",
        "\n",
        "  \n",
        "# VIF dataframe\n",
        "vif_data = pd.DataFrame()\n",
        "vif_data[\"feature\"] = df.columns\n",
        "  \n",
        "# calculating VIF for each feature\n",
        "vif_data[\"VIF\"] = [variance_inflation_factor(df.values, i)\n",
        "                          for i in range(len(df.columns))]\n",
        "  \n",
        "print(vif_data)"
      ],
      "metadata": {
        "colab": {
          "base_uri": "https://localhost:8080/"
        },
        "id": "bCiBCBjt-N56",
        "outputId": "cbff6d32-5907-4b30-ec06-ca3f67277919"
      },
      "execution_count": 23,
      "outputs": [
        {
          "output_type": "stream",
          "name": "stdout",
          "text": [
            "           feature       VIF\n",
            "0     AccountWeeks  1.002247\n",
            "1          DayMins  1.047983\n",
            "2         DayCalls  1.003339\n",
            "3       OverageFee  1.011622\n",
            "4         RoamMins  1.037449\n",
            "5        DataUsage  1.038619\n",
            "6    CustServCalls  1.047095\n",
            "7            Churn  1.218456\n",
            "8  ContractRenewal  1.103001\n"
          ]
        }
      ]
    },
    {
      "cell_type": "markdown",
      "source": [
        "Here we simply recalculate the VIF values again. As we can see here on drop of features MonthlyCharges and DataPlan the VIF score of most of the features has reduced down to less than 5. which is still acceptable."
      ],
      "metadata": {
        "id": "mGev9ZrU-5xZ"
      }
    },
    {
      "cell_type": "code",
      "source": [
        "#Using OLS for finding the p value to check the significant features\n",
        "import statsmodels.api as sm\n",
        "model = sm.OLS(df['Churn'], df[['DayMins', 'DayCalls','AccountWeeks','OverageFee','RoamMins','DataUsage','CustServCalls','ContractRenewal']]).fit()\n",
        "\n",
        "# Print out the statistics\n",
        "model.summary()"
      ],
      "metadata": {
        "colab": {
          "base_uri": "https://localhost:8080/",
          "height": 597
        },
        "id": "t53Vdi84-7Sw",
        "outputId": "1f674d21-9bad-4562-967d-8d71813f8ecc"
      },
      "execution_count": 24,
      "outputs": [
        {
          "output_type": "execute_result",
          "data": {
            "text/plain": [
              "<class 'statsmodels.iolib.summary.Summary'>\n",
              "\"\"\"\n",
              "                                 OLS Regression Results                                \n",
              "=======================================================================================\n",
              "Dep. Variable:                  Churn   R-squared (uncentered):                   0.179\n",
              "Model:                            OLS   Adj. R-squared (uncentered):              0.177\n",
              "Method:                 Least Squares   F-statistic:                              90.80\n",
              "Date:                Thu, 15 Dec 2022   Prob (F-statistic):                   9.79e-137\n",
              "Time:                        18:56:08   Log-Likelihood:                         -1181.0\n",
              "No. Observations:                3333   AIC:                                      2378.\n",
              "Df Residuals:                    3325   BIC:                                      2427.\n",
              "Df Model:                           8                                                  \n",
              "Covariance Type:            nonrobust                                                  \n",
              "===================================================================================\n",
              "                      coef    std err          t      P>|t|      [0.025      0.975]\n",
              "-----------------------------------------------------------------------------------\n",
              "DayMins             0.0750      0.006     12.538      0.000       0.063       0.087\n",
              "DayCalls            0.0070      0.006      1.173      0.241      -0.005       0.019\n",
              "AccountWeeks        0.0066      0.006      1.109      0.267      -0.005       0.018\n",
              "OverageFee          0.0350      0.006      5.848      0.000       0.023       0.047\n",
              "RoamMins            0.0329      0.006      5.424      0.000       0.021       0.045\n",
              "DataUsage          -0.0347      0.006     -5.729      0.000      -0.047      -0.023\n",
              "CustServCalls       0.0738      0.006     12.335      0.000       0.062       0.086\n",
              "ContractRenewal     0.1161      0.006     18.447      0.000       0.104       0.128\n",
              "==============================================================================\n",
              "Omnibus:                      985.852   Durbin-Watson:                   1.957\n",
              "Prob(Omnibus):                  0.000   Jarque-Bera (JB):             2174.496\n",
              "Skew:                           1.735   Prob(JB):                         0.00\n",
              "Kurtosis:                       4.903   Cond. No.                         1.19\n",
              "==============================================================================\n",
              "\n",
              "Notes:\n",
              "[1] R² is computed without centering (uncentered) since the model does not contain a constant.\n",
              "[2] Standard Errors assume that the covariance matrix of the errors is correctly specified.\n",
              "\"\"\""
            ],
            "text/html": [
              "<table class=\"simpletable\">\n",
              "<caption>OLS Regression Results</caption>\n",
              "<tr>\n",
              "  <th>Dep. Variable:</th>          <td>Churn</td>      <th>  R-squared (uncentered):</th>      <td>   0.179</td> \n",
              "</tr>\n",
              "<tr>\n",
              "  <th>Model:</th>                   <td>OLS</td>       <th>  Adj. R-squared (uncentered):</th> <td>   0.177</td> \n",
              "</tr>\n",
              "<tr>\n",
              "  <th>Method:</th>             <td>Least Squares</td>  <th>  F-statistic:       </th>          <td>   90.80</td> \n",
              "</tr>\n",
              "<tr>\n",
              "  <th>Date:</th>             <td>Thu, 15 Dec 2022</td> <th>  Prob (F-statistic):</th>          <td>9.79e-137</td>\n",
              "</tr>\n",
              "<tr>\n",
              "  <th>Time:</th>                 <td>18:56:08</td>     <th>  Log-Likelihood:    </th>          <td> -1181.0</td> \n",
              "</tr>\n",
              "<tr>\n",
              "  <th>No. Observations:</th>      <td>  3333</td>      <th>  AIC:               </th>          <td>   2378.</td> \n",
              "</tr>\n",
              "<tr>\n",
              "  <th>Df Residuals:</th>          <td>  3325</td>      <th>  BIC:               </th>          <td>   2427.</td> \n",
              "</tr>\n",
              "<tr>\n",
              "  <th>Df Model:</th>              <td>     8</td>      <th>                     </th>              <td> </td>    \n",
              "</tr>\n",
              "<tr>\n",
              "  <th>Covariance Type:</th>      <td>nonrobust</td>    <th>                     </th>              <td> </td>    \n",
              "</tr>\n",
              "</table>\n",
              "<table class=\"simpletable\">\n",
              "<tr>\n",
              "         <td></td>            <th>coef</th>     <th>std err</th>      <th>t</th>      <th>P>|t|</th>  <th>[0.025</th>    <th>0.975]</th>  \n",
              "</tr>\n",
              "<tr>\n",
              "  <th>DayMins</th>         <td>    0.0750</td> <td>    0.006</td> <td>   12.538</td> <td> 0.000</td> <td>    0.063</td> <td>    0.087</td>\n",
              "</tr>\n",
              "<tr>\n",
              "  <th>DayCalls</th>        <td>    0.0070</td> <td>    0.006</td> <td>    1.173</td> <td> 0.241</td> <td>   -0.005</td> <td>    0.019</td>\n",
              "</tr>\n",
              "<tr>\n",
              "  <th>AccountWeeks</th>    <td>    0.0066</td> <td>    0.006</td> <td>    1.109</td> <td> 0.267</td> <td>   -0.005</td> <td>    0.018</td>\n",
              "</tr>\n",
              "<tr>\n",
              "  <th>OverageFee</th>      <td>    0.0350</td> <td>    0.006</td> <td>    5.848</td> <td> 0.000</td> <td>    0.023</td> <td>    0.047</td>\n",
              "</tr>\n",
              "<tr>\n",
              "  <th>RoamMins</th>        <td>    0.0329</td> <td>    0.006</td> <td>    5.424</td> <td> 0.000</td> <td>    0.021</td> <td>    0.045</td>\n",
              "</tr>\n",
              "<tr>\n",
              "  <th>DataUsage</th>       <td>   -0.0347</td> <td>    0.006</td> <td>   -5.729</td> <td> 0.000</td> <td>   -0.047</td> <td>   -0.023</td>\n",
              "</tr>\n",
              "<tr>\n",
              "  <th>CustServCalls</th>   <td>    0.0738</td> <td>    0.006</td> <td>   12.335</td> <td> 0.000</td> <td>    0.062</td> <td>    0.086</td>\n",
              "</tr>\n",
              "<tr>\n",
              "  <th>ContractRenewal</th> <td>    0.1161</td> <td>    0.006</td> <td>   18.447</td> <td> 0.000</td> <td>    0.104</td> <td>    0.128</td>\n",
              "</tr>\n",
              "</table>\n",
              "<table class=\"simpletable\">\n",
              "<tr>\n",
              "  <th>Omnibus:</th>       <td>985.852</td> <th>  Durbin-Watson:     </th> <td>   1.957</td>\n",
              "</tr>\n",
              "<tr>\n",
              "  <th>Prob(Omnibus):</th> <td> 0.000</td>  <th>  Jarque-Bera (JB):  </th> <td>2174.496</td>\n",
              "</tr>\n",
              "<tr>\n",
              "  <th>Skew:</th>          <td> 1.735</td>  <th>  Prob(JB):          </th> <td>    0.00</td>\n",
              "</tr>\n",
              "<tr>\n",
              "  <th>Kurtosis:</th>      <td> 4.903</td>  <th>  Cond. No.          </th> <td>    1.19</td>\n",
              "</tr>\n",
              "</table><br/><br/>Notes:<br/>[1] R² is computed without centering (uncentered) since the model does not contain a constant.<br/>[2] Standard Errors assume that the covariance matrix of the errors is correctly specified."
            ]
          },
          "metadata": {},
          "execution_count": 24
        }
      ]
    },
    {
      "cell_type": "markdown",
      "source": [
        "*   A p-value measures the probability of obtaining the observed results,assuming that the null hypothesis is true.\n",
        "*   A p-value of 0.05 or lower is generally considered statistically significant.\n",
        "\n",
        "\n",
        "DayCalls, AccountWeeks have P value greater than 0.05 they can be considered non-sigificant.\n",
        "\n",
        "\n",
        "For More details on P values \n",
        "*   https://www.investopedia.com/terms/p/p-value.asp\n",
        "*   https://youtu.be/zII6KLR4Lb4\n"
      ],
      "metadata": {
        "id": "u1qspSztAzRo"
      }
    },
    {
      "cell_type": "code",
      "source": [
        "# NullValue Setter function\n",
        "def nullfiller(df,per):\n",
        "\n",
        "  # get dimensions of df\n",
        "  nrows, ncols = len(df.index), len(df.columns)          \n",
        "\n",
        "  volume = nrows * ncols                    # total number of entries in df\n",
        "  volume_to_be_nan = int(volume * per)      # number of entries to turn to NaN as per percentage\n",
        "\n",
        "  # randomly generate index locations for the new NaNs\n",
        "  indices = np.random.randint(volume, size=volume_to_be_nan)\n",
        "  row_indices = indices % nrows\n",
        "  col_indices = (indices / nrows).astype(int)\n",
        "\n",
        "  # assign NaN to each of the indices in df\n",
        "  for ri, ci in zip(row_indices, col_indices):\n",
        "    df.iloc[ri, ci] = np.nan"
      ],
      "metadata": {
        "id": "XEWPh07SAxnz"
      },
      "execution_count": 25,
      "outputs": []
    },
    {
      "cell_type": "markdown",
      "source": [
        "**NaN** Filler this code snippet intruduces **NaN** values randomly through the data, based percentage of NaNs we want in the data"
      ],
      "metadata": {
        "id": "rBbILgoJCL3l"
      }
    },
    {
      "cell_type": "code",
      "source": [
        "# KNN Imputer\n",
        "import numpy as np\n",
        "from sklearn.impute import KNNImputer\n",
        "\n",
        "def KNNImp(changed_Numeric):\n",
        "  imputer = KNNImputer(n_neighbors=2, weights=\"uniform\")\n",
        "  k=imputer.fit_transform(changed_Numeric)\n",
        "  k=pd.DataFrame(k)\n",
        "  k.columns=changed_Numeric.columns\n",
        "  k.index=changed_Numeric.index\n",
        "  k=pd.DataFrame(k)\n",
        "  return k"
      ],
      "metadata": {
        "id": "ER_w8yjXCLRD"
      },
      "execution_count": 26,
      "outputs": []
    },
    {
      "cell_type": "markdown",
      "metadata": {
        "id": "WMqZeIaXDzAf"
      },
      "source": [
        "#  Imputation"
      ]
    },
    {
      "cell_type": "code",
      "execution_count": 27,
      "metadata": {
        "id": "qVzinzLlyFKL"
      },
      "outputs": [],
      "source": [
        "# NullValue Setter function\n",
        "def nullfiller(df,per):\n",
        "\n",
        "  # get dimensions of df\n",
        "  nrows, ncols = len(df.index), len(df.columns)          \n",
        "\n",
        "  volume = nrows * ncols                    # total number of entries in df\n",
        "  volume_to_be_nan = int(volume * per)      # number of entries to turn to NaN as per percentage\n",
        "\n",
        "  # randomly generate index locations for the new NaNs\n",
        "  indices = np.random.randint(volume, size=volume_to_be_nan)\n",
        "  row_indices = indices % nrows\n",
        "  col_indices = (indices / nrows).astype(int)\n",
        "\n",
        "  # assign NaN to each of the indices in df\n",
        "  for ri, ci in zip(row_indices, col_indices):\n",
        "    df.iloc[ri, ci] = np.nan"
      ]
    },
    {
      "cell_type": "markdown",
      "metadata": {
        "id": "QCLDuHNS_bI1"
      },
      "source": [
        "**NaN Filler**\n",
        "this code snippet intruduces NaN values randomly through the data, based percentage of NaNs we want in the data "
      ]
    },
    {
      "cell_type": "code",
      "execution_count": 28,
      "metadata": {
        "id": "p7HZUJRnGAxt"
      },
      "outputs": [],
      "source": [
        "# KNN Imputer\n",
        "import numpy as np\n",
        "from sklearn.impute import KNNImputer\n",
        "\n",
        "def KNNImp(changed_Numeric):\n",
        "  imputer = KNNImputer(n_neighbors=2, weights=\"uniform\")\n",
        "  k=imputer.fit_transform(changed_Numeric)\n",
        "  k=pd.DataFrame(k)\n",
        "  k.columns=changed_Numeric.columns\n",
        "  k.index=changed_Numeric.index\n",
        "  k=pd.DataFrame(k)\n",
        "  return k"
      ]
    },
    {
      "cell_type": "markdown",
      "metadata": {
        "id": "WCKq50TlBmxq"
      },
      "source": [
        "KNNimputer is a scikit-learn class used to fill out or predict the missing values in a dataset. It is a more useful method which works on the basic approach of the KNN algorithm rather than the naive approach of filling all the values with mean or the median. In this approach, we specify a distance from the missing values which is also known as the K parameter. The missing value will be predicted in reference to the mean of the neighbours.\n",
        "\n",
        "More on it -\n",
        "* https://www.geeksforgeeks.org/python-imputation-using-the-knnimputer/\n",
        "* https://scikit-learn.org/stable/modules/generated/sklearn.impute.KNNImputer.html\n",
        "\n"
      ]
    },
    {
      "cell_type": "code",
      "execution_count": 29,
      "metadata": {
        "id": "mR1p3GpEWDWa"
      },
      "outputs": [],
      "source": [
        "# Simple Imputer\n",
        "import numpy as np\n",
        "from sklearn.impute import SimpleImputer\n",
        "def SimpleImp(changed_Numeric):\n",
        "  imp = SimpleImputer(missing_values=np.nan, strategy='mean')\n",
        "  imp.fit(changed_Numeric)\n",
        "  c=imp.transform(changed_Numeric)\n",
        "  c=pd.DataFrame(c)\n",
        "  c.columns=changed_Numeric.columns\n",
        "  c.index=changed_Numeric.index\n",
        "  return c\n"
      ]
    },
    {
      "cell_type": "markdown",
      "metadata": {
        "id": "CyJ_t_UlBUiT"
      },
      "source": [
        "The SimpleImputer class provides basic strategies for imputing missing values. Missing values can be imputed with a provided constant value, or using the statistics (mean, median or most frequent) of each column in which the missing values are located. \n",
        "\n",
        "More on it -\n",
        "*   https://scikit-learn.org/stable/modules/generated/sklearn.impute.SimpleImputer.html\n",
        "*   https://www.geeksforgeeks.org/ml-handle-missing-data-with-simple-imputer/\n",
        "\n"
      ]
    },
    {
      "cell_type": "code",
      "execution_count": 30,
      "metadata": {
        "id": "U40drKW-YMUT"
      },
      "outputs": [],
      "source": [
        "# Iterative Imputer\n",
        "import numpy as np\n",
        "from sklearn.experimental import enable_iterative_imputer\n",
        "from sklearn.impute import IterativeImputer\n",
        "def IterImp(changed_Numeric):\n",
        "  imp = IterativeImputer(max_iter=10, random_state=0)\n",
        "  imp.fit(changed_Numeric)\n",
        "  IterativeImputer(random_state=0)\n",
        "  f= pd.DataFrame(np.round(imp.transform(changed_Numeric)))\n",
        "  f.columns=changed_Numeric.columns\n",
        "  f.index=changed_Numeric.index\n",
        "  return f"
      ]
    },
    {
      "cell_type": "markdown",
      "metadata": {
        "id": "hbaxX2M5DU2Q"
      },
      "source": [
        "A strategy for imputing missing values by modeling each feature with missing values as a function of other features in a round-robin fashion.\n",
        "\n",
        "*   https://scikit-learn.org/stable/modules/generated/sklearn.impute.IterativeImputer.html\n",
        "*   https://towardsdatascience.com/iterative-imputation-with-scikit-learn-8f3eb22b1a38\n",
        "\n"
      ]
    },
    {
      "cell_type": "code",
      "execution_count": 31,
      "metadata": {
        "id": "yQtT_0XlhNj1"
      },
      "outputs": [],
      "source": [
        "from sklearn.metrics import mean_absolute_percentage_error\n",
        "from sklearn.metrics import mean_squared_error\n",
        "\n",
        "\n",
        "\n",
        "def mape(actual,pred,mae,mse):\n",
        "  errormae=[]\n",
        "  errormse=[]\n",
        "  for i in k.columns:\n",
        "    z=mean_absolute_percentage_error(actual[i],pred[i])*100\n",
        "    g=mean_squared_error(actual[i],pred[i])*100\n",
        "    errormae.append(z)\n",
        "    errormse.append(g)\n",
        "    \n",
        "  error_tenper[mae]=errormae\n",
        "  error_tenper[mse]=errormse\n",
        "\n",
        "  error_tenper.index=actual.columns\n",
        "  return error_tenper\n",
        "    #return np.mean(np.abs((actual - pred) / actual)) * 100\n",
        "\n"
      ]
    },
    {
      "cell_type": "markdown",
      "metadata": {
        "id": "z1-RVXdOD3vc"
      },
      "source": [
        "maps function calculates mean square error and mean absolute error"
      ]
    },
    {
      "cell_type": "code",
      "execution_count": 32,
      "metadata": {
        "id": "VXh__qo8GdZ2"
      },
      "outputs": [],
      "source": [
        "df4=df.copy()\n",
        "original_Numeric = df4.drop([\"Churn\"], axis=1)\n",
        "original_Cat = df4[[\"Churn\"]]\n",
        "nullfiller(df4,0.1)\n",
        "changed_Numeric = df4.drop([\"Churn\"], axis=1)\n",
        "changed_Cat = df4[[\"Churn\"]]"
      ]
    },
    {
      "cell_type": "markdown",
      "metadata": {
        "id": "hiQREsovEOkI"
      },
      "source": [
        "We create original cat(catagorical Data) and numeric(Numeric Data) DataFrames to retain original values and fill 10% of NaN values now changed Numeric(Numeric Data) and Cat(catagorical Data) with NaN values."
      ]
    },
    {
      "cell_type": "code",
      "execution_count": 33,
      "metadata": {
        "id": "GpekcMAMX9b0"
      },
      "outputs": [],
      "source": [
        "def vari(a,m):\n",
        "  var=np.var(a)\n",
        "  sse= np.mean((np.mean(a) - original_Numeric)** 2)\n",
        "  bias = sse - var\n",
        "  print(m)\n",
        "  print(\"*********************varience***********************\"+\"\\n\")\n",
        "  print(var)\n",
        "  print(\"#################################################################\")\n",
        "\n",
        "  print(\"*********************Simple Square error***********************\"+\"\\n\")\n",
        "  print(sse)\n",
        "  print(\"#################################################################\")\n",
        "\n",
        "  print(\"*********************bias***********************\"+\"\\n\")\n",
        "  print(bias)\n",
        "  print(\"#################################################################\")\n",
        "\n"
      ]
    },
    {
      "cell_type": "markdown",
      "metadata": {
        "id": "9TLpR0i0Fjd5"
      },
      "source": [
        "function vari calulates Varience, Simple error and Bias"
      ]
    },
    {
      "cell_type": "code",
      "execution_count": 34,
      "metadata": {
        "id": "ZUNP5wfcmdMR"
      },
      "outputs": [],
      "source": [
        "error_tenper=pd.DataFrame()"
      ]
    },
    {
      "cell_type": "code",
      "execution_count": 35,
      "metadata": {
        "colab": {
          "base_uri": "https://localhost:8080/",
          "height": 300
        },
        "id": "rck_-4gc3ju3",
        "outputId": "9e5d5182-50e5-4d10-b473-8b8cd1d4a743"
      },
      "outputs": [
        {
          "output_type": "execute_result",
          "data": {
            "text/plain": [
              "                 KNNImputer mean absolute error percentage  \\\n",
              "AccountWeeks                                  1.201515e+02   \n",
              "DayMins                                       1.886364e+01   \n",
              "DayCalls                                      2.367046e+01   \n",
              "OverageFee                                    5.092583e+01   \n",
              "RoamMins                                      2.793536e+01   \n",
              "DataUsage                                     1.063709e+01   \n",
              "CustServCalls                                 1.390063e+01   \n",
              "ContractRenewal                               3.648281e+15   \n",
              "\n",
              "                 KNNImputer mean square error percentage  \n",
              "AccountWeeks                                   13.588422  \n",
              "DayMins                                        12.827238  \n",
              "DayCalls                                       13.840332  \n",
              "OverageFee                                     13.057203  \n",
              "RoamMins                                       11.805849  \n",
              "DataUsage                                      13.605815  \n",
              "CustServCalls                                  15.344042  \n",
              "ContractRenewal                                 1.125113  "
            ],
            "text/html": [
              "\n",
              "  <div id=\"df-21683807-7d1b-465e-9477-c6e89c40603a\">\n",
              "    <div class=\"colab-df-container\">\n",
              "      <div>\n",
              "<style scoped>\n",
              "    .dataframe tbody tr th:only-of-type {\n",
              "        vertical-align: middle;\n",
              "    }\n",
              "\n",
              "    .dataframe tbody tr th {\n",
              "        vertical-align: top;\n",
              "    }\n",
              "\n",
              "    .dataframe thead th {\n",
              "        text-align: right;\n",
              "    }\n",
              "</style>\n",
              "<table border=\"1\" class=\"dataframe\">\n",
              "  <thead>\n",
              "    <tr style=\"text-align: right;\">\n",
              "      <th></th>\n",
              "      <th>KNNImputer mean absolute error percentage</th>\n",
              "      <th>KNNImputer mean square error percentage</th>\n",
              "    </tr>\n",
              "  </thead>\n",
              "  <tbody>\n",
              "    <tr>\n",
              "      <th>AccountWeeks</th>\n",
              "      <td>1.201515e+02</td>\n",
              "      <td>13.588422</td>\n",
              "    </tr>\n",
              "    <tr>\n",
              "      <th>DayMins</th>\n",
              "      <td>1.886364e+01</td>\n",
              "      <td>12.827238</td>\n",
              "    </tr>\n",
              "    <tr>\n",
              "      <th>DayCalls</th>\n",
              "      <td>2.367046e+01</td>\n",
              "      <td>13.840332</td>\n",
              "    </tr>\n",
              "    <tr>\n",
              "      <th>OverageFee</th>\n",
              "      <td>5.092583e+01</td>\n",
              "      <td>13.057203</td>\n",
              "    </tr>\n",
              "    <tr>\n",
              "      <th>RoamMins</th>\n",
              "      <td>2.793536e+01</td>\n",
              "      <td>11.805849</td>\n",
              "    </tr>\n",
              "    <tr>\n",
              "      <th>DataUsage</th>\n",
              "      <td>1.063709e+01</td>\n",
              "      <td>13.605815</td>\n",
              "    </tr>\n",
              "    <tr>\n",
              "      <th>CustServCalls</th>\n",
              "      <td>1.390063e+01</td>\n",
              "      <td>15.344042</td>\n",
              "    </tr>\n",
              "    <tr>\n",
              "      <th>ContractRenewal</th>\n",
              "      <td>3.648281e+15</td>\n",
              "      <td>1.125113</td>\n",
              "    </tr>\n",
              "  </tbody>\n",
              "</table>\n",
              "</div>\n",
              "      <button class=\"colab-df-convert\" onclick=\"convertToInteractive('df-21683807-7d1b-465e-9477-c6e89c40603a')\"\n",
              "              title=\"Convert this dataframe to an interactive table.\"\n",
              "              style=\"display:none;\">\n",
              "        \n",
              "  <svg xmlns=\"http://www.w3.org/2000/svg\" height=\"24px\"viewBox=\"0 0 24 24\"\n",
              "       width=\"24px\">\n",
              "    <path d=\"M0 0h24v24H0V0z\" fill=\"none\"/>\n",
              "    <path d=\"M18.56 5.44l.94 2.06.94-2.06 2.06-.94-2.06-.94-.94-2.06-.94 2.06-2.06.94zm-11 1L8.5 8.5l.94-2.06 2.06-.94-2.06-.94L8.5 2.5l-.94 2.06-2.06.94zm10 10l.94 2.06.94-2.06 2.06-.94-2.06-.94-.94-2.06-.94 2.06-2.06.94z\"/><path d=\"M17.41 7.96l-1.37-1.37c-.4-.4-.92-.59-1.43-.59-.52 0-1.04.2-1.43.59L10.3 9.45l-7.72 7.72c-.78.78-.78 2.05 0 2.83L4 21.41c.39.39.9.59 1.41.59.51 0 1.02-.2 1.41-.59l7.78-7.78 2.81-2.81c.8-.78.8-2.07 0-2.86zM5.41 20L4 18.59l7.72-7.72 1.47 1.35L5.41 20z\"/>\n",
              "  </svg>\n",
              "      </button>\n",
              "      \n",
              "  <style>\n",
              "    .colab-df-container {\n",
              "      display:flex;\n",
              "      flex-wrap:wrap;\n",
              "      gap: 12px;\n",
              "    }\n",
              "\n",
              "    .colab-df-convert {\n",
              "      background-color: #E8F0FE;\n",
              "      border: none;\n",
              "      border-radius: 50%;\n",
              "      cursor: pointer;\n",
              "      display: none;\n",
              "      fill: #1967D2;\n",
              "      height: 32px;\n",
              "      padding: 0 0 0 0;\n",
              "      width: 32px;\n",
              "    }\n",
              "\n",
              "    .colab-df-convert:hover {\n",
              "      background-color: #E2EBFA;\n",
              "      box-shadow: 0px 1px 2px rgba(60, 64, 67, 0.3), 0px 1px 3px 1px rgba(60, 64, 67, 0.15);\n",
              "      fill: #174EA6;\n",
              "    }\n",
              "\n",
              "    [theme=dark] .colab-df-convert {\n",
              "      background-color: #3B4455;\n",
              "      fill: #D2E3FC;\n",
              "    }\n",
              "\n",
              "    [theme=dark] .colab-df-convert:hover {\n",
              "      background-color: #434B5C;\n",
              "      box-shadow: 0px 1px 3px 1px rgba(0, 0, 0, 0.15);\n",
              "      filter: drop-shadow(0px 1px 2px rgba(0, 0, 0, 0.3));\n",
              "      fill: #FFFFFF;\n",
              "    }\n",
              "  </style>\n",
              "\n",
              "      <script>\n",
              "        const buttonEl =\n",
              "          document.querySelector('#df-21683807-7d1b-465e-9477-c6e89c40603a button.colab-df-convert');\n",
              "        buttonEl.style.display =\n",
              "          google.colab.kernel.accessAllowed ? 'block' : 'none';\n",
              "\n",
              "        async function convertToInteractive(key) {\n",
              "          const element = document.querySelector('#df-21683807-7d1b-465e-9477-c6e89c40603a');\n",
              "          const dataTable =\n",
              "            await google.colab.kernel.invokeFunction('convertToInteractive',\n",
              "                                                     [key], {});\n",
              "          if (!dataTable) return;\n",
              "\n",
              "          const docLinkHtml = 'Like what you see? Visit the ' +\n",
              "            '<a target=\"_blank\" href=https://colab.research.google.com/notebooks/data_table.ipynb>data table notebook</a>'\n",
              "            + ' to learn more about interactive tables.';\n",
              "          element.innerHTML = '';\n",
              "          dataTable['output_type'] = 'display_data';\n",
              "          await google.colab.output.renderOutput(dataTable, element);\n",
              "          const docLink = document.createElement('div');\n",
              "          docLink.innerHTML = docLinkHtml;\n",
              "          element.appendChild(docLink);\n",
              "        }\n",
              "      </script>\n",
              "    </div>\n",
              "  </div>\n",
              "  "
            ]
          },
          "metadata": {},
          "execution_count": 35
        }
      ],
      "source": [
        "mae=\"KNNImputer mean absolute error percentage\"\n",
        "mse=\"KNNImputer mean square error percentage\"\n",
        "k=KNNImp(changed_Numeric)\n",
        "mape(original_Numeric,k,mae,mse)"
      ]
    },
    {
      "cell_type": "code",
      "execution_count": 36,
      "metadata": {
        "colab": {
          "base_uri": "https://localhost:8080/"
        },
        "id": "4MQ0g9gbgHQD",
        "outputId": "b113e689-a6ee-4de1-da56-1facf35f736e"
      },
      "outputs": [
        {
          "output_type": "stream",
          "name": "stdout",
          "text": [
            "Varience ,Simple Square and error Bias for KNNImputer\n",
            "*********************varience***********************\n",
            "\n",
            "AccountWeeks       0.936580\n",
            "DayMins            0.941479\n",
            "DayCalls           0.952504\n",
            "OverageFee         0.951317\n",
            "RoamMins           0.947879\n",
            "DataUsage          0.957437\n",
            "CustServCalls      0.930460\n",
            "ContractRenewal    0.082741\n",
            "dtype: float64\n",
            "#################################################################\n",
            "*********************Simple Square error***********************\n",
            "\n",
            "AccountWeeks       1.000000\n",
            "DayMins            1.000002\n",
            "DayCalls           1.000030\n",
            "OverageFee         1.000076\n",
            "RoamMins           1.000048\n",
            "DataUsage          1.000055\n",
            "CustServCalls      1.000005\n",
            "ContractRenewal    0.087519\n",
            "dtype: float64\n",
            "#################################################################\n",
            "*********************bias***********************\n",
            "\n",
            "AccountWeeks       0.063420\n",
            "DayMins            0.058523\n",
            "DayCalls           0.047526\n",
            "OverageFee         0.048759\n",
            "RoamMins           0.052169\n",
            "DataUsage          0.042618\n",
            "CustServCalls      0.069544\n",
            "ContractRenewal    0.004778\n",
            "dtype: float64\n",
            "#################################################################\n"
          ]
        }
      ],
      "source": [
        "m= \"Varience ,Simple Square and error Bias for KNNImputer\" \n",
        "vari(k,m)"
      ]
    },
    {
      "cell_type": "code",
      "execution_count": 37,
      "metadata": {
        "colab": {
          "base_uri": "https://localhost:8080/",
          "height": 344
        },
        "id": "TVeLwVvdaSpz",
        "outputId": "3f957e0a-0dc7-4682-998f-ba12dc8aae77"
      },
      "outputs": [
        {
          "output_type": "execute_result",
          "data": {
            "text/plain": [
              "                 KNNImputer mean absolute error percentage  \\\n",
              "AccountWeeks                                  1.201515e+02   \n",
              "DayMins                                       1.886364e+01   \n",
              "DayCalls                                      2.367046e+01   \n",
              "OverageFee                                    5.092583e+01   \n",
              "RoamMins                                      2.793536e+01   \n",
              "DataUsage                                     1.063709e+01   \n",
              "CustServCalls                                 1.390063e+01   \n",
              "ContractRenewal                               3.648281e+15   \n",
              "\n",
              "                 KNNImputer mean square error percentage  \\\n",
              "AccountWeeks                                   13.588422   \n",
              "DayMins                                        12.827238   \n",
              "DayCalls                                       13.840332   \n",
              "OverageFee                                     13.057203   \n",
              "RoamMins                                       11.805849   \n",
              "DataUsage                                      13.605815   \n",
              "CustServCalls                                  15.344042   \n",
              "ContractRenewal                                 1.125113   \n",
              "\n",
              "                 SimpleImputer mean absolute error percentage  \\\n",
              "AccountWeeks                                     1.103191e+01   \n",
              "DayMins                                          8.859620e+00   \n",
              "DayCalls                                         9.305829e+00   \n",
              "OverageFee                                       9.231765e+00   \n",
              "RoamMins                                         1.017337e+01   \n",
              "DataUsage                                        9.466797e+00   \n",
              "CustServCalls                                    1.026529e+01   \n",
              "ContractRenewal                                  3.784296e+15   \n",
              "\n",
              "                 SimpleImputer mean square error percentage  \n",
              "AccountWeeks                                      10.969690  \n",
              "DayMins                                            9.602394  \n",
              "DayCalls                                           9.496617  \n",
              "OverageFee                                         8.953358  \n",
              "RoamMins                                           9.492032  \n",
              "DataUsage                                          9.071441  \n",
              "CustServCalls                                     10.965275  \n",
              "ContractRenewal                                    0.836914  "
            ],
            "text/html": [
              "\n",
              "  <div id=\"df-97a097dc-3635-4fe8-b365-26808cb324db\">\n",
              "    <div class=\"colab-df-container\">\n",
              "      <div>\n",
              "<style scoped>\n",
              "    .dataframe tbody tr th:only-of-type {\n",
              "        vertical-align: middle;\n",
              "    }\n",
              "\n",
              "    .dataframe tbody tr th {\n",
              "        vertical-align: top;\n",
              "    }\n",
              "\n",
              "    .dataframe thead th {\n",
              "        text-align: right;\n",
              "    }\n",
              "</style>\n",
              "<table border=\"1\" class=\"dataframe\">\n",
              "  <thead>\n",
              "    <tr style=\"text-align: right;\">\n",
              "      <th></th>\n",
              "      <th>KNNImputer mean absolute error percentage</th>\n",
              "      <th>KNNImputer mean square error percentage</th>\n",
              "      <th>SimpleImputer mean absolute error percentage</th>\n",
              "      <th>SimpleImputer mean square error percentage</th>\n",
              "    </tr>\n",
              "  </thead>\n",
              "  <tbody>\n",
              "    <tr>\n",
              "      <th>AccountWeeks</th>\n",
              "      <td>1.201515e+02</td>\n",
              "      <td>13.588422</td>\n",
              "      <td>1.103191e+01</td>\n",
              "      <td>10.969690</td>\n",
              "    </tr>\n",
              "    <tr>\n",
              "      <th>DayMins</th>\n",
              "      <td>1.886364e+01</td>\n",
              "      <td>12.827238</td>\n",
              "      <td>8.859620e+00</td>\n",
              "      <td>9.602394</td>\n",
              "    </tr>\n",
              "    <tr>\n",
              "      <th>DayCalls</th>\n",
              "      <td>2.367046e+01</td>\n",
              "      <td>13.840332</td>\n",
              "      <td>9.305829e+00</td>\n",
              "      <td>9.496617</td>\n",
              "    </tr>\n",
              "    <tr>\n",
              "      <th>OverageFee</th>\n",
              "      <td>5.092583e+01</td>\n",
              "      <td>13.057203</td>\n",
              "      <td>9.231765e+00</td>\n",
              "      <td>8.953358</td>\n",
              "    </tr>\n",
              "    <tr>\n",
              "      <th>RoamMins</th>\n",
              "      <td>2.793536e+01</td>\n",
              "      <td>11.805849</td>\n",
              "      <td>1.017337e+01</td>\n",
              "      <td>9.492032</td>\n",
              "    </tr>\n",
              "    <tr>\n",
              "      <th>DataUsage</th>\n",
              "      <td>1.063709e+01</td>\n",
              "      <td>13.605815</td>\n",
              "      <td>9.466797e+00</td>\n",
              "      <td>9.071441</td>\n",
              "    </tr>\n",
              "    <tr>\n",
              "      <th>CustServCalls</th>\n",
              "      <td>1.390063e+01</td>\n",
              "      <td>15.344042</td>\n",
              "      <td>1.026529e+01</td>\n",
              "      <td>10.965275</td>\n",
              "    </tr>\n",
              "    <tr>\n",
              "      <th>ContractRenewal</th>\n",
              "      <td>3.648281e+15</td>\n",
              "      <td>1.125113</td>\n",
              "      <td>3.784296e+15</td>\n",
              "      <td>0.836914</td>\n",
              "    </tr>\n",
              "  </tbody>\n",
              "</table>\n",
              "</div>\n",
              "      <button class=\"colab-df-convert\" onclick=\"convertToInteractive('df-97a097dc-3635-4fe8-b365-26808cb324db')\"\n",
              "              title=\"Convert this dataframe to an interactive table.\"\n",
              "              style=\"display:none;\">\n",
              "        \n",
              "  <svg xmlns=\"http://www.w3.org/2000/svg\" height=\"24px\"viewBox=\"0 0 24 24\"\n",
              "       width=\"24px\">\n",
              "    <path d=\"M0 0h24v24H0V0z\" fill=\"none\"/>\n",
              "    <path d=\"M18.56 5.44l.94 2.06.94-2.06 2.06-.94-2.06-.94-.94-2.06-.94 2.06-2.06.94zm-11 1L8.5 8.5l.94-2.06 2.06-.94-2.06-.94L8.5 2.5l-.94 2.06-2.06.94zm10 10l.94 2.06.94-2.06 2.06-.94-2.06-.94-.94-2.06-.94 2.06-2.06.94z\"/><path d=\"M17.41 7.96l-1.37-1.37c-.4-.4-.92-.59-1.43-.59-.52 0-1.04.2-1.43.59L10.3 9.45l-7.72 7.72c-.78.78-.78 2.05 0 2.83L4 21.41c.39.39.9.59 1.41.59.51 0 1.02-.2 1.41-.59l7.78-7.78 2.81-2.81c.8-.78.8-2.07 0-2.86zM5.41 20L4 18.59l7.72-7.72 1.47 1.35L5.41 20z\"/>\n",
              "  </svg>\n",
              "      </button>\n",
              "      \n",
              "  <style>\n",
              "    .colab-df-container {\n",
              "      display:flex;\n",
              "      flex-wrap:wrap;\n",
              "      gap: 12px;\n",
              "    }\n",
              "\n",
              "    .colab-df-convert {\n",
              "      background-color: #E8F0FE;\n",
              "      border: none;\n",
              "      border-radius: 50%;\n",
              "      cursor: pointer;\n",
              "      display: none;\n",
              "      fill: #1967D2;\n",
              "      height: 32px;\n",
              "      padding: 0 0 0 0;\n",
              "      width: 32px;\n",
              "    }\n",
              "\n",
              "    .colab-df-convert:hover {\n",
              "      background-color: #E2EBFA;\n",
              "      box-shadow: 0px 1px 2px rgba(60, 64, 67, 0.3), 0px 1px 3px 1px rgba(60, 64, 67, 0.15);\n",
              "      fill: #174EA6;\n",
              "    }\n",
              "\n",
              "    [theme=dark] .colab-df-convert {\n",
              "      background-color: #3B4455;\n",
              "      fill: #D2E3FC;\n",
              "    }\n",
              "\n",
              "    [theme=dark] .colab-df-convert:hover {\n",
              "      background-color: #434B5C;\n",
              "      box-shadow: 0px 1px 3px 1px rgba(0, 0, 0, 0.15);\n",
              "      filter: drop-shadow(0px 1px 2px rgba(0, 0, 0, 0.3));\n",
              "      fill: #FFFFFF;\n",
              "    }\n",
              "  </style>\n",
              "\n",
              "      <script>\n",
              "        const buttonEl =\n",
              "          document.querySelector('#df-97a097dc-3635-4fe8-b365-26808cb324db button.colab-df-convert');\n",
              "        buttonEl.style.display =\n",
              "          google.colab.kernel.accessAllowed ? 'block' : 'none';\n",
              "\n",
              "        async function convertToInteractive(key) {\n",
              "          const element = document.querySelector('#df-97a097dc-3635-4fe8-b365-26808cb324db');\n",
              "          const dataTable =\n",
              "            await google.colab.kernel.invokeFunction('convertToInteractive',\n",
              "                                                     [key], {});\n",
              "          if (!dataTable) return;\n",
              "\n",
              "          const docLinkHtml = 'Like what you see? Visit the ' +\n",
              "            '<a target=\"_blank\" href=https://colab.research.google.com/notebooks/data_table.ipynb>data table notebook</a>'\n",
              "            + ' to learn more about interactive tables.';\n",
              "          element.innerHTML = '';\n",
              "          dataTable['output_type'] = 'display_data';\n",
              "          await google.colab.output.renderOutput(dataTable, element);\n",
              "          const docLink = document.createElement('div');\n",
              "          docLink.innerHTML = docLinkHtml;\n",
              "          element.appendChild(docLink);\n",
              "        }\n",
              "      </script>\n",
              "    </div>\n",
              "  </div>\n",
              "  "
            ]
          },
          "metadata": {},
          "execution_count": 37
        }
      ],
      "source": [
        "mae=\"SimpleImputer mean absolute error percentage\"\n",
        "mse=\"SimpleImputer mean square error percentage\"\n",
        "c=SimpleImp(changed_Numeric)\n",
        "mape(original_Numeric,c,mae,mse)"
      ]
    },
    {
      "cell_type": "code",
      "execution_count": 38,
      "metadata": {
        "colab": {
          "base_uri": "https://localhost:8080/"
        },
        "id": "9yDl9EpfgytN",
        "outputId": "a506a789-f0ec-4132-ef21-003cc3ec6a5e"
      },
      "outputs": [
        {
          "output_type": "stream",
          "name": "stdout",
          "text": [
            "Varience ,Simple Square and error Bias for  SimpleImputer\n",
            "*********************varience***********************\n",
            "\n",
            "AccountWeeks       0.890393\n",
            "DayMins            0.903980\n",
            "DayCalls           0.905038\n",
            "OverageFee         0.910575\n",
            "RoamMins           0.905080\n",
            "DataUsage          0.909304\n",
            "CustServCalls      0.890363\n",
            "ContractRenewal    0.079149\n",
            "dtype: float64\n",
            "#################################################################\n",
            "*********************Simple Square error***********************\n",
            "\n",
            "AccountWeeks       1.000090\n",
            "DayMins            1.000004\n",
            "DayCalls           1.000004\n",
            "OverageFee         1.000109\n",
            "RoamMins           1.000000\n",
            "DataUsage          1.000018\n",
            "CustServCalls      1.000016\n",
            "ContractRenewal    0.087518\n",
            "dtype: float64\n",
            "#################################################################\n",
            "*********************bias***********************\n",
            "\n",
            "AccountWeeks       0.109697\n",
            "DayMins            0.096024\n",
            "DayCalls           0.094966\n",
            "OverageFee         0.089534\n",
            "RoamMins           0.094920\n",
            "DataUsage          0.090714\n",
            "CustServCalls      0.109653\n",
            "ContractRenewal    0.008369\n",
            "dtype: float64\n",
            "#################################################################\n"
          ]
        }
      ],
      "source": [
        "m= \"Varience ,Simple Square and error Bias for  SimpleImputer\" \n",
        "vari(c,m)"
      ]
    },
    {
      "cell_type": "code",
      "execution_count": 39,
      "metadata": {
        "colab": {
          "base_uri": "https://localhost:8080/",
          "height": 362
        },
        "id": "AhVBxPMi4s5d",
        "outputId": "1bd43a46-d68c-4334-83ec-5a1e8e4baa8a"
      },
      "outputs": [
        {
          "output_type": "execute_result",
          "data": {
            "text/plain": [
              "                 KNNImputer mean absolute error percentage  \\\n",
              "AccountWeeks                                  1.201515e+02   \n",
              "DayMins                                       1.886364e+01   \n",
              "DayCalls                                      2.367046e+01   \n",
              "OverageFee                                    5.092583e+01   \n",
              "RoamMins                                      2.793536e+01   \n",
              "DataUsage                                     1.063709e+01   \n",
              "CustServCalls                                 1.390063e+01   \n",
              "ContractRenewal                               3.648281e+15   \n",
              "\n",
              "                 KNNImputer mean square error percentage  \\\n",
              "AccountWeeks                                   13.588422   \n",
              "DayMins                                        12.827238   \n",
              "DayCalls                                       13.840332   \n",
              "OverageFee                                     13.057203   \n",
              "RoamMins                                       11.805849   \n",
              "DataUsage                                      13.605815   \n",
              "CustServCalls                                  15.344042   \n",
              "ContractRenewal                                 1.125113   \n",
              "\n",
              "                 SimpleImputer mean absolute error percentage  \\\n",
              "AccountWeeks                                     1.103191e+01   \n",
              "DayMins                                          8.859620e+00   \n",
              "DayCalls                                         9.305829e+00   \n",
              "OverageFee                                       9.231765e+00   \n",
              "RoamMins                                         1.017337e+01   \n",
              "DataUsage                                        9.466797e+00   \n",
              "CustServCalls                                    1.026529e+01   \n",
              "ContractRenewal                                  3.784296e+15   \n",
              "\n",
              "                 SimpleImputer mean square error percentage  \\\n",
              "AccountWeeks                                      10.969690   \n",
              "DayMins                                            9.602394   \n",
              "DayCalls                                           9.496617   \n",
              "OverageFee                                         8.953358   \n",
              "RoamMins                                           9.492032   \n",
              "DataUsage                                          9.071441   \n",
              "CustServCalls                                     10.965275   \n",
              "ContractRenewal                                    0.836914   \n",
              "\n",
              "                 Iterative Imputer mean absolute error percentage  \\\n",
              "AccountWeeks                                         6.048723e+01   \n",
              "DayMins                                              6.027250e+01   \n",
              "DayCalls                                             6.011068e+01   \n",
              "OverageFee                                           5.970002e+01   \n",
              "RoamMins                                             6.155896e+01   \n",
              "DataUsage                                            5.827278e+01   \n",
              "CustServCalls                                        6.739181e+01   \n",
              "ContractRenewal                                      4.188767e+15   \n",
              "\n",
              "                 Iterative Imputer mean square error percentage  \n",
              "AccountWeeks                                          18.505851  \n",
              "DayMins                                               17.376199  \n",
              "DayCalls                                              16.963105  \n",
              "OverageFee                                            16.457974  \n",
              "RoamMins                                              16.974201  \n",
              "DataUsage                                             20.270944  \n",
              "CustServCalls                                         20.313668  \n",
              "ContractRenewal                                        0.930093  "
            ],
            "text/html": [
              "\n",
              "  <div id=\"df-a780308b-5742-40c2-8dee-d96278fe7a70\">\n",
              "    <div class=\"colab-df-container\">\n",
              "      <div>\n",
              "<style scoped>\n",
              "    .dataframe tbody tr th:only-of-type {\n",
              "        vertical-align: middle;\n",
              "    }\n",
              "\n",
              "    .dataframe tbody tr th {\n",
              "        vertical-align: top;\n",
              "    }\n",
              "\n",
              "    .dataframe thead th {\n",
              "        text-align: right;\n",
              "    }\n",
              "</style>\n",
              "<table border=\"1\" class=\"dataframe\">\n",
              "  <thead>\n",
              "    <tr style=\"text-align: right;\">\n",
              "      <th></th>\n",
              "      <th>KNNImputer mean absolute error percentage</th>\n",
              "      <th>KNNImputer mean square error percentage</th>\n",
              "      <th>SimpleImputer mean absolute error percentage</th>\n",
              "      <th>SimpleImputer mean square error percentage</th>\n",
              "      <th>Iterative Imputer mean absolute error percentage</th>\n",
              "      <th>Iterative Imputer mean square error percentage</th>\n",
              "    </tr>\n",
              "  </thead>\n",
              "  <tbody>\n",
              "    <tr>\n",
              "      <th>AccountWeeks</th>\n",
              "      <td>1.201515e+02</td>\n",
              "      <td>13.588422</td>\n",
              "      <td>1.103191e+01</td>\n",
              "      <td>10.969690</td>\n",
              "      <td>6.048723e+01</td>\n",
              "      <td>18.505851</td>\n",
              "    </tr>\n",
              "    <tr>\n",
              "      <th>DayMins</th>\n",
              "      <td>1.886364e+01</td>\n",
              "      <td>12.827238</td>\n",
              "      <td>8.859620e+00</td>\n",
              "      <td>9.602394</td>\n",
              "      <td>6.027250e+01</td>\n",
              "      <td>17.376199</td>\n",
              "    </tr>\n",
              "    <tr>\n",
              "      <th>DayCalls</th>\n",
              "      <td>2.367046e+01</td>\n",
              "      <td>13.840332</td>\n",
              "      <td>9.305829e+00</td>\n",
              "      <td>9.496617</td>\n",
              "      <td>6.011068e+01</td>\n",
              "      <td>16.963105</td>\n",
              "    </tr>\n",
              "    <tr>\n",
              "      <th>OverageFee</th>\n",
              "      <td>5.092583e+01</td>\n",
              "      <td>13.057203</td>\n",
              "      <td>9.231765e+00</td>\n",
              "      <td>8.953358</td>\n",
              "      <td>5.970002e+01</td>\n",
              "      <td>16.457974</td>\n",
              "    </tr>\n",
              "    <tr>\n",
              "      <th>RoamMins</th>\n",
              "      <td>2.793536e+01</td>\n",
              "      <td>11.805849</td>\n",
              "      <td>1.017337e+01</td>\n",
              "      <td>9.492032</td>\n",
              "      <td>6.155896e+01</td>\n",
              "      <td>16.974201</td>\n",
              "    </tr>\n",
              "    <tr>\n",
              "      <th>DataUsage</th>\n",
              "      <td>1.063709e+01</td>\n",
              "      <td>13.605815</td>\n",
              "      <td>9.466797e+00</td>\n",
              "      <td>9.071441</td>\n",
              "      <td>5.827278e+01</td>\n",
              "      <td>20.270944</td>\n",
              "    </tr>\n",
              "    <tr>\n",
              "      <th>CustServCalls</th>\n",
              "      <td>1.390063e+01</td>\n",
              "      <td>15.344042</td>\n",
              "      <td>1.026529e+01</td>\n",
              "      <td>10.965275</td>\n",
              "      <td>6.739181e+01</td>\n",
              "      <td>20.313668</td>\n",
              "    </tr>\n",
              "    <tr>\n",
              "      <th>ContractRenewal</th>\n",
              "      <td>3.648281e+15</td>\n",
              "      <td>1.125113</td>\n",
              "      <td>3.784296e+15</td>\n",
              "      <td>0.836914</td>\n",
              "      <td>4.188767e+15</td>\n",
              "      <td>0.930093</td>\n",
              "    </tr>\n",
              "  </tbody>\n",
              "</table>\n",
              "</div>\n",
              "      <button class=\"colab-df-convert\" onclick=\"convertToInteractive('df-a780308b-5742-40c2-8dee-d96278fe7a70')\"\n",
              "              title=\"Convert this dataframe to an interactive table.\"\n",
              "              style=\"display:none;\">\n",
              "        \n",
              "  <svg xmlns=\"http://www.w3.org/2000/svg\" height=\"24px\"viewBox=\"0 0 24 24\"\n",
              "       width=\"24px\">\n",
              "    <path d=\"M0 0h24v24H0V0z\" fill=\"none\"/>\n",
              "    <path d=\"M18.56 5.44l.94 2.06.94-2.06 2.06-.94-2.06-.94-.94-2.06-.94 2.06-2.06.94zm-11 1L8.5 8.5l.94-2.06 2.06-.94-2.06-.94L8.5 2.5l-.94 2.06-2.06.94zm10 10l.94 2.06.94-2.06 2.06-.94-2.06-.94-.94-2.06-.94 2.06-2.06.94z\"/><path d=\"M17.41 7.96l-1.37-1.37c-.4-.4-.92-.59-1.43-.59-.52 0-1.04.2-1.43.59L10.3 9.45l-7.72 7.72c-.78.78-.78 2.05 0 2.83L4 21.41c.39.39.9.59 1.41.59.51 0 1.02-.2 1.41-.59l7.78-7.78 2.81-2.81c.8-.78.8-2.07 0-2.86zM5.41 20L4 18.59l7.72-7.72 1.47 1.35L5.41 20z\"/>\n",
              "  </svg>\n",
              "      </button>\n",
              "      \n",
              "  <style>\n",
              "    .colab-df-container {\n",
              "      display:flex;\n",
              "      flex-wrap:wrap;\n",
              "      gap: 12px;\n",
              "    }\n",
              "\n",
              "    .colab-df-convert {\n",
              "      background-color: #E8F0FE;\n",
              "      border: none;\n",
              "      border-radius: 50%;\n",
              "      cursor: pointer;\n",
              "      display: none;\n",
              "      fill: #1967D2;\n",
              "      height: 32px;\n",
              "      padding: 0 0 0 0;\n",
              "      width: 32px;\n",
              "    }\n",
              "\n",
              "    .colab-df-convert:hover {\n",
              "      background-color: #E2EBFA;\n",
              "      box-shadow: 0px 1px 2px rgba(60, 64, 67, 0.3), 0px 1px 3px 1px rgba(60, 64, 67, 0.15);\n",
              "      fill: #174EA6;\n",
              "    }\n",
              "\n",
              "    [theme=dark] .colab-df-convert {\n",
              "      background-color: #3B4455;\n",
              "      fill: #D2E3FC;\n",
              "    }\n",
              "\n",
              "    [theme=dark] .colab-df-convert:hover {\n",
              "      background-color: #434B5C;\n",
              "      box-shadow: 0px 1px 3px 1px rgba(0, 0, 0, 0.15);\n",
              "      filter: drop-shadow(0px 1px 2px rgba(0, 0, 0, 0.3));\n",
              "      fill: #FFFFFF;\n",
              "    }\n",
              "  </style>\n",
              "\n",
              "      <script>\n",
              "        const buttonEl =\n",
              "          document.querySelector('#df-a780308b-5742-40c2-8dee-d96278fe7a70 button.colab-df-convert');\n",
              "        buttonEl.style.display =\n",
              "          google.colab.kernel.accessAllowed ? 'block' : 'none';\n",
              "\n",
              "        async function convertToInteractive(key) {\n",
              "          const element = document.querySelector('#df-a780308b-5742-40c2-8dee-d96278fe7a70');\n",
              "          const dataTable =\n",
              "            await google.colab.kernel.invokeFunction('convertToInteractive',\n",
              "                                                     [key], {});\n",
              "          if (!dataTable) return;\n",
              "\n",
              "          const docLinkHtml = 'Like what you see? Visit the ' +\n",
              "            '<a target=\"_blank\" href=https://colab.research.google.com/notebooks/data_table.ipynb>data table notebook</a>'\n",
              "            + ' to learn more about interactive tables.';\n",
              "          element.innerHTML = '';\n",
              "          dataTable['output_type'] = 'display_data';\n",
              "          await google.colab.output.renderOutput(dataTable, element);\n",
              "          const docLink = document.createElement('div');\n",
              "          docLink.innerHTML = docLinkHtml;\n",
              "          element.appendChild(docLink);\n",
              "        }\n",
              "      </script>\n",
              "    </div>\n",
              "  </div>\n",
              "  "
            ]
          },
          "metadata": {},
          "execution_count": 39
        }
      ],
      "source": [
        "mae=\"Iterative Imputer mean absolute error percentage\"\n",
        "mse=\"Iterative Imputer mean square error percentage\"\n",
        "f=IterImp(changed_Numeric)\n",
        "mape(original_Numeric,f,mae,mse)"
      ]
    },
    {
      "cell_type": "code",
      "execution_count": 40,
      "metadata": {
        "colab": {
          "base_uri": "https://localhost:8080/"
        },
        "id": "ADihCzmygjP4",
        "outputId": "783b9fb8-d38b-4457-8c29-4b0d8f379abe"
      },
      "outputs": [
        {
          "output_type": "stream",
          "name": "stdout",
          "text": [
            "Varience ,Simple Square and error Bias for IterativeImputer\n",
            "*********************varience***********************\n",
            "\n",
            "AccountWeeks       0.991169\n",
            "DayMins            0.989766\n",
            "DayCalls           0.983142\n",
            "OverageFee         0.984394\n",
            "RoamMins           0.978046\n",
            "DataUsage          1.197969\n",
            "CustServCalls      0.748845\n",
            "ContractRenewal    0.079933\n",
            "dtype: float64\n",
            "#################################################################\n",
            "*********************Simple Square error***********************\n",
            "\n",
            "AccountWeeks       1.000130\n",
            "DayMins            1.000032\n",
            "DayCalls           1.000056\n",
            "OverageFee         1.000004\n",
            "RoamMins           1.000052\n",
            "DataUsage          1.013552\n",
            "CustServCalls      1.011731\n",
            "ContractRenewal    0.087605\n",
            "dtype: float64\n",
            "#################################################################\n",
            "*********************bias***********************\n",
            "\n",
            "AccountWeeks       0.008961\n",
            "DayMins            0.010266\n",
            "DayCalls           0.016914\n",
            "OverageFee         0.015610\n",
            "RoamMins           0.022006\n",
            "DataUsage         -0.184418\n",
            "CustServCalls      0.262886\n",
            "ContractRenewal    0.007671\n",
            "dtype: float64\n",
            "#################################################################\n"
          ]
        }
      ],
      "source": [
        "m= \"Varience ,Simple Square and error Bias for IterativeImputer\" \n",
        "vari(f,m)"
      ]
    },
    {
      "cell_type": "code",
      "execution_count": 41,
      "metadata": {
        "id": "vMGS_Wkak_4x"
      },
      "outputs": [],
      "source": [
        "df5=df.copy()\n",
        "original_Numeric_5per = df5.drop([\"Churn\"], axis=1)\n",
        "original_Cat_5per = df5[[\"Churn\"]]\n",
        "nullfiller(df5,0.05)\n",
        "changed_Numeric_5per = df5.drop([\"Churn\"], axis=1)\n",
        "changed_Cat_5per = df5[[\"Churn\"]]"
      ]
    },
    {
      "cell_type": "markdown",
      "metadata": {
        "id": "bJXFZSGIGd9L"
      },
      "source": [
        "We create original cat(catagorical Data) and numeric(Numeric Data) DataFrames to retain original values and fill 5% of NaN values now changed Numeric(Numeric Data) and Cat(catagorical Data) with NaN values."
      ]
    },
    {
      "cell_type": "code",
      "execution_count": 42,
      "metadata": {
        "id": "tZtZeHx8mwKu"
      },
      "outputs": [],
      "source": [
        "error_tenper=pd.DataFrame()"
      ]
    },
    {
      "cell_type": "code",
      "execution_count": 43,
      "metadata": {
        "colab": {
          "base_uri": "https://localhost:8080/"
        },
        "id": "Ui4uisEGn9Oq",
        "outputId": "6727c1d4-a035-4acd-825e-075a55ef7583"
      },
      "outputs": [
        {
          "output_type": "execute_result",
          "data": {
            "text/plain": [
              "AccountWeeks       332\n",
              "DayMins            296\n",
              "DayCalls           310\n",
              "OverageFee         300\n",
              "RoamMins           339\n",
              "DataUsage          314\n",
              "CustServCalls      342\n",
              "ContractRenewal    309\n",
              "dtype: int64"
            ]
          },
          "metadata": {},
          "execution_count": 43
        }
      ],
      "source": [
        "changed_Numeric.isna().sum()"
      ]
    },
    {
      "cell_type": "code",
      "execution_count": 44,
      "metadata": {
        "colab": {
          "base_uri": "https://localhost:8080/",
          "height": 300
        },
        "id": "7SYUWfhUlPjJ",
        "outputId": "62c93177-da7e-45ac-8ac2-ce28a2078691"
      },
      "outputs": [
        {
          "output_type": "execute_result",
          "data": {
            "text/plain": [
              "                 KNNImputer mean absolute error percentage  \\\n",
              "AccountWeeks                                  3.767772e+01   \n",
              "DayMins                                       1.860773e+01   \n",
              "DayCalls                                      1.406318e+01   \n",
              "OverageFee                                    7.883888e+01   \n",
              "RoamMins                                      1.324644e+01   \n",
              "DataUsage                                     5.266282e+00   \n",
              "CustServCalls                                 7.246821e+00   \n",
              "ContractRenewal                               1.418776e+15   \n",
              "\n",
              "                 KNNImputer mean square error percentage  \n",
              "AccountWeeks                                    5.888233  \n",
              "DayMins                                         8.468141  \n",
              "DayCalls                                        7.901669  \n",
              "OverageFee                                      6.488437  \n",
              "RoamMins                                        5.309706  \n",
              "DataUsage                                       6.505726  \n",
              "CustServCalls                                  10.331973  \n",
              "ContractRenewal                                 0.570057  "
            ],
            "text/html": [
              "\n",
              "  <div id=\"df-1f7dbf73-5bbd-478d-ac2d-2e9e79f8c5cb\">\n",
              "    <div class=\"colab-df-container\">\n",
              "      <div>\n",
              "<style scoped>\n",
              "    .dataframe tbody tr th:only-of-type {\n",
              "        vertical-align: middle;\n",
              "    }\n",
              "\n",
              "    .dataframe tbody tr th {\n",
              "        vertical-align: top;\n",
              "    }\n",
              "\n",
              "    .dataframe thead th {\n",
              "        text-align: right;\n",
              "    }\n",
              "</style>\n",
              "<table border=\"1\" class=\"dataframe\">\n",
              "  <thead>\n",
              "    <tr style=\"text-align: right;\">\n",
              "      <th></th>\n",
              "      <th>KNNImputer mean absolute error percentage</th>\n",
              "      <th>KNNImputer mean square error percentage</th>\n",
              "    </tr>\n",
              "  </thead>\n",
              "  <tbody>\n",
              "    <tr>\n",
              "      <th>AccountWeeks</th>\n",
              "      <td>3.767772e+01</td>\n",
              "      <td>5.888233</td>\n",
              "    </tr>\n",
              "    <tr>\n",
              "      <th>DayMins</th>\n",
              "      <td>1.860773e+01</td>\n",
              "      <td>8.468141</td>\n",
              "    </tr>\n",
              "    <tr>\n",
              "      <th>DayCalls</th>\n",
              "      <td>1.406318e+01</td>\n",
              "      <td>7.901669</td>\n",
              "    </tr>\n",
              "    <tr>\n",
              "      <th>OverageFee</th>\n",
              "      <td>7.883888e+01</td>\n",
              "      <td>6.488437</td>\n",
              "    </tr>\n",
              "    <tr>\n",
              "      <th>RoamMins</th>\n",
              "      <td>1.324644e+01</td>\n",
              "      <td>5.309706</td>\n",
              "    </tr>\n",
              "    <tr>\n",
              "      <th>DataUsage</th>\n",
              "      <td>5.266282e+00</td>\n",
              "      <td>6.505726</td>\n",
              "    </tr>\n",
              "    <tr>\n",
              "      <th>CustServCalls</th>\n",
              "      <td>7.246821e+00</td>\n",
              "      <td>10.331973</td>\n",
              "    </tr>\n",
              "    <tr>\n",
              "      <th>ContractRenewal</th>\n",
              "      <td>1.418776e+15</td>\n",
              "      <td>0.570057</td>\n",
              "    </tr>\n",
              "  </tbody>\n",
              "</table>\n",
              "</div>\n",
              "      <button class=\"colab-df-convert\" onclick=\"convertToInteractive('df-1f7dbf73-5bbd-478d-ac2d-2e9e79f8c5cb')\"\n",
              "              title=\"Convert this dataframe to an interactive table.\"\n",
              "              style=\"display:none;\">\n",
              "        \n",
              "  <svg xmlns=\"http://www.w3.org/2000/svg\" height=\"24px\"viewBox=\"0 0 24 24\"\n",
              "       width=\"24px\">\n",
              "    <path d=\"M0 0h24v24H0V0z\" fill=\"none\"/>\n",
              "    <path d=\"M18.56 5.44l.94 2.06.94-2.06 2.06-.94-2.06-.94-.94-2.06-.94 2.06-2.06.94zm-11 1L8.5 8.5l.94-2.06 2.06-.94-2.06-.94L8.5 2.5l-.94 2.06-2.06.94zm10 10l.94 2.06.94-2.06 2.06-.94-2.06-.94-.94-2.06-.94 2.06-2.06.94z\"/><path d=\"M17.41 7.96l-1.37-1.37c-.4-.4-.92-.59-1.43-.59-.52 0-1.04.2-1.43.59L10.3 9.45l-7.72 7.72c-.78.78-.78 2.05 0 2.83L4 21.41c.39.39.9.59 1.41.59.51 0 1.02-.2 1.41-.59l7.78-7.78 2.81-2.81c.8-.78.8-2.07 0-2.86zM5.41 20L4 18.59l7.72-7.72 1.47 1.35L5.41 20z\"/>\n",
              "  </svg>\n",
              "      </button>\n",
              "      \n",
              "  <style>\n",
              "    .colab-df-container {\n",
              "      display:flex;\n",
              "      flex-wrap:wrap;\n",
              "      gap: 12px;\n",
              "    }\n",
              "\n",
              "    .colab-df-convert {\n",
              "      background-color: #E8F0FE;\n",
              "      border: none;\n",
              "      border-radius: 50%;\n",
              "      cursor: pointer;\n",
              "      display: none;\n",
              "      fill: #1967D2;\n",
              "      height: 32px;\n",
              "      padding: 0 0 0 0;\n",
              "      width: 32px;\n",
              "    }\n",
              "\n",
              "    .colab-df-convert:hover {\n",
              "      background-color: #E2EBFA;\n",
              "      box-shadow: 0px 1px 2px rgba(60, 64, 67, 0.3), 0px 1px 3px 1px rgba(60, 64, 67, 0.15);\n",
              "      fill: #174EA6;\n",
              "    }\n",
              "\n",
              "    [theme=dark] .colab-df-convert {\n",
              "      background-color: #3B4455;\n",
              "      fill: #D2E3FC;\n",
              "    }\n",
              "\n",
              "    [theme=dark] .colab-df-convert:hover {\n",
              "      background-color: #434B5C;\n",
              "      box-shadow: 0px 1px 3px 1px rgba(0, 0, 0, 0.15);\n",
              "      filter: drop-shadow(0px 1px 2px rgba(0, 0, 0, 0.3));\n",
              "      fill: #FFFFFF;\n",
              "    }\n",
              "  </style>\n",
              "\n",
              "      <script>\n",
              "        const buttonEl =\n",
              "          document.querySelector('#df-1f7dbf73-5bbd-478d-ac2d-2e9e79f8c5cb button.colab-df-convert');\n",
              "        buttonEl.style.display =\n",
              "          google.colab.kernel.accessAllowed ? 'block' : 'none';\n",
              "\n",
              "        async function convertToInteractive(key) {\n",
              "          const element = document.querySelector('#df-1f7dbf73-5bbd-478d-ac2d-2e9e79f8c5cb');\n",
              "          const dataTable =\n",
              "            await google.colab.kernel.invokeFunction('convertToInteractive',\n",
              "                                                     [key], {});\n",
              "          if (!dataTable) return;\n",
              "\n",
              "          const docLinkHtml = 'Like what you see? Visit the ' +\n",
              "            '<a target=\"_blank\" href=https://colab.research.google.com/notebooks/data_table.ipynb>data table notebook</a>'\n",
              "            + ' to learn more about interactive tables.';\n",
              "          element.innerHTML = '';\n",
              "          dataTable['output_type'] = 'display_data';\n",
              "          await google.colab.output.renderOutput(dataTable, element);\n",
              "          const docLink = document.createElement('div');\n",
              "          docLink.innerHTML = docLinkHtml;\n",
              "          element.appendChild(docLink);\n",
              "        }\n",
              "      </script>\n",
              "    </div>\n",
              "  </div>\n",
              "  "
            ]
          },
          "metadata": {},
          "execution_count": 44
        }
      ],
      "source": [
        "mae=\"KNNImputer mean absolute error percentage\"\n",
        "mse=\"KNNImputer mean square error percentage\"\n",
        "k=KNNImp(changed_Numeric_5per)\n",
        "mape(original_Numeric_5per,k,mae,mse)"
      ]
    },
    {
      "cell_type": "code",
      "execution_count": 45,
      "metadata": {
        "colab": {
          "base_uri": "https://localhost:8080/"
        },
        "id": "7KGHsjTElT4Q",
        "outputId": "c41c2826-8081-4ed7-bd72-8b36bbc5e977"
      },
      "outputs": [
        {
          "output_type": "stream",
          "name": "stdout",
          "text": [
            "Varience ,Simple Square and error Bias for KNNImputer\n",
            "*********************varience***********************\n",
            "\n",
            "AccountWeeks       0.975695\n",
            "DayMins            0.966337\n",
            "DayCalls           0.972484\n",
            "OverageFee         0.968633\n",
            "RoamMins           0.985703\n",
            "DataUsage          0.977060\n",
            "CustServCalls      0.952079\n",
            "ContractRenewal    0.086566\n",
            "dtype: float64\n",
            "#################################################################\n",
            "*********************Simple Square error***********************\n",
            "\n",
            "AccountWeeks       1.000066\n",
            "DayMins            1.000039\n",
            "DayCalls           1.000012\n",
            "OverageFee         1.000015\n",
            "RoamMins           1.000000\n",
            "DataUsage          1.000005\n",
            "CustServCalls      1.000020\n",
            "ContractRenewal    0.087521\n",
            "dtype: float64\n",
            "#################################################################\n",
            "*********************bias***********************\n",
            "\n",
            "AccountWeeks       0.024370\n",
            "DayMins            0.033702\n",
            "DayCalls           0.027528\n",
            "OverageFee         0.031381\n",
            "RoamMins           0.014298\n",
            "DataUsage          0.022945\n",
            "CustServCalls      0.047941\n",
            "ContractRenewal    0.000955\n",
            "dtype: float64\n",
            "#################################################################\n"
          ]
        }
      ],
      "source": [
        "m= \"Varience ,Simple Square and error Bias for KNNImputer\" \n",
        "vari(k,m)"
      ]
    },
    {
      "cell_type": "code",
      "execution_count": 46,
      "metadata": {
        "colab": {
          "base_uri": "https://localhost:8080/",
          "height": 344
        },
        "id": "T4QLuFK7laOQ",
        "outputId": "2c2b1932-8263-4e92-9e0a-eb64bad00c50"
      },
      "outputs": [
        {
          "output_type": "execute_result",
          "data": {
            "text/plain": [
              "                 KNNImputer mean absolute error percentage  \\\n",
              "AccountWeeks                                  3.767772e+01   \n",
              "DayMins                                       1.860773e+01   \n",
              "DayCalls                                      1.406318e+01   \n",
              "OverageFee                                    7.883888e+01   \n",
              "RoamMins                                      1.324644e+01   \n",
              "DataUsage                                     5.266282e+00   \n",
              "CustServCalls                                 7.246821e+00   \n",
              "ContractRenewal                               1.418776e+15   \n",
              "\n",
              "                 KNNImputer mean square error percentage  \\\n",
              "AccountWeeks                                    5.888233   \n",
              "DayMins                                         8.468141   \n",
              "DayCalls                                        7.901669   \n",
              "OverageFee                                      6.488437   \n",
              "RoamMins                                        5.309706   \n",
              "DataUsage                                       6.505726   \n",
              "CustServCalls                                  10.331973   \n",
              "ContractRenewal                                 0.570057   \n",
              "\n",
              "                 SimpleImputer mean absolute error percentage  \\\n",
              "AccountWeeks                                     4.334685e+00   \n",
              "DayMins                                          4.816643e+00   \n",
              "DayCalls                                         4.846830e+00   \n",
              "OverageFee                                       5.070804e+00   \n",
              "RoamMins                                         4.541963e+00   \n",
              "DataUsage                                        5.138258e+00   \n",
              "CustServCalls                                    5.250254e+00   \n",
              "ContractRenewal                                  1.585017e+15   \n",
              "\n",
              "                 SimpleImputer mean square error percentage  \n",
              "AccountWeeks                                       4.500279  \n",
              "DayMins                                            5.544087  \n",
              "DayCalls                                           5.177923  \n",
              "OverageFee                                         5.470940  \n",
              "RoamMins                                           3.950407  \n",
              "DataUsage                                          4.676338  \n",
              "CustServCalls                                      7.968671  \n",
              "ContractRenewal                                    0.359356  "
            ],
            "text/html": [
              "\n",
              "  <div id=\"df-1e56a6a1-b94a-43db-bf6c-3dd606f913da\">\n",
              "    <div class=\"colab-df-container\">\n",
              "      <div>\n",
              "<style scoped>\n",
              "    .dataframe tbody tr th:only-of-type {\n",
              "        vertical-align: middle;\n",
              "    }\n",
              "\n",
              "    .dataframe tbody tr th {\n",
              "        vertical-align: top;\n",
              "    }\n",
              "\n",
              "    .dataframe thead th {\n",
              "        text-align: right;\n",
              "    }\n",
              "</style>\n",
              "<table border=\"1\" class=\"dataframe\">\n",
              "  <thead>\n",
              "    <tr style=\"text-align: right;\">\n",
              "      <th></th>\n",
              "      <th>KNNImputer mean absolute error percentage</th>\n",
              "      <th>KNNImputer mean square error percentage</th>\n",
              "      <th>SimpleImputer mean absolute error percentage</th>\n",
              "      <th>SimpleImputer mean square error percentage</th>\n",
              "    </tr>\n",
              "  </thead>\n",
              "  <tbody>\n",
              "    <tr>\n",
              "      <th>AccountWeeks</th>\n",
              "      <td>3.767772e+01</td>\n",
              "      <td>5.888233</td>\n",
              "      <td>4.334685e+00</td>\n",
              "      <td>4.500279</td>\n",
              "    </tr>\n",
              "    <tr>\n",
              "      <th>DayMins</th>\n",
              "      <td>1.860773e+01</td>\n",
              "      <td>8.468141</td>\n",
              "      <td>4.816643e+00</td>\n",
              "      <td>5.544087</td>\n",
              "    </tr>\n",
              "    <tr>\n",
              "      <th>DayCalls</th>\n",
              "      <td>1.406318e+01</td>\n",
              "      <td>7.901669</td>\n",
              "      <td>4.846830e+00</td>\n",
              "      <td>5.177923</td>\n",
              "    </tr>\n",
              "    <tr>\n",
              "      <th>OverageFee</th>\n",
              "      <td>7.883888e+01</td>\n",
              "      <td>6.488437</td>\n",
              "      <td>5.070804e+00</td>\n",
              "      <td>5.470940</td>\n",
              "    </tr>\n",
              "    <tr>\n",
              "      <th>RoamMins</th>\n",
              "      <td>1.324644e+01</td>\n",
              "      <td>5.309706</td>\n",
              "      <td>4.541963e+00</td>\n",
              "      <td>3.950407</td>\n",
              "    </tr>\n",
              "    <tr>\n",
              "      <th>DataUsage</th>\n",
              "      <td>5.266282e+00</td>\n",
              "      <td>6.505726</td>\n",
              "      <td>5.138258e+00</td>\n",
              "      <td>4.676338</td>\n",
              "    </tr>\n",
              "    <tr>\n",
              "      <th>CustServCalls</th>\n",
              "      <td>7.246821e+00</td>\n",
              "      <td>10.331973</td>\n",
              "      <td>5.250254e+00</td>\n",
              "      <td>7.968671</td>\n",
              "    </tr>\n",
              "    <tr>\n",
              "      <th>ContractRenewal</th>\n",
              "      <td>1.418776e+15</td>\n",
              "      <td>0.570057</td>\n",
              "      <td>1.585017e+15</td>\n",
              "      <td>0.359356</td>\n",
              "    </tr>\n",
              "  </tbody>\n",
              "</table>\n",
              "</div>\n",
              "      <button class=\"colab-df-convert\" onclick=\"convertToInteractive('df-1e56a6a1-b94a-43db-bf6c-3dd606f913da')\"\n",
              "              title=\"Convert this dataframe to an interactive table.\"\n",
              "              style=\"display:none;\">\n",
              "        \n",
              "  <svg xmlns=\"http://www.w3.org/2000/svg\" height=\"24px\"viewBox=\"0 0 24 24\"\n",
              "       width=\"24px\">\n",
              "    <path d=\"M0 0h24v24H0V0z\" fill=\"none\"/>\n",
              "    <path d=\"M18.56 5.44l.94 2.06.94-2.06 2.06-.94-2.06-.94-.94-2.06-.94 2.06-2.06.94zm-11 1L8.5 8.5l.94-2.06 2.06-.94-2.06-.94L8.5 2.5l-.94 2.06-2.06.94zm10 10l.94 2.06.94-2.06 2.06-.94-2.06-.94-.94-2.06-.94 2.06-2.06.94z\"/><path d=\"M17.41 7.96l-1.37-1.37c-.4-.4-.92-.59-1.43-.59-.52 0-1.04.2-1.43.59L10.3 9.45l-7.72 7.72c-.78.78-.78 2.05 0 2.83L4 21.41c.39.39.9.59 1.41.59.51 0 1.02-.2 1.41-.59l7.78-7.78 2.81-2.81c.8-.78.8-2.07 0-2.86zM5.41 20L4 18.59l7.72-7.72 1.47 1.35L5.41 20z\"/>\n",
              "  </svg>\n",
              "      </button>\n",
              "      \n",
              "  <style>\n",
              "    .colab-df-container {\n",
              "      display:flex;\n",
              "      flex-wrap:wrap;\n",
              "      gap: 12px;\n",
              "    }\n",
              "\n",
              "    .colab-df-convert {\n",
              "      background-color: #E8F0FE;\n",
              "      border: none;\n",
              "      border-radius: 50%;\n",
              "      cursor: pointer;\n",
              "      display: none;\n",
              "      fill: #1967D2;\n",
              "      height: 32px;\n",
              "      padding: 0 0 0 0;\n",
              "      width: 32px;\n",
              "    }\n",
              "\n",
              "    .colab-df-convert:hover {\n",
              "      background-color: #E2EBFA;\n",
              "      box-shadow: 0px 1px 2px rgba(60, 64, 67, 0.3), 0px 1px 3px 1px rgba(60, 64, 67, 0.15);\n",
              "      fill: #174EA6;\n",
              "    }\n",
              "\n",
              "    [theme=dark] .colab-df-convert {\n",
              "      background-color: #3B4455;\n",
              "      fill: #D2E3FC;\n",
              "    }\n",
              "\n",
              "    [theme=dark] .colab-df-convert:hover {\n",
              "      background-color: #434B5C;\n",
              "      box-shadow: 0px 1px 3px 1px rgba(0, 0, 0, 0.15);\n",
              "      filter: drop-shadow(0px 1px 2px rgba(0, 0, 0, 0.3));\n",
              "      fill: #FFFFFF;\n",
              "    }\n",
              "  </style>\n",
              "\n",
              "      <script>\n",
              "        const buttonEl =\n",
              "          document.querySelector('#df-1e56a6a1-b94a-43db-bf6c-3dd606f913da button.colab-df-convert');\n",
              "        buttonEl.style.display =\n",
              "          google.colab.kernel.accessAllowed ? 'block' : 'none';\n",
              "\n",
              "        async function convertToInteractive(key) {\n",
              "          const element = document.querySelector('#df-1e56a6a1-b94a-43db-bf6c-3dd606f913da');\n",
              "          const dataTable =\n",
              "            await google.colab.kernel.invokeFunction('convertToInteractive',\n",
              "                                                     [key], {});\n",
              "          if (!dataTable) return;\n",
              "\n",
              "          const docLinkHtml = 'Like what you see? Visit the ' +\n",
              "            '<a target=\"_blank\" href=https://colab.research.google.com/notebooks/data_table.ipynb>data table notebook</a>'\n",
              "            + ' to learn more about interactive tables.';\n",
              "          element.innerHTML = '';\n",
              "          dataTable['output_type'] = 'display_data';\n",
              "          await google.colab.output.renderOutput(dataTable, element);\n",
              "          const docLink = document.createElement('div');\n",
              "          docLink.innerHTML = docLinkHtml;\n",
              "          element.appendChild(docLink);\n",
              "        }\n",
              "      </script>\n",
              "    </div>\n",
              "  </div>\n",
              "  "
            ]
          },
          "metadata": {},
          "execution_count": 46
        }
      ],
      "source": [
        "mae=\"SimpleImputer mean absolute error percentage\"\n",
        "mse=\"SimpleImputer mean square error percentage\"\n",
        "c=SimpleImp(changed_Numeric_5per)\n",
        "mape(original_Numeric_5per,c,mae,mse)"
      ]
    },
    {
      "cell_type": "code",
      "execution_count": 47,
      "metadata": {
        "colab": {
          "base_uri": "https://localhost:8080/"
        },
        "id": "HTDVyIellZ4n",
        "outputId": "41ff60bc-c758-4891-aab1-fbec4efc265c"
      },
      "outputs": [
        {
          "output_type": "stream",
          "name": "stdout",
          "text": [
            "Varience ,Simple Square and error Bias for  SimpleImputer\n",
            "*********************varience***********************\n",
            "\n",
            "AccountWeeks       0.955010\n",
            "DayMins            0.944569\n",
            "DayCalls           0.948265\n",
            "OverageFee         0.945307\n",
            "RoamMins           0.960501\n",
            "DataUsage          0.953239\n",
            "CustServCalls      0.920324\n",
            "ContractRenewal    0.083925\n",
            "dtype: float64\n",
            "#################################################################\n",
            "*********************Simple Square error***********************\n",
            "\n",
            "AccountWeeks       1.000013\n",
            "DayMins            1.000010\n",
            "DayCalls           1.000044\n",
            "OverageFee         1.000016\n",
            "RoamMins           1.000005\n",
            "DataUsage          1.000002\n",
            "CustServCalls      1.000011\n",
            "ContractRenewal    0.087519\n",
            "dtype: float64\n",
            "#################################################################\n",
            "*********************bias***********************\n",
            "\n",
            "AccountWeeks       0.045003\n",
            "DayMins            0.055441\n",
            "DayCalls           0.051779\n",
            "OverageFee         0.054709\n",
            "RoamMins           0.039504\n",
            "DataUsage          0.046763\n",
            "CustServCalls      0.079687\n",
            "ContractRenewal    0.003594\n",
            "dtype: float64\n",
            "#################################################################\n"
          ]
        }
      ],
      "source": [
        "m= \"Varience ,Simple Square and error Bias for  SimpleImputer\" \n",
        "vari(c,m)"
      ]
    },
    {
      "cell_type": "code",
      "execution_count": 48,
      "metadata": {
        "colab": {
          "base_uri": "https://localhost:8080/",
          "height": 362
        },
        "id": "L8SCBDeJlnk8",
        "outputId": "b436aec2-f137-4844-b0d9-6a8251107a85"
      },
      "outputs": [
        {
          "output_type": "execute_result",
          "data": {
            "text/plain": [
              "                 KNNImputer mean absolute error percentage  \\\n",
              "AccountWeeks                                  3.767772e+01   \n",
              "DayMins                                       1.860773e+01   \n",
              "DayCalls                                      1.406318e+01   \n",
              "OverageFee                                    7.883888e+01   \n",
              "RoamMins                                      1.324644e+01   \n",
              "DataUsage                                     5.266282e+00   \n",
              "CustServCalls                                 7.246821e+00   \n",
              "ContractRenewal                               1.418776e+15   \n",
              "\n",
              "                 KNNImputer mean square error percentage  \\\n",
              "AccountWeeks                                    5.888233   \n",
              "DayMins                                         8.468141   \n",
              "DayCalls                                        7.901669   \n",
              "OverageFee                                      6.488437   \n",
              "RoamMins                                        5.309706   \n",
              "DataUsage                                       6.505726   \n",
              "CustServCalls                                  10.331973   \n",
              "ContractRenewal                                 0.570057   \n",
              "\n",
              "                 SimpleImputer mean absolute error percentage  \\\n",
              "AccountWeeks                                     4.334685e+00   \n",
              "DayMins                                          4.816643e+00   \n",
              "DayCalls                                         4.846830e+00   \n",
              "OverageFee                                       5.070804e+00   \n",
              "RoamMins                                         4.541963e+00   \n",
              "DataUsage                                        5.138258e+00   \n",
              "CustServCalls                                    5.250254e+00   \n",
              "ContractRenewal                                  1.585017e+15   \n",
              "\n",
              "                 SimpleImputer mean square error percentage  \\\n",
              "AccountWeeks                                       4.500279   \n",
              "DayMins                                            5.544087   \n",
              "DayCalls                                           5.177923   \n",
              "OverageFee                                         5.470940   \n",
              "RoamMins                                           3.950407   \n",
              "DataUsage                                          4.676338   \n",
              "CustServCalls                                      7.968671   \n",
              "ContractRenewal                                    0.359356   \n",
              "\n",
              "                 Iterative Imputer mean absolute error percentage  \\\n",
              "AccountWeeks                                         5.790144e+01   \n",
              "DayMins                                              5.816230e+01   \n",
              "DayCalls                                             5.816004e+01   \n",
              "OverageFee                                           5.760505e+01   \n",
              "RoamMins                                             5.920802e+01   \n",
              "DataUsage                                            5.628624e+01   \n",
              "CustServCalls                                        6.591430e+01   \n",
              "ContractRenewal                                      1.756580e+15   \n",
              "\n",
              "                 Iterative Imputer mean square error percentage  \n",
              "AccountWeeks                                          12.567360  \n",
              "DayMins                                               13.640045  \n",
              "DayCalls                                              13.009724  \n",
              "OverageFee                                            13.311403  \n",
              "RoamMins                                              11.924203  \n",
              "DataUsage                                             16.400135  \n",
              "CustServCalls                                         17.892387  \n",
              "ContractRenewal                                        0.390039  "
            ],
            "text/html": [
              "\n",
              "  <div id=\"df-083beede-ed83-45ee-a2c5-bb88af4378e9\">\n",
              "    <div class=\"colab-df-container\">\n",
              "      <div>\n",
              "<style scoped>\n",
              "    .dataframe tbody tr th:only-of-type {\n",
              "        vertical-align: middle;\n",
              "    }\n",
              "\n",
              "    .dataframe tbody tr th {\n",
              "        vertical-align: top;\n",
              "    }\n",
              "\n",
              "    .dataframe thead th {\n",
              "        text-align: right;\n",
              "    }\n",
              "</style>\n",
              "<table border=\"1\" class=\"dataframe\">\n",
              "  <thead>\n",
              "    <tr style=\"text-align: right;\">\n",
              "      <th></th>\n",
              "      <th>KNNImputer mean absolute error percentage</th>\n",
              "      <th>KNNImputer mean square error percentage</th>\n",
              "      <th>SimpleImputer mean absolute error percentage</th>\n",
              "      <th>SimpleImputer mean square error percentage</th>\n",
              "      <th>Iterative Imputer mean absolute error percentage</th>\n",
              "      <th>Iterative Imputer mean square error percentage</th>\n",
              "    </tr>\n",
              "  </thead>\n",
              "  <tbody>\n",
              "    <tr>\n",
              "      <th>AccountWeeks</th>\n",
              "      <td>3.767772e+01</td>\n",
              "      <td>5.888233</td>\n",
              "      <td>4.334685e+00</td>\n",
              "      <td>4.500279</td>\n",
              "      <td>5.790144e+01</td>\n",
              "      <td>12.567360</td>\n",
              "    </tr>\n",
              "    <tr>\n",
              "      <th>DayMins</th>\n",
              "      <td>1.860773e+01</td>\n",
              "      <td>8.468141</td>\n",
              "      <td>4.816643e+00</td>\n",
              "      <td>5.544087</td>\n",
              "      <td>5.816230e+01</td>\n",
              "      <td>13.640045</td>\n",
              "    </tr>\n",
              "    <tr>\n",
              "      <th>DayCalls</th>\n",
              "      <td>1.406318e+01</td>\n",
              "      <td>7.901669</td>\n",
              "      <td>4.846830e+00</td>\n",
              "      <td>5.177923</td>\n",
              "      <td>5.816004e+01</td>\n",
              "      <td>13.009724</td>\n",
              "    </tr>\n",
              "    <tr>\n",
              "      <th>OverageFee</th>\n",
              "      <td>7.883888e+01</td>\n",
              "      <td>6.488437</td>\n",
              "      <td>5.070804e+00</td>\n",
              "      <td>5.470940</td>\n",
              "      <td>5.760505e+01</td>\n",
              "      <td>13.311403</td>\n",
              "    </tr>\n",
              "    <tr>\n",
              "      <th>RoamMins</th>\n",
              "      <td>1.324644e+01</td>\n",
              "      <td>5.309706</td>\n",
              "      <td>4.541963e+00</td>\n",
              "      <td>3.950407</td>\n",
              "      <td>5.920802e+01</td>\n",
              "      <td>11.924203</td>\n",
              "    </tr>\n",
              "    <tr>\n",
              "      <th>DataUsage</th>\n",
              "      <td>5.266282e+00</td>\n",
              "      <td>6.505726</td>\n",
              "      <td>5.138258e+00</td>\n",
              "      <td>4.676338</td>\n",
              "      <td>5.628624e+01</td>\n",
              "      <td>16.400135</td>\n",
              "    </tr>\n",
              "    <tr>\n",
              "      <th>CustServCalls</th>\n",
              "      <td>7.246821e+00</td>\n",
              "      <td>10.331973</td>\n",
              "      <td>5.250254e+00</td>\n",
              "      <td>7.968671</td>\n",
              "      <td>6.591430e+01</td>\n",
              "      <td>17.892387</td>\n",
              "    </tr>\n",
              "    <tr>\n",
              "      <th>ContractRenewal</th>\n",
              "      <td>1.418776e+15</td>\n",
              "      <td>0.570057</td>\n",
              "      <td>1.585017e+15</td>\n",
              "      <td>0.359356</td>\n",
              "      <td>1.756580e+15</td>\n",
              "      <td>0.390039</td>\n",
              "    </tr>\n",
              "  </tbody>\n",
              "</table>\n",
              "</div>\n",
              "      <button class=\"colab-df-convert\" onclick=\"convertToInteractive('df-083beede-ed83-45ee-a2c5-bb88af4378e9')\"\n",
              "              title=\"Convert this dataframe to an interactive table.\"\n",
              "              style=\"display:none;\">\n",
              "        \n",
              "  <svg xmlns=\"http://www.w3.org/2000/svg\" height=\"24px\"viewBox=\"0 0 24 24\"\n",
              "       width=\"24px\">\n",
              "    <path d=\"M0 0h24v24H0V0z\" fill=\"none\"/>\n",
              "    <path d=\"M18.56 5.44l.94 2.06.94-2.06 2.06-.94-2.06-.94-.94-2.06-.94 2.06-2.06.94zm-11 1L8.5 8.5l.94-2.06 2.06-.94-2.06-.94L8.5 2.5l-.94 2.06-2.06.94zm10 10l.94 2.06.94-2.06 2.06-.94-2.06-.94-.94-2.06-.94 2.06-2.06.94z\"/><path d=\"M17.41 7.96l-1.37-1.37c-.4-.4-.92-.59-1.43-.59-.52 0-1.04.2-1.43.59L10.3 9.45l-7.72 7.72c-.78.78-.78 2.05 0 2.83L4 21.41c.39.39.9.59 1.41.59.51 0 1.02-.2 1.41-.59l7.78-7.78 2.81-2.81c.8-.78.8-2.07 0-2.86zM5.41 20L4 18.59l7.72-7.72 1.47 1.35L5.41 20z\"/>\n",
              "  </svg>\n",
              "      </button>\n",
              "      \n",
              "  <style>\n",
              "    .colab-df-container {\n",
              "      display:flex;\n",
              "      flex-wrap:wrap;\n",
              "      gap: 12px;\n",
              "    }\n",
              "\n",
              "    .colab-df-convert {\n",
              "      background-color: #E8F0FE;\n",
              "      border: none;\n",
              "      border-radius: 50%;\n",
              "      cursor: pointer;\n",
              "      display: none;\n",
              "      fill: #1967D2;\n",
              "      height: 32px;\n",
              "      padding: 0 0 0 0;\n",
              "      width: 32px;\n",
              "    }\n",
              "\n",
              "    .colab-df-convert:hover {\n",
              "      background-color: #E2EBFA;\n",
              "      box-shadow: 0px 1px 2px rgba(60, 64, 67, 0.3), 0px 1px 3px 1px rgba(60, 64, 67, 0.15);\n",
              "      fill: #174EA6;\n",
              "    }\n",
              "\n",
              "    [theme=dark] .colab-df-convert {\n",
              "      background-color: #3B4455;\n",
              "      fill: #D2E3FC;\n",
              "    }\n",
              "\n",
              "    [theme=dark] .colab-df-convert:hover {\n",
              "      background-color: #434B5C;\n",
              "      box-shadow: 0px 1px 3px 1px rgba(0, 0, 0, 0.15);\n",
              "      filter: drop-shadow(0px 1px 2px rgba(0, 0, 0, 0.3));\n",
              "      fill: #FFFFFF;\n",
              "    }\n",
              "  </style>\n",
              "\n",
              "      <script>\n",
              "        const buttonEl =\n",
              "          document.querySelector('#df-083beede-ed83-45ee-a2c5-bb88af4378e9 button.colab-df-convert');\n",
              "        buttonEl.style.display =\n",
              "          google.colab.kernel.accessAllowed ? 'block' : 'none';\n",
              "\n",
              "        async function convertToInteractive(key) {\n",
              "          const element = document.querySelector('#df-083beede-ed83-45ee-a2c5-bb88af4378e9');\n",
              "          const dataTable =\n",
              "            await google.colab.kernel.invokeFunction('convertToInteractive',\n",
              "                                                     [key], {});\n",
              "          if (!dataTable) return;\n",
              "\n",
              "          const docLinkHtml = 'Like what you see? Visit the ' +\n",
              "            '<a target=\"_blank\" href=https://colab.research.google.com/notebooks/data_table.ipynb>data table notebook</a>'\n",
              "            + ' to learn more about interactive tables.';\n",
              "          element.innerHTML = '';\n",
              "          dataTable['output_type'] = 'display_data';\n",
              "          await google.colab.output.renderOutput(dataTable, element);\n",
              "          const docLink = document.createElement('div');\n",
              "          docLink.innerHTML = docLinkHtml;\n",
              "          element.appendChild(docLink);\n",
              "        }\n",
              "      </script>\n",
              "    </div>\n",
              "  </div>\n",
              "  "
            ]
          },
          "metadata": {},
          "execution_count": 48
        }
      ],
      "source": [
        "mae=\"Iterative Imputer mean absolute error percentage\"\n",
        "mse=\"Iterative Imputer mean square error percentage\"\n",
        "f=IterImp(changed_Numeric_5per)\n",
        "mape(original_Numeric_5per,f,mae,mse)"
      ]
    },
    {
      "cell_type": "code",
      "execution_count": 49,
      "metadata": {
        "colab": {
          "base_uri": "https://localhost:8080/"
        },
        "id": "HWUsjofWlo8z",
        "outputId": "b3c68503-13ae-4878-d9da-9dc320d83666"
      },
      "outputs": [
        {
          "output_type": "stream",
          "name": "stdout",
          "text": [
            "Varience ,Simple Square and error Bias for IterativeImputer\n",
            "*********************varience***********************\n",
            "\n",
            "AccountWeeks       1.057005\n",
            "DayMins            1.032338\n",
            "DayCalls           1.026387\n",
            "OverageFee         1.016258\n",
            "RoamMins           1.034693\n",
            "DataUsage          1.253774\n",
            "CustServCalls      0.773447\n",
            "ContractRenewal    0.084359\n",
            "dtype: float64\n",
            "#################################################################\n",
            "*********************Simple Square error***********************\n",
            "\n",
            "AccountWeeks       1.000001\n",
            "DayMins            1.000066\n",
            "DayCalls           1.000015\n",
            "OverageFee         1.000243\n",
            "RoamMins           1.000110\n",
            "DataUsage          1.015653\n",
            "CustServCalls      1.011731\n",
            "ContractRenewal    0.087533\n",
            "dtype: float64\n",
            "#################################################################\n",
            "*********************bias***********************\n",
            "\n",
            "AccountWeeks      -0.057004\n",
            "DayMins           -0.032272\n",
            "DayCalls          -0.026372\n",
            "OverageFee        -0.016015\n",
            "RoamMins          -0.034583\n",
            "DataUsage         -0.238121\n",
            "CustServCalls      0.238284\n",
            "ContractRenewal    0.003175\n",
            "dtype: float64\n",
            "#################################################################\n"
          ]
        }
      ],
      "source": [
        "m= \"Varience ,Simple Square and error Bias for IterativeImputer\" \n",
        "vari(f,m)"
      ]
    },
    {
      "cell_type": "code",
      "execution_count": 50,
      "metadata": {
        "id": "GAp3kaDVGr5b"
      },
      "outputs": [],
      "source": [
        "df6=df.copy()\n",
        "original_Numeric_1per = df6.drop([\"Churn\"], axis=1)\n",
        "original_Cat_1per = df6[[\"Churn\"]]\n",
        "nullfiller(df6,0.01)\n",
        "changed_Numeric_1per = df6.drop([\"Churn\"], axis=1)\n",
        "changed_Cat_1per = df6[[\"Churn\"]]"
      ]
    },
    {
      "cell_type": "code",
      "execution_count": 51,
      "metadata": {
        "id": "lLb6uflDHVMX"
      },
      "outputs": [],
      "source": [
        "error_tenper=pd.DataFrame()"
      ]
    },
    {
      "cell_type": "code",
      "execution_count": 52,
      "metadata": {
        "colab": {
          "base_uri": "https://localhost:8080/",
          "height": 300
        },
        "id": "OdxFmhGtHG3k",
        "outputId": "1515ac5f-ecbc-42ca-8484-b8dc1e3a8cfb"
      },
      "outputs": [
        {
          "output_type": "execute_result",
          "data": {
            "text/plain": [
              "                 KNNImputer mean absolute error percentage  \\\n",
              "AccountWeeks                                  5.880710e+00   \n",
              "DayMins                                       2.645023e+00   \n",
              "DayCalls                                      2.341565e+00   \n",
              "OverageFee                                    1.683956e+00   \n",
              "RoamMins                                      1.493072e+00   \n",
              "DataUsage                                     9.143911e-01   \n",
              "CustServCalls                                 1.243666e+00   \n",
              "ContractRenewal                               2.702430e+14   \n",
              "\n",
              "                 KNNImputer mean square error percentage  \n",
              "AccountWeeks                                    1.739676  \n",
              "DayMins                                         1.109543  \n",
              "DayCalls                                        1.270246  \n",
              "OverageFee                                      2.949139  \n",
              "RoamMins                                        0.747540  \n",
              "DataUsage                                       1.330028  \n",
              "CustServCalls                                   1.088261  \n",
              "ContractRenewal                                 0.075008  "
            ],
            "text/html": [
              "\n",
              "  <div id=\"df-b311ec29-64b3-4bb6-9327-0c25ff0cf421\">\n",
              "    <div class=\"colab-df-container\">\n",
              "      <div>\n",
              "<style scoped>\n",
              "    .dataframe tbody tr th:only-of-type {\n",
              "        vertical-align: middle;\n",
              "    }\n",
              "\n",
              "    .dataframe tbody tr th {\n",
              "        vertical-align: top;\n",
              "    }\n",
              "\n",
              "    .dataframe thead th {\n",
              "        text-align: right;\n",
              "    }\n",
              "</style>\n",
              "<table border=\"1\" class=\"dataframe\">\n",
              "  <thead>\n",
              "    <tr style=\"text-align: right;\">\n",
              "      <th></th>\n",
              "      <th>KNNImputer mean absolute error percentage</th>\n",
              "      <th>KNNImputer mean square error percentage</th>\n",
              "    </tr>\n",
              "  </thead>\n",
              "  <tbody>\n",
              "    <tr>\n",
              "      <th>AccountWeeks</th>\n",
              "      <td>5.880710e+00</td>\n",
              "      <td>1.739676</td>\n",
              "    </tr>\n",
              "    <tr>\n",
              "      <th>DayMins</th>\n",
              "      <td>2.645023e+00</td>\n",
              "      <td>1.109543</td>\n",
              "    </tr>\n",
              "    <tr>\n",
              "      <th>DayCalls</th>\n",
              "      <td>2.341565e+00</td>\n",
              "      <td>1.270246</td>\n",
              "    </tr>\n",
              "    <tr>\n",
              "      <th>OverageFee</th>\n",
              "      <td>1.683956e+00</td>\n",
              "      <td>2.949139</td>\n",
              "    </tr>\n",
              "    <tr>\n",
              "      <th>RoamMins</th>\n",
              "      <td>1.493072e+00</td>\n",
              "      <td>0.747540</td>\n",
              "    </tr>\n",
              "    <tr>\n",
              "      <th>DataUsage</th>\n",
              "      <td>9.143911e-01</td>\n",
              "      <td>1.330028</td>\n",
              "    </tr>\n",
              "    <tr>\n",
              "      <th>CustServCalls</th>\n",
              "      <td>1.243666e+00</td>\n",
              "      <td>1.088261</td>\n",
              "    </tr>\n",
              "    <tr>\n",
              "      <th>ContractRenewal</th>\n",
              "      <td>2.702430e+14</td>\n",
              "      <td>0.075008</td>\n",
              "    </tr>\n",
              "  </tbody>\n",
              "</table>\n",
              "</div>\n",
              "      <button class=\"colab-df-convert\" onclick=\"convertToInteractive('df-b311ec29-64b3-4bb6-9327-0c25ff0cf421')\"\n",
              "              title=\"Convert this dataframe to an interactive table.\"\n",
              "              style=\"display:none;\">\n",
              "        \n",
              "  <svg xmlns=\"http://www.w3.org/2000/svg\" height=\"24px\"viewBox=\"0 0 24 24\"\n",
              "       width=\"24px\">\n",
              "    <path d=\"M0 0h24v24H0V0z\" fill=\"none\"/>\n",
              "    <path d=\"M18.56 5.44l.94 2.06.94-2.06 2.06-.94-2.06-.94-.94-2.06-.94 2.06-2.06.94zm-11 1L8.5 8.5l.94-2.06 2.06-.94-2.06-.94L8.5 2.5l-.94 2.06-2.06.94zm10 10l.94 2.06.94-2.06 2.06-.94-2.06-.94-.94-2.06-.94 2.06-2.06.94z\"/><path d=\"M17.41 7.96l-1.37-1.37c-.4-.4-.92-.59-1.43-.59-.52 0-1.04.2-1.43.59L10.3 9.45l-7.72 7.72c-.78.78-.78 2.05 0 2.83L4 21.41c.39.39.9.59 1.41.59.51 0 1.02-.2 1.41-.59l7.78-7.78 2.81-2.81c.8-.78.8-2.07 0-2.86zM5.41 20L4 18.59l7.72-7.72 1.47 1.35L5.41 20z\"/>\n",
              "  </svg>\n",
              "      </button>\n",
              "      \n",
              "  <style>\n",
              "    .colab-df-container {\n",
              "      display:flex;\n",
              "      flex-wrap:wrap;\n",
              "      gap: 12px;\n",
              "    }\n",
              "\n",
              "    .colab-df-convert {\n",
              "      background-color: #E8F0FE;\n",
              "      border: none;\n",
              "      border-radius: 50%;\n",
              "      cursor: pointer;\n",
              "      display: none;\n",
              "      fill: #1967D2;\n",
              "      height: 32px;\n",
              "      padding: 0 0 0 0;\n",
              "      width: 32px;\n",
              "    }\n",
              "\n",
              "    .colab-df-convert:hover {\n",
              "      background-color: #E2EBFA;\n",
              "      box-shadow: 0px 1px 2px rgba(60, 64, 67, 0.3), 0px 1px 3px 1px rgba(60, 64, 67, 0.15);\n",
              "      fill: #174EA6;\n",
              "    }\n",
              "\n",
              "    [theme=dark] .colab-df-convert {\n",
              "      background-color: #3B4455;\n",
              "      fill: #D2E3FC;\n",
              "    }\n",
              "\n",
              "    [theme=dark] .colab-df-convert:hover {\n",
              "      background-color: #434B5C;\n",
              "      box-shadow: 0px 1px 3px 1px rgba(0, 0, 0, 0.15);\n",
              "      filter: drop-shadow(0px 1px 2px rgba(0, 0, 0, 0.3));\n",
              "      fill: #FFFFFF;\n",
              "    }\n",
              "  </style>\n",
              "\n",
              "      <script>\n",
              "        const buttonEl =\n",
              "          document.querySelector('#df-b311ec29-64b3-4bb6-9327-0c25ff0cf421 button.colab-df-convert');\n",
              "        buttonEl.style.display =\n",
              "          google.colab.kernel.accessAllowed ? 'block' : 'none';\n",
              "\n",
              "        async function convertToInteractive(key) {\n",
              "          const element = document.querySelector('#df-b311ec29-64b3-4bb6-9327-0c25ff0cf421');\n",
              "          const dataTable =\n",
              "            await google.colab.kernel.invokeFunction('convertToInteractive',\n",
              "                                                     [key], {});\n",
              "          if (!dataTable) return;\n",
              "\n",
              "          const docLinkHtml = 'Like what you see? Visit the ' +\n",
              "            '<a target=\"_blank\" href=https://colab.research.google.com/notebooks/data_table.ipynb>data table notebook</a>'\n",
              "            + ' to learn more about interactive tables.';\n",
              "          element.innerHTML = '';\n",
              "          dataTable['output_type'] = 'display_data';\n",
              "          await google.colab.output.renderOutput(dataTable, element);\n",
              "          const docLink = document.createElement('div');\n",
              "          docLink.innerHTML = docLinkHtml;\n",
              "          element.appendChild(docLink);\n",
              "        }\n",
              "      </script>\n",
              "    </div>\n",
              "  </div>\n",
              "  "
            ]
          },
          "metadata": {},
          "execution_count": 52
        }
      ],
      "source": [
        "mae=\"KNNImputer mean absolute error percentage\"\n",
        "mse=\"KNNImputer mean square error percentage\"\n",
        "k=KNNImp(changed_Numeric_1per)\n",
        "mape(original_Numeric_1per,k,mae,mse)"
      ]
    },
    {
      "cell_type": "code",
      "execution_count": 53,
      "metadata": {
        "colab": {
          "base_uri": "https://localhost:8080/"
        },
        "id": "oEkNXWAjHdQH",
        "outputId": "0b4f0b20-aa15-4ef9-d485-d6ea70a8ab4a"
      },
      "outputs": [
        {
          "output_type": "stream",
          "name": "stdout",
          "text": [
            "Varience ,Simple Square and error Bias for KNNImputer\n",
            "*********************varience***********************\n",
            "\n",
            "AccountWeeks       0.997307\n",
            "DayMins            0.998964\n",
            "DayCalls           0.998643\n",
            "OverageFee         0.984441\n",
            "RoamMins           0.995045\n",
            "DataUsage          0.990781\n",
            "CustServCalls      0.997021\n",
            "ContractRenewal    0.087068\n",
            "dtype: float64\n",
            "#################################################################\n",
            "*********************Simple Square error***********************\n",
            "\n",
            "AccountWeeks       1.000005\n",
            "DayMins            1.000020\n",
            "DayCalls           1.000011\n",
            "OverageFee         1.000000\n",
            "RoamMins           1.000006\n",
            "DataUsage          1.000001\n",
            "CustServCalls      1.000018\n",
            "ContractRenewal    0.087518\n",
            "dtype: float64\n",
            "#################################################################\n",
            "*********************bias***********************\n",
            "\n",
            "AccountWeeks       0.002697\n",
            "DayMins            0.001056\n",
            "DayCalls           0.001368\n",
            "OverageFee         0.015559\n",
            "RoamMins           0.004962\n",
            "DataUsage          0.009220\n",
            "CustServCalls      0.002997\n",
            "ContractRenewal    0.000450\n",
            "dtype: float64\n",
            "#################################################################\n"
          ]
        }
      ],
      "source": [
        "m= \"Varience ,Simple Square and error Bias for KNNImputer\" \n",
        "vari(k,m)"
      ]
    },
    {
      "cell_type": "code",
      "execution_count": 54,
      "metadata": {
        "colab": {
          "base_uri": "https://localhost:8080/",
          "height": 344
        },
        "id": "GIZ-CVfLHmnt",
        "outputId": "7b659342-1933-4d0e-9c86-3c1e1dae57ed"
      },
      "outputs": [
        {
          "output_type": "execute_result",
          "data": {
            "text/plain": [
              "                 KNNImputer mean absolute error percentage  \\\n",
              "AccountWeeks                                  5.880710e+00   \n",
              "DayMins                                       2.645023e+00   \n",
              "DayCalls                                      2.341565e+00   \n",
              "OverageFee                                    1.683956e+00   \n",
              "RoamMins                                      1.493072e+00   \n",
              "DataUsage                                     9.143911e-01   \n",
              "CustServCalls                                 1.243666e+00   \n",
              "ContractRenewal                               2.702430e+14   \n",
              "\n",
              "                 KNNImputer mean square error percentage  \\\n",
              "AccountWeeks                                    1.739676   \n",
              "DayMins                                         1.109543   \n",
              "DayCalls                                        1.270246   \n",
              "OverageFee                                      2.949139   \n",
              "RoamMins                                        0.747540   \n",
              "DataUsage                                       1.330028   \n",
              "CustServCalls                                   1.088261   \n",
              "ContractRenewal                                 0.075008   \n",
              "\n",
              "                 SimpleImputer mean absolute error percentage  \\\n",
              "AccountWeeks                                     1.022706e+00   \n",
              "DayMins                                          1.172101e+00   \n",
              "DayCalls                                         1.204244e+00   \n",
              "OverageFee                                       1.022269e+00   \n",
              "RoamMins                                         7.850401e-01   \n",
              "DataUsage                                        8.683330e-01   \n",
              "CustServCalls                                    1.113978e+00   \n",
              "ContractRenewal                                  3.660683e+14   \n",
              "\n",
              "                 SimpleImputer mean square error percentage  \n",
              "AccountWeeks                                       0.935231  \n",
              "DayMins                                            0.815530  \n",
              "DayCalls                                           0.739096  \n",
              "OverageFee                                         2.028743  \n",
              "RoamMins                                           0.870051  \n",
              "DataUsage                                          1.281880  \n",
              "CustServCalls                                      0.690868  \n",
              "ContractRenewal                                    0.081580  "
            ],
            "text/html": [
              "\n",
              "  <div id=\"df-03ea5c25-96f2-4af6-9572-802f045fbd17\">\n",
              "    <div class=\"colab-df-container\">\n",
              "      <div>\n",
              "<style scoped>\n",
              "    .dataframe tbody tr th:only-of-type {\n",
              "        vertical-align: middle;\n",
              "    }\n",
              "\n",
              "    .dataframe tbody tr th {\n",
              "        vertical-align: top;\n",
              "    }\n",
              "\n",
              "    .dataframe thead th {\n",
              "        text-align: right;\n",
              "    }\n",
              "</style>\n",
              "<table border=\"1\" class=\"dataframe\">\n",
              "  <thead>\n",
              "    <tr style=\"text-align: right;\">\n",
              "      <th></th>\n",
              "      <th>KNNImputer mean absolute error percentage</th>\n",
              "      <th>KNNImputer mean square error percentage</th>\n",
              "      <th>SimpleImputer mean absolute error percentage</th>\n",
              "      <th>SimpleImputer mean square error percentage</th>\n",
              "    </tr>\n",
              "  </thead>\n",
              "  <tbody>\n",
              "    <tr>\n",
              "      <th>AccountWeeks</th>\n",
              "      <td>5.880710e+00</td>\n",
              "      <td>1.739676</td>\n",
              "      <td>1.022706e+00</td>\n",
              "      <td>0.935231</td>\n",
              "    </tr>\n",
              "    <tr>\n",
              "      <th>DayMins</th>\n",
              "      <td>2.645023e+00</td>\n",
              "      <td>1.109543</td>\n",
              "      <td>1.172101e+00</td>\n",
              "      <td>0.815530</td>\n",
              "    </tr>\n",
              "    <tr>\n",
              "      <th>DayCalls</th>\n",
              "      <td>2.341565e+00</td>\n",
              "      <td>1.270246</td>\n",
              "      <td>1.204244e+00</td>\n",
              "      <td>0.739096</td>\n",
              "    </tr>\n",
              "    <tr>\n",
              "      <th>OverageFee</th>\n",
              "      <td>1.683956e+00</td>\n",
              "      <td>2.949139</td>\n",
              "      <td>1.022269e+00</td>\n",
              "      <td>2.028743</td>\n",
              "    </tr>\n",
              "    <tr>\n",
              "      <th>RoamMins</th>\n",
              "      <td>1.493072e+00</td>\n",
              "      <td>0.747540</td>\n",
              "      <td>7.850401e-01</td>\n",
              "      <td>0.870051</td>\n",
              "    </tr>\n",
              "    <tr>\n",
              "      <th>DataUsage</th>\n",
              "      <td>9.143911e-01</td>\n",
              "      <td>1.330028</td>\n",
              "      <td>8.683330e-01</td>\n",
              "      <td>1.281880</td>\n",
              "    </tr>\n",
              "    <tr>\n",
              "      <th>CustServCalls</th>\n",
              "      <td>1.243666e+00</td>\n",
              "      <td>1.088261</td>\n",
              "      <td>1.113978e+00</td>\n",
              "      <td>0.690868</td>\n",
              "    </tr>\n",
              "    <tr>\n",
              "      <th>ContractRenewal</th>\n",
              "      <td>2.702430e+14</td>\n",
              "      <td>0.075008</td>\n",
              "      <td>3.660683e+14</td>\n",
              "      <td>0.081580</td>\n",
              "    </tr>\n",
              "  </tbody>\n",
              "</table>\n",
              "</div>\n",
              "      <button class=\"colab-df-convert\" onclick=\"convertToInteractive('df-03ea5c25-96f2-4af6-9572-802f045fbd17')\"\n",
              "              title=\"Convert this dataframe to an interactive table.\"\n",
              "              style=\"display:none;\">\n",
              "        \n",
              "  <svg xmlns=\"http://www.w3.org/2000/svg\" height=\"24px\"viewBox=\"0 0 24 24\"\n",
              "       width=\"24px\">\n",
              "    <path d=\"M0 0h24v24H0V0z\" fill=\"none\"/>\n",
              "    <path d=\"M18.56 5.44l.94 2.06.94-2.06 2.06-.94-2.06-.94-.94-2.06-.94 2.06-2.06.94zm-11 1L8.5 8.5l.94-2.06 2.06-.94-2.06-.94L8.5 2.5l-.94 2.06-2.06.94zm10 10l.94 2.06.94-2.06 2.06-.94-2.06-.94-.94-2.06-.94 2.06-2.06.94z\"/><path d=\"M17.41 7.96l-1.37-1.37c-.4-.4-.92-.59-1.43-.59-.52 0-1.04.2-1.43.59L10.3 9.45l-7.72 7.72c-.78.78-.78 2.05 0 2.83L4 21.41c.39.39.9.59 1.41.59.51 0 1.02-.2 1.41-.59l7.78-7.78 2.81-2.81c.8-.78.8-2.07 0-2.86zM5.41 20L4 18.59l7.72-7.72 1.47 1.35L5.41 20z\"/>\n",
              "  </svg>\n",
              "      </button>\n",
              "      \n",
              "  <style>\n",
              "    .colab-df-container {\n",
              "      display:flex;\n",
              "      flex-wrap:wrap;\n",
              "      gap: 12px;\n",
              "    }\n",
              "\n",
              "    .colab-df-convert {\n",
              "      background-color: #E8F0FE;\n",
              "      border: none;\n",
              "      border-radius: 50%;\n",
              "      cursor: pointer;\n",
              "      display: none;\n",
              "      fill: #1967D2;\n",
              "      height: 32px;\n",
              "      padding: 0 0 0 0;\n",
              "      width: 32px;\n",
              "    }\n",
              "\n",
              "    .colab-df-convert:hover {\n",
              "      background-color: #E2EBFA;\n",
              "      box-shadow: 0px 1px 2px rgba(60, 64, 67, 0.3), 0px 1px 3px 1px rgba(60, 64, 67, 0.15);\n",
              "      fill: #174EA6;\n",
              "    }\n",
              "\n",
              "    [theme=dark] .colab-df-convert {\n",
              "      background-color: #3B4455;\n",
              "      fill: #D2E3FC;\n",
              "    }\n",
              "\n",
              "    [theme=dark] .colab-df-convert:hover {\n",
              "      background-color: #434B5C;\n",
              "      box-shadow: 0px 1px 3px 1px rgba(0, 0, 0, 0.15);\n",
              "      filter: drop-shadow(0px 1px 2px rgba(0, 0, 0, 0.3));\n",
              "      fill: #FFFFFF;\n",
              "    }\n",
              "  </style>\n",
              "\n",
              "      <script>\n",
              "        const buttonEl =\n",
              "          document.querySelector('#df-03ea5c25-96f2-4af6-9572-802f045fbd17 button.colab-df-convert');\n",
              "        buttonEl.style.display =\n",
              "          google.colab.kernel.accessAllowed ? 'block' : 'none';\n",
              "\n",
              "        async function convertToInteractive(key) {\n",
              "          const element = document.querySelector('#df-03ea5c25-96f2-4af6-9572-802f045fbd17');\n",
              "          const dataTable =\n",
              "            await google.colab.kernel.invokeFunction('convertToInteractive',\n",
              "                                                     [key], {});\n",
              "          if (!dataTable) return;\n",
              "\n",
              "          const docLinkHtml = 'Like what you see? Visit the ' +\n",
              "            '<a target=\"_blank\" href=https://colab.research.google.com/notebooks/data_table.ipynb>data table notebook</a>'\n",
              "            + ' to learn more about interactive tables.';\n",
              "          element.innerHTML = '';\n",
              "          dataTable['output_type'] = 'display_data';\n",
              "          await google.colab.output.renderOutput(dataTable, element);\n",
              "          const docLink = document.createElement('div');\n",
              "          docLink.innerHTML = docLinkHtml;\n",
              "          element.appendChild(docLink);\n",
              "        }\n",
              "      </script>\n",
              "    </div>\n",
              "  </div>\n",
              "  "
            ]
          },
          "metadata": {},
          "execution_count": 54
        }
      ],
      "source": [
        "mae=\"SimpleImputer mean absolute error percentage\"\n",
        "mse=\"SimpleImputer mean square error percentage\"\n",
        "c=SimpleImp(changed_Numeric_1per)\n",
        "mape(original_Numeric_1per,c,mae,mse)"
      ]
    },
    {
      "cell_type": "code",
      "execution_count": 55,
      "metadata": {
        "colab": {
          "base_uri": "https://localhost:8080/"
        },
        "id": "6vHVvPRsH2pN",
        "outputId": "57105203-ce45-4555-ffd2-bbbdd3eb38c1"
      },
      "outputs": [
        {
          "output_type": "stream",
          "name": "stdout",
          "text": [
            "Varience ,Simple Square and error Bias for  SimpleImputer\n",
            "*********************varience***********************\n",
            "\n",
            "AccountWeeks       0.990650\n",
            "DayMins            0.991849\n",
            "DayCalls           0.992615\n",
            "OverageFee         0.979713\n",
            "RoamMins           0.991306\n",
            "DataUsage          0.987185\n",
            "CustServCalls      0.993112\n",
            "ContractRenewal    0.086702\n",
            "dtype: float64\n",
            "#################################################################\n",
            "*********************Simple Square error***********************\n",
            "\n",
            "AccountWeeks       1.000002\n",
            "DayMins            1.000004\n",
            "DayCalls           1.000006\n",
            "OverageFee         1.000001\n",
            "RoamMins           1.000007\n",
            "DataUsage          1.000003\n",
            "CustServCalls      1.000021\n",
            "ContractRenewal    0.087518\n",
            "dtype: float64\n",
            "#################################################################\n",
            "*********************bias***********************\n",
            "\n",
            "AccountWeeks       0.009352\n",
            "DayMins            0.008155\n",
            "DayCalls           0.007391\n",
            "OverageFee         0.020287\n",
            "RoamMins           0.008701\n",
            "DataUsage          0.012819\n",
            "CustServCalls      0.006909\n",
            "ContractRenewal    0.000816\n",
            "dtype: float64\n",
            "#################################################################\n"
          ]
        }
      ],
      "source": [
        "m= \"Varience ,Simple Square and error Bias for  SimpleImputer\" \n",
        "vari(c,m)"
      ]
    },
    {
      "cell_type": "code",
      "execution_count": 56,
      "metadata": {
        "colab": {
          "base_uri": "https://localhost:8080/",
          "height": 362
        },
        "id": "6-weBIDAIyeN",
        "outputId": "5f6dfa8b-2510-45cf-b9e4-a960bfbe942f"
      },
      "outputs": [
        {
          "output_type": "execute_result",
          "data": {
            "text/plain": [
              "                 KNNImputer mean absolute error percentage  \\\n",
              "AccountWeeks                                  5.880710e+00   \n",
              "DayMins                                       2.645023e+00   \n",
              "DayCalls                                      2.341565e+00   \n",
              "OverageFee                                    1.683956e+00   \n",
              "RoamMins                                      1.493072e+00   \n",
              "DataUsage                                     9.143911e-01   \n",
              "CustServCalls                                 1.243666e+00   \n",
              "ContractRenewal                               2.702430e+14   \n",
              "\n",
              "                 KNNImputer mean square error percentage  \\\n",
              "AccountWeeks                                    1.739676   \n",
              "DayMins                                         1.109543   \n",
              "DayCalls                                        1.270246   \n",
              "OverageFee                                      2.949139   \n",
              "RoamMins                                        0.747540   \n",
              "DataUsage                                       1.330028   \n",
              "CustServCalls                                   1.088261   \n",
              "ContractRenewal                                 0.075008   \n",
              "\n",
              "                 SimpleImputer mean absolute error percentage  \\\n",
              "AccountWeeks                                     1.022706e+00   \n",
              "DayMins                                          1.172101e+00   \n",
              "DayCalls                                         1.204244e+00   \n",
              "OverageFee                                       1.022269e+00   \n",
              "RoamMins                                         7.850401e-01   \n",
              "DataUsage                                        8.683330e-01   \n",
              "CustServCalls                                    1.113978e+00   \n",
              "ContractRenewal                                  3.660683e+14   \n",
              "\n",
              "                 SimpleImputer mean square error percentage  \\\n",
              "AccountWeeks                                       0.935231   \n",
              "DayMins                                            0.815530   \n",
              "DayCalls                                           0.739096   \n",
              "OverageFee                                         2.028743   \n",
              "RoamMins                                           0.870051   \n",
              "DataUsage                                          1.281880   \n",
              "CustServCalls                                      0.690868   \n",
              "ContractRenewal                                    0.081580   \n",
              "\n",
              "                 Iterative Imputer mean absolute error percentage  \\\n",
              "AccountWeeks                                         5.626881e+01   \n",
              "DayMins                                              5.656569e+01   \n",
              "DayCalls                                             5.647526e+01   \n",
              "OverageFee                                           5.611977e+01   \n",
              "RoamMins                                             5.783120e+01   \n",
              "DataUsage                                            5.447381e+01   \n",
              "CustServCalls                                        6.374501e+01   \n",
              "ContractRenewal                                      4.053645e+14   \n",
              "\n",
              "                 Iterative Imputer mean square error percentage  \n",
              "AccountWeeks                                           9.243878  \n",
              "DayMins                                                9.231414  \n",
              "DayCalls                                               8.851981  \n",
              "OverageFee                                            10.194192  \n",
              "RoamMins                                               9.184597  \n",
              "DataUsage                                             13.545591  \n",
              "CustServCalls                                         10.925198  \n",
              "ContractRenewal                                        0.090009  "
            ],
            "text/html": [
              "\n",
              "  <div id=\"df-6dc7afd4-f858-4035-8e85-d6ae6a75dbce\">\n",
              "    <div class=\"colab-df-container\">\n",
              "      <div>\n",
              "<style scoped>\n",
              "    .dataframe tbody tr th:only-of-type {\n",
              "        vertical-align: middle;\n",
              "    }\n",
              "\n",
              "    .dataframe tbody tr th {\n",
              "        vertical-align: top;\n",
              "    }\n",
              "\n",
              "    .dataframe thead th {\n",
              "        text-align: right;\n",
              "    }\n",
              "</style>\n",
              "<table border=\"1\" class=\"dataframe\">\n",
              "  <thead>\n",
              "    <tr style=\"text-align: right;\">\n",
              "      <th></th>\n",
              "      <th>KNNImputer mean absolute error percentage</th>\n",
              "      <th>KNNImputer mean square error percentage</th>\n",
              "      <th>SimpleImputer mean absolute error percentage</th>\n",
              "      <th>SimpleImputer mean square error percentage</th>\n",
              "      <th>Iterative Imputer mean absolute error percentage</th>\n",
              "      <th>Iterative Imputer mean square error percentage</th>\n",
              "    </tr>\n",
              "  </thead>\n",
              "  <tbody>\n",
              "    <tr>\n",
              "      <th>AccountWeeks</th>\n",
              "      <td>5.880710e+00</td>\n",
              "      <td>1.739676</td>\n",
              "      <td>1.022706e+00</td>\n",
              "      <td>0.935231</td>\n",
              "      <td>5.626881e+01</td>\n",
              "      <td>9.243878</td>\n",
              "    </tr>\n",
              "    <tr>\n",
              "      <th>DayMins</th>\n",
              "      <td>2.645023e+00</td>\n",
              "      <td>1.109543</td>\n",
              "      <td>1.172101e+00</td>\n",
              "      <td>0.815530</td>\n",
              "      <td>5.656569e+01</td>\n",
              "      <td>9.231414</td>\n",
              "    </tr>\n",
              "    <tr>\n",
              "      <th>DayCalls</th>\n",
              "      <td>2.341565e+00</td>\n",
              "      <td>1.270246</td>\n",
              "      <td>1.204244e+00</td>\n",
              "      <td>0.739096</td>\n",
              "      <td>5.647526e+01</td>\n",
              "      <td>8.851981</td>\n",
              "    </tr>\n",
              "    <tr>\n",
              "      <th>OverageFee</th>\n",
              "      <td>1.683956e+00</td>\n",
              "      <td>2.949139</td>\n",
              "      <td>1.022269e+00</td>\n",
              "      <td>2.028743</td>\n",
              "      <td>5.611977e+01</td>\n",
              "      <td>10.194192</td>\n",
              "    </tr>\n",
              "    <tr>\n",
              "      <th>RoamMins</th>\n",
              "      <td>1.493072e+00</td>\n",
              "      <td>0.747540</td>\n",
              "      <td>7.850401e-01</td>\n",
              "      <td>0.870051</td>\n",
              "      <td>5.783120e+01</td>\n",
              "      <td>9.184597</td>\n",
              "    </tr>\n",
              "    <tr>\n",
              "      <th>DataUsage</th>\n",
              "      <td>9.143911e-01</td>\n",
              "      <td>1.330028</td>\n",
              "      <td>8.683330e-01</td>\n",
              "      <td>1.281880</td>\n",
              "      <td>5.447381e+01</td>\n",
              "      <td>13.545591</td>\n",
              "    </tr>\n",
              "    <tr>\n",
              "      <th>CustServCalls</th>\n",
              "      <td>1.243666e+00</td>\n",
              "      <td>1.088261</td>\n",
              "      <td>1.113978e+00</td>\n",
              "      <td>0.690868</td>\n",
              "      <td>6.374501e+01</td>\n",
              "      <td>10.925198</td>\n",
              "    </tr>\n",
              "    <tr>\n",
              "      <th>ContractRenewal</th>\n",
              "      <td>2.702430e+14</td>\n",
              "      <td>0.075008</td>\n",
              "      <td>3.660683e+14</td>\n",
              "      <td>0.081580</td>\n",
              "      <td>4.053645e+14</td>\n",
              "      <td>0.090009</td>\n",
              "    </tr>\n",
              "  </tbody>\n",
              "</table>\n",
              "</div>\n",
              "      <button class=\"colab-df-convert\" onclick=\"convertToInteractive('df-6dc7afd4-f858-4035-8e85-d6ae6a75dbce')\"\n",
              "              title=\"Convert this dataframe to an interactive table.\"\n",
              "              style=\"display:none;\">\n",
              "        \n",
              "  <svg xmlns=\"http://www.w3.org/2000/svg\" height=\"24px\"viewBox=\"0 0 24 24\"\n",
              "       width=\"24px\">\n",
              "    <path d=\"M0 0h24v24H0V0z\" fill=\"none\"/>\n",
              "    <path d=\"M18.56 5.44l.94 2.06.94-2.06 2.06-.94-2.06-.94-.94-2.06-.94 2.06-2.06.94zm-11 1L8.5 8.5l.94-2.06 2.06-.94-2.06-.94L8.5 2.5l-.94 2.06-2.06.94zm10 10l.94 2.06.94-2.06 2.06-.94-2.06-.94-.94-2.06-.94 2.06-2.06.94z\"/><path d=\"M17.41 7.96l-1.37-1.37c-.4-.4-.92-.59-1.43-.59-.52 0-1.04.2-1.43.59L10.3 9.45l-7.72 7.72c-.78.78-.78 2.05 0 2.83L4 21.41c.39.39.9.59 1.41.59.51 0 1.02-.2 1.41-.59l7.78-7.78 2.81-2.81c.8-.78.8-2.07 0-2.86zM5.41 20L4 18.59l7.72-7.72 1.47 1.35L5.41 20z\"/>\n",
              "  </svg>\n",
              "      </button>\n",
              "      \n",
              "  <style>\n",
              "    .colab-df-container {\n",
              "      display:flex;\n",
              "      flex-wrap:wrap;\n",
              "      gap: 12px;\n",
              "    }\n",
              "\n",
              "    .colab-df-convert {\n",
              "      background-color: #E8F0FE;\n",
              "      border: none;\n",
              "      border-radius: 50%;\n",
              "      cursor: pointer;\n",
              "      display: none;\n",
              "      fill: #1967D2;\n",
              "      height: 32px;\n",
              "      padding: 0 0 0 0;\n",
              "      width: 32px;\n",
              "    }\n",
              "\n",
              "    .colab-df-convert:hover {\n",
              "      background-color: #E2EBFA;\n",
              "      box-shadow: 0px 1px 2px rgba(60, 64, 67, 0.3), 0px 1px 3px 1px rgba(60, 64, 67, 0.15);\n",
              "      fill: #174EA6;\n",
              "    }\n",
              "\n",
              "    [theme=dark] .colab-df-convert {\n",
              "      background-color: #3B4455;\n",
              "      fill: #D2E3FC;\n",
              "    }\n",
              "\n",
              "    [theme=dark] .colab-df-convert:hover {\n",
              "      background-color: #434B5C;\n",
              "      box-shadow: 0px 1px 3px 1px rgba(0, 0, 0, 0.15);\n",
              "      filter: drop-shadow(0px 1px 2px rgba(0, 0, 0, 0.3));\n",
              "      fill: #FFFFFF;\n",
              "    }\n",
              "  </style>\n",
              "\n",
              "      <script>\n",
              "        const buttonEl =\n",
              "          document.querySelector('#df-6dc7afd4-f858-4035-8e85-d6ae6a75dbce button.colab-df-convert');\n",
              "        buttonEl.style.display =\n",
              "          google.colab.kernel.accessAllowed ? 'block' : 'none';\n",
              "\n",
              "        async function convertToInteractive(key) {\n",
              "          const element = document.querySelector('#df-6dc7afd4-f858-4035-8e85-d6ae6a75dbce');\n",
              "          const dataTable =\n",
              "            await google.colab.kernel.invokeFunction('convertToInteractive',\n",
              "                                                     [key], {});\n",
              "          if (!dataTable) return;\n",
              "\n",
              "          const docLinkHtml = 'Like what you see? Visit the ' +\n",
              "            '<a target=\"_blank\" href=https://colab.research.google.com/notebooks/data_table.ipynb>data table notebook</a>'\n",
              "            + ' to learn more about interactive tables.';\n",
              "          element.innerHTML = '';\n",
              "          dataTable['output_type'] = 'display_data';\n",
              "          await google.colab.output.renderOutput(dataTable, element);\n",
              "          const docLink = document.createElement('div');\n",
              "          docLink.innerHTML = docLinkHtml;\n",
              "          element.appendChild(docLink);\n",
              "        }\n",
              "      </script>\n",
              "    </div>\n",
              "  </div>\n",
              "  "
            ]
          },
          "metadata": {},
          "execution_count": 56
        }
      ],
      "source": [
        "mae=\"Iterative Imputer mean absolute error percentage\"\n",
        "mse=\"Iterative Imputer mean square error percentage\"\n",
        "f=IterImp(changed_Numeric_1per)\n",
        "mape(original_Numeric_1per,f,mae,mse)"
      ]
    },
    {
      "cell_type": "code",
      "execution_count": 57,
      "metadata": {
        "colab": {
          "base_uri": "https://localhost:8080/"
        },
        "id": "35w427SuI7lQ",
        "outputId": "9d0e51c0-6b68-4ca6-cd3c-5dcde2d47284"
      },
      "outputs": [
        {
          "output_type": "stream",
          "name": "stdout",
          "text": [
            "Varience ,Simple Square and error Bias for IterativeImputer\n",
            "*********************varience***********************\n",
            "\n",
            "AccountWeeks       1.095399\n",
            "DayMins            1.084004\n",
            "DayCalls           1.077332\n",
            "OverageFee         1.055931\n",
            "RoamMins           1.072575\n",
            "DataUsage          1.301786\n",
            "CustServCalls      0.836311\n",
            "ContractRenewal    0.086792\n",
            "dtype: float64\n",
            "#################################################################\n",
            "*********************Simple Square error***********************\n",
            "\n",
            "AccountWeeks       1.000011\n",
            "DayMins            1.000004\n",
            "DayCalls           1.000076\n",
            "OverageFee         1.000174\n",
            "RoamMins           1.000032\n",
            "DataUsage          1.017746\n",
            "CustServCalls      1.013974\n",
            "ContractRenewal    0.087519\n",
            "dtype: float64\n",
            "#################################################################\n",
            "*********************bias***********************\n",
            "\n",
            "AccountWeeks      -0.095388\n",
            "DayMins           -0.084000\n",
            "DayCalls          -0.077256\n",
            "OverageFee        -0.055757\n",
            "RoamMins          -0.072542\n",
            "DataUsage         -0.284040\n",
            "CustServCalls      0.177663\n",
            "ContractRenewal    0.000727\n",
            "dtype: float64\n",
            "#################################################################\n"
          ]
        }
      ],
      "source": [
        "m= \"Varience ,Simple Square and error Bias for IterativeImputer\" \n",
        "vari(f,m)"
      ]
    },
    {
      "cell_type": "code",
      "execution_count": 58,
      "metadata": {
        "colab": {
          "base_uri": "https://localhost:8080/"
        },
        "id": "azTSPX_4XM1C",
        "outputId": "9e59001e-ff4b-4b1e-9fd8-476b3068ac61"
      },
      "outputs": [
        {
          "output_type": "execute_result",
          "data": {
            "text/plain": [
              "Churn    333\n",
              "dtype: int64"
            ]
          },
          "metadata": {},
          "execution_count": 58
        }
      ],
      "source": [
        "changed_Cat.isna().sum()"
      ]
    },
    {
      "cell_type": "code",
      "execution_count": 59,
      "metadata": {
        "id": "bZ9FkXZ0Q2Wo"
      },
      "outputs": [],
      "source": [
        "def simp_cat(changed_cat):\n",
        "  imp = SimpleImputer(missing_values=np.nan, strategy='most_frequent')\n",
        "  imp.fit(changed_cat)\n",
        "  c=imp.transform(changed_cat)\n",
        "  c=pd.DataFrame(c)\n",
        "  c.columns=changed_cat.columns\n",
        "  c.index=changed_cat.index\n",
        "  return c\n"
      ]
    },
    {
      "cell_type": "markdown",
      "metadata": {
        "id": "DiYsNCbvP5xW"
      },
      "source": [
        "Simple Imputer to impute catagorical data with most frequent data  "
      ]
    },
    {
      "cell_type": "code",
      "execution_count": 60,
      "metadata": {
        "id": "DNQ7RctTSlTI"
      },
      "outputs": [],
      "source": [
        "cat_churn=simp_cat(changed_Cat)\n"
      ]
    },
    {
      "cell_type": "code",
      "execution_count": 61,
      "metadata": {
        "colab": {
          "base_uri": "https://localhost:8080/",
          "height": 175
        },
        "id": "4ro0h2ccVLWI",
        "outputId": "c8a875b9-d0c8-40c2-f69e-e88944d191b2"
      },
      "outputs": [
        {
          "output_type": "execute_result",
          "data": {
            "text/plain": [
              "                     0           1  accuracy    macro avg  weighted avg\n",
              "precision     0.985818    1.000000  0.987699     0.992909      0.987873\n",
              "recall        1.000000    0.915114  0.987699     0.957557      0.987699\n",
              "f1-score      0.992858    0.955676  0.987699     0.974267      0.987470\n",
              "support    2850.000000  483.000000  0.987699  3333.000000   3333.000000"
            ],
            "text/html": [
              "\n",
              "  <div id=\"df-482e35a2-a0ac-45d1-8c75-9dd7666365d6\">\n",
              "    <div class=\"colab-df-container\">\n",
              "      <div>\n",
              "<style scoped>\n",
              "    .dataframe tbody tr th:only-of-type {\n",
              "        vertical-align: middle;\n",
              "    }\n",
              "\n",
              "    .dataframe tbody tr th {\n",
              "        vertical-align: top;\n",
              "    }\n",
              "\n",
              "    .dataframe thead th {\n",
              "        text-align: right;\n",
              "    }\n",
              "</style>\n",
              "<table border=\"1\" class=\"dataframe\">\n",
              "  <thead>\n",
              "    <tr style=\"text-align: right;\">\n",
              "      <th></th>\n",
              "      <th>0</th>\n",
              "      <th>1</th>\n",
              "      <th>accuracy</th>\n",
              "      <th>macro avg</th>\n",
              "      <th>weighted avg</th>\n",
              "    </tr>\n",
              "  </thead>\n",
              "  <tbody>\n",
              "    <tr>\n",
              "      <th>precision</th>\n",
              "      <td>0.985818</td>\n",
              "      <td>1.000000</td>\n",
              "      <td>0.987699</td>\n",
              "      <td>0.992909</td>\n",
              "      <td>0.987873</td>\n",
              "    </tr>\n",
              "    <tr>\n",
              "      <th>recall</th>\n",
              "      <td>1.000000</td>\n",
              "      <td>0.915114</td>\n",
              "      <td>0.987699</td>\n",
              "      <td>0.957557</td>\n",
              "      <td>0.987699</td>\n",
              "    </tr>\n",
              "    <tr>\n",
              "      <th>f1-score</th>\n",
              "      <td>0.992858</td>\n",
              "      <td>0.955676</td>\n",
              "      <td>0.987699</td>\n",
              "      <td>0.974267</td>\n",
              "      <td>0.987470</td>\n",
              "    </tr>\n",
              "    <tr>\n",
              "      <th>support</th>\n",
              "      <td>2850.000000</td>\n",
              "      <td>483.000000</td>\n",
              "      <td>0.987699</td>\n",
              "      <td>3333.000000</td>\n",
              "      <td>3333.000000</td>\n",
              "    </tr>\n",
              "  </tbody>\n",
              "</table>\n",
              "</div>\n",
              "      <button class=\"colab-df-convert\" onclick=\"convertToInteractive('df-482e35a2-a0ac-45d1-8c75-9dd7666365d6')\"\n",
              "              title=\"Convert this dataframe to an interactive table.\"\n",
              "              style=\"display:none;\">\n",
              "        \n",
              "  <svg xmlns=\"http://www.w3.org/2000/svg\" height=\"24px\"viewBox=\"0 0 24 24\"\n",
              "       width=\"24px\">\n",
              "    <path d=\"M0 0h24v24H0V0z\" fill=\"none\"/>\n",
              "    <path d=\"M18.56 5.44l.94 2.06.94-2.06 2.06-.94-2.06-.94-.94-2.06-.94 2.06-2.06.94zm-11 1L8.5 8.5l.94-2.06 2.06-.94-2.06-.94L8.5 2.5l-.94 2.06-2.06.94zm10 10l.94 2.06.94-2.06 2.06-.94-2.06-.94-.94-2.06-.94 2.06-2.06.94z\"/><path d=\"M17.41 7.96l-1.37-1.37c-.4-.4-.92-.59-1.43-.59-.52 0-1.04.2-1.43.59L10.3 9.45l-7.72 7.72c-.78.78-.78 2.05 0 2.83L4 21.41c.39.39.9.59 1.41.59.51 0 1.02-.2 1.41-.59l7.78-7.78 2.81-2.81c.8-.78.8-2.07 0-2.86zM5.41 20L4 18.59l7.72-7.72 1.47 1.35L5.41 20z\"/>\n",
              "  </svg>\n",
              "      </button>\n",
              "      \n",
              "  <style>\n",
              "    .colab-df-container {\n",
              "      display:flex;\n",
              "      flex-wrap:wrap;\n",
              "      gap: 12px;\n",
              "    }\n",
              "\n",
              "    .colab-df-convert {\n",
              "      background-color: #E8F0FE;\n",
              "      border: none;\n",
              "      border-radius: 50%;\n",
              "      cursor: pointer;\n",
              "      display: none;\n",
              "      fill: #1967D2;\n",
              "      height: 32px;\n",
              "      padding: 0 0 0 0;\n",
              "      width: 32px;\n",
              "    }\n",
              "\n",
              "    .colab-df-convert:hover {\n",
              "      background-color: #E2EBFA;\n",
              "      box-shadow: 0px 1px 2px rgba(60, 64, 67, 0.3), 0px 1px 3px 1px rgba(60, 64, 67, 0.15);\n",
              "      fill: #174EA6;\n",
              "    }\n",
              "\n",
              "    [theme=dark] .colab-df-convert {\n",
              "      background-color: #3B4455;\n",
              "      fill: #D2E3FC;\n",
              "    }\n",
              "\n",
              "    [theme=dark] .colab-df-convert:hover {\n",
              "      background-color: #434B5C;\n",
              "      box-shadow: 0px 1px 3px 1px rgba(0, 0, 0, 0.15);\n",
              "      filter: drop-shadow(0px 1px 2px rgba(0, 0, 0, 0.3));\n",
              "      fill: #FFFFFF;\n",
              "    }\n",
              "  </style>\n",
              "\n",
              "      <script>\n",
              "        const buttonEl =\n",
              "          document.querySelector('#df-482e35a2-a0ac-45d1-8c75-9dd7666365d6 button.colab-df-convert');\n",
              "        buttonEl.style.display =\n",
              "          google.colab.kernel.accessAllowed ? 'block' : 'none';\n",
              "\n",
              "        async function convertToInteractive(key) {\n",
              "          const element = document.querySelector('#df-482e35a2-a0ac-45d1-8c75-9dd7666365d6');\n",
              "          const dataTable =\n",
              "            await google.colab.kernel.invokeFunction('convertToInteractive',\n",
              "                                                     [key], {});\n",
              "          if (!dataTable) return;\n",
              "\n",
              "          const docLinkHtml = 'Like what you see? Visit the ' +\n",
              "            '<a target=\"_blank\" href=https://colab.research.google.com/notebooks/data_table.ipynb>data table notebook</a>'\n",
              "            + ' to learn more about interactive tables.';\n",
              "          element.innerHTML = '';\n",
              "          dataTable['output_type'] = 'display_data';\n",
              "          await google.colab.output.renderOutput(dataTable, element);\n",
              "          const docLink = document.createElement('div');\n",
              "          docLink.innerHTML = docLinkHtml;\n",
              "          element.appendChild(docLink);\n",
              "        }\n",
              "      </script>\n",
              "    </div>\n",
              "  </div>\n",
              "  "
            ]
          },
          "metadata": {},
          "execution_count": 61
        }
      ],
      "source": [
        "from sklearn.metrics import classification_report\n",
        "from sklearn import metrics\n",
        "pd.DataFrame(classification_report(original_Cat, cat_churn,output_dict=True))\n",
        "\n"
      ]
    },
    {
      "cell_type": "code",
      "execution_count": 62,
      "metadata": {
        "colab": {
          "base_uri": "https://localhost:8080/"
        },
        "id": "JgNsCa5FUi1t",
        "outputId": "3f5f215e-36b7-4f13-e8e2-ddc061bcc5b9"
      },
      "outputs": [
        {
          "output_type": "stream",
          "name": "stdout",
          "text": [
            "\n",
            " ################################## confusion matrix ##################################\n",
            "\n",
            "[[2850    0]\n",
            " [  41  442]]\n"
          ]
        }
      ],
      "source": [
        "conf_matrix = metrics.confusion_matrix(original_Cat, cat_churn)\n",
        "print(\"\\n ################################## confusion matrix ##################################\\n\")\n",
        "print(conf_matrix)"
      ]
    },
    {
      "cell_type": "markdown",
      "metadata": {
        "id": "sKln-VQ1PVZF"
      },
      "source": [
        "\n",
        "\n",
        "---\n",
        "\n",
        "**Insight on  Classification report**\n",
        "\n",
        "precision, recall and f1 sore on prediction of both churened and not churned is very high close to 1. with accuracy of the model of 98%.Macroavg shows good values as well close to 1 which does not take class imbalance into picture. hence our model is good.\n",
        "\n",
        "\n",
        "\n",
        "**Note**\n",
        "\n",
        "We have class imbalance in our case 483 churned and 2850 Non-churned \n",
        "\n",
        "---\n",
        "\n",
        "\n",
        "\n",
        "**Insight in Confusion matrix**\n",
        "\n",
        "We have majority of predictions right, as it has  2850 true positive values and 427 true negative values which is very accuate and only 56 false positive value and none false negative values \n",
        "\n",
        "\n",
        "\n",
        "\n",
        " \n"
      ]
    },
    {
      "cell_type": "code",
      "source": [],
      "metadata": {
        "id": "z5XmO-0KfuxE"
      },
      "execution_count": 62,
      "outputs": []
    },
    {
      "cell_type": "markdown",
      "metadata": {
        "id": "J9KuFED7EYIU"
      },
      "source": [
        "# Outlier Visualisation and Removal "
      ]
    },
    {
      "cell_type": "code",
      "execution_count": 63,
      "metadata": {
        "colab": {
          "base_uri": "https://localhost:8080/",
          "height": 1000
        },
        "id": "n53qmWD80Sjp",
        "outputId": "a98d3e5c-4374-4c70-fb85-d17a064fd149"
      },
      "outputs": [
        {
          "output_type": "display_data",
          "data": {
            "text/plain": [
              "<Figure size 432x288 with 1 Axes>"
            ],
            "image/png": "[encoded data removed]"
          },
          "metadata": {
            "needs_background": "light"
          }
        },
        {
          "output_type": "display_data",
          "data": {
            "text/plain": [
              "<Figure size 720x504 with 0 Axes>"
            ]
          },
          "metadata": {}
        },
        {
          "output_type": "stream",
          "name": "stdout",
          "text": [
            "\n",
            "\n",
            "The Outliers are :  [2.68572534 2.86153348 2.71084079 3.08757252 3.56476604 2.91176438\n",
            " 2.73595624 2.78618713 3.2884961  3.11268796 3.11268796 3.08757252\n",
            " 2.78618713 2.73595624 2.91176438 2.71084079 3.01222617 2.71084079]\n",
            "\n",
            "\n",
            "#################################################################################################\n",
            "\n"
          ]
        },
        {
          "output_type": "display_data",
          "data": {
            "text/plain": [
              "<Figure size 432x288 with 1 Axes>"
            ],
            "image/png": "[encoded data removed]"
          },
          "metadata": {
            "needs_background": "light"
          }
        },
        {
          "output_type": "display_data",
          "data": {
            "text/plain": [
              "<Figure size 720x504 with 0 Axes>"
            ]
          },
          "metadata": {}
        },
        {
          "output_type": "stream",
          "name": "stdout",
          "text": [
            "\n",
            "\n",
            "The Outliers are :  [ 2.81173526  2.8943659   2.69421613  3.14042158  2.85947741 -2.73369879\n",
            " -2.67677546  2.83744257  3.06697212 -3.0715663  -2.82551061 -3.30109585\n",
            " -3.30109585 -2.94302975  2.75481193 -3.15603317  2.72359591 -2.80531201\n",
            " -2.97791824  2.69054365  3.03942858 -3.2533537  -3.15786941 -2.95404716\n",
            " -2.75206116]\n",
            "\n",
            "\n",
            "#################################################################################################\n",
            "\n"
          ]
        },
        {
          "output_type": "display_data",
          "data": {
            "text/plain": [
              "<Figure size 432x288 with 1 Axes>"
            ],
            "image/png": "[encoded data removed]"
          },
          "metadata": {
            "needs_background": "light"
          }
        },
        {
          "output_type": "display_data",
          "data": {
            "text/plain": [
              "<Figure size 720x504 with 0 Axes>"
            ]
          },
          "metadata": {}
        },
        {
          "output_type": "stream",
          "name": "stdout",
          "text": [
            "\n",
            "\n",
            "The Outliers are :  [ 2.86874046  3.11791726 -3.21117353 -3.01183209  2.86874046  3.21758799\n",
            " -3.5101857  -2.91216137 -5.00524652 -2.76265529 -5.00524652 -2.76265529\n",
            "  2.96841118  2.76906974 -3.26100889 -2.91216137  2.86874046  2.8189051\n",
            " -2.76265529 -2.81249065 -2.81249065 -2.81249065 -3.01183209]\n",
            "\n",
            "\n",
            "#################################################################################################\n",
            "\n"
          ]
        },
        {
          "output_type": "display_data",
          "data": {
            "text/plain": [
              "<Figure size 432x288 with 1 Axes>"
            ],
            "image/png": "[encoded data removed]"
          },
          "metadata": {
            "needs_background": "light"
          }
        },
        {
          "output_type": "display_data",
          "data": {
            "text/plain": [
              "<Figure size 720x504 with 0 Axes>"
            ]
          },
          "metadata": {}
        },
        {
          "output_type": "stream",
          "name": "stdout",
          "text": [
            "\n",
            "\n",
            "The Outliers are :  [-2.74184587  2.91027501  2.96943887 -3.34926151  2.94971758 -3.13232735\n",
            "  2.88660946 -2.80100973 -3.09682903 -2.91933745 -3.12443883 -2.76551141\n",
            " -2.80889824 -2.86017359 -3.01399963 -2.78128844  2.95760609 -2.99427834\n",
            "  2.74067194  3.170596    3.02071421  3.21003857 -3.96456566  2.76828174]\n",
            "\n",
            "\n",
            "#################################################################################################\n",
            "\n"
          ]
        },
        {
          "output_type": "display_data",
          "data": {
            "text/plain": [
              "<Figure size 432x288 with 1 Axes>"
            ],
            "image/png": "[encoded data removed]"
          },
          "metadata": {
            "needs_background": "light"
          }
        },
        {
          "output_type": "display_data",
          "data": {
            "text/plain": [
              "<Figure size 720x504 with 0 Axes>"
            ]
          },
          "metadata": {}
        },
        {
          "output_type": "stream",
          "name": "stdout",
          "text": [
            "\n",
            "\n",
            "The Outliers are :  [ 3.49739696 -3.66741342  2.63761972 -2.70016402  3.10333239 -3.66741342\n",
            "  2.78091592 -2.95093238 -3.66741342  2.60179566  2.60179566  2.85256403\n",
            " -3.66741342 -3.66741342 -3.20170074 -3.66741342 -3.66741342 -3.66741342\n",
            " -2.87928428  2.78091592 -3.66741342  2.74509187 -3.66741342  2.92421213\n",
            " -2.95093238  2.70926782 -2.62851591 -2.55686781  2.63761972 -2.73598807\n",
            " -3.66741342 -3.66741342  2.85256403 -3.66741342  2.78091592 -3.27334885\n",
            " -3.66741342  2.88838808 -3.66741342 -3.66741342 -2.91510833 -2.62851591\n",
            "  2.60179566 -2.91510833 -2.80763617 -2.77181212 -3.66741342 -3.66741342\n",
            "  2.70926782]\n",
            "\n",
            "\n",
            "#################################################################################################\n",
            "\n"
          ]
        },
        {
          "output_type": "display_data",
          "data": {
            "text/plain": [
              "<Figure size 432x288 with 1 Axes>"
            ],
            "image/png": "[encoded data removed]"
          },
          "metadata": {
            "needs_background": "light"
          }
        },
        {
          "output_type": "display_data",
          "data": {
            "text/plain": [
              "<Figure size 720x504 with 0 Axes>"
            ]
          },
          "metadata": {}
        },
        {
          "output_type": "stream",
          "name": "stdout",
          "text": [
            "\n",
            "\n",
            "The Outliers are :  [3.60204937 3.00478911 3.0755173  2.86333274 2.94191961 2.94191961\n",
            " 2.94191961 2.86333274 3.09123468 2.96549568 2.87905011]\n",
            "\n",
            "\n",
            "#################################################################################################\n",
            "\n"
          ]
        },
        {
          "output_type": "display_data",
          "data": {
            "text/plain": [
              "<Figure size 432x288 with 1 Axes>"
            ],
            "image/png": "[encoded data removed]"
          },
          "metadata": {
            "needs_background": "light"
          }
        },
        {
          "output_type": "display_data",
          "data": {
            "text/plain": [
              "<Figure size 720x504 with 0 Axes>"
            ]
          },
          "metadata": {}
        },
        {
          "output_type": "stream",
          "name": "stdout",
          "text": [
            "\n",
            "\n",
            "The Outliers are :  [3.26937737 2.92231514 2.83707178 2.74573961 2.77009486 2.67876269\n",
            " 2.81880535 3.16586758 3.00146968 2.75791724 3.26937737 2.94667038\n",
            " 2.69094031 2.73356199 2.81271654 2.78836129 2.89795989 2.5752529\n",
            " 3.19022283 2.87360465 2.67876269 3.18413402 3.34853192 2.75182842\n",
            " 2.78836129 2.89187108 2.75791724 2.8492494  2.958848   2.97711444\n",
            " 3.08062423 2.81880535 2.69702912 2.66049626]\n",
            "\n",
            "\n",
            "#################################################################################################\n",
            "\n"
          ]
        },
        {
          "output_type": "display_data",
          "data": {
            "text/plain": [
              "<Figure size 432x288 with 1 Axes>"
            ],
            "image/png": "[encoded data removed]"
          },
          "metadata": {
            "needs_background": "light"
          }
        },
        {
          "output_type": "display_data",
          "data": {
            "text/plain": [
              "<Figure size 720x504 with 0 Axes>"
            ]
          },
          "metadata": {}
        },
        {
          "output_type": "stream",
          "name": "stdout",
          "text": [
            "\n",
            "\n",
            "The Outliers are :  [1.8529274  1.8529274  1.8529274  2.61321388 2.61321388 2.61321388\n",
            " 1.8529274  1.8529274  1.8529274  1.8529274  1.8529274  1.8529274\n",
            " 1.8529274  1.8529274  1.8529274  1.8529274  2.61321388 2.61321388\n",
            " 1.8529274  2.61321388 1.8529274  1.8529274  2.61321388 1.8529274\n",
            " 1.8529274  1.8529274  1.8529274  1.8529274  2.61321388 1.8529274\n",
            " 1.8529274  4.13378683 1.8529274  1.8529274  1.8529274  1.8529274\n",
            " 1.8529274  2.61321388 1.8529274  1.8529274  1.8529274  1.8529274\n",
            " 1.8529274  2.61321388 1.8529274  4.13378683 1.8529274  5.65435978\n",
            " 2.61321388 1.8529274  1.8529274  2.61321388 1.8529274  1.8529274\n",
            " 2.61321388 2.61321388 1.8529274  3.37350035 1.8529274  3.37350035\n",
            " 2.61321388 2.61321388 2.61321388 3.37350035 2.61321388 1.8529274\n",
            " 1.8529274  2.61321388 1.8529274  1.8529274  4.13378683 1.8529274\n",
            " 3.37350035 2.61321388 1.8529274  1.8529274  1.8529274  3.37350035\n",
            " 1.8529274  1.8529274  2.61321388 1.8529274  1.8529274  1.8529274\n",
            " 1.8529274  1.8529274  1.8529274  2.61321388 2.61321388 3.37350035\n",
            " 2.61321388 1.8529274  1.8529274  1.8529274  2.61321388 1.8529274\n",
            " 1.8529274  1.8529274  1.8529274  2.61321388 2.61321388 1.8529274\n",
            " 1.8529274  1.8529274  1.8529274  3.37350035 1.8529274  2.61321388\n",
            " 1.8529274  3.37350035 1.8529274  1.8529274  1.8529274  1.8529274\n",
            " 1.8529274  1.8529274  1.8529274  1.8529274  1.8529274  3.37350035\n",
            " 1.8529274  1.8529274  1.8529274  1.8529274  4.8940733  1.8529274\n",
            " 1.8529274  2.61321388 1.8529274  1.8529274  1.8529274  3.37350035\n",
            " 2.61321388 2.61321388 4.13378683 1.8529274  1.8529274  2.61321388\n",
            " 1.8529274  1.8529274  2.61321388 1.8529274  1.8529274  2.61321388\n",
            " 4.13378683 1.8529274  1.8529274  2.61321388 4.13378683 1.8529274\n",
            " 1.8529274  1.8529274  1.8529274  4.8940733  3.37350035 1.8529274\n",
            " 1.8529274  2.61321388 2.61321388 2.61321388 1.8529274  1.8529274\n",
            " 2.61321388 1.8529274  1.8529274  1.8529274  1.8529274  1.8529274\n",
            " 1.8529274  1.8529274  1.8529274  1.8529274  1.8529274  2.61321388\n",
            " 3.37350035 1.8529274  2.61321388 1.8529274  1.8529274  2.61321388\n",
            " 2.61321388 1.8529274  3.37350035 1.8529274  1.8529274  1.8529274\n",
            " 5.65435978 3.37350035 1.8529274  2.61321388 2.61321388 1.8529274\n",
            " 3.37350035 1.8529274  1.8529274  2.61321388 1.8529274  1.8529274\n",
            " 1.8529274  2.61321388 2.61321388 3.37350035 1.8529274  2.61321388\n",
            " 1.8529274  1.8529274  1.8529274  1.8529274  2.61321388 1.8529274\n",
            " 1.8529274  1.8529274  2.61321388 1.8529274  2.61321388 3.37350035\n",
            " 1.8529274  1.8529274  2.61321388 1.8529274  1.8529274  1.8529274\n",
            " 2.61321388 1.8529274  1.8529274  1.8529274  1.8529274  1.8529274\n",
            " 2.61321388 4.13378683 3.37350035 2.61321388 3.37350035 4.13378683\n",
            " 2.61321388 2.61321388 1.8529274  3.37350035 1.8529274  1.8529274\n",
            " 1.8529274  1.8529274  2.61321388 3.37350035 4.13378683 1.8529274\n",
            " 1.8529274  1.8529274  2.61321388 2.61321388 2.61321388 1.8529274\n",
            " 1.8529274  1.8529274  2.61321388 3.37350035 2.61321388 2.61321388\n",
            " 1.8529274  1.8529274  1.8529274  1.8529274  1.8529274  1.8529274\n",
            " 1.8529274  1.8529274  2.61321388]\n",
            "\n",
            "\n",
            "#################################################################################################\n",
            "\n"
          ]
        }
      ],
      "source": [
        "#finding the outlier in data \n",
        "\n",
        "for i in numeric_df.columns:\n",
        "  plt.title(i)\n",
        "  plt.boxplot(numeric_df[i])\n",
        "  fig = plt.figure(figsize =(10, 7))\n",
        "  \n",
        "  plt.show()\n",
        "  \n",
        "  q1 = np.quantile(numeric_df[i], 0.25)\n",
        " \n",
        "  # finding the 3rd quartile\n",
        "  q3 = np.quantile(numeric_df[i], 0.75)\n",
        "  med = np.median(numeric_df[i])\n",
        " \n",
        "  # finding the iqr region\n",
        "  iqr = q3-q1\n",
        " \n",
        "  # finding upper and lower whiskers\n",
        "  upper_bound = q3+(1.5*iqr)\n",
        "  lower_bound = q1-(1.5*iqr)\n",
        "  outliers = numeric_df[i][(numeric_df[i] <= lower_bound) | (numeric_df[i] >= upper_bound)]\n",
        "  print(\"\\n\")\n",
        "  print('The Outliers are : ',np.array(outliers))\n",
        "  print(\"\\n\")\n",
        "\n",
        "  print(\"#################################################################################################\\n\")\n"
      ]
    },
    {
      "cell_type": "markdown",
      "metadata": {
        "id": "BLlD45YAZyB1"
      },
      "source": [
        "This plot shows outliers in each of the feature, the dots off min(lower bound) and max(upper bound) are outliers in data. the outliers for features is represented in a list as well."
      ]
    },
    {
      "cell_type": "code",
      "execution_count": 64,
      "metadata": {
        "id": "r72f4NvhjB09"
      },
      "outputs": [],
      "source": [
        "# Machine Learning\n",
        "## Feature Scaling\n",
        "from sklearn.model_selection import train_test_split\n",
        "from sklearn.preprocessing import StandardScaler\n",
        "\n",
        "## ML Models Diffrent Algorithms\n",
        "from sklearn.tree import DecisionTreeClassifier\n",
        "from sklearn.ensemble import RandomForestClassifier\n",
        "from sklearn.ensemble import GradientBoostingClassifier\n",
        "from sklearn.neighbors import KNeighborsClassifier\n",
        "\n",
        "## Metrics\n",
        "from sklearn.metrics import classification_report\n",
        "from sklearn.metrics import plot_confusion_matrix\n",
        "\n",
        "## Comparision of Performance of all Algorithms\n",
        "from sklearn.metrics import roc_auc_score\n",
        "from sklearn.metrics import roc_curve"
      ]
    },
    {
      "cell_type": "code",
      "execution_count": 66,
      "metadata": {
        "id": "EzrlOaNLkdsI"
      },
      "outputs": [],
      "source": [
        "X = df[ ['DayMins', 'DayCalls','AccountWeeks','OverageFee','RoamMins','DataUsage','CustServCalls','ContractRenewal']]\n",
        "\n",
        "y = df['Churn']\n",
        "X_train, X_test, y_train, y_test = train_test_split(X, y, test_size=0.33, random_state=42)"
      ]
    },
    {
      "cell_type": "code",
      "execution_count": 67,
      "metadata": {
        "colab": {
          "base_uri": "https://localhost:8080/",
          "height": 175
        },
        "id": "wh7UMFCljQvY",
        "outputId": "4275349f-32a1-41b2-d21d-eda45c1d7bc7"
      },
      "outputs": [
        {
          "output_type": "execute_result",
          "data": {
            "text/plain": [
              "                    0           1  accuracy    macro avg  weighted avg\n",
              "precision    0.893576    0.859649  0.891818     0.876613      0.888641\n",
              "recall       0.991489    0.306250  0.891818     0.648870      0.891818\n",
              "f1-score     0.939990    0.451613  0.891818     0.695801      0.868953\n",
              "support    940.000000  160.000000  0.891818  1100.000000   1100.000000"
            ],
            "text/html": [
              "\n",
              "  <div id=\"df-ecf1b88b-1be1-4fa1-bfe0-1d03c5cac2f2\">\n",
              "    <div class=\"colab-df-container\">\n",
              "      <div>\n",
              "<style scoped>\n",
              "    .dataframe tbody tr th:only-of-type {\n",
              "        vertical-align: middle;\n",
              "    }\n",
              "\n",
              "    .dataframe tbody tr th {\n",
              "        vertical-align: top;\n",
              "    }\n",
              "\n",
              "    .dataframe thead th {\n",
              "        text-align: right;\n",
              "    }\n",
              "</style>\n",
              "<table border=\"1\" class=\"dataframe\">\n",
              "  <thead>\n",
              "    <tr style=\"text-align: right;\">\n",
              "      <th></th>\n",
              "      <th>0</th>\n",
              "      <th>1</th>\n",
              "      <th>accuracy</th>\n",
              "      <th>macro avg</th>\n",
              "      <th>weighted avg</th>\n",
              "    </tr>\n",
              "  </thead>\n",
              "  <tbody>\n",
              "    <tr>\n",
              "      <th>precision</th>\n",
              "      <td>0.893576</td>\n",
              "      <td>0.859649</td>\n",
              "      <td>0.891818</td>\n",
              "      <td>0.876613</td>\n",
              "      <td>0.888641</td>\n",
              "    </tr>\n",
              "    <tr>\n",
              "      <th>recall</th>\n",
              "      <td>0.991489</td>\n",
              "      <td>0.306250</td>\n",
              "      <td>0.891818</td>\n",
              "      <td>0.648870</td>\n",
              "      <td>0.891818</td>\n",
              "    </tr>\n",
              "    <tr>\n",
              "      <th>f1-score</th>\n",
              "      <td>0.939990</td>\n",
              "      <td>0.451613</td>\n",
              "      <td>0.891818</td>\n",
              "      <td>0.695801</td>\n",
              "      <td>0.868953</td>\n",
              "    </tr>\n",
              "    <tr>\n",
              "      <th>support</th>\n",
              "      <td>940.000000</td>\n",
              "      <td>160.000000</td>\n",
              "      <td>0.891818</td>\n",
              "      <td>1100.000000</td>\n",
              "      <td>1100.000000</td>\n",
              "    </tr>\n",
              "  </tbody>\n",
              "</table>\n",
              "</div>\n",
              "      <button class=\"colab-df-convert\" onclick=\"convertToInteractive('df-ecf1b88b-1be1-4fa1-bfe0-1d03c5cac2f2')\"\n",
              "              title=\"Convert this dataframe to an interactive table.\"\n",
              "              style=\"display:none;\">\n",
              "        \n",
              "  <svg xmlns=\"http://www.w3.org/2000/svg\" height=\"24px\"viewBox=\"0 0 24 24\"\n",
              "       width=\"24px\">\n",
              "    <path d=\"M0 0h24v24H0V0z\" fill=\"none\"/>\n",
              "    <path d=\"M18.56 5.44l.94 2.06.94-2.06 2.06-.94-2.06-.94-.94-2.06-.94 2.06-2.06.94zm-11 1L8.5 8.5l.94-2.06 2.06-.94-2.06-.94L8.5 2.5l-.94 2.06-2.06.94zm10 10l.94 2.06.94-2.06 2.06-.94-2.06-.94-.94-2.06-.94 2.06-2.06.94z\"/><path d=\"M17.41 7.96l-1.37-1.37c-.4-.4-.92-.59-1.43-.59-.52 0-1.04.2-1.43.59L10.3 9.45l-7.72 7.72c-.78.78-.78 2.05 0 2.83L4 21.41c.39.39.9.59 1.41.59.51 0 1.02-.2 1.41-.59l7.78-7.78 2.81-2.81c.8-.78.8-2.07 0-2.86zM5.41 20L4 18.59l7.72-7.72 1.47 1.35L5.41 20z\"/>\n",
              "  </svg>\n",
              "      </button>\n",
              "      \n",
              "  <style>\n",
              "    .colab-df-container {\n",
              "      display:flex;\n",
              "      flex-wrap:wrap;\n",
              "      gap: 12px;\n",
              "    }\n",
              "\n",
              "    .colab-df-convert {\n",
              "      background-color: #E8F0FE;\n",
              "      border: none;\n",
              "      border-radius: 50%;\n",
              "      cursor: pointer;\n",
              "      display: none;\n",
              "      fill: #1967D2;\n",
              "      height: 32px;\n",
              "      padding: 0 0 0 0;\n",
              "      width: 32px;\n",
              "    }\n",
              "\n",
              "    .colab-df-convert:hover {\n",
              "      background-color: #E2EBFA;\n",
              "      box-shadow: 0px 1px 2px rgba(60, 64, 67, 0.3), 0px 1px 3px 1px rgba(60, 64, 67, 0.15);\n",
              "      fill: #174EA6;\n",
              "    }\n",
              "\n",
              "    [theme=dark] .colab-df-convert {\n",
              "      background-color: #3B4455;\n",
              "      fill: #D2E3FC;\n",
              "    }\n",
              "\n",
              "    [theme=dark] .colab-df-convert:hover {\n",
              "      background-color: #434B5C;\n",
              "      box-shadow: 0px 1px 3px 1px rgba(0, 0, 0, 0.15);\n",
              "      filter: drop-shadow(0px 1px 2px rgba(0, 0, 0, 0.3));\n",
              "      fill: #FFFFFF;\n",
              "    }\n",
              "  </style>\n",
              "\n",
              "      <script>\n",
              "        const buttonEl =\n",
              "          document.querySelector('#df-ecf1b88b-1be1-4fa1-bfe0-1d03c5cac2f2 button.colab-df-convert');\n",
              "        buttonEl.style.display =\n",
              "          google.colab.kernel.accessAllowed ? 'block' : 'none';\n",
              "\n",
              "        async function convertToInteractive(key) {\n",
              "          const element = document.querySelector('#df-ecf1b88b-1be1-4fa1-bfe0-1d03c5cac2f2');\n",
              "          const dataTable =\n",
              "            await google.colab.kernel.invokeFunction('convertToInteractive',\n",
              "                                                     [key], {});\n",
              "          if (!dataTable) return;\n",
              "\n",
              "          const docLinkHtml = 'Like what you see? Visit the ' +\n",
              "            '<a target=\"_blank\" href=https://colab.research.google.com/notebooks/data_table.ipynb>data table notebook</a>'\n",
              "            + ' to learn more about interactive tables.';\n",
              "          element.innerHTML = '';\n",
              "          dataTable['output_type'] = 'display_data';\n",
              "          await google.colab.output.renderOutput(dataTable, element);\n",
              "          const docLink = document.createElement('div');\n",
              "          docLink.innerHTML = docLinkHtml;\n",
              "          element.appendChild(docLink);\n",
              "        }\n",
              "      </script>\n",
              "    </div>\n",
              "  </div>\n",
              "  "
            ]
          },
          "metadata": {},
          "execution_count": 67
        }
      ],
      "source": [
        "clfk = KNeighborsClassifier(n_neighbors=5, weights='distance')\n",
        "clfk.fit(X_train, y_train)\n",
        "\n",
        "pk = clfk.predict(X_test)\n",
        "pd.DataFrame(classification_report(y_test, pk,output_dict=True))"
      ]
    },
    {
      "cell_type": "code",
      "execution_count": 68,
      "metadata": {
        "colab": {
          "base_uri": "https://localhost:8080/",
          "height": 351
        },
        "id": "1w2FZ5s7tMRq",
        "outputId": "99375cfa-24a2-4a8b-e35f-e68f12d3d5fa"
      },
      "outputs": [
        {
          "output_type": "stream",
          "name": "stderr",
          "text": [
            "/usr/local/lib/python3.8/dist-packages/sklearn/utils/deprecation.py:87: FutureWarning: Function plot_confusion_matrix is deprecated; Function `plot_confusion_matrix` is deprecated in 1.0 and will be removed in 1.2. Use one of the class methods: ConfusionMatrixDisplay.from_predictions or ConfusionMatrixDisplay.from_estimator.\n",
            "  warnings.warn(msg, category=FutureWarning)\n"
          ]
        },
        {
          "output_type": "execute_result",
          "data": {
            "text/plain": [
              "<sklearn.metrics._plot.confusion_matrix.ConfusionMatrixDisplay at 0x7f351c122250>"
            ]
          },
          "metadata": {},
          "execution_count": 68
        },
        {
          "output_type": "display_data",
          "data": {
            "text/plain": [
              "<Figure size 432x288 with 2 Axes>"
            ],
            "image/png": "[encoded data removed]"
          },
          "metadata": {
            "needs_background": "light"
          }
        }
      ],
      "source": [
        "plot_confusion_matrix(clfk, X_test, y_test)"
      ]
    },
    {
      "cell_type": "markdown",
      "metadata": {
        "id": "g7bb3lTAtMnk"
      },
      "source": [
        "precision, recall and f1 sore on prediction of not churened is quite high and  churned show low scores. with accuracy of the model of 89%.Recall the Fraction of positives that were correctly being, is 38% for churened."
      ]
    },
    {
      "cell_type": "code",
      "execution_count": 69,
      "metadata": {
        "colab": {
          "base_uri": "https://localhost:8080/",
          "height": 173
        },
        "id": "ES4CkDIhpaZo",
        "outputId": "aac98438-4b9f-4bdc-89aa-3a62b8a455d9"
      },
      "outputs": [
        {
          "output_type": "execute_result",
          "data": {
            "text/plain": [
              "<IPython.core.display.HTML object>"
            ],
            "text/html": [
              "\n",
              "    <style>\n",
              "    table.eli5-weights tr:hover {\n",
              "        filter: brightness(85%);\n",
              "    }\n",
              "</style>\n",
              "\n",
              "\n",
              "\n",
              "    \n",
              "\n",
              "    \n",
              "\n",
              "    \n",
              "\n",
              "    \n",
              "\n",
              "    \n",
              "\n",
              "    \n",
              "\n",
              "\n",
              "    \n",
              "\n",
              "    \n",
              "\n",
              "    \n",
              "\n",
              "    \n",
              "\n",
              "    \n",
              "\n",
              "    \n",
              "\n",
              "\n",
              "    \n",
              "\n",
              "    \n",
              "\n",
              "    \n",
              "\n",
              "    \n",
              "\n",
              "    \n",
              "        <table class=\"eli5-weights eli5-feature-importances\" style=\"border-collapse: collapse; border: none; margin-top: 0em; table-layout: auto;\">\n",
              "    <thead>\n",
              "    <tr style=\"border: none;\">\n",
              "        <th style=\"padding: 0 1em 0 0.5em; text-align: right; border: none;\">Weight</th>\n",
              "        <th style=\"padding: 0 0.5em 0 0.5em; text-align: left; border: none;\">Feature</th>\n",
              "    </tr>\n",
              "    </thead>\n",
              "    <tbody>\n",
              "    \n",
              "        <tr style=\"background-color: hsl(120, 100.00%, 80.00%); border: none;\">\n",
              "            <td style=\"padding: 0 1em 0 0.5em; text-align: right; border: none;\">\n",
              "                0.0471\n",
              "                \n",
              "                    &plusmn; 0.0140\n",
              "                \n",
              "            </td>\n",
              "            <td style=\"padding: 0 0.5em 0 0.5em; text-align: left; border: none;\">\n",
              "                DayMins\n",
              "            </td>\n",
              "        </tr>\n",
              "    \n",
              "        <tr style=\"background-color: hsl(120, 100.00%, 84.26%); border: none;\">\n",
              "            <td style=\"padding: 0 1em 0 0.5em; text-align: right; border: none;\">\n",
              "                0.0335\n",
              "                \n",
              "                    &plusmn; 0.0074\n",
              "                \n",
              "            </td>\n",
              "            <td style=\"padding: 0 0.5em 0 0.5em; text-align: left; border: none;\">\n",
              "                CustServCalls\n",
              "            </td>\n",
              "        </tr>\n",
              "    \n",
              "        <tr style=\"background-color: hsl(120, 100.00%, 90.02%); border: none;\">\n",
              "            <td style=\"padding: 0 1em 0 0.5em; text-align: right; border: none;\">\n",
              "                0.0175\n",
              "                \n",
              "                    &plusmn; 0.0057\n",
              "                \n",
              "            </td>\n",
              "            <td style=\"padding: 0 0.5em 0 0.5em; text-align: left; border: none;\">\n",
              "                OverageFee\n",
              "            </td>\n",
              "        </tr>\n",
              "    \n",
              "        <tr style=\"background-color: hsl(120, 100.00%, 91.29%); border: none;\">\n",
              "            <td style=\"padding: 0 1em 0 0.5em; text-align: right; border: none;\">\n",
              "                0.0144\n",
              "                \n",
              "                    &plusmn; 0.0040\n",
              "                \n",
              "            </td>\n",
              "            <td style=\"padding: 0 0.5em 0 0.5em; text-align: left; border: none;\">\n",
              "                DataUsage\n",
              "            </td>\n",
              "        </tr>\n",
              "    \n",
              "        <tr style=\"background-color: hsl(120, 100.00%, 95.27%); border: none;\">\n",
              "            <td style=\"padding: 0 1em 0 0.5em; text-align: right; border: none;\">\n",
              "                0.0060\n",
              "                \n",
              "                    &plusmn; 0.0089\n",
              "                \n",
              "            </td>\n",
              "            <td style=\"padding: 0 0.5em 0 0.5em; text-align: left; border: none;\">\n",
              "                ContractRenewal\n",
              "            </td>\n",
              "        </tr>\n",
              "    \n",
              "        <tr style=\"background-color: hsl(0, 100.00%, 98.74%); border: none;\">\n",
              "            <td style=\"padding: 0 1em 0 0.5em; text-align: right; border: none;\">\n",
              "                -0.0009\n",
              "                \n",
              "                    &plusmn; 0.0061\n",
              "                \n",
              "            </td>\n",
              "            <td style=\"padding: 0 0.5em 0 0.5em; text-align: left; border: none;\">\n",
              "                RoamMins\n",
              "            </td>\n",
              "        </tr>\n",
              "    \n",
              "        <tr style=\"background-color: hsl(0, 100.00%, 97.03%); border: none;\">\n",
              "            <td style=\"padding: 0 1em 0 0.5em; text-align: right; border: none;\">\n",
              "                -0.0031\n",
              "                \n",
              "                    &plusmn; 0.0055\n",
              "                \n",
              "            </td>\n",
              "            <td style=\"padding: 0 0.5em 0 0.5em; text-align: left; border: none;\">\n",
              "                DayCalls\n",
              "            </td>\n",
              "        </tr>\n",
              "    \n",
              "        <tr style=\"background-color: hsl(0, 100.00%, 96.79%); border: none;\">\n",
              "            <td style=\"padding: 0 1em 0 0.5em; text-align: right; border: none;\">\n",
              "                -0.0035\n",
              "                \n",
              "                    &plusmn; 0.0051\n",
              "                \n",
              "            </td>\n",
              "            <td style=\"padding: 0 0.5em 0 0.5em; text-align: left; border: none;\">\n",
              "                AccountWeeks\n",
              "            </td>\n",
              "        </tr>\n",
              "    \n",
              "    \n",
              "    </tbody>\n",
              "</table>\n",
              "    \n",
              "\n",
              "    \n",
              "\n",
              "\n",
              "    \n",
              "\n",
              "    \n",
              "\n",
              "    \n",
              "\n",
              "    \n",
              "\n",
              "    \n",
              "\n",
              "    \n",
              "\n",
              "\n",
              "\n"
            ]
          },
          "metadata": {},
          "execution_count": 69
        }
      ],
      "source": [
        "import eli5\n",
        "from eli5.sklearn import PermutationImportance\n",
        "perm = PermutationImportance(clfk, random_state=1).fit(X_test, y_test)\n",
        "eli5.show_weights(perm, feature_names = X_test.columns.tolist())"
      ]
    },
    {
      "cell_type": "markdown",
      "metadata": {
        "id": "wq8Ms72EqF_B"
      },
      "source": [
        "From the above we can see DayCalls and AccountWeeks to be the lease significant.\n",
        "\n",
        "---\n",
        "\n",
        "\n",
        "\n",
        "\n",
        "**Permutation Importance**\n",
        "\n",
        "Permutation feature importance calculates feature importance by shuffling each predictor and recording the increase in RMSE(root mean square error). This will allow us to assess which  predictors are useful for making predictions.\n",
        "\n",
        "More on it- \n",
        "\n",
        "*  https://towardsdatascience.com/from-scratch-permutation-feature-importance-for-ml-interpretability-b60f7d5d1fe9\n",
        "\n",
        "\n"
      ]
    },
    {
      "cell_type": "code",
      "execution_count": 70,
      "metadata": {
        "id": "aVq5oKfYlNQs"
      },
      "outputs": [],
      "source": [
        "from scipy import stats\n",
        "def eliminateOutlier(df):\n",
        "  z_scores = stats.zscore(df)\n",
        "  #calculate z-scores of `df`\n",
        "  abs_z_scores = np.abs(z_scores)\n",
        "  filtered_entries = (abs_z_scores < 3).all(axis=1)\n",
        "  return df[filtered_entries]"
      ]
    },
    {
      "cell_type": "markdown",
      "metadata": {
        "id": "vhJTYJXdMoDn"
      },
      "source": [
        "the code eliminates outlier based on Z score "
      ]
    },
    {
      "cell_type": "code",
      "execution_count": 71,
      "metadata": {
        "id": "er_DcyXUwjCK"
      },
      "outputs": [],
      "source": [
        "df=eliminateOutlier(df)"
      ]
    },
    {
      "cell_type": "code",
      "execution_count": 72,
      "metadata": {
        "id": "EMkWa6LHxRhh"
      },
      "outputs": [],
      "source": [
        "X = df.drop(\"Churn\", axis=1)\n",
        "y = df[\"Churn\"]"
      ]
    },
    {
      "cell_type": "code",
      "execution_count": 73,
      "metadata": {
        "colab": {
          "base_uri": "https://localhost:8080/"
        },
        "id": "G-Zlrq3jxy2B",
        "outputId": "bdcbe1a2-d274-409a-db04-ba69f2ade430"
      },
      "outputs": [
        {
          "output_type": "execute_result",
          "data": {
            "text/plain": [
              "(2926, 8)"
            ]
          },
          "metadata": {},
          "execution_count": 73
        }
      ],
      "source": [
        "X.shape"
      ]
    },
    {
      "cell_type": "code",
      "execution_count": 74,
      "metadata": {
        "id": "V0gXd72Aw-Ry"
      },
      "outputs": [],
      "source": [
        "X_train, X_test, y_train, y_test = train_test_split(X, y, test_size=0.33, random_state=42)"
      ]
    },
    {
      "cell_type": "code",
      "execution_count": 75,
      "metadata": {
        "colab": {
          "base_uri": "https://localhost:8080/",
          "height": 175
        },
        "id": "l8D-hQng6Wji",
        "outputId": "cdfb5e3c-3d3f-456f-d68f-b4c9d6f14838"
      },
      "outputs": [
        {
          "output_type": "execute_result",
          "data": {
            "text/plain": [
              "                    0           1  accuracy   macro avg  weighted avg\n",
              "precision    0.913978    0.861111  0.912008    0.887545      0.907904\n",
              "recall       0.994152    0.279279  0.912008    0.636716      0.912008\n",
              "f1-score     0.952381    0.421769  0.912008    0.687075      0.891410\n",
              "support    855.000000  111.000000  0.912008  966.000000    966.000000"
            ],
            "text/html": [
              "\n",
              "  <div id=\"df-83a4425f-ba74-4ccc-b6b5-dcb37da58f60\">\n",
              "    <div class=\"colab-df-container\">\n",
              "      <div>\n",
              "<style scoped>\n",
              "    .dataframe tbody tr th:only-of-type {\n",
              "        vertical-align: middle;\n",
              "    }\n",
              "\n",
              "    .dataframe tbody tr th {\n",
              "        vertical-align: top;\n",
              "    }\n",
              "\n",
              "    .dataframe thead th {\n",
              "        text-align: right;\n",
              "    }\n",
              "</style>\n",
              "<table border=\"1\" class=\"dataframe\">\n",
              "  <thead>\n",
              "    <tr style=\"text-align: right;\">\n",
              "      <th></th>\n",
              "      <th>0</th>\n",
              "      <th>1</th>\n",
              "      <th>accuracy</th>\n",
              "      <th>macro avg</th>\n",
              "      <th>weighted avg</th>\n",
              "    </tr>\n",
              "  </thead>\n",
              "  <tbody>\n",
              "    <tr>\n",
              "      <th>precision</th>\n",
              "      <td>0.913978</td>\n",
              "      <td>0.861111</td>\n",
              "      <td>0.912008</td>\n",
              "      <td>0.887545</td>\n",
              "      <td>0.907904</td>\n",
              "    </tr>\n",
              "    <tr>\n",
              "      <th>recall</th>\n",
              "      <td>0.994152</td>\n",
              "      <td>0.279279</td>\n",
              "      <td>0.912008</td>\n",
              "      <td>0.636716</td>\n",
              "      <td>0.912008</td>\n",
              "    </tr>\n",
              "    <tr>\n",
              "      <th>f1-score</th>\n",
              "      <td>0.952381</td>\n",
              "      <td>0.421769</td>\n",
              "      <td>0.912008</td>\n",
              "      <td>0.687075</td>\n",
              "      <td>0.891410</td>\n",
              "    </tr>\n",
              "    <tr>\n",
              "      <th>support</th>\n",
              "      <td>855.000000</td>\n",
              "      <td>111.000000</td>\n",
              "      <td>0.912008</td>\n",
              "      <td>966.000000</td>\n",
              "      <td>966.000000</td>\n",
              "    </tr>\n",
              "  </tbody>\n",
              "</table>\n",
              "</div>\n",
              "      <button class=\"colab-df-convert\" onclick=\"convertToInteractive('df-83a4425f-ba74-4ccc-b6b5-dcb37da58f60')\"\n",
              "              title=\"Convert this dataframe to an interactive table.\"\n",
              "              style=\"display:none;\">\n",
              "        \n",
              "  <svg xmlns=\"http://www.w3.org/2000/svg\" height=\"24px\"viewBox=\"0 0 24 24\"\n",
              "       width=\"24px\">\n",
              "    <path d=\"M0 0h24v24H0V0z\" fill=\"none\"/>\n",
              "    <path d=\"M18.56 5.44l.94 2.06.94-2.06 2.06-.94-2.06-.94-.94-2.06-.94 2.06-2.06.94zm-11 1L8.5 8.5l.94-2.06 2.06-.94-2.06-.94L8.5 2.5l-.94 2.06-2.06.94zm10 10l.94 2.06.94-2.06 2.06-.94-2.06-.94-.94-2.06-.94 2.06-2.06.94z\"/><path d=\"M17.41 7.96l-1.37-1.37c-.4-.4-.92-.59-1.43-.59-.52 0-1.04.2-1.43.59L10.3 9.45l-7.72 7.72c-.78.78-.78 2.05 0 2.83L4 21.41c.39.39.9.59 1.41.59.51 0 1.02-.2 1.41-.59l7.78-7.78 2.81-2.81c.8-.78.8-2.07 0-2.86zM5.41 20L4 18.59l7.72-7.72 1.47 1.35L5.41 20z\"/>\n",
              "  </svg>\n",
              "      </button>\n",
              "      \n",
              "  <style>\n",
              "    .colab-df-container {\n",
              "      display:flex;\n",
              "      flex-wrap:wrap;\n",
              "      gap: 12px;\n",
              "    }\n",
              "\n",
              "    .colab-df-convert {\n",
              "      background-color: #E8F0FE;\n",
              "      border: none;\n",
              "      border-radius: 50%;\n",
              "      cursor: pointer;\n",
              "      display: none;\n",
              "      fill: #1967D2;\n",
              "      height: 32px;\n",
              "      padding: 0 0 0 0;\n",
              "      width: 32px;\n",
              "    }\n",
              "\n",
              "    .colab-df-convert:hover {\n",
              "      background-color: #E2EBFA;\n",
              "      box-shadow: 0px 1px 2px rgba(60, 64, 67, 0.3), 0px 1px 3px 1px rgba(60, 64, 67, 0.15);\n",
              "      fill: #174EA6;\n",
              "    }\n",
              "\n",
              "    [theme=dark] .colab-df-convert {\n",
              "      background-color: #3B4455;\n",
              "      fill: #D2E3FC;\n",
              "    }\n",
              "\n",
              "    [theme=dark] .colab-df-convert:hover {\n",
              "      background-color: #434B5C;\n",
              "      box-shadow: 0px 1px 3px 1px rgba(0, 0, 0, 0.15);\n",
              "      filter: drop-shadow(0px 1px 2px rgba(0, 0, 0, 0.3));\n",
              "      fill: #FFFFFF;\n",
              "    }\n",
              "  </style>\n",
              "\n",
              "      <script>\n",
              "        const buttonEl =\n",
              "          document.querySelector('#df-83a4425f-ba74-4ccc-b6b5-dcb37da58f60 button.colab-df-convert');\n",
              "        buttonEl.style.display =\n",
              "          google.colab.kernel.accessAllowed ? 'block' : 'none';\n",
              "\n",
              "        async function convertToInteractive(key) {\n",
              "          const element = document.querySelector('#df-83a4425f-ba74-4ccc-b6b5-dcb37da58f60');\n",
              "          const dataTable =\n",
              "            await google.colab.kernel.invokeFunction('convertToInteractive',\n",
              "                                                     [key], {});\n",
              "          if (!dataTable) return;\n",
              "\n",
              "          const docLinkHtml = 'Like what you see? Visit the ' +\n",
              "            '<a target=\"_blank\" href=https://colab.research.google.com/notebooks/data_table.ipynb>data table notebook</a>'\n",
              "            + ' to learn more about interactive tables.';\n",
              "          element.innerHTML = '';\n",
              "          dataTable['output_type'] = 'display_data';\n",
              "          await google.colab.output.renderOutput(dataTable, element);\n",
              "          const docLink = document.createElement('div');\n",
              "          docLink.innerHTML = docLinkHtml;\n",
              "          element.appendChild(docLink);\n",
              "        }\n",
              "      </script>\n",
              "    </div>\n",
              "  </div>\n",
              "  "
            ]
          },
          "metadata": {},
          "execution_count": 75
        }
      ],
      "source": [
        "clfk = KNeighborsClassifier(n_neighbors=5, weights='distance')\n",
        "clfk.fit(X_train, y_train)\n",
        "\n",
        "pk = clfk.predict(X_test)\n",
        "pd.DataFrame(classification_report(y_test, pk,output_dict=True))\n"
      ]
    },
    {
      "cell_type": "code",
      "execution_count": 76,
      "metadata": {
        "colab": {
          "base_uri": "https://localhost:8080/",
          "height": 351
        },
        "id": "Fk3Jwt2MLGBT",
        "outputId": "b704b04a-8429-4bc3-d465-ff16c0a63aae"
      },
      "outputs": [
        {
          "output_type": "stream",
          "name": "stderr",
          "text": [
            "/usr/local/lib/python3.8/dist-packages/sklearn/utils/deprecation.py:87: FutureWarning: Function plot_confusion_matrix is deprecated; Function `plot_confusion_matrix` is deprecated in 1.0 and will be removed in 1.2. Use one of the class methods: ConfusionMatrixDisplay.from_predictions or ConfusionMatrixDisplay.from_estimator.\n",
            "  warnings.warn(msg, category=FutureWarning)\n"
          ]
        },
        {
          "output_type": "execute_result",
          "data": {
            "text/plain": [
              "<sklearn.metrics._plot.confusion_matrix.ConfusionMatrixDisplay at 0x7f352bdfeb80>"
            ]
          },
          "metadata": {},
          "execution_count": 76
        },
        {
          "output_type": "display_data",
          "data": {
            "text/plain": [
              "<Figure size 432x288 with 2 Axes>"
            ],
            "image/png": "[encoded data removed]"
          },
          "metadata": {
            "needs_background": "light"
          }
        }
      ],
      "source": [
        "plot_confusion_matrix(clfk, X_test, y_test)"
      ]
    },
    {
      "cell_type": "markdown",
      "metadata": {
        "id": "oDrONcWB5E1O"
      },
      "source": [
        "On Removal of Outliers the model's accuracy increases 2%. other parameters pretty much remain the same."
      ]
    }
  ]
}