{
 "cells": [
  {
   "cell_type": "code",
   "execution_count": 1,
   "id": "81fed92f",
   "metadata": {
    "_cell_guid": "b1076dfc-b9ad-4769-8c92-a6c4dae69d19",
    "_uuid": "8f2839f25d086af736a60e9eeb907d3b93b6e0e5",
    "execution": {
     "iopub.execute_input": "2022-12-05T04:28:38.867132Z",
     "iopub.status.busy": "2022-12-05T04:28:38.866394Z",
     "iopub.status.idle": "2022-12-05T04:28:38.883322Z",
     "shell.execute_reply": "2022-12-05T04:28:38.881989Z"
    },
    "papermill": {
     "duration": 0.032579,
     "end_time": "2022-12-05T04:28:38.886016",
     "exception": false,
     "start_time": "2022-12-05T04:28:38.853437",
     "status": "completed"
    },
    "tags": []
   },
   "outputs": [
    {
     "name": "stdout",
     "output_type": "stream",
     "text": [
      "/kaggle/input/top-1000-instagrammers-world-cleaned/top_1000_instagrammers.csv\n"
     ]
    }
   ],
   "source": [
    "# This Python 3 environment comes with many helpful analytics libraries installed\n",
    "# It is defined by the kaggle/python Docker image: https://github.com/kaggle/docker-python\n",
    "# For example, here's several helpful packages to load\n",
    "\n",
    "import numpy as np # linear algebra\n",
    "import pandas as pd # data processing, CSV file I/O (e.g. pd.read_csv)\n",
    "\n",
    "# Input data files are available in the read-only \"../input/\" directory\n",
    "# For example, running this (by clicking run or pressing Shift+Enter) will list all files under the input directory\n",
    "\n",
    "import os\n",
    "for dirname, _, filenames in os.walk('/kaggle/input'):\n",
    "    for filename in filenames:\n",
    "        print(os.path.join(dirname, filename))\n",
    "        break\n",
    "\n",
    "# You can write up to 20GB to the current directory (/kaggle/working/) that gets preserved as output when you create a version using \"Save & Run All\" \n",
    "# You can also write temporary files to /kaggle/temp/, but they won't be saved outside of the current session"
   ]
  },
  {
   "cell_type": "markdown",
   "id": "b21baae3",
   "metadata": {
    "papermill": {
     "duration": 0.011227,
     "end_time": "2022-12-05T04:28:38.907687",
     "exception": false,
     "start_time": "2022-12-05T04:28:38.896460",
     "status": "completed"
    },
    "tags": []
   },
   "source": [
    "# introduction"
   ]
  },
  {
   "cell_type": "markdown",
   "id": "7668cbbe",
   "metadata": {
    "papermill": {
     "duration": 0.009717,
     "end_time": "2022-12-05T04:28:38.927279",
     "exception": false,
     "start_time": "2022-12-05T04:28:38.917562",
     "status": "completed"
    },
    "tags": []
   },
   "source": [
    "Instagram[a] is a photo and video sharing social networking service founded in 2010 by Kevin Systrom and Mike Krieger, and later acquired by American company Facebook Inc. The app allows users to upload media that can be edited with filters and organized by hashtags and geographical tagging. Posts can be shared publicly or with preapproved followers. Users can browse other users' content by tag and location, view trending content, like photos, and follow other users to add their content to a personal feed.\n",
    "\n",
    "This dataset comprises of the details of top 1000 influencers in instagram\n",
    "\n",
    "To be able to find commonalities among more than 100M accounts and use these characteristics to predict the number of followers of other accounts"
   ]
  },
  {
   "cell_type": "markdown",
   "id": "cef04449",
   "metadata": {
    "papermill": {
     "duration": 0.009405,
     "end_time": "2022-12-05T04:28:38.946290",
     "exception": false,
     "start_time": "2022-12-05T04:28:38.936885",
     "status": "completed"
    },
    "tags": []
   },
   "source": [
    "## Dataset"
   ]
  },
  {
   "cell_type": "code",
   "execution_count": 2,
   "id": "ec4b925d",
   "metadata": {
    "execution": {
     "iopub.execute_input": "2022-12-05T04:28:38.966539Z",
     "iopub.status.busy": "2022-12-05T04:28:38.966276Z",
     "iopub.status.idle": "2022-12-05T04:28:39.812625Z",
     "shell.execute_reply": "2022-12-05T04:28:39.811692Z"
    },
    "papermill": {
     "duration": 0.85881,
     "end_time": "2022-12-05T04:28:39.814696",
     "exception": false,
     "start_time": "2022-12-05T04:28:38.955886",
     "status": "completed"
    },
    "tags": []
   },
   "outputs": [
    {
     "data": {
      "text/html": [
       "<div>\n",
       "<style scoped>\n",
       "    .dataframe tbody tr th:only-of-type {\n",
       "        vertical-align: middle;\n",
       "    }\n",
       "\n",
       "    .dataframe tbody tr th {\n",
       "        vertical-align: top;\n",
       "    }\n",
       "\n",
       "    .dataframe thead th {\n",
       "        text-align: right;\n",
       "    }\n",
       "</style>\n",
       "<table border=\"1\" class=\"dataframe\">\n",
       "  <thead>\n",
       "    <tr style=\"text-align: right;\">\n",
       "      <th></th>\n",
       "      <th>Name</th>\n",
       "      <th>Rank</th>\n",
       "      <th>Category</th>\n",
       "      <th>Followers</th>\n",
       "      <th>Audience_Country</th>\n",
       "      <th>Authentic_Engagement</th>\n",
       "      <th>Engagement_Avg</th>\n",
       "    </tr>\n",
       "  </thead>\n",
       "  <tbody>\n",
       "    <tr>\n",
       "      <th>0</th>\n",
       "      <td>cristiano</td>\n",
       "      <td>1</td>\n",
       "      <td>Sports with a ball</td>\n",
       "      <td>462.9M</td>\n",
       "      <td>India</td>\n",
       "      <td>5.5M</td>\n",
       "      <td>6.6M</td>\n",
       "    </tr>\n",
       "    <tr>\n",
       "      <th>1</th>\n",
       "      <td>leomessi</td>\n",
       "      <td>2</td>\n",
       "      <td>Sports with a ballFamily</td>\n",
       "      <td>347.2M</td>\n",
       "      <td>Argentina</td>\n",
       "      <td>3.6M</td>\n",
       "      <td>4.8M</td>\n",
       "    </tr>\n",
       "    <tr>\n",
       "      <th>2</th>\n",
       "      <td>kendalljenner</td>\n",
       "      <td>3</td>\n",
       "      <td>ModelingFashion</td>\n",
       "      <td>247.6M</td>\n",
       "      <td>United States</td>\n",
       "      <td>3M</td>\n",
       "      <td>4.9M</td>\n",
       "    </tr>\n",
       "    <tr>\n",
       "      <th>3</th>\n",
       "      <td>arianagrande</td>\n",
       "      <td>4</td>\n",
       "      <td>Music</td>\n",
       "      <td>321.4M</td>\n",
       "      <td>United States</td>\n",
       "      <td>2.4M</td>\n",
       "      <td>3.4M</td>\n",
       "    </tr>\n",
       "    <tr>\n",
       "      <th>4</th>\n",
       "      <td>zendaya</td>\n",
       "      <td>5</td>\n",
       "      <td>Cinema &amp; Actors/actressesFashion</td>\n",
       "      <td>147M</td>\n",
       "      <td>United States</td>\n",
       "      <td>4.3M</td>\n",
       "      <td>5.8M</td>\n",
       "    </tr>\n",
       "  </tbody>\n",
       "</table>\n",
       "</div>"
      ],
      "text/plain": [
       "            Name  Rank                          Category Followers  \\\n",
       "0      cristiano     1                Sports with a ball    462.9M   \n",
       "1       leomessi     2          Sports with a ballFamily    347.2M   \n",
       "2  kendalljenner     3                   ModelingFashion    247.6M   \n",
       "3   arianagrande     4                             Music    321.4M   \n",
       "4        zendaya     5  Cinema & Actors/actressesFashion      147M   \n",
       "\n",
       "  Audience_Country Authentic_Engagement Engagement_Avg  \n",
       "0            India                 5.5M           6.6M  \n",
       "1        Argentina                 3.6M           4.8M  \n",
       "2    United States                   3M           4.9M  \n",
       "3    United States                 2.4M           3.4M  \n",
       "4    United States                 4.3M           5.8M  "
      ]
     },
     "execution_count": 2,
     "metadata": {},
     "output_type": "execute_result"
    }
   ],
   "source": [
    "import pandas as pd\n",
    "import seaborn as sns \n",
    "import matplotlib.pyplot as plt\n",
    "\n",
    "df = pd.read_csv(\"../input/top-1000-instagrammers-world-cleaned/top_1000_instagrammers.csv\")\n",
    "df.columns = [c.replace(' ', '_') for c in df.columns]\n",
    "df.columns = [c.replace('.', '') for c in df.columns]\n",
    "df.head()"
   ]
  },
  {
   "cell_type": "code",
   "execution_count": 3,
   "id": "7cdc8e7c",
   "metadata": {
    "execution": {
     "iopub.execute_input": "2022-12-05T04:28:39.837570Z",
     "iopub.status.busy": "2022-12-05T04:28:39.836052Z",
     "iopub.status.idle": "2022-12-05T04:28:39.842709Z",
     "shell.execute_reply": "2022-12-05T04:28:39.841854Z"
    },
    "papermill": {
     "duration": 0.019538,
     "end_time": "2022-12-05T04:28:39.844644",
     "exception": false,
     "start_time": "2022-12-05T04:28:39.825106",
     "status": "completed"
    },
    "tags": []
   },
   "outputs": [
    {
     "data": {
      "text/plain": [
       "(1000, 7)"
      ]
     },
     "execution_count": 3,
     "metadata": {},
     "output_type": "execute_result"
    }
   ],
   "source": [
    "df.shape"
   ]
  },
  {
   "cell_type": "markdown",
   "id": "d3e4d1e9",
   "metadata": {
    "papermill": {
     "duration": 0.009673,
     "end_time": "2022-12-05T04:28:39.864263",
     "exception": false,
     "start_time": "2022-12-05T04:28:39.854590",
     "status": "completed"
    },
    "tags": []
   },
   "source": [
    "## Data process"
   ]
  },
  {
   "cell_type": "code",
   "execution_count": 4,
   "id": "9d5f89d6",
   "metadata": {
    "execution": {
     "iopub.execute_input": "2022-12-05T04:28:39.885707Z",
     "iopub.status.busy": "2022-12-05T04:28:39.884894Z",
     "iopub.status.idle": "2022-12-05T04:28:41.310225Z",
     "shell.execute_reply": "2022-12-05T04:28:41.309263Z"
    },
    "papermill": {
     "duration": 1.438411,
     "end_time": "2022-12-05T04:28:41.312574",
     "exception": false,
     "start_time": "2022-12-05T04:28:39.874163",
     "status": "completed"
    },
    "tags": []
   },
   "outputs": [],
   "source": [
    "from numpy import nan\n",
    "import logging \n",
    "# transfer string to float\n",
    "colums = [\"Followers\",\"Authentic_Engagement\",\"Engagement_Avg\"]    \n",
    "content_list=[]\n",
    "for label,content in df.items():\n",
    "    if(label in colums):\n",
    "        content = content.replace({\"K\":\"*1e3\", \"M\":\"*1e6\"}, regex=True).map(pd.eval).astype(float)\n",
    "        content_list.append(content)\n",
    "df = df.assign(Followers= content_list[0],Authentic_Engagement= content_list[1],Engagement_Avg= content_list[2])\n"
   ]
  },
  {
   "cell_type": "code",
   "execution_count": 5,
   "id": "264566f7",
   "metadata": {
    "execution": {
     "iopub.execute_input": "2022-12-05T04:28:41.335451Z",
     "iopub.status.busy": "2022-12-05T04:28:41.334002Z",
     "iopub.status.idle": "2022-12-05T04:28:41.348298Z",
     "shell.execute_reply": "2022-12-05T04:28:41.347246Z"
    },
    "papermill": {
     "duration": 0.02736,
     "end_time": "2022-12-05T04:28:41.350289",
     "exception": false,
     "start_time": "2022-12-05T04:28:41.322929",
     "status": "completed"
    },
    "tags": []
   },
   "outputs": [
    {
     "data": {
      "text/html": [
       "<div>\n",
       "<style scoped>\n",
       "    .dataframe tbody tr th:only-of-type {\n",
       "        vertical-align: middle;\n",
       "    }\n",
       "\n",
       "    .dataframe tbody tr th {\n",
       "        vertical-align: top;\n",
       "    }\n",
       "\n",
       "    .dataframe thead th {\n",
       "        text-align: right;\n",
       "    }\n",
       "</style>\n",
       "<table border=\"1\" class=\"dataframe\">\n",
       "  <thead>\n",
       "    <tr style=\"text-align: right;\">\n",
       "      <th></th>\n",
       "      <th>Name</th>\n",
       "      <th>Rank</th>\n",
       "      <th>Category</th>\n",
       "      <th>Followers</th>\n",
       "      <th>Audience_Country</th>\n",
       "      <th>Authentic_Engagement</th>\n",
       "      <th>Engagement_Avg</th>\n",
       "    </tr>\n",
       "  </thead>\n",
       "  <tbody>\n",
       "    <tr>\n",
       "      <th>0</th>\n",
       "      <td>cristiano</td>\n",
       "      <td>1</td>\n",
       "      <td>Sports with a ball</td>\n",
       "      <td>462900000.0</td>\n",
       "      <td>India</td>\n",
       "      <td>5500000.0</td>\n",
       "      <td>6600000.0</td>\n",
       "    </tr>\n",
       "    <tr>\n",
       "      <th>1</th>\n",
       "      <td>leomessi</td>\n",
       "      <td>2</td>\n",
       "      <td>Sports with a ballFamily</td>\n",
       "      <td>347200000.0</td>\n",
       "      <td>Argentina</td>\n",
       "      <td>3600000.0</td>\n",
       "      <td>4800000.0</td>\n",
       "    </tr>\n",
       "    <tr>\n",
       "      <th>2</th>\n",
       "      <td>kendalljenner</td>\n",
       "      <td>3</td>\n",
       "      <td>ModelingFashion</td>\n",
       "      <td>247600000.0</td>\n",
       "      <td>United States</td>\n",
       "      <td>3000000.0</td>\n",
       "      <td>4900000.0</td>\n",
       "    </tr>\n",
       "    <tr>\n",
       "      <th>3</th>\n",
       "      <td>arianagrande</td>\n",
       "      <td>4</td>\n",
       "      <td>Music</td>\n",
       "      <td>321400000.0</td>\n",
       "      <td>United States</td>\n",
       "      <td>2400000.0</td>\n",
       "      <td>3400000.0</td>\n",
       "    </tr>\n",
       "    <tr>\n",
       "      <th>4</th>\n",
       "      <td>zendaya</td>\n",
       "      <td>5</td>\n",
       "      <td>Cinema &amp; Actors/actressesFashion</td>\n",
       "      <td>147000000.0</td>\n",
       "      <td>United States</td>\n",
       "      <td>4300000.0</td>\n",
       "      <td>5800000.0</td>\n",
       "    </tr>\n",
       "  </tbody>\n",
       "</table>\n",
       "</div>"
      ],
      "text/plain": [
       "            Name  Rank                          Category    Followers  \\\n",
       "0      cristiano     1                Sports with a ball  462900000.0   \n",
       "1       leomessi     2          Sports with a ballFamily  347200000.0   \n",
       "2  kendalljenner     3                   ModelingFashion  247600000.0   \n",
       "3   arianagrande     4                             Music  321400000.0   \n",
       "4        zendaya     5  Cinema & Actors/actressesFashion  147000000.0   \n",
       "\n",
       "  Audience_Country  Authentic_Engagement  Engagement_Avg  \n",
       "0            India             5500000.0       6600000.0  \n",
       "1        Argentina             3600000.0       4800000.0  \n",
       "2    United States             3000000.0       4900000.0  \n",
       "3    United States             2400000.0       3400000.0  \n",
       "4    United States             4300000.0       5800000.0  "
      ]
     },
     "execution_count": 5,
     "metadata": {},
     "output_type": "execute_result"
    }
   ],
   "source": [
    "df.head()"
   ]
  },
  {
   "cell_type": "code",
   "execution_count": 6,
   "id": "f6e15f90",
   "metadata": {
    "execution": {
     "iopub.execute_input": "2022-12-05T04:28:41.374717Z",
     "iopub.status.busy": "2022-12-05T04:28:41.373899Z",
     "iopub.status.idle": "2022-12-05T04:28:41.403939Z",
     "shell.execute_reply": "2022-12-05T04:28:41.402854Z"
    },
    "papermill": {
     "duration": 0.044452,
     "end_time": "2022-12-05T04:28:41.406094",
     "exception": false,
     "start_time": "2022-12-05T04:28:41.361642",
     "status": "completed"
    },
    "tags": []
   },
   "outputs": [
    {
     "data": {
      "text/html": [
       "<div>\n",
       "<style scoped>\n",
       "    .dataframe tbody tr th:only-of-type {\n",
       "        vertical-align: middle;\n",
       "    }\n",
       "\n",
       "    .dataframe tbody tr th {\n",
       "        vertical-align: top;\n",
       "    }\n",
       "\n",
       "    .dataframe thead th {\n",
       "        text-align: right;\n",
       "    }\n",
       "</style>\n",
       "<table border=\"1\" class=\"dataframe\">\n",
       "  <thead>\n",
       "    <tr style=\"text-align: right;\">\n",
       "      <th></th>\n",
       "      <th>Name</th>\n",
       "      <th>Rank</th>\n",
       "      <th>Followers</th>\n",
       "      <th>Authentic_Engagement</th>\n",
       "      <th>Engagement_Avg</th>\n",
       "      <th>Category_Adult content</th>\n",
       "      <th>Category_Animals</th>\n",
       "      <th>Category_Art/Artists</th>\n",
       "      <th>Category_Art/ArtistsBeauty</th>\n",
       "      <th>Category_Art/ArtistsCinema &amp; Actors/actresses</th>\n",
       "      <th>...</th>\n",
       "      <th>Audience_Country_Russia</th>\n",
       "      <th>Audience_Country_Senegal</th>\n",
       "      <th>Audience_Country_South Korea</th>\n",
       "      <th>Audience_Country_Spain</th>\n",
       "      <th>Audience_Country_Syria</th>\n",
       "      <th>Audience_Country_Thailand</th>\n",
       "      <th>Audience_Country_Turkey</th>\n",
       "      <th>Audience_Country_United Arab Emirates</th>\n",
       "      <th>Audience_Country_United Kingdom</th>\n",
       "      <th>Audience_Country_United States</th>\n",
       "    </tr>\n",
       "  </thead>\n",
       "  <tbody>\n",
       "    <tr>\n",
       "      <th>0</th>\n",
       "      <td>cristiano</td>\n",
       "      <td>1</td>\n",
       "      <td>462900000.0</td>\n",
       "      <td>5500000.0</td>\n",
       "      <td>6600000.0</td>\n",
       "      <td>0</td>\n",
       "      <td>0</td>\n",
       "      <td>0</td>\n",
       "      <td>0</td>\n",
       "      <td>0</td>\n",
       "      <td>...</td>\n",
       "      <td>0</td>\n",
       "      <td>0</td>\n",
       "      <td>0</td>\n",
       "      <td>0</td>\n",
       "      <td>0</td>\n",
       "      <td>0</td>\n",
       "      <td>0</td>\n",
       "      <td>0</td>\n",
       "      <td>0</td>\n",
       "      <td>0</td>\n",
       "    </tr>\n",
       "    <tr>\n",
       "      <th>1</th>\n",
       "      <td>leomessi</td>\n",
       "      <td>2</td>\n",
       "      <td>347200000.0</td>\n",
       "      <td>3600000.0</td>\n",
       "      <td>4800000.0</td>\n",
       "      <td>0</td>\n",
       "      <td>0</td>\n",
       "      <td>0</td>\n",
       "      <td>0</td>\n",
       "      <td>0</td>\n",
       "      <td>...</td>\n",
       "      <td>0</td>\n",
       "      <td>0</td>\n",
       "      <td>0</td>\n",
       "      <td>0</td>\n",
       "      <td>0</td>\n",
       "      <td>0</td>\n",
       "      <td>0</td>\n",
       "      <td>0</td>\n",
       "      <td>0</td>\n",
       "      <td>0</td>\n",
       "    </tr>\n",
       "    <tr>\n",
       "      <th>2</th>\n",
       "      <td>kendalljenner</td>\n",
       "      <td>3</td>\n",
       "      <td>247600000.0</td>\n",
       "      <td>3000000.0</td>\n",
       "      <td>4900000.0</td>\n",
       "      <td>0</td>\n",
       "      <td>0</td>\n",
       "      <td>0</td>\n",
       "      <td>0</td>\n",
       "      <td>0</td>\n",
       "      <td>...</td>\n",
       "      <td>0</td>\n",
       "      <td>0</td>\n",
       "      <td>0</td>\n",
       "      <td>0</td>\n",
       "      <td>0</td>\n",
       "      <td>0</td>\n",
       "      <td>0</td>\n",
       "      <td>0</td>\n",
       "      <td>0</td>\n",
       "      <td>1</td>\n",
       "    </tr>\n",
       "    <tr>\n",
       "      <th>3</th>\n",
       "      <td>arianagrande</td>\n",
       "      <td>4</td>\n",
       "      <td>321400000.0</td>\n",
       "      <td>2400000.0</td>\n",
       "      <td>3400000.0</td>\n",
       "      <td>0</td>\n",
       "      <td>0</td>\n",
       "      <td>0</td>\n",
       "      <td>0</td>\n",
       "      <td>0</td>\n",
       "      <td>...</td>\n",
       "      <td>0</td>\n",
       "      <td>0</td>\n",
       "      <td>0</td>\n",
       "      <td>0</td>\n",
       "      <td>0</td>\n",
       "      <td>0</td>\n",
       "      <td>0</td>\n",
       "      <td>0</td>\n",
       "      <td>0</td>\n",
       "      <td>1</td>\n",
       "    </tr>\n",
       "    <tr>\n",
       "      <th>4</th>\n",
       "      <td>zendaya</td>\n",
       "      <td>5</td>\n",
       "      <td>147000000.0</td>\n",
       "      <td>4300000.0</td>\n",
       "      <td>5800000.0</td>\n",
       "      <td>0</td>\n",
       "      <td>0</td>\n",
       "      <td>0</td>\n",
       "      <td>0</td>\n",
       "      <td>0</td>\n",
       "      <td>...</td>\n",
       "      <td>0</td>\n",
       "      <td>0</td>\n",
       "      <td>0</td>\n",
       "      <td>0</td>\n",
       "      <td>0</td>\n",
       "      <td>0</td>\n",
       "      <td>0</td>\n",
       "      <td>0</td>\n",
       "      <td>0</td>\n",
       "      <td>1</td>\n",
       "    </tr>\n",
       "  </tbody>\n",
       "</table>\n",
       "<p>5 rows × 191 columns</p>\n",
       "</div>"
      ],
      "text/plain": [
       "            Name  Rank    Followers  Authentic_Engagement  Engagement_Avg  \\\n",
       "0      cristiano     1  462900000.0             5500000.0       6600000.0   \n",
       "1       leomessi     2  347200000.0             3600000.0       4800000.0   \n",
       "2  kendalljenner     3  247600000.0             3000000.0       4900000.0   \n",
       "3   arianagrande     4  321400000.0             2400000.0       3400000.0   \n",
       "4        zendaya     5  147000000.0             4300000.0       5800000.0   \n",
       "\n",
       "   Category_Adult content  Category_Animals  Category_Art/Artists  \\\n",
       "0                       0                 0                     0   \n",
       "1                       0                 0                     0   \n",
       "2                       0                 0                     0   \n",
       "3                       0                 0                     0   \n",
       "4                       0                 0                     0   \n",
       "\n",
       "   Category_Art/ArtistsBeauty  Category_Art/ArtistsCinema & Actors/actresses  \\\n",
       "0                           0                                              0   \n",
       "1                           0                                              0   \n",
       "2                           0                                              0   \n",
       "3                           0                                              0   \n",
       "4                           0                                              0   \n",
       "\n",
       "   ...  Audience_Country_Russia  Audience_Country_Senegal  \\\n",
       "0  ...                        0                         0   \n",
       "1  ...                        0                         0   \n",
       "2  ...                        0                         0   \n",
       "3  ...                        0                         0   \n",
       "4  ...                        0                         0   \n",
       "\n",
       "   Audience_Country_South Korea  Audience_Country_Spain  \\\n",
       "0                             0                       0   \n",
       "1                             0                       0   \n",
       "2                             0                       0   \n",
       "3                             0                       0   \n",
       "4                             0                       0   \n",
       "\n",
       "   Audience_Country_Syria  Audience_Country_Thailand  Audience_Country_Turkey  \\\n",
       "0                       0                          0                        0   \n",
       "1                       0                          0                        0   \n",
       "2                       0                          0                        0   \n",
       "3                       0                          0                        0   \n",
       "4                       0                          0                        0   \n",
       "\n",
       "   Audience_Country_United Arab Emirates  Audience_Country_United Kingdom  \\\n",
       "0                                      0                                0   \n",
       "1                                      0                                0   \n",
       "2                                      0                                0   \n",
       "3                                      0                                0   \n",
       "4                                      0                                0   \n",
       "\n",
       "   Audience_Country_United States  \n",
       "0                               0  \n",
       "1                               0  \n",
       "2                               1  \n",
       "3                               1  \n",
       "4                               1  \n",
       "\n",
       "[5 rows x 191 columns]"
      ]
     },
     "execution_count": 6,
     "metadata": {},
     "output_type": "execute_result"
    }
   ],
   "source": [
    "df_dummy = pd.get_dummies(df,columns= ['Category','Audience_Country'])\n",
    "df_dummy.head()"
   ]
  },
  {
   "cell_type": "code",
   "execution_count": 7,
   "id": "4ce62d40",
   "metadata": {
    "execution": {
     "iopub.execute_input": "2022-12-05T04:28:41.429884Z",
     "iopub.status.busy": "2022-12-05T04:28:41.429567Z",
     "iopub.status.idle": "2022-12-05T04:28:41.978459Z",
     "shell.execute_reply": "2022-12-05T04:28:41.977526Z"
    },
    "papermill": {
     "duration": 0.563131,
     "end_time": "2022-12-05T04:28:41.980486",
     "exception": false,
     "start_time": "2022-12-05T04:28:41.417355",
     "status": "completed"
    },
    "tags": []
   },
   "outputs": [
    {
     "data": {
      "text/html": [
       "<table class=\"simpletable\">\n",
       "<caption>OLS Regression Results</caption>\n",
       "<tr>\n",
       "  <th>Dep. Variable:</th>        <td>Followers</td>    <th>  R-squared (uncentered):</th>      <td>   0.268</td> \n",
       "</tr>\n",
       "<tr>\n",
       "  <th>Model:</th>                   <td>OLS</td>       <th>  Adj. R-squared (uncentered):</th> <td>   0.264</td> \n",
       "</tr>\n",
       "<tr>\n",
       "  <th>Method:</th>             <td>Least Squares</td>  <th>  F-statistic:       </th>          <td>   72.79</td> \n",
       "</tr>\n",
       "<tr>\n",
       "  <th>Date:</th>             <td>Mon, 05 Dec 2022</td> <th>  Prob (F-statistic):</th>          <td>5.24e-65</td> \n",
       "</tr>\n",
       "<tr>\n",
       "  <th>Time:</th>                 <td>04:28:41</td>     <th>  Log-Likelihood:    </th>          <td> -19014.</td> \n",
       "</tr>\n",
       "<tr>\n",
       "  <th>No. Observations:</th>      <td>  1000</td>      <th>  AIC:               </th>          <td>3.804e+04</td>\n",
       "</tr>\n",
       "<tr>\n",
       "  <th>Df Residuals:</th>          <td>   995</td>      <th>  BIC:               </th>          <td>3.806e+04</td>\n",
       "</tr>\n",
       "<tr>\n",
       "  <th>Df Model:</th>              <td>     5</td>      <th>                     </th>              <td> </td>    \n",
       "</tr>\n",
       "<tr>\n",
       "  <th>Covariance Type:</th>      <td>nonrobust</td>    <th>                     </th>              <td> </td>    \n",
       "</tr>\n",
       "</table>\n",
       "<table class=\"simpletable\">\n",
       "<tr>\n",
       "                 <td></td>                   <th>coef</th>     <th>std err</th>      <th>t</th>      <th>P>|t|</th>  <th>[0.025</th>    <th>0.975]</th>  \n",
       "</tr>\n",
       "<tr>\n",
       "  <th>Rank</th>                           <td> 3217.3064</td> <td> 2793.779</td> <td>    1.152</td> <td> 0.250</td> <td>-2265.069</td> <td> 8699.682</td>\n",
       "</tr>\n",
       "<tr>\n",
       "  <th>Authentic_Engagement</th>           <td>  -13.8679</td> <td>    5.532</td> <td>   -2.507</td> <td> 0.012</td> <td>  -24.724</td> <td>   -3.012</td>\n",
       "</tr>\n",
       "<tr>\n",
       "  <th>Engagement_Avg</th>                 <td>   25.1721</td> <td>    4.803</td> <td>    5.241</td> <td> 0.000</td> <td>   15.747</td> <td>   34.597</td>\n",
       "</tr>\n",
       "<tr>\n",
       "  <th>Audience_Country_United States</th> <td> 1.657e+07</td> <td> 3.11e+06</td> <td>    5.326</td> <td> 0.000</td> <td> 1.05e+07</td> <td> 2.27e+07</td>\n",
       "</tr>\n",
       "<tr>\n",
       "  <th>Category_Music</th>                 <td> 1.165e+07</td> <td> 3.66e+06</td> <td>    3.185</td> <td> 0.001</td> <td> 4.47e+06</td> <td> 1.88e+07</td>\n",
       "</tr>\n",
       "</table>\n",
       "<table class=\"simpletable\">\n",
       "<tr>\n",
       "  <th>Omnibus:</th>       <td>1035.518</td> <th>  Durbin-Watson:     </th> <td>   1.392</td> \n",
       "</tr>\n",
       "<tr>\n",
       "  <th>Prob(Omnibus):</th>  <td> 0.000</td>  <th>  Jarque-Bera (JB):  </th> <td>63344.747</td>\n",
       "</tr>\n",
       "<tr>\n",
       "  <th>Skew:</th>           <td> 4.884</td>  <th>  Prob(JB):          </th> <td>    0.00</td> \n",
       "</tr>\n",
       "<tr>\n",
       "  <th>Kurtosis:</th>       <td>40.747</td>  <th>  Cond. No.          </th> <td>4.66e+06</td> \n",
       "</tr>\n",
       "</table><br/><br/>Notes:<br/>[1] R² is computed without centering (uncentered) since the model does not contain a constant.<br/>[2] Standard Errors assume that the covariance matrix of the errors is correctly specified.<br/>[3] The condition number is large, 4.66e+06. This might indicate that there are<br/>strong multicollinearity or other numerical problems."
      ],
      "text/plain": [
       "<class 'statsmodels.iolib.summary.Summary'>\n",
       "\"\"\"\n",
       "                                 OLS Regression Results                                \n",
       "=======================================================================================\n",
       "Dep. Variable:              Followers   R-squared (uncentered):                   0.268\n",
       "Model:                            OLS   Adj. R-squared (uncentered):              0.264\n",
       "Method:                 Least Squares   F-statistic:                              72.79\n",
       "Date:                Mon, 05 Dec 2022   Prob (F-statistic):                    5.24e-65\n",
       "Time:                        04:28:41   Log-Likelihood:                         -19014.\n",
       "No. Observations:                1000   AIC:                                  3.804e+04\n",
       "Df Residuals:                     995   BIC:                                  3.806e+04\n",
       "Df Model:                           5                                                  \n",
       "Covariance Type:            nonrobust                                                  \n",
       "==================================================================================================\n",
       "                                     coef    std err          t      P>|t|      [0.025      0.975]\n",
       "--------------------------------------------------------------------------------------------------\n",
       "Rank                            3217.3064   2793.779      1.152      0.250   -2265.069    8699.682\n",
       "Authentic_Engagement             -13.8679      5.532     -2.507      0.012     -24.724      -3.012\n",
       "Engagement_Avg                    25.1721      4.803      5.241      0.000      15.747      34.597\n",
       "Audience_Country_United States  1.657e+07   3.11e+06      5.326      0.000    1.05e+07    2.27e+07\n",
       "Category_Music                  1.165e+07   3.66e+06      3.185      0.001    4.47e+06    1.88e+07\n",
       "==============================================================================\n",
       "Omnibus:                     1035.518   Durbin-Watson:                   1.392\n",
       "Prob(Omnibus):                  0.000   Jarque-Bera (JB):            63344.747\n",
       "Skew:                           4.884   Prob(JB):                         0.00\n",
       "Kurtosis:                      40.747   Cond. No.                     4.66e+06\n",
       "==============================================================================\n",
       "\n",
       "Notes:\n",
       "[1] R² is computed without centering (uncentered) since the model does not contain a constant.\n",
       "[2] Standard Errors assume that the covariance matrix of the errors is correctly specified.\n",
       "[3] The condition number is large, 4.66e+06. This might indicate that there are\n",
       "strong multicollinearity or other numerical problems.\n",
       "\"\"\""
      ]
     },
     "execution_count": 7,
     "metadata": {},
     "output_type": "execute_result"
    }
   ],
   "source": [
    "#Using OLS for finding the p value to check the significant features\n",
    "import statsmodels.api as sm\n",
    "\n",
    "model = sm.OLS(df['Followers'], df_dummy[['Rank',\n",
    "       'Authentic_Engagement','Engagement_Avg','Audience_Country_United States','Category_Music']]).fit()\n",
    "\n",
    "# Print out the statistics\n",
    "model.summary()"
   ]
  },
  {
   "cell_type": "markdown",
   "id": "d1838e15",
   "metadata": {
    "papermill": {
     "duration": 0.010521,
     "end_time": "2022-12-05T04:28:42.001891",
     "exception": false,
     "start_time": "2022-12-05T04:28:41.991370",
     "status": "completed"
    },
    "tags": []
   },
   "source": [
    "## add new colum :Followers>100M"
   ]
  },
  {
   "cell_type": "code",
   "execution_count": 8,
   "id": "3367e03e",
   "metadata": {
    "execution": {
     "iopub.execute_input": "2022-12-05T04:28:42.025157Z",
     "iopub.status.busy": "2022-12-05T04:28:42.024364Z",
     "iopub.status.idle": "2022-12-05T04:28:42.031408Z",
     "shell.execute_reply": "2022-12-05T04:28:42.030600Z"
    },
    "papermill": {
     "duration": 0.020532,
     "end_time": "2022-12-05T04:28:42.033336",
     "exception": false,
     "start_time": "2022-12-05T04:28:42.012804",
     "status": "completed"
    },
    "tags": []
   },
   "outputs": [],
   "source": [
    "list_temp = []\n",
    "for label,content in df.items():\n",
    "    if(label !='Followers'): continue\n",
    "    for obj in content:\n",
    "        if(obj>100000000.0):\n",
    "            list_temp.append(1)\n",
    "        else:\n",
    "            list_temp.append(0)\n",
    "\n",
    "df = df.assign(FollowersBigger100M=list_temp)"
   ]
  },
  {
   "cell_type": "code",
   "execution_count": 9,
   "id": "5a758b96",
   "metadata": {
    "execution": {
     "iopub.execute_input": "2022-12-05T04:28:42.056779Z",
     "iopub.status.busy": "2022-12-05T04:28:42.055882Z",
     "iopub.status.idle": "2022-12-05T04:28:42.065994Z",
     "shell.execute_reply": "2022-12-05T04:28:42.065180Z"
    },
    "papermill": {
     "duration": 0.023687,
     "end_time": "2022-12-05T04:28:42.067922",
     "exception": false,
     "start_time": "2022-12-05T04:28:42.044235",
     "status": "completed"
    },
    "tags": []
   },
   "outputs": [],
   "source": [
    "df.eval('Authentic_Engagement =Authentic_Engagement/Followers',inplace= True) \n",
    "df.eval('Engagement_Avg =Engagement_Avg/Followers',inplace= True) "
   ]
  },
  {
   "cell_type": "code",
   "execution_count": 10,
   "id": "ef0ecd19",
   "metadata": {
    "execution": {
     "iopub.execute_input": "2022-12-05T04:28:42.090830Z",
     "iopub.status.busy": "2022-12-05T04:28:42.089975Z",
     "iopub.status.idle": "2022-12-05T04:28:42.102592Z",
     "shell.execute_reply": "2022-12-05T04:28:42.101635Z"
    },
    "papermill": {
     "duration": 0.026128,
     "end_time": "2022-12-05T04:28:42.104571",
     "exception": false,
     "start_time": "2022-12-05T04:28:42.078443",
     "status": "completed"
    },
    "tags": []
   },
   "outputs": [
    {
     "data": {
      "text/html": [
       "<div>\n",
       "<style scoped>\n",
       "    .dataframe tbody tr th:only-of-type {\n",
       "        vertical-align: middle;\n",
       "    }\n",
       "\n",
       "    .dataframe tbody tr th {\n",
       "        vertical-align: top;\n",
       "    }\n",
       "\n",
       "    .dataframe thead th {\n",
       "        text-align: right;\n",
       "    }\n",
       "</style>\n",
       "<table border=\"1\" class=\"dataframe\">\n",
       "  <thead>\n",
       "    <tr style=\"text-align: right;\">\n",
       "      <th></th>\n",
       "      <th>Name</th>\n",
       "      <th>Rank</th>\n",
       "      <th>Category</th>\n",
       "      <th>Followers</th>\n",
       "      <th>Audience_Country</th>\n",
       "      <th>Authentic_Engagement</th>\n",
       "      <th>Engagement_Avg</th>\n",
       "      <th>FollowersBigger100M</th>\n",
       "    </tr>\n",
       "  </thead>\n",
       "  <tbody>\n",
       "    <tr>\n",
       "      <th>0</th>\n",
       "      <td>cristiano</td>\n",
       "      <td>1</td>\n",
       "      <td>Sports with a ball</td>\n",
       "      <td>462900000.0</td>\n",
       "      <td>India</td>\n",
       "      <td>0.011882</td>\n",
       "      <td>0.014258</td>\n",
       "      <td>1</td>\n",
       "    </tr>\n",
       "    <tr>\n",
       "      <th>1</th>\n",
       "      <td>leomessi</td>\n",
       "      <td>2</td>\n",
       "      <td>Sports with a ballFamily</td>\n",
       "      <td>347200000.0</td>\n",
       "      <td>Argentina</td>\n",
       "      <td>0.010369</td>\n",
       "      <td>0.013825</td>\n",
       "      <td>1</td>\n",
       "    </tr>\n",
       "    <tr>\n",
       "      <th>2</th>\n",
       "      <td>kendalljenner</td>\n",
       "      <td>3</td>\n",
       "      <td>ModelingFashion</td>\n",
       "      <td>247600000.0</td>\n",
       "      <td>United States</td>\n",
       "      <td>0.012116</td>\n",
       "      <td>0.019790</td>\n",
       "      <td>1</td>\n",
       "    </tr>\n",
       "    <tr>\n",
       "      <th>3</th>\n",
       "      <td>arianagrande</td>\n",
       "      <td>4</td>\n",
       "      <td>Music</td>\n",
       "      <td>321400000.0</td>\n",
       "      <td>United States</td>\n",
       "      <td>0.007467</td>\n",
       "      <td>0.010579</td>\n",
       "      <td>1</td>\n",
       "    </tr>\n",
       "    <tr>\n",
       "      <th>4</th>\n",
       "      <td>zendaya</td>\n",
       "      <td>5</td>\n",
       "      <td>Cinema &amp; Actors/actressesFashion</td>\n",
       "      <td>147000000.0</td>\n",
       "      <td>United States</td>\n",
       "      <td>0.029252</td>\n",
       "      <td>0.039456</td>\n",
       "      <td>1</td>\n",
       "    </tr>\n",
       "  </tbody>\n",
       "</table>\n",
       "</div>"
      ],
      "text/plain": [
       "            Name  Rank                          Category    Followers  \\\n",
       "0      cristiano     1                Sports with a ball  462900000.0   \n",
       "1       leomessi     2          Sports with a ballFamily  347200000.0   \n",
       "2  kendalljenner     3                   ModelingFashion  247600000.0   \n",
       "3   arianagrande     4                             Music  321400000.0   \n",
       "4        zendaya     5  Cinema & Actors/actressesFashion  147000000.0   \n",
       "\n",
       "  Audience_Country  Authentic_Engagement  Engagement_Avg  FollowersBigger100M  \n",
       "0            India              0.011882        0.014258                    1  \n",
       "1        Argentina              0.010369        0.013825                    1  \n",
       "2    United States              0.012116        0.019790                    1  \n",
       "3    United States              0.007467        0.010579                    1  \n",
       "4    United States              0.029252        0.039456                    1  "
      ]
     },
     "execution_count": 10,
     "metadata": {},
     "output_type": "execute_result"
    }
   ],
   "source": [
    "df.head()"
   ]
  },
  {
   "cell_type": "code",
   "execution_count": 11,
   "id": "55cf515c",
   "metadata": {
    "execution": {
     "iopub.execute_input": "2022-12-05T04:28:42.128241Z",
     "iopub.status.busy": "2022-12-05T04:28:42.127736Z",
     "iopub.status.idle": "2022-12-05T04:28:47.147172Z",
     "shell.execute_reply": "2022-12-05T04:28:47.146219Z"
    },
    "papermill": {
     "duration": 5.035228,
     "end_time": "2022-12-05T04:28:47.151150",
     "exception": false,
     "start_time": "2022-12-05T04:28:42.115922",
     "status": "completed"
    },
    "tags": []
   },
   "outputs": [
    {
     "data": {
      "text/plain": [
       "<seaborn.axisgrid.PairGrid at 0x7f2eabdb6850>"
      ]
     },
     "execution_count": 11,
     "metadata": {},
     "output_type": "execute_result"
    },
    {
     "data": {
      "image/png": "[encoded data removed]",
      "text/plain": [
       "<Figure size 900x900 with 30 Axes>"
      ]
     },
     "metadata": {
      "needs_background": "light"
     },
     "output_type": "display_data"
    }
   ],
   "source": [
    "#pair plot to check the colinearity\n",
    "sns.pairplot(df) "
   ]
  },
  {
   "cell_type": "markdown",
   "id": "f9a08457",
   "metadata": {
    "papermill": {
     "duration": 0.012934,
     "end_time": "2022-12-05T04:28:47.177706",
     "exception": false,
     "start_time": "2022-12-05T04:28:47.164772",
     "status": "completed"
    },
    "tags": []
   },
   "source": [
    "From the pair plot and heat map, we can see that Authentic_Engagement and Engagement_Avg are corelated each other. "
   ]
  },
  {
   "cell_type": "code",
   "execution_count": 12,
   "id": "8d7d8c52",
   "metadata": {
    "execution": {
     "iopub.execute_input": "2022-12-05T04:28:47.204846Z",
     "iopub.status.busy": "2022-12-05T04:28:47.204518Z",
     "iopub.status.idle": "2022-12-05T04:28:47.228173Z",
     "shell.execute_reply": "2022-12-05T04:28:47.226861Z"
    },
    "papermill": {
     "duration": 0.040192,
     "end_time": "2022-12-05T04:28:47.230893",
     "exception": false,
     "start_time": "2022-12-05T04:28:47.190701",
     "status": "completed"
    },
    "tags": []
   },
   "outputs": [
    {
     "data": {
      "text/html": [
       "<div>\n",
       "<style scoped>\n",
       "    .dataframe tbody tr th:only-of-type {\n",
       "        vertical-align: middle;\n",
       "    }\n",
       "\n",
       "    .dataframe tbody tr th {\n",
       "        vertical-align: top;\n",
       "    }\n",
       "\n",
       "    .dataframe thead th {\n",
       "        text-align: right;\n",
       "    }\n",
       "</style>\n",
       "<table border=\"1\" class=\"dataframe\">\n",
       "  <thead>\n",
       "    <tr style=\"text-align: right;\">\n",
       "      <th></th>\n",
       "      <th>Name</th>\n",
       "      <th>Rank</th>\n",
       "      <th>Followers</th>\n",
       "      <th>Authentic_Engagement</th>\n",
       "      <th>Engagement_Avg</th>\n",
       "      <th>FollowersBigger100M</th>\n",
       "      <th>Category_Adult content</th>\n",
       "      <th>Category_Animals</th>\n",
       "      <th>Category_Art/Artists</th>\n",
       "      <th>Category_Art/ArtistsBeauty</th>\n",
       "      <th>...</th>\n",
       "      <th>Audience_Country_Russia</th>\n",
       "      <th>Audience_Country_Senegal</th>\n",
       "      <th>Audience_Country_South Korea</th>\n",
       "      <th>Audience_Country_Spain</th>\n",
       "      <th>Audience_Country_Syria</th>\n",
       "      <th>Audience_Country_Thailand</th>\n",
       "      <th>Audience_Country_Turkey</th>\n",
       "      <th>Audience_Country_United Arab Emirates</th>\n",
       "      <th>Audience_Country_United Kingdom</th>\n",
       "      <th>Audience_Country_United States</th>\n",
       "    </tr>\n",
       "  </thead>\n",
       "  <tbody>\n",
       "    <tr>\n",
       "      <th>0</th>\n",
       "      <td>cristiano</td>\n",
       "      <td>1</td>\n",
       "      <td>462900000.0</td>\n",
       "      <td>0.011882</td>\n",
       "      <td>0.014258</td>\n",
       "      <td>1</td>\n",
       "      <td>0</td>\n",
       "      <td>0</td>\n",
       "      <td>0</td>\n",
       "      <td>0</td>\n",
       "      <td>...</td>\n",
       "      <td>0</td>\n",
       "      <td>0</td>\n",
       "      <td>0</td>\n",
       "      <td>0</td>\n",
       "      <td>0</td>\n",
       "      <td>0</td>\n",
       "      <td>0</td>\n",
       "      <td>0</td>\n",
       "      <td>0</td>\n",
       "      <td>0</td>\n",
       "    </tr>\n",
       "    <tr>\n",
       "      <th>1</th>\n",
       "      <td>leomessi</td>\n",
       "      <td>2</td>\n",
       "      <td>347200000.0</td>\n",
       "      <td>0.010369</td>\n",
       "      <td>0.013825</td>\n",
       "      <td>1</td>\n",
       "      <td>0</td>\n",
       "      <td>0</td>\n",
       "      <td>0</td>\n",
       "      <td>0</td>\n",
       "      <td>...</td>\n",
       "      <td>0</td>\n",
       "      <td>0</td>\n",
       "      <td>0</td>\n",
       "      <td>0</td>\n",
       "      <td>0</td>\n",
       "      <td>0</td>\n",
       "      <td>0</td>\n",
       "      <td>0</td>\n",
       "      <td>0</td>\n",
       "      <td>0</td>\n",
       "    </tr>\n",
       "    <tr>\n",
       "      <th>2</th>\n",
       "      <td>kendalljenner</td>\n",
       "      <td>3</td>\n",
       "      <td>247600000.0</td>\n",
       "      <td>0.012116</td>\n",
       "      <td>0.019790</td>\n",
       "      <td>1</td>\n",
       "      <td>0</td>\n",
       "      <td>0</td>\n",
       "      <td>0</td>\n",
       "      <td>0</td>\n",
       "      <td>...</td>\n",
       "      <td>0</td>\n",
       "      <td>0</td>\n",
       "      <td>0</td>\n",
       "      <td>0</td>\n",
       "      <td>0</td>\n",
       "      <td>0</td>\n",
       "      <td>0</td>\n",
       "      <td>0</td>\n",
       "      <td>0</td>\n",
       "      <td>1</td>\n",
       "    </tr>\n",
       "    <tr>\n",
       "      <th>3</th>\n",
       "      <td>arianagrande</td>\n",
       "      <td>4</td>\n",
       "      <td>321400000.0</td>\n",
       "      <td>0.007467</td>\n",
       "      <td>0.010579</td>\n",
       "      <td>1</td>\n",
       "      <td>0</td>\n",
       "      <td>0</td>\n",
       "      <td>0</td>\n",
       "      <td>0</td>\n",
       "      <td>...</td>\n",
       "      <td>0</td>\n",
       "      <td>0</td>\n",
       "      <td>0</td>\n",
       "      <td>0</td>\n",
       "      <td>0</td>\n",
       "      <td>0</td>\n",
       "      <td>0</td>\n",
       "      <td>0</td>\n",
       "      <td>0</td>\n",
       "      <td>1</td>\n",
       "    </tr>\n",
       "    <tr>\n",
       "      <th>4</th>\n",
       "      <td>zendaya</td>\n",
       "      <td>5</td>\n",
       "      <td>147000000.0</td>\n",
       "      <td>0.029252</td>\n",
       "      <td>0.039456</td>\n",
       "      <td>1</td>\n",
       "      <td>0</td>\n",
       "      <td>0</td>\n",
       "      <td>0</td>\n",
       "      <td>0</td>\n",
       "      <td>...</td>\n",
       "      <td>0</td>\n",
       "      <td>0</td>\n",
       "      <td>0</td>\n",
       "      <td>0</td>\n",
       "      <td>0</td>\n",
       "      <td>0</td>\n",
       "      <td>0</td>\n",
       "      <td>0</td>\n",
       "      <td>0</td>\n",
       "      <td>1</td>\n",
       "    </tr>\n",
       "  </tbody>\n",
       "</table>\n",
       "<p>5 rows × 192 columns</p>\n",
       "</div>"
      ],
      "text/plain": [
       "            Name  Rank    Followers  Authentic_Engagement  Engagement_Avg  \\\n",
       "0      cristiano     1  462900000.0              0.011882        0.014258   \n",
       "1       leomessi     2  347200000.0              0.010369        0.013825   \n",
       "2  kendalljenner     3  247600000.0              0.012116        0.019790   \n",
       "3   arianagrande     4  321400000.0              0.007467        0.010579   \n",
       "4        zendaya     5  147000000.0              0.029252        0.039456   \n",
       "\n",
       "   FollowersBigger100M  Category_Adult content  Category_Animals  \\\n",
       "0                    1                       0                 0   \n",
       "1                    1                       0                 0   \n",
       "2                    1                       0                 0   \n",
       "3                    1                       0                 0   \n",
       "4                    1                       0                 0   \n",
       "\n",
       "   Category_Art/Artists  Category_Art/ArtistsBeauty  ...  \\\n",
       "0                     0                           0  ...   \n",
       "1                     0                           0  ...   \n",
       "2                     0                           0  ...   \n",
       "3                     0                           0  ...   \n",
       "4                     0                           0  ...   \n",
       "\n",
       "   Audience_Country_Russia  Audience_Country_Senegal  \\\n",
       "0                        0                         0   \n",
       "1                        0                         0   \n",
       "2                        0                         0   \n",
       "3                        0                         0   \n",
       "4                        0                         0   \n",
       "\n",
       "   Audience_Country_South Korea  Audience_Country_Spain  \\\n",
       "0                             0                       0   \n",
       "1                             0                       0   \n",
       "2                             0                       0   \n",
       "3                             0                       0   \n",
       "4                             0                       0   \n",
       "\n",
       "   Audience_Country_Syria  Audience_Country_Thailand  Audience_Country_Turkey  \\\n",
       "0                       0                          0                        0   \n",
       "1                       0                          0                        0   \n",
       "2                       0                          0                        0   \n",
       "3                       0                          0                        0   \n",
       "4                       0                          0                        0   \n",
       "\n",
       "   Audience_Country_United Arab Emirates  Audience_Country_United Kingdom  \\\n",
       "0                                      0                                0   \n",
       "1                                      0                                0   \n",
       "2                                      0                                0   \n",
       "3                                      0                                0   \n",
       "4                                      0                                0   \n",
       "\n",
       "   Audience_Country_United States  \n",
       "0                               0  \n",
       "1                               0  \n",
       "2                               1  \n",
       "3                               1  \n",
       "4                               1  \n",
       "\n",
       "[5 rows x 192 columns]"
      ]
     },
     "execution_count": 12,
     "metadata": {},
     "output_type": "execute_result"
    }
   ],
   "source": [
    "df_dummy = pd.get_dummies(df,columns= ['Category','Audience_Country'])\n",
    "df_dummy.head()"
   ]
  },
  {
   "cell_type": "markdown",
   "id": "3a90f0e6",
   "metadata": {
    "papermill": {
     "duration": 0.012852,
     "end_time": "2022-12-05T04:28:47.257329",
     "exception": false,
     "start_time": "2022-12-05T04:28:47.244477",
     "status": "completed"
    },
    "tags": []
   },
   "source": [
    "## 1.Linear Regression"
   ]
  },
  {
   "cell_type": "code",
   "execution_count": 13,
   "id": "6c372441",
   "metadata": {
    "execution": {
     "iopub.execute_input": "2022-12-05T04:28:47.285386Z",
     "iopub.status.busy": "2022-12-05T04:28:47.284529Z",
     "iopub.status.idle": "2022-12-05T04:28:47.303937Z",
     "shell.execute_reply": "2022-12-05T04:28:47.302944Z"
    },
    "papermill": {
     "duration": 0.035683,
     "end_time": "2022-12-05T04:28:47.306068",
     "exception": false,
     "start_time": "2022-12-05T04:28:47.270385",
     "status": "completed"
    },
    "tags": []
   },
   "outputs": [
    {
     "data": {
      "text/html": [
       "<table class=\"simpletable\">\n",
       "<caption>OLS Regression Results</caption>\n",
       "<tr>\n",
       "  <th>Dep. Variable:</th>        <td>Followers</td>    <th>  R-squared (uncentered):</th>      <td>   0.159</td> \n",
       "</tr>\n",
       "<tr>\n",
       "  <th>Model:</th>                   <td>OLS</td>       <th>  Adj. R-squared (uncentered):</th> <td>   0.155</td> \n",
       "</tr>\n",
       "<tr>\n",
       "  <th>Method:</th>             <td>Least Squares</td>  <th>  F-statistic:       </th>          <td>   37.71</td> \n",
       "</tr>\n",
       "<tr>\n",
       "  <th>Date:</th>             <td>Mon, 05 Dec 2022</td> <th>  Prob (F-statistic):</th>          <td>1.74e-35</td> \n",
       "</tr>\n",
       "<tr>\n",
       "  <th>Time:</th>                 <td>04:28:47</td>     <th>  Log-Likelihood:    </th>          <td> -19083.</td> \n",
       "</tr>\n",
       "<tr>\n",
       "  <th>No. Observations:</th>      <td>  1000</td>      <th>  AIC:               </th>          <td>3.818e+04</td>\n",
       "</tr>\n",
       "<tr>\n",
       "  <th>Df Residuals:</th>          <td>   995</td>      <th>  BIC:               </th>          <td>3.820e+04</td>\n",
       "</tr>\n",
       "<tr>\n",
       "  <th>Df Model:</th>              <td>     5</td>      <th>                     </th>              <td> </td>    \n",
       "</tr>\n",
       "<tr>\n",
       "  <th>Covariance Type:</th>      <td>nonrobust</td>    <th>                     </th>              <td> </td>    \n",
       "</tr>\n",
       "</table>\n",
       "<table class=\"simpletable\">\n",
       "<tr>\n",
       "                 <td></td>                   <th>coef</th>     <th>std err</th>      <th>t</th>      <th>P>|t|</th>  <th>[0.025</th>    <th>0.975]</th>  \n",
       "</tr>\n",
       "<tr>\n",
       "  <th>Rank</th>                           <td> 7767.3990</td> <td> 3279.332</td> <td>    2.369</td> <td> 0.018</td> <td> 1332.198</td> <td> 1.42e+04</td>\n",
       "</tr>\n",
       "<tr>\n",
       "  <th>Authentic_Engagement</th>           <td> 8.846e+07</td> <td> 4.72e+07</td> <td>    1.876</td> <td> 0.061</td> <td>-4.06e+06</td> <td> 1.81e+08</td>\n",
       "</tr>\n",
       "<tr>\n",
       "  <th>Engagement_Avg</th>                 <td>-5.814e+07</td> <td> 3.07e+07</td> <td>   -1.892</td> <td> 0.059</td> <td>-1.18e+08</td> <td> 2.15e+06</td>\n",
       "</tr>\n",
       "<tr>\n",
       "  <th>Audience_Country_United States</th> <td>  2.66e+07</td> <td> 3.22e+06</td> <td>    8.259</td> <td> 0.000</td> <td> 2.03e+07</td> <td> 3.29e+07</td>\n",
       "</tr>\n",
       "<tr>\n",
       "  <th>Category_Music</th>                 <td> 2.026e+07</td> <td> 3.85e+06</td> <td>    5.256</td> <td> 0.000</td> <td> 1.27e+07</td> <td> 2.78e+07</td>\n",
       "</tr>\n",
       "</table>\n",
       "<table class=\"simpletable\">\n",
       "<tr>\n",
       "  <th>Omnibus:</th>       <td>1080.235</td> <th>  Durbin-Watson:     </th> <td>   0.917</td> \n",
       "</tr>\n",
       "<tr>\n",
       "  <th>Prob(Omnibus):</th>  <td> 0.000</td>  <th>  Jarque-Bera (JB):  </th> <td>70658.553</td>\n",
       "</tr>\n",
       "<tr>\n",
       "  <th>Skew:</th>           <td> 5.232</td>  <th>  Prob(JB):          </th> <td>    0.00</td> \n",
       "</tr>\n",
       "<tr>\n",
       "  <th>Kurtosis:</th>       <td>42.829</td>  <th>  Cond. No.          </th> <td>2.11e+04</td> \n",
       "</tr>\n",
       "</table><br/><br/>Notes:<br/>[1] R² is computed without centering (uncentered) since the model does not contain a constant.<br/>[2] Standard Errors assume that the covariance matrix of the errors is correctly specified.<br/>[3] The condition number is large, 2.11e+04. This might indicate that there are<br/>strong multicollinearity or other numerical problems."
      ],
      "text/plain": [
       "<class 'statsmodels.iolib.summary.Summary'>\n",
       "\"\"\"\n",
       "                                 OLS Regression Results                                \n",
       "=======================================================================================\n",
       "Dep. Variable:              Followers   R-squared (uncentered):                   0.159\n",
       "Model:                            OLS   Adj. R-squared (uncentered):              0.155\n",
       "Method:                 Least Squares   F-statistic:                              37.71\n",
       "Date:                Mon, 05 Dec 2022   Prob (F-statistic):                    1.74e-35\n",
       "Time:                        04:28:47   Log-Likelihood:                         -19083.\n",
       "No. Observations:                1000   AIC:                                  3.818e+04\n",
       "Df Residuals:                     995   BIC:                                  3.820e+04\n",
       "Df Model:                           5                                                  \n",
       "Covariance Type:            nonrobust                                                  \n",
       "==================================================================================================\n",
       "                                     coef    std err          t      P>|t|      [0.025      0.975]\n",
       "--------------------------------------------------------------------------------------------------\n",
       "Rank                            7767.3990   3279.332      2.369      0.018    1332.198    1.42e+04\n",
       "Authentic_Engagement            8.846e+07   4.72e+07      1.876      0.061   -4.06e+06    1.81e+08\n",
       "Engagement_Avg                 -5.814e+07   3.07e+07     -1.892      0.059   -1.18e+08    2.15e+06\n",
       "Audience_Country_United States   2.66e+07   3.22e+06      8.259      0.000    2.03e+07    3.29e+07\n",
       "Category_Music                  2.026e+07   3.85e+06      5.256      0.000    1.27e+07    2.78e+07\n",
       "==============================================================================\n",
       "Omnibus:                     1080.235   Durbin-Watson:                   0.917\n",
       "Prob(Omnibus):                  0.000   Jarque-Bera (JB):            70658.553\n",
       "Skew:                           5.232   Prob(JB):                         0.00\n",
       "Kurtosis:                      42.829   Cond. No.                     2.11e+04\n",
       "==============================================================================\n",
       "\n",
       "Notes:\n",
       "[1] R² is computed without centering (uncentered) since the model does not contain a constant.\n",
       "[2] Standard Errors assume that the covariance matrix of the errors is correctly specified.\n",
       "[3] The condition number is large, 2.11e+04. This might indicate that there are\n",
       "strong multicollinearity or other numerical problems.\n",
       "\"\"\""
      ]
     },
     "execution_count": 13,
     "metadata": {},
     "output_type": "execute_result"
    }
   ],
   "source": [
    "#Using OLS for finding the p value to check the significant features\n",
    "import statsmodels.api as sm\n",
    "\n",
    "model = sm.OLS(df['Followers'], df_dummy[['Rank',\n",
    "       'Authentic_Engagement','Engagement_Avg','Audience_Country_United States','Category_Music']]).fit()\n",
    "\n",
    "# Print out the statistics\n",
    "model.summary()"
   ]
  },
  {
   "cell_type": "markdown",
   "id": "36124048",
   "metadata": {
    "papermill": {
     "duration": 0.013146,
     "end_time": "2022-12-05T04:28:47.332450",
     "exception": false,
     "start_time": "2022-12-05T04:28:47.319304",
     "status": "completed"
    },
    "tags": []
   },
   "source": [
    "## regression coefficients Interpretation"
   ]
  },
  {
   "cell_type": "markdown",
   "id": "b12810fb",
   "metadata": {
    "papermill": {
     "duration": 0.013121,
     "end_time": "2022-12-05T04:28:47.358773",
     "exception": false,
     "start_time": "2022-12-05T04:28:47.345652",
     "status": "completed"
    },
    "tags": []
   },
   "source": [
    "from the OLS Regression Results, we know that the value of **Rank**,**Authentic_Engagement,Audience_Country_United States, and Category_Music** increase, then mean of the dependent variable also tends to increase. the value of **Engagement_Avg** decrease, then mean of the dependent variable also tends to decrease."
   ]
  },
  {
   "cell_type": "markdown",
   "id": "20b7e875",
   "metadata": {
    "papermill": {
     "duration": 0.013004,
     "end_time": "2022-12-05T04:28:47.385217",
     "exception": false,
     "start_time": "2022-12-05T04:28:47.372213",
     "status": "completed"
    },
    "tags": []
   },
   "source": [
    "# 2.Random Forest"
   ]
  },
  {
   "cell_type": "markdown",
   "id": "bf4ba06f",
   "metadata": {
    "papermill": {
     "duration": 0.013028,
     "end_time": "2022-12-05T04:28:47.411508",
     "exception": false,
     "start_time": "2022-12-05T04:28:47.398480",
     "status": "completed"
    },
    "tags": []
   },
   "source": [
    "## data preparation"
   ]
  },
  {
   "cell_type": "code",
   "execution_count": 14,
   "id": "98c1e20f",
   "metadata": {
    "execution": {
     "iopub.execute_input": "2022-12-05T04:28:47.439615Z",
     "iopub.status.busy": "2022-12-05T04:28:47.438899Z",
     "iopub.status.idle": "2022-12-05T04:28:47.452083Z",
     "shell.execute_reply": "2022-12-05T04:28:47.451247Z"
    },
    "papermill": {
     "duration": 0.029138,
     "end_time": "2022-12-05T04:28:47.453960",
     "exception": false,
     "start_time": "2022-12-05T04:28:47.424822",
     "status": "completed"
    },
    "tags": []
   },
   "outputs": [],
   "source": [
    "# Use numpy to convert to arrays\n",
    "import numpy as np\n",
    "df_dummy_4automl= df_dummy.copy()\n",
    "# Y are the values we want to predict\n",
    "Y = np.array(df_dummy['Followers'])\n",
    "\n",
    "# Remove the labels from the features\n",
    "# axis 1 refers to the columns\n",
    "df_dummy= df_dummy.drop('Followers', axis = 1)\n",
    "df_dummy= df_dummy.drop('Name', axis = 1)\n",
    "df_dummy= df_dummy.drop('FollowersBigger100M', axis = 1)\n",
    "df_dummy= df_dummy.drop('Rank', axis = 1)\n",
    "df_dummy= df_dummy.drop('Engagement_Avg', axis = 1)\n",
    "# Saving feature names for later use\n",
    "df_dummy_list = list(df_dummy.columns)\n",
    "\n",
    "# Convert to numpy array\n",
    "df_dummy = np.array(df_dummy)"
   ]
  },
  {
   "cell_type": "markdown",
   "id": "bd930f9c",
   "metadata": {
    "papermill": {
     "duration": 0.013344,
     "end_time": "2022-12-05T04:28:47.480683",
     "exception": false,
     "start_time": "2022-12-05T04:28:47.467339",
     "status": "completed"
    },
    "tags": []
   },
   "source": [
    "## partition data"
   ]
  },
  {
   "cell_type": "code",
   "execution_count": 15,
   "id": "7ec765e1",
   "metadata": {
    "execution": {
     "iopub.execute_input": "2022-12-05T04:28:47.509276Z",
     "iopub.status.busy": "2022-12-05T04:28:47.508364Z",
     "iopub.status.idle": "2022-12-05T04:28:47.607175Z",
     "shell.execute_reply": "2022-12-05T04:28:47.606310Z"
    },
    "papermill": {
     "duration": 0.115183,
     "end_time": "2022-12-05T04:28:47.609292",
     "exception": false,
     "start_time": "2022-12-05T04:28:47.494109",
     "status": "completed"
    },
    "tags": []
   },
   "outputs": [],
   "source": [
    "# Using Skicit-learn to split data into training and testing sets\n",
    "from sklearn.model_selection import train_test_split\n",
    "\n",
    "# Split the data into training and testing sets\n",
    "train_df, test_df, train_y, test_y = train_test_split(df_dummy, Y, test_size = 0.25,\n",
    "                                                                           random_state = 42)"
   ]
  },
  {
   "cell_type": "code",
   "execution_count": 16,
   "id": "0bba8599",
   "metadata": {
    "execution": {
     "iopub.execute_input": "2022-12-05T04:28:47.637873Z",
     "iopub.status.busy": "2022-12-05T04:28:47.636988Z",
     "iopub.status.idle": "2022-12-05T04:28:47.643129Z",
     "shell.execute_reply": "2022-12-05T04:28:47.641958Z"
    },
    "papermill": {
     "duration": 0.02275,
     "end_time": "2022-12-05T04:28:47.645598",
     "exception": false,
     "start_time": "2022-12-05T04:28:47.622848",
     "status": "completed"
    },
    "tags": []
   },
   "outputs": [
    {
     "name": "stdout",
     "output_type": "stream",
     "text": [
      "Training Features Shape: (750, 187)\n",
      "Training Y Shape: (750,)\n",
      "Testing Features Shape: (250, 187)\n",
      "Testing Y Shape: (250,)\n"
     ]
    }
   ],
   "source": [
    "print('Training Features Shape:', train_df.shape)\n",
    "print('Training Y Shape:', train_y.shape)\n",
    "print('Testing Features Shape:', test_df.shape)\n",
    "print('Testing Y Shape:', test_y.shape)"
   ]
  },
  {
   "cell_type": "markdown",
   "id": "9ee152c0",
   "metadata": {
    "papermill": {
     "duration": 0.013088,
     "end_time": "2022-12-05T04:28:47.672830",
     "exception": false,
     "start_time": "2022-12-05T04:28:47.659742",
     "status": "completed"
    },
    "tags": []
   },
   "source": [
    "## fit model"
   ]
  },
  {
   "cell_type": "code",
   "execution_count": 17,
   "id": "42622979",
   "metadata": {
    "execution": {
     "iopub.execute_input": "2022-12-05T04:28:47.700818Z",
     "iopub.status.busy": "2022-12-05T04:28:47.700524Z",
     "iopub.status.idle": "2022-12-05T04:28:48.458960Z",
     "shell.execute_reply": "2022-12-05T04:28:48.458032Z"
    },
    "papermill": {
     "duration": 0.775291,
     "end_time": "2022-12-05T04:28:48.461396",
     "exception": false,
     "start_time": "2022-12-05T04:28:47.686105",
     "status": "completed"
    },
    "tags": []
   },
   "outputs": [
    {
     "name": "stderr",
     "output_type": "stream",
     "text": [
      "/opt/conda/lib/python3.7/site-packages/sklearn/ensemble/_forest.py:400: FutureWarning: Criterion 'mse' was deprecated in v1.0 and will be removed in version 1.2. Use `criterion='squared_error'` which is equivalent.\n",
      "  FutureWarning,\n"
     ]
    }
   ],
   "source": [
    "# Import the model we are using\n",
    "from sklearn.ensemble import RandomForestRegressor\n",
    "\n",
    "# Instantiate model \n",
    "rf  = RandomForestRegressor(n_estimators = 100, criterion = 'mse', max_depth = None, \n",
    "                               min_samples_split = 2, min_samples_leaf = 1)\n",
    "# Train the model on training data\n",
    "rf.fit(train_df, train_y);"
   ]
  },
  {
   "cell_type": "markdown",
   "id": "02317492",
   "metadata": {
    "papermill": {
     "duration": 0.013558,
     "end_time": "2022-12-05T04:28:48.488958",
     "exception": false,
     "start_time": "2022-12-05T04:28:48.475400",
     "status": "completed"
    },
    "tags": []
   },
   "source": [
    "## Make Predictions on Test Data"
   ]
  },
  {
   "cell_type": "code",
   "execution_count": 18,
   "id": "a54be8e3",
   "metadata": {
    "execution": {
     "iopub.execute_input": "2022-12-05T04:28:48.518147Z",
     "iopub.status.busy": "2022-12-05T04:28:48.517294Z",
     "iopub.status.idle": "2022-12-05T04:28:48.538964Z",
     "shell.execute_reply": "2022-12-05T04:28:48.537878Z"
    },
    "papermill": {
     "duration": 0.038758,
     "end_time": "2022-12-05T04:28:48.541273",
     "exception": false,
     "start_time": "2022-12-05T04:28:48.502515",
     "status": "completed"
    },
    "tags": []
   },
   "outputs": [
    {
     "name": "stdout",
     "output_type": "stream",
     "text": [
      "Mean Absolute Error: 15403312.05 degrees.\n"
     ]
    }
   ],
   "source": [
    "# Use the forest's predict method on the test data\n",
    "predictions = rf.predict(test_df)\n",
    "\n",
    "# Calculate the absolute errors\n",
    "errors = abs(predictions - test_y)\n",
    "\n",
    "# Print out the mean absolute error (mae)\n",
    "print('Mean Absolute Error:', round(np.mean(errors), 2), 'degrees.')"
   ]
  },
  {
   "cell_type": "code",
   "execution_count": 19,
   "id": "385ed25c",
   "metadata": {
    "execution": {
     "iopub.execute_input": "2022-12-05T04:28:48.572107Z",
     "iopub.status.busy": "2022-12-05T04:28:48.571191Z",
     "iopub.status.idle": "2022-12-05T04:28:48.578020Z",
     "shell.execute_reply": "2022-12-05T04:28:48.576607Z"
    },
    "papermill": {
     "duration": 0.024256,
     "end_time": "2022-12-05T04:28:48.580275",
     "exception": false,
     "start_time": "2022-12-05T04:28:48.556019",
     "status": "completed"
    },
    "tags": []
   },
   "outputs": [
    {
     "name": "stdout",
     "output_type": "stream",
     "text": [
      "Accuracy: 33.87 %.\n"
     ]
    }
   ],
   "source": [
    "# Calculate mean absolute percentage error (MAPE)\n",
    "mape = 100 * (errors / test_y)\n",
    "\n",
    "# Calculate and display accuracy\n",
    "accuracy = 100 - np.mean(mape)\n",
    "print('Accuracy:', round(accuracy, 2), '%.')"
   ]
  },
  {
   "cell_type": "code",
   "execution_count": 20,
   "id": "8ef0c8cf",
   "metadata": {
    "execution": {
     "iopub.execute_input": "2022-12-05T04:28:48.611370Z",
     "iopub.status.busy": "2022-12-05T04:28:48.610503Z",
     "iopub.status.idle": "2022-12-05T04:29:02.154542Z",
     "shell.execute_reply": "2022-12-05T04:29:02.153216Z"
    },
    "papermill": {
     "duration": 13.561919,
     "end_time": "2022-12-05T04:29:02.157466",
     "exception": false,
     "start_time": "2022-12-05T04:28:48.595547",
     "status": "completed"
    },
    "tags": []
   },
   "outputs": [],
   "source": [
    "# Import tools needed for visualization\n",
    "from sklearn.tree import export_graphviz\n",
    "import pydot\n",
    "\n",
    "# Pull out one tree from the forest\n",
    "tree = rf.estimators_[5]\n",
    "\n",
    "# Export the image to a dot file\n",
    "export_graphviz(tree, out_file = 'tree.dot', feature_names = df_dummy_list, rounded = True, precision = 1)\n",
    "\n",
    "# Use dot file to create a graph\n",
    "(graph, ) = pydot.graph_from_dot_file('tree.dot')\n",
    "\n",
    "# Write graph to a png file\n",
    "graph.write_png('tree.png'); "
   ]
  },
  {
   "cell_type": "code",
   "execution_count": 21,
   "id": "9c16c220",
   "metadata": {
    "execution": {
     "iopub.execute_input": "2022-12-05T04:29:02.186807Z",
     "iopub.status.busy": "2022-12-05T04:29:02.186452Z",
     "iopub.status.idle": "2022-12-05T04:29:02.192194Z",
     "shell.execute_reply": "2022-12-05T04:29:02.191258Z"
    },
    "papermill": {
     "duration": 0.023363,
     "end_time": "2022-12-05T04:29:02.194912",
     "exception": false,
     "start_time": "2022-12-05T04:29:02.171549",
     "status": "completed"
    },
    "tags": []
   },
   "outputs": [
    {
     "name": "stdout",
     "output_type": "stream",
     "text": [
      "The depth of this tree is: 39\n"
     ]
    }
   ],
   "source": [
    "print('The depth of this tree is:', tree.tree_.max_depth)"
   ]
  },
  {
   "cell_type": "code",
   "execution_count": 22,
   "id": "198bbab1",
   "metadata": {
    "execution": {
     "iopub.execute_input": "2022-12-05T04:29:02.224889Z",
     "iopub.status.busy": "2022-12-05T04:29:02.224037Z",
     "iopub.status.idle": "2022-12-05T04:29:02.441014Z",
     "shell.execute_reply": "2022-12-05T04:29:02.439591Z"
    },
    "papermill": {
     "duration": 0.234318,
     "end_time": "2022-12-05T04:29:02.443669",
     "exception": false,
     "start_time": "2022-12-05T04:29:02.209351",
     "status": "completed"
    },
    "tags": []
   },
   "outputs": [],
   "source": [
    "# Limit depth of tree to 2 levels\n",
    "rf_small = RandomForestRegressor(n_estimators=10, max_depth = 3, random_state=42)\n",
    "rf_small.fit(train_df, train_y)\n",
    "\n",
    "# Extract the small tree\n",
    "tree_small = rf_small.estimators_[5]\n",
    "\n",
    "# Save the tree as a png image\n",
    "export_graphviz(tree_small, out_file = 'small_tree.dot', feature_names = df_dummy_list, rounded = True, precision = 1)\n",
    "\n",
    "(graph, ) = pydot.graph_from_dot_file('small_tree.dot')\n",
    "\n",
    "graph.write_png('small_tree.png');\n"
   ]
  },
  {
   "cell_type": "markdown",
   "id": "cf5f9f51",
   "metadata": {
    "papermill": {
     "duration": 0.013837,
     "end_time": "2022-12-05T04:29:02.471724",
     "exception": false,
     "start_time": "2022-12-05T04:29:02.457887",
     "status": "completed"
    },
    "tags": []
   },
   "source": [
    "all tree picture saved in file"
   ]
  },
  {
   "cell_type": "markdown",
   "id": "d757c04c",
   "metadata": {
    "papermill": {
     "duration": 0.013347,
     "end_time": "2022-12-05T04:29:02.498970",
     "exception": false,
     "start_time": "2022-12-05T04:29:02.485623",
     "status": "completed"
    },
    "tags": []
   },
   "source": [
    "## Node Interpretation"
   ]
  },
  {
   "cell_type": "markdown",
   "id": "93c06be7",
   "metadata": {
    "papermill": {
     "duration": 0.013417,
     "end_time": "2022-12-05T04:29:02.525845",
     "exception": false,
     "start_time": "2022-12-05T04:29:02.512428",
     "status": "completed"
    },
    "tags": []
   },
   "source": [
    "Based solely on this tree, we can make a prediction for any new data point. the root node included Authentic_engagement, squard_error, samples and value.Authentic_engagement is varibale and value to split node. squard_error is mean squard value of node. samples is the number of data point in this node. value is prediction from the model which is the number of follower of Instagrammer. \n",
    "\n",
    "Furthermore, notice that in our tree, there are only 2 variables we actually used to make a prediction! According to this particular decision tree, the rest of the features are not important for making a prediction.\n"
   ]
  },
  {
   "cell_type": "markdown",
   "id": "126c2f1d",
   "metadata": {
    "papermill": {
     "duration": 0.013315,
     "end_time": "2022-12-05T04:29:02.552635",
     "exception": false,
     "start_time": "2022-12-05T04:29:02.539320",
     "status": "completed"
    },
    "tags": []
   },
   "source": [
    "## variable importance"
   ]
  },
  {
   "cell_type": "code",
   "execution_count": 23,
   "id": "7f1aae1b",
   "metadata": {
    "execution": {
     "iopub.execute_input": "2022-12-05T04:29:02.581934Z",
     "iopub.status.busy": "2022-12-05T04:29:02.580922Z",
     "iopub.status.idle": "2022-12-05T04:29:02.602213Z",
     "shell.execute_reply": "2022-12-05T04:29:02.600957Z"
    },
    "papermill": {
     "duration": 0.039671,
     "end_time": "2022-12-05T04:29:02.605742",
     "exception": false,
     "start_time": "2022-12-05T04:29:02.566071",
     "status": "completed"
    },
    "tags": []
   },
   "outputs": [
    {
     "name": "stdout",
     "output_type": "stream",
     "text": [
      "Variable: Authentic_Engagement Importance: 0.38\n",
      "Variable: Category_Photography Importance: 0.11\n",
      "Variable: Category_FashionModelingBeauty Importance: 0.07\n",
      "Variable: Category_Cinema & Actors/actressesFitness & Gym Importance: 0.05\n",
      "Variable: Category_FashionBeauty Importance: 0.05\n",
      "Variable: Category_Sports with a ballFamily Importance: 0.04\n",
      "Variable: Category_Clothing & OutfitsLifestyle Importance: 0.03\n",
      "Variable: Category_MusicFashion Importance: 0.03\n",
      "Variable: Category_MusicLifestyle Importance: 0.03\n",
      "Variable: Category_Sports with a ball Importance: 0.03\n",
      "Variable: Audience_Country_India Importance: 0.03\n",
      "Variable: Audience_Country_United States Importance: 0.03\n",
      "Variable: Category_Music       Importance: 0.02\n",
      "Variable: Category_Cinema & Actors/actressesFashion Importance: 0.01\n",
      "Variable: Category_Lifestyle   Importance: 0.01\n",
      "Variable: Category_MusicCinema & Actors/actresses Importance: 0.01\n",
      "Variable: Audience_Country_Argentina Importance: 0.01\n",
      "Variable: Audience_Country_Brazil Importance: 0.01\n",
      "Variable: Category_Adult content Importance: 0.0\n",
      "Variable: Category_Animals     Importance: 0.0\n",
      "Variable: Category_Art/Artists Importance: 0.0\n",
      "Variable: Category_Art/ArtistsBeauty Importance: 0.0\n",
      "Variable: Category_Art/ArtistsCinema & Actors/actresses Importance: 0.0\n",
      "Variable: Category_Art/ArtistsCinema & Actors/actressesMusic Importance: 0.0\n",
      "Variable: Category_Art/ArtistsCinema & Actors/actressesShows Importance: 0.0\n",
      "Variable: Category_Art/ArtistsFashionModeling Importance: 0.0\n",
      "Variable: Category_Art/ArtistsFashionMusic Importance: 0.0\n",
      "Variable: Category_Art/ArtistsShows Importance: 0.0\n",
      "Variable: Category_Beauty      Importance: 0.0\n",
      "Variable: Category_BeautyArt/ArtistsCinema & Actors/actresses Importance: 0.0\n",
      "Variable: Category_BeautyCinema & Actors/actresses Importance: 0.0\n",
      "Variable: Category_BeautyCinema & Actors/actressesFashion Importance: 0.0\n",
      "Variable: Category_BeautyCinema & Actors/actressesModeling Importance: 0.0\n",
      "Variable: Category_BeautyFamilyLifestyle Importance: 0.0\n",
      "Variable: Category_BeautyHumor & Fun & HappinessCinema & Actors/actresses Importance: 0.0\n",
      "Variable: Category_BeautyLifestyle Importance: 0.0\n",
      "Variable: Category_BeautyLifestyleFashion Importance: 0.0\n",
      "Variable: Category_BeautyModelingAdult content Importance: 0.0\n",
      "Variable: Category_BeautyModelingCinema & Actors/actresses Importance: 0.0\n",
      "Variable: Category_Business & Careers Importance: 0.0\n",
      "Variable: Category_Business & CareersFinance & Economics Importance: 0.0\n",
      "Variable: Category_Cars & MotorbikesLuxury Importance: 0.0\n",
      "Variable: Category_Cinema & Actors/actresses Importance: 0.0\n",
      "Variable: Category_Cinema & Actors/actressesArt/Artists Importance: 0.0\n",
      "Variable: Category_Cinema & Actors/actressesComics & sketches Importance: 0.0\n",
      "Variable: Category_Cinema & Actors/actressesComics & sketchesShows Importance: 0.0\n",
      "Variable: Category_Cinema & Actors/actressesFamily Importance: 0.0\n",
      "Variable: Category_Cinema & Actors/actressesHumor & Fun & Happiness Importance: 0.0\n",
      "Variable: Category_Cinema & Actors/actressesHumor & Fun & HappinessModeling Importance: 0.0\n",
      "Variable: Category_Cinema & Actors/actressesLifestyle Importance: 0.0\n",
      "Variable: Category_Cinema & Actors/actressesModeling Importance: 0.0\n",
      "Variable: Category_Cinema & Actors/actressesModelingClothing & Outfits Importance: 0.0\n",
      "Variable: Category_Cinema & Actors/actressesModelingFashion Importance: 0.0\n",
      "Variable: Category_Cinema & Actors/actressesModelingLifestyle Importance: 0.0\n",
      "Variable: Category_Cinema & Actors/actressesMusic Importance: 0.0\n",
      "Variable: Category_Cinema & Actors/actressesMusicShows Importance: 0.0\n",
      "Variable: Category_Cinema & Actors/actressesShows Importance: 0.0\n",
      "Variable: Category_Clothing & OutfitsMusic Importance: 0.0\n",
      "Variable: Category_Computers & Gadgets Importance: 0.0\n",
      "Variable: Category_Computers & GadgetsBusiness & Careers Importance: 0.0\n",
      "Variable: Category_Computers & GadgetsMachinery & Technologies Importance: 0.0\n",
      "Variable: Category_Computers & GadgetsPhotography Importance: 0.0\n",
      "Variable: Category_EducationHumor & Fun & Happiness Importance: 0.0\n",
      "Variable: Category_Family      Importance: 0.0\n",
      "Variable: Category_FamilyCinema & Actors/actresses Importance: 0.0\n",
      "Variable: Category_FamilyLifestyle Importance: 0.0\n",
      "Variable: Category_FamilyLifestyleCinema & Actors/actresses Importance: 0.0\n",
      "Variable: Category_FamilyLifestyleShows Importance: 0.0\n",
      "Variable: Category_FamilyMusic Importance: 0.0\n",
      "Variable: Category_FamilyShows Importance: 0.0\n",
      "Variable: Category_FamilySports with a ball Importance: 0.0\n",
      "Variable: Category_Fashion     Importance: 0.0\n",
      "Variable: Category_FashionCinema & Actors/actresses Importance: 0.0\n",
      "Variable: Category_FashionLifestyleBeauty Importance: 0.0\n",
      "Variable: Category_FashionModeling Importance: 0.0\n",
      "Variable: Category_Finance & Economics Importance: 0.0\n",
      "Variable: Category_Finance & EconomicsBusiness & Careers Importance: 0.0\n",
      "Variable: Category_Finance & EconomicsBusiness & CareersFamily Importance: 0.0\n",
      "Variable: Category_Fitness & Gym Importance: 0.0\n",
      "Variable: Category_Fitness & GymLifestyle Importance: 0.0\n",
      "Variable: Category_Fitness & GymShopping & RetailClothing & Outfits Importance: 0.0\n",
      "Variable: Category_Food & Cooking Importance: 0.0\n",
      "Variable: Category_Humor & Fun & Happiness Importance: 0.0\n",
      "Variable: Category_Humor & Fun & HappinessCinema & Actors/actresses Importance: 0.0\n",
      "Variable: Category_Humor & Fun & HappinessClothing & Outfits Importance: 0.0\n",
      "Variable: Category_Humor & Fun & HappinessLifestyleBeauty Importance: 0.0\n",
      "Variable: Category_Humor & Fun & HappinessShowsCinema & Actors/actresses Importance: 0.0\n",
      "Variable: Category_LifestyleArt/Artists Importance: 0.0\n",
      "Variable: Category_LifestyleBeauty Importance: 0.0\n",
      "Variable: Category_LifestyleCinema & Actors/actresses Importance: 0.0\n",
      "Variable: Category_LifestyleCinema & Actors/actressesModeling Importance: 0.0\n",
      "Variable: Category_LifestyleCinema & Actors/actressesMusic Importance: 0.0\n",
      "Variable: Category_LifestyleFamily Importance: 0.0\n",
      "Variable: Category_LifestyleFashion Importance: 0.0\n",
      "Variable: Category_LifestyleFashionClothing & Outfits Importance: 0.0\n",
      "Variable: Category_LifestyleModeling Importance: 0.0\n",
      "Variable: Category_LifestyleModelingCinema & Actors/actresses Importance: 0.0\n",
      "Variable: Category_LifestyleModelingFashion Importance: 0.0\n",
      "Variable: Category_LifestyleMusic Importance: 0.0\n",
      "Variable: Category_LifestyleMusicArt/Artists Importance: 0.0\n",
      "Variable: Category_LifestyleMusicCinema & Actors/actresses Importance: 0.0\n",
      "Variable: Category_LifestyleMusicSports with a ball Importance: 0.0\n",
      "Variable: Category_LifestylePhotography Importance: 0.0\n",
      "Variable: Category_LifestyleShows Importance: 0.0\n",
      "Variable: Category_LifestyleShowsComputers & Gadgets Importance: 0.0\n",
      "Variable: Category_LifestyleSports with a ball Importance: 0.0\n",
      "Variable: Category_Literature & JournalismBusiness & CareersFinance & Economics Importance: 0.0\n",
      "Variable: Category_Literature & JournalismCinema & Actors/actresses Importance: 0.0\n",
      "Variable: Category_Literature & JournalismFashion Importance: 0.0\n",
      "Variable: Category_Literature & JournalismShows Importance: 0.0\n",
      "Variable: Category_Literature & JournalismTrainers & Coaches Importance: 0.0\n",
      "Variable: Category_Machinery & TechnologiesComputers & Gadgets Importance: 0.0\n",
      "Variable: Category_Management & MarketingMusic Importance: 0.0\n",
      "Variable: Category_Modeling    Importance: 0.0\n",
      "Variable: Category_ModelingBeauty Importance: 0.0\n",
      "Variable: Category_ModelingCinema & Actors/actresses Importance: 0.0\n",
      "Variable: Category_ModelingFamily Importance: 0.0\n",
      "Variable: Category_ModelingFashion Importance: 0.0\n",
      "Variable: Category_ModelingFashionLifestyle Importance: 0.0\n",
      "Variable: Category_ModelingLifestyle Importance: 0.0\n",
      "Variable: Category_ModelingLifestyleBeauty Importance: 0.0\n",
      "Variable: Category_ModelingLifestyleFashion Importance: 0.0\n",
      "Variable: Category_ModelingMusic Importance: 0.0\n",
      "Variable: Category_MusicArt/Artists Importance: 0.0\n",
      "Variable: Category_MusicArt/ArtistsCinema & Actors/actresses Importance: 0.0\n",
      "Variable: Category_MusicBeauty Importance: 0.0\n",
      "Variable: Category_MusicCinema & Actors/actressesFashion Importance: 0.0\n",
      "Variable: Category_MusicCinema & Actors/actressesLifestyle Importance: 0.0\n",
      "Variable: Category_MusicCinema & Actors/actressesModeling Importance: 0.0\n",
      "Variable: Category_MusicClothing & Outfits Importance: 0.0\n",
      "Variable: Category_MusicFamily Importance: 0.0\n",
      "Variable: Category_MusicKids & Toys Importance: 0.0\n",
      "Variable: Category_MusicModeling Importance: 0.0\n",
      "Variable: Category_MusicModelingArt/Artists Importance: 0.0\n",
      "Variable: Category_MusicShows  Importance: 0.0\n",
      "Variable: Category_Nature & landscapesSciencePhotography Importance: 0.0\n",
      "Variable: Category_PhotographyFashion Importance: 0.0\n",
      "Variable: Category_PhotographyTravel Importance: 0.0\n",
      "Variable: Category_Racing Sports Importance: 0.0\n",
      "Variable: Category_ScienceMachinery & Technologies Importance: 0.0\n",
      "Variable: Category_SciencePhotography Importance: 0.0\n",
      "Variable: Category_Shows       Importance: 0.0\n",
      "Variable: Category_ShowsAdult content Importance: 0.0\n",
      "Variable: Category_ShowsBeautyFamily Importance: 0.0\n",
      "Variable: Category_ShowsCinema & Actors/actresses Importance: 0.0\n",
      "Variable: Category_ShowsCinema & Actors/actressesLifestyle Importance: 0.0\n",
      "Variable: Category_ShowsCinema & Actors/actressesModeling Importance: 0.0\n",
      "Variable: Category_ShowsFamily Importance: 0.0\n",
      "Variable: Category_ShowsHumor & Fun & Happiness Importance: 0.0\n",
      "Variable: Category_ShowsLifestyle Importance: 0.0\n",
      "Variable: Category_ShowsModeling Importance: 0.0\n",
      "Variable: Category_ShowsMusic  Importance: 0.0\n",
      "Variable: Category_Sports with a ballClothing & Outfits Importance: 0.0\n",
      "Variable: Category_Sports with a ballLifestyle Importance: 0.0\n",
      "Variable: Category_Sports with a ballLifestyleKids & Toys Importance: 0.0\n",
      "Variable: Category_Sports with a ballLiterature & Journalism Importance: 0.0\n",
      "Variable: Category_Sports with a ballShows Importance: 0.0\n",
      "Variable: Category_TravelCinema & Actors/actresses Importance: 0.0\n",
      "Variable: Audience_Country_Albania Importance: 0.0\n",
      "Variable: Audience_Country_Algeria Importance: 0.0\n",
      "Variable: Audience_Country_Chile Importance: 0.0\n",
      "Variable: Audience_Country_China Importance: 0.0\n",
      "Variable: Audience_Country_Colombia Importance: 0.0\n",
      "Variable: Audience_Country_Egypt Importance: 0.0\n",
      "Variable: Audience_Country_France Importance: 0.0\n",
      "Variable: Audience_Country_Germany Importance: 0.0\n",
      "Variable: Audience_Country_Indonesia Importance: 0.0\n",
      "Variable: Audience_Country_Iran Importance: 0.0\n",
      "Variable: Audience_Country_Iraq Importance: 0.0\n",
      "Variable: Audience_Country_Italy Importance: 0.0\n",
      "Variable: Audience_Country_Japan Importance: 0.0\n",
      "Variable: Audience_Country_Kazakhstan Importance: 0.0\n",
      "Variable: Audience_Country_Mexico Importance: 0.0\n",
      "Variable: Audience_Country_Morocco Importance: 0.0\n",
      "Variable: Audience_Country_Nigeria Importance: 0.0\n",
      "Variable: Audience_Country_Pakistan Importance: 0.0\n",
      "Variable: Audience_Country_Philippines Importance: 0.0\n",
      "Variable: Audience_Country_Poland Importance: 0.0\n",
      "Variable: Audience_Country_Russia Importance: 0.0\n",
      "Variable: Audience_Country_Senegal Importance: 0.0\n",
      "Variable: Audience_Country_South Korea Importance: 0.0\n",
      "Variable: Audience_Country_Spain Importance: 0.0\n",
      "Variable: Audience_Country_Syria Importance: 0.0\n",
      "Variable: Audience_Country_Thailand Importance: 0.0\n",
      "Variable: Audience_Country_Turkey Importance: 0.0\n",
      "Variable: Audience_Country_United Arab Emirates Importance: 0.0\n",
      "Variable: Audience_Country_United Kingdom Importance: 0.0\n"
     ]
    }
   ],
   "source": [
    "# Get numerical feature importances\n",
    "importances = list(rf.feature_importances_)\n",
    "\n",
    "# List of tuples with variable and importance\n",
    "feature_importances = [(feature, round(importance, 2)) for feature, importance in zip(df_dummy_list, importances)]\n",
    "\n",
    "# Sort the feature importances by most important first\n",
    "feature_importances = sorted(feature_importances, key = lambda x: x[1], reverse = True)\n",
    "\n",
    "# Print out the feature and importances \n",
    "[print('Variable: {:20} Importance: {}'.format(*pair)) for pair in feature_importances];"
   ]
  },
  {
   "cell_type": "markdown",
   "id": "40591386",
   "metadata": {
    "papermill": {
     "duration": 0.013617,
     "end_time": "2022-12-05T04:29:02.633080",
     "exception": false,
     "start_time": "2022-12-05T04:29:02.619463",
     "status": "completed"
    },
    "tags": []
   },
   "source": [
    "# 2. Generalized AutoML Model"
   ]
  },
  {
   "cell_type": "code",
   "execution_count": 24,
   "id": "ef0bd118",
   "metadata": {
    "execution": {
     "iopub.execute_input": "2022-12-05T04:29:02.662714Z",
     "iopub.status.busy": "2022-12-05T04:29:02.661991Z",
     "iopub.status.idle": "2022-12-05T04:29:10.347573Z",
     "shell.execute_reply": "2022-12-05T04:29:10.346321Z"
    },
    "papermill": {
     "duration": 7.703206,
     "end_time": "2022-12-05T04:29:10.350287",
     "exception": false,
     "start_time": "2022-12-05T04:29:02.647081",
     "status": "completed"
    },
    "tags": []
   },
   "outputs": [
    {
     "name": "stdout",
     "output_type": "stream",
     "text": [
      "Checking whether there is an H2O instance running at http://localhost:54321 ..... not found.\n",
      "Attempting to start a local H2O server...\n",
      "  Java Version: openjdk version \"11.0.16\" 2022-07-19; OpenJDK Runtime Environment (build 11.0.16+8-post-Ubuntu-0ubuntu120.04); OpenJDK 64-Bit Server VM (build 11.0.16+8-post-Ubuntu-0ubuntu120.04, mixed mode, sharing)\n",
      "  Starting server from /opt/conda/lib/python3.7/site-packages/h2o/backend/bin/h2o.jar\n",
      "  Ice root: /tmp/tmp5gswc6wj\n",
      "  JVM stdout: /tmp/tmp5gswc6wj/h2o_unknownUser_started_from_python.out\n",
      "  JVM stderr: /tmp/tmp5gswc6wj/h2o_unknownUser_started_from_python.err\n",
      "  Server is running at http://127.0.0.1:54321\n",
      "Connecting to H2O server at http://127.0.0.1:54321 ... successful.\n"
     ]
    },
    {
     "data": {
      "text/html": [
       "\n",
       "<style>\n",
       "\n",
       "#h2o-table-1.h2o-container {\n",
       "  overflow-x: auto;\n",
       "}\n",
       "#h2o-table-1 .h2o-table {\n",
       "  /* width: 100%; */\n",
       "  margin-top: 1em;\n",
       "  margin-bottom: 1em;\n",
       "}\n",
       "#h2o-table-1 .h2o-table caption {\n",
       "  white-space: nowrap;\n",
       "  caption-side: top;\n",
       "  text-align: left;\n",
       "  /* margin-left: 1em; */\n",
       "  margin: 0;\n",
       "  font-size: larger;\n",
       "}\n",
       "#h2o-table-1 .h2o-table thead {\n",
       "  white-space: nowrap; \n",
       "  position: sticky;\n",
       "  top: 0;\n",
       "  box-shadow: 0 -1px inset;\n",
       "}\n",
       "#h2o-table-1 .h2o-table tbody {\n",
       "  overflow: auto;\n",
       "}\n",
       "#h2o-table-1 .h2o-table th,\n",
       "#h2o-table-1 .h2o-table td {\n",
       "  text-align: right;\n",
       "  /* border: 1px solid; */\n",
       "}\n",
       "#h2o-table-1 .h2o-table tr:nth-child(even) {\n",
       "  /* background: #F5F5F5 */\n",
       "}\n",
       "\n",
       "</style>      \n",
       "<div id=\"h2o-table-1\" class=\"h2o-container\">\n",
       "  <table class=\"h2o-table\">\n",
       "    <caption></caption>\n",
       "    <thead></thead>\n",
       "    <tbody><tr><td>H2O_cluster_uptime:</td>\n",
       "<td>02 secs</td></tr>\n",
       "<tr><td>H2O_cluster_timezone:</td>\n",
       "<td>Etc/UTC</td></tr>\n",
       "<tr><td>H2O_data_parsing_timezone:</td>\n",
       "<td>UTC</td></tr>\n",
       "<tr><td>H2O_cluster_version:</td>\n",
       "<td>3.38.0.1</td></tr>\n",
       "<tr><td>H2O_cluster_version_age:</td>\n",
       "<td>2 months and 15 days </td></tr>\n",
       "<tr><td>H2O_cluster_name:</td>\n",
       "<td>H2O_from_python_unknownUser_5xikni</td></tr>\n",
       "<tr><td>H2O_cluster_total_nodes:</td>\n",
       "<td>1</td></tr>\n",
       "<tr><td>H2O_cluster_free_memory:</td>\n",
       "<td>8 Gb</td></tr>\n",
       "<tr><td>H2O_cluster_total_cores:</td>\n",
       "<td>2</td></tr>\n",
       "<tr><td>H2O_cluster_allowed_cores:</td>\n",
       "<td>2</td></tr>\n",
       "<tr><td>H2O_cluster_status:</td>\n",
       "<td>locked, healthy</td></tr>\n",
       "<tr><td>H2O_connection_url:</td>\n",
       "<td>http://127.0.0.1:54321</td></tr>\n",
       "<tr><td>H2O_connection_proxy:</td>\n",
       "<td>{\"http\": null, \"https\": null}</td></tr>\n",
       "<tr><td>H2O_internal_security:</td>\n",
       "<td>False</td></tr>\n",
       "<tr><td>Python_version:</td>\n",
       "<td>3.7.12 final</td></tr></tbody>\n",
       "  </table>\n",
       "</div>\n"
      ],
      "text/plain": [
       "--------------------------  ----------------------------------\n",
       "H2O_cluster_uptime:         02 secs\n",
       "H2O_cluster_timezone:       Etc/UTC\n",
       "H2O_data_parsing_timezone:  UTC\n",
       "H2O_cluster_version:        3.38.0.1\n",
       "H2O_cluster_version_age:    2 months and 15 days\n",
       "H2O_cluster_name:           H2O_from_python_unknownUser_5xikni\n",
       "H2O_cluster_total_nodes:    1\n",
       "H2O_cluster_free_memory:    8 Gb\n",
       "H2O_cluster_total_cores:    2\n",
       "H2O_cluster_allowed_cores:  2\n",
       "H2O_cluster_status:         locked, healthy\n",
       "H2O_connection_url:         http://127.0.0.1:54321\n",
       "H2O_connection_proxy:       {\"http\": null, \"https\": null}\n",
       "H2O_internal_security:      False\n",
       "Python_version:             3.7.12 final\n",
       "--------------------------  ----------------------------------"
      ]
     },
     "metadata": {},
     "output_type": "display_data"
    }
   ],
   "source": [
    "# Load the H2O library and start up the H2O cluter locally on your machine\n",
    "import h2o\n",
    "\n",
    "# Number of threads, nthreads = -1, means use all cores on your machine\n",
    "# max_mem_size is the maximum memory (in GB) to allocate to H2O\n",
    "h2o.init(nthreads = -1, max_mem_size = 8)"
   ]
  },
  {
   "cell_type": "code",
   "execution_count": 25,
   "id": "a834243b",
   "metadata": {
    "execution": {
     "iopub.execute_input": "2022-12-05T04:29:10.397182Z",
     "iopub.status.busy": "2022-12-05T04:29:10.396747Z",
     "iopub.status.idle": "2022-12-05T04:29:11.832864Z",
     "shell.execute_reply": "2022-12-05T04:29:11.831875Z"
    },
    "papermill": {
     "duration": 1.46208,
     "end_time": "2022-12-05T04:29:11.835675",
     "exception": false,
     "start_time": "2022-12-05T04:29:10.373595",
     "status": "completed"
    },
    "tags": []
   },
   "outputs": [
    {
     "name": "stdout",
     "output_type": "stream",
     "text": [
      "Parse progress: |████████████████████████████████████████████████████████████████| (done) 100%\n"
     ]
    }
   ],
   "source": [
    "hf = h2o.H2OFrame(df_dummy_4automl)"
   ]
  },
  {
   "cell_type": "code",
   "execution_count": 26,
   "id": "c5983f9f",
   "metadata": {
    "execution": {
     "iopub.execute_input": "2022-12-05T04:29:11.882174Z",
     "iopub.status.busy": "2022-12-05T04:29:11.881760Z",
     "iopub.status.idle": "2022-12-05T04:29:12.790329Z",
     "shell.execute_reply": "2022-12-05T04:29:12.789391Z"
    },
    "papermill": {
     "duration": 0.934954,
     "end_time": "2022-12-05T04:29:12.793601",
     "exception": false,
     "start_time": "2022-12-05T04:29:11.858647",
     "status": "completed"
    },
    "tags": []
   },
   "outputs": [],
   "source": [
    "# Partition data into 70%, 15%, 15% chunks\n",
    "# Setting a seed will guarantee reproducibility\n",
    "\n",
    "splits = hf.split_frame(ratios=[0.7, 0.15], seed=1)  \n",
    "\n",
    "train = splits[0]\n",
    "valid = splits[1]\n",
    "test = splits[2]"
   ]
  },
  {
   "cell_type": "code",
   "execution_count": 27,
   "id": "657e1214",
   "metadata": {
    "execution": {
     "iopub.execute_input": "2022-12-05T04:29:12.829591Z",
     "iopub.status.busy": "2022-12-05T04:29:12.829293Z",
     "iopub.status.idle": "2022-12-05T04:29:12.834186Z",
     "shell.execute_reply": "2022-12-05T04:29:12.833229Z"
    },
    "papermill": {
     "duration": 0.023213,
     "end_time": "2022-12-05T04:29:12.836830",
     "exception": false,
     "start_time": "2022-12-05T04:29:12.813617",
     "status": "completed"
    },
    "tags": []
   },
   "outputs": [
    {
     "name": "stdout",
     "output_type": "stream",
     "text": [
      "699\n",
      "150\n",
      "151\n"
     ]
    }
   ],
   "source": [
    "print(train.nrow)\n",
    "print(valid.nrow)\n",
    "print(test.nrow)"
   ]
  },
  {
   "cell_type": "code",
   "execution_count": 28,
   "id": "eb617704",
   "metadata": {
    "execution": {
     "iopub.execute_input": "2022-12-05T04:29:12.867567Z",
     "iopub.status.busy": "2022-12-05T04:29:12.866767Z",
     "iopub.status.idle": "2022-12-05T04:29:12.871118Z",
     "shell.execute_reply": "2022-12-05T04:29:12.870204Z"
    },
    "papermill": {
     "duration": 0.021646,
     "end_time": "2022-12-05T04:29:12.873145",
     "exception": false,
     "start_time": "2022-12-05T04:29:12.851499",
     "status": "completed"
    },
    "tags": []
   },
   "outputs": [],
   "source": [
    "#df_dummy_4automl.head()"
   ]
  },
  {
   "cell_type": "code",
   "execution_count": 29,
   "id": "7899a7da",
   "metadata": {
    "execution": {
     "iopub.execute_input": "2022-12-05T04:29:12.903364Z",
     "iopub.status.busy": "2022-12-05T04:29:12.903102Z",
     "iopub.status.idle": "2022-12-05T04:29:12.912022Z",
     "shell.execute_reply": "2022-12-05T04:29:12.911113Z"
    },
    "papermill": {
     "duration": 0.026355,
     "end_time": "2022-12-05T04:29:12.913932",
     "exception": false,
     "start_time": "2022-12-05T04:29:12.887577",
     "status": "completed"
    },
    "tags": []
   },
   "outputs": [
    {
     "data": {
      "text/plain": [
       "['Name',\n",
       " 'Authentic_Engagement',\n",
       " 'Category_Adult content',\n",
       " 'Category_Animals',\n",
       " 'Category_Art/Artists',\n",
       " 'Category_Art/ArtistsBeauty',\n",
       " 'Category_Art/ArtistsCinema & Actors/actresses',\n",
       " 'Category_Art/ArtistsCinema & Actors/actressesMusic',\n",
       " 'Category_Art/ArtistsCinema & Actors/actressesShows',\n",
       " 'Category_Art/ArtistsFashionModeling',\n",
       " 'Category_Art/ArtistsFashionMusic',\n",
       " 'Category_Art/ArtistsShows',\n",
       " 'Category_Beauty',\n",
       " 'Category_BeautyArt/ArtistsCinema & Actors/actresses',\n",
       " 'Category_BeautyCinema & Actors/actresses',\n",
       " 'Category_BeautyCinema & Actors/actressesFashion',\n",
       " 'Category_BeautyCinema & Actors/actressesModeling',\n",
       " 'Category_BeautyFamilyLifestyle',\n",
       " 'Category_BeautyHumor & Fun & HappinessCinema & Actors/actresses',\n",
       " 'Category_BeautyLifestyle',\n",
       " 'Category_BeautyLifestyleFashion',\n",
       " 'Category_BeautyModelingAdult content',\n",
       " 'Category_BeautyModelingCinema & Actors/actresses',\n",
       " 'Category_Business & Careers',\n",
       " 'Category_Business & CareersFinance & Economics',\n",
       " 'Category_Cars & MotorbikesLuxury',\n",
       " 'Category_Cinema & Actors/actresses',\n",
       " 'Category_Cinema & Actors/actressesArt/Artists',\n",
       " 'Category_Cinema & Actors/actressesComics & sketches',\n",
       " 'Category_Cinema & Actors/actressesComics & sketchesShows',\n",
       " 'Category_Cinema & Actors/actressesFamily',\n",
       " 'Category_Cinema & Actors/actressesFashion',\n",
       " 'Category_Cinema & Actors/actressesFitness & Gym',\n",
       " 'Category_Cinema & Actors/actressesHumor & Fun & Happiness',\n",
       " 'Category_Cinema & Actors/actressesHumor & Fun & HappinessModeling',\n",
       " 'Category_Cinema & Actors/actressesLifestyle',\n",
       " 'Category_Cinema & Actors/actressesModeling',\n",
       " 'Category_Cinema & Actors/actressesModelingClothing & Outfits',\n",
       " 'Category_Cinema & Actors/actressesModelingFashion',\n",
       " 'Category_Cinema & Actors/actressesModelingLifestyle',\n",
       " 'Category_Cinema & Actors/actressesMusic',\n",
       " 'Category_Cinema & Actors/actressesMusicShows',\n",
       " 'Category_Cinema & Actors/actressesShows',\n",
       " 'Category_Clothing & OutfitsLifestyle',\n",
       " 'Category_Clothing & OutfitsMusic',\n",
       " 'Category_Computers & Gadgets',\n",
       " 'Category_Computers & GadgetsBusiness & Careers',\n",
       " 'Category_Computers & GadgetsMachinery & Technologies',\n",
       " 'Category_Computers & GadgetsPhotography',\n",
       " 'Category_EducationHumor & Fun & Happiness',\n",
       " 'Category_Family',\n",
       " 'Category_FamilyCinema & Actors/actresses',\n",
       " 'Category_FamilyLifestyle',\n",
       " 'Category_FamilyLifestyleCinema & Actors/actresses',\n",
       " 'Category_FamilyLifestyleShows',\n",
       " 'Category_FamilyMusic',\n",
       " 'Category_FamilyShows',\n",
       " 'Category_FamilySports with a ball',\n",
       " 'Category_Fashion',\n",
       " 'Category_FashionBeauty',\n",
       " 'Category_FashionCinema & Actors/actresses',\n",
       " 'Category_FashionLifestyleBeauty',\n",
       " 'Category_FashionModeling',\n",
       " 'Category_FashionModelingBeauty',\n",
       " 'Category_Finance & Economics',\n",
       " 'Category_Finance & EconomicsBusiness & Careers',\n",
       " 'Category_Finance & EconomicsBusiness & CareersFamily',\n",
       " 'Category_Fitness & Gym',\n",
       " 'Category_Fitness & GymLifestyle',\n",
       " 'Category_Fitness & GymShopping & RetailClothing & Outfits',\n",
       " 'Category_Food & Cooking',\n",
       " 'Category_Humor & Fun & Happiness',\n",
       " 'Category_Humor & Fun & HappinessCinema & Actors/actresses',\n",
       " 'Category_Humor & Fun & HappinessClothing & Outfits',\n",
       " 'Category_Humor & Fun & HappinessLifestyleBeauty',\n",
       " 'Category_Humor & Fun & HappinessShowsCinema & Actors/actresses',\n",
       " 'Category_Lifestyle',\n",
       " 'Category_LifestyleArt/Artists',\n",
       " 'Category_LifestyleBeauty',\n",
       " 'Category_LifestyleCinema & Actors/actresses',\n",
       " 'Category_LifestyleCinema & Actors/actressesModeling',\n",
       " 'Category_LifestyleCinema & Actors/actressesMusic',\n",
       " 'Category_LifestyleFamily',\n",
       " 'Category_LifestyleFashion',\n",
       " 'Category_LifestyleFashionClothing & Outfits',\n",
       " 'Category_LifestyleModeling',\n",
       " 'Category_LifestyleModelingCinema & Actors/actresses',\n",
       " 'Category_LifestyleModelingFashion',\n",
       " 'Category_LifestyleMusic',\n",
       " 'Category_LifestyleMusicArt/Artists',\n",
       " 'Category_LifestyleMusicCinema & Actors/actresses',\n",
       " 'Category_LifestyleMusicSports with a ball',\n",
       " 'Category_LifestylePhotography',\n",
       " 'Category_LifestyleShows',\n",
       " 'Category_LifestyleShowsComputers & Gadgets',\n",
       " 'Category_LifestyleSports with a ball',\n",
       " 'Category_Literature & JournalismBusiness & CareersFinance & Economics',\n",
       " 'Category_Literature & JournalismCinema & Actors/actresses',\n",
       " 'Category_Literature & JournalismFashion',\n",
       " 'Category_Literature & JournalismShows',\n",
       " 'Category_Literature & JournalismTrainers & Coaches',\n",
       " 'Category_Machinery & TechnologiesComputers & Gadgets',\n",
       " 'Category_Management & MarketingMusic',\n",
       " 'Category_Modeling',\n",
       " 'Category_ModelingBeauty',\n",
       " 'Category_ModelingCinema & Actors/actresses',\n",
       " 'Category_ModelingFamily',\n",
       " 'Category_ModelingFashion',\n",
       " 'Category_ModelingFashionLifestyle',\n",
       " 'Category_ModelingLifestyle',\n",
       " 'Category_ModelingLifestyleBeauty',\n",
       " 'Category_ModelingLifestyleFashion',\n",
       " 'Category_ModelingMusic',\n",
       " 'Category_Music',\n",
       " 'Category_MusicArt/Artists',\n",
       " 'Category_MusicArt/ArtistsCinema & Actors/actresses',\n",
       " 'Category_MusicBeauty',\n",
       " 'Category_MusicCinema & Actors/actresses',\n",
       " 'Category_MusicCinema & Actors/actressesFashion',\n",
       " 'Category_MusicCinema & Actors/actressesLifestyle',\n",
       " 'Category_MusicCinema & Actors/actressesModeling',\n",
       " 'Category_MusicClothing & Outfits',\n",
       " 'Category_MusicFamily',\n",
       " 'Category_MusicFashion',\n",
       " 'Category_MusicKids & Toys',\n",
       " 'Category_MusicLifestyle',\n",
       " 'Category_MusicModeling',\n",
       " 'Category_MusicModelingArt/Artists',\n",
       " 'Category_MusicShows',\n",
       " 'Category_Nature & landscapesSciencePhotography',\n",
       " 'Category_Photography',\n",
       " 'Category_PhotographyFashion',\n",
       " 'Category_PhotographyTravel',\n",
       " 'Category_Racing Sports',\n",
       " 'Category_ScienceMachinery & Technologies',\n",
       " 'Category_SciencePhotography',\n",
       " 'Category_Shows',\n",
       " 'Category_ShowsAdult content',\n",
       " 'Category_ShowsBeautyFamily',\n",
       " 'Category_ShowsCinema & Actors/actresses',\n",
       " 'Category_ShowsCinema & Actors/actressesLifestyle',\n",
       " 'Category_ShowsCinema & Actors/actressesModeling',\n",
       " 'Category_ShowsFamily',\n",
       " 'Category_ShowsHumor & Fun & Happiness',\n",
       " 'Category_ShowsLifestyle',\n",
       " 'Category_ShowsModeling',\n",
       " 'Category_ShowsMusic',\n",
       " 'Category_Sports with a ball',\n",
       " 'Category_Sports with a ballClothing & Outfits',\n",
       " 'Category_Sports with a ballFamily',\n",
       " 'Category_Sports with a ballLifestyle',\n",
       " 'Category_Sports with a ballLifestyleKids & Toys',\n",
       " 'Category_Sports with a ballLiterature & Journalism',\n",
       " 'Category_Sports with a ballShows',\n",
       " 'Category_TravelCinema & Actors/actresses',\n",
       " 'Audience_Country_Albania',\n",
       " 'Audience_Country_Algeria',\n",
       " 'Audience_Country_Argentina',\n",
       " 'Audience_Country_Brazil',\n",
       " 'Audience_Country_Chile',\n",
       " 'Audience_Country_China',\n",
       " 'Audience_Country_Colombia',\n",
       " 'Audience_Country_Egypt',\n",
       " 'Audience_Country_France',\n",
       " 'Audience_Country_Germany',\n",
       " 'Audience_Country_India',\n",
       " 'Audience_Country_Indonesia',\n",
       " 'Audience_Country_Iran',\n",
       " 'Audience_Country_Iraq',\n",
       " 'Audience_Country_Italy',\n",
       " 'Audience_Country_Japan',\n",
       " 'Audience_Country_Kazakhstan',\n",
       " 'Audience_Country_Mexico',\n",
       " 'Audience_Country_Morocco',\n",
       " 'Audience_Country_Nigeria',\n",
       " 'Audience_Country_Pakistan',\n",
       " 'Audience_Country_Philippines',\n",
       " 'Audience_Country_Poland',\n",
       " 'Audience_Country_Russia',\n",
       " 'Audience_Country_Senegal',\n",
       " 'Audience_Country_South Korea',\n",
       " 'Audience_Country_Spain',\n",
       " 'Audience_Country_Syria',\n",
       " 'Audience_Country_Thailand',\n",
       " 'Audience_Country_Turkey',\n",
       " 'Audience_Country_United Arab Emirates',\n",
       " 'Audience_Country_United Kingdom',\n",
       " 'Audience_Country_United States']"
      ]
     },
     "execution_count": 29,
     "metadata": {},
     "output_type": "execute_result"
    }
   ],
   "source": [
    "y = 'Followers'\n",
    "x = hf.columns\n",
    "x.remove(y)  #remove the response\n",
    "x.remove('Rank')\n",
    "x.remove('Engagement_Avg') \n",
    "x.remove('FollowersBigger100M')#remove the  column because it's correlated with the outcome\n",
    "x"
   ]
  },
  {
   "cell_type": "code",
   "execution_count": 30,
   "id": "e161f92a",
   "metadata": {
    "execution": {
     "iopub.execute_input": "2022-12-05T04:29:12.945183Z",
     "iopub.status.busy": "2022-12-05T04:29:12.944436Z",
     "iopub.status.idle": "2022-12-05T04:29:13.061282Z",
     "shell.execute_reply": "2022-12-05T04:29:13.060139Z"
    },
    "papermill": {
     "duration": 0.135309,
     "end_time": "2022-12-05T04:29:13.064136",
     "exception": false,
     "start_time": "2022-12-05T04:29:12.928827",
     "status": "completed"
    },
    "tags": []
   },
   "outputs": [],
   "source": [
    "# Import automl:\n",
    "from h2o.automl import H2OAutoML\n",
    "#create automl model\n",
    "aml = H2OAutoML(max_models=10, seed=1)\n",
    "\n"
   ]
  },
  {
   "cell_type": "code",
   "execution_count": 31,
   "id": "362e730f",
   "metadata": {
    "execution": {
     "iopub.execute_input": "2022-12-05T04:29:13.123146Z",
     "iopub.status.busy": "2022-12-05T04:29:13.122601Z",
     "iopub.status.idle": "2022-12-05T04:29:51.581237Z",
     "shell.execute_reply": "2022-12-05T04:29:51.579262Z"
    },
    "papermill": {
     "duration": 38.484932,
     "end_time": "2022-12-05T04:29:51.583417",
     "exception": false,
     "start_time": "2022-12-05T04:29:13.098485",
     "status": "completed"
    },
    "tags": []
   },
   "outputs": [
    {
     "name": "stdout",
     "output_type": "stream",
     "text": [
      "AutoML progress: |\n",
      "04:29:13.276: _train param, Dropping bad and constant columns: [Category_Cinema & Actors/actressesHumor & Fun & Happiness, Category_LifestyleCinema & Actors/actressesModeling, Category_Sports with a ballShows, Category_Finance & EconomicsBusiness & Careers, Category_Literature & JournalismTrainers & Coaches, Category_Humor & Fun & HappinessCinema & Actors/actresses, Audience_Country_Kazakhstan, Category_Cinema & Actors/actressesComics & sketches, Audience_Country_Pakistan, Category_Sports with a ballLifestyleKids & Toys, Name, Category_ShowsCinema & Actors/actressesModeling, Category_Animals, Category_ShowsCinema & Actors/actressesLifestyle, Category_ModelingFashionLifestyle, Category_BeautyCinema & Actors/actressesFashion, Category_MusicClothing & Outfits, Category_BeautyArt/ArtistsCinema & Actors/actresses, Category_BeautyHumor & Fun & HappinessCinema & Actors/actresses, Category_Computers & GadgetsBusiness & Careers, Category_Clothing & OutfitsMusic, Category_Machinery & TechnologiesComputers & Gadgets, Category_Art/ArtistsFashionMusic, Category_Cinema & Actors/actressesFamily, Category_Art/ArtistsCinema & Actors/actressesShows, Category_ShowsAdult content, Category_FashionCinema & Actors/actresses, Category_Cinema & Actors/actressesComics & sketchesShows, Category_MusicArt/ArtistsCinema & Actors/actresses, Category_ModelingMusic, Category_LifestyleCinema & Actors/actressesMusic, Category_BeautyFamilyLifestyle]\n",
      "\n",
      "█\n",
      "04:29:16.983: _train param, Dropping bad and constant columns: [Category_Cinema & Actors/actressesHumor & Fun & Happiness, Category_LifestyleCinema & Actors/actressesModeling, Category_Sports with a ballShows, Category_Finance & EconomicsBusiness & Careers, Category_Literature & JournalismTrainers & Coaches, Category_Humor & Fun & HappinessCinema & Actors/actresses, Audience_Country_Kazakhstan, Category_Cinema & Actors/actressesComics & sketches, Audience_Country_Pakistan, Category_Sports with a ballLifestyleKids & Toys, Name, Category_ShowsCinema & Actors/actressesModeling, Category_Animals, Category_ShowsCinema & Actors/actressesLifestyle, Category_ModelingFashionLifestyle, Category_BeautyCinema & Actors/actressesFashion, Category_MusicClothing & Outfits, Category_BeautyArt/ArtistsCinema & Actors/actresses, Category_BeautyHumor & Fun & HappinessCinema & Actors/actresses, Category_Computers & GadgetsBusiness & Careers, Category_Clothing & OutfitsMusic, Category_Machinery & TechnologiesComputers & Gadgets, Category_Art/ArtistsFashionMusic, Category_Cinema & Actors/actressesFamily, Category_Art/ArtistsCinema & Actors/actressesShows, Category_ShowsAdult content, Category_FashionCinema & Actors/actresses, Category_Cinema & Actors/actressesComics & sketchesShows, Category_MusicArt/ArtistsCinema & Actors/actresses, Category_ModelingMusic, Category_LifestyleCinema & Actors/actressesMusic, Category_BeautyFamilyLifestyle]\n",
      "\n",
      "\n",
      "04:29:18.88: _train param, Dropping bad and constant columns: [Category_Cinema & Actors/actressesHumor & Fun & Happiness, Category_LifestyleCinema & Actors/actressesModeling, Category_Sports with a ballShows, Category_Finance & EconomicsBusiness & Careers, Category_Literature & JournalismTrainers & Coaches, Category_Humor & Fun & HappinessCinema & Actors/actresses, Audience_Country_Kazakhstan, Category_Cinema & Actors/actressesComics & sketches, Audience_Country_Pakistan, Category_Sports with a ballLifestyleKids & Toys, Name, Category_ShowsCinema & Actors/actressesModeling, Category_Animals, Category_ShowsCinema & Actors/actressesLifestyle, Category_ModelingFashionLifestyle, Category_BeautyCinema & Actors/actressesFashion, Category_MusicClothing & Outfits, Category_BeautyArt/ArtistsCinema & Actors/actresses, Category_BeautyHumor & Fun & HappinessCinema & Actors/actresses, Category_Computers & GadgetsBusiness & Careers, Category_Clothing & OutfitsMusic, Category_Machinery & TechnologiesComputers & Gadgets, Category_Art/ArtistsFashionMusic, Category_Cinema & Actors/actressesFamily, Category_Art/ArtistsCinema & Actors/actressesShows, Category_ShowsAdult content, Category_FashionCinema & Actors/actresses, Category_Cinema & Actors/actressesComics & sketchesShows, Category_MusicArt/ArtistsCinema & Actors/actresses, Category_ModelingMusic, Category_LifestyleCinema & Actors/actressesMusic, Category_BeautyFamilyLifestyle]\n",
      "\n",
      "██\n",
      "04:29:21.79: _train param, Dropping bad and constant columns: [Category_Cinema & Actors/actressesHumor & Fun & Happiness, Category_LifestyleCinema & Actors/actressesModeling, Category_Sports with a ballShows, Category_Finance & EconomicsBusiness & Careers, Category_Literature & JournalismTrainers & Coaches, Category_Humor & Fun & HappinessCinema & Actors/actresses, Audience_Country_Kazakhstan, Category_Cinema & Actors/actressesComics & sketches, Audience_Country_Pakistan, Category_Sports with a ballLifestyleKids & Toys, Name, Category_ShowsCinema & Actors/actressesModeling, Category_Animals, Category_ShowsCinema & Actors/actressesLifestyle, Category_ModelingFashionLifestyle, Category_BeautyCinema & Actors/actressesFashion, Category_MusicClothing & Outfits, Category_BeautyArt/ArtistsCinema & Actors/actresses, Category_BeautyHumor & Fun & HappinessCinema & Actors/actresses, Category_Computers & GadgetsBusiness & Careers, Category_Clothing & OutfitsMusic, Category_Machinery & TechnologiesComputers & Gadgets, Category_Art/ArtistsFashionMusic, Category_Cinema & Actors/actressesFamily, Category_Art/ArtistsCinema & Actors/actressesShows, Category_ShowsAdult content, Category_FashionCinema & Actors/actresses, Category_Cinema & Actors/actressesComics & sketchesShows, Category_MusicArt/ArtistsCinema & Actors/actresses, Category_ModelingMusic, Category_LifestyleCinema & Actors/actressesMusic, Category_BeautyFamilyLifestyle]\n",
      "\n",
      "██\n",
      "04:29:24.426: _train param, Dropping bad and constant columns: [Category_Cinema & Actors/actressesHumor & Fun & Happiness, Category_LifestyleCinema & Actors/actressesModeling, Category_Sports with a ballShows, Category_Finance & EconomicsBusiness & Careers, Category_Literature & JournalismTrainers & Coaches, Category_Humor & Fun & HappinessCinema & Actors/actresses, Audience_Country_Kazakhstan, Category_Cinema & Actors/actressesComics & sketches, Audience_Country_Pakistan, Category_Sports with a ballLifestyleKids & Toys, Name, Category_ShowsCinema & Actors/actressesModeling, Category_Animals, Category_ShowsCinema & Actors/actressesLifestyle, Category_ModelingFashionLifestyle, Category_BeautyCinema & Actors/actressesFashion, Category_MusicClothing & Outfits, Category_BeautyArt/ArtistsCinema & Actors/actresses, Category_BeautyHumor & Fun & HappinessCinema & Actors/actresses, Category_Computers & GadgetsBusiness & Careers, Category_Clothing & OutfitsMusic, Category_Machinery & TechnologiesComputers & Gadgets, Category_Art/ArtistsFashionMusic, Category_Cinema & Actors/actressesFamily, Category_Art/ArtistsCinema & Actors/actressesShows, Category_ShowsAdult content, Category_FashionCinema & Actors/actresses, Category_Cinema & Actors/actressesComics & sketchesShows, Category_MusicArt/ArtistsCinema & Actors/actresses, Category_ModelingMusic, Category_LifestyleCinema & Actors/actressesMusic, Category_BeautyFamilyLifestyle]\n",
      "\n",
      "███\n",
      "04:29:34.364: _train param, Dropping bad and constant columns: [Category_Cinema & Actors/actressesHumor & Fun & Happiness, Category_LifestyleCinema & Actors/actressesModeling, Category_Sports with a ballShows, Category_Finance & EconomicsBusiness & Careers, Category_Literature & JournalismTrainers & Coaches, Category_Humor & Fun & HappinessCinema & Actors/actresses, Audience_Country_Kazakhstan, Category_Cinema & Actors/actressesComics & sketches, Audience_Country_Pakistan, Category_Sports with a ballLifestyleKids & Toys, Name, Category_ShowsCinema & Actors/actressesModeling, Category_Animals, Category_ShowsCinema & Actors/actressesLifestyle, Category_ModelingFashionLifestyle, Category_BeautyCinema & Actors/actressesFashion, Category_MusicClothing & Outfits, Category_BeautyArt/ArtistsCinema & Actors/actresses, Category_BeautyHumor & Fun & HappinessCinema & Actors/actresses, Category_Computers & GadgetsBusiness & Careers, Category_Clothing & OutfitsMusic, Category_Machinery & TechnologiesComputers & Gadgets, Category_Art/ArtistsFashionMusic, Category_Cinema & Actors/actressesFamily, Category_Art/ArtistsCinema & Actors/actressesShows, Category_ShowsAdult content, Category_FashionCinema & Actors/actresses, Category_Cinema & Actors/actressesComics & sketchesShows, Category_MusicArt/ArtistsCinema & Actors/actresses, Category_ModelingMusic, Category_LifestyleCinema & Actors/actressesMusic, Category_BeautyFamilyLifestyle]\n",
      "\n",
      "█\n",
      "04:29:37.373: _train param, Dropping bad and constant columns: [Category_Cinema & Actors/actressesHumor & Fun & Happiness, Category_LifestyleCinema & Actors/actressesModeling, Category_Sports with a ballShows, Category_Finance & EconomicsBusiness & Careers, Category_Literature & JournalismTrainers & Coaches, Category_Humor & Fun & HappinessCinema & Actors/actresses, Audience_Country_Kazakhstan, Category_Cinema & Actors/actressesComics & sketches, Audience_Country_Pakistan, Category_Sports with a ballLifestyleKids & Toys, Name, Category_ShowsCinema & Actors/actressesModeling, Category_Animals, Category_ShowsCinema & Actors/actressesLifestyle, Category_ModelingFashionLifestyle, Category_BeautyCinema & Actors/actressesFashion, Category_MusicClothing & Outfits, Category_BeautyArt/ArtistsCinema & Actors/actresses, Category_BeautyHumor & Fun & HappinessCinema & Actors/actresses, Category_Computers & GadgetsBusiness & Careers, Category_Clothing & OutfitsMusic, Category_Machinery & TechnologiesComputers & Gadgets, Category_Art/ArtistsFashionMusic, Category_Cinema & Actors/actressesFamily, Category_Art/ArtistsCinema & Actors/actressesShows, Category_ShowsAdult content, Category_FashionCinema & Actors/actresses, Category_Cinema & Actors/actressesComics & sketchesShows, Category_MusicArt/ArtistsCinema & Actors/actresses, Category_ModelingMusic, Category_LifestyleCinema & Actors/actressesMusic, Category_BeautyFamilyLifestyle]\n",
      "\n",
      "█\n",
      "04:29:40.647: _train param, Dropping bad and constant columns: [Category_Cinema & Actors/actressesHumor & Fun & Happiness, Category_LifestyleCinema & Actors/actressesModeling, Category_Sports with a ballShows, Category_Finance & EconomicsBusiness & Careers, Category_Literature & JournalismTrainers & Coaches, Category_Humor & Fun & HappinessCinema & Actors/actresses, Audience_Country_Kazakhstan, Category_Cinema & Actors/actressesComics & sketches, Audience_Country_Pakistan, Category_Sports with a ballLifestyleKids & Toys, Name, Category_ShowsCinema & Actors/actressesModeling, Category_Animals, Category_ShowsCinema & Actors/actressesLifestyle, Category_ModelingFashionLifestyle, Category_BeautyCinema & Actors/actressesFashion, Category_MusicClothing & Outfits, Category_BeautyArt/ArtistsCinema & Actors/actresses, Category_BeautyHumor & Fun & HappinessCinema & Actors/actresses, Category_Computers & GadgetsBusiness & Careers, Category_Clothing & OutfitsMusic, Category_Machinery & TechnologiesComputers & Gadgets, Category_Art/ArtistsFashionMusic, Category_Cinema & Actors/actressesFamily, Category_Art/ArtistsCinema & Actors/actressesShows, Category_ShowsAdult content, Category_FashionCinema & Actors/actresses, Category_Cinema & Actors/actressesComics & sketchesShows, Category_MusicArt/ArtistsCinema & Actors/actresses, Category_ModelingMusic, Category_LifestyleCinema & Actors/actressesMusic, Category_BeautyFamilyLifestyle]\n",
      "\n",
      "\n",
      "04:29:43.697: _train param, Dropping bad and constant columns: [Category_Cinema & Actors/actressesHumor & Fun & Happiness, Category_LifestyleCinema & Actors/actressesModeling, Category_Sports with a ballShows, Category_Finance & EconomicsBusiness & Careers, Category_Literature & JournalismTrainers & Coaches, Category_Humor & Fun & HappinessCinema & Actors/actresses, Audience_Country_Kazakhstan, Category_Cinema & Actors/actressesComics & sketches, Audience_Country_Pakistan, Category_Sports with a ballLifestyleKids & Toys, Name, Category_ShowsCinema & Actors/actressesModeling, Category_Animals, Category_ShowsCinema & Actors/actressesLifestyle, Category_ModelingFashionLifestyle, Category_BeautyCinema & Actors/actressesFashion, Category_MusicClothing & Outfits, Category_BeautyArt/ArtistsCinema & Actors/actresses, Category_BeautyHumor & Fun & HappinessCinema & Actors/actresses, Category_Computers & GadgetsBusiness & Careers, Category_Clothing & OutfitsMusic, Category_Machinery & TechnologiesComputers & Gadgets, Category_Art/ArtistsFashionMusic, Category_Cinema & Actors/actressesFamily, Category_Art/ArtistsCinema & Actors/actressesShows, Category_ShowsAdult content, Category_FashionCinema & Actors/actresses, Category_Cinema & Actors/actressesComics & sketchesShows, Category_MusicArt/ArtistsCinema & Actors/actresses, Category_ModelingMusic, Category_LifestyleCinema & Actors/actressesMusic, Category_BeautyFamilyLifestyle]\n",
      "\n",
      "█\n",
      "04:29:45.35: _train param, Dropping bad and constant columns: [Category_Cinema & Actors/actressesHumor & Fun & Happiness, Category_LifestyleCinema & Actors/actressesModeling, Category_Sports with a ballShows, Category_Finance & EconomicsBusiness & Careers, Category_Literature & JournalismTrainers & Coaches, Category_Humor & Fun & HappinessCinema & Actors/actresses, Audience_Country_Kazakhstan, Category_Cinema & Actors/actressesComics & sketches, Audience_Country_Pakistan, Category_Sports with a ballLifestyleKids & Toys, Name, Category_ShowsCinema & Actors/actressesModeling, Category_Animals, Category_ShowsCinema & Actors/actressesLifestyle, Category_ModelingFashionLifestyle, Category_BeautyCinema & Actors/actressesFashion, Category_MusicClothing & Outfits, Category_BeautyArt/ArtistsCinema & Actors/actresses, Category_BeautyHumor & Fun & HappinessCinema & Actors/actresses, Category_Computers & GadgetsBusiness & Careers, Category_Clothing & OutfitsMusic, Category_Machinery & TechnologiesComputers & Gadgets, Category_Art/ArtistsFashionMusic, Category_Cinema & Actors/actressesFamily, Category_Art/ArtistsCinema & Actors/actressesShows, Category_ShowsAdult content, Category_FashionCinema & Actors/actresses, Category_Cinema & Actors/actressesComics & sketchesShows, Category_MusicArt/ArtistsCinema & Actors/actresses, Category_ModelingMusic, Category_LifestyleCinema & Actors/actressesMusic, Category_BeautyFamilyLifestyle]\n",
      "\n",
      "█\n",
      "04:29:47.648: _train param, Dropping unused columns: [Category_Cinema & Actors/actressesHumor & Fun & Happiness, Category_LifestyleCinema & Actors/actressesModeling, Category_Sports with a ballShows, Category_Finance & EconomicsBusiness & Careers, Category_Literature & JournalismTrainers & Coaches, Category_Humor & Fun & HappinessCinema & Actors/actresses, Audience_Country_Kazakhstan, Category_Cinema & Actors/actressesComics & sketches, Audience_Country_Pakistan, Category_Sports with a ballLifestyleKids & Toys, Name, Category_ShowsCinema & Actors/actressesModeling, Category_Animals, Category_ShowsCinema & Actors/actressesLifestyle, Category_ModelingFashionLifestyle, Category_BeautyCinema & Actors/actressesFashion, Category_MusicClothing & Outfits, Category_BeautyArt/ArtistsCinema & Actors/actresses, Category_BeautyHumor & Fun & HappinessCinema & Actors/actresses, Category_Computers & GadgetsBusiness & Careers, Category_Clothing & OutfitsMusic, Category_Machinery & TechnologiesComputers & Gadgets, Category_Art/ArtistsFashionMusic, Category_Cinema & Actors/actressesFamily, Category_Art/ArtistsCinema & Actors/actressesShows, Category_ShowsAdult content, Category_FashionCinema & Actors/actresses, Category_Cinema & Actors/actressesComics & sketchesShows, Category_MusicArt/ArtistsCinema & Actors/actresses, Category_ModelingMusic, Category_LifestyleCinema & Actors/actressesMusic, Category_BeautyFamilyLifestyle]\n",
      "04:29:48.333: _train param, Dropping unused columns: [Category_Cinema & Actors/actressesHumor & Fun & Happiness, Category_LifestyleCinema & Actors/actressesModeling, Category_Sports with a ballShows, Category_Finance & EconomicsBusiness & Careers, Category_Literature & JournalismTrainers & Coaches, Category_Humor & Fun & HappinessCinema & Actors/actresses, Audience_Country_Kazakhstan, Category_Cinema & Actors/actressesComics & sketches, Audience_Country_Pakistan, Category_Sports with a ballLifestyleKids & Toys, Name, Category_ShowsCinema & Actors/actressesModeling, Category_Animals, Category_ShowsCinema & Actors/actressesLifestyle, Category_ModelingFashionLifestyle, Category_BeautyCinema & Actors/actressesFashion, Category_MusicClothing & Outfits, Category_BeautyArt/ArtistsCinema & Actors/actresses, Category_BeautyHumor & Fun & HappinessCinema & Actors/actresses, Category_Computers & GadgetsBusiness & Careers, Category_Clothing & OutfitsMusic, Category_Machinery & TechnologiesComputers & Gadgets, Category_Art/ArtistsFashionMusic, Category_Cinema & Actors/actressesFamily, Category_Art/ArtistsCinema & Actors/actressesShows, Category_ShowsAdult content, Category_FashionCinema & Actors/actresses, Category_Cinema & Actors/actressesComics & sketchesShows, Category_MusicArt/ArtistsCinema & Actors/actresses, Category_ModelingMusic, Category_LifestyleCinema & Actors/actressesMusic, Category_BeautyFamilyLifestyle]\n",
      "\n",
      "███████████████████████████████████████████████████| (done) 100%\n"
     ]
    },
    {
     "data": {
      "text/html": [
       "<pre style='margin: 1em 0 1em 0;'>Model Details\n",
       "=============\n",
       "H2OGradientBoostingEstimator : Gradient Boosting Machine\n",
       "Model Key: GBM_2_AutoML_1_20221205_42913\n",
       "</pre>\n",
       "<div style='margin: 1em 0 1em 0;'>\n",
       "<style>\n",
       "\n",
       "#h2o-table-2.h2o-container {\n",
       "  overflow-x: auto;\n",
       "}\n",
       "#h2o-table-2 .h2o-table {\n",
       "  /* width: 100%; */\n",
       "  margin-top: 1em;\n",
       "  margin-bottom: 1em;\n",
       "}\n",
       "#h2o-table-2 .h2o-table caption {\n",
       "  white-space: nowrap;\n",
       "  caption-side: top;\n",
       "  text-align: left;\n",
       "  /* margin-left: 1em; */\n",
       "  margin: 0;\n",
       "  font-size: larger;\n",
       "}\n",
       "#h2o-table-2 .h2o-table thead {\n",
       "  white-space: nowrap; \n",
       "  position: sticky;\n",
       "  top: 0;\n",
       "  box-shadow: 0 -1px inset;\n",
       "}\n",
       "#h2o-table-2 .h2o-table tbody {\n",
       "  overflow: auto;\n",
       "}\n",
       "#h2o-table-2 .h2o-table th,\n",
       "#h2o-table-2 .h2o-table td {\n",
       "  text-align: right;\n",
       "  /* border: 1px solid; */\n",
       "}\n",
       "#h2o-table-2 .h2o-table tr:nth-child(even) {\n",
       "  /* background: #F5F5F5 */\n",
       "}\n",
       "\n",
       "</style>      \n",
       "<div id=\"h2o-table-2\" class=\"h2o-container\">\n",
       "  <table class=\"h2o-table\">\n",
       "    <caption>Model Summary: </caption>\n",
       "    <thead><tr><th></th>\n",
       "<th>number_of_trees</th>\n",
       "<th>number_of_internal_trees</th>\n",
       "<th>model_size_in_bytes</th>\n",
       "<th>min_depth</th>\n",
       "<th>max_depth</th>\n",
       "<th>mean_depth</th>\n",
       "<th>min_leaves</th>\n",
       "<th>max_leaves</th>\n",
       "<th>mean_leaves</th></tr></thead>\n",
       "    <tbody><tr><td></td>\n",
       "<td>23.0</td>\n",
       "<td>23.0</td>\n",
       "<td>8673.0</td>\n",
       "<td>7.0</td>\n",
       "<td>7.0</td>\n",
       "<td>7.0</td>\n",
       "<td>12.0</td>\n",
       "<td>34.0</td>\n",
       "<td>25.217392</td></tr></tbody>\n",
       "  </table>\n",
       "</div>\n",
       "</div>\n",
       "<div style='margin: 1em 0 1em 0;'><pre style='margin: 1em 0 1em 0;'>ModelMetricsRegression: gbm\n",
       "** Reported on train data. **\n",
       "\n",
       "MSE: 1400987146252026.8\n",
       "RMSE: 37429762.839911595\n",
       "MAE: 15983825.03576538\n",
       "RMSLE: 0.6840368220958998\n",
       "Mean Residual Deviance: 1400987146252026.8</pre></div>\n",
       "<div style='margin: 1em 0 1em 0;'><pre style='margin: 1em 0 1em 0;'>ModelMetricsRegression: gbm\n",
       "** Reported on cross-validation data. **\n",
       "\n",
       "MSE: 1932185062130291.8\n",
       "RMSE: 43956627.055886485\n",
       "MAE: 18834662.679323833\n",
       "RMSLE: 0.7885596959132166\n",
       "Mean Residual Deviance: 1932185062130291.8</pre></div>\n",
       "<div style='margin: 1em 0 1em 0;'>\n",
       "<style>\n",
       "\n",
       "#h2o-table-3.h2o-container {\n",
       "  overflow-x: auto;\n",
       "}\n",
       "#h2o-table-3 .h2o-table {\n",
       "  /* width: 100%; */\n",
       "  margin-top: 1em;\n",
       "  margin-bottom: 1em;\n",
       "}\n",
       "#h2o-table-3 .h2o-table caption {\n",
       "  white-space: nowrap;\n",
       "  caption-side: top;\n",
       "  text-align: left;\n",
       "  /* margin-left: 1em; */\n",
       "  margin: 0;\n",
       "  font-size: larger;\n",
       "}\n",
       "#h2o-table-3 .h2o-table thead {\n",
       "  white-space: nowrap; \n",
       "  position: sticky;\n",
       "  top: 0;\n",
       "  box-shadow: 0 -1px inset;\n",
       "}\n",
       "#h2o-table-3 .h2o-table tbody {\n",
       "  overflow: auto;\n",
       "}\n",
       "#h2o-table-3 .h2o-table th,\n",
       "#h2o-table-3 .h2o-table td {\n",
       "  text-align: right;\n",
       "  /* border: 1px solid; */\n",
       "}\n",
       "#h2o-table-3 .h2o-table tr:nth-child(even) {\n",
       "  /* background: #F5F5F5 */\n",
       "}\n",
       "\n",
       "</style>      \n",
       "<div id=\"h2o-table-3\" class=\"h2o-container\">\n",
       "  <table class=\"h2o-table\">\n",
       "    <caption>Cross-Validation Metrics Summary: </caption>\n",
       "    <thead><tr><th></th>\n",
       "<th>mean</th>\n",
       "<th>sd</th>\n",
       "<th>cv_1_valid</th>\n",
       "<th>cv_2_valid</th>\n",
       "<th>cv_3_valid</th>\n",
       "<th>cv_4_valid</th>\n",
       "<th>cv_5_valid</th></tr></thead>\n",
       "    <tbody><tr><td>mae</td>\n",
       "<td>18962178.0000000</td>\n",
       "<td>1993141.6</td>\n",
       "<td>20001370.0000000</td>\n",
       "<td>20802762.0000000</td>\n",
       "<td>17417340.0000000</td>\n",
       "<td>16276638.0000000</td>\n",
       "<td>20312782.0000000</td></tr>\n",
       "<tr><td>mean_residual_deviance</td>\n",
       "<td>1983444490000000.0000000</td>\n",
       "<td>1043718660000000.0000000</td>\n",
       "<td>2393380730000000.0000000</td>\n",
       "<td>3628653850000000.0000000</td>\n",
       "<td>1258725390000000.0000000</td>\n",
       "<td>1127971960000000.0000000</td>\n",
       "<td>1508490090000000.0000000</td></tr>\n",
       "<tr><td>mse</td>\n",
       "<td>1983444490000000.0000000</td>\n",
       "<td>1043718660000000.0000000</td>\n",
       "<td>2393380730000000.0000000</td>\n",
       "<td>3628653850000000.0000000</td>\n",
       "<td>1258725390000000.0000000</td>\n",
       "<td>1127971960000000.0000000</td>\n",
       "<td>1508490090000000.0000000</td></tr>\n",
       "<tr><td>r2</td>\n",
       "<td>0.1663200</td>\n",
       "<td>0.0585108</td>\n",
       "<td>0.1977258</td>\n",
       "<td>0.1531934</td>\n",
       "<td>0.1757822</td>\n",
       "<td>0.0747928</td>\n",
       "<td>0.2301058</td></tr>\n",
       "<tr><td>residual_deviance</td>\n",
       "<td>1983444490000000.0000000</td>\n",
       "<td>1043718660000000.0000000</td>\n",
       "<td>2393380730000000.0000000</td>\n",
       "<td>3628653850000000.0000000</td>\n",
       "<td>1258725390000000.0000000</td>\n",
       "<td>1127971960000000.0000000</td>\n",
       "<td>1508490090000000.0000000</td></tr>\n",
       "<tr><td>rmse</td>\n",
       "<td>43412720.0000000</td>\n",
       "<td>11111940.0000000</td>\n",
       "<td>48922192.0000000</td>\n",
       "<td>60238308.0000000</td>\n",
       "<td>35478520.0000000</td>\n",
       "<td>33585296.0000000</td>\n",
       "<td>38839284.0000000</td></tr>\n",
       "<tr><td>rmsle</td>\n",
       "<td>0.7839571</td>\n",
       "<td>0.0139394</td>\n",
       "<td>0.7930145</td>\n",
       "<td>0.7605461</td>\n",
       "<td>0.7959467</td>\n",
       "<td>0.7856755</td>\n",
       "<td>0.7846028</td></tr></tbody>\n",
       "  </table>\n",
       "</div>\n",
       "</div>\n",
       "<div style='margin: 1em 0 1em 0;'>\n",
       "<style>\n",
       "\n",
       "#h2o-table-4.h2o-container {\n",
       "  overflow-x: auto;\n",
       "}\n",
       "#h2o-table-4 .h2o-table {\n",
       "  /* width: 100%; */\n",
       "  margin-top: 1em;\n",
       "  margin-bottom: 1em;\n",
       "}\n",
       "#h2o-table-4 .h2o-table caption {\n",
       "  white-space: nowrap;\n",
       "  caption-side: top;\n",
       "  text-align: left;\n",
       "  /* margin-left: 1em; */\n",
       "  margin: 0;\n",
       "  font-size: larger;\n",
       "}\n",
       "#h2o-table-4 .h2o-table thead {\n",
       "  white-space: nowrap; \n",
       "  position: sticky;\n",
       "  top: 0;\n",
       "  box-shadow: 0 -1px inset;\n",
       "}\n",
       "#h2o-table-4 .h2o-table tbody {\n",
       "  overflow: auto;\n",
       "}\n",
       "#h2o-table-4 .h2o-table th,\n",
       "#h2o-table-4 .h2o-table td {\n",
       "  text-align: right;\n",
       "  /* border: 1px solid; */\n",
       "}\n",
       "#h2o-table-4 .h2o-table tr:nth-child(even) {\n",
       "  /* background: #F5F5F5 */\n",
       "}\n",
       "\n",
       "</style>      \n",
       "<div id=\"h2o-table-4\" class=\"h2o-container\">\n",
       "  <table class=\"h2o-table\">\n",
       "    <caption>Scoring History: </caption>\n",
       "    <thead><tr><th></th>\n",
       "<th>timestamp</th>\n",
       "<th>duration</th>\n",
       "<th>number_of_trees</th>\n",
       "<th>training_rmse</th>\n",
       "<th>training_mae</th>\n",
       "<th>training_deviance</th></tr></thead>\n",
       "    <tbody><tr><td></td>\n",
       "<td>2022-12-05 04:29:36</td>\n",
       "<td> 2.539 sec</td>\n",
       "<td>0.0</td>\n",
       "<td>49030897.3308063</td>\n",
       "<td>23017489.9355509</td>\n",
       "<td>2404028893064073.0000000</td></tr>\n",
       "<tr><td></td>\n",
       "<td>2022-12-05 04:29:36</td>\n",
       "<td> 2.621 sec</td>\n",
       "<td>5.0</td>\n",
       "<td>43804004.3411695</td>\n",
       "<td>19397652.6838340</td>\n",
       "<td>1918790796321198.0000000</td></tr>\n",
       "<tr><td></td>\n",
       "<td>2022-12-05 04:29:37</td>\n",
       "<td> 2.693 sec</td>\n",
       "<td>10.0</td>\n",
       "<td>41202476.2415072</td>\n",
       "<td>17895197.2918455</td>\n",
       "<td>1697644048431962.7500000</td></tr>\n",
       "<tr><td></td>\n",
       "<td>2022-12-05 04:29:37</td>\n",
       "<td> 2.765 sec</td>\n",
       "<td>15.0</td>\n",
       "<td>39281173.2551214</td>\n",
       "<td>16904296.2517883</td>\n",
       "<td>1543010572298866.0000000</td></tr>\n",
       "<tr><td></td>\n",
       "<td>2022-12-05 04:29:37</td>\n",
       "<td> 2.873 sec</td>\n",
       "<td>20.0</td>\n",
       "<td>38046136.2417439</td>\n",
       "<td>16277892.4806867</td>\n",
       "<td>1447508482925337.7500000</td></tr>\n",
       "<tr><td></td>\n",
       "<td>2022-12-05 04:29:37</td>\n",
       "<td> 2.965 sec</td>\n",
       "<td>23.0</td>\n",
       "<td>37429762.8399116</td>\n",
       "<td>15983825.0357654</td>\n",
       "<td>1400987146252026.7500000</td></tr></tbody>\n",
       "  </table>\n",
       "</div>\n",
       "</div>\n",
       "<div style='margin: 1em 0 1em 0;'>\n",
       "<style>\n",
       "\n",
       "#h2o-table-5.h2o-container {\n",
       "  overflow-x: auto;\n",
       "}\n",
       "#h2o-table-5 .h2o-table {\n",
       "  /* width: 100%; */\n",
       "  margin-top: 1em;\n",
       "  margin-bottom: 1em;\n",
       "}\n",
       "#h2o-table-5 .h2o-table caption {\n",
       "  white-space: nowrap;\n",
       "  caption-side: top;\n",
       "  text-align: left;\n",
       "  /* margin-left: 1em; */\n",
       "  margin: 0;\n",
       "  font-size: larger;\n",
       "}\n",
       "#h2o-table-5 .h2o-table thead {\n",
       "  white-space: nowrap; \n",
       "  position: sticky;\n",
       "  top: 0;\n",
       "  box-shadow: 0 -1px inset;\n",
       "}\n",
       "#h2o-table-5 .h2o-table tbody {\n",
       "  overflow: auto;\n",
       "}\n",
       "#h2o-table-5 .h2o-table th,\n",
       "#h2o-table-5 .h2o-table td {\n",
       "  text-align: right;\n",
       "  /* border: 1px solid; */\n",
       "}\n",
       "#h2o-table-5 .h2o-table tr:nth-child(even) {\n",
       "  /* background: #F5F5F5 */\n",
       "}\n",
       "\n",
       "</style>      \n",
       "<div id=\"h2o-table-5\" class=\"h2o-container\">\n",
       "  <table class=\"h2o-table\">\n",
       "    <caption>Variable Importances: </caption>\n",
       "    <thead><tr><th>variable</th>\n",
       "<th>relative_importance</th>\n",
       "<th>scaled_importance</th>\n",
       "<th>percentage</th></tr></thead>\n",
       "    <tbody><tr><td>Authentic_Engagement</td>\n",
       "<td>2823688246884564992.0000000</td>\n",
       "<td>1.0</td>\n",
       "<td>0.7640545</td></tr>\n",
       "<tr><td>Audience_Country_United States</td>\n",
       "<td>490481073315119104.0000000</td>\n",
       "<td>0.1737023</td>\n",
       "<td>0.1327180</td></tr>\n",
       "<tr><td>Audience_Country_India</td>\n",
       "<td>174723031992631296.0000000</td>\n",
       "<td>0.0618776</td>\n",
       "<td>0.0472779</td></tr>\n",
       "<tr><td>Category_Sports with a ball</td>\n",
       "<td>67194389683765248.0000000</td>\n",
       "<td>0.0237967</td>\n",
       "<td>0.0181820</td></tr>\n",
       "<tr><td>Category_Music</td>\n",
       "<td>44510163427655680.0000000</td>\n",
       "<td>0.0157631</td>\n",
       "<td>0.0120439</td></tr>\n",
       "<tr><td>Category_Cinema & Actors/actresses</td>\n",
       "<td>32294183368654848.0000000</td>\n",
       "<td>0.0114369</td>\n",
       "<td>0.0087384</td></tr>\n",
       "<tr><td>Audience_Country_Brazil</td>\n",
       "<td>24224311334141952.0000000</td>\n",
       "<td>0.0085790</td>\n",
       "<td>0.0065548</td></tr>\n",
       "<tr><td>Audience_Country_Argentina</td>\n",
       "<td>18909044492206080.0000000</td>\n",
       "<td>0.0066966</td>\n",
       "<td>0.0051165</td></tr>\n",
       "<tr><td>Audience_Country_Indonesia</td>\n",
       "<td>8167464428896256.0000000</td>\n",
       "<td>0.0028925</td>\n",
       "<td>0.0022100</td></tr>\n",
       "<tr><td>Category_Lifestyle</td>\n",
       "<td>5646952133820416.0000000</td>\n",
       "<td>0.0019998</td>\n",
       "<td>0.0015280</td></tr>\n",
       "<tr><td>---</td>\n",
       "<td>---</td>\n",
       "<td>---</td>\n",
       "<td>---</td></tr>\n",
       "<tr><td>Audience_Country_Nigeria</td>\n",
       "<td>0.0</td>\n",
       "<td>0.0</td>\n",
       "<td>0.0</td></tr>\n",
       "<tr><td>Audience_Country_Philippines</td>\n",
       "<td>0.0</td>\n",
       "<td>0.0</td>\n",
       "<td>0.0</td></tr>\n",
       "<tr><td>Audience_Country_Poland</td>\n",
       "<td>0.0</td>\n",
       "<td>0.0</td>\n",
       "<td>0.0</td></tr>\n",
       "<tr><td>Audience_Country_Russia</td>\n",
       "<td>0.0</td>\n",
       "<td>0.0</td>\n",
       "<td>0.0</td></tr>\n",
       "<tr><td>Audience_Country_Senegal</td>\n",
       "<td>0.0</td>\n",
       "<td>0.0</td>\n",
       "<td>0.0</td></tr>\n",
       "<tr><td>Audience_Country_South Korea</td>\n",
       "<td>0.0</td>\n",
       "<td>0.0</td>\n",
       "<td>0.0</td></tr>\n",
       "<tr><td>Audience_Country_Syria</td>\n",
       "<td>0.0</td>\n",
       "<td>0.0</td>\n",
       "<td>0.0</td></tr>\n",
       "<tr><td>Audience_Country_Thailand</td>\n",
       "<td>0.0</td>\n",
       "<td>0.0</td>\n",
       "<td>0.0</td></tr>\n",
       "<tr><td>Audience_Country_Turkey</td>\n",
       "<td>0.0</td>\n",
       "<td>0.0</td>\n",
       "<td>0.0</td></tr>\n",
       "<tr><td>Audience_Country_United Arab Emirates</td>\n",
       "<td>0.0</td>\n",
       "<td>0.0</td>\n",
       "<td>0.0</td></tr></tbody>\n",
       "  </table>\n",
       "</div>\n",
       "<pre style='font-size: smaller; margin-bottom: 1em;'>[156 rows x 4 columns]</pre></div><pre style=\"font-size: smaller; margin: 1em 0 0 0;\">\n",
       "\n",
       "[tips]\n",
       "Use `model.explain()` to inspect the model.\n",
       "--\n",
       "Use `h2o.display.toggle_user_tips()` to switch on/off this section.</pre>"
      ],
      "text/plain": [
       "Model Details\n",
       "=============\n",
       "H2OGradientBoostingEstimator : Gradient Boosting Machine\n",
       "Model Key: GBM_2_AutoML_1_20221205_42913\n",
       "\n",
       "\n",
       "Model Summary: \n",
       "    number_of_trees    number_of_internal_trees    model_size_in_bytes    min_depth    max_depth    mean_depth    min_leaves    max_leaves    mean_leaves\n",
       "--  -----------------  --------------------------  ---------------------  -----------  -----------  ------------  ------------  ------------  -------------\n",
       "    23                 23                          8673                   7            7            7             12            34            25.2174\n",
       "\n",
       "ModelMetricsRegression: gbm\n",
       "** Reported on train data. **\n",
       "\n",
       "MSE: 1400987146252026.8\n",
       "RMSE: 37429762.839911595\n",
       "MAE: 15983825.03576538\n",
       "RMSLE: 0.6840368220958998\n",
       "Mean Residual Deviance: 1400987146252026.8\n",
       "\n",
       "ModelMetricsRegression: gbm\n",
       "** Reported on cross-validation data. **\n",
       "\n",
       "MSE: 1932185062130291.8\n",
       "RMSE: 43956627.055886485\n",
       "MAE: 18834662.679323833\n",
       "RMSLE: 0.7885596959132166\n",
       "Mean Residual Deviance: 1932185062130291.8\n",
       "\n",
       "Cross-Validation Metrics Summary: \n",
       "                        mean         sd           cv_1_valid    cv_2_valid    cv_3_valid    cv_4_valid    cv_5_valid\n",
       "----------------------  -----------  -----------  ------------  ------------  ------------  ------------  ------------\n",
       "mae                     1.89622e+07  1.99314e+06  2.00014e+07   2.08028e+07   1.74173e+07   1.62766e+07   2.03128e+07\n",
       "mean_residual_deviance  1.98344e+15  1.04372e+15  2.39338e+15   3.62865e+15   1.25873e+15   1.12797e+15   1.50849e+15\n",
       "mse                     1.98344e+15  1.04372e+15  2.39338e+15   3.62865e+15   1.25873e+15   1.12797e+15   1.50849e+15\n",
       "r2                      0.16632      0.0585108    0.197726      0.153193      0.175782      0.0747928     0.230106\n",
       "residual_deviance       1.98344e+15  1.04372e+15  2.39338e+15   3.62865e+15   1.25873e+15   1.12797e+15   1.50849e+15\n",
       "rmse                    4.34127e+07  1.11119e+07  4.89222e+07   6.02383e+07   3.54785e+07   3.35853e+07   3.88393e+07\n",
       "rmsle                   0.783957     0.0139394    0.793014      0.760546      0.795947      0.785675      0.784603\n",
       "\n",
       "Scoring History: \n",
       "    timestamp            duration    number_of_trees    training_rmse    training_mae    training_deviance\n",
       "--  -------------------  ----------  -----------------  ---------------  --------------  -------------------\n",
       "    2022-12-05 04:29:36  2.539 sec   0                  4.90309e+07      2.30175e+07     2.40403e+15\n",
       "    2022-12-05 04:29:36  2.621 sec   5                  4.3804e+07       1.93977e+07     1.91879e+15\n",
       "    2022-12-05 04:29:37  2.693 sec   10                 4.12025e+07      1.78952e+07     1.69764e+15\n",
       "    2022-12-05 04:29:37  2.765 sec   15                 3.92812e+07      1.69043e+07     1.54301e+15\n",
       "    2022-12-05 04:29:37  2.873 sec   20                 3.80461e+07      1.62779e+07     1.44751e+15\n",
       "    2022-12-05 04:29:37  2.965 sec   23                 3.74298e+07      1.59838e+07     1.40099e+15\n",
       "\n",
       "Variable Importances: \n",
       "variable                               relative_importance    scaled_importance      percentage\n",
       "-------------------------------------  ---------------------  ---------------------  ---------------------\n",
       "Authentic_Engagement                   2.823688246884565e+18  1.0                    0.7640545303299557\n",
       "Audience_Country_United States         4.904810733151191e+17  0.17370227533307803    0.1327180103968596\n",
       "Audience_Country_India                 1.747230319926313e+17  0.061877592962115036   0.04727785522861697\n",
       "Category_Sports with a ball            6.719438968376525e+16  0.02379667435238371    0.01818195684572544\n",
       "Category_Music                         4.451016342765568e+16  0.015763129473221657   0.012043890486192657\n",
       "Category_Cinema & Actors/actresses     3.229418336865485e+16  0.011436879904956117   0.008738399904221355\n",
       "Audience_Country_Brazil                2.422431133414195e+16  0.008578960995736391   0.006554794014316378\n",
       "Audience_Country_Argentina             1.890904449220608e+16  0.006696576547736397   0.00511654964899933\n",
       "Audience_Country_Indonesia             8167464428896256.0     0.0028924809379745064  0.0022100131645524613\n",
       "Category_Lifestyle                     5646952133820416.0     0.001999849714305684   0.0015279942341943258\n",
       "---                                    ---                    ---                    ---\n",
       "Audience_Country_Nigeria               0.0                    0.0                    0.0\n",
       "Audience_Country_Philippines           0.0                    0.0                    0.0\n",
       "Audience_Country_Poland                0.0                    0.0                    0.0\n",
       "Audience_Country_Russia                0.0                    0.0                    0.0\n",
       "Audience_Country_Senegal               0.0                    0.0                    0.0\n",
       "Audience_Country_South Korea           0.0                    0.0                    0.0\n",
       "Audience_Country_Syria                 0.0                    0.0                    0.0\n",
       "Audience_Country_Thailand              0.0                    0.0                    0.0\n",
       "Audience_Country_Turkey                0.0                    0.0                    0.0\n",
       "Audience_Country_United Arab Emirates  0.0                    0.0                    0.0\n",
       "[156 rows x 4 columns]\n",
       "\n",
       "\n",
       "[tips]\n",
       "Use `model.explain()` to inspect the model.\n",
       "--\n",
       "Use `h2o.display.toggle_user_tips()` to switch on/off this section."
      ]
     },
     "execution_count": 31,
     "metadata": {},
     "output_type": "execute_result"
    }
   ],
   "source": [
    "#training model\n",
    "aml.train(x=x, y=y, training_frame=train)"
   ]
  },
  {
   "cell_type": "code",
   "execution_count": 32,
   "id": "0ab45f07",
   "metadata": {
    "execution": {
     "iopub.execute_input": "2022-12-05T04:29:51.636303Z",
     "iopub.status.busy": "2022-12-05T04:29:51.635913Z",
     "iopub.status.idle": "2022-12-05T04:29:51.658092Z",
     "shell.execute_reply": "2022-12-05T04:29:51.657183Z"
    },
    "papermill": {
     "duration": 0.051403,
     "end_time": "2022-12-05T04:29:51.660377",
     "exception": false,
     "start_time": "2022-12-05T04:29:51.608974",
     "status": "completed"
    },
    "tags": []
   },
   "outputs": [
    {
     "data": {
      "text/html": [
       "<table class='dataframe'>\n",
       "<thead>\n",
       "<tr><th>model_id                                              </th><th style=\"text-align: right;\">       rmse</th><th style=\"text-align: right;\">        mse</th><th style=\"text-align: right;\">        mae</th><th style=\"text-align: right;\">     rmsle</th><th style=\"text-align: right;\">  mean_residual_deviance</th></tr>\n",
       "</thead>\n",
       "<tbody>\n",
       "<tr><td>GBM_2_AutoML_1_20221205_42913                         </td><td style=\"text-align: right;\">4.39566e+07</td><td style=\"text-align: right;\">1.93219e+15</td><td style=\"text-align: right;\">1.88347e+07</td><td style=\"text-align: right;\">  0.78856 </td><td style=\"text-align: right;\">             1.93219e+15</td></tr>\n",
       "<tr><td>GBM_3_AutoML_1_20221205_42913                         </td><td style=\"text-align: right;\">4.41098e+07</td><td style=\"text-align: right;\">1.94567e+15</td><td style=\"text-align: right;\">1.92509e+07</td><td style=\"text-align: right;\">  0.797028</td><td style=\"text-align: right;\">             1.94567e+15</td></tr>\n",
       "<tr><td>GBM_4_AutoML_1_20221205_42913                         </td><td style=\"text-align: right;\">4.419e+07  </td><td style=\"text-align: right;\">1.95275e+15</td><td style=\"text-align: right;\">1.88814e+07</td><td style=\"text-align: right;\">  0.804192</td><td style=\"text-align: right;\">             1.95275e+15</td></tr>\n",
       "<tr><td>StackedEnsemble_BestOfFamily_1_AutoML_1_20221205_42913</td><td style=\"text-align: right;\">4.42918e+07</td><td style=\"text-align: right;\">1.96176e+15</td><td style=\"text-align: right;\">1.91789e+07</td><td style=\"text-align: right;\">  0.813659</td><td style=\"text-align: right;\">             1.96176e+15</td></tr>\n",
       "<tr><td>StackedEnsemble_AllModels_1_AutoML_1_20221205_42913   </td><td style=\"text-align: right;\">4.43611e+07</td><td style=\"text-align: right;\">1.96791e+15</td><td style=\"text-align: right;\">1.91937e+07</td><td style=\"text-align: right;\">nan       </td><td style=\"text-align: right;\">             1.96791e+15</td></tr>\n",
       "<tr><td>GBM_1_AutoML_1_20221205_42913                         </td><td style=\"text-align: right;\">4.52883e+07</td><td style=\"text-align: right;\">2.05103e+15</td><td style=\"text-align: right;\">1.98721e+07</td><td style=\"text-align: right;\">  0.848972</td><td style=\"text-align: right;\">             2.05103e+15</td></tr>\n",
       "<tr><td>XGBoost_1_AutoML_1_20221205_42913                     </td><td style=\"text-align: right;\">4.57606e+07</td><td style=\"text-align: right;\">2.09403e+15</td><td style=\"text-align: right;\">1.98922e+07</td><td style=\"text-align: right;\">nan       </td><td style=\"text-align: right;\">             2.09403e+15</td></tr>\n",
       "<tr><td>XGBoost_2_AutoML_1_20221205_42913                     </td><td style=\"text-align: right;\">4.62117e+07</td><td style=\"text-align: right;\">2.13552e+15</td><td style=\"text-align: right;\">2.05021e+07</td><td style=\"text-align: right;\">nan       </td><td style=\"text-align: right;\">             2.13552e+15</td></tr>\n",
       "<tr><td>DRF_1_AutoML_1_20221205_42913                         </td><td style=\"text-align: right;\">4.77e+07   </td><td style=\"text-align: right;\">2.27529e+15</td><td style=\"text-align: right;\">1.77307e+07</td><td style=\"text-align: right;\">  0.772675</td><td style=\"text-align: right;\">             2.27529e+15</td></tr>\n",
       "<tr><td>GLM_1_AutoML_1_20221205_42913                         </td><td style=\"text-align: right;\">4.90803e+07</td><td style=\"text-align: right;\">2.40887e+15</td><td style=\"text-align: right;\">2.3019e+07 </td><td style=\"text-align: right;\">  1.05966 </td><td style=\"text-align: right;\">             2.40887e+15</td></tr>\n",
       "<tr><td>XGBoost_3_AutoML_1_20221205_42913                     </td><td style=\"text-align: right;\">4.91708e+07</td><td style=\"text-align: right;\">2.41777e+15</td><td style=\"text-align: right;\">2.02886e+07</td><td style=\"text-align: right;\">nan       </td><td style=\"text-align: right;\">             2.41777e+15</td></tr>\n",
       "<tr><td>XRT_1_AutoML_1_20221205_42913                         </td><td style=\"text-align: right;\">5.39267e+07</td><td style=\"text-align: right;\">2.90809e+15</td><td style=\"text-align: right;\">4.03485e+07</td><td style=\"text-align: right;\">  1.42741 </td><td style=\"text-align: right;\">             2.90809e+15</td></tr>\n",
       "</tbody>\n",
       "</table><pre style='font-size: smaller; margin-bottom: 1em;'>[12 rows x 6 columns]</pre>"
      ],
      "text/plain": [
       "model_id                                                       rmse          mse          mae       rmsle    mean_residual_deviance\n",
       "------------------------------------------------------  -----------  -----------  -----------  ----------  ------------------------\n",
       "GBM_2_AutoML_1_20221205_42913                           4.39566e+07  1.93219e+15  1.88347e+07    0.78856                1.93219e+15\n",
       "GBM_3_AutoML_1_20221205_42913                           4.41098e+07  1.94567e+15  1.92509e+07    0.797028               1.94567e+15\n",
       "GBM_4_AutoML_1_20221205_42913                           4.419e+07    1.95275e+15  1.88814e+07    0.804192               1.95275e+15\n",
       "StackedEnsemble_BestOfFamily_1_AutoML_1_20221205_42913  4.42918e+07  1.96176e+15  1.91789e+07    0.813659               1.96176e+15\n",
       "StackedEnsemble_AllModels_1_AutoML_1_20221205_42913     4.43611e+07  1.96791e+15  1.91937e+07  nan                      1.96791e+15\n",
       "GBM_1_AutoML_1_20221205_42913                           4.52883e+07  2.05103e+15  1.98721e+07    0.848972               2.05103e+15\n",
       "XGBoost_1_AutoML_1_20221205_42913                       4.57606e+07  2.09403e+15  1.98922e+07  nan                      2.09403e+15\n",
       "XGBoost_2_AutoML_1_20221205_42913                       4.62117e+07  2.13552e+15  2.05021e+07  nan                      2.13552e+15\n",
       "DRF_1_AutoML_1_20221205_42913                           4.77e+07     2.27529e+15  1.77307e+07    0.772675               2.27529e+15\n",
       "GLM_1_AutoML_1_20221205_42913                           4.90803e+07  2.40887e+15  2.3019e+07     1.05966                2.40887e+15\n",
       "XGBoost_3_AutoML_1_20221205_42913                       4.91708e+07  2.41777e+15  2.02886e+07  nan                      2.41777e+15\n",
       "XRT_1_AutoML_1_20221205_42913                           5.39267e+07  2.90809e+15  4.03485e+07    1.42741                2.90809e+15\n",
       "[12 rows x 6 columns]\n"
      ]
     },
     "execution_count": 32,
     "metadata": {},
     "output_type": "execute_result"
    }
   ],
   "source": [
    "lb = aml.leaderboard\n",
    "lb.head(rows=lb.nrows) "
   ]
  },
  {
   "cell_type": "markdown",
   "id": "66f00497",
   "metadata": {
    "papermill": {
     "duration": 0.025966,
     "end_time": "2022-12-05T04:29:51.712659",
     "exception": false,
     "start_time": "2022-12-05T04:29:51.686693",
     "status": "completed"
    },
    "tags": []
   },
   "source": [
    "# 3.model interpret"
   ]
  },
  {
   "cell_type": "markdown",
   "id": "9f4b38b5",
   "metadata": {
    "papermill": {
     "duration": 0.025377,
     "end_time": "2022-12-05T04:29:51.763692",
     "exception": false,
     "start_time": "2022-12-05T04:29:51.738315",
     "status": "completed"
    },
    "tags": []
   },
   "source": [
    "## Partial Dependence"
   ]
  },
  {
   "cell_type": "code",
   "execution_count": 33,
   "id": "d05f1c6a",
   "metadata": {
    "execution": {
     "iopub.execute_input": "2022-12-05T04:29:51.818288Z",
     "iopub.status.busy": "2022-12-05T04:29:51.817880Z",
     "iopub.status.idle": "2022-12-05T04:29:54.709514Z",
     "shell.execute_reply": "2022-12-05T04:29:54.708539Z"
    },
    "papermill": {
     "duration": 2.922147,
     "end_time": "2022-12-05T04:29:54.712028",
     "exception": false,
     "start_time": "2022-12-05T04:29:51.789881",
     "status": "completed"
    },
    "tags": []
   },
   "outputs": [
    {
     "data": {
      "image/png": "[encoded data removed]",
      "text/plain": [
       "<Figure size 1152x648 with 1 Axes>"
      ]
     },
     "metadata": {
      "needs_background": "light"
     },
     "output_type": "display_data"
    }
   ],
   "source": [
    "pd_plot = aml.pd_multi_plot(test, \"Authentic_Engagement\")"
   ]
  },
  {
   "cell_type": "markdown",
   "id": "9d1ca346",
   "metadata": {
    "papermill": {
     "duration": 0.018673,
     "end_time": "2022-12-05T04:29:54.749605",
     "exception": false,
     "start_time": "2022-12-05T04:29:54.730932",
     "status": "completed"
    },
    "tags": []
   },
   "source": [
    "Partial dependence plots reflect the expected output of the model if we were to intervene and change exactly one of the model parameters. but there is a problem. A partial dependence plot has no vertical dispersion and so no indication of how much interaction effects are driving the model’s predictions."
   ]
  },
  {
   "cell_type": "markdown",
   "id": "a60e13fe",
   "metadata": {
    "papermill": {
     "duration": 0.018376,
     "end_time": "2022-12-05T04:29:54.787130",
     "exception": false,
     "start_time": "2022-12-05T04:29:54.768754",
     "status": "completed"
    },
    "tags": []
   },
   "source": [
    "## shap analysis"
   ]
  },
  {
   "cell_type": "code",
   "execution_count": 34,
   "id": "3745fb17",
   "metadata": {
    "execution": {
     "iopub.execute_input": "2022-12-05T04:29:54.828940Z",
     "iopub.status.busy": "2022-12-05T04:29:54.828173Z",
     "iopub.status.idle": "2022-12-05T04:29:57.227196Z",
     "shell.execute_reply": "2022-12-05T04:29:57.226247Z"
    },
    "papermill": {
     "duration": 2.423304,
     "end_time": "2022-12-05T04:29:57.229777",
     "exception": false,
     "start_time": "2022-12-05T04:29:54.806473",
     "status": "completed"
    },
    "tags": []
   },
   "outputs": [
    {
     "name": "stderr",
     "output_type": "stream",
     "text": [
      "/opt/conda/lib/python3.7/site-packages/h2o/explanation/_explain.py:581: RuntimeWarning: invalid value encountered in true_divide\n",
      "  res = (res - np.nanmin(res)) / (np.nanmax(res) - np.nanmin(res))\n"
     ]
    },
    {
     "data": {
      "image/png": "[encoded data removed]",
      "text/plain": [
       "<Figure size 864x864 with 2 Axes>"
      ]
     },
     "metadata": {
      "needs_background": "light"
     },
     "output_type": "display_data"
    }
   ],
   "source": [
    "model= aml.get_best_model()\n",
    "shap_plot = model.shap_summary_plot(test)"
   ]
  },
  {
   "cell_type": "markdown",
   "id": "f26959f5",
   "metadata": {
    "papermill": {
     "duration": 0.019499,
     "end_time": "2022-12-05T04:29:57.269961",
     "exception": false,
     "start_time": "2022-12-05T04:29:57.250462",
     "status": "completed"
    },
    "tags": []
   },
   "source": [
    "Observations:\n",
    "the number of Follower is associated with the following characteristics:\n",
    "\n",
    "low Authentic engagement\n",
    "\n",
    "audience country among United States, India, and Argentina\n",
    "\n",
    "category among Music, sports with a ball and Cinema&Actors/Actresses\n",
    "\n",
    "In the summary plot, we see first indications of the relationship between the value of a feature and the impact on the prediction. But to see the exact form of the relationship, we have to look at SHAP dependence plots."
   ]
  },
  {
   "cell_type": "markdown",
   "id": "ff0f34ab",
   "metadata": {
    "papermill": {
     "duration": 0.019099,
     "end_time": "2022-12-05T04:29:57.308148",
     "exception": false,
     "start_time": "2022-12-05T04:29:57.289049",
     "status": "completed"
    },
    "tags": []
   },
   "source": [
    "# Reference and license"
   ]
  },
  {
   "cell_type": "markdown",
   "id": "cd1c443e",
   "metadata": {
    "papermill": {
     "duration": 0.019022,
     "end_time": "2022-12-05T04:29:57.346158",
     "exception": false,
     "start_time": "2022-12-05T04:29:57.327136",
     "status": "completed"
    },
    "tags": []
   },
   "source": [
    "Sckit learn offcial documentation\n",
    "\n",
    "Eli5 official documentation\n",
    "\n",
    "Refered Towards Data Science\n",
    "\n",
    "H2o.ai official documentation\n",
    "\n",
    "The algorithms were referred directly from the Sckit learn official documentation and h2o introduction.\n",
    "\n",
    "Visualization was referred from Tutorials in Matplotlab documentation. \n",
    "\n",
    "SHAP Summary was referred from Tutorial in github: AISkunks/Klee/SHAP\n",
    "\n",
    "The remaining code was written independently.\n",
    "\n",
    "Copyright (c) 2022 Yu An\n",
    "\n",
    "Permission is hereby granted, free of charge, to any person obtaining a copy of this software and associated documentation files (the \"Software\"), to deal in the Software without restriction, including without limitation the rights to use, copy, modify, merge, publish, distribute, sublicense, and/or sell copies of the Software, and to permit persons to whom the Software is furnished to do so, subject to the following conditions:\n",
    "\n",
    "The above copyright notice and this permission notice shall be included in all copies or substantial portions of the Software.\n",
    "\n",
    "THE SOFTWARE IS PROVIDED \"AS IS\", WITHOUT WARRANTY OF ANY KIND, EXPRESS OR IMPLIED, INCLUDING BUT NOT LIMITED TO THE WARRANTIES OF MERCHANTABILITY, FITNESS FOR A PARTICULAR PURPOSE AND NONINFRINGEMENT. IN NO EVENT SHALL THE AUTHORS OR COPYRIGHT HOLDERS BE LIABLE FOR ANY CLAIM, DAMAGES OR OTHER LIABILITY, WHETHER IN AN ACTION OF CONTRACT, TORT OR OTHERWISE, ARISING FROM, OUT OF OR IN CONNECTION WITH THE SOFTWARE OR THE USE OR OTHER DEALINGS IN THE SOFTWARE."
   ]
  }
 ],
 "metadata": {
  "kernelspec": {
   "display_name": "Python 3",
   "language": "python",
   "name": "python3"
  },
  "language_info": {
   "codemirror_mode": {
    "name": "ipython",
    "version": 3
   },
   "file_extension": ".py",
   "mimetype": "text/x-python",
   "name": "python",
   "nbconvert_exporter": "python",
   "pygments_lexer": "ipython3",
   "version": "3.7.12"
  },
  "papermill": {
   "default_parameters": {},
   "duration": 87.410968,
   "end_time": "2022-12-05T04:29:58.988348",
   "environment_variables": {},
   "exception": null,
   "input_path": "__notebook__.ipynb",
   "output_path": "__notebook__.ipynb",
   "parameters": {},
   "start_time": "2022-12-05T04:28:31.577380",
   "version": "2.3.4"
  }
 },
 "nbformat": 4,
 "nbformat_minor": 5
}
