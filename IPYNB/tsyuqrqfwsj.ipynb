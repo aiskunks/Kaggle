{
  "cells": [
    {
      "cell_type": "markdown",
      "metadata": {},
      "source": [
        "***AutoML***\n",
        "\n",
        "\n",
        "\n",
        "\n",
        "Ping Chen"
      ]
    },
    {
      "cell_type": "markdown",
      "metadata": {},
      "source": [
        "Implement Library"
      ]
    },
    {
      "cell_type": "code",
      "execution_count": 1,
      "metadata": {
        "colab": {
          "base_uri": "https://localhost:8080/"
        },
        "id": "Po1Pv1usWcHb",
        "outputId": "25ab5808-a34f-4825-c7ca-3f15c51780d0"
      },
      "outputs": [
        {
          "name": "stdout",
          "output_type": "stream",
          "text": [
            "Reading package lists... Done\n",
            "Building dependency tree       \n",
            "Reading state information... Done\n",
            "default-jre is already the newest version (2:1.11-68ubuntu1~18.04.1).\n",
            "default-jre set to manually installed.\n",
            "The following package was automatically installed and is no longer required:\n",
            "  libnvidia-common-460\n",
            "Use 'apt autoremove' to remove it.\n",
            "0 upgraded, 0 newly installed, 0 to remove and 4 not upgraded.\n",
            "openjdk version \"11.0.16\" 2022-07-19\n",
            "OpenJDK Runtime Environment (build 11.0.16+8-post-Ubuntu-0ubuntu118.04)\n",
            "OpenJDK 64-Bit Server VM (build 11.0.16+8-post-Ubuntu-0ubuntu118.04, mixed mode, sharing)\n"
          ]
        }
      ],
      "source": [
        "!apt-get install default-jre \n",
        "!java -version"
      ]
    },
    {
      "cell_type": "code",
      "execution_count": 2,
      "metadata": {
        "colab": {
          "base_uri": "https://localhost:8080/"
        },
        "id": "Z0WvM3rMQWwp",
        "outputId": "595a3415-e438-4671-edc6-65bd2c9aa439"
      },
      "outputs": [
        {
          "name": "stdout",
          "output_type": "stream",
          "text": [
            "Looking in indexes: https://pypi.org/simple, https://us-python.pkg.dev/colab-wheels/public/simple/\n",
            "Collecting h2o\n",
            "  Downloading h2o-3.38.0.2.tar.gz (177.4 MB)\n",
            "\u001b[K     |████████████████████████████████| 177.4 MB 32 kB/s \n",
            "\u001b[?25hRequirement already satisfied: requests in /usr/local/lib/python3.7/dist-packages (from h2o) (2.23.0)\n",
            "Requirement already satisfied: tabulate in /usr/local/lib/python3.7/dist-packages (from h2o) (0.8.10)\n",
            "Requirement already satisfied: future in /usr/local/lib/python3.7/dist-packages (from h2o) (0.16.0)\n",
            "Requirement already satisfied: certifi>=2017.4.17 in /usr/local/lib/python3.7/dist-packages (from requests->h2o) (2022.9.24)\n",
            "Requirement already satisfied: urllib3!=1.25.0,!=1.25.1,<1.26,>=1.21.1 in /usr/local/lib/python3.7/dist-packages (from requests->h2o) (1.24.3)\n",
            "Requirement already satisfied: chardet<4,>=3.0.2 in /usr/local/lib/python3.7/dist-packages (from requests->h2o) (3.0.4)\n",
            "Requirement already satisfied: idna<3,>=2.5 in /usr/local/lib/python3.7/dist-packages (from requests->h2o) (2.10)\n",
            "Building wheels for collected packages: h2o\n",
            "  Building wheel for h2o (setup.py) ... \u001b[?25l\u001b[?25hdone\n",
            "  Created wheel for h2o: filename=h2o-3.38.0.2-py2.py3-none-any.whl size=177521195 sha256=1c4b62d3f8db2772ff46dbc1736bf138729fedf610631b98bab8bc955ed4b3b7\n",
            "  Stored in directory: /root/.cache/pip/wheels/e4/ef/ab/a9b2e452e18b3dfea0b6114bc57c3b9e8b0e464eb2d03230e1\n",
            "Successfully built h2o\n",
            "Installing collected packages: h2o\n",
            "Successfully installed h2o-3.38.0.2\n"
          ]
        }
      ],
      "source": [
        "! pip install h2o"
      ]
    },
    {
      "cell_type": "code",
      "execution_count": 3,
      "metadata": {
        "id": "9VFqDZmDQab-"
      },
      "outputs": [],
      "source": [
        "import h2o\n",
        "from h2o.estimators.glm import H2OGeneralizedLinearEstimator"
      ]
    },
    {
      "cell_type": "code",
      "execution_count": 4,
      "metadata": {
        "colab": {
          "base_uri": "https://localhost:8080/",
          "height": 537
        },
        "id": "pSDwDCE2Qg05",
        "outputId": "22f23176-4960-4d2d-d721-ade6d853a938"
      },
      "outputs": [
        {
          "name": "stdout",
          "output_type": "stream",
          "text": [
            "Checking whether there is an H2O instance running at http://localhost:54321 ..... not found.\n",
            "Attempting to start a local H2O server...\n",
            "  Java Version: openjdk version \"11.0.16\" 2022-07-19; OpenJDK Runtime Environment (build 11.0.16+8-post-Ubuntu-0ubuntu118.04); OpenJDK 64-Bit Server VM (build 11.0.16+8-post-Ubuntu-0ubuntu118.04, mixed mode, sharing)\n",
            "  Starting server from /usr/local/lib/python3.7/dist-packages/h2o/backend/bin/h2o.jar\n",
            "  Ice root: /tmp/tmpc23lu64w\n",
            "  JVM stdout: /tmp/tmpc23lu64w/h2o_unknownUser_started_from_python.out\n",
            "  JVM stderr: /tmp/tmpc23lu64w/h2o_unknownUser_started_from_python.err\n",
            "  Server is running at http://127.0.0.1:54321\n",
            "Connecting to H2O server at http://127.0.0.1:54321 ... successful.\n"
          ]
        },
        {
          "data": {
            "text/html": [
              "\n",
              "<style>\n",
              "\n",
              "#h2o-table-1.h2o-container {\n",
              "  overflow-x: auto;\n",
              "}\n",
              "#h2o-table-1 .h2o-table {\n",
              "  /* width: 100%; */\n",
              "  margin-top: 1em;\n",
              "  margin-bottom: 1em;\n",
              "}\n",
              "#h2o-table-1 .h2o-table caption {\n",
              "  white-space: nowrap;\n",
              "  caption-side: top;\n",
              "  text-align: left;\n",
              "  /* margin-left: 1em; */\n",
              "  margin: 0;\n",
              "  font-size: larger;\n",
              "}\n",
              "#h2o-table-1 .h2o-table thead {\n",
              "  white-space: nowrap; \n",
              "  position: sticky;\n",
              "  top: 0;\n",
              "  box-shadow: 0 -1px inset;\n",
              "}\n",
              "#h2o-table-1 .h2o-table tbody {\n",
              "  overflow: auto;\n",
              "}\n",
              "#h2o-table-1 .h2o-table th,\n",
              "#h2o-table-1 .h2o-table td {\n",
              "  text-align: right;\n",
              "  /* border: 1px solid; */\n",
              "}\n",
              "#h2o-table-1 .h2o-table tr:nth-child(even) {\n",
              "  /* background: #F5F5F5 */\n",
              "}\n",
              "\n",
              "</style>      \n",
              "<div id=\"h2o-table-1\" class=\"h2o-container\">\n",
              "  <table class=\"h2o-table\">\n",
              "    <caption></caption>\n",
              "    <thead></thead>\n",
              "    <tbody><tr><td>H2O_cluster_uptime:</td>\n",
              "<td>04 secs</td></tr>\n",
              "<tr><td>H2O_cluster_timezone:</td>\n",
              "<td>Etc/UTC</td></tr>\n",
              "<tr><td>H2O_data_parsing_timezone:</td>\n",
              "<td>UTC</td></tr>\n",
              "<tr><td>H2O_cluster_version:</td>\n",
              "<td>3.38.0.2</td></tr>\n",
              "<tr><td>H2O_cluster_version_age:</td>\n",
              "<td>7 days, 4 hours and 36 minutes </td></tr>\n",
              "<tr><td>H2O_cluster_name:</td>\n",
              "<td>H2O_from_python_unknownUser_eyg4v2</td></tr>\n",
              "<tr><td>H2O_cluster_total_nodes:</td>\n",
              "<td>1</td></tr>\n",
              "<tr><td>H2O_cluster_free_memory:</td>\n",
              "<td>3.172 Gb</td></tr>\n",
              "<tr><td>H2O_cluster_total_cores:</td>\n",
              "<td>2</td></tr>\n",
              "<tr><td>H2O_cluster_allowed_cores:</td>\n",
              "<td>2</td></tr>\n",
              "<tr><td>H2O_cluster_status:</td>\n",
              "<td>locked, healthy</td></tr>\n",
              "<tr><td>H2O_connection_url:</td>\n",
              "<td>http://127.0.0.1:54321</td></tr>\n",
              "<tr><td>H2O_connection_proxy:</td>\n",
              "<td>{\"http\": null, \"https\": null}</td></tr>\n",
              "<tr><td>H2O_internal_security:</td>\n",
              "<td>False</td></tr>\n",
              "<tr><td>Python_version:</td>\n",
              "<td>3.7.15 final</td></tr></tbody>\n",
              "  </table>\n",
              "</div>\n"
            ],
            "text/plain": [
              "--------------------------  ----------------------------------\n",
              "H2O_cluster_uptime:         04 secs\n",
              "H2O_cluster_timezone:       Etc/UTC\n",
              "H2O_data_parsing_timezone:  UTC\n",
              "H2O_cluster_version:        3.38.0.2\n",
              "H2O_cluster_version_age:    7 days, 4 hours and 36 minutes\n",
              "H2O_cluster_name:           H2O_from_python_unknownUser_eyg4v2\n",
              "H2O_cluster_total_nodes:    1\n",
              "H2O_cluster_free_memory:    3.172 Gb\n",
              "H2O_cluster_total_cores:    2\n",
              "H2O_cluster_allowed_cores:  2\n",
              "H2O_cluster_status:         locked, healthy\n",
              "H2O_connection_url:         http://127.0.0.1:54321\n",
              "H2O_connection_proxy:       {\"http\": null, \"https\": null}\n",
              "H2O_internal_security:      False\n",
              "Python_version:             3.7.15 final\n",
              "--------------------------  ----------------------------------"
            ]
          },
          "metadata": {},
          "output_type": "display_data"
        }
      ],
      "source": [
        "h2o.init()"
      ]
    },
    {
      "cell_type": "code",
      "execution_count": 5,
      "metadata": {
        "colab": {
          "base_uri": "https://localhost:8080/"
        },
        "id": "LGmA6xcEc4rh",
        "outputId": "7ebf7c93-46cc-4f15-c9f2-b47e4887dac7"
      },
      "outputs": [
        {
          "name": "stdout",
          "output_type": "stream",
          "text": [
            "Parse progress: |████████████████████████████████████████████████████████████████| (done) 100%\n"
          ]
        }
      ],
      "source": [
        "url = \"https://raw.githubusercontent.com/Yusong-Zhang/Python/master/AirQualityUCI%20T.csv\"\n",
        "df = h2o.import_file(path = url)"
      ]
    },
    {
      "cell_type": "markdown",
      "metadata": {},
      "source": [
        "Data Overview"
      ]
    },
    {
      "cell_type": "code",
      "execution_count": 6,
      "metadata": {
        "colab": {
          "base_uri": "https://localhost:8080/",
          "height": 389
        },
        "id": "Br43FxUmdZ_p",
        "outputId": "da2a7714-2359-4abc-d5f2-5b84faca7d6e"
      },
      "outputs": [
        {
          "data": {
            "text/html": [
              "<table class='dataframe'>\n",
              "<thead>\n",
              "<tr><th>Date               </th><th>Time               </th><th style=\"text-align: right;\">  CO(GT)</th><th style=\"text-align: right;\">  PT08.S1(CO)</th><th style=\"text-align: right;\">  NMHC(GT)</th><th style=\"text-align: right;\">  C6H6(GT)</th><th style=\"text-align: right;\">  PT08.S2(NMHC)</th><th style=\"text-align: right;\">  NOx(GT)</th><th style=\"text-align: right;\">  PT08.S3(NOx)</th><th style=\"text-align: right;\">  NO2(GT)</th><th style=\"text-align: right;\">  PT08.S4(NO2)</th><th style=\"text-align: right;\">  PT08.S5(O3)</th><th style=\"text-align: right;\">   T</th><th style=\"text-align: right;\">  RH</th><th style=\"text-align: right;\">    AH</th><th style=\"text-align: right;\">  C16</th><th style=\"text-align: right;\">  C17</th></tr>\n",
              "</thead>\n",
              "<tbody>\n",
              "<tr><td>2004-03-10 00:00:00</td><td>1970-01-01 18:00:00</td><td style=\"text-align: right;\">     2.6</td><td style=\"text-align: right;\">         1360</td><td style=\"text-align: right;\">       150</td><td style=\"text-align: right;\">      11.9</td><td style=\"text-align: right;\">           1046</td><td style=\"text-align: right;\">      166</td><td style=\"text-align: right;\">          1056</td><td style=\"text-align: right;\">      113</td><td style=\"text-align: right;\">          1692</td><td style=\"text-align: right;\">         1268</td><td style=\"text-align: right;\">13.6</td><td style=\"text-align: right;\">48.9</td><td style=\"text-align: right;\">0.7578</td><td style=\"text-align: right;\">  nan</td><td style=\"text-align: right;\">  nan</td></tr>\n",
              "<tr><td>2004-03-10 00:00:00</td><td>1970-01-01 19:00:00</td><td style=\"text-align: right;\">     2  </td><td style=\"text-align: right;\">         1292</td><td style=\"text-align: right;\">       112</td><td style=\"text-align: right;\">       9.4</td><td style=\"text-align: right;\">            955</td><td style=\"text-align: right;\">      103</td><td style=\"text-align: right;\">          1174</td><td style=\"text-align: right;\">       92</td><td style=\"text-align: right;\">          1559</td><td style=\"text-align: right;\">          972</td><td style=\"text-align: right;\">13.3</td><td style=\"text-align: right;\">47.7</td><td style=\"text-align: right;\">0.7255</td><td style=\"text-align: right;\">  nan</td><td style=\"text-align: right;\">  nan</td></tr>\n",
              "<tr><td>2004-03-10 00:00:00</td><td>1970-01-01 20:00:00</td><td style=\"text-align: right;\">     2.2</td><td style=\"text-align: right;\">         1402</td><td style=\"text-align: right;\">        88</td><td style=\"text-align: right;\">       9  </td><td style=\"text-align: right;\">            939</td><td style=\"text-align: right;\">      131</td><td style=\"text-align: right;\">          1140</td><td style=\"text-align: right;\">      114</td><td style=\"text-align: right;\">          1555</td><td style=\"text-align: right;\">         1074</td><td style=\"text-align: right;\">11.9</td><td style=\"text-align: right;\">54  </td><td style=\"text-align: right;\">0.7502</td><td style=\"text-align: right;\">  nan</td><td style=\"text-align: right;\">  nan</td></tr>\n",
              "<tr><td>2004-03-10 00:00:00</td><td>1970-01-01 21:00:00</td><td style=\"text-align: right;\">     2.2</td><td style=\"text-align: right;\">         1376</td><td style=\"text-align: right;\">        80</td><td style=\"text-align: right;\">       9.2</td><td style=\"text-align: right;\">            948</td><td style=\"text-align: right;\">      172</td><td style=\"text-align: right;\">          1092</td><td style=\"text-align: right;\">      122</td><td style=\"text-align: right;\">          1584</td><td style=\"text-align: right;\">         1203</td><td style=\"text-align: right;\">11  </td><td style=\"text-align: right;\">60  </td><td style=\"text-align: right;\">0.7867</td><td style=\"text-align: right;\">  nan</td><td style=\"text-align: right;\">  nan</td></tr>\n",
              "<tr><td>2004-03-10 00:00:00</td><td>1970-01-01 22:00:00</td><td style=\"text-align: right;\">     1.6</td><td style=\"text-align: right;\">         1272</td><td style=\"text-align: right;\">        51</td><td style=\"text-align: right;\">       6.5</td><td style=\"text-align: right;\">            836</td><td style=\"text-align: right;\">      131</td><td style=\"text-align: right;\">          1205</td><td style=\"text-align: right;\">      116</td><td style=\"text-align: right;\">          1490</td><td style=\"text-align: right;\">         1110</td><td style=\"text-align: right;\">11.2</td><td style=\"text-align: right;\">59.6</td><td style=\"text-align: right;\">0.7888</td><td style=\"text-align: right;\">  nan</td><td style=\"text-align: right;\">  nan</td></tr>\n",
              "<tr><td>2004-03-10 00:00:00</td><td>1970-01-01 23:00:00</td><td style=\"text-align: right;\">     1.2</td><td style=\"text-align: right;\">         1197</td><td style=\"text-align: right;\">        38</td><td style=\"text-align: right;\">       4.7</td><td style=\"text-align: right;\">            750</td><td style=\"text-align: right;\">       89</td><td style=\"text-align: right;\">          1337</td><td style=\"text-align: right;\">       96</td><td style=\"text-align: right;\">          1393</td><td style=\"text-align: right;\">          949</td><td style=\"text-align: right;\">11.2</td><td style=\"text-align: right;\">59.2</td><td style=\"text-align: right;\">0.7848</td><td style=\"text-align: right;\">  nan</td><td style=\"text-align: right;\">  nan</td></tr>\n",
              "<tr><td>2004-03-11 00:00:00</td><td>1970-01-01 00:00:00</td><td style=\"text-align: right;\">     1.2</td><td style=\"text-align: right;\">         1185</td><td style=\"text-align: right;\">        31</td><td style=\"text-align: right;\">       3.6</td><td style=\"text-align: right;\">            690</td><td style=\"text-align: right;\">       62</td><td style=\"text-align: right;\">          1462</td><td style=\"text-align: right;\">       77</td><td style=\"text-align: right;\">          1333</td><td style=\"text-align: right;\">          733</td><td style=\"text-align: right;\">11.3</td><td style=\"text-align: right;\">56.8</td><td style=\"text-align: right;\">0.7603</td><td style=\"text-align: right;\">  nan</td><td style=\"text-align: right;\">  nan</td></tr>\n",
              "<tr><td>2004-03-11 00:00:00</td><td>1970-01-01 01:00:00</td><td style=\"text-align: right;\">     1  </td><td style=\"text-align: right;\">         1136</td><td style=\"text-align: right;\">        31</td><td style=\"text-align: right;\">       3.3</td><td style=\"text-align: right;\">            672</td><td style=\"text-align: right;\">       62</td><td style=\"text-align: right;\">          1453</td><td style=\"text-align: right;\">       76</td><td style=\"text-align: right;\">          1333</td><td style=\"text-align: right;\">          730</td><td style=\"text-align: right;\">10.7</td><td style=\"text-align: right;\">60  </td><td style=\"text-align: right;\">0.7702</td><td style=\"text-align: right;\">  nan</td><td style=\"text-align: right;\">  nan</td></tr>\n",
              "<tr><td>2004-03-11 00:00:00</td><td>1970-01-01 02:00:00</td><td style=\"text-align: right;\">     0.9</td><td style=\"text-align: right;\">         1094</td><td style=\"text-align: right;\">        24</td><td style=\"text-align: right;\">       2.3</td><td style=\"text-align: right;\">            609</td><td style=\"text-align: right;\">       45</td><td style=\"text-align: right;\">          1579</td><td style=\"text-align: right;\">       60</td><td style=\"text-align: right;\">          1276</td><td style=\"text-align: right;\">          620</td><td style=\"text-align: right;\">10.7</td><td style=\"text-align: right;\">59.7</td><td style=\"text-align: right;\">0.7648</td><td style=\"text-align: right;\">  nan</td><td style=\"text-align: right;\">  nan</td></tr>\n",
              "<tr><td>2004-03-11 00:00:00</td><td>1970-01-01 03:00:00</td><td style=\"text-align: right;\">     0.6</td><td style=\"text-align: right;\">         1010</td><td style=\"text-align: right;\">        19</td><td style=\"text-align: right;\">       1.7</td><td style=\"text-align: right;\">            561</td><td style=\"text-align: right;\">     -200</td><td style=\"text-align: right;\">          1705</td><td style=\"text-align: right;\">     -200</td><td style=\"text-align: right;\">          1235</td><td style=\"text-align: right;\">          501</td><td style=\"text-align: right;\">10.3</td><td style=\"text-align: right;\">60.2</td><td style=\"text-align: right;\">0.7517</td><td style=\"text-align: right;\">  nan</td><td style=\"text-align: right;\">  nan</td></tr>\n",
              "</tbody>\n",
              "</table><pre style='font-size: smaller; margin-bottom: 1em;'>[10 rows x 17 columns]</pre>"
            ],
            "text/plain": [
              "Date                 Time                   CO(GT)    PT08.S1(CO)    NMHC(GT)    C6H6(GT)    PT08.S2(NMHC)    NOx(GT)    PT08.S3(NOx)    NO2(GT)    PT08.S4(NO2)    PT08.S5(O3)     T    RH      AH    C16    C17\n",
              "-------------------  -------------------  --------  -------------  ----------  ----------  ---------------  ---------  --------------  ---------  --------------  -------------  ----  ----  ------  -----  -----\n",
              "2004-03-10 00:00:00  1970-01-01 18:00:00       2.6           1360         150        11.9             1046        166            1056        113            1692           1268  13.6  48.9  0.7578    nan    nan\n",
              "2004-03-10 00:00:00  1970-01-01 19:00:00       2             1292         112         9.4              955        103            1174         92            1559            972  13.3  47.7  0.7255    nan    nan\n",
              "2004-03-10 00:00:00  1970-01-01 20:00:00       2.2           1402          88         9                939        131            1140        114            1555           1074  11.9  54    0.7502    nan    nan\n",
              "2004-03-10 00:00:00  1970-01-01 21:00:00       2.2           1376          80         9.2              948        172            1092        122            1584           1203  11    60    0.7867    nan    nan\n",
              "2004-03-10 00:00:00  1970-01-01 22:00:00       1.6           1272          51         6.5              836        131            1205        116            1490           1110  11.2  59.6  0.7888    nan    nan\n",
              "2004-03-10 00:00:00  1970-01-01 23:00:00       1.2           1197          38         4.7              750         89            1337         96            1393            949  11.2  59.2  0.7848    nan    nan\n",
              "2004-03-11 00:00:00  1970-01-01 00:00:00       1.2           1185          31         3.6              690         62            1462         77            1333            733  11.3  56.8  0.7603    nan    nan\n",
              "2004-03-11 00:00:00  1970-01-01 01:00:00       1             1136          31         3.3              672         62            1453         76            1333            730  10.7  60    0.7702    nan    nan\n",
              "2004-03-11 00:00:00  1970-01-01 02:00:00       0.9           1094          24         2.3              609         45            1579         60            1276            620  10.7  59.7  0.7648    nan    nan\n",
              "2004-03-11 00:00:00  1970-01-01 03:00:00       0.6           1010          19         1.7              561       -200            1705       -200            1235            501  10.3  60.2  0.7517    nan    nan\n",
              "[10 rows x 17 columns]\n"
            ]
          },
          "execution_count": 6,
          "metadata": {},
          "output_type": "execute_result"
        }
      ],
      "source": [
        "# return an output of the dataframe\n",
        "df.head()"
      ]
    },
    {
      "cell_type": "code",
      "execution_count": 7,
      "metadata": {
        "id": "iERBQuGeFwW2"
      },
      "outputs": [],
      "source": [
        "import h2o\n",
        "from h2o.automl import H2OAutoML\n",
        "import random, os, sys\n",
        "from datetime import datetime\n",
        "import pandas as pd\n",
        "import logging\n",
        "import csv\n",
        "import optparse\n",
        "import time\n",
        "import json\n",
        "from distutils.util import strtobool\n",
        "import psutil\n",
        "import numpy as np\n",
        "import matplotlib.pyplot as plt\n",
        "from pandas import read_csv"
      ]
    },
    {
      "cell_type": "code",
      "execution_count": 8,
      "metadata": {
        "colab": {
          "base_uri": "https://localhost:8080/"
        },
        "id": "-CfevsHGfrU8",
        "outputId": "b6c99da5-0c60-44fa-a4a3-d43a894ad461"
      },
      "outputs": [
        {
          "data": {
            "text/plain": [
              "{'Date': 'time',\n",
              " 'Time': 'time',\n",
              " 'CO(GT)': 'real',\n",
              " 'PT08.S1(CO)': 'int',\n",
              " 'NMHC(GT)': 'int',\n",
              " 'C6H6(GT)': 'real',\n",
              " 'PT08.S2(NMHC)': 'int',\n",
              " 'NOx(GT)': 'int',\n",
              " 'PT08.S3(NOx)': 'int',\n",
              " 'NO2(GT)': 'int',\n",
              " 'PT08.S4(NO2)': 'int',\n",
              " 'PT08.S5(O3)': 'int',\n",
              " 'T': 'real',\n",
              " 'RH': 'real',\n",
              " 'AH': 'real',\n",
              " 'C16': 'int',\n",
              " 'C17': 'int'}"
            ]
          },
          "execution_count": 8,
          "metadata": {},
          "output_type": "execute_result"
        }
      ],
      "source": [
        "# return an output type of the dataframe\n",
        "df.types"
      ]
    },
    {
      "cell_type": "code",
      "execution_count": 9,
      "metadata": {
        "colab": {
          "base_uri": "https://localhost:8080/",
          "height": 691
        },
        "id": "b82VWQbrgSfo",
        "outputId": "e7ef1545-e5da-40eb-95c8-440173be2ab2"
      },
      "outputs": [
        {
          "data": {
            "text/html": [
              "<pre style='margin: 1em 0 1em 0;'>Rows:9471\n",
              "Cols:17\n",
              "</pre>"
            ],
            "text/plain": [
              "Rows:9471\n",
              "Cols:17\n"
            ]
          },
          "metadata": {},
          "output_type": "display_data"
        },
        {
          "data": {
            "text/html": [
              "<table class='dataframe'>\n",
              "<thead>\n",
              "<tr><th>       </th><th>Date               </th><th>Time               </th><th>CO(GT)            </th><th>PT08.S1(CO)      </th><th>NMHC(GT)           </th><th>C6H6(GT)          </th><th>PT08.S2(NMHC)    </th><th>NOx(GT)           </th><th>PT08.S3(NOx)      </th><th>NO2(GT)           </th><th>PT08.S4(NO2)      </th><th>PT08.S5(O3)       </th><th>T                 </th><th>RH               </th><th>AH                </th><th>C16  </th><th>C17  </th></tr>\n",
              "</thead>\n",
              "<tbody>\n",
              "<tr><td>type   </td><td>time               </td><td>time               </td><td>real              </td><td>int              </td><td>int                </td><td>real              </td><td>int              </td><td>int               </td><td>int               </td><td>int               </td><td>int               </td><td>int               </td><td>real              </td><td>real             </td><td>real              </td><td>int  </td><td>int  </td></tr>\n",
              "<tr><td>mins   </td><td>1078876800000.0    </td><td>0.0                </td><td>-200.0            </td><td>-200.0           </td><td>-200.0             </td><td>-200.0            </td><td>-200.0           </td><td>-200.0            </td><td>-200.0            </td><td>-200.0            </td><td>-200.0            </td><td>-200.0            </td><td>-200.0            </td><td>-200.0           </td><td>-200.0            </td><td>NaN  </td><td>NaN  </td></tr>\n",
              "<tr><td>mean   </td><td>1095741005193.9729 </td><td>41394806.027572945 </td><td>-34.20752377898901</td><td>1048.990060916961</td><td>-159.09009297851875</td><td>1.8656834455487874</td><td>894.5952762637594</td><td>168.61697125146938</td><td>794.990167788821  </td><td>58.148872501870244</td><td>1391.4796409105481</td><td>975.0720316340708 </td><td>9.77830501229027  </td><td>39.48537992946456</td><td>-6.837603644330444</td><td>0.0  </td><td>0.0  </td></tr>\n",
              "<tr><td>maxs   </td><td>1112572800000.0    </td><td>82800000.0         </td><td>11.9              </td><td>2040.0           </td><td>1189.0             </td><td>63.7              </td><td>2214.0           </td><td>1479.0            </td><td>2683.0            </td><td>340.0             </td><td>2775.0            </td><td>2523.0            </td><td>44.6              </td><td>88.7             </td><td>2.231             </td><td>NaN  </td><td>NaN  </td></tr>\n",
              "<tr><td>sigma  </td><td>9724648294.22172   </td><td>24923453.80027478  </td><td>77.65717034683163 </td><td>329.8327098861881</td><td>139.78909289678148 </td><td>41.38020643630012 </td><td>342.3332516496718</td><td>257.4338662910737 </td><td>321.99355160311603</td><td>126.9404552589075 </td><td>467.21012455706364</td><td>456.93818447398843</td><td>43.203623062623194</td><td>51.21614497176605</td><td>38.97667016632423 </td><td>-0.0 </td><td>-0.0 </td></tr>\n",
              "<tr><td>zeros  </td><td>0                  </td><td>390                </td><td>0                 </td><td>0                </td><td>0                  </td><td>0                 </td><td>0                </td><td>0                 </td><td>0                 </td><td>0                 </td><td>0                 </td><td>0                 </td><td>1                 </td><td>0                </td><td>0                 </td><td>0    </td><td>0    </td></tr>\n",
              "<tr><td>missing</td><td>114                </td><td>114                </td><td>114               </td><td>114              </td><td>114                </td><td>114               </td><td>114              </td><td>114               </td><td>114               </td><td>114               </td><td>114               </td><td>114               </td><td>114               </td><td>114              </td><td>114               </td><td>9471 </td><td>9471 </td></tr>\n",
              "<tr><td>0      </td><td>2004-03-10 00:00:00</td><td>1970-01-01 18:00:00</td><td>2.6               </td><td>1360.0           </td><td>150.0              </td><td>11.9              </td><td>1046.0           </td><td>166.0             </td><td>1056.0            </td><td>113.0             </td><td>1692.0            </td><td>1268.0            </td><td>13.6              </td><td>48.9             </td><td>0.7578            </td><td>nan  </td><td>nan  </td></tr>\n",
              "<tr><td>1      </td><td>2004-03-10 00:00:00</td><td>1970-01-01 19:00:00</td><td>2.0               </td><td>1292.0           </td><td>112.0              </td><td>9.4               </td><td>955.0            </td><td>103.0             </td><td>1174.0            </td><td>92.0              </td><td>1559.0            </td><td>972.0             </td><td>13.3              </td><td>47.7             </td><td>0.7255            </td><td>nan  </td><td>nan  </td></tr>\n",
              "<tr><td>2      </td><td>2004-03-10 00:00:00</td><td>1970-01-01 20:00:00</td><td>2.2               </td><td>1402.0           </td><td>88.0               </td><td>9.0               </td><td>939.0            </td><td>131.0             </td><td>1140.0            </td><td>114.0             </td><td>1555.0            </td><td>1074.0            </td><td>11.9              </td><td>54.0             </td><td>0.7502            </td><td>nan  </td><td>nan  </td></tr>\n",
              "<tr><td>3      </td><td>2004-03-10 00:00:00</td><td>1970-01-01 21:00:00</td><td>2.2               </td><td>1376.0           </td><td>80.0               </td><td>9.2               </td><td>948.0            </td><td>172.0             </td><td>1092.0            </td><td>122.0             </td><td>1584.0            </td><td>1203.0            </td><td>11.0              </td><td>60.0             </td><td>0.7867            </td><td>nan  </td><td>nan  </td></tr>\n",
              "<tr><td>4      </td><td>2004-03-10 00:00:00</td><td>1970-01-01 22:00:00</td><td>1.6               </td><td>1272.0           </td><td>51.0               </td><td>6.5               </td><td>836.0            </td><td>131.0             </td><td>1205.0            </td><td>116.0             </td><td>1490.0            </td><td>1110.0            </td><td>11.2              </td><td>59.6             </td><td>0.7888            </td><td>nan  </td><td>nan  </td></tr>\n",
              "<tr><td>5      </td><td>2004-03-10 00:00:00</td><td>1970-01-01 23:00:00</td><td>1.2               </td><td>1197.0           </td><td>38.0               </td><td>4.7               </td><td>750.0            </td><td>89.0              </td><td>1337.0            </td><td>96.0              </td><td>1393.0            </td><td>949.0             </td><td>11.2              </td><td>59.2             </td><td>0.7848            </td><td>nan  </td><td>nan  </td></tr>\n",
              "<tr><td>6      </td><td>2004-03-11 00:00:00</td><td>1970-01-01 00:00:00</td><td>1.2               </td><td>1185.0           </td><td>31.0               </td><td>3.6               </td><td>690.0            </td><td>62.0              </td><td>1462.0            </td><td>77.0              </td><td>1333.0            </td><td>733.0             </td><td>11.3              </td><td>56.8             </td><td>0.7603            </td><td>nan  </td><td>nan  </td></tr>\n",
              "<tr><td>7      </td><td>2004-03-11 00:00:00</td><td>1970-01-01 01:00:00</td><td>1.0               </td><td>1136.0           </td><td>31.0               </td><td>3.3               </td><td>672.0            </td><td>62.0              </td><td>1453.0            </td><td>76.0              </td><td>1333.0            </td><td>730.0             </td><td>10.7              </td><td>60.0             </td><td>0.7702            </td><td>nan  </td><td>nan  </td></tr>\n",
              "<tr><td>8      </td><td>2004-03-11 00:00:00</td><td>1970-01-01 02:00:00</td><td>0.9               </td><td>1094.0           </td><td>24.0               </td><td>2.3               </td><td>609.0            </td><td>45.0              </td><td>1579.0            </td><td>60.0              </td><td>1276.0            </td><td>620.0             </td><td>10.7              </td><td>59.7             </td><td>0.7648            </td><td>nan  </td><td>nan  </td></tr>\n",
              "<tr><td>9      </td><td>2004-03-11 00:00:00</td><td>1970-01-01 03:00:00</td><td>0.6               </td><td>1010.0           </td><td>19.0               </td><td>1.7               </td><td>561.0            </td><td>-200.0            </td><td>1705.0            </td><td>-200.0            </td><td>1235.0            </td><td>501.0             </td><td>10.3              </td><td>60.2             </td><td>0.7517            </td><td>nan  </td><td>nan  </td></tr>\n",
              "</tbody>\n",
              "</table><pre style='font-size: smaller; margin-bottom: 1em;'>[9471 rows x 17 columns]</pre>"
            ],
            "text/plain": [
              "         Date                 Time                 CO(GT)              PT08.S1(CO)        NMHC(GT)             C6H6(GT)            PT08.S2(NMHC)      NOx(GT)             PT08.S3(NOx)        NO2(GT)             PT08.S4(NO2)        PT08.S5(O3)         T                   RH                 AH                  C16    C17\n",
              "-------  -------------------  -------------------  ------------------  -----------------  -------------------  ------------------  -----------------  ------------------  ------------------  ------------------  ------------------  ------------------  ------------------  -----------------  ------------------  -----  -----\n",
              "type     time                 time                 real                int                int                  real                int                int                 int                 int                 int                 int                 real                real               real                int    int\n",
              "mins     1078876800000.0      0.0                  -200.0              -200.0             -200.0               -200.0              -200.0             -200.0              -200.0              -200.0              -200.0              -200.0              -200.0              -200.0             -200.0              NaN    NaN\n",
              "mean     1095741005193.9729   41394806.027572945   -34.20752377898901  1048.990060916961  -159.09009297851875  1.8656834455487874  894.5952762637594  168.61697125146938  794.990167788821    58.148872501870244  1391.4796409105481  975.0720316340708   9.77830501229027    39.48537992946456  -6.837603644330444  0.0    0.0\n",
              "maxs     1112572800000.0      82800000.0           11.9                2040.0             1189.0               63.7                2214.0             1479.0              2683.0              340.0               2775.0              2523.0              44.6                88.7               2.231               NaN    NaN\n",
              "sigma    9724648294.22172     24923453.80027478    77.65717034683163   329.8327098861881  139.78909289678148   41.38020643630012   342.3332516496718  257.4338662910737   321.99355160311603  126.9404552589075   467.21012455706364  456.93818447398843  43.203623062623194  51.21614497176605  38.97667016632423   -0.0   -0.0\n",
              "zeros    0                    390                  0                   0                  0                    0                   0                  0                   0                   0                   0                   0                   1                   0                  0                   0      0\n",
              "missing  114                  114                  114                 114                114                  114                 114                114                 114                 114                 114                 114                 114                 114                114                 9471   9471\n",
              "0        2004-03-10 00:00:00  1970-01-01 18:00:00  2.6                 1360.0             150.0                11.9                1046.0             166.0               1056.0              113.0               1692.0              1268.0              13.6                48.9               0.7578              nan    nan\n",
              "1        2004-03-10 00:00:00  1970-01-01 19:00:00  2.0                 1292.0             112.0                9.4                 955.0              103.0               1174.0              92.0                1559.0              972.0               13.3                47.7               0.7255              nan    nan\n",
              "2        2004-03-10 00:00:00  1970-01-01 20:00:00  2.2                 1402.0             88.0                 9.0                 939.0              131.0               1140.0              114.0               1555.0              1074.0              11.9                54.0               0.7502              nan    nan\n",
              "3        2004-03-10 00:00:00  1970-01-01 21:00:00  2.2                 1376.0             80.0                 9.2                 948.0              172.0               1092.0              122.0               1584.0              1203.0              11.0                60.0               0.7867              nan    nan\n",
              "4        2004-03-10 00:00:00  1970-01-01 22:00:00  1.6                 1272.0             51.0                 6.5                 836.0              131.0               1205.0              116.0               1490.0              1110.0              11.2                59.6               0.7888              nan    nan\n",
              "5        2004-03-10 00:00:00  1970-01-01 23:00:00  1.2                 1197.0             38.0                 4.7                 750.0              89.0                1337.0              96.0                1393.0              949.0               11.2                59.2               0.7848              nan    nan\n",
              "6        2004-03-11 00:00:00  1970-01-01 00:00:00  1.2                 1185.0             31.0                 3.6                 690.0              62.0                1462.0              77.0                1333.0              733.0               11.3                56.8               0.7603              nan    nan\n",
              "7        2004-03-11 00:00:00  1970-01-01 01:00:00  1.0                 1136.0             31.0                 3.3                 672.0              62.0                1453.0              76.0                1333.0              730.0               10.7                60.0               0.7702              nan    nan\n",
              "8        2004-03-11 00:00:00  1970-01-01 02:00:00  0.9                 1094.0             24.0                 2.3                 609.0              45.0                1579.0              60.0                1276.0              620.0               10.7                59.7               0.7648              nan    nan\n",
              "9        2004-03-11 00:00:00  1970-01-01 03:00:00  0.6                 1010.0             19.0                 1.7                 561.0              -200.0              1705.0              -200.0              1235.0              501.0               10.3                60.2               0.7517              nan    nan\n",
              "[9471 rows x 17 columns]\n"
            ]
          },
          "metadata": {},
          "output_type": "display_data"
        }
      ],
      "source": [
        "df.describe()"
      ]
    },
    {
      "cell_type": "markdown",
      "metadata": {},
      "source": [
        "Data Clean"
      ]
    },
    {
      "cell_type": "code",
      "execution_count": 10,
      "metadata": {
        "colab": {
          "base_uri": "https://localhost:8080/"
        },
        "id": "LLvoFwB-Vbcq",
        "outputId": "86b71296-4a8a-4a21-e48f-43538a507613"
      },
      "outputs": [
        {
          "data": {
            "text/plain": [
              "<bound method H2OFrame.describe of H2OFrame({'_ex': <Expr(rows <Expr()#AirQualityUCI_20T.hex> <Expr(> <Expr(cols_py <Expr()#AirQualityUCI_20T.hex> 'CO(GT)'); scalar> -200); scalar>); scalar>})>"
            ]
          },
          "execution_count": 10,
          "metadata": {},
          "output_type": "execute_result"
        }
      ],
      "source": [
        "#some values are marked as -200 so we need to remove them\n",
        "mask = df['CO(GT)'] > -200\n",
        "s1 = df[mask,:]\n",
        "s1.describe"
      ]
    },
    {
      "cell_type": "code",
      "execution_count": 11,
      "metadata": {
        "colab": {
          "base_uri": "https://localhost:8080/"
        },
        "id": "ycH48pAIZMq6",
        "outputId": "7384858c-cb5b-47b5-f23a-3e691809815a"
      },
      "outputs": [
        {
          "data": {
            "text/plain": [
              "<bound method H2OFrame.describe of H2OFrame({'_ex': <Expr(rows <Expr(rows <Expr()#AirQualityUCI_20T.hex> <Expr(> <Expr(cols_py <Expr()#AirQualityUCI_20T.hex> 'CO(GT)'); scalar> -200)#py_2_sid_9838; scalar>)#py_3_sid_9838> <Expr(> <Expr(cols_py <Expr(rows <Expr()#AirQualityUCI_20T.hex> <Expr(> <Expr(cols_py <Expr()#AirQualityUCI_20T.hex> 'CO(GT)'); scalar> -200)#py_2_sid_9838; scalar>)#py_3_sid_9838> 'PT08.S1(CO)'); scalar> -200); scalar>); scalar>})>"
            ]
          },
          "execution_count": 11,
          "metadata": {},
          "output_type": "execute_result"
        }
      ],
      "source": [
        "mask = s1['PT08.S1(CO)'] > -200\n",
        "s2 = s1[mask,:]\n",
        "s2.describe"
      ]
    },
    {
      "cell_type": "code",
      "execution_count": null,
      "metadata": {
        "colab": {
          "base_uri": "https://localhost:8080/"
        },
        "id": "D_3DRpAfZv2I",
        "outputId": "6dbe901f-4a87-468f-9f0c-4282b40dd395"
      },
      "outputs": [],
      "source": [
        "mask = s2['C6H6(GT)'] > -200\n",
        "s3 = s2[mask,:]\n",
        "s3.describe"
      ]
    },
    {
      "cell_type": "code",
      "execution_count": null,
      "metadata": {
        "colab": {
          "base_uri": "https://localhost:8080/"
        },
        "id": "CTuD-Zp8Z97c",
        "outputId": "e83870bc-0e7c-4f57-dabd-f87228238a3b"
      },
      "outputs": [],
      "source": [
        "mask = s3['PT08.S2(NMHC)'] > -200\n",
        "s4 = s3[mask,:]\n",
        "s4.describe"
      ]
    },
    {
      "cell_type": "code",
      "execution_count": null,
      "metadata": {
        "colab": {
          "base_uri": "https://localhost:8080/"
        },
        "id": "IMDoBsLBaGSl",
        "outputId": "d649bf3b-614b-4816-dd96-cf51592997c0"
      },
      "outputs": [],
      "source": [
        "mask = s4['NOx(GT)'] > -200\n",
        "s5 = s4[mask,:]\n",
        "s5.describe"
      ]
    },
    {
      "cell_type": "code",
      "execution_count": null,
      "metadata": {
        "colab": {
          "base_uri": "https://localhost:8080/"
        },
        "id": "v7gPmK_BaQhJ",
        "outputId": "91ec1d2e-176d-4429-de2d-9beedcc00ec4"
      },
      "outputs": [],
      "source": [
        "mask = s5['PT08.S3(NOx)'] > -200\n",
        "s6 = s5[mask,:]\n",
        "s6.describe"
      ]
    },
    {
      "cell_type": "code",
      "execution_count": null,
      "metadata": {
        "colab": {
          "base_uri": "https://localhost:8080/"
        },
        "id": "y87ZwTJTaYyr",
        "outputId": "b5f63d6f-a04c-4a4b-b833-324c699f8623"
      },
      "outputs": [],
      "source": [
        "mask = s6['NO2(GT)'] > -200\n",
        "s7 = s6[mask,:]\n",
        "s7.describe"
      ]
    },
    {
      "cell_type": "code",
      "execution_count": null,
      "metadata": {
        "colab": {
          "base_uri": "https://localhost:8080/"
        },
        "id": "VjWAm30Oag-T",
        "outputId": "fcfe7695-558d-41e1-83df-14afc8d44816"
      },
      "outputs": [],
      "source": [
        "mask = s7['PT08.S4(NO2)'] > -200\n",
        "s8 = s7[mask,:]\n",
        "s8.describe"
      ]
    },
    {
      "cell_type": "code",
      "execution_count": null,
      "metadata": {
        "colab": {
          "base_uri": "https://localhost:8080/"
        },
        "id": "_pa_iJupasUh",
        "outputId": "cece1f9e-2c8e-4555-900a-41fb5cc49f6b"
      },
      "outputs": [],
      "source": [
        "mask = s8['PT08.S5(O3)'] > -200\n",
        "s9 = s8[mask,:]\n",
        "s9.describe"
      ]
    },
    {
      "cell_type": "code",
      "execution_count": null,
      "metadata": {
        "colab": {
          "base_uri": "https://localhost:8080/"
        },
        "id": "d5c9t4b0a0Tt",
        "outputId": "cc07f066-1c4c-4331-fe43-2365243b85b4"
      },
      "outputs": [],
      "source": [
        "mask = s9['T'] > -200\n",
        "s10 = s9[mask,:]\n",
        "s10.describe"
      ]
    },
    {
      "cell_type": "code",
      "execution_count": null,
      "metadata": {
        "colab": {
          "base_uri": "https://localhost:8080/"
        },
        "id": "e01Joxd1a8th",
        "outputId": "f7929912-9019-4fd3-c256-b2d1f72c54c0"
      },
      "outputs": [],
      "source": [
        "mask = s10['RH'] > -200\n",
        "s11 = s10[mask,:]\n",
        "s11.describe"
      ]
    },
    {
      "cell_type": "code",
      "execution_count": null,
      "metadata": {
        "colab": {
          "base_uri": "https://localhost:8080/"
        },
        "id": "V8XJkp8abEIb",
        "outputId": "e10ba464-685c-45b5-c617-64deeb866aa2"
      },
      "outputs": [],
      "source": [
        "# the final removed code and now the dataset become s12\n",
        "mask = s11['AH'] > -200\n",
        "s12 = s11[mask,:]\n",
        "s12.describe"
      ]
    },
    {
      "cell_type": "code",
      "execution_count": 22,
      "metadata": {
        "colab": {
          "base_uri": "https://localhost:8080/",
          "height": 691
        },
        "id": "5geCpoE6bJvA",
        "outputId": "b7a4fe6d-4f00-4fac-e736-092374a5e7f4"
      },
      "outputs": [
        {
          "data": {
            "text/html": [
              "<pre style='margin: 1em 0 1em 0;'>Rows:6941\n",
              "Cols:17\n",
              "</pre>"
            ],
            "text/plain": [
              "Rows:6941\n",
              "Cols:17\n"
            ]
          },
          "metadata": {},
          "output_type": "display_data"
        },
        {
          "data": {
            "text/html": [
              "<table class='dataframe'>\n",
              "<thead>\n",
              "<tr><th>       </th><th>Date               </th><th>Time               </th><th>CO(GT)            </th><th>PT08.S1(CO)       </th><th>NMHC(GT)           </th><th>C6H6(GT)          </th><th>PT08.S2(NMHC)     </th><th>NOx(GT)           </th><th>PT08.S3(NOx)      </th><th>NO2(GT)           </th><th>PT08.S4(NO2)      </th><th>PT08.S5(O3)       </th><th>T                </th><th>RH                </th><th>AH                </th><th>C16  </th><th>C17  </th></tr>\n",
              "</thead>\n",
              "<tbody>\n",
              "<tr><td>type   </td><td>time               </td><td>time               </td><td>real              </td><td>int               </td><td>int                </td><td>real              </td><td>int               </td><td>int               </td><td>int               </td><td>int               </td><td>int               </td><td>int               </td><td>real             </td><td>real              </td><td>real              </td><td>int  </td><td>int  </td></tr>\n",
              "<tr><td>mins   </td><td>1078876800000.0    </td><td>0.0                </td><td>0.1               </td><td>647.0             </td><td>-200.0             </td><td>0.2               </td><td>390.0             </td><td>2.0               </td><td>322.0             </td><td>2.0               </td><td>551.0             </td><td>221.0             </td><td>-1.9             </td><td>9.2               </td><td>0.1847            </td><td>NaN  </td><td>NaN  </td></tr>\n",
              "<tr><td>mean   </td><td>1096292667454.2573 </td><td>43272612.01555972  </td><td>2.182466503385679 </td><td>1119.9132689814148</td><td>-148.64457570955193</td><td>10.554487825961674</td><td>958.543005330644  </td><td>250.6719492868464 </td><td>816.8933871200115 </td><td>113.87408154444604</td><td>1452.6488978533353</td><td>1057.7565192335398</td><td>17.75532344042645</td><td>48.881904624693846</td><td>0.9855727416798732</td><td>0.0  </td><td>0.0  </td></tr>\n",
              "<tr><td>maxs   </td><td>1112572800000.0    </td><td>82800000.0         </td><td>11.9              </td><td>2040.0            </td><td>1189.0             </td><td>63.7              </td><td>2214.0            </td><td>1479.0            </td><td>2683.0            </td><td>333.0             </td><td>2775.0            </td><td>2523.0            </td><td>44.6             </td><td>88.7              </td><td>2.1806            </td><td>NaN  </td><td>NaN  </td></tr>\n",
              "<tr><td>sigma  </td><td>10209950756.50728  </td><td>24530127.460908916 </td><td>1.4411578844974917</td><td>218.73375371137746</td><td>157.07675309957494 </td><td>7.4652263285217915</td><td>264.05500158779716</td><td>208.61137082789276</td><td>251.89719985517954</td><td>47.47501685972731 </td><td>353.30157566388084</td><td>406.5099568661767 </td><td>8.844908952625895</td><td>17.433193302036663</td><td>0.4010966206986037</td><td>-0.0 </td><td>-0.0 </td></tr>\n",
              "<tr><td>zeros  </td><td>0                  </td><td>308                </td><td>0                 </td><td>0                 </td><td>0                  </td><td>0                 </td><td>0                 </td><td>0                 </td><td>0                 </td><td>0                 </td><td>0                 </td><td>0                 </td><td>1                </td><td>0                 </td><td>0                 </td><td>0    </td><td>0    </td></tr>\n",
              "<tr><td>missing</td><td>0                  </td><td>0                  </td><td>0                 </td><td>0                 </td><td>0                  </td><td>0                 </td><td>0                 </td><td>0                 </td><td>0                 </td><td>0                 </td><td>0                 </td><td>0                 </td><td>0                </td><td>0                 </td><td>0                 </td><td>6941 </td><td>6941 </td></tr>\n",
              "<tr><td>0      </td><td>2004-03-10 00:00:00</td><td>1970-01-01 18:00:00</td><td>2.6               </td><td>1360.0            </td><td>150.0              </td><td>11.9              </td><td>1046.0            </td><td>166.0             </td><td>1056.0            </td><td>113.0             </td><td>1692.0            </td><td>1268.0            </td><td>13.6             </td><td>48.9              </td><td>0.7578            </td><td>nan  </td><td>nan  </td></tr>\n",
              "<tr><td>1      </td><td>2004-03-10 00:00:00</td><td>1970-01-01 19:00:00</td><td>2.0               </td><td>1292.0            </td><td>112.0              </td><td>9.4               </td><td>955.0             </td><td>103.0             </td><td>1174.0            </td><td>92.0              </td><td>1559.0            </td><td>972.0             </td><td>13.3             </td><td>47.7              </td><td>0.7255            </td><td>nan  </td><td>nan  </td></tr>\n",
              "<tr><td>2      </td><td>2004-03-10 00:00:00</td><td>1970-01-01 20:00:00</td><td>2.2               </td><td>1402.0            </td><td>88.0               </td><td>9.0               </td><td>939.0             </td><td>131.0             </td><td>1140.0            </td><td>114.0             </td><td>1555.0            </td><td>1074.0            </td><td>11.9             </td><td>54.0              </td><td>0.7502            </td><td>nan  </td><td>nan  </td></tr>\n",
              "<tr><td>3      </td><td>2004-03-10 00:00:00</td><td>1970-01-01 21:00:00</td><td>2.2               </td><td>1376.0            </td><td>80.0               </td><td>9.2               </td><td>948.0             </td><td>172.0             </td><td>1092.0            </td><td>122.0             </td><td>1584.0            </td><td>1203.0            </td><td>11.0             </td><td>60.0              </td><td>0.7867            </td><td>nan  </td><td>nan  </td></tr>\n",
              "<tr><td>4      </td><td>2004-03-10 00:00:00</td><td>1970-01-01 22:00:00</td><td>1.6               </td><td>1272.0            </td><td>51.0               </td><td>6.5               </td><td>836.0             </td><td>131.0             </td><td>1205.0            </td><td>116.0             </td><td>1490.0            </td><td>1110.0            </td><td>11.2             </td><td>59.6              </td><td>0.7888            </td><td>nan  </td><td>nan  </td></tr>\n",
              "<tr><td>5      </td><td>2004-03-10 00:00:00</td><td>1970-01-01 23:00:00</td><td>1.2               </td><td>1197.0            </td><td>38.0               </td><td>4.7               </td><td>750.0             </td><td>89.0              </td><td>1337.0            </td><td>96.0              </td><td>1393.0            </td><td>949.0             </td><td>11.2             </td><td>59.2              </td><td>0.7848            </td><td>nan  </td><td>nan  </td></tr>\n",
              "<tr><td>6      </td><td>2004-03-11 00:00:00</td><td>1970-01-01 00:00:00</td><td>1.2               </td><td>1185.0            </td><td>31.0               </td><td>3.6               </td><td>690.0             </td><td>62.0              </td><td>1462.0            </td><td>77.0              </td><td>1333.0            </td><td>733.0             </td><td>11.3             </td><td>56.8              </td><td>0.7603            </td><td>nan  </td><td>nan  </td></tr>\n",
              "<tr><td>7      </td><td>2004-03-11 00:00:00</td><td>1970-01-01 01:00:00</td><td>1.0               </td><td>1136.0            </td><td>31.0               </td><td>3.3               </td><td>672.0             </td><td>62.0              </td><td>1453.0            </td><td>76.0              </td><td>1333.0            </td><td>730.0             </td><td>10.7             </td><td>60.0              </td><td>0.7702            </td><td>nan  </td><td>nan  </td></tr>\n",
              "<tr><td>8      </td><td>2004-03-11 00:00:00</td><td>1970-01-01 02:00:00</td><td>0.9               </td><td>1094.0            </td><td>24.0               </td><td>2.3               </td><td>609.0             </td><td>45.0              </td><td>1579.0            </td><td>60.0              </td><td>1276.0            </td><td>620.0             </td><td>10.7             </td><td>59.7              </td><td>0.7648            </td><td>nan  </td><td>nan  </td></tr>\n",
              "<tr><td>9      </td><td>2004-03-11 00:00:00</td><td>1970-01-01 05:00:00</td><td>0.7               </td><td>1066.0            </td><td>8.0                </td><td>1.1               </td><td>512.0             </td><td>16.0              </td><td>1918.0            </td><td>28.0              </td><td>1182.0            </td><td>422.0             </td><td>11.0             </td><td>56.2              </td><td>0.7366            </td><td>nan  </td><td>nan  </td></tr>\n",
              "</tbody>\n",
              "</table><pre style='font-size: smaller; margin-bottom: 1em;'>[6941 rows x 17 columns]</pre>"
            ],
            "text/plain": [
              "         Date                 Time                 CO(GT)              PT08.S1(CO)         NMHC(GT)             C6H6(GT)            PT08.S2(NMHC)       NOx(GT)             PT08.S3(NOx)        NO2(GT)             PT08.S4(NO2)        PT08.S5(O3)         T                  RH                  AH                  C16    C17\n",
              "-------  -------------------  -------------------  ------------------  ------------------  -------------------  ------------------  ------------------  ------------------  ------------------  ------------------  ------------------  ------------------  -----------------  ------------------  ------------------  -----  -----\n",
              "type     time                 time                 real                int                 int                  real                int                 int                 int                 int                 int                 int                 real               real                real                int    int\n",
              "mins     1078876800000.0      0.0                  0.1                 647.0               -200.0               0.2                 390.0               2.0                 322.0               2.0                 551.0               221.0               -1.9               9.2                 0.1847              NaN    NaN\n",
              "mean     1096292667454.2573   43272612.01555972    2.182466503385679   1119.9132689814148  -148.64457570955193  10.554487825961674  958.543005330644    250.6719492868464   816.8933871200115   113.87408154444604  1452.6488978533353  1057.7565192335398  17.75532344042645  48.881904624693846  0.9855727416798732  0.0    0.0\n",
              "maxs     1112572800000.0      82800000.0           11.9                2040.0              1189.0               63.7                2214.0              1479.0              2683.0              333.0               2775.0              2523.0              44.6               88.7                2.1806              NaN    NaN\n",
              "sigma    10209950756.50728    24530127.460908916   1.4411578844974917  218.73375371137746  157.07675309957494   7.4652263285217915  264.05500158779716  208.61137082789276  251.89719985517954  47.47501685972731   353.30157566388084  406.5099568661767   8.844908952625895  17.433193302036663  0.4010966206986037  -0.0   -0.0\n",
              "zeros    0                    308                  0                   0                   0                    0                   0                   0                   0                   0                   0                   0                   1                  0                   0                   0      0\n",
              "missing  0                    0                    0                   0                   0                    0                   0                   0                   0                   0                   0                   0                   0                  0                   0                   6941   6941\n",
              "0        2004-03-10 00:00:00  1970-01-01 18:00:00  2.6                 1360.0              150.0                11.9                1046.0              166.0               1056.0              113.0               1692.0              1268.0              13.6               48.9                0.7578              nan    nan\n",
              "1        2004-03-10 00:00:00  1970-01-01 19:00:00  2.0                 1292.0              112.0                9.4                 955.0               103.0               1174.0              92.0                1559.0              972.0               13.3               47.7                0.7255              nan    nan\n",
              "2        2004-03-10 00:00:00  1970-01-01 20:00:00  2.2                 1402.0              88.0                 9.0                 939.0               131.0               1140.0              114.0               1555.0              1074.0              11.9               54.0                0.7502              nan    nan\n",
              "3        2004-03-10 00:00:00  1970-01-01 21:00:00  2.2                 1376.0              80.0                 9.2                 948.0               172.0               1092.0              122.0               1584.0              1203.0              11.0               60.0                0.7867              nan    nan\n",
              "4        2004-03-10 00:00:00  1970-01-01 22:00:00  1.6                 1272.0              51.0                 6.5                 836.0               131.0               1205.0              116.0               1490.0              1110.0              11.2               59.6                0.7888              nan    nan\n",
              "5        2004-03-10 00:00:00  1970-01-01 23:00:00  1.2                 1197.0              38.0                 4.7                 750.0               89.0                1337.0              96.0                1393.0              949.0               11.2               59.2                0.7848              nan    nan\n",
              "6        2004-03-11 00:00:00  1970-01-01 00:00:00  1.2                 1185.0              31.0                 3.6                 690.0               62.0                1462.0              77.0                1333.0              733.0               11.3               56.8                0.7603              nan    nan\n",
              "7        2004-03-11 00:00:00  1970-01-01 01:00:00  1.0                 1136.0              31.0                 3.3                 672.0               62.0                1453.0              76.0                1333.0              730.0               10.7               60.0                0.7702              nan    nan\n",
              "8        2004-03-11 00:00:00  1970-01-01 02:00:00  0.9                 1094.0              24.0                 2.3                 609.0               45.0                1579.0              60.0                1276.0              620.0               10.7               59.7                0.7648              nan    nan\n",
              "9        2004-03-11 00:00:00  1970-01-01 05:00:00  0.7                 1066.0              8.0                  1.1                 512.0               16.0                1918.0              28.0                1182.0              422.0               11.0               56.2                0.7366              nan    nan\n",
              "[6941 rows x 17 columns]\n"
            ]
          },
          "metadata": {},
          "output_type": "display_data"
        }
      ],
      "source": [
        "s12.describe()"
      ]
    },
    {
      "cell_type": "code",
      "execution_count": 23,
      "metadata": {
        "colab": {
          "base_uri": "https://localhost:8080/"
        },
        "id": "5kCHUKeZgVGS",
        "outputId": "174d6ed8-cdc4-4543-cd1f-72f06e0ccf6f"
      },
      "outputs": [
        {
          "data": {
            "text/plain": [
              "(6941, 17)"
            ]
          },
          "execution_count": 23,
          "metadata": {},
          "output_type": "execute_result"
        }
      ],
      "source": [
        "s12.shape"
      ]
    },
    {
      "cell_type": "code",
      "execution_count": 24,
      "metadata": {
        "id": "OqfObqfygXyR"
      },
      "outputs": [],
      "source": [
        "# Create a 75/25 train/test splie\n",
        "pct_rows=0.75\n",
        "s12_train, s12_test = s12.split_frame([pct_rows])"
      ]
    },
    {
      "cell_type": "code",
      "execution_count": 25,
      "metadata": {
        "colab": {
          "base_uri": "https://localhost:8080/"
        },
        "id": "plmswT0tgeQY",
        "outputId": "2ec7c6da-247d-4726-ad32-09ccd1b8122d"
      },
      "outputs": [
        {
          "name": "stdout",
          "output_type": "stream",
          "text": [
            "(5230, 17)\n",
            "(1711, 17)\n"
          ]
        }
      ],
      "source": [
        "print(s12_train.shape)\n",
        "print(s12_test.shape)"
      ]
    },
    {
      "cell_type": "code",
      "execution_count": 26,
      "metadata": {
        "colab": {
          "base_uri": "https://localhost:8080/",
          "height": 389
        },
        "id": "YwLp_-Koggma",
        "outputId": "9ed23c83-294f-4a0c-9411-f75ad3578c19"
      },
      "outputs": [
        {
          "data": {
            "text/html": [
              "<table class='dataframe'>\n",
              "<thead>\n",
              "<tr><th>Date               </th><th>Time               </th><th style=\"text-align: right;\">  CO(GT)</th><th style=\"text-align: right;\">  PT08.S1(CO)</th><th style=\"text-align: right;\">  NMHC(GT)</th><th style=\"text-align: right;\">  C6H6(GT)</th><th style=\"text-align: right;\">  PT08.S2(NMHC)</th><th style=\"text-align: right;\">  NOx(GT)</th><th style=\"text-align: right;\">  PT08.S3(NOx)</th><th style=\"text-align: right;\">  NO2(GT)</th><th style=\"text-align: right;\">  PT08.S4(NO2)</th><th style=\"text-align: right;\">  PT08.S5(O3)</th><th style=\"text-align: right;\">   T</th><th style=\"text-align: right;\">  RH</th><th style=\"text-align: right;\">    AH</th><th style=\"text-align: right;\">  C16</th><th style=\"text-align: right;\">  C17</th></tr>\n",
              "</thead>\n",
              "<tbody>\n",
              "<tr><td>2004-03-10 00:00:00</td><td>1970-01-01 18:00:00</td><td style=\"text-align: right;\">     2.6</td><td style=\"text-align: right;\">         1360</td><td style=\"text-align: right;\">       150</td><td style=\"text-align: right;\">      11.9</td><td style=\"text-align: right;\">           1046</td><td style=\"text-align: right;\">      166</td><td style=\"text-align: right;\">          1056</td><td style=\"text-align: right;\">      113</td><td style=\"text-align: right;\">          1692</td><td style=\"text-align: right;\">         1268</td><td style=\"text-align: right;\">13.6</td><td style=\"text-align: right;\">48.9</td><td style=\"text-align: right;\">0.7578</td><td style=\"text-align: right;\">  nan</td><td style=\"text-align: right;\">  nan</td></tr>\n",
              "<tr><td>2004-03-10 00:00:00</td><td>1970-01-01 19:00:00</td><td style=\"text-align: right;\">     2  </td><td style=\"text-align: right;\">         1292</td><td style=\"text-align: right;\">       112</td><td style=\"text-align: right;\">       9.4</td><td style=\"text-align: right;\">            955</td><td style=\"text-align: right;\">      103</td><td style=\"text-align: right;\">          1174</td><td style=\"text-align: right;\">       92</td><td style=\"text-align: right;\">          1559</td><td style=\"text-align: right;\">          972</td><td style=\"text-align: right;\">13.3</td><td style=\"text-align: right;\">47.7</td><td style=\"text-align: right;\">0.7255</td><td style=\"text-align: right;\">  nan</td><td style=\"text-align: right;\">  nan</td></tr>\n",
              "<tr><td>2004-03-10 00:00:00</td><td>1970-01-01 20:00:00</td><td style=\"text-align: right;\">     2.2</td><td style=\"text-align: right;\">         1402</td><td style=\"text-align: right;\">        88</td><td style=\"text-align: right;\">       9  </td><td style=\"text-align: right;\">            939</td><td style=\"text-align: right;\">      131</td><td style=\"text-align: right;\">          1140</td><td style=\"text-align: right;\">      114</td><td style=\"text-align: right;\">          1555</td><td style=\"text-align: right;\">         1074</td><td style=\"text-align: right;\">11.9</td><td style=\"text-align: right;\">54  </td><td style=\"text-align: right;\">0.7502</td><td style=\"text-align: right;\">  nan</td><td style=\"text-align: right;\">  nan</td></tr>\n",
              "<tr><td>2004-03-10 00:00:00</td><td>1970-01-01 21:00:00</td><td style=\"text-align: right;\">     2.2</td><td style=\"text-align: right;\">         1376</td><td style=\"text-align: right;\">        80</td><td style=\"text-align: right;\">       9.2</td><td style=\"text-align: right;\">            948</td><td style=\"text-align: right;\">      172</td><td style=\"text-align: right;\">          1092</td><td style=\"text-align: right;\">      122</td><td style=\"text-align: right;\">          1584</td><td style=\"text-align: right;\">         1203</td><td style=\"text-align: right;\">11  </td><td style=\"text-align: right;\">60  </td><td style=\"text-align: right;\">0.7867</td><td style=\"text-align: right;\">  nan</td><td style=\"text-align: right;\">  nan</td></tr>\n",
              "<tr><td>2004-03-10 00:00:00</td><td>1970-01-01 22:00:00</td><td style=\"text-align: right;\">     1.6</td><td style=\"text-align: right;\">         1272</td><td style=\"text-align: right;\">        51</td><td style=\"text-align: right;\">       6.5</td><td style=\"text-align: right;\">            836</td><td style=\"text-align: right;\">      131</td><td style=\"text-align: right;\">          1205</td><td style=\"text-align: right;\">      116</td><td style=\"text-align: right;\">          1490</td><td style=\"text-align: right;\">         1110</td><td style=\"text-align: right;\">11.2</td><td style=\"text-align: right;\">59.6</td><td style=\"text-align: right;\">0.7888</td><td style=\"text-align: right;\">  nan</td><td style=\"text-align: right;\">  nan</td></tr>\n",
              "<tr><td>2004-03-10 00:00:00</td><td>1970-01-01 23:00:00</td><td style=\"text-align: right;\">     1.2</td><td style=\"text-align: right;\">         1197</td><td style=\"text-align: right;\">        38</td><td style=\"text-align: right;\">       4.7</td><td style=\"text-align: right;\">            750</td><td style=\"text-align: right;\">       89</td><td style=\"text-align: right;\">          1337</td><td style=\"text-align: right;\">       96</td><td style=\"text-align: right;\">          1393</td><td style=\"text-align: right;\">          949</td><td style=\"text-align: right;\">11.2</td><td style=\"text-align: right;\">59.2</td><td style=\"text-align: right;\">0.7848</td><td style=\"text-align: right;\">  nan</td><td style=\"text-align: right;\">  nan</td></tr>\n",
              "<tr><td>2004-03-11 00:00:00</td><td>1970-01-01 00:00:00</td><td style=\"text-align: right;\">     1.2</td><td style=\"text-align: right;\">         1185</td><td style=\"text-align: right;\">        31</td><td style=\"text-align: right;\">       3.6</td><td style=\"text-align: right;\">            690</td><td style=\"text-align: right;\">       62</td><td style=\"text-align: right;\">          1462</td><td style=\"text-align: right;\">       77</td><td style=\"text-align: right;\">          1333</td><td style=\"text-align: right;\">          733</td><td style=\"text-align: right;\">11.3</td><td style=\"text-align: right;\">56.8</td><td style=\"text-align: right;\">0.7603</td><td style=\"text-align: right;\">  nan</td><td style=\"text-align: right;\">  nan</td></tr>\n",
              "<tr><td>2004-03-11 00:00:00</td><td>1970-01-01 01:00:00</td><td style=\"text-align: right;\">     1  </td><td style=\"text-align: right;\">         1136</td><td style=\"text-align: right;\">        31</td><td style=\"text-align: right;\">       3.3</td><td style=\"text-align: right;\">            672</td><td style=\"text-align: right;\">       62</td><td style=\"text-align: right;\">          1453</td><td style=\"text-align: right;\">       76</td><td style=\"text-align: right;\">          1333</td><td style=\"text-align: right;\">          730</td><td style=\"text-align: right;\">10.7</td><td style=\"text-align: right;\">60  </td><td style=\"text-align: right;\">0.7702</td><td style=\"text-align: right;\">  nan</td><td style=\"text-align: right;\">  nan</td></tr>\n",
              "<tr><td>2004-03-11 00:00:00</td><td>1970-01-01 02:00:00</td><td style=\"text-align: right;\">     0.9</td><td style=\"text-align: right;\">         1094</td><td style=\"text-align: right;\">        24</td><td style=\"text-align: right;\">       2.3</td><td style=\"text-align: right;\">            609</td><td style=\"text-align: right;\">       45</td><td style=\"text-align: right;\">          1579</td><td style=\"text-align: right;\">       60</td><td style=\"text-align: right;\">          1276</td><td style=\"text-align: right;\">          620</td><td style=\"text-align: right;\">10.7</td><td style=\"text-align: right;\">59.7</td><td style=\"text-align: right;\">0.7648</td><td style=\"text-align: right;\">  nan</td><td style=\"text-align: right;\">  nan</td></tr>\n",
              "<tr><td>2004-03-11 00:00:00</td><td>1970-01-01 05:00:00</td><td style=\"text-align: right;\">     0.7</td><td style=\"text-align: right;\">         1066</td><td style=\"text-align: right;\">         8</td><td style=\"text-align: right;\">       1.1</td><td style=\"text-align: right;\">            512</td><td style=\"text-align: right;\">       16</td><td style=\"text-align: right;\">          1918</td><td style=\"text-align: right;\">       28</td><td style=\"text-align: right;\">          1182</td><td style=\"text-align: right;\">          422</td><td style=\"text-align: right;\">11  </td><td style=\"text-align: right;\">56.2</td><td style=\"text-align: right;\">0.7366</td><td style=\"text-align: right;\">  nan</td><td style=\"text-align: right;\">  nan</td></tr>\n",
              "</tbody>\n",
              "</table><pre style='font-size: smaller; margin-bottom: 1em;'>[10 rows x 17 columns]</pre>"
            ],
            "text/plain": [
              "Date                 Time                   CO(GT)    PT08.S1(CO)    NMHC(GT)    C6H6(GT)    PT08.S2(NMHC)    NOx(GT)    PT08.S3(NOx)    NO2(GT)    PT08.S4(NO2)    PT08.S5(O3)     T    RH      AH    C16    C17\n",
              "-------------------  -------------------  --------  -------------  ----------  ----------  ---------------  ---------  --------------  ---------  --------------  -------------  ----  ----  ------  -----  -----\n",
              "2004-03-10 00:00:00  1970-01-01 18:00:00       2.6           1360         150        11.9             1046        166            1056        113            1692           1268  13.6  48.9  0.7578    nan    nan\n",
              "2004-03-10 00:00:00  1970-01-01 19:00:00       2             1292         112         9.4              955        103            1174         92            1559            972  13.3  47.7  0.7255    nan    nan\n",
              "2004-03-10 00:00:00  1970-01-01 20:00:00       2.2           1402          88         9                939        131            1140        114            1555           1074  11.9  54    0.7502    nan    nan\n",
              "2004-03-10 00:00:00  1970-01-01 21:00:00       2.2           1376          80         9.2              948        172            1092        122            1584           1203  11    60    0.7867    nan    nan\n",
              "2004-03-10 00:00:00  1970-01-01 22:00:00       1.6           1272          51         6.5              836        131            1205        116            1490           1110  11.2  59.6  0.7888    nan    nan\n",
              "2004-03-10 00:00:00  1970-01-01 23:00:00       1.2           1197          38         4.7              750         89            1337         96            1393            949  11.2  59.2  0.7848    nan    nan\n",
              "2004-03-11 00:00:00  1970-01-01 00:00:00       1.2           1185          31         3.6              690         62            1462         77            1333            733  11.3  56.8  0.7603    nan    nan\n",
              "2004-03-11 00:00:00  1970-01-01 01:00:00       1             1136          31         3.3              672         62            1453         76            1333            730  10.7  60    0.7702    nan    nan\n",
              "2004-03-11 00:00:00  1970-01-01 02:00:00       0.9           1094          24         2.3              609         45            1579         60            1276            620  10.7  59.7  0.7648    nan    nan\n",
              "2004-03-11 00:00:00  1970-01-01 05:00:00       0.7           1066           8         1.1              512         16            1918         28            1182            422  11    56.2  0.7366    nan    nan\n",
              "[10 rows x 17 columns]\n"
            ]
          },
          "execution_count": 26,
          "metadata": {},
          "output_type": "execute_result"
        }
      ],
      "source": [
        "# return an output of the dataframe\n",
        "s12_train.head()"
      ]
    },
    {
      "cell_type": "code",
      "execution_count": 27,
      "metadata": {
        "colab": {
          "base_uri": "https://localhost:8080/",
          "height": 691
        },
        "id": "ZbeLS9iNxXjZ",
        "outputId": "a6e81440-3a43-43ea-9a3f-1fa02316ee4b"
      },
      "outputs": [
        {
          "data": {
            "text/html": [
              "<pre style='margin: 1em 0 1em 0;'>Rows:5230\n",
              "Cols:17\n",
              "</pre>"
            ],
            "text/plain": [
              "Rows:5230\n",
              "Cols:17\n"
            ]
          },
          "metadata": {},
          "output_type": "display_data"
        },
        {
          "data": {
            "text/html": [
              "<table class='dataframe'>\n",
              "<thead>\n",
              "<tr><th>       </th><th>Date               </th><th>Time               </th><th>CO(GT)            </th><th>PT08.S1(CO)       </th><th>NMHC(GT)           </th><th>C6H6(GT)          </th><th>PT08.S2(NMHC)    </th><th>NOx(GT)           </th><th>PT08.S3(NOx)      </th><th>NO2(GT)           </th><th>PT08.S4(NO2)      </th><th>PT08.S5(O3)       </th><th>T                 </th><th>RH                </th><th>AH                </th><th>C16  </th><th>C17  </th></tr>\n",
              "</thead>\n",
              "<tbody>\n",
              "<tr><td>type   </td><td>time               </td><td>time               </td><td>real              </td><td>int               </td><td>int                </td><td>real              </td><td>int              </td><td>int               </td><td>int               </td><td>int               </td><td>int               </td><td>int               </td><td>real              </td><td>real              </td><td>real              </td><td>int  </td><td>int  </td></tr>\n",
              "<tr><td>mins   </td><td>1078876800000.0    </td><td>0.0                </td><td>0.1               </td><td>647.0             </td><td>-200.0             </td><td>0.2               </td><td>397.0            </td><td>2.0               </td><td>325.0             </td><td>2.0               </td><td>561.0             </td><td>225.0             </td><td>-1.9              </td><td>9.2               </td><td>0.1847            </td><td>NaN  </td><td>NaN  </td></tr>\n",
              "<tr><td>mean   </td><td>1096306537973.2308 </td><td>43445047.80114723  </td><td>2.188432122370936 </td><td>1120.0430210325046</td><td>-147.43824091778197</td><td>10.552351816443595</td><td>958.9588910133841</td><td>250.99158699808797</td><td>815.817017208413  </td><td>113.87724665391976</td><td>1452.5627151051626</td><td>1057.8460803059272</td><td>17.733479923518164</td><td>48.92302103250477 </td><td>0.9856938623326957</td><td>0.0  </td><td>0.0  </td></tr>\n",
              "<tr><td>maxs   </td><td>1112572800000.0    </td><td>82800000.0         </td><td>11.9              </td><td>2008.0            </td><td>1129.0             </td><td>63.7              </td><td>2214.0           </td><td>1479.0            </td><td>2542.0            </td><td>333.0             </td><td>2746.0            </td><td>2523.0            </td><td>44.6              </td><td>88.7              </td><td>2.1806            </td><td>NaN  </td><td>NaN  </td></tr>\n",
              "<tr><td>sigma  </td><td>10232693370.477268 </td><td>24577951.623604614 </td><td>1.4341509991735761</td><td>217.24358837852787</td><td>158.6956548630335  </td><td>7.417699471980408 </td><td>262.4456261151375</td><td>207.66029420018387</td><td>250.05164273852347</td><td>47.212797307050884</td><td>352.35690512395837</td><td>405.3986950517181 </td><td>8.803323791894094 </td><td>17.449928083136978</td><td>0.4029355671639208</td><td>-0.0 </td><td>-0.0 </td></tr>\n",
              "<tr><td>zeros  </td><td>0                  </td><td>237                </td><td>0                 </td><td>0                 </td><td>0                  </td><td>0                 </td><td>0                </td><td>0                 </td><td>0                 </td><td>0                 </td><td>0                 </td><td>0                 </td><td>1                 </td><td>0                 </td><td>0                 </td><td>0    </td><td>0    </td></tr>\n",
              "<tr><td>missing</td><td>0                  </td><td>0                  </td><td>0                 </td><td>0                 </td><td>0                  </td><td>0                 </td><td>0                </td><td>0                 </td><td>0                 </td><td>0                 </td><td>0                 </td><td>0                 </td><td>0                 </td><td>0                 </td><td>0                 </td><td>5230 </td><td>5230 </td></tr>\n",
              "<tr><td>0      </td><td>2004-03-10 00:00:00</td><td>1970-01-01 18:00:00</td><td>2.6               </td><td>1360.0            </td><td>150.0              </td><td>11.9              </td><td>1046.0           </td><td>166.0             </td><td>1056.0            </td><td>113.0             </td><td>1692.0            </td><td>1268.0            </td><td>13.6              </td><td>48.9              </td><td>0.7578            </td><td>nan  </td><td>nan  </td></tr>\n",
              "<tr><td>1      </td><td>2004-03-10 00:00:00</td><td>1970-01-01 19:00:00</td><td>2.0               </td><td>1292.0            </td><td>112.0              </td><td>9.4               </td><td>955.0            </td><td>103.0             </td><td>1174.0            </td><td>92.0              </td><td>1559.0            </td><td>972.0             </td><td>13.3              </td><td>47.7              </td><td>0.7255            </td><td>nan  </td><td>nan  </td></tr>\n",
              "<tr><td>2      </td><td>2004-03-10 00:00:00</td><td>1970-01-01 20:00:00</td><td>2.2               </td><td>1402.0            </td><td>88.0               </td><td>9.0               </td><td>939.0            </td><td>131.0             </td><td>1140.0            </td><td>114.0             </td><td>1555.0            </td><td>1074.0            </td><td>11.9              </td><td>54.0              </td><td>0.7502            </td><td>nan  </td><td>nan  </td></tr>\n",
              "<tr><td>3      </td><td>2004-03-10 00:00:00</td><td>1970-01-01 21:00:00</td><td>2.2               </td><td>1376.0            </td><td>80.0               </td><td>9.2               </td><td>948.0            </td><td>172.0             </td><td>1092.0            </td><td>122.0             </td><td>1584.0            </td><td>1203.0            </td><td>11.0              </td><td>60.0              </td><td>0.7867            </td><td>nan  </td><td>nan  </td></tr>\n",
              "<tr><td>4      </td><td>2004-03-10 00:00:00</td><td>1970-01-01 22:00:00</td><td>1.6               </td><td>1272.0            </td><td>51.0               </td><td>6.5               </td><td>836.0            </td><td>131.0             </td><td>1205.0            </td><td>116.0             </td><td>1490.0            </td><td>1110.0            </td><td>11.2              </td><td>59.6              </td><td>0.7888            </td><td>nan  </td><td>nan  </td></tr>\n",
              "<tr><td>5      </td><td>2004-03-10 00:00:00</td><td>1970-01-01 23:00:00</td><td>1.2               </td><td>1197.0            </td><td>38.0               </td><td>4.7               </td><td>750.0            </td><td>89.0              </td><td>1337.0            </td><td>96.0              </td><td>1393.0            </td><td>949.0             </td><td>11.2              </td><td>59.2              </td><td>0.7848            </td><td>nan  </td><td>nan  </td></tr>\n",
              "<tr><td>6      </td><td>2004-03-11 00:00:00</td><td>1970-01-01 00:00:00</td><td>1.2               </td><td>1185.0            </td><td>31.0               </td><td>3.6               </td><td>690.0            </td><td>62.0              </td><td>1462.0            </td><td>77.0              </td><td>1333.0            </td><td>733.0             </td><td>11.3              </td><td>56.8              </td><td>0.7603            </td><td>nan  </td><td>nan  </td></tr>\n",
              "<tr><td>7      </td><td>2004-03-11 00:00:00</td><td>1970-01-01 01:00:00</td><td>1.0               </td><td>1136.0            </td><td>31.0               </td><td>3.3               </td><td>672.0            </td><td>62.0              </td><td>1453.0            </td><td>76.0              </td><td>1333.0            </td><td>730.0             </td><td>10.7              </td><td>60.0              </td><td>0.7702            </td><td>nan  </td><td>nan  </td></tr>\n",
              "<tr><td>8      </td><td>2004-03-11 00:00:00</td><td>1970-01-01 02:00:00</td><td>0.9               </td><td>1094.0            </td><td>24.0               </td><td>2.3               </td><td>609.0            </td><td>45.0              </td><td>1579.0            </td><td>60.0              </td><td>1276.0            </td><td>620.0             </td><td>10.7              </td><td>59.7              </td><td>0.7648            </td><td>nan  </td><td>nan  </td></tr>\n",
              "<tr><td>9      </td><td>2004-03-11 00:00:00</td><td>1970-01-01 05:00:00</td><td>0.7               </td><td>1066.0            </td><td>8.0                </td><td>1.1               </td><td>512.0            </td><td>16.0              </td><td>1918.0            </td><td>28.0              </td><td>1182.0            </td><td>422.0             </td><td>11.0              </td><td>56.2              </td><td>0.7366            </td><td>nan  </td><td>nan  </td></tr>\n",
              "</tbody>\n",
              "</table><pre style='font-size: smaller; margin-bottom: 1em;'>[5230 rows x 17 columns]</pre>"
            ],
            "text/plain": [
              "         Date                 Time                 CO(GT)              PT08.S1(CO)         NMHC(GT)             C6H6(GT)            PT08.S2(NMHC)      NOx(GT)             PT08.S3(NOx)        NO2(GT)             PT08.S4(NO2)        PT08.S5(O3)         T                   RH                  AH                  C16    C17\n",
              "-------  -------------------  -------------------  ------------------  ------------------  -------------------  ------------------  -----------------  ------------------  ------------------  ------------------  ------------------  ------------------  ------------------  ------------------  ------------------  -----  -----\n",
              "type     time                 time                 real                int                 int                  real                int                int                 int                 int                 int                 int                 real                real                real                int    int\n",
              "mins     1078876800000.0      0.0                  0.1                 647.0               -200.0               0.2                 397.0              2.0                 325.0               2.0                 561.0               225.0               -1.9                9.2                 0.1847              NaN    NaN\n",
              "mean     1096306537973.2308   43445047.80114723    2.188432122370936   1120.0430210325046  -147.43824091778197  10.552351816443595  958.9588910133841  250.99158699808797  815.817017208413    113.87724665391976  1452.5627151051626  1057.8460803059272  17.733479923518164  48.92302103250477   0.9856938623326957  0.0    0.0\n",
              "maxs     1112572800000.0      82800000.0           11.9                2008.0              1129.0               63.7                2214.0             1479.0              2542.0              333.0               2746.0              2523.0              44.6                88.7                2.1806              NaN    NaN\n",
              "sigma    10232693370.477268   24577951.623604614   1.4341509991735761  217.24358837852787  158.6956548630335    7.417699471980408   262.4456261151375  207.66029420018387  250.05164273852347  47.212797307050884  352.35690512395837  405.3986950517181   8.803323791894094   17.449928083136978  0.4029355671639208  -0.0   -0.0\n",
              "zeros    0                    237                  0                   0                   0                    0                   0                  0                   0                   0                   0                   0                   1                   0                   0                   0      0\n",
              "missing  0                    0                    0                   0                   0                    0                   0                  0                   0                   0                   0                   0                   0                   0                   0                   5230   5230\n",
              "0        2004-03-10 00:00:00  1970-01-01 18:00:00  2.6                 1360.0              150.0                11.9                1046.0             166.0               1056.0              113.0               1692.0              1268.0              13.6                48.9                0.7578              nan    nan\n",
              "1        2004-03-10 00:00:00  1970-01-01 19:00:00  2.0                 1292.0              112.0                9.4                 955.0              103.0               1174.0              92.0                1559.0              972.0               13.3                47.7                0.7255              nan    nan\n",
              "2        2004-03-10 00:00:00  1970-01-01 20:00:00  2.2                 1402.0              88.0                 9.0                 939.0              131.0               1140.0              114.0               1555.0              1074.0              11.9                54.0                0.7502              nan    nan\n",
              "3        2004-03-10 00:00:00  1970-01-01 21:00:00  2.2                 1376.0              80.0                 9.2                 948.0              172.0               1092.0              122.0               1584.0              1203.0              11.0                60.0                0.7867              nan    nan\n",
              "4        2004-03-10 00:00:00  1970-01-01 22:00:00  1.6                 1272.0              51.0                 6.5                 836.0              131.0               1205.0              116.0               1490.0              1110.0              11.2                59.6                0.7888              nan    nan\n",
              "5        2004-03-10 00:00:00  1970-01-01 23:00:00  1.2                 1197.0              38.0                 4.7                 750.0              89.0                1337.0              96.0                1393.0              949.0               11.2                59.2                0.7848              nan    nan\n",
              "6        2004-03-11 00:00:00  1970-01-01 00:00:00  1.2                 1185.0              31.0                 3.6                 690.0              62.0                1462.0              77.0                1333.0              733.0               11.3                56.8                0.7603              nan    nan\n",
              "7        2004-03-11 00:00:00  1970-01-01 01:00:00  1.0                 1136.0              31.0                 3.3                 672.0              62.0                1453.0              76.0                1333.0              730.0               10.7                60.0                0.7702              nan    nan\n",
              "8        2004-03-11 00:00:00  1970-01-01 02:00:00  0.9                 1094.0              24.0                 2.3                 609.0              45.0                1579.0              60.0                1276.0              620.0               10.7                59.7                0.7648              nan    nan\n",
              "9        2004-03-11 00:00:00  1970-01-01 05:00:00  0.7                 1066.0              8.0                  1.1                 512.0              16.0                1918.0              28.0                1182.0              422.0               11.0                56.2                0.7366              nan    nan\n",
              "[5230 rows x 17 columns]\n"
            ]
          },
          "metadata": {},
          "output_type": "display_data"
        }
      ],
      "source": [
        "s12_train.describe()"
      ]
    },
    {
      "cell_type": "code",
      "execution_count": 28,
      "metadata": {
        "colab": {
          "base_uri": "https://localhost:8080/"
        },
        "id": "-fxOKriEgnyI",
        "outputId": "aadeb89e-10e2-43ea-ae0b-04178b8650bc"
      },
      "outputs": [
        {
          "name": "stdout",
          "output_type": "stream",
          "text": [
            "['Date', 'Time', 'CO(GT)', 'PT08.S1(CO)', 'NMHC(GT)', 'C6H6(GT)', 'PT08.S2(NMHC)', 'NOx(GT)', 'PT08.S3(NOx)', 'NO2(GT)', 'PT08.S4(NO2)', 'PT08.S5(O3)', 'T', 'RH', 'AH', 'C16', 'C17']\n"
          ]
        }
      ],
      "source": [
        "# Set the features and target\n",
        "X=s12.columns\n",
        "print(X)"
      ]
    },
    {
      "cell_type": "code",
      "execution_count": 29,
      "metadata": {
        "colab": {
          "base_uri": "https://localhost:8080/"
        },
        "id": "8tpOcC4qgpKJ",
        "outputId": "598095d3-bddc-4e4d-ca85-65f25268a301"
      },
      "outputs": [
        {
          "name": "stdout",
          "output_type": "stream",
          "text": [
            "['CO(GT)', 'PT08.S1(CO)', 'C6H6(GT)', 'PT08.S2(NMHC)', 'NOx(GT)', 'PT08.S3(NOx)', 'NO2(GT)', 'PT08.S4(NO2)', 'PT08.S5(O3)', 'RH', 'AH']\n"
          ]
        }
      ],
      "source": [
        "# Set target and predictor variables\n",
        "y='T'\n",
        "X.remove(y) \n",
        "X.remove('Date')\n",
        "X.remove(\"Time\")\n",
        "X.remove('C16')\n",
        "X.remove('C17')\n",
        "X.remove('NMHC(GT)')\n",
        "\n",
        "print(X)\n"
      ]
    },
    {
      "cell_type": "code",
      "execution_count": 30,
      "metadata": {
        "id": "1s7QwskuhtfX"
      },
      "outputs": [],
      "source": [
        "# Set a minimum memory size and a run time in seconds\n",
        "min_mem_size=6 \n",
        "run_time=222"
      ]
    },
    {
      "cell_type": "code",
      "execution_count": 31,
      "metadata": {
        "colab": {
          "base_uri": "https://localhost:8080/"
        },
        "id": "VEaVO-CkhyXe",
        "outputId": "96f4a998-1a33-4a9a-8dc6-711387ad9cdb"
      },
      "outputs": [
        {
          "name": "stdout",
          "output_type": "stream",
          "text": [
            "6\n"
          ]
        }
      ],
      "source": [
        "# Use 50% of availible resources\n",
        "pct_memory=0.5\n",
        "virtual_memory=psutil.virtual_memory()\n",
        "min_mem_size=int(round(int(pct_memory*virtual_memory.available)/1073741824,0))\n",
        "print(min_mem_size)"
      ]
    },
    {
      "cell_type": "code",
      "execution_count": 32,
      "metadata": {
        "id": "s1s3kJ1fkdxh"
      },
      "outputs": [],
      "source": [
        "from h2o.estimators.gbm import H2OGradientBoostingEstimator\n",
        "from h2o.grid.grid_search import H2OGridSearch"
      ]
    },
    {
      "cell_type": "code",
      "execution_count": 33,
      "metadata": {
        "id": "j1IUMkxrkVQx"
      },
      "outputs": [],
      "source": [
        "gbm_params1 = {'learn_rate': [0.01, 0.1],\n",
        "                'max_depth': [3, 5, 9],\n",
        "                'sample_rate': [0.8, 1.0],\n",
        "                'col_sample_rate': [0.2, 0.5, 1.0]}"
      ]
    },
    {
      "cell_type": "code",
      "execution_count": 34,
      "metadata": {
        "colab": {
          "base_uri": "https://localhost:8080/",
          "height": 572
        },
        "id": "audxNdmjkxe3",
        "outputId": "50afa7b1-ed04-4486-a0c0-03bfa03e58f7"
      },
      "outputs": [
        {
          "name": "stdout",
          "output_type": "stream",
          "text": [
            "gbm Grid Build progress: |███████████████████████████████████████████████████████| (done) 100%\n"
          ]
        },
        {
          "data": {
            "text/html": [
              "\n",
              "<style>\n",
              "\n",
              "#h2o-table-2.h2o-container {\n",
              "  overflow-x: auto;\n",
              "}\n",
              "#h2o-table-2 .h2o-table {\n",
              "  /* width: 100%; */\n",
              "  margin-top: 1em;\n",
              "  margin-bottom: 1em;\n",
              "}\n",
              "#h2o-table-2 .h2o-table caption {\n",
              "  white-space: nowrap;\n",
              "  caption-side: top;\n",
              "  text-align: left;\n",
              "  /* margin-left: 1em; */\n",
              "  margin: 0;\n",
              "  font-size: larger;\n",
              "}\n",
              "#h2o-table-2 .h2o-table thead {\n",
              "  white-space: nowrap; \n",
              "  position: sticky;\n",
              "  top: 0;\n",
              "  box-shadow: 0 -1px inset;\n",
              "}\n",
              "#h2o-table-2 .h2o-table tbody {\n",
              "  overflow: auto;\n",
              "}\n",
              "#h2o-table-2 .h2o-table th,\n",
              "#h2o-table-2 .h2o-table td {\n",
              "  text-align: right;\n",
              "  /* border: 1px solid; */\n",
              "}\n",
              "#h2o-table-2 .h2o-table tr:nth-child(even) {\n",
              "  /* background: #F5F5F5 */\n",
              "}\n",
              "\n",
              "</style>      \n",
              "<div id=\"h2o-table-2\" class=\"h2o-container\">\n",
              "  <table class=\"h2o-table\">\n",
              "    <caption>Hyper-Parameter Search Summary: ordered by increasing residual_deviance</caption>\n",
              "    <thead><tr><th></th>\n",
              "<th>col_sample_rate</th>\n",
              "<th>learn_rate</th>\n",
              "<th>max_depth</th>\n",
              "<th>sample_rate</th>\n",
              "<th>model_ids</th>\n",
              "<th>residual_deviance</th></tr></thead>\n",
              "    <tbody><tr><td></td>\n",
              "<td>1.0</td>\n",
              "<td>0.1</td>\n",
              "<td>9.0</td>\n",
              "<td>0.8</td>\n",
              "<td>gbm_grid1_model_18</td>\n",
              "<td>0.0477888</td></tr>\n",
              "<tr><td></td>\n",
              "<td>1.0</td>\n",
              "<td>0.1</td>\n",
              "<td>9.0</td>\n",
              "<td>1.0</td>\n",
              "<td>gbm_grid1_model_36</td>\n",
              "<td>0.0552215</td></tr>\n",
              "<tr><td></td>\n",
              "<td>1.0</td>\n",
              "<td>0.1</td>\n",
              "<td>5.0</td>\n",
              "<td>0.8</td>\n",
              "<td>gbm_grid1_model_12</td>\n",
              "<td>0.0991365</td></tr>\n",
              "<tr><td></td>\n",
              "<td>1.0</td>\n",
              "<td>0.1</td>\n",
              "<td>5.0</td>\n",
              "<td>1.0</td>\n",
              "<td>gbm_grid1_model_30</td>\n",
              "<td>0.1036601</td></tr>\n",
              "<tr><td></td>\n",
              "<td>1.0</td>\n",
              "<td>0.1</td>\n",
              "<td>3.0</td>\n",
              "<td>1.0</td>\n",
              "<td>gbm_grid1_model_24</td>\n",
              "<td>0.2917608</td></tr>\n",
              "<tr><td></td>\n",
              "<td>1.0</td>\n",
              "<td>0.1</td>\n",
              "<td>3.0</td>\n",
              "<td>0.8</td>\n",
              "<td>gbm_grid1_model_6</td>\n",
              "<td>0.3058264</td></tr>\n",
              "<tr><td></td>\n",
              "<td>0.5</td>\n",
              "<td>0.1</td>\n",
              "<td>9.0</td>\n",
              "<td>0.8</td>\n",
              "<td>gbm_grid1_model_17</td>\n",
              "<td>0.3778339</td></tr>\n",
              "<tr><td></td>\n",
              "<td>0.5</td>\n",
              "<td>0.1</td>\n",
              "<td>9.0</td>\n",
              "<td>1.0</td>\n",
              "<td>gbm_grid1_model_35</td>\n",
              "<td>0.3922024</td></tr>\n",
              "<tr><td></td>\n",
              "<td>0.5</td>\n",
              "<td>0.1</td>\n",
              "<td>5.0</td>\n",
              "<td>1.0</td>\n",
              "<td>gbm_grid1_model_29</td>\n",
              "<td>0.4164274</td></tr>\n",
              "<tr><td></td>\n",
              "<td>0.5</td>\n",
              "<td>0.1</td>\n",
              "<td>5.0</td>\n",
              "<td>0.8</td>\n",
              "<td>gbm_grid1_model_11</td>\n",
              "<td>0.4405302</td></tr>\n",
              "<tr><td>---</td>\n",
              "<td>---</td>\n",
              "<td>---</td>\n",
              "<td>---</td>\n",
              "<td>---</td>\n",
              "<td>---</td>\n",
              "<td>---</td></tr>\n",
              "<tr><td></td>\n",
              "<td>0.2</td>\n",
              "<td>0.01</td>\n",
              "<td>9.0</td>\n",
              "<td>1.0</td>\n",
              "<td>gbm_grid1_model_31</td>\n",
              "<td>17.6411012</td></tr>\n",
              "<tr><td></td>\n",
              "<td>0.2</td>\n",
              "<td>0.01</td>\n",
              "<td>9.0</td>\n",
              "<td>0.8</td>\n",
              "<td>gbm_grid1_model_13</td>\n",
              "<td>17.9552236</td></tr>\n",
              "<tr><td></td>\n",
              "<td>1.0</td>\n",
              "<td>0.01</td>\n",
              "<td>3.0</td>\n",
              "<td>0.8</td>\n",
              "<td>gbm_grid1_model_3</td>\n",
              "<td>19.3499318</td></tr>\n",
              "<tr><td></td>\n",
              "<td>1.0</td>\n",
              "<td>0.01</td>\n",
              "<td>3.0</td>\n",
              "<td>1.0</td>\n",
              "<td>gbm_grid1_model_21</td>\n",
              "<td>19.4184500</td></tr>\n",
              "<tr><td></td>\n",
              "<td>0.5</td>\n",
              "<td>0.01</td>\n",
              "<td>3.0</td>\n",
              "<td>0.8</td>\n",
              "<td>gbm_grid1_model_2</td>\n",
              "<td>24.8368809</td></tr>\n",
              "<tr><td></td>\n",
              "<td>0.5</td>\n",
              "<td>0.01</td>\n",
              "<td>3.0</td>\n",
              "<td>1.0</td>\n",
              "<td>gbm_grid1_model_20</td>\n",
              "<td>24.9900287</td></tr>\n",
              "<tr><td></td>\n",
              "<td>0.2</td>\n",
              "<td>0.01</td>\n",
              "<td>5.0</td>\n",
              "<td>1.0</td>\n",
              "<td>gbm_grid1_model_25</td>\n",
              "<td>25.2952907</td></tr>\n",
              "<tr><td></td>\n",
              "<td>0.2</td>\n",
              "<td>0.01</td>\n",
              "<td>5.0</td>\n",
              "<td>0.8</td>\n",
              "<td>gbm_grid1_model_7</td>\n",
              "<td>25.3737253</td></tr>\n",
              "<tr><td></td>\n",
              "<td>0.2</td>\n",
              "<td>0.01</td>\n",
              "<td>3.0</td>\n",
              "<td>1.0</td>\n",
              "<td>gbm_grid1_model_19</td>\n",
              "<td>35.3238275</td></tr>\n",
              "<tr><td></td>\n",
              "<td>0.2</td>\n",
              "<td>0.01</td>\n",
              "<td>3.0</td>\n",
              "<td>0.8</td>\n",
              "<td>gbm_grid1_model_1</td>\n",
              "<td>35.4546494</td></tr></tbody>\n",
              "  </table>\n",
              "</div>\n",
              "<pre style='font-size: smaller; margin-bottom: 1em;'>[36 rows x 7 columns]</pre>"
            ],
            "text/plain": [
              "Hyper-Parameter Search Summary: ordered by increasing residual_deviance\n",
              "     col_sample_rate    learn_rate    max_depth    sample_rate    model_ids           residual_deviance\n",
              "---  -----------------  ------------  -----------  -------------  ------------------  --------------------\n",
              "     1.0                0.1           9.0          0.8            gbm_grid1_model_18  0.047788825828423434\n",
              "     1.0                0.1           9.0          1.0            gbm_grid1_model_36  0.05522152043944048\n",
              "     1.0                0.1           5.0          0.8            gbm_grid1_model_12  0.09913651161963248\n",
              "     1.0                0.1           5.0          1.0            gbm_grid1_model_30  0.1036600700705905\n",
              "     1.0                0.1           3.0          1.0            gbm_grid1_model_24  0.29176083351150395\n",
              "     1.0                0.1           3.0          0.8            gbm_grid1_model_6   0.3058263674870197\n",
              "     0.5                0.1           9.0          0.8            gbm_grid1_model_17  0.3778338933621855\n",
              "     0.5                0.1           9.0          1.0            gbm_grid1_model_35  0.3922024123898813\n",
              "     0.5                0.1           5.0          1.0            gbm_grid1_model_29  0.4164273806947302\n",
              "     0.5                0.1           5.0          0.8            gbm_grid1_model_11  0.4405302198183083\n",
              "---  ---                ---           ---          ---            ---                 ---\n",
              "     0.2                0.01          9.0          1.0            gbm_grid1_model_31  17.64110117789068\n",
              "     0.2                0.01          9.0          0.8            gbm_grid1_model_13  17.95522357485868\n",
              "     1.0                0.01          3.0          0.8            gbm_grid1_model_3   19.349931798458073\n",
              "     1.0                0.01          3.0          1.0            gbm_grid1_model_21  19.418449981834602\n",
              "     0.5                0.01          3.0          0.8            gbm_grid1_model_2   24.836880863032007\n",
              "     0.5                0.01          3.0          1.0            gbm_grid1_model_20  24.9900287236735\n",
              "     0.2                0.01          5.0          1.0            gbm_grid1_model_25  25.295290723790288\n",
              "     0.2                0.01          5.0          0.8            gbm_grid1_model_7   25.373725292433015\n",
              "     0.2                0.01          3.0          1.0            gbm_grid1_model_19  35.323827502613526\n",
              "     0.2                0.01          3.0          0.8            gbm_grid1_model_1   35.45464940148274\n",
              "[36 rows x 7 columns]\n"
            ]
          },
          "execution_count": 34,
          "metadata": {},
          "output_type": "execute_result"
        }
      ],
      "source": [
        "gbm_grid1 = H2OGridSearch(model=H2OGradientBoostingEstimator,\n",
        "                          grid_id='gbm_grid1',\n",
        "                          hyper_params=gbm_params1)\n",
        "gbm_grid1.train(x=X, y=y,\n",
        "                training_frame=s12_train,\n",
        "                validation_frame=s12_test,\n",
        "                ntrees=100,\n",
        "                seed=1)"
      ]
    },
    {
      "cell_type": "code",
      "execution_count": 35,
      "metadata": {
        "id": "DCz3ZR42lZ5l"
      },
      "outputs": [],
      "source": [
        "gbm_gridperf1 = gbm_grid1.get_grid( sort_by='mse',decreasing=False)\n"
      ]
    },
    {
      "cell_type": "code",
      "execution_count": 36,
      "metadata": {
        "colab": {
          "base_uri": "https://localhost:8080/",
          "height": 554
        },
        "id": "cEktEU7InqrN",
        "outputId": "cd794bf5-0f95-46a5-b0a0-91207b45a9f0"
      },
      "outputs": [
        {
          "data": {
            "text/html": [
              "\n",
              "<style>\n",
              "\n",
              "#h2o-table-3.h2o-container {\n",
              "  overflow-x: auto;\n",
              "}\n",
              "#h2o-table-3 .h2o-table {\n",
              "  /* width: 100%; */\n",
              "  margin-top: 1em;\n",
              "  margin-bottom: 1em;\n",
              "}\n",
              "#h2o-table-3 .h2o-table caption {\n",
              "  white-space: nowrap;\n",
              "  caption-side: top;\n",
              "  text-align: left;\n",
              "  /* margin-left: 1em; */\n",
              "  margin: 0;\n",
              "  font-size: larger;\n",
              "}\n",
              "#h2o-table-3 .h2o-table thead {\n",
              "  white-space: nowrap; \n",
              "  position: sticky;\n",
              "  top: 0;\n",
              "  box-shadow: 0 -1px inset;\n",
              "}\n",
              "#h2o-table-3 .h2o-table tbody {\n",
              "  overflow: auto;\n",
              "}\n",
              "#h2o-table-3 .h2o-table th,\n",
              "#h2o-table-3 .h2o-table td {\n",
              "  text-align: right;\n",
              "  /* border: 1px solid; */\n",
              "}\n",
              "#h2o-table-3 .h2o-table tr:nth-child(even) {\n",
              "  /* background: #F5F5F5 */\n",
              "}\n",
              "\n",
              "</style>      \n",
              "<div id=\"h2o-table-3\" class=\"h2o-container\">\n",
              "  <table class=\"h2o-table\">\n",
              "    <caption>Hyper-Parameter Search Summary: ordered by increasing mse</caption>\n",
              "    <thead><tr><th></th>\n",
              "<th>col_sample_rate</th>\n",
              "<th>learn_rate</th>\n",
              "<th>max_depth</th>\n",
              "<th>sample_rate</th>\n",
              "<th>model_ids</th>\n",
              "<th>mse</th></tr></thead>\n",
              "    <tbody><tr><td></td>\n",
              "<td>1.0</td>\n",
              "<td>0.1</td>\n",
              "<td>9.0</td>\n",
              "<td>0.8</td>\n",
              "<td>gbm_grid1_model_18</td>\n",
              "<td>0.0477888</td></tr>\n",
              "<tr><td></td>\n",
              "<td>1.0</td>\n",
              "<td>0.1</td>\n",
              "<td>9.0</td>\n",
              "<td>1.0</td>\n",
              "<td>gbm_grid1_model_36</td>\n",
              "<td>0.0552215</td></tr>\n",
              "<tr><td></td>\n",
              "<td>1.0</td>\n",
              "<td>0.1</td>\n",
              "<td>5.0</td>\n",
              "<td>0.8</td>\n",
              "<td>gbm_grid1_model_12</td>\n",
              "<td>0.0991365</td></tr>\n",
              "<tr><td></td>\n",
              "<td>1.0</td>\n",
              "<td>0.1</td>\n",
              "<td>5.0</td>\n",
              "<td>1.0</td>\n",
              "<td>gbm_grid1_model_30</td>\n",
              "<td>0.1036601</td></tr>\n",
              "<tr><td></td>\n",
              "<td>1.0</td>\n",
              "<td>0.1</td>\n",
              "<td>3.0</td>\n",
              "<td>1.0</td>\n",
              "<td>gbm_grid1_model_24</td>\n",
              "<td>0.2917608</td></tr>\n",
              "<tr><td></td>\n",
              "<td>1.0</td>\n",
              "<td>0.1</td>\n",
              "<td>3.0</td>\n",
              "<td>0.8</td>\n",
              "<td>gbm_grid1_model_6</td>\n",
              "<td>0.3058264</td></tr>\n",
              "<tr><td></td>\n",
              "<td>0.5</td>\n",
              "<td>0.1</td>\n",
              "<td>9.0</td>\n",
              "<td>0.8</td>\n",
              "<td>gbm_grid1_model_17</td>\n",
              "<td>0.3778339</td></tr>\n",
              "<tr><td></td>\n",
              "<td>0.5</td>\n",
              "<td>0.1</td>\n",
              "<td>9.0</td>\n",
              "<td>1.0</td>\n",
              "<td>gbm_grid1_model_35</td>\n",
              "<td>0.3922024</td></tr>\n",
              "<tr><td></td>\n",
              "<td>0.5</td>\n",
              "<td>0.1</td>\n",
              "<td>5.0</td>\n",
              "<td>1.0</td>\n",
              "<td>gbm_grid1_model_29</td>\n",
              "<td>0.4164274</td></tr>\n",
              "<tr><td></td>\n",
              "<td>0.5</td>\n",
              "<td>0.1</td>\n",
              "<td>5.0</td>\n",
              "<td>0.8</td>\n",
              "<td>gbm_grid1_model_11</td>\n",
              "<td>0.4405302</td></tr>\n",
              "<tr><td>---</td>\n",
              "<td>---</td>\n",
              "<td>---</td>\n",
              "<td>---</td>\n",
              "<td>---</td>\n",
              "<td>---</td>\n",
              "<td>---</td></tr>\n",
              "<tr><td></td>\n",
              "<td>0.2</td>\n",
              "<td>0.01</td>\n",
              "<td>9.0</td>\n",
              "<td>1.0</td>\n",
              "<td>gbm_grid1_model_31</td>\n",
              "<td>17.6411012</td></tr>\n",
              "<tr><td></td>\n",
              "<td>0.2</td>\n",
              "<td>0.01</td>\n",
              "<td>9.0</td>\n",
              "<td>0.8</td>\n",
              "<td>gbm_grid1_model_13</td>\n",
              "<td>17.9552236</td></tr>\n",
              "<tr><td></td>\n",
              "<td>1.0</td>\n",
              "<td>0.01</td>\n",
              "<td>3.0</td>\n",
              "<td>0.8</td>\n",
              "<td>gbm_grid1_model_3</td>\n",
              "<td>19.3499318</td></tr>\n",
              "<tr><td></td>\n",
              "<td>1.0</td>\n",
              "<td>0.01</td>\n",
              "<td>3.0</td>\n",
              "<td>1.0</td>\n",
              "<td>gbm_grid1_model_21</td>\n",
              "<td>19.4184500</td></tr>\n",
              "<tr><td></td>\n",
              "<td>0.5</td>\n",
              "<td>0.01</td>\n",
              "<td>3.0</td>\n",
              "<td>0.8</td>\n",
              "<td>gbm_grid1_model_2</td>\n",
              "<td>24.8368809</td></tr>\n",
              "<tr><td></td>\n",
              "<td>0.5</td>\n",
              "<td>0.01</td>\n",
              "<td>3.0</td>\n",
              "<td>1.0</td>\n",
              "<td>gbm_grid1_model_20</td>\n",
              "<td>24.9900287</td></tr>\n",
              "<tr><td></td>\n",
              "<td>0.2</td>\n",
              "<td>0.01</td>\n",
              "<td>5.0</td>\n",
              "<td>1.0</td>\n",
              "<td>gbm_grid1_model_25</td>\n",
              "<td>25.2952907</td></tr>\n",
              "<tr><td></td>\n",
              "<td>0.2</td>\n",
              "<td>0.01</td>\n",
              "<td>5.0</td>\n",
              "<td>0.8</td>\n",
              "<td>gbm_grid1_model_7</td>\n",
              "<td>25.3737253</td></tr>\n",
              "<tr><td></td>\n",
              "<td>0.2</td>\n",
              "<td>0.01</td>\n",
              "<td>3.0</td>\n",
              "<td>1.0</td>\n",
              "<td>gbm_grid1_model_19</td>\n",
              "<td>35.3238275</td></tr>\n",
              "<tr><td></td>\n",
              "<td>0.2</td>\n",
              "<td>0.01</td>\n",
              "<td>3.0</td>\n",
              "<td>0.8</td>\n",
              "<td>gbm_grid1_model_1</td>\n",
              "<td>35.4546494</td></tr></tbody>\n",
              "  </table>\n",
              "</div>\n",
              "<pre style='font-size: smaller; margin-bottom: 1em;'>[36 rows x 7 columns]</pre>"
            ],
            "text/plain": [
              "Hyper-Parameter Search Summary: ordered by increasing mse\n",
              "     col_sample_rate    learn_rate    max_depth    sample_rate    model_ids           mse\n",
              "---  -----------------  ------------  -----------  -------------  ------------------  --------------------\n",
              "     1.0                0.1           9.0          0.8            gbm_grid1_model_18  0.047788825828423434\n",
              "     1.0                0.1           9.0          1.0            gbm_grid1_model_36  0.05522152043944048\n",
              "     1.0                0.1           5.0          0.8            gbm_grid1_model_12  0.09913651161963248\n",
              "     1.0                0.1           5.0          1.0            gbm_grid1_model_30  0.1036600700705905\n",
              "     1.0                0.1           3.0          1.0            gbm_grid1_model_24  0.29176083351150395\n",
              "     1.0                0.1           3.0          0.8            gbm_grid1_model_6   0.3058263674870197\n",
              "     0.5                0.1           9.0          0.8            gbm_grid1_model_17  0.3778338933621855\n",
              "     0.5                0.1           9.0          1.0            gbm_grid1_model_35  0.3922024123898813\n",
              "     0.5                0.1           5.0          1.0            gbm_grid1_model_29  0.4164273806947302\n",
              "     0.5                0.1           5.0          0.8            gbm_grid1_model_11  0.4405302198183083\n",
              "---  ---                ---           ---          ---            ---                 ---\n",
              "     0.2                0.01          9.0          1.0            gbm_grid1_model_31  17.64110117789068\n",
              "     0.2                0.01          9.0          0.8            gbm_grid1_model_13  17.95522357485868\n",
              "     1.0                0.01          3.0          0.8            gbm_grid1_model_3   19.349931798458073\n",
              "     1.0                0.01          3.0          1.0            gbm_grid1_model_21  19.418449981834602\n",
              "     0.5                0.01          3.0          0.8            gbm_grid1_model_2   24.836880863032007\n",
              "     0.5                0.01          3.0          1.0            gbm_grid1_model_20  24.9900287236735\n",
              "     0.2                0.01          5.0          1.0            gbm_grid1_model_25  25.295290723790288\n",
              "     0.2                0.01          5.0          0.8            gbm_grid1_model_7   25.373725292433015\n",
              "     0.2                0.01          3.0          1.0            gbm_grid1_model_19  35.323827502613526\n",
              "     0.2                0.01          3.0          0.8            gbm_grid1_model_1   35.45464940148274\n",
              "[36 rows x 7 columns]\n"
            ]
          },
          "execution_count": 36,
          "metadata": {},
          "output_type": "execute_result"
        }
      ],
      "source": [
        "gbm_gridperf1\n"
      ]
    },
    {
      "cell_type": "code",
      "execution_count": 37,
      "metadata": {
        "id": "BlveAqyml2ks"
      },
      "outputs": [],
      "source": [
        "best_gbm1 = gbm_gridperf1.models[0]"
      ]
    },
    {
      "cell_type": "code",
      "execution_count": 38,
      "metadata": {
        "colab": {
          "base_uri": "https://localhost:8080/"
        },
        "id": "UUEFoh0ul6F7",
        "outputId": "f0b6ec69-e876-498b-b57f-0fa07681be49"
      },
      "outputs": [
        {
          "data": {
            "text/plain": [
              "<bound method MetricsBase.mse of H2ORegressionModelMetrics({'_metric_json': {'__meta': {'schema_version': 3, 'schema_name': 'ModelMetricsRegressionV3', 'schema_type': 'ModelMetricsRegression'}, 'model': {'__meta': {'schema_version': 3, 'schema_name': 'ModelKeyV3', 'schema_type': 'Key<Model>'}, 'name': 'gbm_grid1_model_18', 'type': 'Key<Model>', 'URL': '/3/Models/gbm_grid1_model_18'}, 'model_checksum': 4232476333383707840, 'frame': {'__meta': {'schema_version': 3, 'schema_name': 'FrameKeyV3', 'schema_type': 'Key<Frame>'}, 'name': 'py_28_sid_9838', 'type': 'Key<Frame>', 'URL': '/3/Frames/py_28_sid_9838'}, 'frame_checksum': -7813826229203890052, 'description': None, 'model_category': 'Regression', 'scoring_time': 1667507619360, 'predictions': None, 'MSE': 0.047788825828423434, 'RMSE': 0.21860655486152156, 'nobs': 1711, 'custom_metric_name': None, 'custom_metric_value': 0.0, 'r2': 0.9994061241613494, 'mean_residual_deviance': 0.047788825828423434, 'mae': 0.14095671936470613, 'rmsle': 'NaN'}, '_on': 'test', '_algo': 'gbm', '_bci': {'giniCoef': <bound method <lambda> of H2ORegressionModelMetrics({...})>}})>"
            ]
          },
          "execution_count": 38,
          "metadata": {},
          "output_type": "execute_result"
        }
      ],
      "source": [
        "best_gbm_perf1 = best_gbm1.model_performance(s12_test)\n",
        "best_gbm_perf1.mse\n"
      ]
    },
    {
      "cell_type": "code",
      "execution_count": 39,
      "metadata": {
        "id": "hmZ7VrkbOUzp"
      },
      "outputs": [],
      "source": [
        "air_glm = H2OGeneralizedLinearEstimator( lambda_ = 0,\n",
        "                        remove_collinear_columns = True,\n",
        "                          compute_p_values = True)"
      ]
    },
    {
      "cell_type": "code",
      "execution_count": 40,
      "metadata": {
        "colab": {
          "base_uri": "https://localhost:8080/",
          "height": 1000
        },
        "id": "rJP1zDkWOjJF",
        "outputId": "53c3e8a6-93f9-41e9-8c28-68f25bc78b7e"
      },
      "outputs": [
        {
          "name": "stdout",
          "output_type": "stream",
          "text": [
            "glm Model Build progress: |██████████████████████████████████████████████████████| (done) 100%\n"
          ]
        },
        {
          "data": {
            "text/html": [
              "<pre style='margin: 1em 0 1em 0;'>Model Details\n",
              "=============\n",
              "H2OGeneralizedLinearEstimator : Generalized Linear Modeling\n",
              "Model Key: GLM_model_python_1667507530352_1\n",
              "</pre>\n",
              "<div style='margin: 1em 0 1em 0;'>\n",
              "<style>\n",
              "\n",
              "#h2o-table-4.h2o-container {\n",
              "  overflow-x: auto;\n",
              "}\n",
              "#h2o-table-4 .h2o-table {\n",
              "  /* width: 100%; */\n",
              "  margin-top: 1em;\n",
              "  margin-bottom: 1em;\n",
              "}\n",
              "#h2o-table-4 .h2o-table caption {\n",
              "  white-space: nowrap;\n",
              "  caption-side: top;\n",
              "  text-align: left;\n",
              "  /* margin-left: 1em; */\n",
              "  margin: 0;\n",
              "  font-size: larger;\n",
              "}\n",
              "#h2o-table-4 .h2o-table thead {\n",
              "  white-space: nowrap; \n",
              "  position: sticky;\n",
              "  top: 0;\n",
              "  box-shadow: 0 -1px inset;\n",
              "}\n",
              "#h2o-table-4 .h2o-table tbody {\n",
              "  overflow: auto;\n",
              "}\n",
              "#h2o-table-4 .h2o-table th,\n",
              "#h2o-table-4 .h2o-table td {\n",
              "  text-align: right;\n",
              "  /* border: 1px solid; */\n",
              "}\n",
              "#h2o-table-4 .h2o-table tr:nth-child(even) {\n",
              "  /* background: #F5F5F5 */\n",
              "}\n",
              "\n",
              "</style>      \n",
              "<div id=\"h2o-table-4\" class=\"h2o-container\">\n",
              "  <table class=\"h2o-table\">\n",
              "    <caption>GLM Model: summary</caption>\n",
              "    <thead><tr><th></th>\n",
              "<th>family</th>\n",
              "<th>link</th>\n",
              "<th>regularization</th>\n",
              "<th>number_of_predictors_total</th>\n",
              "<th>number_of_active_predictors</th>\n",
              "<th>number_of_iterations</th>\n",
              "<th>training_frame</th></tr></thead>\n",
              "    <tbody><tr><td></td>\n",
              "<td>gaussian</td>\n",
              "<td>identity</td>\n",
              "<td>None</td>\n",
              "<td>11</td>\n",
              "<td>11</td>\n",
              "<td>1</td>\n",
              "<td>py_27_sid_9838</td></tr></tbody>\n",
              "  </table>\n",
              "</div>\n",
              "</div>\n",
              "<div style='margin: 1em 0 1em 0;'><pre style='margin: 1em 0 1em 0;'>ModelMetricsRegressionGLM: glm\n",
              "** Reported on train data. **\n",
              "\n",
              "MSE: 5.381398766303806\n",
              "RMSE: 2.319784206839896\n",
              "MAE: 1.7330995846829758\n",
              "RMSLE: NaN\n",
              "Mean Residual Deviance: 5.381398766303806\n",
              "R^2: 0.9305479817767031\n",
              "Null degrees of freedom: 5229\n",
              "Residual degrees of freedom: 5218\n",
              "Null deviance: 405239.7074665335\n",
              "Residual deviance: 28144.715547768905\n",
              "AIC: 23669.916844757732</pre></div>\n",
              "<div style='margin: 1em 0 1em 0;'><pre style='margin: 1em 0 1em 0;'>ModelMetricsRegressionGLM: glm\n",
              "** Reported on validation data. **\n",
              "\n",
              "MSE: 5.609249919994379\n",
              "RMSE: 2.368385509159009\n",
              "MAE: 1.7658793108424014\n",
              "RMSLE: NaN\n",
              "Mean Residual Deviance: 5.609249919994379\n",
              "R^2: 0.9302933699941162\n",
              "Null degrees of freedom: 1710\n",
              "Residual degrees of freedom: 1699\n",
              "Null deviance: 137696.5594821324\n",
              "Residual deviance: 9597.426613110381\n",
              "AIC: 7832.085158738636</pre></div>\n",
              "<div style='margin: 1em 0 1em 0;'>\n",
              "<style>\n",
              "\n",
              "#h2o-table-5.h2o-container {\n",
              "  overflow-x: auto;\n",
              "}\n",
              "#h2o-table-5 .h2o-table {\n",
              "  /* width: 100%; */\n",
              "  margin-top: 1em;\n",
              "  margin-bottom: 1em;\n",
              "}\n",
              "#h2o-table-5 .h2o-table caption {\n",
              "  white-space: nowrap;\n",
              "  caption-side: top;\n",
              "  text-align: left;\n",
              "  /* margin-left: 1em; */\n",
              "  margin: 0;\n",
              "  font-size: larger;\n",
              "}\n",
              "#h2o-table-5 .h2o-table thead {\n",
              "  white-space: nowrap; \n",
              "  position: sticky;\n",
              "  top: 0;\n",
              "  box-shadow: 0 -1px inset;\n",
              "}\n",
              "#h2o-table-5 .h2o-table tbody {\n",
              "  overflow: auto;\n",
              "}\n",
              "#h2o-table-5 .h2o-table th,\n",
              "#h2o-table-5 .h2o-table td {\n",
              "  text-align: right;\n",
              "  /* border: 1px solid; */\n",
              "}\n",
              "#h2o-table-5 .h2o-table tr:nth-child(even) {\n",
              "  /* background: #F5F5F5 */\n",
              "}\n",
              "\n",
              "</style>      \n",
              "<div id=\"h2o-table-5\" class=\"h2o-container\">\n",
              "  <table class=\"h2o-table\">\n",
              "    <caption>Scoring History: </caption>\n",
              "    <thead><tr><th></th>\n",
              "<th>timestamp</th>\n",
              "<th>duration</th>\n",
              "<th>iterations</th>\n",
              "<th>negative_log_likelihood</th>\n",
              "<th>objective</th>\n",
              "<th>training_rmse</th>\n",
              "<th>training_deviance</th>\n",
              "<th>training_mae</th>\n",
              "<th>training_r2</th>\n",
              "<th>validation_rmse</th>\n",
              "<th>validation_deviance</th>\n",
              "<th>validation_mae</th>\n",
              "<th>validation_r2</th></tr></thead>\n",
              "    <tbody><tr><td></td>\n",
              "<td>2022-11-03 20:33:39</td>\n",
              "<td> 0.000 sec</td>\n",
              "<td>0</td>\n",
              "<td>405239.7076654</td>\n",
              "<td>77.4836917</td>\n",
              "<td></td>\n",
              "<td></td>\n",
              "<td></td>\n",
              "<td></td>\n",
              "<td></td>\n",
              "<td></td>\n",
              "<td></td>\n",
              "<td></td></tr>\n",
              "<tr><td></td>\n",
              "<td>2022-11-03 20:33:39</td>\n",
              "<td> 0.185 sec</td>\n",
              "<td>1</td>\n",
              "<td></td>\n",
              "<td></td>\n",
              "<td>2.3197842</td>\n",
              "<td>5.3813988</td>\n",
              "<td>1.7330996</td>\n",
              "<td>0.9305480</td>\n",
              "<td>2.3683855</td>\n",
              "<td>5.6092499</td>\n",
              "<td>1.7658793</td>\n",
              "<td>0.9302934</td></tr></tbody>\n",
              "  </table>\n",
              "</div>\n",
              "</div>\n",
              "<div style='margin: 1em 0 1em 0;'>\n",
              "<style>\n",
              "\n",
              "#h2o-table-6.h2o-container {\n",
              "  overflow-x: auto;\n",
              "}\n",
              "#h2o-table-6 .h2o-table {\n",
              "  /* width: 100%; */\n",
              "  margin-top: 1em;\n",
              "  margin-bottom: 1em;\n",
              "}\n",
              "#h2o-table-6 .h2o-table caption {\n",
              "  white-space: nowrap;\n",
              "  caption-side: top;\n",
              "  text-align: left;\n",
              "  /* margin-left: 1em; */\n",
              "  margin: 0;\n",
              "  font-size: larger;\n",
              "}\n",
              "#h2o-table-6 .h2o-table thead {\n",
              "  white-space: nowrap; \n",
              "  position: sticky;\n",
              "  top: 0;\n",
              "  box-shadow: 0 -1px inset;\n",
              "}\n",
              "#h2o-table-6 .h2o-table tbody {\n",
              "  overflow: auto;\n",
              "}\n",
              "#h2o-table-6 .h2o-table th,\n",
              "#h2o-table-6 .h2o-table td {\n",
              "  text-align: right;\n",
              "  /* border: 1px solid; */\n",
              "}\n",
              "#h2o-table-6 .h2o-table tr:nth-child(even) {\n",
              "  /* background: #F5F5F5 */\n",
              "}\n",
              "\n",
              "</style>      \n",
              "<div id=\"h2o-table-6\" class=\"h2o-container\">\n",
              "  <table class=\"h2o-table\">\n",
              "    <caption>Variable Importances: </caption>\n",
              "    <thead><tr><th>variable</th>\n",
              "<th>relative_importance</th>\n",
              "<th>scaled_importance</th>\n",
              "<th>percentage</th></tr></thead>\n",
              "    <tbody><tr><td>RH</td>\n",
              "<td>5.9171906</td>\n",
              "<td>1.0</td>\n",
              "<td>0.2741387</td></tr>\n",
              "<tr><td>AH</td>\n",
              "<td>5.5691004</td>\n",
              "<td>0.9411731</td>\n",
              "<td>0.2580119</td></tr>\n",
              "<tr><td>PT08.S4(NO2)</td>\n",
              "<td>2.4557068</td>\n",
              "<td>0.4150123</td>\n",
              "<td>0.1137709</td></tr>\n",
              "<tr><td>C6H6(GT)</td>\n",
              "<td>2.4475095</td>\n",
              "<td>0.4136270</td>\n",
              "<td>0.1133911</td></tr>\n",
              "<tr><td>PT08.S2(NMHC)</td>\n",
              "<td>2.1181765</td>\n",
              "<td>0.3579700</td>\n",
              "<td>0.0981334</td></tr>\n",
              "<tr><td>PT08.S5(O3)</td>\n",
              "<td>1.0530376</td>\n",
              "<td>0.1779624</td>\n",
              "<td>0.0487864</td></tr>\n",
              "<tr><td>CO(GT)</td>\n",
              "<td>0.9126346</td>\n",
              "<td>0.1542344</td>\n",
              "<td>0.0422816</td></tr>\n",
              "<tr><td>NOx(GT)</td>\n",
              "<td>0.8889842</td>\n",
              "<td>0.1502375</td>\n",
              "<td>0.0411859</td></tr>\n",
              "<tr><td>PT08.S1(CO)</td>\n",
              "<td>0.1828626</td>\n",
              "<td>0.0309036</td>\n",
              "<td>0.0084719</td></tr>\n",
              "<tr><td>NO2(GT)</td>\n",
              "<td>0.0274395</td>\n",
              "<td>0.0046372</td>\n",
              "<td>0.0012712</td></tr>\n",
              "<tr><td>PT08.S3(NOx)</td>\n",
              "<td>0.0120198</td>\n",
              "<td>0.0020313</td>\n",
              "<td>0.0005569</td></tr></tbody>\n",
              "  </table>\n",
              "</div>\n",
              "</div><pre style=\"font-size: smaller; margin: 1em 0 0 0;\">\n",
              "\n",
              "[tips]\n",
              "Use `model.explain()` to inspect the model.\n",
              "--\n",
              "Use `h2o.display.toggle_user_tips()` to switch on/off this section.</pre>"
            ],
            "text/plain": [
              "Model Details\n",
              "=============\n",
              "H2OGeneralizedLinearEstimator : Generalized Linear Modeling\n",
              "Model Key: GLM_model_python_1667507530352_1\n",
              "\n",
              "\n",
              "GLM Model: summary\n",
              "    family    link      regularization    number_of_predictors_total    number_of_active_predictors    number_of_iterations    training_frame\n",
              "--  --------  --------  ----------------  ----------------------------  -----------------------------  ----------------------  ----------------\n",
              "    gaussian  identity  None              11                            11                             1                       py_27_sid_9838\n",
              "\n",
              "ModelMetricsRegressionGLM: glm\n",
              "** Reported on train data. **\n",
              "\n",
              "MSE: 5.381398766303806\n",
              "RMSE: 2.319784206839896\n",
              "MAE: 1.7330995846829758\n",
              "RMSLE: NaN\n",
              "Mean Residual Deviance: 5.381398766303806\n",
              "R^2: 0.9305479817767031\n",
              "Null degrees of freedom: 5229\n",
              "Residual degrees of freedom: 5218\n",
              "Null deviance: 405239.7074665335\n",
              "Residual deviance: 28144.715547768905\n",
              "AIC: 23669.916844757732\n",
              "\n",
              "ModelMetricsRegressionGLM: glm\n",
              "** Reported on validation data. **\n",
              "\n",
              "MSE: 5.609249919994379\n",
              "RMSE: 2.368385509159009\n",
              "MAE: 1.7658793108424014\n",
              "RMSLE: NaN\n",
              "Mean Residual Deviance: 5.609249919994379\n",
              "R^2: 0.9302933699941162\n",
              "Null degrees of freedom: 1710\n",
              "Residual degrees of freedom: 1699\n",
              "Null deviance: 137696.5594821324\n",
              "Residual deviance: 9597.426613110381\n",
              "AIC: 7832.085158738636\n",
              "\n",
              "Scoring History: \n",
              "    timestamp            duration    iterations    negative_log_likelihood    objective          training_rmse      training_deviance    training_mae        training_r2         validation_rmse    validation_deviance    validation_mae      validation_r2\n",
              "--  -------------------  ----------  ------------  -------------------------  -----------------  -----------------  -------------------  ------------------  ------------------  -----------------  ---------------------  ------------------  ------------------\n",
              "    2022-11-03 20:33:39  0.000 sec   0             405239.70766539196         77.48369171422408\n",
              "    2022-11-03 20:33:39  0.185 sec   1                                                           2.319784206839896  5.381398766303806    1.7330995846829758  0.9305479817767031  2.368385509159009  5.609249919994379      1.7658793108424014  0.9302933699941162\n",
              "\n",
              "Variable Importances: \n",
              "variable       relative_importance    scaled_importance    percentage\n",
              "-------------  ---------------------  -------------------  ------------\n",
              "RH             5.91719                1                    0.274139\n",
              "AH             5.5691                 0.941173             0.258012\n",
              "PT08.S4(NO2)   2.45571                0.415012             0.113771\n",
              "C6H6(GT)       2.44751                0.413627             0.113391\n",
              "PT08.S2(NMHC)  2.11818                0.35797              0.0981334\n",
              "PT08.S5(O3)    1.05304                0.177962             0.0487864\n",
              "CO(GT)         0.912635               0.154234             0.0422816\n",
              "NOx(GT)        0.888984               0.150238             0.0411859\n",
              "PT08.S1(CO)    0.182863               0.0309036            0.00847188\n",
              "NO2(GT)        0.0274395              0.00463725           0.00127125\n",
              "PT08.S3(NOx)   0.0120198              0.00203133           0.000556867\n",
              "\n",
              "[tips]\n",
              "Use `model.explain()` to inspect the model.\n",
              "--\n",
              "Use `h2o.display.toggle_user_tips()` to switch on/off this section."
            ]
          },
          "execution_count": 40,
          "metadata": {},
          "output_type": "execute_result"
        }
      ],
      "source": [
        "air_glm.train(x = X, y = y, training_frame = s12_train, validation_frame = s12_test)"
      ]
    },
    {
      "cell_type": "code",
      "execution_count": 41,
      "metadata": {
        "colab": {
          "base_uri": "https://localhost:8080/",
          "height": 1000
        },
        "id": "Nbm4y9FzuEsF",
        "outputId": "5393adca-ea3a-4bb2-ecf9-ecd9e377fd5a"
      },
      "outputs": [
        {
          "name": "stdout",
          "output_type": "stream",
          "text": [
            "glm Model Build progress: |"
          ]
        },
        {
          "name": "stderr",
          "output_type": "stream",
          "text": [
            "/usr/local/lib/python3.7/dist-packages/h2o/estimators/estimator_base.py:193: RuntimeWarning: remove_collinear_columns should only be used with no regularization, i.e. lambda=0.0.  It is used improperly here.  Please set lambda=0.\n",
            "  warnings.warn(mesg[\"message\"], RuntimeWarning)\n"
          ]
        },
        {
          "name": "stdout",
          "output_type": "stream",
          "text": [
            "██████████████████████████████████████████████████████| (done) 100%\n"
          ]
        },
        {
          "data": {
            "text/html": [
              "<pre style='margin: 1em 0 1em 0;'>Model Details\n",
              "=============\n",
              "H2OGeneralizedLinearEstimator : Generalized Linear Modeling\n",
              "Model Key: GLM_model_python_1667507530352_2\n",
              "</pre>\n",
              "<div style='margin: 1em 0 1em 0;'>\n",
              "<style>\n",
              "\n",
              "#h2o-table-7.h2o-container {\n",
              "  overflow-x: auto;\n",
              "}\n",
              "#h2o-table-7 .h2o-table {\n",
              "  /* width: 100%; */\n",
              "  margin-top: 1em;\n",
              "  margin-bottom: 1em;\n",
              "}\n",
              "#h2o-table-7 .h2o-table caption {\n",
              "  white-space: nowrap;\n",
              "  caption-side: top;\n",
              "  text-align: left;\n",
              "  /* margin-left: 1em; */\n",
              "  margin: 0;\n",
              "  font-size: larger;\n",
              "}\n",
              "#h2o-table-7 .h2o-table thead {\n",
              "  white-space: nowrap; \n",
              "  position: sticky;\n",
              "  top: 0;\n",
              "  box-shadow: 0 -1px inset;\n",
              "}\n",
              "#h2o-table-7 .h2o-table tbody {\n",
              "  overflow: auto;\n",
              "}\n",
              "#h2o-table-7 .h2o-table th,\n",
              "#h2o-table-7 .h2o-table td {\n",
              "  text-align: right;\n",
              "  /* border: 1px solid; */\n",
              "}\n",
              "#h2o-table-7 .h2o-table tr:nth-child(even) {\n",
              "  /* background: #F5F5F5 */\n",
              "}\n",
              "\n",
              "</style>      \n",
              "<div id=\"h2o-table-7\" class=\"h2o-container\">\n",
              "  <table class=\"h2o-table\">\n",
              "    <caption>GLM Model: summary</caption>\n",
              "    <thead><tr><th></th>\n",
              "<th>family</th>\n",
              "<th>link</th>\n",
              "<th>regularization</th>\n",
              "<th>number_of_predictors_total</th>\n",
              "<th>number_of_active_predictors</th>\n",
              "<th>number_of_iterations</th>\n",
              "<th>training_frame</th></tr></thead>\n",
              "    <tbody><tr><td></td>\n",
              "<td>gaussian</td>\n",
              "<td>identity</td>\n",
              "<td>Elastic Net (alpha = 0.5, lambda = 1.0 )</td>\n",
              "<td>11</td>\n",
              "<td>7</td>\n",
              "<td>1</td>\n",
              "<td>py_27_sid_9838</td></tr></tbody>\n",
              "  </table>\n",
              "</div>\n",
              "</div>\n",
              "<div style='margin: 1em 0 1em 0;'><pre style='margin: 1em 0 1em 0;'>ModelMetricsRegressionGLM: glm\n",
              "** Reported on train data. **\n",
              "\n",
              "MSE: 5.601209046729513\n",
              "RMSE: 2.3666873571998295\n",
              "MAE: 1.7637743592905442\n",
              "RMSLE: NaN\n",
              "Mean Residual Deviance: 5.601209046729513\n",
              "R^2: 0.9277111231336703\n",
              "Null degrees of freedom: 5229\n",
              "Residual degrees of freedom: 5222\n",
              "Null deviance: 405239.7074665335\n",
              "Residual deviance: 29294.32331439535\n",
              "AIC: 23871.29540491542</pre></div>\n",
              "<div style='margin: 1em 0 1em 0;'><pre style='margin: 1em 0 1em 0;'>ModelMetricsRegressionGLM: glm\n",
              "** Reported on validation data. **\n",
              "\n",
              "MSE: 5.800952914347432\n",
              "RMSE: 2.4085167457062515\n",
              "MAE: 1.7795354059075164\n",
              "RMSLE: NaN\n",
              "Mean Residual Deviance: 5.800952914347432\n",
              "R^2: 0.9279110604359779\n",
              "Null degrees of freedom: 1710\n",
              "Residual degrees of freedom: 1703\n",
              "Null deviance: 137696.5594821324\n",
              "Residual deviance: 9925.430436448456\n",
              "AIC: 7881.58364420098</pre></div>\n",
              "<div style='margin: 1em 0 1em 0;'>\n",
              "<style>\n",
              "\n",
              "#h2o-table-8.h2o-container {\n",
              "  overflow-x: auto;\n",
              "}\n",
              "#h2o-table-8 .h2o-table {\n",
              "  /* width: 100%; */\n",
              "  margin-top: 1em;\n",
              "  margin-bottom: 1em;\n",
              "}\n",
              "#h2o-table-8 .h2o-table caption {\n",
              "  white-space: nowrap;\n",
              "  caption-side: top;\n",
              "  text-align: left;\n",
              "  /* margin-left: 1em; */\n",
              "  margin: 0;\n",
              "  font-size: larger;\n",
              "}\n",
              "#h2o-table-8 .h2o-table thead {\n",
              "  white-space: nowrap; \n",
              "  position: sticky;\n",
              "  top: 0;\n",
              "  box-shadow: 0 -1px inset;\n",
              "}\n",
              "#h2o-table-8 .h2o-table tbody {\n",
              "  overflow: auto;\n",
              "}\n",
              "#h2o-table-8 .h2o-table th,\n",
              "#h2o-table-8 .h2o-table td {\n",
              "  text-align: right;\n",
              "  /* border: 1px solid; */\n",
              "}\n",
              "#h2o-table-8 .h2o-table tr:nth-child(even) {\n",
              "  /* background: #F5F5F5 */\n",
              "}\n",
              "\n",
              "</style>      \n",
              "<div id=\"h2o-table-8\" class=\"h2o-container\">\n",
              "  <table class=\"h2o-table\">\n",
              "    <caption>Scoring History: </caption>\n",
              "    <thead><tr><th></th>\n",
              "<th>timestamp</th>\n",
              "<th>duration</th>\n",
              "<th>iterations</th>\n",
              "<th>negative_log_likelihood</th>\n",
              "<th>objective</th>\n",
              "<th>training_rmse</th>\n",
              "<th>training_deviance</th>\n",
              "<th>training_mae</th>\n",
              "<th>training_r2</th>\n",
              "<th>validation_rmse</th>\n",
              "<th>validation_deviance</th>\n",
              "<th>validation_mae</th>\n",
              "<th>validation_r2</th></tr></thead>\n",
              "    <tbody><tr><td></td>\n",
              "<td>2022-11-03 20:33:40</td>\n",
              "<td> 0.000 sec</td>\n",
              "<td>0</td>\n",
              "<td>405239.7076654</td>\n",
              "<td>77.4836917</td>\n",
              "<td></td>\n",
              "<td></td>\n",
              "<td></td>\n",
              "<td></td>\n",
              "<td></td>\n",
              "<td></td>\n",
              "<td></td>\n",
              "<td></td></tr>\n",
              "<tr><td></td>\n",
              "<td>2022-11-03 20:33:40</td>\n",
              "<td> 0.049 sec</td>\n",
              "<td>1</td>\n",
              "<td></td>\n",
              "<td></td>\n",
              "<td>2.3666874</td>\n",
              "<td>5.6012090</td>\n",
              "<td>1.7637744</td>\n",
              "<td>0.9277111</td>\n",
              "<td>2.4085167</td>\n",
              "<td>5.8009529</td>\n",
              "<td>1.7795354</td>\n",
              "<td>0.9279111</td></tr></tbody>\n",
              "  </table>\n",
              "</div>\n",
              "</div>\n",
              "<div style='margin: 1em 0 1em 0;'>\n",
              "<style>\n",
              "\n",
              "#h2o-table-9.h2o-container {\n",
              "  overflow-x: auto;\n",
              "}\n",
              "#h2o-table-9 .h2o-table {\n",
              "  /* width: 100%; */\n",
              "  margin-top: 1em;\n",
              "  margin-bottom: 1em;\n",
              "}\n",
              "#h2o-table-9 .h2o-table caption {\n",
              "  white-space: nowrap;\n",
              "  caption-side: top;\n",
              "  text-align: left;\n",
              "  /* margin-left: 1em; */\n",
              "  margin: 0;\n",
              "  font-size: larger;\n",
              "}\n",
              "#h2o-table-9 .h2o-table thead {\n",
              "  white-space: nowrap; \n",
              "  position: sticky;\n",
              "  top: 0;\n",
              "  box-shadow: 0 -1px inset;\n",
              "}\n",
              "#h2o-table-9 .h2o-table tbody {\n",
              "  overflow: auto;\n",
              "}\n",
              "#h2o-table-9 .h2o-table th,\n",
              "#h2o-table-9 .h2o-table td {\n",
              "  text-align: right;\n",
              "  /* border: 1px solid; */\n",
              "}\n",
              "#h2o-table-9 .h2o-table tr:nth-child(even) {\n",
              "  /* background: #F5F5F5 */\n",
              "}\n",
              "\n",
              "</style>      \n",
              "<div id=\"h2o-table-9\" class=\"h2o-container\">\n",
              "  <table class=\"h2o-table\">\n",
              "    <caption>Variable Importances: </caption>\n",
              "    <thead><tr><th>variable</th>\n",
              "<th>relative_importance</th>\n",
              "<th>scaled_importance</th>\n",
              "<th>percentage</th></tr></thead>\n",
              "    <tbody><tr><td>RH</td>\n",
              "<td>6.1265821</td>\n",
              "<td>1.0</td>\n",
              "<td>0.3171174</td></tr>\n",
              "<tr><td>AH</td>\n",
              "<td>5.6865988</td>\n",
              "<td>0.9281845</td>\n",
              "<td>0.2943435</td></tr>\n",
              "<tr><td>C6H6(GT)</td>\n",
              "<td>2.9248469</td>\n",
              "<td>0.4774027</td>\n",
              "<td>0.1513927</td></tr>\n",
              "<tr><td>PT08.S4(NO2)</td>\n",
              "<td>2.3199933</td>\n",
              "<td>0.3786766</td>\n",
              "<td>0.1200850</td></tr>\n",
              "<tr><td>PT08.S2(NMHC)</td>\n",
              "<td>1.4334060</td>\n",
              "<td>0.2339650</td>\n",
              "<td>0.0741944</td></tr>\n",
              "<tr><td>NOx(GT)</td>\n",
              "<td>0.5649719</td>\n",
              "<td>0.0922165</td>\n",
              "<td>0.0292435</td></tr>\n",
              "<tr><td>NO2(GT)</td>\n",
              "<td>0.2632011</td>\n",
              "<td>0.0429605</td>\n",
              "<td>0.0136235</td></tr>\n",
              "<tr><td>CO(GT)</td>\n",
              "<td>0.0</td>\n",
              "<td>0.0</td>\n",
              "<td>0.0</td></tr>\n",
              "<tr><td>PT08.S1(CO)</td>\n",
              "<td>0.0</td>\n",
              "<td>0.0</td>\n",
              "<td>0.0</td></tr>\n",
              "<tr><td>PT08.S3(NOx)</td>\n",
              "<td>0.0</td>\n",
              "<td>0.0</td>\n",
              "<td>0.0</td></tr>\n",
              "<tr><td>PT08.S5(O3)</td>\n",
              "<td>0.0</td>\n",
              "<td>0.0</td>\n",
              "<td>0.0</td></tr></tbody>\n",
              "  </table>\n",
              "</div>\n",
              "</div><pre style=\"font-size: smaller; margin: 1em 0 0 0;\">\n",
              "\n",
              "[tips]\n",
              "Use `model.explain()` to inspect the model.\n",
              "--\n",
              "Use `h2o.display.toggle_user_tips()` to switch on/off this section.</pre>"
            ],
            "text/plain": [
              "Model Details\n",
              "=============\n",
              "H2OGeneralizedLinearEstimator : Generalized Linear Modeling\n",
              "Model Key: GLM_model_python_1667507530352_2\n",
              "\n",
              "\n",
              "GLM Model: summary\n",
              "    family    link      regularization                            number_of_predictors_total    number_of_active_predictors    number_of_iterations    training_frame\n",
              "--  --------  --------  ----------------------------------------  ----------------------------  -----------------------------  ----------------------  ----------------\n",
              "    gaussian  identity  Elastic Net (alpha = 0.5, lambda = 1.0 )  11                            7                              1                       py_27_sid_9838\n",
              "\n",
              "ModelMetricsRegressionGLM: glm\n",
              "** Reported on train data. **\n",
              "\n",
              "MSE: 5.601209046729513\n",
              "RMSE: 2.3666873571998295\n",
              "MAE: 1.7637743592905442\n",
              "RMSLE: NaN\n",
              "Mean Residual Deviance: 5.601209046729513\n",
              "R^2: 0.9277111231336703\n",
              "Null degrees of freedom: 5229\n",
              "Residual degrees of freedom: 5222\n",
              "Null deviance: 405239.7074665335\n",
              "Residual deviance: 29294.32331439535\n",
              "AIC: 23871.29540491542\n",
              "\n",
              "ModelMetricsRegressionGLM: glm\n",
              "** Reported on validation data. **\n",
              "\n",
              "MSE: 5.800952914347432\n",
              "RMSE: 2.4085167457062515\n",
              "MAE: 1.7795354059075164\n",
              "RMSLE: NaN\n",
              "Mean Residual Deviance: 5.800952914347432\n",
              "R^2: 0.9279110604359779\n",
              "Null degrees of freedom: 1710\n",
              "Residual degrees of freedom: 1703\n",
              "Null deviance: 137696.5594821324\n",
              "Residual deviance: 9925.430436448456\n",
              "AIC: 7881.58364420098\n",
              "\n",
              "Scoring History: \n",
              "    timestamp            duration    iterations    negative_log_likelihood    objective          training_rmse       training_deviance    training_mae        training_r2         validation_rmse     validation_deviance    validation_mae      validation_r2\n",
              "--  -------------------  ----------  ------------  -------------------------  -----------------  ------------------  -------------------  ------------------  ------------------  ------------------  ---------------------  ------------------  ------------------\n",
              "    2022-11-03 20:33:40  0.000 sec   0             405239.70766539196         77.48369171422408\n",
              "    2022-11-03 20:33:40  0.049 sec   1                                                           2.3666873571998295  5.601209046729513    1.7637743592905442  0.9277111231336703  2.4085167457062515  5.800952914347432      1.7795354059075164  0.9279110604359779\n",
              "\n",
              "Variable Importances: \n",
              "variable       relative_importance    scaled_importance    percentage\n",
              "-------------  ---------------------  -------------------  ------------\n",
              "RH             6.12658                1                    0.317117\n",
              "AH             5.6866                 0.928185             0.294344\n",
              "C6H6(GT)       2.92485                0.477403             0.151393\n",
              "PT08.S4(NO2)   2.31999                0.378677             0.120085\n",
              "PT08.S2(NMHC)  1.43341                0.233965             0.0741944\n",
              "NOx(GT)        0.564972               0.0922165            0.0292435\n",
              "NO2(GT)        0.263201               0.0429605            0.0136235\n",
              "CO(GT)         0                      0                    0\n",
              "PT08.S1(CO)    0                      0                    0\n",
              "PT08.S3(NOx)   0                      0                    0\n",
              "PT08.S5(O3)    0                      0                    0\n",
              "\n",
              "[tips]\n",
              "Use `model.explain()` to inspect the model.\n",
              "--\n",
              "Use `h2o.display.toggle_user_tips()` to switch on/off this section."
            ]
          },
          "execution_count": 41,
          "metadata": {},
          "output_type": "execute_result"
        }
      ],
      "source": [
        "air_glm = H2OGeneralizedLinearEstimator(   lambda_= 1,\n",
        "                        remove_collinear_columns = True,\n",
        "                          )\n",
        "air_glm.train(x = X, y = y, training_frame = s12_train, validation_frame = s12_test)"
      ]
    },
    {
      "cell_type": "code",
      "execution_count": 42,
      "metadata": {
        "id": "7Iujr7h2OvMb"
      },
      "outputs": [],
      "source": [
        "coeff_table = air_glm._model_json['output']['coefficients_table']"
      ]
    },
    {
      "cell_type": "code",
      "execution_count": 43,
      "metadata": {
        "colab": {
          "base_uri": "https://localhost:8080/",
          "height": 426
        },
        "id": "OKR6mHVXOx2-",
        "outputId": "df633381-d010-4853-b4d3-8c6311913ea2"
      },
      "outputs": [
        {
          "data": {
            "text/html": [
              "\n",
              "  <div id=\"df-f6b0bca2-901d-4a52-883e-3a9032cb5a11\">\n",
              "    <div class=\"colab-df-container\">\n",
              "      <div>\n",
              "<style scoped>\n",
              "    .dataframe tbody tr th:only-of-type {\n",
              "        vertical-align: middle;\n",
              "    }\n",
              "\n",
              "    .dataframe tbody tr th {\n",
              "        vertical-align: top;\n",
              "    }\n",
              "\n",
              "    .dataframe thead th {\n",
              "        text-align: right;\n",
              "    }\n",
              "</style>\n",
              "<table border=\"1\" class=\"dataframe\">\n",
              "  <thead>\n",
              "    <tr style=\"text-align: right;\">\n",
              "      <th></th>\n",
              "      <th>names</th>\n",
              "      <th>coefficients</th>\n",
              "      <th>standardized_coefficients</th>\n",
              "    </tr>\n",
              "  </thead>\n",
              "  <tbody>\n",
              "    <tr>\n",
              "      <th>0</th>\n",
              "      <td>Intercept</td>\n",
              "      <td>10.310371</td>\n",
              "      <td>17.733480</td>\n",
              "    </tr>\n",
              "    <tr>\n",
              "      <th>1</th>\n",
              "      <td>CO(GT)</td>\n",
              "      <td>0.000000</td>\n",
              "      <td>0.000000</td>\n",
              "    </tr>\n",
              "    <tr>\n",
              "      <th>2</th>\n",
              "      <td>PT08.S1(CO)</td>\n",
              "      <td>0.000000</td>\n",
              "      <td>0.000000</td>\n",
              "    </tr>\n",
              "    <tr>\n",
              "      <th>3</th>\n",
              "      <td>C6H6(GT)</td>\n",
              "      <td>-0.394306</td>\n",
              "      <td>-2.924847</td>\n",
              "    </tr>\n",
              "    <tr>\n",
              "      <th>4</th>\n",
              "      <td>PT08.S2(NMHC)</td>\n",
              "      <td>0.005462</td>\n",
              "      <td>1.433406</td>\n",
              "    </tr>\n",
              "    <tr>\n",
              "      <th>5</th>\n",
              "      <td>NOx(GT)</td>\n",
              "      <td>0.002721</td>\n",
              "      <td>0.564972</td>\n",
              "    </tr>\n",
              "    <tr>\n",
              "      <th>6</th>\n",
              "      <td>PT08.S3(NOx)</td>\n",
              "      <td>0.000000</td>\n",
              "      <td>0.000000</td>\n",
              "    </tr>\n",
              "    <tr>\n",
              "      <th>7</th>\n",
              "      <td>NO2(GT)</td>\n",
              "      <td>-0.005575</td>\n",
              "      <td>-0.263201</td>\n",
              "    </tr>\n",
              "    <tr>\n",
              "      <th>8</th>\n",
              "      <td>PT08.S4(NO2)</td>\n",
              "      <td>0.006584</td>\n",
              "      <td>2.319993</td>\n",
              "    </tr>\n",
              "    <tr>\n",
              "      <th>9</th>\n",
              "      <td>PT08.S5(O3)</td>\n",
              "      <td>0.000000</td>\n",
              "      <td>0.000000</td>\n",
              "    </tr>\n",
              "    <tr>\n",
              "      <th>10</th>\n",
              "      <td>RH</td>\n",
              "      <td>-0.351095</td>\n",
              "      <td>-6.126582</td>\n",
              "    </tr>\n",
              "    <tr>\n",
              "      <th>11</th>\n",
              "      <td>AH</td>\n",
              "      <td>14.112923</td>\n",
              "      <td>5.686599</td>\n",
              "    </tr>\n",
              "  </tbody>\n",
              "</table>\n",
              "</div>\n",
              "      <button class=\"colab-df-convert\" onclick=\"convertToInteractive('df-f6b0bca2-901d-4a52-883e-3a9032cb5a11')\"\n",
              "              title=\"Convert this dataframe to an interactive table.\"\n",
              "              style=\"display:none;\">\n",
              "        \n",
              "  <svg xmlns=\"http://www.w3.org/2000/svg\" height=\"24px\"viewBox=\"0 0 24 24\"\n",
              "       width=\"24px\">\n",
              "    <path d=\"M0 0h24v24H0V0z\" fill=\"none\"/>\n",
              "    <path d=\"M18.56 5.44l.94 2.06.94-2.06 2.06-.94-2.06-.94-.94-2.06-.94 2.06-2.06.94zm-11 1L8.5 8.5l.94-2.06 2.06-.94-2.06-.94L8.5 2.5l-.94 2.06-2.06.94zm10 10l.94 2.06.94-2.06 2.06-.94-2.06-.94-.94-2.06-.94 2.06-2.06.94z\"/><path d=\"M17.41 7.96l-1.37-1.37c-.4-.4-.92-.59-1.43-.59-.52 0-1.04.2-1.43.59L10.3 9.45l-7.72 7.72c-.78.78-.78 2.05 0 2.83L4 21.41c.39.39.9.59 1.41.59.51 0 1.02-.2 1.41-.59l7.78-7.78 2.81-2.81c.8-.78.8-2.07 0-2.86zM5.41 20L4 18.59l7.72-7.72 1.47 1.35L5.41 20z\"/>\n",
              "  </svg>\n",
              "      </button>\n",
              "      \n",
              "  <style>\n",
              "    .colab-df-container {\n",
              "      display:flex;\n",
              "      flex-wrap:wrap;\n",
              "      gap: 12px;\n",
              "    }\n",
              "\n",
              "    .colab-df-convert {\n",
              "      background-color: #E8F0FE;\n",
              "      border: none;\n",
              "      border-radius: 50%;\n",
              "      cursor: pointer;\n",
              "      display: none;\n",
              "      fill: #1967D2;\n",
              "      height: 32px;\n",
              "      padding: 0 0 0 0;\n",
              "      width: 32px;\n",
              "    }\n",
              "\n",
              "    .colab-df-convert:hover {\n",
              "      background-color: #E2EBFA;\n",
              "      box-shadow: 0px 1px 2px rgba(60, 64, 67, 0.3), 0px 1px 3px 1px rgba(60, 64, 67, 0.15);\n",
              "      fill: #174EA6;\n",
              "    }\n",
              "\n",
              "    [theme=dark] .colab-df-convert {\n",
              "      background-color: #3B4455;\n",
              "      fill: #D2E3FC;\n",
              "    }\n",
              "\n",
              "    [theme=dark] .colab-df-convert:hover {\n",
              "      background-color: #434B5C;\n",
              "      box-shadow: 0px 1px 3px 1px rgba(0, 0, 0, 0.15);\n",
              "      filter: drop-shadow(0px 1px 2px rgba(0, 0, 0, 0.3));\n",
              "      fill: #FFFFFF;\n",
              "    }\n",
              "  </style>\n",
              "\n",
              "      <script>\n",
              "        const buttonEl =\n",
              "          document.querySelector('#df-f6b0bca2-901d-4a52-883e-3a9032cb5a11 button.colab-df-convert');\n",
              "        buttonEl.style.display =\n",
              "          google.colab.kernel.accessAllowed ? 'block' : 'none';\n",
              "\n",
              "        async function convertToInteractive(key) {\n",
              "          const element = document.querySelector('#df-f6b0bca2-901d-4a52-883e-3a9032cb5a11');\n",
              "          const dataTable =\n",
              "            await google.colab.kernel.invokeFunction('convertToInteractive',\n",
              "                                                     [key], {});\n",
              "          if (!dataTable) return;\n",
              "\n",
              "          const docLinkHtml = 'Like what you see? Visit the ' +\n",
              "            '<a target=\"_blank\" href=https://colab.research.google.com/notebooks/data_table.ipynb>data table notebook</a>'\n",
              "            + ' to learn more about interactive tables.';\n",
              "          element.innerHTML = '';\n",
              "          dataTable['output_type'] = 'display_data';\n",
              "          await google.colab.output.renderOutput(dataTable, element);\n",
              "          const docLink = document.createElement('div');\n",
              "          docLink.innerHTML = docLinkHtml;\n",
              "          element.appendChild(docLink);\n",
              "        }\n",
              "      </script>\n",
              "    </div>\n",
              "  </div>\n",
              "  "
            ],
            "text/plain": [
              "            names  coefficients  standardized_coefficients\n",
              "0       Intercept     10.310371                  17.733480\n",
              "1          CO(GT)      0.000000                   0.000000\n",
              "2     PT08.S1(CO)      0.000000                   0.000000\n",
              "3        C6H6(GT)     -0.394306                  -2.924847\n",
              "4   PT08.S2(NMHC)      0.005462                   1.433406\n",
              "5         NOx(GT)      0.002721                   0.564972\n",
              "6    PT08.S3(NOx)      0.000000                   0.000000\n",
              "7         NO2(GT)     -0.005575                  -0.263201\n",
              "8    PT08.S4(NO2)      0.006584                   2.319993\n",
              "9     PT08.S5(O3)      0.000000                   0.000000\n",
              "10             RH     -0.351095                  -6.126582\n",
              "11             AH     14.112923                   5.686599"
            ]
          },
          "execution_count": 43,
          "metadata": {},
          "output_type": "execute_result"
        }
      ],
      "source": [
        "coeff_table.as_data_frame()"
      ]
    },
    {
      "cell_type": "code",
      "execution_count": 44,
      "metadata": {
        "id": "_-fSodgSh3eR"
      },
      "outputs": [],
      "source": [
        "# Set up AutoML\n",
        "aml = H2OAutoML(max_runtime_secs=run_time, seed=1)"
      ]
    },
    {
      "cell_type": "code",
      "execution_count": 45,
      "metadata": {
        "colab": {
          "base_uri": "https://localhost:8080/",
          "height": 1000
        },
        "id": "S8uAMLDph9he",
        "outputId": "6f6bf862-3132-4c1a-a8bc-43681daf4bfb"
      },
      "outputs": [
        {
          "name": "stdout",
          "output_type": "stream",
          "text": [
            "AutoML progress: |███████████████████████████████████████████████████████████████| (done) 100%\n"
          ]
        },
        {
          "data": {
            "text/html": [
              "<pre style='margin: 1em 0 1em 0;'>Model Details\n",
              "=============\n",
              "H2OStackedEnsembleEstimator : Stacked Ensemble\n",
              "Model Key: StackedEnsemble_AllModels_3_AutoML_1_20221103_203340\n",
              "\n",
              "No summary for this model</pre>\n",
              "<div style='margin: 1em 0 1em 0;'><pre style='margin: 1em 0 1em 0;'>ModelMetricsRegressionGLM: stackedensemble\n",
              "** Reported on train data. **\n",
              "\n",
              "MSE: 0.03736953474581284\n",
              "RMSE: 0.19331201397174683\n",
              "MAE: 0.1497021324580869\n",
              "RMSLE: NaN\n",
              "Mean Residual Deviance: 0.03736953474581284\n",
              "R^2: 0.999517710966819\n",
              "Null degrees of freedom: 5229\n",
              "Residual degrees of freedom: 5222\n",
              "Null deviance: 405239.7074665335\n",
              "Residual deviance: 195.44266672060112\n",
              "AIC: -2330.387251845982</pre></div>\n",
              "<div style='margin: 1em 0 1em 0;'><pre style='margin: 1em 0 1em 0;'>ModelMetricsRegressionGLM: stackedensemble\n",
              "** Reported on cross-validation data. **\n",
              "\n",
              "MSE: 0.14241288425738813\n",
              "RMSE: 0.3773763165030208\n",
              "MAE: 0.27049312780693896\n",
              "RMSLE: NaN\n",
              "Mean Residual Deviance: 0.14241288425738813\n",
              "R^2: 0.998162027632182\n",
              "Null degrees of freedom: 5229\n",
              "Residual degrees of freedom: 5222\n",
              "Null deviance: 405303.9486703684\n",
              "Residual deviance: 744.8193846661399\n",
              "AIC: 4666.697328417295</pre></div>\n",
              "<div style='margin: 1em 0 1em 0;'>\n",
              "<style>\n",
              "\n",
              "#h2o-table-10.h2o-container {\n",
              "  overflow-x: auto;\n",
              "}\n",
              "#h2o-table-10 .h2o-table {\n",
              "  /* width: 100%; */\n",
              "  margin-top: 1em;\n",
              "  margin-bottom: 1em;\n",
              "}\n",
              "#h2o-table-10 .h2o-table caption {\n",
              "  white-space: nowrap;\n",
              "  caption-side: top;\n",
              "  text-align: left;\n",
              "  /* margin-left: 1em; */\n",
              "  margin: 0;\n",
              "  font-size: larger;\n",
              "}\n",
              "#h2o-table-10 .h2o-table thead {\n",
              "  white-space: nowrap; \n",
              "  position: sticky;\n",
              "  top: 0;\n",
              "  box-shadow: 0 -1px inset;\n",
              "}\n",
              "#h2o-table-10 .h2o-table tbody {\n",
              "  overflow: auto;\n",
              "}\n",
              "#h2o-table-10 .h2o-table th,\n",
              "#h2o-table-10 .h2o-table td {\n",
              "  text-align: right;\n",
              "  /* border: 1px solid; */\n",
              "}\n",
              "#h2o-table-10 .h2o-table tr:nth-child(even) {\n",
              "  /* background: #F5F5F5 */\n",
              "}\n",
              "\n",
              "</style>      \n",
              "<div id=\"h2o-table-10\" class=\"h2o-container\">\n",
              "  <table class=\"h2o-table\">\n",
              "    <caption>Cross-Validation Metrics Summary: </caption>\n",
              "    <thead><tr><th></th>\n",
              "<th>mean</th>\n",
              "<th>sd</th>\n",
              "<th>cv_1_valid</th>\n",
              "<th>cv_2_valid</th>\n",
              "<th>cv_3_valid</th>\n",
              "<th>cv_4_valid</th>\n",
              "<th>cv_5_valid</th></tr></thead>\n",
              "    <tbody><tr><td>mae</td>\n",
              "<td>0.2705819</td>\n",
              "<td>0.0063976</td>\n",
              "<td>0.2616134</td>\n",
              "<td>0.2691251</td>\n",
              "<td>0.2705199</td>\n",
              "<td>0.2794427</td>\n",
              "<td>0.2722084</td></tr>\n",
              "<tr><td>mean_residual_deviance</td>\n",
              "<td>0.1422015</td>\n",
              "<td>0.0115622</td>\n",
              "<td>0.1497068</td>\n",
              "<td>0.1388504</td>\n",
              "<td>0.1360929</td>\n",
              "<td>0.1578066</td>\n",
              "<td>0.1285507</td></tr>\n",
              "<tr><td>mse</td>\n",
              "<td>0.1422015</td>\n",
              "<td>0.0115622</td>\n",
              "<td>0.1497068</td>\n",
              "<td>0.1388504</td>\n",
              "<td>0.1360929</td>\n",
              "<td>0.1578066</td>\n",
              "<td>0.1285507</td></tr>\n",
              "<tr><td>null_deviance</td>\n",
              "<td>81060.79</td>\n",
              "<td>6320.739</td>\n",
              "<td>91875.96</td>\n",
              "<td>80318.484</td>\n",
              "<td>79420.57</td>\n",
              "<td>78266.24</td>\n",
              "<td>75422.69</td></tr>\n",
              "<tr><td>r2</td>\n",
              "<td>0.9981602</td>\n",
              "<td>0.0001661</td>\n",
              "<td>0.9982325</td>\n",
              "<td>0.9981414</td>\n",
              "<td>0.9982178</td>\n",
              "<td>0.9978862</td>\n",
              "<td>0.9983228</td></tr>\n",
              "<tr><td>residual_deviance</td>\n",
              "<td>148.96388</td>\n",
              "<td>15.866642</td>\n",
              "<td>162.28221</td>\n",
              "<td>149.12538</td>\n",
              "<td>141.5366</td>\n",
              "<td>165.38132</td>\n",
              "<td>126.49389</td></tr>\n",
              "<tr><td>rmse</td>\n",
              "<td>0.3768485</td>\n",
              "<td>0.0152782</td>\n",
              "<td>0.3869197</td>\n",
              "<td>0.3726264</td>\n",
              "<td>0.3689077</td>\n",
              "<td>0.3972488</td>\n",
              "<td>0.3585397</td></tr>\n",
              "<tr><td>rmsle</td>\n",
              "<td>0.0456745</td>\n",
              "<td>0.0120317</td>\n",
              "<td>nan</td>\n",
              "<td>0.0541822</td>\n",
              "<td>nan</td>\n",
              "<td>0.0371668</td>\n",
              "<td>nan</td></tr></tbody>\n",
              "  </table>\n",
              "</div>\n",
              "</div><pre style=\"font-size: smaller; margin: 1em 0 0 0;\">\n",
              "\n",
              "[tips]\n",
              "Use `model.explain()` to inspect the model.\n",
              "--\n",
              "Use `h2o.display.toggle_user_tips()` to switch on/off this section.</pre>"
            ],
            "text/plain": [
              "Model Details\n",
              "=============\n",
              "H2OStackedEnsembleEstimator : Stacked Ensemble\n",
              "Model Key: StackedEnsemble_AllModels_3_AutoML_1_20221103_203340\n",
              "\n",
              "No summary for this model\n",
              "\n",
              "ModelMetricsRegressionGLM: stackedensemble\n",
              "** Reported on train data. **\n",
              "\n",
              "MSE: 0.03736953474581284\n",
              "RMSE: 0.19331201397174683\n",
              "MAE: 0.1497021324580869\n",
              "RMSLE: NaN\n",
              "Mean Residual Deviance: 0.03736953474581284\n",
              "R^2: 0.999517710966819\n",
              "Null degrees of freedom: 5229\n",
              "Residual degrees of freedom: 5222\n",
              "Null deviance: 405239.7074665335\n",
              "Residual deviance: 195.44266672060112\n",
              "AIC: -2330.387251845982\n",
              "\n",
              "ModelMetricsRegressionGLM: stackedensemble\n",
              "** Reported on cross-validation data. **\n",
              "\n",
              "MSE: 0.14241288425738813\n",
              "RMSE: 0.3773763165030208\n",
              "MAE: 0.27049312780693896\n",
              "RMSLE: NaN\n",
              "Mean Residual Deviance: 0.14241288425738813\n",
              "R^2: 0.998162027632182\n",
              "Null degrees of freedom: 5229\n",
              "Residual degrees of freedom: 5222\n",
              "Null deviance: 405303.9486703684\n",
              "Residual deviance: 744.8193846661399\n",
              "AIC: 4666.697328417295\n",
              "\n",
              "Cross-Validation Metrics Summary: \n",
              "                        mean       sd           cv_1_valid    cv_2_valid    cv_3_valid    cv_4_valid    cv_5_valid\n",
              "----------------------  ---------  -----------  ------------  ------------  ------------  ------------  ------------\n",
              "mae                     0.270582   0.00639764   0.261613      0.269125      0.27052       0.279443      0.272208\n",
              "mean_residual_deviance  0.142202   0.0115622    0.149707      0.13885       0.136093      0.157807      0.128551\n",
              "mse                     0.142202   0.0115622    0.149707      0.13885       0.136093      0.157807      0.128551\n",
              "null_deviance           81060.8    6320.74      91876         80318.5       79420.6       78266.2       75422.7\n",
              "r2                      0.99816    0.000166129  0.998233      0.998141      0.998218      0.997886      0.998323\n",
              "residual_deviance       148.964    15.8666      162.282       149.125       141.537       165.381       126.494\n",
              "rmse                    0.376848   0.0152782    0.38692       0.372626      0.368908      0.397249      0.35854\n",
              "rmsle                   0.0456745  0.0120317    nan           0.0541822     nan           0.0371668     nan\n",
              "\n",
              "[tips]\n",
              "Use `model.explain()` to inspect the model.\n",
              "--\n",
              "Use `h2o.display.toggle_user_tips()` to switch on/off this section."
            ]
          },
          "execution_count": 45,
          "metadata": {},
          "output_type": "execute_result"
        }
      ],
      "source": [
        "aml.train(x=X,y=y,training_frame=s12_train) "
      ]
    },
    {
      "cell_type": "code",
      "execution_count": 46,
      "metadata": {
        "colab": {
          "base_uri": "https://localhost:8080/"
        },
        "id": "bb7xJLjJiMM6",
        "outputId": "1d3b3ace-4a1b-428c-a6f8-1b4e1ba7f5ef"
      },
      "outputs": [
        {
          "name": "stdout",
          "output_type": "stream",
          "text": [
            "model_id                                                     rmse       mse       mae    rmsle    mean_residual_deviance\n",
            "StackedEnsemble_AllModels_3_AutoML_1_20221103_203340     0.377376  0.142413  0.270493      nan                  0.142413\n",
            "StackedEnsemble_BestOfFamily_4_AutoML_1_20221103_203340  0.378225  0.143054  0.271246      nan                  0.143054\n",
            "XGBoost_grid_1_AutoML_1_20221103_203340_model_3          0.43462   0.188894  0.31418       nan                  0.188894\n",
            "StackedEnsemble_AllModels_2_AutoML_1_20221103_203340     0.503488  0.2535    0.364565      nan                  0.2535\n",
            "StackedEnsemble_BestOfFamily_3_AutoML_1_20221103_203340  0.517986  0.26831   0.378378      nan                  0.26831\n",
            "StackedEnsemble_AllModels_1_AutoML_1_20221103_203340     0.52497   0.275593  0.380132      nan                  0.275593\n",
            "StackedEnsemble_BestOfFamily_2_AutoML_1_20221103_203340  0.574479  0.330027  0.420456      nan                  0.330027\n",
            "GBM_3_AutoML_1_20221103_203340                           0.607843  0.369474  0.441816      nan                  0.369474\n",
            "GBM_2_AutoML_1_20221103_203340                           0.640156  0.409799  0.473572      nan                  0.409799\n",
            "StackedEnsemble_BestOfFamily_1_AutoML_1_20221103_203340  0.662019  0.43827   0.443519      nan                  0.43827\n",
            "[26 rows x 6 columns]\n",
            "\n"
          ]
        }
      ],
      "source": [
        "#Show the leaderboard of all the model\n",
        "print(aml.leaderboard)"
      ]
    },
    {
      "cell_type": "code",
      "execution_count": 47,
      "metadata": {
        "colab": {
          "base_uri": "https://localhost:8080/"
        },
        "id": "43Td7xsuiSh8",
        "outputId": "e6e0e2d9-6b49-4771-c50c-372b1bb5ec1c"
      },
      "outputs": [
        {
          "data": {
            "text/plain": [
              "{'StackedEnsemble_AllModels_3_AutoML_1_20221103_203340': 0,\n",
              " 'StackedEnsemble_BestOfFamily_4_AutoML_1_20221103_203340': 1,\n",
              " 'XGBoost_grid_1_AutoML_1_20221103_203340_model_3': 2,\n",
              " 'GLM_1_AutoML_1_20221103_203340': 23}"
            ]
          },
          "execution_count": 47,
          "metadata": {},
          "output_type": "execute_result"
        }
      ],
      "source": [
        "model_index=0\n",
        "glm_index=0\n",
        "glm_model=''\n",
        "aml_leaderboard_s12=aml.leaderboard.as_data_frame()\n",
        "models_dict={}\n",
        "for m in aml_leaderboard_s12['model_id']:\n",
        "  models_dict[m]=model_index\n",
        "  if 'StackedEnsemble' not in m:\n",
        "    break \n",
        "  model_index=model_index+1  \n",
        "for m in aml_leaderboard_s12['model_id']:\n",
        "  if 'GLM' in m:\n",
        "    models_dict[m]=glm_index\n",
        "    break  \n",
        "  glm_index=glm_index+1 \n",
        "    \n",
        "models_dict"
      ]
    },
    {
      "cell_type": "code",
      "execution_count": 49,
      "metadata": {
        "colab": {
          "base_uri": "https://localhost:8080/"
        },
        "id": "miCrwInYiWTU",
        "outputId": "c4ed95cb-5283-4ded-e687-61370eb48c7d"
      },
      "outputs": [
        {
          "name": "stdout",
          "output_type": "stream",
          "text": [
            "2\n"
          ]
        }
      ],
      "source": [
        "#Show the best model and save another model as a test model to contrast\n",
        "print(model_index)\n",
        "best_model = h2o.get_model(aml.leaderboard[model_index,'model_id'])\n",
        "test_model =h2o.get_model('GLM_1_AutoML_1_20221103_203340')"
      ]
    },
    {
      "cell_type": "code",
      "execution_count": 50,
      "metadata": {
        "colab": {
          "base_uri": "https://localhost:8080/",
          "height": 36
        },
        "id": "1lOMNrMdiYfy",
        "outputId": "9e76641d-2f7d-4423-c104-11fd71293e1b"
      },
      "outputs": [
        {
          "data": {
            "application/vnd.google.colaboratory.intrinsic+json": {
              "type": "string"
            },
            "text/plain": [
              "'xgboost'"
            ]
          },
          "execution_count": 50,
          "metadata": {},
          "output_type": "execute_result"
        }
      ],
      "source": [
        "best_model.algo"
      ]
    },
    {
      "cell_type": "code",
      "execution_count": 51,
      "metadata": {
        "id": "odjKVqpHifxU"
      },
      "outputs": [],
      "source": [
        "#Show the varible importance in the plot\n",
        "import matplotlib.pyplot as plt\n",
        "%matplotlib inline\n",
        "\n",
        "import warnings\n",
        "import matplotlib.cbook\n",
        "warnings.filterwarnings(\"ignore\", category = matplotlib.cbook.mplDeprecation)"
      ]
    },
    {
      "cell_type": "code",
      "execution_count": 52,
      "metadata": {
        "colab": {
          "base_uri": "https://localhost:8080/",
          "height": 1000
        },
        "id": "MFFZzZMmijJr",
        "outputId": "9d81d3a4-16ef-4b99-9950-9d86be4f3e6b"
      },
      "outputs": [
        {
          "data": {
            "image/png": "[encoded data removed]",
            "text/plain": [
              "<Figure size 1008x720 with 1 Axes>"
            ]
          },
          "metadata": {
            "needs_background": "light"
          },
          "output_type": "display_data"
        },
        {
          "data": {
            "text/plain": [
              "<Figure size 432x288 with 0 Axes>"
            ]
          },
          "metadata": {},
          "output_type": "display_data"
        },
        {
          "data": {
            "image/png": "[encoded data removed]",
            "text/plain": [
              "<Figure size 1008x720 with 1 Axes>"
            ]
          },
          "metadata": {
            "needs_background": "light"
          },
          "output_type": "display_data"
        },
        {
          "data": {
            "text/plain": [
              "<Figure size 432x288 with 0 Axes>"
            ]
          },
          "metadata": {},
          "output_type": "display_data"
        }
      ],
      "source": [
        "if best_model.algo in ['gbm','drf','xrt','xgboost']:\n",
        "  best_model.varimp_plot()\n",
        "  test_model.varimp_plot()"
      ]
    },
    {
      "cell_type": "code",
      "execution_count": 53,
      "metadata": {
        "colab": {
          "base_uri": "https://localhost:8080/",
          "height": 647
        },
        "id": "3kIzHddIimLv",
        "outputId": "96325cdb-15c4-4d0e-bb76-aa84a51f64b3"
      },
      "outputs": [
        {
          "name": "stdout",
          "output_type": "stream",
          "text": [
            "23\n",
            "glm\n"
          ]
        },
        {
          "data": {
            "image/png": "[encoded data removed]",
            "text/plain": [
              "<Figure size 1008x720 with 1 Axes>"
            ]
          },
          "metadata": {
            "needs_background": "light"
          },
          "output_type": "display_data"
        }
      ],
      "source": [
        "if glm_index is not 0:\n",
        "  print(glm_index)\n",
        "  glm_model=h2o.get_model(aml.leaderboard[glm_index,'model_id'])\n",
        "  print(glm_model.algo) \n",
        "  glm_model.std_coef_plot()"
      ]
    },
    {
      "cell_type": "code",
      "execution_count": 54,
      "metadata": {
        "colab": {
          "base_uri": "https://localhost:8080/"
        },
        "id": "GQYxxmP1isvR",
        "outputId": "b885c6ca-49c2-4bdd-c910-dba57c9ac74c"
      },
      "outputs": [
        {
          "name": "stdout",
          "output_type": "stream",
          "text": [
            "0.22742513988350435\n",
            "2.3198566790057935\n"
          ]
        }
      ],
      "source": [
        "#Show the model’s rmse\n",
        "print(best_model.rmse(train = True))\n",
        "print(test_model.rmse(train = True))\n"
      ]
    },
    {
      "cell_type": "code",
      "execution_count": 55,
      "metadata": {
        "id": "B0gEBN-3iyHl"
      },
      "outputs": [],
      "source": [
        "#Show the model’s rmse and mse using in test set\n",
        "def model_performance_stats(perf):\n",
        "    d={}\n",
        "    try:    \n",
        "      d['mse']=perf.mse()\n",
        "    except:\n",
        "      pass      \n",
        "    try:    \n",
        "      d['rmse']=perf.rmse() \n",
        "    except:\n",
        "      pass      \n",
        "    try:    \n",
        "      d['null_degrees_of_freedom']=perf.null_degrees_of_freedom()\n",
        "    except:\n",
        "      pass      \n",
        "    try:    \n",
        "      d['residual_degrees_of_freedom']=perf.residual_degrees_of_freedom()\n",
        "    except:\n",
        "      pass      \n",
        "    try:    \n",
        "      d['residual_deviance']=perf.residual_deviance() \n",
        "    except:\n",
        "      pass      \n",
        "    try:    \n",
        "      d['null_deviance']=perf.null_deviance() \n",
        "    except:\n",
        "      pass      \n",
        "    try:    \n",
        "      d['aic']=perf.aic() \n",
        "    except:\n",
        "      pass      \n",
        "    try:\n",
        "      d['logloss']=perf.logloss() \n",
        "    except:\n",
        "      pass    \n",
        "    try:\n",
        "      d['auc']=perf.auc()\n",
        "    except:\n",
        "      pass  \n",
        "    try:\n",
        "      d['gini']=perf.gini()\n",
        "    except:\n",
        "      pass    \n",
        "    return d"
      ]
    },
    {
      "cell_type": "code",
      "execution_count": 56,
      "metadata": {
        "colab": {
          "base_uri": "https://localhost:8080/"
        },
        "id": "NLuvjD1-i0SO",
        "outputId": "2c199abe-1ce8-4d8b-ef3d-c35905c05c4b"
      },
      "outputs": [
        {
          "data": {
            "text/plain": [
              "{'mse': 0.15550174594189228,\n",
              " 'rmse': 0.3943370968370745,\n",
              " 'null_degrees_of_freedom': None,\n",
              " 'residual_degrees_of_freedom': None,\n",
              " 'residual_deviance': None,\n",
              " 'null_deviance': None}"
            ]
          },
          "execution_count": 56,
          "metadata": {},
          "output_type": "execute_result"
        }
      ],
      "source": [
        "mod_perf=best_model.model_performance(s12_test)\n",
        "stats_test={}\n",
        "stats_test=model_performance_stats(mod_perf)\n",
        "stats_test"
      ]
    },
    {
      "cell_type": "code",
      "execution_count": 57,
      "metadata": {
        "colab": {
          "base_uri": "https://localhost:8080/"
        },
        "id": "jilKgnrCi20Q",
        "outputId": "09548aa2-fdd3-4a25-8098-99491331977d"
      },
      "outputs": [
        {
          "name": "stdout",
          "output_type": "stream",
          "text": [
            "xgboost prediction progress: |███████████████████████████████████████████████████| (done) 100%\n"
          ]
        }
      ],
      "source": [
        "predictions = best_model.predict(s12_test)"
      ]
    },
    {
      "cell_type": "code",
      "execution_count": 58,
      "metadata": {
        "colab": {
          "base_uri": "https://localhost:8080/",
          "height": 206
        },
        "id": "h8AHHYW5i5l4",
        "outputId": "629d1b8f-4192-476c-e5d0-402c6e50c968"
      },
      "outputs": [
        {
          "data": {
            "text/html": [
              "\n",
              "  <div id=\"df-01a00aef-3b2e-455d-bb56-95d8883a40bc\">\n",
              "    <div class=\"colab-df-container\">\n",
              "      <div>\n",
              "<style scoped>\n",
              "    .dataframe tbody tr th:only-of-type {\n",
              "        vertical-align: middle;\n",
              "    }\n",
              "\n",
              "    .dataframe tbody tr th {\n",
              "        vertical-align: top;\n",
              "    }\n",
              "\n",
              "    .dataframe thead th {\n",
              "        text-align: right;\n",
              "    }\n",
              "</style>\n",
              "<table border=\"1\" class=\"dataframe\">\n",
              "  <thead>\n",
              "    <tr style=\"text-align: right;\">\n",
              "      <th></th>\n",
              "      <th>predict</th>\n",
              "    </tr>\n",
              "  </thead>\n",
              "  <tbody>\n",
              "    <tr>\n",
              "      <th>0</th>\n",
              "      <td>10.229467</td>\n",
              "    </tr>\n",
              "    <tr>\n",
              "      <th>1</th>\n",
              "      <td>10.255051</td>\n",
              "    </tr>\n",
              "    <tr>\n",
              "      <th>2</th>\n",
              "      <td>10.455372</td>\n",
              "    </tr>\n",
              "    <tr>\n",
              "      <th>3</th>\n",
              "      <td>8.411039</td>\n",
              "    </tr>\n",
              "    <tr>\n",
              "      <th>4</th>\n",
              "      <td>9.858337</td>\n",
              "    </tr>\n",
              "  </tbody>\n",
              "</table>\n",
              "</div>\n",
              "      <button class=\"colab-df-convert\" onclick=\"convertToInteractive('df-01a00aef-3b2e-455d-bb56-95d8883a40bc')\"\n",
              "              title=\"Convert this dataframe to an interactive table.\"\n",
              "              style=\"display:none;\">\n",
              "        \n",
              "  <svg xmlns=\"http://www.w3.org/2000/svg\" height=\"24px\"viewBox=\"0 0 24 24\"\n",
              "       width=\"24px\">\n",
              "    <path d=\"M0 0h24v24H0V0z\" fill=\"none\"/>\n",
              "    <path d=\"M18.56 5.44l.94 2.06.94-2.06 2.06-.94-2.06-.94-.94-2.06-.94 2.06-2.06.94zm-11 1L8.5 8.5l.94-2.06 2.06-.94-2.06-.94L8.5 2.5l-.94 2.06-2.06.94zm10 10l.94 2.06.94-2.06 2.06-.94-2.06-.94-.94-2.06-.94 2.06-2.06.94z\"/><path d=\"M17.41 7.96l-1.37-1.37c-.4-.4-.92-.59-1.43-.59-.52 0-1.04.2-1.43.59L10.3 9.45l-7.72 7.72c-.78.78-.78 2.05 0 2.83L4 21.41c.39.39.9.59 1.41.59.51 0 1.02-.2 1.41-.59l7.78-7.78 2.81-2.81c.8-.78.8-2.07 0-2.86zM5.41 20L4 18.59l7.72-7.72 1.47 1.35L5.41 20z\"/>\n",
              "  </svg>\n",
              "      </button>\n",
              "      \n",
              "  <style>\n",
              "    .colab-df-container {\n",
              "      display:flex;\n",
              "      flex-wrap:wrap;\n",
              "      gap: 12px;\n",
              "    }\n",
              "\n",
              "    .colab-df-convert {\n",
              "      background-color: #E8F0FE;\n",
              "      border: none;\n",
              "      border-radius: 50%;\n",
              "      cursor: pointer;\n",
              "      display: none;\n",
              "      fill: #1967D2;\n",
              "      height: 32px;\n",
              "      padding: 0 0 0 0;\n",
              "      width: 32px;\n",
              "    }\n",
              "\n",
              "    .colab-df-convert:hover {\n",
              "      background-color: #E2EBFA;\n",
              "      box-shadow: 0px 1px 2px rgba(60, 64, 67, 0.3), 0px 1px 3px 1px rgba(60, 64, 67, 0.15);\n",
              "      fill: #174EA6;\n",
              "    }\n",
              "\n",
              "    [theme=dark] .colab-df-convert {\n",
              "      background-color: #3B4455;\n",
              "      fill: #D2E3FC;\n",
              "    }\n",
              "\n",
              "    [theme=dark] .colab-df-convert:hover {\n",
              "      background-color: #434B5C;\n",
              "      box-shadow: 0px 1px 3px 1px rgba(0, 0, 0, 0.15);\n",
              "      filter: drop-shadow(0px 1px 2px rgba(0, 0, 0, 0.3));\n",
              "      fill: #FFFFFF;\n",
              "    }\n",
              "  </style>\n",
              "\n",
              "      <script>\n",
              "        const buttonEl =\n",
              "          document.querySelector('#df-01a00aef-3b2e-455d-bb56-95d8883a40bc button.colab-df-convert');\n",
              "        buttonEl.style.display =\n",
              "          google.colab.kernel.accessAllowed ? 'block' : 'none';\n",
              "\n",
              "        async function convertToInteractive(key) {\n",
              "          const element = document.querySelector('#df-01a00aef-3b2e-455d-bb56-95d8883a40bc');\n",
              "          const dataTable =\n",
              "            await google.colab.kernel.invokeFunction('convertToInteractive',\n",
              "                                                     [key], {});\n",
              "          if (!dataTable) return;\n",
              "\n",
              "          const docLinkHtml = 'Like what you see? Visit the ' +\n",
              "            '<a target=\"_blank\" href=https://colab.research.google.com/notebooks/data_table.ipynb>data table notebook</a>'\n",
              "            + ' to learn more about interactive tables.';\n",
              "          element.innerHTML = '';\n",
              "          dataTable['output_type'] = 'display_data';\n",
              "          await google.colab.output.renderOutput(dataTable, element);\n",
              "          const docLink = document.createElement('div');\n",
              "          docLink.innerHTML = docLinkHtml;\n",
              "          element.appendChild(docLink);\n",
              "        }\n",
              "      </script>\n",
              "    </div>\n",
              "  </div>\n",
              "  "
            ],
            "text/plain": [
              "     predict\n",
              "0  10.229467\n",
              "1  10.255051\n",
              "2  10.455372\n",
              "3   8.411039\n",
              "4   9.858337"
            ]
          },
          "execution_count": 58,
          "metadata": {},
          "output_type": "execute_result"
        }
      ],
      "source": [
        "\n",
        "#Show the five prediction value \n",
        "y_pred=h2o.as_list(predictions)\n",
        "y_pred[0:5]"
      ]
    },
    {
      "cell_type": "code",
      "execution_count": 59,
      "metadata": {
        "colab": {
          "base_uri": "https://localhost:8080/"
        },
        "id": "1UL6krpAjPWy",
        "outputId": "5002be07-b225-4346-e582-54f47ca8797e"
      },
      "outputs": [
        {
          "name": "stdout",
          "output_type": "stream",
          "text": [
            "['CO(GT)', 'PT08.S1(CO)', 'C6H6(GT)', 'PT08.S2(NMHC)', 'NOx(GT)', 'PT08.S3(NOx)', 'NO2(GT)', 'PT08.S4(NO2)', 'PT08.S5(O3)', 'RH', 'AH']\n"
          ]
        }
      ],
      "source": [
        "print(X)"
      ]
    },
    {
      "cell_type": "code",
      "execution_count": 60,
      "metadata": {
        "colab": {
          "base_uri": "https://localhost:8080/",
          "height": 1000
        },
        "id": "ocRSOAKQjUsS",
        "outputId": "8357729f-e528-4a92-f100-bfa47024fc34"
      },
      "outputs": [
        {
          "name": "stdout",
          "output_type": "stream",
          "text": [
            "PartialDependencePlot progress: |████████████████████████████████████████████████| (done) 100%\n"
          ]
        },
        {
          "data": {
            "text/plain": [
              "[PartialDependence: Partial Dependence Plot of model XGBoost_grid_1_AutoML_1_20221103_203340_model_3 on column 'AH'.\n",
              "ah        mean_response    stddev_response    std_error_mean_response\n",
              "--------  ---------------  -----------------  -------------------------\n",
              "0.1847    0.260426         3.49733            0.0419784\n",
              "0.289747  1.77185          4.96766            0.0596267\n",
              "0.394795  5.76396          5.76492            0.0691962\n",
              "0.499842  8.87906          6.57849            0.0789614\n",
              "0.604889  11.208           6.27266            0.0752906\n",
              "0.709937  13.8647          6.35202            0.0762432\n",
              "0.814984  15.9186          6.57222            0.0788863\n",
              "0.920032  17.9734          6.72626            0.0807351\n",
              "1.02508   19.9012          6.85979            0.0823379\n",
              "1.13013   21.3241          6.87976            0.0825776\n",
              "1.23517   22.8464          6.97316            0.0836986\n",
              "1.34022   24.1029          6.87445            0.0825139\n",
              "1.44527   25.5016          6.71837            0.0806404\n",
              "1.55032   26.433           6.67911            0.0801691\n",
              "1.65536   27.9021          6.56885            0.0788457\n",
              "1.76041   28.6028          6.39259            0.0767302\n",
              "1.86546   29.3608          6.19223            0.0743252\n",
              "1.97051   29.9494          5.92045            0.071063\n",
              "2.07555   30.8024          5.69074            0.0683058\n",
              "2.1806    30.9245          5.57571            0.0669251]"
            ]
          },
          "execution_count": 60,
          "metadata": {},
          "output_type": "execute_result"
        },
        {
          "data": {
            "image/png": "[encoded data removed]",
            "text/plain": [
              "<Figure size 504x720 with 1 Axes>"
            ]
          },
          "metadata": {
            "needs_background": "light"
          },
          "output_type": "display_data"
        }
      ],
      "source": [
        "#How AH influence Temperature in the best Model(XGBoost)\n",
        "best_model.partial_plot(s12, cols=['AH'])"
      ]
    },
    {
      "cell_type": "code",
      "execution_count": 61,
      "metadata": {
        "colab": {
          "base_uri": "https://localhost:8080/",
          "height": 1000
        },
        "id": "55lbwF19ByGB",
        "outputId": "1e388d7b-f26e-4ab9-a43e-3420744bfcf3"
      },
      "outputs": [
        {
          "name": "stdout",
          "output_type": "stream",
          "text": [
            "PartialDependencePlot progress: |████████████████████████████████████████████████| (done) 100%\n"
          ]
        },
        {
          "data": {
            "text/plain": [
              "[PartialDependence: Partial Dependence Plot of model GLM_1_AutoML_1_20221103_203340 on column 'RH'.\n",
              "rh       mean_response    stddev_response    std_error_mean_response\n",
              "-------  ---------------  -----------------  -------------------------\n",
              "9.2      31.1895          6.95864            0.0835244\n",
              "13.3842  29.7719          6.95864            0.0835244\n",
              "17.5684  28.3543          6.95864            0.0835244\n",
              "21.7526  26.9366          6.95864            0.0835244\n",
              "25.9368  25.519           6.95864            0.0835244\n",
              "30.1211  24.1014          6.95864            0.0835244\n",
              "34.3053  22.6837          6.95864            0.0835244\n",
              "38.4895  21.2661          6.95864            0.0835244\n",
              "42.6737  19.8485          6.95864            0.0835244\n",
              "46.8579  18.4308          6.95864            0.0835244\n",
              "51.0421  17.0132          6.95864            0.0835244\n",
              "55.2263  15.5956          6.95864            0.0835244\n",
              "59.4105  14.1779          6.95864            0.0835244\n",
              "63.5947  12.7603          6.95864            0.0835244\n",
              "67.7789  11.3426          6.95864            0.0835244\n",
              "71.9632  9.92502          6.95864            0.0835244\n",
              "76.1474  8.50738          6.95864            0.0835244\n",
              "80.3316  7.08975          6.95864            0.0835244\n",
              "84.5158  5.67211          6.95864            0.0835244\n",
              "88.7     4.25448          6.95864            0.0835244]"
            ]
          },
          "execution_count": 61,
          "metadata": {},
          "output_type": "execute_result"
        },
        {
          "data": {
            "image/png": "[encoded data removed]",
            "text/plain": [
              "<Figure size 504x720 with 1 Axes>"
            ]
          },
          "metadata": {
            "needs_background": "light"
          },
          "output_type": "display_data"
        }
      ],
      "source": [
        "\n",
        "#How RH influence Temperature in the test Model(GLM)\n",
        "test_model.partial_plot(s12, cols=['RH'])"
      ]
    },
    {
      "cell_type": "code",
      "execution_count": 62,
      "metadata": {
        "colab": {
          "base_uri": "https://localhost:8080/",
          "height": 1000
        },
        "id": "hjaR2DSRj7Vq",
        "outputId": "cb28be08-3a40-40fc-877f-8d92df13ef1e"
      },
      "outputs": [
        {
          "name": "stdout",
          "output_type": "stream",
          "text": [
            "PartialDependencePlot progress: |████████████████████████████████████████████████| (done) 100%\n"
          ]
        },
        {
          "data": {
            "text/plain": [
              "[PartialDependence: Partial Dependence Plot of model XGBoost_grid_1_AutoML_1_20221103_203340_model_3 on column 'CO(GT)'.\n",
              "cogt      mean_response    stddev_response    std_error_mean_response\n",
              "--------  ---------------  -----------------  -------------------------\n",
              "0.1       17.7933          8.86618            0.106421\n",
              "0.721053  17.7588          8.84084            0.106116\n",
              "1.34211   17.7574          8.84331            0.106146\n",
              "1.96316   17.7506          8.84613            0.10618\n",
              "2.58421   17.744           8.84703            0.106191\n",
              "3.20526   17.7452          8.84785            0.106201\n",
              "3.82632   17.7719          8.84634            0.106182\n",
              "4.44737   17.8589          8.85453            0.106281\n",
              "5.06842   17.8276          8.86171            0.106367\n",
              "5.68947   17.8161          8.86139            0.106363\n",
              "6.31053   17.7701          8.85617            0.1063\n",
              "6.93158   17.8592          8.84783            0.1062\n",
              "7.55263   17.8592          8.84783            0.1062\n",
              "8.17368   17.8591          8.84785            0.1062\n",
              "8.79474   17.8591          8.84785            0.1062\n",
              "9.41579   17.8591          8.84785            0.1062\n",
              "10.0368   17.8591          8.84785            0.1062\n",
              "10.6579   17.8591          8.84785            0.1062\n",
              "11.2789   17.8591          8.84785            0.1062\n",
              "11.9      17.8591          8.84785            0.1062,\n",
              " PartialDependence: Partial Dependence Plot of model XGBoost_grid_1_AutoML_1_20221103_203340_model_3 on column 'PT08.S1(CO)'.\n",
              "pt08s1co    mean_response    stddev_response    std_error_mean_response\n",
              "----------  ---------------  -----------------  -------------------------\n",
              "647         17.6863          8.85595            0.106298\n",
              "720.316     17.6861          8.85604            0.106299\n",
              "793.632     17.709           8.86248            0.106376\n",
              "866.947     17.7245          8.84202            0.106131\n",
              "940.263     17.7215          8.84217            0.106132\n",
              "1013.58     17.7474          8.84785            0.1062\n",
              "1086.89     17.7337          8.85281            0.10626\n",
              "1160.21     17.7456          8.85281            0.10626\n",
              "1233.53     17.7349          8.83801            0.106082\n",
              "1306.84     17.7302          8.83335            0.106026\n",
              "1380.16     17.7108          8.8706             0.106474\n",
              "1453.47     17.7357          8.87117            0.10648\n",
              "1526.79     17.6802          8.86969            0.106463\n",
              "1600.11     17.6989          8.86444            0.1064\n",
              "1673.42     17.7111          8.86708            0.106431\n",
              "1746.74     17.7111          8.86708            0.106431\n",
              "1820.05     17.7111          8.86708            0.106431\n",
              "1893.37     17.7111          8.86708            0.106431\n",
              "1966.68     17.7513          8.86687            0.106429\n",
              "2040        17.7513          8.86687            0.106429,\n",
              " PartialDependence: Partial Dependence Plot of model XGBoost_grid_1_AutoML_1_20221103_203340_model_3 on column 'C6H6(GT)'.\n",
              "c6h6gt    mean_response    stddev_response    std_error_mean_response\n",
              "--------  ---------------  -----------------  -------------------------\n",
              "0.2       17.759           8.84878            0.106212\n",
              "3.54211   17.7583          8.8499             0.106225\n",
              "6.88421   17.758           8.84679            0.106188\n",
              "10.2263   17.7373          8.82916            0.105976\n",
              "13.5684   17.7865          8.84586            0.106177\n",
              "16.9105   17.7051          8.85487            0.106285\n",
              "20.2526   17.7076          8.85193            0.106249\n",
              "23.5947   17.6986          8.86043            0.106352\n",
              "26.9368   17.6986          8.86043            0.106352\n",
              "30.2789   17.6986          8.86043            0.106352\n",
              "33.6211   17.72            8.86183            0.106368\n",
              "36.9632   17.72            8.86183            0.106368\n",
              "40.3053   17.72            8.86183            0.106368\n",
              "43.6474   17.72            8.86183            0.106368\n",
              "46.9895   17.72            8.86183            0.106368\n",
              "50.3316   17.72            8.86183            0.106368\n",
              "53.6737   17.72            8.86183            0.106368\n",
              "57.0158   17.72            8.86183            0.106368\n",
              "60.3579   17.72            8.86183            0.106368\n",
              "63.7      17.72            8.86183            0.106368,\n",
              " PartialDependence: Partial Dependence Plot of model XGBoost_grid_1_AutoML_1_20221103_203340_model_3 on column 'PT08.S2(NMHC)'.\n",
              "pt08s2nmhc    mean_response    stddev_response    std_error_mean_response\n",
              "------------  ---------------  -----------------  -------------------------\n",
              "390           17.6568          8.84915            0.106216\n",
              "486           17.6568          8.84915            0.106216\n",
              "582           17.7121          8.8421             0.106132\n",
              "678           17.7223          8.835              0.106046\n",
              "774           17.7394          8.83671            0.106067\n",
              "870           17.7393          8.83688            0.106069\n",
              "966           17.7403          8.8371             0.106072\n",
              "1062          17.7403          8.8371             0.106072\n",
              "1158          17.7874          8.8428             0.10614\n",
              "1254          17.7903          8.85542            0.106291\n",
              "1350          17.7693          8.86904            0.106455\n",
              "1446          17.7693          8.86904            0.106455\n",
              "1542          17.7693          8.86904            0.106455\n",
              "1638          17.7693          8.86904            0.106455\n",
              "1734          17.7129          8.87758            0.106557\n",
              "1830          17.7129          8.87758            0.106557\n",
              "1926          17.7129          8.87758            0.106557\n",
              "2022          17.7129          8.87758            0.106557\n",
              "2118          17.7129          8.87758            0.106557\n",
              "2214          17.7129          8.87758            0.106557,\n",
              " PartialDependence: Partial Dependence Plot of model XGBoost_grid_1_AutoML_1_20221103_203340_model_3 on column 'NOx(GT)'.\n",
              "noxgt    mean_response    stddev_response    std_error_mean_response\n",
              "-------  ---------------  -----------------  -------------------------\n",
              "2        17.8222          8.84741            0.106195\n",
              "79.7368  17.7614          8.85086            0.106237\n",
              "157.474  17.7577          8.84681            0.106188\n",
              "235.211  17.7538          8.84477            0.106164\n",
              "312.947  17.7644          8.84757            0.106197\n",
              "390.684  17.7389          8.83516            0.106048\n",
              "468.421  17.7848          8.86371            0.106391\n",
              "546.158  17.7881          8.86367            0.10639\n",
              "623.895  17.7885          8.8636             0.10639\n",
              "701.632  17.7885          8.8636             0.10639\n",
              "779.368  17.7891          8.8632             0.106385\n",
              "857.105  17.8139          8.86396            0.106394\n",
              "934.842  17.8177          8.862              0.10637\n",
              "1012.58  17.8177          8.862              0.10637\n",
              "1090.32  17.8177          8.862              0.10637\n",
              "1168.05  17.8177          8.862              0.10637\n",
              "1245.79  17.8177          8.862              0.10637\n",
              "1323.53  17.8177          8.862              0.10637\n",
              "1401.26  17.8177          8.862              0.10637\n",
              "1479     17.8177          8.862              0.10637,\n",
              " PartialDependence: Partial Dependence Plot of model XGBoost_grid_1_AutoML_1_20221103_203340_model_3 on column 'PT08.S3(NOx)'.\n",
              "pt08s3nox    mean_response    stddev_response    std_error_mean_response\n",
              "-----------  ---------------  -----------------  -------------------------\n",
              "322          17.8718          8.82678            0.105948\n",
              "446.263      17.8088          8.82962            0.105982\n",
              "570.526      17.7959          8.83324            0.106025\n",
              "694.789      17.7594          8.85279            0.10626\n",
              "819.053      17.7575          8.84433            0.106158\n",
              "943.316      17.7507          8.84365            0.10615\n",
              "1067.58      17.755           8.83987            0.106105\n",
              "1191.84      17.75            8.83971            0.106103\n",
              "1316.11      17.7507          8.83933            0.106098\n",
              "1440.37      17.7357          8.81872            0.105851\n",
              "1564.63      17.735           8.81925            0.105857\n",
              "1688.89      17.735           8.81925            0.105857\n",
              "1813.16      17.735           8.81925            0.105857\n",
              "1937.42      17.735           8.81925            0.105857\n",
              "2061.68      17.735           8.81925            0.105857\n",
              "2185.95      17.7776          8.81895            0.105854\n",
              "2310.21      17.7776          8.81895            0.105854\n",
              "2434.47      17.7776          8.81895            0.105854\n",
              "2558.74      17.7776          8.81895            0.105854\n",
              "2683         17.7776          8.81895            0.105854,\n",
              " PartialDependence: Partial Dependence Plot of model XGBoost_grid_1_AutoML_1_20221103_203340_model_3 on column 'NO2(GT)'.\n",
              "no2gt    mean_response    stddev_response    std_error_mean_response\n",
              "-------  ---------------  -----------------  -------------------------\n",
              "2        17.7415          8.83213            0.106012\n",
              "19.4211  17.7415          8.83213            0.106012\n",
              "36.8421  17.7435          8.83398            0.106034\n",
              "54.2632  17.8112          8.82452            0.10592\n",
              "71.6842  17.8054          8.81262            0.105778\n",
              "89.1053  17.7759          8.83937            0.106099\n",
              "106.526  17.7584          8.84246            0.106136\n",
              "123.947  17.77            8.83763            0.106078\n",
              "141.368  17.7675          8.83455            0.106041\n",
              "158.789  17.7646          8.83538            0.106051\n",
              "176.211  17.7629          8.83943            0.1061\n",
              "193.632  17.7638          8.83926            0.106097\n",
              "211.053  17.7951          8.84305            0.106143\n",
              "228.474  17.7951          8.84305            0.106143\n",
              "245.895  17.7954          8.84293            0.106142\n",
              "263.316  17.7954          8.84293            0.106142\n",
              "280.737  17.7954          8.84293            0.106142\n",
              "298.158  17.7954          8.84293            0.106142\n",
              "315.579  17.7954          8.84293            0.106142\n",
              "333      17.7954          8.84293            0.106142,\n",
              " PartialDependence: Partial Dependence Plot of model XGBoost_grid_1_AutoML_1_20221103_203340_model_3 on column 'PT08.S4(NO2)'.\n",
              "pt08s4no2    mean_response    stddev_response    std_error_mean_response\n",
              "-----------  ---------------  -----------------  -------------------------\n",
              "551          17.7591          8.87452            0.106521\n",
              "668.053      17.7686          8.86186            0.106369\n",
              "785.105      17.7381          8.83817            0.106084\n",
              "902.158      17.7372          8.8384             0.106087\n",
              "1019.21      17.7389          8.83916            0.106096\n",
              "1136.26      17.7395          8.83545            0.106052\n",
              "1253.32      17.74            8.8367             0.106067\n",
              "1370.37      17.7451          8.84277            0.10614\n",
              "1487.42      17.7586          8.84062            0.106114\n",
              "1604.47      17.7634          8.84217            0.106132\n",
              "1721.53      17.7664          8.83738            0.106075\n",
              "1838.58      17.7147          8.8737             0.106511\n",
              "1955.63      17.7147          8.8735             0.106508\n",
              "2072.68      17.7601          8.88335            0.106627\n",
              "2189.74      17.7601          8.88335            0.106627\n",
              "2306.79      17.7601          8.88335            0.106627\n",
              "2423.84      17.76            8.88332            0.106626\n",
              "2540.89      17.821           8.88355            0.106629\n",
              "2657.95      17.821           8.88355            0.106629\n",
              "2775         17.821           8.88355            0.106629,\n",
              " PartialDependence: Partial Dependence Plot of model XGBoost_grid_1_AutoML_1_20221103_203340_model_3 on column 'PT08.S5(O3)'.\n",
              "pt08s5o3    mean_response    stddev_response    std_error_mean_response\n",
              "----------  ---------------  -----------------  -------------------------\n",
              "221         17.886           8.91208            0.106971\n",
              "342.158     17.7823          8.88309            0.106624\n",
              "463.316     17.8085          8.8693             0.106458\n",
              "584.474     17.7819          8.84627            0.106182\n",
              "705.632     17.7646          8.84081            0.106116\n",
              "826.789     17.7625          8.83974            0.106103\n",
              "947.947     17.7627          8.83994            0.106106\n",
              "1069.11     17.747           8.83793            0.106081\n",
              "1190.26     17.769           8.84149            0.106124\n",
              "1311.42     17.7672          8.84469            0.106163\n",
              "1432.58     17.7335          8.82615            0.10594\n",
              "1553.74     17.7585          8.83698            0.10607\n",
              "1674.89     17.759           8.83735            0.106075\n",
              "1796.05     17.8172          8.83466            0.106042\n",
              "1917.21     17.818           8.83497            0.106046\n",
              "2038.37     17.8185          8.83491            0.106045\n",
              "2159.53     17.8193          8.83477            0.106044\n",
              "2280.68     17.8193          8.83477            0.106044\n",
              "2401.84     17.8193          8.83477            0.106044\n",
              "2523        17.8193          8.83477            0.106044,\n",
              " PartialDependence: Partial Dependence Plot of model XGBoost_grid_1_AutoML_1_20221103_203340_model_3 on column 'RH'.\n",
              "rh       mean_response    stddev_response    std_error_mean_response\n",
              "-------  ---------------  -----------------  -------------------------\n",
              "9.2      39.8177          5.2583             0.0631153\n",
              "13.3842  36.9601          7.23712            0.086867\n",
              "17.5684  32.9787          7.5127             0.0901747\n",
              "21.7526  29.6185          7.23068            0.0867897\n",
              "25.9368  26.6478          7.66749            0.0920327\n",
              "30.1211  24.3772          7.25666            0.0871016\n",
              "34.3053  22.2213          7.38383            0.0886279\n",
              "38.4895  20.4922          7.3338             0.0880275\n",
              "42.6737  18.5694          7.15406            0.08587\n",
              "46.8579  17.2051          7.10759            0.0853122\n",
              "51.0421  15.8092          7.1028             0.0852548\n",
              "55.2263  14.5057          6.86161            0.0823598\n",
              "59.4105  13.5677          6.85222            0.082247\n",
              "63.5947  12.4494          6.69468            0.080356\n",
              "67.7789  11.573           6.42567            0.0771272\n",
              "71.9632  10.5997          6.2554             0.0750835\n",
              "76.1474  9.96359          6.055              0.0726781\n",
              "80.3316  9.33266          5.84191            0.0701203\n",
              "84.5158  8.838            5.81398            0.0697851\n",
              "88.7     8.58244          5.75323            0.0690559]"
            ]
          },
          "execution_count": 62,
          "metadata": {},
          "output_type": "execute_result"
        },
        {
          "data": {
            "image/png": "[encoded data removed]",
            "text/plain": [
              "<Figure size 504x720 with 10 Axes>"
            ]
          },
          "metadata": {
            "needs_background": "light"
          },
          "output_type": "display_data"
        }
      ],
      "source": [
        "#How Other variable influence the temperature in the best Model(XGBoost)\n",
        "best_model.partial_plot(s12, cols=['CO(GT)', 'PT08.S1(CO)', 'C6H6(GT)', 'PT08.S2(NMHC)', 'NOx(GT)', 'PT08.S3(NOx)', 'NO2(GT)', 'PT08.S4(NO2)', 'PT08.S5(O3)', 'RH'])"
      ]
    },
    {
      "cell_type": "code",
      "execution_count": 63,
      "metadata": {
        "colab": {
          "base_uri": "https://localhost:8080/",
          "height": 1000
        },
        "id": "GQAP0j68CdLq",
        "outputId": "20a1c5c0-7a0d-4487-b9c0-d4baaf65d24a"
      },
      "outputs": [
        {
          "name": "stdout",
          "output_type": "stream",
          "text": [
            "PartialDependencePlot progress: |████████████████████████████████████████████████| (done) 100%\n"
          ]
        },
        {
          "data": {
            "text/plain": [
              "[PartialDependence: Partial Dependence Plot of model GLM_1_AutoML_1_20221103_203340 on column 'CO(GT)'.\n",
              "cogt      mean_response    stddev_response    std_error_mean_response\n",
              "--------  ---------------  -----------------  -------------------------\n",
              "0.1       19.0788          8.5717             0.102886\n",
              "0.721053  18.6811          8.5717             0.102886\n",
              "1.34211   18.2833          8.5717             0.102886\n",
              "1.96316   17.8855          8.5717             0.102886\n",
              "2.58421   17.4878          8.5717             0.102886\n",
              "3.20526   17.09            8.5717             0.102886\n",
              "3.82632   16.6922          8.5717             0.102886\n",
              "4.44737   16.2945          8.5717             0.102886\n",
              "5.06842   15.8967          8.5717             0.102886\n",
              "5.68947   15.499           8.5717             0.102886\n",
              "6.31053   15.1012          8.5717             0.102886\n",
              "6.93158   14.7034          8.5717             0.102886\n",
              "7.55263   14.3057          8.5717             0.102886\n",
              "8.17368   13.9079          8.5717             0.102886\n",
              "8.79474   13.5102          8.5717             0.102886\n",
              "9.41579   13.1124          8.5717             0.102886\n",
              "10.0368   12.7146          8.5717             0.102886\n",
              "10.6579   12.3169          8.5717             0.102886\n",
              "11.2789   11.9191          8.5717             0.102886\n",
              "11.9      11.5214          8.5717             0.102886,\n",
              " PartialDependence: Partial Dependence Plot of model GLM_1_AutoML_1_20221103_203340 on column 'PT08.S1(CO)'.\n",
              "pt08s1co    mean_response    stddev_response    std_error_mean_response\n",
              "----------  ---------------  -----------------  -------------------------\n",
              "647         17.3644          8.49921            0.102016\n",
              "720.316     17.4234          8.49921            0.102016\n",
              "793.632     17.4824          8.49921            0.102016\n",
              "866.947     17.5414          8.49921            0.102016\n",
              "940.263     17.6005          8.49921            0.102016\n",
              "1013.58     17.6595          8.49921            0.102016\n",
              "1086.89     17.7185          8.49921            0.102016\n",
              "1160.21     17.7775          8.49921            0.102016\n",
              "1233.53     17.8365          8.49921            0.102016\n",
              "1306.84     17.8956          8.49921            0.102016\n",
              "1380.16     17.9546          8.49921            0.102016\n",
              "1453.47     18.0136          8.49921            0.102016\n",
              "1526.79     18.0726          8.49921            0.102016\n",
              "1600.11     18.1316          8.49921            0.102016\n",
              "1673.42     18.1906          8.49921            0.102016\n",
              "1746.74     18.2497          8.49921            0.102016\n",
              "1820.05     18.3087          8.49921            0.102016\n",
              "1893.37     18.3677          8.49921            0.102016\n",
              "1966.68     18.4267          8.49921            0.102016\n",
              "2040        18.4857          8.49921            0.102016,\n",
              " PartialDependence: Partial Dependence Plot of model GLM_1_AutoML_1_20221103_203340 on column 'C6H6(GT)'.\n",
              "c6h6gt    mean_response    stddev_response    std_error_mean_response\n",
              "--------  ---------------  -----------------  -------------------------\n",
              "0.2       21.0073          9.26126            0.111163\n",
              "3.54211   19.9544          9.26126            0.111163\n",
              "6.88421   18.9014          9.26126            0.111163\n",
              "10.2263   17.8485          9.26126            0.111163\n",
              "13.5684   16.7955          9.26126            0.111163\n",
              "16.9105   15.7426          9.26126            0.111163\n",
              "20.2526   14.6896          9.26126            0.111163\n",
              "23.5947   13.6367          9.26126            0.111163\n",
              "26.9368   12.5837          9.26126            0.111163\n",
              "30.2789   11.5308          9.26126            0.111163\n",
              "33.6211   10.4778          9.26126            0.111163\n",
              "36.9632   9.42489          9.26126            0.111163\n",
              "40.3053   8.37194          9.26126            0.111163\n",
              "43.6474   7.319            9.26126            0.111163\n",
              "46.9895   6.26605          9.26126            0.111163\n",
              "50.3316   5.2131           9.26126            0.111163\n",
              "53.6737   4.16015          9.26126            0.111163\n",
              "57.0158   3.10721          9.26126            0.111163\n",
              "60.3579   2.05426          9.26126            0.111163\n",
              "63.7      1.00131          9.26126            0.111163,\n",
              " PartialDependence: Partial Dependence Plot of model GLM_1_AutoML_1_20221103_203340 on column 'PT08.S2(NMHC)'.\n",
              "pt08s2nmhc    mean_response    stddev_response    std_error_mean_response\n",
              "------------  ---------------  -----------------  -------------------------\n",
              "390           13.3992          8.2569             0.0991074\n",
              "486           14.133           8.2569             0.0991074\n",
              "582           14.8668          8.2569             0.0991074\n",
              "678           15.6006          8.2569             0.0991074\n",
              "774           16.3345          8.2569             0.0991074\n",
              "870           17.0683          8.2569             0.0991074\n",
              "966           17.8021          8.2569             0.0991074\n",
              "1062          18.5359          8.2569             0.0991074\n",
              "1158          19.2697          8.2569             0.0991074\n",
              "1254          20.0035          8.2569             0.0991074\n",
              "1350          20.7373          8.2569             0.0991074\n",
              "1446          21.4711          8.2569             0.0991074\n",
              "1542          22.2049          8.2569             0.0991074\n",
              "1638          22.9387          8.2569             0.0991074\n",
              "1734          23.6725          8.2569             0.0991074\n",
              "1830          24.4064          8.2569             0.0991074\n",
              "1926          25.1402          8.2569             0.0991074\n",
              "2022          25.874           8.2569             0.0991074\n",
              "2118          26.6078          8.2569             0.0991074\n",
              "2214          27.3416          8.2569             0.0991074,\n",
              " PartialDependence: Partial Dependence Plot of model GLM_1_AutoML_1_20221103_203340 on column 'NOx(GT)'.\n",
              "noxgt    mean_response    stddev_response    std_error_mean_response\n",
              "-------  ---------------  -----------------  -------------------------\n",
              "2        16.699           8.79316            0.105544\n",
              "79.7368  17.026           8.79316            0.105544\n",
              "157.474  17.353           8.79316            0.105544\n",
              "235.211  17.68            8.79316            0.105544\n",
              "312.947  18.0071          8.79316            0.105544\n",
              "390.684  18.3341          8.79316            0.105544\n",
              "468.421  18.6611          8.79316            0.105544\n",
              "546.158  18.9881          8.79316            0.105544\n",
              "623.895  19.3152          8.79316            0.105544\n",
              "701.632  19.6422          8.79316            0.105544\n",
              "779.368  19.9692          8.79316            0.105544\n",
              "857.105  20.2962          8.79316            0.105544\n",
              "934.842  20.6233          8.79316            0.105544\n",
              "1012.58  20.9503          8.79316            0.105544\n",
              "1090.32  21.2773          8.79316            0.105544\n",
              "1168.05  21.6043          8.79316            0.105544\n",
              "1245.79  21.9314          8.79316            0.105544\n",
              "1323.53  22.2584          8.79316            0.105544\n",
              "1401.26  22.5854          8.79316            0.105544\n",
              "1479     22.9124          8.79316            0.105544,\n",
              " PartialDependence: Partial Dependence Plot of model GLM_1_AutoML_1_20221103_203340 on column 'PT08.S3(NOx)'.\n",
              "pt08s3nox    mean_response    stddev_response    std_error_mean_response\n",
              "-----------  ---------------  -----------------  -------------------------\n",
              "322          17.7545          8.50223            0.102052\n",
              "446.263      17.7522          8.50223            0.102052\n",
              "570.526      17.7498          8.50223            0.102052\n",
              "694.789      17.7474          8.50223            0.102052\n",
              "819.053      17.745           8.50223            0.102052\n",
              "943.316      17.7427          8.50223            0.102052\n",
              "1067.58      17.7403          8.50223            0.102052\n",
              "1191.84      17.7379          8.50223            0.102052\n",
              "1316.11      17.7355          8.50223            0.102052\n",
              "1440.37      17.7331          8.50223            0.102052\n",
              "1564.63      17.7308          8.50223            0.102052\n",
              "1688.89      17.7284          8.50223            0.102052\n",
              "1813.16      17.726           8.50223            0.102052\n",
              "1937.42      17.7236          8.50223            0.102052\n",
              "2061.68      17.7212          8.50223            0.102052\n",
              "2185.95      17.7189          8.50223            0.102052\n",
              "2310.21      17.7165          8.50223            0.102052\n",
              "2434.47      17.7141          8.50223            0.102052\n",
              "2558.74      17.7117          8.50223            0.102052\n",
              "2683         17.7093          8.50223            0.102052,\n",
              " PartialDependence: Partial Dependence Plot of model GLM_1_AutoML_1_20221103_203340 on column 'NO2(GT)'.\n",
              "no2gt    mean_response    stddev_response    std_error_mean_response\n",
              "-------  ---------------  -----------------  -------------------------\n",
              "2        17.7967          8.49793            0.102\n",
              "19.4211  17.7887          8.49793            0.102\n",
              "36.8421  17.7806          8.49793            0.102\n",
              "54.2632  17.7726          8.49793            0.102\n",
              "71.6842  17.7645          8.49793            0.102\n",
              "89.1053  17.7565          8.49793            0.102\n",
              "106.526  17.7485          8.49793            0.102\n",
              "123.947  17.7404          8.49793            0.102\n",
              "141.368  17.7324          8.49793            0.102\n",
              "158.789  17.7243          8.49793            0.102\n",
              "176.211  17.7163          8.49793            0.102\n",
              "193.632  17.7083          8.49793            0.102\n",
              "211.053  17.7002          8.49793            0.102\n",
              "228.474  17.6922          8.49793            0.102\n",
              "245.895  17.6841          8.49793            0.102\n",
              "263.316  17.6761          8.49793            0.102\n",
              "280.737  17.6681          8.49793            0.102\n",
              "298.158  17.66            8.49793            0.102\n",
              "315.579  17.652           8.49793            0.102\n",
              "333      17.6439          8.49793            0.102,\n",
              " PartialDependence: Partial Dependence Plot of model GLM_1_AutoML_1_20221103_203340 on column 'PT08.S4(NO2)'.\n",
              "pt08s4no2    mean_response    stddev_response    std_error_mean_response\n",
              "-----------  ---------------  -----------------  -------------------------\n",
              "551          11.4445          7.32475            0.0879188\n",
              "668.053      12.2624          7.32475            0.0879188\n",
              "785.105      13.0804          7.32475            0.0879188\n",
              "902.158      13.8983          7.32475            0.0879188\n",
              "1019.21      14.7163          7.32475            0.0879188\n",
              "1136.26      15.5342          7.32475            0.0879188\n",
              "1253.32      16.3522          7.32475            0.0879188\n",
              "1370.37      17.1701          7.32475            0.0879188\n",
              "1487.42      17.9881          7.32475            0.0879188\n",
              "1604.47      18.806           7.32475            0.0879188\n",
              "1721.53      19.624           7.32475            0.0879188\n",
              "1838.58      20.4419          7.32475            0.0879188\n",
              "1955.63      21.2598          7.32475            0.0879188\n",
              "2072.68      22.0778          7.32475            0.0879188\n",
              "2189.74      22.8957          7.32475            0.0879188\n",
              "2306.79      23.7137          7.32475            0.0879188\n",
              "2423.84      24.5316          7.32475            0.0879188\n",
              "2540.89      25.3496          7.32475            0.0879188\n",
              "2657.95      26.1675          7.32475            0.0879188\n",
              "2775         26.9855          7.32475            0.0879188,\n",
              " PartialDependence: Partial Dependence Plot of model GLM_1_AutoML_1_20221103_203340 on column 'PT08.S5(O3)'.\n",
              "pt08s5o3    mean_response    stddev_response    std_error_mean_response\n",
              "----------  ---------------  -----------------  -------------------------\n",
              "221         19.9048          8.51928            0.102257\n",
              "342.158     19.592           8.51928            0.102257\n",
              "463.316     19.2793          8.51928            0.102257\n",
              "584.474     18.9666          8.51928            0.102257\n",
              "705.632     18.6539          8.51928            0.102257\n",
              "826.789     18.3412          8.51928            0.102257\n",
              "947.947     18.0285          8.51928            0.102257\n",
              "1069.11     17.7158          8.51928            0.102257\n",
              "1190.26     17.4031          8.51928            0.102257\n",
              "1311.42     17.0904          8.51928            0.102257\n",
              "1432.58     16.7776          8.51928            0.102257\n",
              "1553.74     16.4649          8.51928            0.102257\n",
              "1674.89     16.1522          8.51928            0.102257\n",
              "1796.05     15.8395          8.51928            0.102257\n",
              "1917.21     15.5268          8.51928            0.102257\n",
              "2038.37     15.2141          8.51928            0.102257\n",
              "2159.53     14.9014          8.51928            0.102257\n",
              "2280.68     14.5887          8.51928            0.102257\n",
              "2401.84     14.276           8.51928            0.102257\n",
              "2523        13.9633          8.51928            0.102257,\n",
              " PartialDependence: Partial Dependence Plot of model GLM_1_AutoML_1_20221103_203340 on column 'AH'.\n",
              "ah        mean_response    stddev_response    std_error_mean_response\n",
              "--------  ---------------  -----------------  -------------------------\n",
              "0.1847    6.69356          6.20594            0.0744898\n",
              "0.289747  8.14314          6.20594            0.0744898\n",
              "0.394795  9.59273          6.20594            0.0744898\n",
              "0.499842  11.0423          6.20594            0.0744898\n",
              "0.604889  12.4919          6.20594            0.0744898\n",
              "0.709937  13.9415          6.20594            0.0744898\n",
              "0.814984  15.3911          6.20594            0.0744898\n",
              "0.920032  16.8406          6.20594            0.0744898\n",
              "1.02508   18.2902          6.20594            0.0744898\n",
              "1.13013   19.7398          6.20594            0.0744898\n",
              "1.23517   21.1894          6.20594            0.0744898\n",
              "1.34022   22.639           6.20594            0.0744898\n",
              "1.44527   24.0886          6.20594            0.0744898\n",
              "1.55032   25.5382          6.20594            0.0744898\n",
              "1.65536   26.9877          6.20594            0.0744898\n",
              "1.76041   28.4373          6.20594            0.0744898\n",
              "1.86546   29.8869          6.20594            0.0744898\n",
              "1.97051   31.3365          6.20594            0.0744898\n",
              "2.07555   32.7861          6.20594            0.0744898\n",
              "2.1806    34.2357          6.20594            0.0744898]"
            ]
          },
          "execution_count": 63,
          "metadata": {},
          "output_type": "execute_result"
        },
        {
          "data": {
            "image/png": "[encoded data removed]",
            "text/plain": [
              "<Figure size 504x720 with 10 Axes>"
            ]
          },
          "metadata": {
            "needs_background": "light"
          },
          "output_type": "display_data"
        }
      ],
      "source": [
        "#How Other variable influence the temperature in the test Model(GLM)\n",
        "test_model.partial_plot(s12, cols=['CO(GT)', 'PT08.S1(CO)', 'C6H6(GT)', 'PT08.S2(NMHC)', 'NOx(GT)', 'PT08.S3(NOx)', 'NO2(GT)', 'PT08.S4(NO2)', 'PT08.S5(O3)', 'AH'])"
      ]
    },
    {
      "cell_type": "markdown",
      "metadata": {
        "id": "FiAEe_DbAwWb"
      },
      "source": [
        "# Questions:\n",
        "# 1.Is the relationship significant?\n",
        "\n",
        "```\n",
        "air_glm = H2OGeneralizedLinearEstimator( lambda_ = 0,\n",
        "                        remove_collinear_columns = True,\n",
        "                          compute_p_values = True)\n",
        "air_glm.train(x = X, y = y, training_frame = s12_train, validation_frame = s12_test)\n",
        "coeff_table = air_glm._model_json['output']['coefficients_table']\n",
        "coeff_table.as_data_frame()\n",
        "```\n",
        "\n",
        "\n",
        "\n",
        "\n",
        "\n",
        "```\n",
        "index\tnames\tcoefficients\tstd_error\tz_value\tp_value\tstandardized_coefficients\n",
        "0\tIntercept\t 7.11793\t0.80682\t8.82215\t  1.51255e-18\t  17.74632\n",
        "1\tCO(GT)  \t-0.54965\t0.07564\t-7.26591\t 4.25861e-13\t  -0.79869\n",
        "2\tPT08.S1(CO)\t0.00082\t0.00043\t1.89765\t  0.05779\t    0.18126\n",
        "3\tC6H6(GT)\t -0.37711\t0.03013\t-12.51577\t 1.99235e-35\t  -2.81680\n",
        "4\tPT08.S2(NMHC)   0.00941\t0.00099\t9.492158\t  3.36725e-21\t  2.48682\n",
        "5\tNOx(GT)\t  0.00435\t0.00045\t9.67602\t  5.85271e-22\t  0.90412\n",
        "6\tPT08.S3(NOx)    0.00053\t0.00029\t1.81010\t  0.07033\t    0.13542\n",
        "7\tNO2(GT)\t  0.00023\t0.00148\t0.15567\t  0.876297\t    0.01098\n",
        "8\tPT08.S4(NO2)\t0.00677\t0.00039\t17.21319\t 1.30833e-64\t  2.38963\n",
        "9\tPT08.S5(O3)\t-0.00259\t0.00023\t-11.19914\t 8.82060e-29\t -1.06251\n",
        "10\tRH\t    -0.34088\t0.00264\t-129.11729\t0.0\t      -5.91508\n",
        "11\tAH\t    14.07621\t0.18313\t76.86338\t 0.0\t      5.65553\n",
        "```\n",
        "\n",
        "\n",
        "\n",
        "**Here we can take a look at the z_value. The sheet below show the relation between z_value and the significance. In GLM model ,except NO2(GT), PT08.S3(NOx),PT08.S1(CO) are less than abs(1.96) .Other variable is significant to the response.**\n",
        "```\n",
        "Z_score\tpercent\tConfidence level\n",
        "< -1.65 or > +1.65\t< 0.10\t90%\n",
        "< -1.96 or > +1.96\t< 0.05\t95%\n",
        "< -2.58 or > +2.58\t< 0.01\t99%\n",
        "```\n",
        "\n",
        "\n",
        "\n",
        "\n",
        "\n",
        "\n",
        "\n",
        "\n",
        "\n",
        "\n"
      ]
    },
    {
      "cell_type": "markdown",
      "metadata": {
        "id": "plbkFzYGDB6o"
      },
      "source": [
        "# 2.Are any model assumptions violated?\n",
        "**Yes. Beacuse we’ve built and show 2 models. The one other than GLM is XGBoost which is not a linear model. In this model you can see that the importance are all almost 0 except AH and RH. It shows that AH , RH and other predictors are multicollinearity.** "
      ]
    },
    {
      "cell_type": "markdown",
      "metadata": {
        "id": "yNagVMdDDxuE"
      },
      "source": [
        "# 3.Is there any multicollinearity in the model?\n",
        "**Yes.there shows multicollinearity between AH , RH and other variable  . You\n",
        " can see it at pic1**"
      ]
    },
    {
      "cell_type": "markdown",
      "metadata": {
        "id": "suo0CF69D1A9"
      },
      "source": [
        "\n",
        "# 4.In the multivariate models are predictor variables independent of all the other predictor variables?\n",
        "**NO.As the question above I’ve mentioned. There is  multicollinearity exist in the model**"
      ]
    },
    {
      "cell_type": "markdown",
      "metadata": {
        "id": "x28GMtSjD6ro"
      },
      "source": [
        "\n",
        "# 5.In  multivariate models rank the most significant predictor variables and exclude insignificant ones from the model.\n",
        "**This answer also shows at the pic1 and pic2,using varimp_plot() to achieve this goal**"
      ]
    },
    {
      "cell_type": "markdown",
      "metadata": {
        "id": "nF2FTEYTD-9B"
      },
      "source": [
        "\n",
        "# 6.Does the model make sense?\n",
        "**I believe that various contaminations cause changes in relative humidity. Pollution is caused by the movement of air molecules and humidity is caused by water molecules, so they interfere with each other. That is, changes in humidity can infer changes in contamination and vice versa. So one of them contains the other. It's humidity. Of course, humidity affects temperature. Here's how I see the relationship between these factors. Of course, these two models proved my point. It makes sense.**"
      ]
    },
    {
      "cell_type": "markdown",
      "metadata": {
        "id": "HB7G-q0vED0n"
      },
      "source": [
        "# 7.Does regularization help?\n",
        "**The goal when choosing a value for lambda is to strike the right balance between simplification of the training data and fitting:**\n",
        "**If the lambda value is too high, the model will be simple, but there is a risk that the data will not fit. The model cannot get enough information from the training data to make useful predictions**\n",
        "**A too low lambda value complicates the model and risks overfitting the data. The model cannot generalize to new data because there is too much information about the features in the training data. Setting the lambda to 0 denormalizes it completely. In this case, the sole purpose of training is to minimize loss, which maximizes the risk of overfitting. Here, we first try without regularization.**\n",
        "\n",
        "```\n",
        "ModelMetricsRegressionGLM: glm\n",
        "** Reported on train data. **\n",
        "\n",
        "MSE: 5.381398766303806\n",
        "RMSE: 2.319784206839896\n",
        "MAE: 1.7330995846829758\n",
        "RMSLE: NaN\n",
        "Mean Residual Deviance: 5.381398766303806\n",
        "R^2: 0.9305479817767031\n",
        "Null degrees of freedom: 5229\n",
        "Residual degrees of freedom: 5218\n",
        "Null deviance: 405239.7074665335\n",
        "Residual deviance: 28144.715547768905\n",
        "AIC: 23669.916844757732\n",
        "ModelMetricsRegressionGLM: glm\n",
        "** Reported on validation data. **\n",
        "\n",
        "MSE: 5.609249919994379\n",
        "RMSE: 2.368385509159009\n",
        "MAE: 1.7658793108424014\n",
        "RMSLE: NaN\n",
        "Mean Residual Deviance: 5.609249919994379\n",
        "R^2: 0.9302933699941162\n",
        "Null degrees of freedom: 1710\n",
        "Residual degrees of freedom: 1699\n",
        "Null deviance: 137696.5594821324\n",
        "Residual deviance: 9597.426613110381\n",
        "AIC: 7832.085158738636\n",
        "\n",
        "```\n",
        "\n",
        "\n",
        " \n",
        "**As we can see, the MSE of training set and test set are low.and are nearly same , so we can easily eliminate that the model is overfitting. Beasuse if it is. the test set accuracy will be much worse than test set..then we add a lambda to apply regularization to see what wil happen**\n",
        "\n",
        "\n",
        "\n",
        "```\n",
        "air_glm = H2OGeneralizedLinearEstimator(   lambda_= 1,\n",
        "                        remove_collinear_columns = True,\n",
        "                          )\n",
        "air_glm.train(x = X, y = y, training_frame = s12_train, validation_frame = s12_test)\n",
        "```\n",
        "\n",
        "\n",
        "\n",
        "** Reported on train data. **\n",
        "\n",
        "```\n",
        "ModelMetricsRegressionGLM: glm\n",
        "** Reported on train data. **\n",
        "\n",
        "MSE: 5.601209046729513\n",
        "RMSE: 2.3666873571998295\n",
        "MAE: 1.7637743592905442\n",
        "RMSLE: NaN\n",
        "Mean Residual Deviance: 5.601209046729513\n",
        "R^2: 0.9277111231336703\n",
        "Null degrees of freedom: 5229\n",
        "Residual degrees of freedom: 5222\n",
        "Null deviance: 405239.7074665335\n",
        "Residual deviance: 29294.32331439535\n",
        "AIC: 23871.29540491542\n",
        "ModelMetricsRegressionGLM: glm\n",
        "** Reported on validation data. **\n",
        "\n",
        "MSE: 5.800952914347432\n",
        "RMSE: 2.4085167457062515\n",
        "MAE: 1.7795354059075164\n",
        "RMSLE: NaN\n",
        "Mean Residual Deviance: 5.800952914347432\n",
        "R^2: 0.9279110604359779\n",
        "Null degrees of freedom: 1710\n",
        "Residual degrees of freedom: 1703\n",
        "Null deviance: 137696.5594821324\n",
        "Residual deviance: 9925.430436448456\n",
        "AIC: 7881.58364420098\n",
        "```\n",
        "\n",
        "\n",
        "**In this case, the MSE of both the training and test sets increases. Therefore the model will be inaccurate. Meanwhile, the two are still good friends. This also proves that the model is not overfitted. Lambda (regularization) helps reduce the risk of overfitting. Simplify the model. Obviously, it's of little help in this case. We can conclude that regularization is useless for GLM models. **"
      ]
    },
    {
      "cell_type": "markdown",
      "metadata": {
        "id": "MXXqbLOHE1j4"
      },
      "source": [
        "\n",
        "# 8.Which independent variables are significant?\n",
        "**Obviously, AH and RH are the most significant variable.and the other variable’s importance are shown both on the Question1 and pic1,2**"
      ]
    },
    {
      "cell_type": "markdown",
      "metadata": {
        "id": "51lH9eaQE7KT"
      },
      "source": [
        "# 9.Which hyperparameters are important?\n",
        "**Here are the hyperparameters in GBM Modeling(XGBoost is a king of Gradient Boosted models):**\n",
        "```\n",
        "ntrees: Number of trees. Defaults to 50.\n",
        "max_depth: Maximum tree depth. Defaults to 5.\n",
        "min_rows: Fewest allowed (weighted) observations in a leaf. Defaults to 10.\n",
        "learn_rate: Learning rate (from 0.0 to 1.0) Defaults to 0.1.\n",
        "learn_rate_annealing: Scale the learning rate by this factor after each tree\n",
        "```\n",
        "\n",
        "\n",
        "\n",
        "\n",
        "```\n",
        "\n",
        "Hyper-Parameter Search Summary: ordered by increasing residual_deviance\n",
        "col_sample_rate\tlearn_rate\tmax_depth\tsample_rate\tmodel_ids\tresidual_deviance\n",
        "1.0\t0.1\t9.0\t0.8\tgbm_grid1_model_18\t0.0477888\n",
        "1.0\t0.1\t9.0\t1.0\tgbm_grid1_model_36\t0.0552215\n",
        "1.0\t0.1\t5.0\t0.8\tgbm_grid1_model_12\t0.0991365\n",
        "1.0\t0.1\t5.0\t1.0\tgbm_grid1_model_30\t0.1036601\n",
        "1.0\t0.1\t3.0\t1.0\tgbm_grid1_model_24\t0.2917608\n",
        "1.0\t0.1\t3.0\t0.8\tgbm_grid1_model_6\t0.3058264\n",
        "0.5\t0.1\t9.0\t0.8\tgbm_grid1_model_17\t0.3778339\n",
        "0.5\t0.1\t9.0\t1.0\tgbm_grid1_model_35\t0.3922024\n",
        "0.5\t0.1\t5.0\t1.0\tgbm_grid1_model_29\t0.4164274\n",
        "0.5\t0.1\t5.0\t0.8\tgbm_grid1_model_11\t0.4405302\n",
        "```\n",
        "\n",
        "**As we can see when we adjust hyperparameters to learn_rate=0.1, max_depth=9.0, sample_rate=0.8. The model building wil;; have the best performance**"
      ]
    },
    {
      "cell_type": "markdown",
      "metadata": {
        "id": "rwanLKPIJkRv"
      },
      "source": [
        "Copyright (c) [2022] [Ping Chen]\n",
        "\n",
        "Permission is hereby granted, free of charge, to any person obtaining a copy\n",
        "of this software and associated documentation files (the \"Software\"), to deal\n",
        "in the Software without restriction, including without limitation the rights\n",
        "to use, copy, modify, merge, publish, distribute, sublicense, and/or sell\n",
        "copies of the Software, and to permit persons to whom the Software is\n",
        "furnished to do so, subject to the following conditions:\n",
        "\n",
        "The above copyright notice and this permission notice shall be included in all\n",
        "copies or substantial portions of the Software.\n",
        "\n",
        "THE SOFTWARE IS PROVIDED \"AS IS\", WITHOUT WARRANTY OF ANY KIND, EXPRESS OR\n",
        "IMPLIED, INCLUDING BUT NOT LIMITED TO THE WARRANTIES OF MERCHANTABILITY,\n",
        "FITNESS FOR A PARTICULAR PURPOSE AND NONINFRINGEMENT. IN NO EVENT SHALL THE\n",
        "AUTHORS OR COPYRIGHT HOLDERS BE LIABLE FOR ANY CLAIM, DAMAGES OR OTHER\n",
        "LIABILITY, WHETHER IN AN ACTION OF CONTRACT, TORT OR OTHERWISE, ARISING FROM,\n",
        "OUT OF OR IN CONNECTION WITH THE SOFTWARE OR THE USE OR OTHER DEALINGS IN THE\n",
        "SOFTWARE."
      ]
    }
  ],
  "metadata": {
    "colab": {
      "collapsed_sections": [
        "FiAEe_DbAwWb",
        "plbkFzYGDB6o",
        "yNagVMdDDxuE",
        "suo0CF69D1A9",
        "x28GMtSjD6ro",
        "nF2FTEYTD-9B",
        "HB7G-q0vED0n",
        "MXXqbLOHE1j4"
      ],
      "provenance": []
    },
    "kernelspec": {
      "display_name": "Python 3.9.13 64-bit (microsoft store)",
      "language": "python",
      "name": "python3"
    },
    "language_info": {
      "name": "python",
      "version": "3.9.13"
    },
    "vscode": {
      "interpreter": {
        "hash": "e5898b7c53033589bac77b13f4b98caaaeac352a3eaa714c9a5d3c62b6a6e2d2"
      }
    }
  },
  "nbformat": 4,
  "nbformat_minor": 0
}
