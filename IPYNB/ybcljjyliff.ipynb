{
  "nbformat": 4,
  "nbformat_minor": 0,
  "metadata": {
    "colab": {
      "provenance": [],
      "collapsed_sections": []
    },
    "kernelspec": {
      "name": "python3",
      "display_name": "Python 3"
    },
    "language_info": {
      "name": "python"
    }
  },
  "cells": [
    {
      "cell_type": "markdown",
      "source": [
        "## **Abstract** \n",
        "\n",
        "Since real predictive maintenance datasets are generally difficult to obtain and in particular difficult to publish, we present and provide a synthetic dataset that reflects real predictive maintenance encountered in industry to the best of our knowledge.\n",
        "\n",
        "In this notebook we perform classification on whether a machine would be failed or not based on some factors and patterns.\n",
        "\n",
        "\n",
        "Acknowledgement : https://archive.ics.uci.edu/ml/datasets/AI4I+2020+Predictive+Maintenance+Dataset"
      ],
      "metadata": {
        "id": "DI_PQJUFDwP7"
      }
    },
    {
      "cell_type": "markdown",
      "source": [
        "Dataset has `10000` entries and `8` feature with `6` nominal and `2` categorical features with `3.39` Target `Failure` observations.\n",
        "\n",
        " Numerical features : `Air temperature [K]` `Process temperature [K]` `Rotational speed [rpm]` `Torque [Nm]` `Tool wear [min]` `Target`\n",
        " \n",
        " Categorical features: `Type` `Failure Type`"
      ],
      "metadata": {
        "id": "hCDOOFFIE8FJ"
      }
    },
    {
      "cell_type": "code",
      "execution_count": 20,
      "metadata": {
        "colab": {
          "base_uri": "https://localhost:8080/"
        },
        "id": "SXNXcWr-hPlq",
        "outputId": "025ac076-9e3d-4f31-b86b-507c1dbc1f9a"
      },
      "outputs": [
        {
          "output_type": "stream",
          "name": "stdout",
          "text": [
            "NVIDIA-SMI has failed because it couldn't communicate with the NVIDIA driver. Make sure that the latest NVIDIA driver is installed and running.\n",
            "\n"
          ]
        }
      ],
      "source": [
        "#this command might be relevant ony on GPU nodes. But the notebook will run on CPU as well\n",
        "#If running on CPU remove the command wherever it appears\n",
        "!nvidia-smi"
      ]
    },
    {
      "cell_type": "code",
      "source": [
        "!apt-get install default-jre\n",
        "!java -version"
      ],
      "metadata": {
        "colab": {
          "base_uri": "https://localhost:8080/"
        },
        "id": "UmyE6c36haY8",
        "outputId": "1636818b-8ea9-412b-f678-41b42fd52184"
      },
      "execution_count": 21,
      "outputs": [
        {
          "output_type": "stream",
          "name": "stdout",
          "text": [
            "Reading package lists... Done\n",
            "Building dependency tree       \n",
            "Reading state information... Done\n",
            "default-jre is already the newest version (2:1.11-68ubuntu1~18.04.1).\n",
            "The following package was automatically installed and is no longer required:\n",
            "  libnvidia-common-460\n",
            "Use 'apt autoremove' to remove it.\n",
            "0 upgraded, 0 newly installed, 0 to remove and 4 not upgraded.\n",
            "openjdk version \"11.0.16\" 2022-07-19\n",
            "OpenJDK Runtime Environment (build 11.0.16+8-post-Ubuntu-0ubuntu118.04)\n",
            "OpenJDK 64-Bit Server VM (build 11.0.16+8-post-Ubuntu-0ubuntu118.04, mixed mode, sharing)\n"
          ]
        }
      ]
    },
    {
      "cell_type": "code",
      "source": [
        "!pip install h2o"
      ],
      "metadata": {
        "colab": {
          "base_uri": "https://localhost:8080/"
        },
        "id": "E0qgSIw-oi9M",
        "outputId": "fab935b1-cd36-457f-e0b0-79a0f9e5549b"
      },
      "execution_count": 22,
      "outputs": [
        {
          "output_type": "stream",
          "name": "stdout",
          "text": [
            "Looking in indexes: https://pypi.org/simple, https://us-python.pkg.dev/colab-wheels/public/simple/\n",
            "Requirement already satisfied: h2o in /usr/local/lib/python3.7/dist-packages (3.38.0.2)\n",
            "Requirement already satisfied: requests in /usr/local/lib/python3.7/dist-packages (from h2o) (2.23.0)\n",
            "Requirement already satisfied: tabulate in /usr/local/lib/python3.7/dist-packages (from h2o) (0.8.10)\n",
            "Requirement already satisfied: future in /usr/local/lib/python3.7/dist-packages (from h2o) (0.16.0)\n",
            "Requirement already satisfied: urllib3!=1.25.0,!=1.25.1,<1.26,>=1.21.1 in /usr/local/lib/python3.7/dist-packages (from requests->h2o) (1.24.3)\n",
            "Requirement already satisfied: chardet<4,>=3.0.2 in /usr/local/lib/python3.7/dist-packages (from requests->h2o) (3.0.4)\n",
            "Requirement already satisfied: idna<3,>=2.5 in /usr/local/lib/python3.7/dist-packages (from requests->h2o) (2.10)\n",
            "Requirement already satisfied: certifi>=2017.4.17 in /usr/local/lib/python3.7/dist-packages (from requests->h2o) (2022.9.24)\n"
          ]
        }
      ]
    },
    {
      "cell_type": "code",
      "source": [
        "import h2o\n",
        "import pandas as pd\n",
        "import matplotlib.pyplot as plt\n",
        "import seaborn as sns"
      ],
      "metadata": {
        "id": "CLYB53e4L8Nn"
      },
      "execution_count": 23,
      "outputs": []
    },
    {
      "cell_type": "markdown",
      "source": [
        "Importing H2O AutoML "
      ],
      "metadata": {
        "id": "ObO9tkCKstJ3"
      }
    },
    {
      "cell_type": "code",
      "source": [
        "h2o.init()"
      ],
      "metadata": {
        "colab": {
          "base_uri": "https://localhost:8080/",
          "height": 385
        },
        "id": "BzKmJhbBtqcm",
        "outputId": "ff03a584-fea4-4495-bb0f-458923320e72"
      },
      "execution_count": 24,
      "outputs": [
        {
          "output_type": "stream",
          "name": "stdout",
          "text": [
            "Checking whether there is an H2O instance running at http://localhost:54321 . connected.\n"
          ]
        },
        {
          "output_type": "display_data",
          "data": {
            "text/plain": [
              "--------------------------  ----------------------------------\n",
              "H2O_cluster_uptime:         2 mins 17 secs\n",
              "H2O_cluster_timezone:       Etc/UTC\n",
              "H2O_data_parsing_timezone:  UTC\n",
              "H2O_cluster_version:        3.38.0.2\n",
              "H2O_cluster_version_age:    11 days\n",
              "H2O_cluster_name:           H2O_from_python_unknownUser_wi5st6\n",
              "H2O_cluster_total_nodes:    1\n",
              "H2O_cluster_free_memory:    3.171 Gb\n",
              "H2O_cluster_total_cores:    2\n",
              "H2O_cluster_allowed_cores:  2\n",
              "H2O_cluster_status:         locked, healthy\n",
              "H2O_connection_url:         http://localhost:54321\n",
              "H2O_connection_proxy:       {\"http\": null, \"https\": null}\n",
              "H2O_internal_security:      False\n",
              "Python_version:             3.7.15 final\n",
              "--------------------------  ----------------------------------"
            ],
            "text/html": [
              "\n",
              "<style>\n",
              "\n",
              "#h2o-table-2.h2o-container {\n",
              "  overflow-x: auto;\n",
              "}\n",
              "#h2o-table-2 .h2o-table {\n",
              "  /* width: 100%; */\n",
              "  margin-top: 1em;\n",
              "  margin-bottom: 1em;\n",
              "}\n",
              "#h2o-table-2 .h2o-table caption {\n",
              "  white-space: nowrap;\n",
              "  caption-side: top;\n",
              "  text-align: left;\n",
              "  /* margin-left: 1em; */\n",
              "  margin: 0;\n",
              "  font-size: larger;\n",
              "}\n",
              "#h2o-table-2 .h2o-table thead {\n",
              "  white-space: nowrap; \n",
              "  position: sticky;\n",
              "  top: 0;\n",
              "  box-shadow: 0 -1px inset;\n",
              "}\n",
              "#h2o-table-2 .h2o-table tbody {\n",
              "  overflow: auto;\n",
              "}\n",
              "#h2o-table-2 .h2o-table th,\n",
              "#h2o-table-2 .h2o-table td {\n",
              "  text-align: right;\n",
              "  /* border: 1px solid; */\n",
              "}\n",
              "#h2o-table-2 .h2o-table tr:nth-child(even) {\n",
              "  /* background: #F5F5F5 */\n",
              "}\n",
              "\n",
              "</style>      \n",
              "<div id=\"h2o-table-2\" class=\"h2o-container\">\n",
              "  <table class=\"h2o-table\">\n",
              "    <caption></caption>\n",
              "    <thead></thead>\n",
              "    <tbody><tr><td>H2O_cluster_uptime:</td>\n",
              "<td>2 mins 17 secs</td></tr>\n",
              "<tr><td>H2O_cluster_timezone:</td>\n",
              "<td>Etc/UTC</td></tr>\n",
              "<tr><td>H2O_data_parsing_timezone:</td>\n",
              "<td>UTC</td></tr>\n",
              "<tr><td>H2O_cluster_version:</td>\n",
              "<td>3.38.0.2</td></tr>\n",
              "<tr><td>H2O_cluster_version_age:</td>\n",
              "<td>11 days </td></tr>\n",
              "<tr><td>H2O_cluster_name:</td>\n",
              "<td>H2O_from_python_unknownUser_wi5st6</td></tr>\n",
              "<tr><td>H2O_cluster_total_nodes:</td>\n",
              "<td>1</td></tr>\n",
              "<tr><td>H2O_cluster_free_memory:</td>\n",
              "<td>3.171 Gb</td></tr>\n",
              "<tr><td>H2O_cluster_total_cores:</td>\n",
              "<td>2</td></tr>\n",
              "<tr><td>H2O_cluster_allowed_cores:</td>\n",
              "<td>2</td></tr>\n",
              "<tr><td>H2O_cluster_status:</td>\n",
              "<td>locked, healthy</td></tr>\n",
              "<tr><td>H2O_connection_url:</td>\n",
              "<td>http://localhost:54321</td></tr>\n",
              "<tr><td>H2O_connection_proxy:</td>\n",
              "<td>{\"http\": null, \"https\": null}</td></tr>\n",
              "<tr><td>H2O_internal_security:</td>\n",
              "<td>False</td></tr>\n",
              "<tr><td>Python_version:</td>\n",
              "<td>3.7.15 final</td></tr></tbody>\n",
              "  </table>\n",
              "</div>\n"
            ]
          },
          "metadata": {}
        }
      ]
    },
    {
      "cell_type": "code",
      "source": [
        "from h2o.automl import H2OAutoML"
      ],
      "metadata": {
        "id": "EF_E4OCpr9Ta"
      },
      "execution_count": 25,
      "outputs": []
    },
    {
      "cell_type": "code",
      "source": [
        "df = h2o.import_file('https://raw.githubusercontent.com/Venkata-Bhargavi/AutoML/main/predictive_maintenance%205.csv')"
      ],
      "metadata": {
        "colab": {
          "base_uri": "https://localhost:8080/"
        },
        "id": "EYBVG9VZr-Ci",
        "outputId": "44a2a25b-9ce8-4c60-deed-a73e7b0058e8"
      },
      "execution_count": 26,
      "outputs": [
        {
          "output_type": "stream",
          "name": "stdout",
          "text": [
            "Parse progress: |████████████████████████████████████████████████████████████████| (done) 100%\n"
          ]
        }
      ]
    },
    {
      "cell_type": "markdown",
      "source": [
        "Dataset is placed in github and importing it as a raw file"
      ],
      "metadata": {
        "id": "C6VUYsZltVm7"
      }
    },
    {
      "cell_type": "markdown",
      "source": [
        "## Data Description\n",
        "\n",
        "`UID`: unique identifier ranging from 1 to 10000\n",
        "\n",
        "`productID`: consisting of a letter L, M, or H for low (50% of all products), medium (30%), and high (20%) as product quality variants and a variant-specific serial number\n",
        "\n",
        "`Air temperature [K]`: generated using a random walk process later normalized to a standard deviation of 2 K around 300 K\n",
        "`Process temperature [K]: generated using a random walk process normalized to a standard deviation of 1 K, added to the air temperature plus 10 K.\n",
        "\n",
        "`Rotational speed [rpm]`: calculated from powepower of 2860 W, overlaid with a normally distributed noise\n",
        "\n",
        "`Torque [Nm]`: torque values are normally distributed around 40 Nm with an Ïƒ = 10 Nm and no negative values.\n",
        "\n",
        "`Tool wear [min]`: The quality variants H/M/L add 5/3/2 minutes of tool wear to the used tool in the process. and a\n",
        "'machine failure' label that indicates, whether the machine has failed in this particular data point for any of the following failure modes are true.\n",
        "Important : There are two Targets - Do not make the mistake of using one of them as feature, as it will lead to leakage.\n",
        "\n",
        "`Target` : Failure or Not\n",
        "\n",
        "`Failure Type` : Type of Failure\n",
        "\n",
        "Acknowledgements\n",
        "\n",
        "UCI : https://archive.ics.uci.edu/ml/datasets/AI4I+2020+Predictive+Maintenance+Dataset"
      ],
      "metadata": {
        "id": "P9KPzaokD8mQ"
      }
    },
    {
      "cell_type": "code",
      "source": [
        "df.types # checking the data types of all the features"
      ],
      "metadata": {
        "colab": {
          "base_uri": "https://localhost:8080/"
        },
        "id": "TYrvtVRitaZU",
        "outputId": "5c1306e7-7d0a-40f9-e1c8-7866a7bf87eb"
      },
      "execution_count": 27,
      "outputs": [
        {
          "output_type": "execute_result",
          "data": {
            "text/plain": [
              "{'\\ufeffUDI': 'int',\n",
              " 'Product ID': 'string',\n",
              " 'Type': 'enum',\n",
              " 'Air temperature [K]': 'real',\n",
              " 'Process temperature [K]': 'real',\n",
              " 'Rotational speed [rpm]': 'int',\n",
              " 'Torque [Nm]': 'real',\n",
              " 'Tool wear [min]': 'int',\n",
              " 'Target': 'int',\n",
              " 'Failure Type': 'enum'}"
            ]
          },
          "metadata": {},
          "execution_count": 27
        }
      ]
    },
    {
      "cell_type": "markdown",
      "source": [
        "Here, in this data Target is a categorical feature but represented as integer and should be converted to categorical feature."
      ],
      "metadata": {
        "id": "new3j97wtlbg"
      }
    },
    {
      "cell_type": "code",
      "source": [
        "df.describe()"
      ],
      "metadata": {
        "colab": {
          "base_uri": "https://localhost:8080/",
          "height": 689
        },
        "id": "do82F2i4umv4",
        "outputId": "c3d69bbc-a44e-4f06-ae25-47b440390b2c"
      },
      "execution_count": 28,
      "outputs": [
        {
          "output_type": "display_data",
          "data": {
            "text/plain": [
              "Rows:10000\n",
              "Cols:10\n"
            ],
            "text/html": [
              "<pre style='margin: 1em 0 1em 0;'>Rows:10000\n",
              "Cols:10\n",
              "</pre>"
            ]
          },
          "metadata": {}
        },
        {
          "output_type": "display_data",
          "data": {
            "text/plain": [
              "         ﻿UDI                Product ID    Type    Air temperature [K]    Process temperature [K]    Rotational speed [rpm]    Torque [Nm]        Tool wear [min]     Target                Failure Type\n",
              "-------  ------------------  ------------  ------  ---------------------  -------------------------  ------------------------  -----------------  ------------------  --------------------  --------------\n",
              "type     int                 string        enum    real                   real                       int                       real               int                 int                   enum\n",
              "mins     1.0                 NaN                   295.3                  305.7                      1168.0                    3.8                0.0                 0.0\n",
              "mean     5000.5              NaN                   300.00493              310.00556                  1538.7761000000003        39.98690999999997  107.95100000000005  0.033900000000000007\n",
              "maxs     10000.0             NaN                   304.5                  313.8                      2886.0                    76.6               253.0               1.0\n",
              "sigma    2886.8956799071675  NaN                   2.0002586829158036     1.4837342191657434         179.2840959134266         9.968933725121339  63.654146636636355  0.18098084265065364\n",
              "zeros    0                   0                     0                      0                          0                         0                  120                 9661\n",
              "missing  0                   0             0       0                      0                          0                         0                  0                   0                     0\n",
              "0        1.0                 M14860        M       298.1                  308.6                      1551.0                    42.8               0.0                 0.0                   No Failure\n",
              "1        2.0                 L47181        L       298.2                  308.7                      1408.0                    46.3               3.0                 0.0                   No Failure\n",
              "2        3.0                 L47182        L       298.1                  308.5                      1498.0                    49.4               5.0                 0.0                   No Failure\n",
              "3        4.0                 L47183        L       298.2                  308.6                      1433.0                    39.5               7.0                 0.0                   No Failure\n",
              "4        5.0                 L47184        L       298.2                  308.7                      1408.0                    40.0               9.0                 0.0                   No Failure\n",
              "5        6.0                 M14865        M       298.1                  308.6                      1425.0                    41.9               11.0                0.0                   No Failure\n",
              "6        7.0                 L47186        L       298.1                  308.6                      1558.0                    42.4               14.0                0.0                   No Failure\n",
              "7        8.0                 L47187        L       298.1                  308.6                      1527.0                    40.2               16.0                0.0                   No Failure\n",
              "8        9.0                 M14868        M       298.3                  308.7                      1667.0                    28.6               18.0                0.0                   No Failure\n",
              "9        10.0                M14869        M       298.5                  309.0                      1741.0                    28.0               21.0                0.0                   No Failure\n",
              "[10000 rows x 10 columns]\n"
            ],
            "text/html": [
              "<table class='dataframe'>\n",
              "<thead>\n",
              "<tr><th>       </th><th>﻿UDI              </th><th>Product ID  </th><th>Type  </th><th>Air temperature [K]  </th><th>Process temperature [K]  </th><th>Rotational speed [rpm]  </th><th>Torque [Nm]      </th><th>Tool wear [min]   </th><th>Target              </th><th>Failure Type  </th></tr>\n",
              "</thead>\n",
              "<tbody>\n",
              "<tr><td>type   </td><td>int               </td><td>string      </td><td>enum  </td><td>real                 </td><td>real                     </td><td>int                     </td><td>real             </td><td>int               </td><td>int                 </td><td>enum          </td></tr>\n",
              "<tr><td>mins   </td><td>1.0               </td><td>NaN         </td><td>      </td><td>295.3                </td><td>305.7                    </td><td>1168.0                  </td><td>3.8              </td><td>0.0               </td><td>0.0                 </td><td>              </td></tr>\n",
              "<tr><td>mean   </td><td>5000.5            </td><td>NaN         </td><td>      </td><td>300.00493            </td><td>310.00556                </td><td>1538.7761000000003      </td><td>39.98690999999997</td><td>107.95100000000005</td><td>0.033900000000000007</td><td>              </td></tr>\n",
              "<tr><td>maxs   </td><td>10000.0           </td><td>NaN         </td><td>      </td><td>304.5                </td><td>313.8                    </td><td>2886.0                  </td><td>76.6             </td><td>253.0             </td><td>1.0                 </td><td>              </td></tr>\n",
              "<tr><td>sigma  </td><td>2886.8956799071675</td><td>NaN         </td><td>      </td><td>2.0002586829158036   </td><td>1.4837342191657434       </td><td>179.2840959134266       </td><td>9.968933725121339</td><td>63.654146636636355</td><td>0.18098084265065364 </td><td>              </td></tr>\n",
              "<tr><td>zeros  </td><td>0                 </td><td>0           </td><td>      </td><td>0                    </td><td>0                        </td><td>0                       </td><td>0                </td><td>120               </td><td>9661                </td><td>              </td></tr>\n",
              "<tr><td>missing</td><td>0                 </td><td>0           </td><td>0     </td><td>0                    </td><td>0                        </td><td>0                       </td><td>0                </td><td>0                 </td><td>0                   </td><td>0             </td></tr>\n",
              "<tr><td>0      </td><td>1.0               </td><td>M14860      </td><td>M     </td><td>298.1                </td><td>308.6                    </td><td>1551.0                  </td><td>42.8             </td><td>0.0               </td><td>0.0                 </td><td>No Failure    </td></tr>\n",
              "<tr><td>1      </td><td>2.0               </td><td>L47181      </td><td>L     </td><td>298.2                </td><td>308.7                    </td><td>1408.0                  </td><td>46.3             </td><td>3.0               </td><td>0.0                 </td><td>No Failure    </td></tr>\n",
              "<tr><td>2      </td><td>3.0               </td><td>L47182      </td><td>L     </td><td>298.1                </td><td>308.5                    </td><td>1498.0                  </td><td>49.4             </td><td>5.0               </td><td>0.0                 </td><td>No Failure    </td></tr>\n",
              "<tr><td>3      </td><td>4.0               </td><td>L47183      </td><td>L     </td><td>298.2                </td><td>308.6                    </td><td>1433.0                  </td><td>39.5             </td><td>7.0               </td><td>0.0                 </td><td>No Failure    </td></tr>\n",
              "<tr><td>4      </td><td>5.0               </td><td>L47184      </td><td>L     </td><td>298.2                </td><td>308.7                    </td><td>1408.0                  </td><td>40.0             </td><td>9.0               </td><td>0.0                 </td><td>No Failure    </td></tr>\n",
              "<tr><td>5      </td><td>6.0               </td><td>M14865      </td><td>M     </td><td>298.1                </td><td>308.6                    </td><td>1425.0                  </td><td>41.9             </td><td>11.0              </td><td>0.0                 </td><td>No Failure    </td></tr>\n",
              "<tr><td>6      </td><td>7.0               </td><td>L47186      </td><td>L     </td><td>298.1                </td><td>308.6                    </td><td>1558.0                  </td><td>42.4             </td><td>14.0              </td><td>0.0                 </td><td>No Failure    </td></tr>\n",
              "<tr><td>7      </td><td>8.0               </td><td>L47187      </td><td>L     </td><td>298.1                </td><td>308.6                    </td><td>1527.0                  </td><td>40.2             </td><td>16.0              </td><td>0.0                 </td><td>No Failure    </td></tr>\n",
              "<tr><td>8      </td><td>9.0               </td><td>M14868      </td><td>M     </td><td>298.3                </td><td>308.7                    </td><td>1667.0                  </td><td>28.6             </td><td>18.0              </td><td>0.0                 </td><td>No Failure    </td></tr>\n",
              "<tr><td>9      </td><td>10.0              </td><td>M14869      </td><td>M     </td><td>298.5                </td><td>309.0                    </td><td>1741.0                  </td><td>28.0             </td><td>21.0              </td><td>0.0                 </td><td>No Failure    </td></tr>\n",
              "</tbody>\n",
              "</table><pre style='font-size: smaller; margin-bottom: 1em;'>[10000 rows x 10 columns]</pre>"
            ]
          },
          "metadata": {}
        }
      ]
    },
    {
      "cell_type": "markdown",
      "source": [
        "### Observations from above description\n",
        "\n",
        "* `Air Temperature` has a mean of 300K and 75% of data is distributed between 295.3K and 301.5K, seems like a good distribution and may not have outliers.\n",
        "* `Process temperature` has a mean of 310K and maximum data is distributed between 305.7K and 311.1K, looks good and may not have possible outliers.\n",
        "* `Rotational speed` has a mean 1538 and 75% of data is distribbuted between 1168 and 1612 but the maximum value is 2886 and it looks like investigation is needed to understand outliers and it will be discussed further in this notebook.\n",
        "* `Torque` has mean 39.9 , maximum value is 76.6, minimum value is 1168 and median is 40.1 which is slightly left skewed from mean.\n",
        "* `Tool wear` has mean 107.9 and a median(2nd quantile) of 108 which is almost a normal distribution.\n",
        "\n",
        "\n",
        "All the quantile information "
      ],
      "metadata": {
        "id": "LNlhcfDluGhF"
      }
    },
    {
      "cell_type": "code",
      "source": [
        "pdf = pd.read_csv(\"https://raw.githubusercontent.com/Venkata-Bhargavi/AutoML/main/predictive_maintenance%205.csv\")\n",
        "pdf.head()"
      ],
      "metadata": {
        "colab": {
          "base_uri": "https://localhost:8080/",
          "height": 206
        },
        "id": "psHnluEzMU3m",
        "outputId": "9e7d342d-0b7c-4bc1-9b5b-f88939e30353"
      },
      "execution_count": 29,
      "outputs": [
        {
          "output_type": "execute_result",
          "data": {
            "text/plain": [
              "   UDI Product ID Type  Air temperature [K]  Process temperature [K]  \\\n",
              "0    1     M14860    M                298.1                    308.6   \n",
              "1    2     L47181    L                298.2                    308.7   \n",
              "2    3     L47182    L                298.1                    308.5   \n",
              "3    4     L47183    L                298.2                    308.6   \n",
              "4    5     L47184    L                298.2                    308.7   \n",
              "\n",
              "   Rotational speed [rpm]  Torque [Nm]  Tool wear [min]  Target Failure Type  \n",
              "0                    1551         42.8                0       0   No Failure  \n",
              "1                    1408         46.3                3       0   No Failure  \n",
              "2                    1498         49.4                5       0   No Failure  \n",
              "3                    1433         39.5                7       0   No Failure  \n",
              "4                    1408         40.0                9       0   No Failure  "
            ],
            "text/html": [
              "\n",
              "  <div id=\"df-d154be25-7959-4426-b669-b1616d4bbde2\">\n",
              "    <div class=\"colab-df-container\">\n",
              "      <div>\n",
              "<style scoped>\n",
              "    .dataframe tbody tr th:only-of-type {\n",
              "        vertical-align: middle;\n",
              "    }\n",
              "\n",
              "    .dataframe tbody tr th {\n",
              "        vertical-align: top;\n",
              "    }\n",
              "\n",
              "    .dataframe thead th {\n",
              "        text-align: right;\n",
              "    }\n",
              "</style>\n",
              "<table border=\"1\" class=\"dataframe\">\n",
              "  <thead>\n",
              "    <tr style=\"text-align: right;\">\n",
              "      <th></th>\n",
              "      <th>UDI</th>\n",
              "      <th>Product ID</th>\n",
              "      <th>Type</th>\n",
              "      <th>Air temperature [K]</th>\n",
              "      <th>Process temperature [K]</th>\n",
              "      <th>Rotational speed [rpm]</th>\n",
              "      <th>Torque [Nm]</th>\n",
              "      <th>Tool wear [min]</th>\n",
              "      <th>Target</th>\n",
              "      <th>Failure Type</th>\n",
              "    </tr>\n",
              "  </thead>\n",
              "  <tbody>\n",
              "    <tr>\n",
              "      <th>0</th>\n",
              "      <td>1</td>\n",
              "      <td>M14860</td>\n",
              "      <td>M</td>\n",
              "      <td>298.1</td>\n",
              "      <td>308.6</td>\n",
              "      <td>1551</td>\n",
              "      <td>42.8</td>\n",
              "      <td>0</td>\n",
              "      <td>0</td>\n",
              "      <td>No Failure</td>\n",
              "    </tr>\n",
              "    <tr>\n",
              "      <th>1</th>\n",
              "      <td>2</td>\n",
              "      <td>L47181</td>\n",
              "      <td>L</td>\n",
              "      <td>298.2</td>\n",
              "      <td>308.7</td>\n",
              "      <td>1408</td>\n",
              "      <td>46.3</td>\n",
              "      <td>3</td>\n",
              "      <td>0</td>\n",
              "      <td>No Failure</td>\n",
              "    </tr>\n",
              "    <tr>\n",
              "      <th>2</th>\n",
              "      <td>3</td>\n",
              "      <td>L47182</td>\n",
              "      <td>L</td>\n",
              "      <td>298.1</td>\n",
              "      <td>308.5</td>\n",
              "      <td>1498</td>\n",
              "      <td>49.4</td>\n",
              "      <td>5</td>\n",
              "      <td>0</td>\n",
              "      <td>No Failure</td>\n",
              "    </tr>\n",
              "    <tr>\n",
              "      <th>3</th>\n",
              "      <td>4</td>\n",
              "      <td>L47183</td>\n",
              "      <td>L</td>\n",
              "      <td>298.2</td>\n",
              "      <td>308.6</td>\n",
              "      <td>1433</td>\n",
              "      <td>39.5</td>\n",
              "      <td>7</td>\n",
              "      <td>0</td>\n",
              "      <td>No Failure</td>\n",
              "    </tr>\n",
              "    <tr>\n",
              "      <th>4</th>\n",
              "      <td>5</td>\n",
              "      <td>L47184</td>\n",
              "      <td>L</td>\n",
              "      <td>298.2</td>\n",
              "      <td>308.7</td>\n",
              "      <td>1408</td>\n",
              "      <td>40.0</td>\n",
              "      <td>9</td>\n",
              "      <td>0</td>\n",
              "      <td>No Failure</td>\n",
              "    </tr>\n",
              "  </tbody>\n",
              "</table>\n",
              "</div>\n",
              "      <button class=\"colab-df-convert\" onclick=\"convertToInteractive('df-d154be25-7959-4426-b669-b1616d4bbde2')\"\n",
              "              title=\"Convert this dataframe to an interactive table.\"\n",
              "              style=\"display:none;\">\n",
              "        \n",
              "  <svg xmlns=\"http://www.w3.org/2000/svg\" height=\"24px\"viewBox=\"0 0 24 24\"\n",
              "       width=\"24px\">\n",
              "    <path d=\"M0 0h24v24H0V0z\" fill=\"none\"/>\n",
              "    <path d=\"M18.56 5.44l.94 2.06.94-2.06 2.06-.94-2.06-.94-.94-2.06-.94 2.06-2.06.94zm-11 1L8.5 8.5l.94-2.06 2.06-.94-2.06-.94L8.5 2.5l-.94 2.06-2.06.94zm10 10l.94 2.06.94-2.06 2.06-.94-2.06-.94-.94-2.06-.94 2.06-2.06.94z\"/><path d=\"M17.41 7.96l-1.37-1.37c-.4-.4-.92-.59-1.43-.59-.52 0-1.04.2-1.43.59L10.3 9.45l-7.72 7.72c-.78.78-.78 2.05 0 2.83L4 21.41c.39.39.9.59 1.41.59.51 0 1.02-.2 1.41-.59l7.78-7.78 2.81-2.81c.8-.78.8-2.07 0-2.86zM5.41 20L4 18.59l7.72-7.72 1.47 1.35L5.41 20z\"/>\n",
              "  </svg>\n",
              "      </button>\n",
              "      \n",
              "  <style>\n",
              "    .colab-df-container {\n",
              "      display:flex;\n",
              "      flex-wrap:wrap;\n",
              "      gap: 12px;\n",
              "    }\n",
              "\n",
              "    .colab-df-convert {\n",
              "      background-color: #E8F0FE;\n",
              "      border: none;\n",
              "      border-radius: 50%;\n",
              "      cursor: pointer;\n",
              "      display: none;\n",
              "      fill: #1967D2;\n",
              "      height: 32px;\n",
              "      padding: 0 0 0 0;\n",
              "      width: 32px;\n",
              "    }\n",
              "\n",
              "    .colab-df-convert:hover {\n",
              "      background-color: #E2EBFA;\n",
              "      box-shadow: 0px 1px 2px rgba(60, 64, 67, 0.3), 0px 1px 3px 1px rgba(60, 64, 67, 0.15);\n",
              "      fill: #174EA6;\n",
              "    }\n",
              "\n",
              "    [theme=dark] .colab-df-convert {\n",
              "      background-color: #3B4455;\n",
              "      fill: #D2E3FC;\n",
              "    }\n",
              "\n",
              "    [theme=dark] .colab-df-convert:hover {\n",
              "      background-color: #434B5C;\n",
              "      box-shadow: 0px 1px 3px 1px rgba(0, 0, 0, 0.15);\n",
              "      filter: drop-shadow(0px 1px 2px rgba(0, 0, 0, 0.3));\n",
              "      fill: #FFFFFF;\n",
              "    }\n",
              "  </style>\n",
              "\n",
              "      <script>\n",
              "        const buttonEl =\n",
              "          document.querySelector('#df-d154be25-7959-4426-b669-b1616d4bbde2 button.colab-df-convert');\n",
              "        buttonEl.style.display =\n",
              "          google.colab.kernel.accessAllowed ? 'block' : 'none';\n",
              "\n",
              "        async function convertToInteractive(key) {\n",
              "          const element = document.querySelector('#df-d154be25-7959-4426-b669-b1616d4bbde2');\n",
              "          const dataTable =\n",
              "            await google.colab.kernel.invokeFunction('convertToInteractive',\n",
              "                                                     [key], {});\n",
              "          if (!dataTable) return;\n",
              "\n",
              "          const docLinkHtml = 'Like what you see? Visit the ' +\n",
              "            '<a target=\"_blank\" href=https://colab.research.google.com/notebooks/data_table.ipynb>data table notebook</a>'\n",
              "            + ' to learn more about interactive tables.';\n",
              "          element.innerHTML = '';\n",
              "          dataTable['output_type'] = 'display_data';\n",
              "          await google.colab.output.renderOutput(dataTable, element);\n",
              "          const docLink = document.createElement('div');\n",
              "          docLink.innerHTML = docLinkHtml;\n",
              "          element.appendChild(docLink);\n",
              "        }\n",
              "      </script>\n",
              "    </div>\n",
              "  </div>\n",
              "  "
            ]
          },
          "metadata": {},
          "execution_count": 29
        }
      ]
    },
    {
      "cell_type": "code",
      "source": [
        "# For Data Visualization\n",
        "import numpy as np\n",
        "data_corr = pdf.corr()\n",
        "mask = np.triu(np.ones_like(pdf.corr(), dtype=bool))\n",
        "corr_ft = plt.figure(figsize= (19, 10))\n",
        "corr_ft = sns.heatmap(data_corr, mask=mask,vmin= -1, vmax = 1, annot=True, linewidths= 0.3, cmap= \"BrBG\")\n",
        "corr_ft.set_title(\"The Pearson Correlation between Features\",\n",
        "                   fontsize= 15,\n",
        "                   pad= 12)\n",
        "plt.show()"
      ],
      "metadata": {
        "colab": {
          "base_uri": "https://localhost:8080/",
          "height": 615
        },
        "id": "ooUcYhskMb3n",
        "outputId": "6f3b2b15-96eb-4c5c-886b-b229fffc17bd"
      },
      "execution_count": 30,
      "outputs": [
        {
          "output_type": "display_data",
          "data": {
            "text/plain": [
              "<Figure size 1368x720 with 2 Axes>"
            ],
            "image/png": "[encoded data removed]"
          },
          "metadata": {
            "needs_background": "light"
          }
        }
      ]
    },
    {
      "cell_type": "markdown",
      "source": [
        "### Observations\n",
        "- Above heapmap shows that `Air teamperature [k]` and `Process temperature [k]` are highly correlated.\n",
        "- `Torque` has high correlation comparing to other feature with Target\n",
        "- `Torque` and `Rotational speed [Nm]` are negatively correlated i.e if Rotational speed increases then Torque decreases and vice versa.\n",
        "- `Type` has slight correlation with `Rotational speed [Nm]` comparing to other features but it doesn't seem like multi colinearity as the value is very low.\n"
      ],
      "metadata": {
        "id": "1ysZcPkOPaqH"
      }
    },
    {
      "cell_type": "code",
      "source": [
        "df[\"Target\"] = df[\"Target\"].asfactor()"
      ],
      "metadata": {
        "id": "aF_CSCjzZhzQ"
      },
      "execution_count": 31,
      "outputs": []
    },
    {
      "cell_type": "markdown",
      "source": [
        "Converting `Target` column to enum as it is given integer but need to classify it"
      ],
      "metadata": {
        "id": "hmcU2myeuJ0r"
      }
    },
    {
      "cell_type": "code",
      "source": [
        "train,test,valid = df.split_frame(ratios=[.7, .15])"
      ],
      "metadata": {
        "id": "dFBlg6-rusPv"
      },
      "execution_count": null,
      "outputs": []
    },
    {
      "cell_type": "markdown",
      "source": [
        "Splitting train test and vailidation into 70:15:15 ratio."
      ],
      "metadata": {
        "id": "F2s8HDlq0OwA"
      }
    },
    {
      "cell_type": "markdown",
      "source": [
        "Here the Target variable is `Process temperature [K]` for regression"
      ],
      "metadata": {
        "id": "b-1iCVwZjG3b"
      }
    },
    {
      "cell_type": "code",
      "source": [
        "y = \"Process temperature [K]\"\n",
        "x = df.columns\n",
        "x.remove(y)\n",
        "x.remove(\"Product ID\")\n",
        "x.remove(\"Failure Type\")\n",
        "x.remove(\"\\ufeffUDI\")"
      ],
      "metadata": {
        "id": "1UgMm63pvOFH"
      },
      "execution_count": 37,
      "outputs": []
    },
    {
      "cell_type": "markdown",
      "source": [
        "- Here the target feature is `Process temperature [K]` for regression.\n",
        "- Removing `Product ID`, `Failure Type`, `UDI` as product Id and UDI are just unique identifiers and dont contribute for the analysis\n",
        "- Removing `Failure Type` as it has the failure type information which is similar to target feature and may lead to data leakage"
      ],
      "metadata": {
        "id": "uV3giXm-0YWE"
      }
    },
    {
      "cell_type": "code",
      "source": [
        "aml = H2OAutoML(max_models = 10, seed = 10, exclude_algos = [\"StackedEnsemble\", \"DeepLearning\"], verbosity=\"info\", nfolds=0)\n"
      ],
      "metadata": {
        "id": "la2SFHBI2Kpa"
      },
      "execution_count": 38,
      "outputs": []
    },
    {
      "cell_type": "markdown",
      "source": [
        "Excluding StackedEnsemble and DeepLearning as it is more complex at this moment and it is also an expensive process"
      ],
      "metadata": {
        "id": "kOqvzS281RXl"
      }
    },
    {
      "cell_type": "code",
      "source": [
        "# !nvidia-smi"
      ],
      "metadata": {
        "id": "BA1VG0937LN2"
      },
      "execution_count": 39,
      "outputs": []
    },
    {
      "cell_type": "code",
      "source": [
        "aml.train(x = x, y = y, training_frame = train, validation_frame=valid)"
      ],
      "metadata": {
        "colab": {
          "base_uri": "https://localhost:8080/",
          "height": 1000
        },
        "id": "_9lyaBbs7Nzt",
        "outputId": "8a4c9602-c8db-4c93-8353-9c1fa3acaab9"
      },
      "execution_count": 40,
      "outputs": [
        {
          "output_type": "stream",
          "name": "stdout",
          "text": [
            "AutoML progress: |\n",
            "04:17:11.927: Project: AutoML_1_20221108_41711\n",
            "04:17:11.928: Cross-validation disabled by user: no fold column nor nfolds > 1.\n",
            "04:17:11.929: Setting stopping tolerance adaptively based on the training frame: 0.011958266722236254\n",
            "04:17:11.929: Build control seed: 10\n",
            "04:17:11.929: training frame: Frame key: AutoML_1_20221108_41711_training_py_3_sid_b71e    cols: 10    rows: 6993  chunks: 8    size: 176478  checksum: 244454059079929206\n",
            "04:17:11.930: validation frame: Frame key: py_5_sid_b71e    cols: 10    rows: 1504  chunks: 8    size: 55340  checksum: -7065080099492645785\n",
            "04:17:11.930: leaderboard frame: Frame key: py_5_sid_b71e    cols: 10    rows: 1504  chunks: 8    size: 55340  checksum: -7065080099492645785\n",
            "04:17:11.930: blending frame: NULL\n",
            "04:17:11.930: response column: Process temperature [K]\n",
            "04:17:11.930: fold column: null\n",
            "04:17:11.931: weights column: null\n",
            "04:17:11.952: Loading execution steps: [{XGBoost : [def_2 (1g, 10w), def_1 (2g, 10w), def_3 (3g, 10w), grid_1 (4g, 90w), lr_search (7g, 30w)]}, {GLM : [def_1 (1g, 10w)]}, {DRF : [def_1 (2g, 10w), XRT (3g, 10w)]}, {GBM : [def_5 (1g, 10w), def_2 (2g, 10w), def_3 (2g, 10w), def_4 (2g, 10w), def_1 (3g, 10w), grid_1 (4g, 60w), lr_annealing (7g, 10w)]}, {DeepLearning : [def_1 (3g, 10w), grid_1 (4g, 30w), grid_2 (5g, 30w), grid_3 (5g, 30w)]}, {completion : [resume_best_grids (6g, 60w)]}, {StackedEnsemble : [monotonic (9g, 10w), best_of_family_xglm (10g, 10w), all_xglm (10g, 10w)]}]\n",
            "04:17:11.992: Disabling Algo: StackedEnsemble as requested by the user.\n",
            "04:17:11.993: Disabling Algo: DeepLearning as requested by the user.\n",
            "04:17:11.994: AutoML job created: 2022.11.08 04:17:11.889\n",
            "04:17:12.1: AutoML build started: 2022.11.08 04:17:11.995\n",
            "04:17:12.27: AutoML: starting XGBoost_1_AutoML_1_20221108_41711 model training\n",
            "\n",
            "█\n",
            "04:17:14.449: New leader: XGBoost_1_AutoML_1_20221108_41711, rmse: 0.6954826792162448\n",
            "04:17:14.458: AutoML: starting GLM_1_AutoML_1_20221108_41711 model training\n",
            "\n",
            "\n",
            "04:17:15.209: AutoML: starting GBM_1_AutoML_1_20221108_41711 model training\n",
            "\n",
            "███\n",
            "04:17:18.760: New leader: GBM_1_AutoML_1_20221108_41711, rmse: 0.6398959631073794\n",
            "04:17:18.761: AutoML: starting XGBoost_2_AutoML_1_20221108_41711 model training\n",
            "\n",
            "█\n",
            "04:17:20.172: AutoML: starting DRF_1_AutoML_1_20221108_41711 model training\n",
            "\n",
            "█████\n",
            "04:17:25.983: AutoML: starting GBM_2_AutoML_1_20221108_41711 model training\n",
            "\n",
            "█\n",
            "04:17:27.132: New leader: GBM_2_AutoML_1_20221108_41711, rmse: 0.6340929314502635\n",
            "04:17:27.133: AutoML: starting GBM_3_AutoML_1_20221108_41711 model training\n",
            "\n",
            "\n",
            "04:17:28.410: AutoML: starting GBM_4_AutoML_1_20221108_41711 model training\n",
            "\n",
            "█\n",
            "04:17:29.587: AutoML: starting XGBoost_3_AutoML_1_20221108_41711 model training\n",
            "04:17:30.177: AutoML: starting XRT_1_AutoML_1_20221108_41711 model training\n",
            "\n",
            "███████████████████████████████████████████████████| (done) 100%\n",
            "\n",
            "04:17:34.222: Skipping StackedEnsemble 'monotonic' due to the exclude_algos option or it is already trained.\n",
            "04:17:34.223: Skipping StackedEnsemble 'best_of_family_xglm' due to the exclude_algos option or it is already trained.\n",
            "04:17:34.224: Skipping StackedEnsemble 'all_xglm' due to the exclude_algos option or it is already trained.\n",
            "04:17:34.225: Actual modeling steps: [{XGBoost : [def_2 (1g, 10w)]}, {GLM : [def_1 (1g, 10w)]}, {GBM : [def_5 (1g, 10w)]}, {XGBoost : [def_1 (2g, 10w)]}, {DRF : [def_1 (2g, 10w)]}, {GBM : [def_2 (2g, 10w), def_3 (2g, 10w), def_4 (2g, 10w)]}, {XGBoost : [def_3 (3g, 10w)]}, {DRF : [XRT (3g, 10w)]}]\n",
            "04:17:34.225: AutoML build stopped: 2022.11.08 04:17:34.225\n",
            "04:17:34.225: AutoML build done: built 10 models\n",
            "04:17:34.225: AutoML duration: 22.230 sec\n",
            "\n"
          ]
        },
        {
          "output_type": "execute_result",
          "data": {
            "text/plain": [
              "Model Details\n",
              "=============\n",
              "H2OGradientBoostingEstimator : Gradient Boosting Machine\n",
              "Model Key: GBM_2_AutoML_1_20221108_41711\n",
              "\n",
              "\n",
              "Model Summary: \n",
              "    number_of_trees    number_of_internal_trees    model_size_in_bytes    min_depth    max_depth    mean_depth    min_leaves    max_leaves    mean_leaves\n",
              "--  -----------------  --------------------------  ---------------------  -----------  -----------  ------------  ------------  ------------  -------------\n",
              "    65                 65                          53021                  7            7            7             20            102           60.2308\n",
              "\n",
              "ModelMetricsRegression: gbm\n",
              "** Reported on train data. **\n",
              "\n",
              "MSE: 0.3188772162640419\n",
              "RMSE: 0.5646921429097822\n",
              "MAE: 0.4485160078116621\n",
              "RMSLE: 0.0018151055950888836\n",
              "Mean Residual Deviance: 0.3188772162640419\n",
              "\n",
              "ModelMetricsRegression: gbm\n",
              "** Reported on validation data. **\n",
              "\n",
              "MSE: 0.4020738457151885\n",
              "RMSE: 0.6340929314502635\n",
              "MAE: 0.5001965706748499\n",
              "RMSLE: 0.002037557509224149\n",
              "Mean Residual Deviance: 0.4020738457151885\n",
              "\n",
              "Scoring History: \n",
              "    timestamp            duration    number_of_trees    training_rmse    training_mae    training_deviance    validation_rmse    validation_mae    validation_deviance\n",
              "--  -------------------  ----------  -----------------  ---------------  --------------  -------------------  -----------------  ----------------  ---------------------\n",
              "    2022-11-08 04:17:25  0.003 sec   0                  1.47617          1.22595         2.17908              1.50081            1.2391            2.25244\n",
              "    2022-11-08 04:17:26  0.103 sec   5                  1.07535          0.901972        1.15637              1.09445            0.913007          1.19781\n",
              "    2022-11-08 04:17:26  0.184 sec   10                 0.844283         0.712202        0.712814             0.862579           0.722697          0.744043\n",
              "    2022-11-08 04:17:26  0.278 sec   15                 0.741254         0.623883        0.549458             0.763171           0.638186          0.58243\n",
              "    2022-11-08 04:17:26  0.367 sec   20                 0.693781         0.580906        0.481332             0.72177            0.600808          0.520952\n",
              "    2022-11-08 04:17:26  0.450 sec   25                 0.659319         0.548557        0.434702             0.694447           0.574463          0.482257\n",
              "    2022-11-08 04:17:26  0.542 sec   30                 0.621865         0.51062         0.386716             0.660619           0.538758          0.436417\n",
              "    2022-11-08 04:17:26  0.635 sec   35                 0.601793         0.488478        0.362155             0.643845           0.517787          0.414537\n",
              "    2022-11-08 04:17:26  0.716 sec   40                 0.590892         0.476121        0.349154             0.638161           0.508658          0.40725\n",
              "    2022-11-08 04:17:26  0.820 sec   45                 0.585171         0.469702        0.342425             0.637084           0.505635          0.405876\n",
              "    2022-11-08 04:17:26  0.895 sec   50                 0.580617         0.464976        0.337116             0.636288           0.504158          0.404863\n",
              "    2022-11-08 04:17:26  0.972 sec   55                 0.573171         0.456904        0.328525             0.634842           0.501337          0.403024\n",
              "    2022-11-08 04:17:27  1.048 sec   60                 0.569378         0.453024        0.324192             0.634098           0.500263          0.40208\n",
              "    2022-11-08 04:17:27  1.125 sec   65                 0.564692         0.448516        0.318877             0.634093           0.500197          0.402074\n",
              "\n",
              "Variable Importances: \n",
              "variable                relative_importance    scaled_importance    percentage\n",
              "----------------------  ---------------------  -------------------  ------------\n",
              "Air temperature [K]     59763.7                1                    0.949292\n",
              "Tool wear [min]         1030.35                0.0172405            0.0163663\n",
              "Torque [Nm]             935.235                0.0156489            0.0148554\n",
              "Rotational speed [rpm]  876.87                 0.0146723            0.0139283\n",
              "Type                    232.95                 0.00389785           0.0037002\n",
              "Target                  116.954                0.00195694           0.00185771\n",
              "\n",
              "[tips]\n",
              "Use `model.explain()` to inspect the model.\n",
              "--\n",
              "Use `h2o.display.toggle_user_tips()` to switch on/off this section."
            ],
            "text/html": [
              "<pre style='margin: 1em 0 1em 0;'>Model Details\n",
              "=============\n",
              "H2OGradientBoostingEstimator : Gradient Boosting Machine\n",
              "Model Key: GBM_2_AutoML_1_20221108_41711\n",
              "</pre>\n",
              "<div style='margin: 1em 0 1em 0;'>\n",
              "<style>\n",
              "\n",
              "#h2o-table-3.h2o-container {\n",
              "  overflow-x: auto;\n",
              "}\n",
              "#h2o-table-3 .h2o-table {\n",
              "  /* width: 100%; */\n",
              "  margin-top: 1em;\n",
              "  margin-bottom: 1em;\n",
              "}\n",
              "#h2o-table-3 .h2o-table caption {\n",
              "  white-space: nowrap;\n",
              "  caption-side: top;\n",
              "  text-align: left;\n",
              "  /* margin-left: 1em; */\n",
              "  margin: 0;\n",
              "  font-size: larger;\n",
              "}\n",
              "#h2o-table-3 .h2o-table thead {\n",
              "  white-space: nowrap; \n",
              "  position: sticky;\n",
              "  top: 0;\n",
              "  box-shadow: 0 -1px inset;\n",
              "}\n",
              "#h2o-table-3 .h2o-table tbody {\n",
              "  overflow: auto;\n",
              "}\n",
              "#h2o-table-3 .h2o-table th,\n",
              "#h2o-table-3 .h2o-table td {\n",
              "  text-align: right;\n",
              "  /* border: 1px solid; */\n",
              "}\n",
              "#h2o-table-3 .h2o-table tr:nth-child(even) {\n",
              "  /* background: #F5F5F5 */\n",
              "}\n",
              "\n",
              "</style>      \n",
              "<div id=\"h2o-table-3\" class=\"h2o-container\">\n",
              "  <table class=\"h2o-table\">\n",
              "    <caption>Model Summary: </caption>\n",
              "    <thead><tr><th></th>\n",
              "<th>number_of_trees</th>\n",
              "<th>number_of_internal_trees</th>\n",
              "<th>model_size_in_bytes</th>\n",
              "<th>min_depth</th>\n",
              "<th>max_depth</th>\n",
              "<th>mean_depth</th>\n",
              "<th>min_leaves</th>\n",
              "<th>max_leaves</th>\n",
              "<th>mean_leaves</th></tr></thead>\n",
              "    <tbody><tr><td></td>\n",
              "<td>65.0</td>\n",
              "<td>65.0</td>\n",
              "<td>53021.0</td>\n",
              "<td>7.0</td>\n",
              "<td>7.0</td>\n",
              "<td>7.0</td>\n",
              "<td>20.0</td>\n",
              "<td>102.0</td>\n",
              "<td>60.23077</td></tr></tbody>\n",
              "  </table>\n",
              "</div>\n",
              "</div>\n",
              "<div style='margin: 1em 0 1em 0;'><pre style='margin: 1em 0 1em 0;'>ModelMetricsRegression: gbm\n",
              "** Reported on train data. **\n",
              "\n",
              "MSE: 0.3188772162640419\n",
              "RMSE: 0.5646921429097822\n",
              "MAE: 0.4485160078116621\n",
              "RMSLE: 0.0018151055950888836\n",
              "Mean Residual Deviance: 0.3188772162640419</pre></div>\n",
              "<div style='margin: 1em 0 1em 0;'><pre style='margin: 1em 0 1em 0;'>ModelMetricsRegression: gbm\n",
              "** Reported on validation data. **\n",
              "\n",
              "MSE: 0.4020738457151885\n",
              "RMSE: 0.6340929314502635\n",
              "MAE: 0.5001965706748499\n",
              "RMSLE: 0.002037557509224149\n",
              "Mean Residual Deviance: 0.4020738457151885</pre></div>\n",
              "<div style='margin: 1em 0 1em 0;'>\n",
              "<style>\n",
              "\n",
              "#h2o-table-4.h2o-container {\n",
              "  overflow-x: auto;\n",
              "}\n",
              "#h2o-table-4 .h2o-table {\n",
              "  /* width: 100%; */\n",
              "  margin-top: 1em;\n",
              "  margin-bottom: 1em;\n",
              "}\n",
              "#h2o-table-4 .h2o-table caption {\n",
              "  white-space: nowrap;\n",
              "  caption-side: top;\n",
              "  text-align: left;\n",
              "  /* margin-left: 1em; */\n",
              "  margin: 0;\n",
              "  font-size: larger;\n",
              "}\n",
              "#h2o-table-4 .h2o-table thead {\n",
              "  white-space: nowrap; \n",
              "  position: sticky;\n",
              "  top: 0;\n",
              "  box-shadow: 0 -1px inset;\n",
              "}\n",
              "#h2o-table-4 .h2o-table tbody {\n",
              "  overflow: auto;\n",
              "}\n",
              "#h2o-table-4 .h2o-table th,\n",
              "#h2o-table-4 .h2o-table td {\n",
              "  text-align: right;\n",
              "  /* border: 1px solid; */\n",
              "}\n",
              "#h2o-table-4 .h2o-table tr:nth-child(even) {\n",
              "  /* background: #F5F5F5 */\n",
              "}\n",
              "\n",
              "</style>      \n",
              "<div id=\"h2o-table-4\" class=\"h2o-container\">\n",
              "  <table class=\"h2o-table\">\n",
              "    <caption>Scoring History: </caption>\n",
              "    <thead><tr><th></th>\n",
              "<th>timestamp</th>\n",
              "<th>duration</th>\n",
              "<th>number_of_trees</th>\n",
              "<th>training_rmse</th>\n",
              "<th>training_mae</th>\n",
              "<th>training_deviance</th>\n",
              "<th>validation_rmse</th>\n",
              "<th>validation_mae</th>\n",
              "<th>validation_deviance</th></tr></thead>\n",
              "    <tbody><tr><td></td>\n",
              "<td>2022-11-08 04:17:25</td>\n",
              "<td> 0.003 sec</td>\n",
              "<td>0.0</td>\n",
              "<td>1.4761712</td>\n",
              "<td>1.2259522</td>\n",
              "<td>2.1790813</td>\n",
              "<td>1.5008137</td>\n",
              "<td>1.2390955</td>\n",
              "<td>2.2524418</td></tr>\n",
              "<tr><td></td>\n",
              "<td>2022-11-08 04:17:26</td>\n",
              "<td> 0.103 sec</td>\n",
              "<td>5.0</td>\n",
              "<td>1.0753478</td>\n",
              "<td>0.9019722</td>\n",
              "<td>1.1563729</td>\n",
              "<td>1.0944453</td>\n",
              "<td>0.9130067</td>\n",
              "<td>1.1978104</td></tr>\n",
              "<tr><td></td>\n",
              "<td>2022-11-08 04:17:26</td>\n",
              "<td> 0.184 sec</td>\n",
              "<td>10.0</td>\n",
              "<td>0.8442831</td>\n",
              "<td>0.7122017</td>\n",
              "<td>0.7128140</td>\n",
              "<td>0.8625793</td>\n",
              "<td>0.7226968</td>\n",
              "<td>0.7440431</td></tr>\n",
              "<tr><td></td>\n",
              "<td>2022-11-08 04:17:26</td>\n",
              "<td> 0.278 sec</td>\n",
              "<td>15.0</td>\n",
              "<td>0.7412540</td>\n",
              "<td>0.6238829</td>\n",
              "<td>0.5494576</td>\n",
              "<td>0.7631713</td>\n",
              "<td>0.6381864</td>\n",
              "<td>0.5824304</td></tr>\n",
              "<tr><td></td>\n",
              "<td>2022-11-08 04:17:26</td>\n",
              "<td> 0.367 sec</td>\n",
              "<td>20.0</td>\n",
              "<td>0.6937811</td>\n",
              "<td>0.5809065</td>\n",
              "<td>0.4813322</td>\n",
              "<td>0.7217702</td>\n",
              "<td>0.6008077</td>\n",
              "<td>0.5209522</td></tr>\n",
              "<tr><td></td>\n",
              "<td>2022-11-08 04:17:26</td>\n",
              "<td> 0.450 sec</td>\n",
              "<td>25.0</td>\n",
              "<td>0.6593192</td>\n",
              "<td>0.5485569</td>\n",
              "<td>0.4347018</td>\n",
              "<td>0.6944470</td>\n",
              "<td>0.5744626</td>\n",
              "<td>0.4822566</td></tr>\n",
              "<tr><td></td>\n",
              "<td>2022-11-08 04:17:26</td>\n",
              "<td> 0.542 sec</td>\n",
              "<td>30.0</td>\n",
              "<td>0.6218651</td>\n",
              "<td>0.5106201</td>\n",
              "<td>0.3867163</td>\n",
              "<td>0.6606186</td>\n",
              "<td>0.5387585</td>\n",
              "<td>0.4364169</td></tr>\n",
              "<tr><td></td>\n",
              "<td>2022-11-08 04:17:26</td>\n",
              "<td> 0.635 sec</td>\n",
              "<td>35.0</td>\n",
              "<td>0.6017933</td>\n",
              "<td>0.4884780</td>\n",
              "<td>0.3621551</td>\n",
              "<td>0.6438452</td>\n",
              "<td>0.5177867</td>\n",
              "<td>0.4145366</td></tr>\n",
              "<tr><td></td>\n",
              "<td>2022-11-08 04:17:26</td>\n",
              "<td> 0.716 sec</td>\n",
              "<td>40.0</td>\n",
              "<td>0.5908921</td>\n",
              "<td>0.4761206</td>\n",
              "<td>0.3491535</td>\n",
              "<td>0.6381614</td>\n",
              "<td>0.5086581</td>\n",
              "<td>0.4072500</td></tr>\n",
              "<tr><td></td>\n",
              "<td>2022-11-08 04:17:26</td>\n",
              "<td> 0.820 sec</td>\n",
              "<td>45.0</td>\n",
              "<td>0.5851706</td>\n",
              "<td>0.4697025</td>\n",
              "<td>0.3424246</td>\n",
              "<td>0.6370836</td>\n",
              "<td>0.5056354</td>\n",
              "<td>0.4058755</td></tr>\n",
              "<tr><td></td>\n",
              "<td>2022-11-08 04:17:26</td>\n",
              "<td> 0.895 sec</td>\n",
              "<td>50.0</td>\n",
              "<td>0.5806170</td>\n",
              "<td>0.4649762</td>\n",
              "<td>0.3371161</td>\n",
              "<td>0.6362881</td>\n",
              "<td>0.5041581</td>\n",
              "<td>0.4048625</td></tr>\n",
              "<tr><td></td>\n",
              "<td>2022-11-08 04:17:26</td>\n",
              "<td> 0.972 sec</td>\n",
              "<td>55.0</td>\n",
              "<td>0.5731713</td>\n",
              "<td>0.4569039</td>\n",
              "<td>0.3285254</td>\n",
              "<td>0.6348419</td>\n",
              "<td>0.5013366</td>\n",
              "<td>0.4030242</td></tr>\n",
              "<tr><td></td>\n",
              "<td>2022-11-08 04:17:27</td>\n",
              "<td> 1.048 sec</td>\n",
              "<td>60.0</td>\n",
              "<td>0.5693783</td>\n",
              "<td>0.4530238</td>\n",
              "<td>0.3241917</td>\n",
              "<td>0.6340978</td>\n",
              "<td>0.5002630</td>\n",
              "<td>0.4020800</td></tr>\n",
              "<tr><td></td>\n",
              "<td>2022-11-08 04:17:27</td>\n",
              "<td> 1.125 sec</td>\n",
              "<td>65.0</td>\n",
              "<td>0.5646921</td>\n",
              "<td>0.4485160</td>\n",
              "<td>0.3188772</td>\n",
              "<td>0.6340929</td>\n",
              "<td>0.5001966</td>\n",
              "<td>0.4020738</td></tr></tbody>\n",
              "  </table>\n",
              "</div>\n",
              "</div>\n",
              "<div style='margin: 1em 0 1em 0;'>\n",
              "<style>\n",
              "\n",
              "#h2o-table-5.h2o-container {\n",
              "  overflow-x: auto;\n",
              "}\n",
              "#h2o-table-5 .h2o-table {\n",
              "  /* width: 100%; */\n",
              "  margin-top: 1em;\n",
              "  margin-bottom: 1em;\n",
              "}\n",
              "#h2o-table-5 .h2o-table caption {\n",
              "  white-space: nowrap;\n",
              "  caption-side: top;\n",
              "  text-align: left;\n",
              "  /* margin-left: 1em; */\n",
              "  margin: 0;\n",
              "  font-size: larger;\n",
              "}\n",
              "#h2o-table-5 .h2o-table thead {\n",
              "  white-space: nowrap; \n",
              "  position: sticky;\n",
              "  top: 0;\n",
              "  box-shadow: 0 -1px inset;\n",
              "}\n",
              "#h2o-table-5 .h2o-table tbody {\n",
              "  overflow: auto;\n",
              "}\n",
              "#h2o-table-5 .h2o-table th,\n",
              "#h2o-table-5 .h2o-table td {\n",
              "  text-align: right;\n",
              "  /* border: 1px solid; */\n",
              "}\n",
              "#h2o-table-5 .h2o-table tr:nth-child(even) {\n",
              "  /* background: #F5F5F5 */\n",
              "}\n",
              "\n",
              "</style>      \n",
              "<div id=\"h2o-table-5\" class=\"h2o-container\">\n",
              "  <table class=\"h2o-table\">\n",
              "    <caption>Variable Importances: </caption>\n",
              "    <thead><tr><th>variable</th>\n",
              "<th>relative_importance</th>\n",
              "<th>scaled_importance</th>\n",
              "<th>percentage</th></tr></thead>\n",
              "    <tbody><tr><td>Air temperature [K]</td>\n",
              "<td>59763.6679688</td>\n",
              "<td>1.0</td>\n",
              "<td>0.9492922</td></tr>\n",
              "<tr><td>Tool wear [min]</td>\n",
              "<td>1030.3548584</td>\n",
              "<td>0.0172405</td>\n",
              "<td>0.0163663</td></tr>\n",
              "<tr><td>Torque [Nm]</td>\n",
              "<td>935.2350464</td>\n",
              "<td>0.0156489</td>\n",
              "<td>0.0148554</td></tr>\n",
              "<tr><td>Rotational speed [rpm]</td>\n",
              "<td>876.8698120</td>\n",
              "<td>0.0146723</td>\n",
              "<td>0.0139283</td></tr>\n",
              "<tr><td>Type</td>\n",
              "<td>232.9499969</td>\n",
              "<td>0.0038979</td>\n",
              "<td>0.0037002</td></tr>\n",
              "<tr><td>Target</td>\n",
              "<td>116.9538651</td>\n",
              "<td>0.0019569</td>\n",
              "<td>0.0018577</td></tr></tbody>\n",
              "  </table>\n",
              "</div>\n",
              "</div><pre style=\"font-size: smaller; margin: 1em 0 0 0;\">\n",
              "\n",
              "[tips]\n",
              "Use `model.explain()` to inspect the model.\n",
              "--\n",
              "Use `h2o.display.toggle_user_tips()` to switch on/off this section.</pre>"
            ]
          },
          "metadata": {},
          "execution_count": 40
        }
      ]
    },
    {
      "cell_type": "markdown",
      "source": [
        "Training the AutoML with training data "
      ],
      "metadata": {
        "id": "fvnjzAUouoM2"
      }
    },
    {
      "cell_type": "markdown",
      "source": [
        "below, gives the leaderboard which has performance of models after training\n"
      ],
      "metadata": {
        "id": "1cP8jJgVu5Uf"
      }
    },
    {
      "cell_type": "code",
      "source": [
        "lb = aml.leaderboard"
      ],
      "metadata": {
        "id": "3sqFyFc-7T0T"
      },
      "execution_count": 41,
      "outputs": []
    },
    {
      "cell_type": "code",
      "source": [
        "best_model = aml.get_best_model()"
      ],
      "metadata": {
        "id": "O7qtgkuAvRtJ"
      },
      "execution_count": 42,
      "outputs": []
    },
    {
      "cell_type": "markdown",
      "source": [
        "Storing the best model after training on the dataset"
      ],
      "metadata": {
        "id": "-y_8l3kjvZ5P"
      }
    },
    {
      "cell_type": "code",
      "source": [
        "print(best_model)"
      ],
      "metadata": {
        "colab": {
          "base_uri": "https://localhost:8080/"
        },
        "id": "w1OpUq6qvW-n",
        "outputId": "c17ac4a6-a932-4084-91cb-3d5cb1dff58b"
      },
      "execution_count": 43,
      "outputs": [
        {
          "output_type": "stream",
          "name": "stdout",
          "text": [
            "Model Details\n",
            "=============\n",
            "H2OGradientBoostingEstimator : Gradient Boosting Machine\n",
            "Model Key: GBM_2_AutoML_1_20221108_41711\n",
            "\n",
            "\n",
            "Model Summary: \n",
            "    number_of_trees    number_of_internal_trees    model_size_in_bytes    min_depth    max_depth    mean_depth    min_leaves    max_leaves    mean_leaves\n",
            "--  -----------------  --------------------------  ---------------------  -----------  -----------  ------------  ------------  ------------  -------------\n",
            "    65                 65                          53021                  7            7            7             20            102           60.2308\n",
            "\n",
            "ModelMetricsRegression: gbm\n",
            "** Reported on train data. **\n",
            "\n",
            "MSE: 0.3188772162640419\n",
            "RMSE: 0.5646921429097822\n",
            "MAE: 0.4485160078116621\n",
            "RMSLE: 0.0018151055950888836\n",
            "Mean Residual Deviance: 0.3188772162640419\n",
            "\n",
            "ModelMetricsRegression: gbm\n",
            "** Reported on validation data. **\n",
            "\n",
            "MSE: 0.4020738457151885\n",
            "RMSE: 0.6340929314502635\n",
            "MAE: 0.5001965706748499\n",
            "RMSLE: 0.002037557509224149\n",
            "Mean Residual Deviance: 0.4020738457151885\n",
            "\n",
            "Scoring History: \n",
            "    timestamp            duration    number_of_trees    training_rmse    training_mae    training_deviance    validation_rmse    validation_mae    validation_deviance\n",
            "--  -------------------  ----------  -----------------  ---------------  --------------  -------------------  -----------------  ----------------  ---------------------\n",
            "    2022-11-08 04:17:25  0.003 sec   0                  1.47617          1.22595         2.17908              1.50081            1.2391            2.25244\n",
            "    2022-11-08 04:17:26  0.103 sec   5                  1.07535          0.901972        1.15637              1.09445            0.913007          1.19781\n",
            "    2022-11-08 04:17:26  0.184 sec   10                 0.844283         0.712202        0.712814             0.862579           0.722697          0.744043\n",
            "    2022-11-08 04:17:26  0.278 sec   15                 0.741254         0.623883        0.549458             0.763171           0.638186          0.58243\n",
            "    2022-11-08 04:17:26  0.367 sec   20                 0.693781         0.580906        0.481332             0.72177            0.600808          0.520952\n",
            "    2022-11-08 04:17:26  0.450 sec   25                 0.659319         0.548557        0.434702             0.694447           0.574463          0.482257\n",
            "    2022-11-08 04:17:26  0.542 sec   30                 0.621865         0.51062         0.386716             0.660619           0.538758          0.436417\n",
            "    2022-11-08 04:17:26  0.635 sec   35                 0.601793         0.488478        0.362155             0.643845           0.517787          0.414537\n",
            "    2022-11-08 04:17:26  0.716 sec   40                 0.590892         0.476121        0.349154             0.638161           0.508658          0.40725\n",
            "    2022-11-08 04:17:26  0.820 sec   45                 0.585171         0.469702        0.342425             0.637084           0.505635          0.405876\n",
            "    2022-11-08 04:17:26  0.895 sec   50                 0.580617         0.464976        0.337116             0.636288           0.504158          0.404863\n",
            "    2022-11-08 04:17:26  0.972 sec   55                 0.573171         0.456904        0.328525             0.634842           0.501337          0.403024\n",
            "    2022-11-08 04:17:27  1.048 sec   60                 0.569378         0.453024        0.324192             0.634098           0.500263          0.40208\n",
            "    2022-11-08 04:17:27  1.125 sec   65                 0.564692         0.448516        0.318877             0.634093           0.500197          0.402074\n",
            "\n",
            "Variable Importances: \n",
            "variable                relative_importance    scaled_importance    percentage\n",
            "----------------------  ---------------------  -------------------  ------------\n",
            "Air temperature [K]     59763.7                1                    0.949292\n",
            "Tool wear [min]         1030.35                0.0172405            0.0163663\n",
            "Torque [Nm]             935.235                0.0156489            0.0148554\n",
            "Rotational speed [rpm]  876.87                 0.0146723            0.0139283\n",
            "Type                    232.95                 0.00389785           0.0037002\n",
            "Target                  116.954                0.00195694           0.00185771\n"
          ]
        }
      ]
    },
    {
      "cell_type": "code",
      "source": [
        "lb.head()"
      ],
      "metadata": {
        "colab": {
          "base_uri": "https://localhost:8080/",
          "height": 389
        },
        "id": "SB0i8ERO7ai-",
        "outputId": "a16427e5-69c4-4206-9576-4ff8887dc71b"
      },
      "execution_count": 44,
      "outputs": [
        {
          "output_type": "execute_result",
          "data": {
            "text/plain": [
              "model_id                               rmse       mse       mae       rmsle    mean_residual_deviance\n",
              "---------------------------------  --------  --------  --------  ----------  ------------------------\n",
              "GBM_2_AutoML_1_20221108_41711      0.634093  0.402074  0.500197  0.00203756                  0.402074\n",
              "GBM_3_AutoML_1_20221108_41711      0.637894  0.406909  0.500367  0.00204975                  0.406909\n",
              "GBM_4_AutoML_1_20221108_41711      0.638443  0.40761   0.499163  0.00205157                  0.40761\n",
              "GBM_1_AutoML_1_20221108_41711      0.639896  0.409467  0.512659  0.00205655                  0.409467\n",
              "XGBoost_3_AutoML_1_20221108_41711  0.645173  0.416249  0.511436  0.00207313                  0.416249\n",
              "XRT_1_AutoML_1_20221108_41711      0.653272  0.426764  0.521691  0.00209945                  0.426764\n",
              "DRF_1_AutoML_1_20221108_41711      0.65341   0.426945  0.510168  0.00209978                  0.426945\n",
              "XGBoost_2_AutoML_1_20221108_41711  0.671826  0.45135   0.521077  0.00215915                  0.45135\n",
              "XGBoost_1_AutoML_1_20221108_41711  0.695483  0.483696  0.543128  0.00223511                  0.483696\n",
              "GLM_1_AutoML_1_20221108_41711      0.720377  0.518943  0.59024   0.00231502                  0.518943\n",
              "[10 rows x 6 columns]\n"
            ],
            "text/html": [
              "<table class='dataframe'>\n",
              "<thead>\n",
              "<tr><th>model_id                         </th><th style=\"text-align: right;\">    rmse</th><th style=\"text-align: right;\">     mse</th><th style=\"text-align: right;\">     mae</th><th style=\"text-align: right;\">     rmsle</th><th style=\"text-align: right;\">  mean_residual_deviance</th></tr>\n",
              "</thead>\n",
              "<tbody>\n",
              "<tr><td>GBM_2_AutoML_1_20221108_41711    </td><td style=\"text-align: right;\">0.634093</td><td style=\"text-align: right;\">0.402074</td><td style=\"text-align: right;\">0.500197</td><td style=\"text-align: right;\">0.00203756</td><td style=\"text-align: right;\">                0.402074</td></tr>\n",
              "<tr><td>GBM_3_AutoML_1_20221108_41711    </td><td style=\"text-align: right;\">0.637894</td><td style=\"text-align: right;\">0.406909</td><td style=\"text-align: right;\">0.500367</td><td style=\"text-align: right;\">0.00204975</td><td style=\"text-align: right;\">                0.406909</td></tr>\n",
              "<tr><td>GBM_4_AutoML_1_20221108_41711    </td><td style=\"text-align: right;\">0.638443</td><td style=\"text-align: right;\">0.40761 </td><td style=\"text-align: right;\">0.499163</td><td style=\"text-align: right;\">0.00205157</td><td style=\"text-align: right;\">                0.40761 </td></tr>\n",
              "<tr><td>GBM_1_AutoML_1_20221108_41711    </td><td style=\"text-align: right;\">0.639896</td><td style=\"text-align: right;\">0.409467</td><td style=\"text-align: right;\">0.512659</td><td style=\"text-align: right;\">0.00205655</td><td style=\"text-align: right;\">                0.409467</td></tr>\n",
              "<tr><td>XGBoost_3_AutoML_1_20221108_41711</td><td style=\"text-align: right;\">0.645173</td><td style=\"text-align: right;\">0.416249</td><td style=\"text-align: right;\">0.511436</td><td style=\"text-align: right;\">0.00207313</td><td style=\"text-align: right;\">                0.416249</td></tr>\n",
              "<tr><td>XRT_1_AutoML_1_20221108_41711    </td><td style=\"text-align: right;\">0.653272</td><td style=\"text-align: right;\">0.426764</td><td style=\"text-align: right;\">0.521691</td><td style=\"text-align: right;\">0.00209945</td><td style=\"text-align: right;\">                0.426764</td></tr>\n",
              "<tr><td>DRF_1_AutoML_1_20221108_41711    </td><td style=\"text-align: right;\">0.65341 </td><td style=\"text-align: right;\">0.426945</td><td style=\"text-align: right;\">0.510168</td><td style=\"text-align: right;\">0.00209978</td><td style=\"text-align: right;\">                0.426945</td></tr>\n",
              "<tr><td>XGBoost_2_AutoML_1_20221108_41711</td><td style=\"text-align: right;\">0.671826</td><td style=\"text-align: right;\">0.45135 </td><td style=\"text-align: right;\">0.521077</td><td style=\"text-align: right;\">0.00215915</td><td style=\"text-align: right;\">                0.45135 </td></tr>\n",
              "<tr><td>XGBoost_1_AutoML_1_20221108_41711</td><td style=\"text-align: right;\">0.695483</td><td style=\"text-align: right;\">0.483696</td><td style=\"text-align: right;\">0.543128</td><td style=\"text-align: right;\">0.00223511</td><td style=\"text-align: right;\">                0.483696</td></tr>\n",
              "<tr><td>GLM_1_AutoML_1_20221108_41711    </td><td style=\"text-align: right;\">0.720377</td><td style=\"text-align: right;\">0.518943</td><td style=\"text-align: right;\">0.59024 </td><td style=\"text-align: right;\">0.00231502</td><td style=\"text-align: right;\">                0.518943</td></tr>\n",
              "</tbody>\n",
              "</table><pre style='font-size: smaller; margin-bottom: 1em;'>[10 rows x 6 columns]</pre>"
            ]
          },
          "metadata": {},
          "execution_count": 44
        }
      ]
    },
    {
      "cell_type": "markdown",
      "source": [
        "Displaying top models in leaderboard"
      ],
      "metadata": {
        "id": "LaUUX9Pb2Lg7"
      }
    },
    {
      "cell_type": "markdown",
      "source": [
        "Using best model from leader board to predict on test data"
      ],
      "metadata": {
        "id": "12wp4oZ-27TQ"
      }
    },
    {
      "cell_type": "code",
      "source": [
        "pred=aml.leader.predict(test)"
      ],
      "metadata": {
        "id": "4Eh0fVph7fVD",
        "colab": {
          "base_uri": "https://localhost:8080/"
        },
        "outputId": "6c5b24e5-c9fc-4ba9-b0c5-6e0e06cfd646"
      },
      "execution_count": 45,
      "outputs": [
        {
          "output_type": "stream",
          "name": "stdout",
          "text": [
            "gbm prediction progress: |███████████████████████████████████████████████████████| (done) 100%\n"
          ]
        }
      ]
    },
    {
      "cell_type": "code",
      "source": [
        "aml.leader.model_performance(test)  #Checking the best model performance on test data , this is same as using best model above"
      ],
      "metadata": {
        "colab": {
          "base_uri": "https://localhost:8080/",
          "height": 184
        },
        "id": "ilfeS31RQT9k",
        "outputId": "cdf9f47d-6f1b-46fd-c61a-d94cec574e77"
      },
      "execution_count": 46,
      "outputs": [
        {
          "output_type": "execute_result",
          "data": {
            "text/plain": [
              "ModelMetricsRegression: gbm\n",
              "** Reported on test data. **\n",
              "\n",
              "MSE: 0.4231708305048506\n",
              "RMSE: 0.6505158187967842\n",
              "MAE: 0.5159975791212378\n",
              "RMSLE: 0.0020907927202465405\n",
              "Mean Residual Deviance: 0.4231708305048506"
            ],
            "text/html": [
              "<pre style='margin: 1em 0 1em 0;'>ModelMetricsRegression: gbm\n",
              "** Reported on test data. **\n",
              "\n",
              "MSE: 0.4231708305048506\n",
              "RMSE: 0.6505158187967842\n",
              "MAE: 0.5159975791212378\n",
              "RMSLE: 0.0020907927202465405\n",
              "Mean Residual Deviance: 0.4231708305048506</pre>"
            ]
          },
          "metadata": {},
          "execution_count": 46
        }
      ]
    },
    {
      "cell_type": "markdown",
      "source": [
        "MSE: 0.4231708305048506\n",
        "\n",
        "RMSE: 0.6505158187967842\n",
        "\n",
        "MAE: 0.5159975791212378\n",
        "\n",
        "RMSLE: 0.0020907927202465405\n",
        "\n",
        "\n",
        "\n",
        "\n",
        "MAE and RMSE scores are not highly varying this means that the outliers are less and not effecting the performance. (when squared in RMSE if the outliers are present then it would increase the error to greater extent)"
      ],
      "metadata": {
        "id": "1J04Z3tF67Wh"
      }
    },
    {
      "cell_type": "code",
      "source": [
        "aml.leader.model_performance(valid) # model performance on validation data"
      ],
      "metadata": {
        "colab": {
          "base_uri": "https://localhost:8080/",
          "height": 184
        },
        "id": "5xKHMbhdShcb",
        "outputId": "3e0dde22-b8ac-41af-b404-427ae4fac8e3"
      },
      "execution_count": 48,
      "outputs": [
        {
          "output_type": "execute_result",
          "data": {
            "text/plain": [
              "ModelMetricsRegression: gbm\n",
              "** Reported on test data. **\n",
              "\n",
              "MSE: 0.4020738457151885\n",
              "RMSE: 0.6340929314502635\n",
              "MAE: 0.5001965706748499\n",
              "RMSLE: 0.002037557509224149\n",
              "Mean Residual Deviance: 0.4020738457151885"
            ],
            "text/html": [
              "<pre style='margin: 1em 0 1em 0;'>ModelMetricsRegression: gbm\n",
              "** Reported on test data. **\n",
              "\n",
              "MSE: 0.4020738457151885\n",
              "RMSE: 0.6340929314502635\n",
              "MAE: 0.5001965706748499\n",
              "RMSLE: 0.002037557509224149\n",
              "Mean Residual Deviance: 0.4020738457151885</pre>"
            ]
          },
          "metadata": {},
          "execution_count": 48
        }
      ]
    },
    {
      "cell_type": "code",
      "source": [
        "perf = aml.leader.model_performance(test)\n"
      ],
      "metadata": {
        "id": "ITNG1lJwKiEb"
      },
      "execution_count": 50,
      "outputs": []
    },
    {
      "cell_type": "code",
      "source": [
        "model_ids = list(aml.leaderboard['model_id'].as_data_frame().iloc[:,0])\n"
      ],
      "metadata": {
        "id": "e9LHBkavRBI6"
      },
      "execution_count": 51,
      "outputs": []
    },
    {
      "cell_type": "code",
      "source": [
        "model_ids"
      ],
      "metadata": {
        "colab": {
          "base_uri": "https://localhost:8080/"
        },
        "id": "rkE5tDllRUaj",
        "outputId": "5fc9ac34-1870-4a4f-84ec-59f7d2d91cb0"
      },
      "execution_count": 52,
      "outputs": [
        {
          "output_type": "execute_result",
          "data": {
            "text/plain": [
              "['GBM_2_AutoML_1_20221108_41711',\n",
              " 'GBM_3_AutoML_1_20221108_41711',\n",
              " 'GBM_4_AutoML_1_20221108_41711',\n",
              " 'GBM_1_AutoML_1_20221108_41711',\n",
              " 'XGBoost_3_AutoML_1_20221108_41711',\n",
              " 'XRT_1_AutoML_1_20221108_41711',\n",
              " 'DRF_1_AutoML_1_20221108_41711',\n",
              " 'XGBoost_2_AutoML_1_20221108_41711',\n",
              " 'XGBoost_1_AutoML_1_20221108_41711',\n",
              " 'GLM_1_AutoML_1_20221108_41711']"
            ]
          },
          "metadata": {},
          "execution_count": 52
        }
      ]
    },
    {
      "cell_type": "code",
      "source": [
        "# h2o.get_model([mid for mid in model_ids if \"GBM\" in mid][0])"
      ],
      "metadata": {
        "id": "xZnK4umzRXKZ"
      },
      "execution_count": 53,
      "outputs": []
    },
    {
      "cell_type": "code",
      "source": [
        "# out = h2o.get_model([mid for mid in model_ids if \"XGBoost\" in mid][0])"
      ],
      "metadata": {
        "id": "ZexSncfDRaEM"
      },
      "execution_count": 54,
      "outputs": []
    },
    {
      "cell_type": "code",
      "source": [
        "best_model.params"
      ],
      "metadata": {
        "colab": {
          "base_uri": "https://localhost:8080/"
        },
        "id": "me5daGgDRgxU",
        "outputId": "dd10b56e-66dd-424e-c731-514e5fd4ebfe"
      },
      "execution_count": 55,
      "outputs": [
        {
          "output_type": "execute_result",
          "data": {
            "text/plain": [
              "{'model_id': {'default': None,\n",
              "  'actual': {'__meta': {'schema_version': 3,\n",
              "    'schema_name': 'ModelKeyV3',\n",
              "    'schema_type': 'Key<Model>'},\n",
              "   'name': 'GBM_2_AutoML_1_20221108_41711',\n",
              "   'type': 'Key<Model>',\n",
              "   'URL': '/3/Models/GBM_2_AutoML_1_20221108_41711'},\n",
              "  'input': None},\n",
              " 'training_frame': {'default': None,\n",
              "  'actual': {'__meta': {'schema_version': 3,\n",
              "    'schema_name': 'FrameKeyV3',\n",
              "    'schema_type': 'Key<Frame>'},\n",
              "   'name': 'AutoML_1_20221108_41711_training_py_3_sid_b71e',\n",
              "   'type': 'Key<Frame>',\n",
              "   'URL': '/3/Frames/AutoML_1_20221108_41711_training_py_3_sid_b71e'},\n",
              "  'input': {'__meta': {'schema_version': 3,\n",
              "    'schema_name': 'FrameKeyV3',\n",
              "    'schema_type': 'Key<Frame>'},\n",
              "   'name': 'AutoML_1_20221108_41711_training_py_3_sid_b71e',\n",
              "   'type': 'Key<Frame>',\n",
              "   'URL': '/3/Frames/AutoML_1_20221108_41711_training_py_3_sid_b71e'}},\n",
              " 'validation_frame': {'default': None,\n",
              "  'actual': {'__meta': {'schema_version': 3,\n",
              "    'schema_name': 'FrameKeyV3',\n",
              "    'schema_type': 'Key<Frame>'},\n",
              "   'name': 'py_5_sid_b71e',\n",
              "   'type': 'Key<Frame>',\n",
              "   'URL': '/3/Frames/py_5_sid_b71e'},\n",
              "  'input': {'__meta': {'schema_version': 3,\n",
              "    'schema_name': 'FrameKeyV3',\n",
              "    'schema_type': 'Key<Frame>'},\n",
              "   'name': 'py_5_sid_b71e',\n",
              "   'type': 'Key<Frame>',\n",
              "   'URL': '/3/Frames/py_5_sid_b71e'}},\n",
              " 'nfolds': {'default': 0, 'actual': 0, 'input': 0},\n",
              " 'keep_cross_validation_models': {'default': True,\n",
              "  'actual': False,\n",
              "  'input': False},\n",
              " 'keep_cross_validation_predictions': {'default': False,\n",
              "  'actual': True,\n",
              "  'input': True},\n",
              " 'keep_cross_validation_fold_assignment': {'default': False,\n",
              "  'actual': False,\n",
              "  'input': False},\n",
              " 'score_each_iteration': {'default': False, 'actual': False, 'input': False},\n",
              " 'score_tree_interval': {'default': 0, 'actual': 5, 'input': 5},\n",
              " 'fold_assignment': {'default': 'AUTO', 'actual': None, 'input': 'AUTO'},\n",
              " 'fold_column': {'default': None, 'actual': None, 'input': None},\n",
              " 'response_column': {'default': None,\n",
              "  'actual': {'__meta': {'schema_version': 3,\n",
              "    'schema_name': 'ColSpecifierV3',\n",
              "    'schema_type': 'VecSpecifier'},\n",
              "   'column_name': 'Process temperature [K]',\n",
              "   'is_member_of_frames': None},\n",
              "  'input': {'__meta': {'schema_version': 3,\n",
              "    'schema_name': 'ColSpecifierV3',\n",
              "    'schema_type': 'VecSpecifier'},\n",
              "   'column_name': 'Process temperature [K]',\n",
              "   'is_member_of_frames': None}},\n",
              " 'ignored_columns': {'default': None,\n",
              "  'actual': ['Failure Type', '\\ufeffUDI', 'Product ID'],\n",
              "  'input': ['Failure Type', '\\ufeffUDI', 'Product ID']},\n",
              " 'ignore_const_cols': {'default': True, 'actual': True, 'input': True},\n",
              " 'offset_column': {'default': None, 'actual': None, 'input': None},\n",
              " 'weights_column': {'default': None, 'actual': None, 'input': None},\n",
              " 'balance_classes': {'default': False, 'actual': False, 'input': False},\n",
              " 'class_sampling_factors': {'default': None, 'actual': None, 'input': None},\n",
              " 'max_after_balance_size': {'default': 5.0, 'actual': 5.0, 'input': 5.0},\n",
              " 'max_confusion_matrix_size': {'default': 20, 'actual': 20, 'input': 20},\n",
              " 'ntrees': {'default': 50, 'actual': 10000, 'input': 10000},\n",
              " 'max_depth': {'default': 5, 'actual': 7, 'input': 7},\n",
              " 'min_rows': {'default': 10.0, 'actual': 10.0, 'input': 10.0},\n",
              " 'nbins': {'default': 20, 'actual': 20, 'input': 20},\n",
              " 'nbins_top_level': {'default': 1024, 'actual': 1024, 'input': 1024},\n",
              " 'nbins_cats': {'default': 1024, 'actual': 1024, 'input': 1024},\n",
              " 'r2_stopping': {'default': 1.7976931348623157e+308,\n",
              "  'actual': 1.7976931348623157e+308,\n",
              "  'input': 1.7976931348623157e+308},\n",
              " 'stopping_rounds': {'default': 0, 'actual': 3, 'input': 3},\n",
              " 'stopping_metric': {'default': 'AUTO',\n",
              "  'actual': 'deviance',\n",
              "  'input': 'deviance'},\n",
              " 'stopping_tolerance': {'default': 0.001,\n",
              "  'actual': 0.011958266722236254,\n",
              "  'input': 0.011958266722236254},\n",
              " 'max_runtime_secs': {'default': 0.0, 'actual': 0.0, 'input': 0.0},\n",
              " 'seed': {'default': -1, 'actual': 15, 'input': 15},\n",
              " 'build_tree_one_node': {'default': False, 'actual': False, 'input': False},\n",
              " 'learn_rate': {'default': 0.1, 'actual': 0.1, 'input': 0.1},\n",
              " 'learn_rate_annealing': {'default': 1.0, 'actual': 1.0, 'input': 1.0},\n",
              " 'distribution': {'default': 'AUTO',\n",
              "  'actual': 'gaussian',\n",
              "  'input': 'gaussian'},\n",
              " 'quantile_alpha': {'default': 0.5, 'actual': 0.5, 'input': 0.5},\n",
              " 'tweedie_power': {'default': 1.5, 'actual': 1.5, 'input': 1.5},\n",
              " 'huber_alpha': {'default': 0.9, 'actual': 0.9, 'input': 0.9},\n",
              " 'checkpoint': {'default': None, 'actual': None, 'input': None},\n",
              " 'sample_rate': {'default': 1.0, 'actual': 0.8, 'input': 0.8},\n",
              " 'sample_rate_per_class': {'default': None, 'actual': None, 'input': None},\n",
              " 'col_sample_rate': {'default': 1.0, 'actual': 0.8, 'input': 0.8},\n",
              " 'col_sample_rate_change_per_level': {'default': 1.0,\n",
              "  'actual': 1.0,\n",
              "  'input': 1.0},\n",
              " 'col_sample_rate_per_tree': {'default': 1.0, 'actual': 0.8, 'input': 0.8},\n",
              " 'min_split_improvement': {'default': 1e-05, 'actual': 1e-05, 'input': 1e-05},\n",
              " 'histogram_type': {'default': 'AUTO',\n",
              "  'actual': 'UniformAdaptive',\n",
              "  'input': 'AUTO'},\n",
              " 'max_abs_leafnode_pred': {'default': 1.7976931348623157e+308,\n",
              "  'actual': 1.7976931348623157e+308,\n",
              "  'input': 1.7976931348623157e+308},\n",
              " 'pred_noise_bandwidth': {'default': 0.0, 'actual': 0.0, 'input': 0.0},\n",
              " 'categorical_encoding': {'default': 'AUTO',\n",
              "  'actual': 'Enum',\n",
              "  'input': 'AUTO'},\n",
              " 'calibrate_model': {'default': False, 'actual': False, 'input': False},\n",
              " 'calibration_frame': {'default': None, 'actual': None, 'input': None},\n",
              " 'calibration_method': {'default': 'AUTO',\n",
              "  'actual': 'PlattScaling',\n",
              "  'input': 'AUTO'},\n",
              " 'custom_metric_func': {'default': None, 'actual': None, 'input': None},\n",
              " 'custom_distribution_func': {'default': None, 'actual': None, 'input': None},\n",
              " 'export_checkpoints_dir': {'default': None, 'actual': None, 'input': None},\n",
              " 'in_training_checkpoints_dir': {'default': None,\n",
              "  'actual': None,\n",
              "  'input': None},\n",
              " 'in_training_checkpoints_tree_interval': {'default': 1,\n",
              "  'actual': 1,\n",
              "  'input': 1},\n",
              " 'monotone_constraints': {'default': None, 'actual': None, 'input': None},\n",
              " 'check_constant_response': {'default': True, 'actual': True, 'input': True},\n",
              " 'gainslift_bins': {'default': -1, 'actual': -1, 'input': -1},\n",
              " 'auc_type': {'default': 'AUTO', 'actual': 'AUTO', 'input': 'AUTO'},\n",
              " 'interaction_constraints': {'default': None, 'actual': None, 'input': None}}"
            ]
          },
          "metadata": {},
          "execution_count": 55
        }
      ]
    },
    {
      "cell_type": "code",
      "source": [
        "# out.convert_H2OXGBoostParams_2_XGBoostParams()"
      ],
      "metadata": {
        "id": "12ZeOOLBRjp0"
      },
      "execution_count": 56,
      "outputs": []
    },
    {
      "cell_type": "code",
      "source": [
        "# out_gbm = h2o.get_model([mid for mid in model_ids if \"GBM\" in mid][0])"
      ],
      "metadata": {
        "id": "6Yr-Hk0LRqK5"
      },
      "execution_count": 57,
      "outputs": []
    },
    {
      "cell_type": "code",
      "source": [
        "best_model.varimp_plot()"
      ],
      "metadata": {
        "colab": {
          "base_uri": "https://localhost:8080/",
          "height": 648
        },
        "id": "fVjeoMdSR0mu",
        "outputId": "3b086ff1-c030-4296-bac7-e54b16ab328a"
      },
      "execution_count": 59,
      "outputs": [
        {
          "output_type": "display_data",
          "data": {
            "text/plain": [
              "<Figure size 1008x720 with 1 Axes>"
            ],
            "image/png": "[encoded data removed]"
          },
          "metadata": {
            "needs_background": "light"
          }
        },
        {
          "output_type": "execute_result",
          "data": {
            "text/plain": [
              "<h2o.plot._plot_result._MObject at 0x7f2a65171e10>"
            ]
          },
          "metadata": {},
          "execution_count": 59
        },
        {
          "output_type": "display_data",
          "data": {
            "text/plain": [
              "<Figure size 432x288 with 0 Axes>"
            ]
          },
          "metadata": {}
        }
      ]
    },
    {
      "cell_type": "code",
      "source": [],
      "metadata": {
        "id": "EUyCRqVAaf96"
      },
      "execution_count": 62,
      "outputs": []
    },
    {
      "cell_type": "markdown",
      "source": [
        "### Questions and Answers \n",
        "\n",
        "1. **Is the relationship significant?**\n",
        "\n",
        "As mentioned in the Assignment description I didnot perform feature engineering but visualised a pearson correlation heatmap for correlation before one hot encoding\n",
        "- `Air teamperature [k]` and `Process temperature [k]` are highly correlated.\n",
        "- `Torque` has high correlation comparing to other feature with Target\n",
        "- `Torque` and `Rotational speed [Nm]` are negatively correlated i.e if Rotational speed increases then Torque decreases and vice versa.\n",
        "- `Type` has slight correlation with `Rotational speed [Nm]` comparing to other features but it doesn't seem like multi colinearity as the value is very low.\n",
        "\n",
        "2. **Are any model assumptions violated?**\n",
        "\n",
        "As AutoML aims to give best model and tunes hyper parameters for gaining best accuracy. Used H2O.ai to build a maximum of 10 models excluding StackedEnsemble and DeepLearning models with no crossvalidation as validation data is taken from the raw dataset, so automl by default tunes the parameters to get the best model. So, its hard to comment if the AutoML assumptions are violated.\n",
        "\n",
        "3. **Is there any multicollinearity in the model?**\n",
        "\n",
        "- `Air teamperature [k]` and `Process temperature [k]` are highly correlated.\n",
        "- `Torque` and `Rotational speed [Nm]` are negatively correlated i.e if Rotational speed increases then Torque decreases and vice versa.\n",
        "- `Type` has slight correlation with `Rotational speed [Nm]` comparing to other features but it doesn't seem like multi colinearity as the value is very low.\n",
        "\n",
        "4. **In the multivariate models are predictor variables independent of all the other predictor variables?**\n",
        "\n",
        "Few features are independent and some features are dependent on others based on heatmap shown. For examples `Air teamperature [k]` and `Process temperature [k]` are highly colinear.\n",
        "Moving forward with feature engineering one of this can. be removed but before that , its a best practice to check which has high significance on the model performance through OLS regression. The same can be checked for `Torque` and `Rotational speed [Nm]`\n",
        "\n",
        "5. **In in multivariate models rank the most significant predictor variables and exclude insignificant ones from the model?**\n",
        "\n",
        "The `varimp_plot()` a H2O.ai function that shows us the most significant predictor variable in a hierarchical manner and `Air teamperature [k]` score of 0.94 is the most significant in this case\n",
        "\n",
        "6. **Does the model make sense?**\n",
        "\n",
        "Yes, the model makes sense. The test and validation error scores are significant with train set scores\n",
        "\n",
        "- The MSE, RMSE, MAE and RMSLE scores are very at par in both the sets and the difference between RMSE and MAE scores is very low which means there is not much effect of outliers.\n",
        "\n",
        "\n",
        "**Reported on test data.**\n",
        "\n",
        "MSE: 0.4231708305048506\n",
        "\n",
        "RMSE: 0.6505158187967842\n",
        "\n",
        "MAE: 0.5159975791212378\n",
        "\n",
        "RMSLE: 0.0020907927202465405\n",
        "\n",
        "\n",
        "\n",
        "**Reported on validation data.**\n",
        "\n",
        "MSE: 0.4020738457151885\n",
        "\n",
        "RMSE: 0.6340929314502635\n",
        "\n",
        "MAE: 0.5001965706748499\n",
        "\n",
        "RMSLE: 0.002037557509224149\n",
        "\n",
        "\n",
        "7. **Does regularization help?**\n",
        "\n",
        "Here model is not overfitted on test or validation data and it may not require regularization in this case.\n",
        "\n",
        "8. **Which independent variables are significant?**\n",
        "\n",
        "All the features shows significant importance in prediction. As mentioned in the description of the assignment encoding is not performed on categorical features, doing this would help us get the significant features through permutation importance.\n",
        "\n",
        "9. **Which hyperparameters are important?**\n",
        "\n",
        "max_models will let us see the number of models to be trained and display on the dataset , nfolds helps in mentioning the number of parts the dataset to be divided, exclude_algos are important by helping us not considering deep learning models if the data is not too complex, "
      ],
      "metadata": {
        "id": "zLCX5pdZLhx9"
      }
    },
    {
      "cell_type": "markdown",
      "source": [
        "### Conclusion :\n",
        "\n",
        "- The dataset has a categorical target feature that has \"Failure\" and \"not a Failure\" classes and predicting \"not a Failure\" case is more sensitive as it may mislead and not warn the user for potential machinary failures\n",
        "- `Failure Type` is removed as it has the information about target variable and may lead to data leakage\n",
        "- H2O AutoML showed good performance in many models and the top one is GBM for classifiation for  our current dataset\n",
        "- Confusion metrics shows that there is low False negatives which is a good sign by giving high recall\n",
        "- `Torque [Nm]` shows high importance over other features and the least important feature is shown as `Type` a categorical feature\n"
      ],
      "metadata": {
        "id": "EJyaZ-TiIVpA"
      }
    },
    {
      "cell_type": "markdown",
      "source": [
        "### Refrences:\n",
        "\n",
        "1. H2O.ai documentation https://docs.h2o.ai/h2o/latest-stable/h2o-docs/performance-and-prediction.html\n",
        "2. H2O.ai notebook reference on a different dataset for classification https://colab.research.google.com/github/srivatsan88/YouTubeLI/blob/master/H2O_AutoML.ipynb#scrollTo=vOxeivTyUCeq\n",
        "3. H2O.ai model explainability https://docs.h2o.ai/h2o/latest-stable/h2o-docs/explain.html\n",
        "4. Confusion metrics https://en.wikipedia.org/wiki/Confusion_matrix\n",
        "\n",
        "**All other code and function implementation are independently written.**\n",
        "\n",
        "\n",
        "Copyright \n",
        "\n",
        "Permission is hereby granted, free of charge, to any person obtaining a copy of this software and associated documentation files (the \"Software\"), to deal in the Software without restriction, including without limitation the rights to use, copy, modify, merge, publish, distribute, sublicense, and/or sell copies of the Software, and to permit persons to whom the Software is furnished to do so, subject to the following conditions:\n",
        "\n",
        "The above copyright notice and this permission notice shall be included in all copies or substantial portions of the Software.\n",
        "\n",
        "THE SOFTWARE IS PROVIDED \"AS IS\", WITHOUT WARRANTY OF ANY KIND, EXPRESS OR IMPLIED, INCLUDING BUT NOT LIMITED TO THE WARRANTIES OF MERCHANTABILITY, FITNESS FOR A PARTICULAR PURPOSE AND NONINFRINGEMENT. IN NO EVENT SHALL THE AUTHORS OR COPYRIGHT HOLDERS BE LIABLE FOR ANY CLAIM, DAMAGES OR OTHER LIABILITY, WHETHER IN AN ACTION OF CONTRACT, TORT OR OTHERWISE, ARISING FROM, OUT OF OR IN CONNECTION WITH THE SOFTWARE OR THE USE OR OTHER DEALINGS IN THE SOFTWARE."
      ],
      "metadata": {
        "id": "DShZqqCtHjcf"
      }
    },
    {
      "cell_type": "code",
      "source": [],
      "metadata": {
        "id": "RZMhp7ejISCe"
      },
      "execution_count": null,
      "outputs": []
    }
  ]
}