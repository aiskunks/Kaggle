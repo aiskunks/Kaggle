{
 "cells": [
  {
   "cell_type": "code",
   "execution_count": 49,
   "id": "ff883c11",
   "metadata": {},
   "outputs": [
    {
     "name": "stdout",
     "output_type": "stream",
     "text": [
      "Checking whether there is an H2O instance running at http://localhost:54321 . connected.\n"
     ]
    },
    {
     "data": {
      "text/html": [
       "\n",
       "<style>\n",
       "\n",
       "#h2o-table-4.h2o-container {\n",
       "  overflow-x: auto;\n",
       "}\n",
       "#h2o-table-4 .h2o-table {\n",
       "  /* width: 100%; */\n",
       "  margin-top: 1em;\n",
       "  margin-bottom: 1em;\n",
       "}\n",
       "#h2o-table-4 .h2o-table caption {\n",
       "  white-space: nowrap;\n",
       "  caption-side: top;\n",
       "  text-align: left;\n",
       "  /* margin-left: 1em; */\n",
       "  margin: 0;\n",
       "  font-size: larger;\n",
       "}\n",
       "#h2o-table-4 .h2o-table thead {\n",
       "  white-space: nowrap; \n",
       "  position: sticky;\n",
       "  top: 0;\n",
       "  box-shadow: 0 -1px inset;\n",
       "}\n",
       "#h2o-table-4 .h2o-table tbody {\n",
       "  overflow: auto;\n",
       "}\n",
       "#h2o-table-4 .h2o-table th,\n",
       "#h2o-table-4 .h2o-table td {\n",
       "  text-align: right;\n",
       "  /* border: 1px solid; */\n",
       "}\n",
       "#h2o-table-4 .h2o-table tr:nth-child(even) {\n",
       "  /* background: #F5F5F5 */\n",
       "}\n",
       "\n",
       "</style>      \n",
       "<div id=\"h2o-table-4\" class=\"h2o-container\">\n",
       "  <table class=\"h2o-table\">\n",
       "    <caption></caption>\n",
       "    <thead></thead>\n",
       "    <tbody><tr><td>H2O_cluster_uptime:</td>\n",
       "<td>1 hour 10 mins</td></tr>\n",
       "<tr><td>H2O_cluster_timezone:</td>\n",
       "<td>America/New_York</td></tr>\n",
       "<tr><td>H2O_data_parsing_timezone:</td>\n",
       "<td>UTC</td></tr>\n",
       "<tr><td>H2O_cluster_version:</td>\n",
       "<td>3.38.0.1</td></tr>\n",
       "<tr><td>H2O_cluster_version_age:</td>\n",
       "<td>1 month and 17 days </td></tr>\n",
       "<tr><td>H2O_cluster_name:</td>\n",
       "<td>H2O_from_python_liang_4y7pfl</td></tr>\n",
       "<tr><td>H2O_cluster_total_nodes:</td>\n",
       "<td>1</td></tr>\n",
       "<tr><td>H2O_cluster_free_memory:</td>\n",
       "<td>6.427 Gb</td></tr>\n",
       "<tr><td>H2O_cluster_total_cores:</td>\n",
       "<td>16</td></tr>\n",
       "<tr><td>H2O_cluster_allowed_cores:</td>\n",
       "<td>16</td></tr>\n",
       "<tr><td>H2O_cluster_status:</td>\n",
       "<td>locked, healthy</td></tr>\n",
       "<tr><td>H2O_connection_url:</td>\n",
       "<td>http://localhost:54321</td></tr>\n",
       "<tr><td>H2O_connection_proxy:</td>\n",
       "<td>{\"http\": null, \"https\": null}</td></tr>\n",
       "<tr><td>H2O_internal_security:</td>\n",
       "<td>False</td></tr>\n",
       "<tr><td>Python_version:</td>\n",
       "<td>3.9.7 final</td></tr></tbody>\n",
       "  </table>\n",
       "</div>\n"
      ],
      "text/plain": [
       "--------------------------  -----------------------------\n",
       "H2O_cluster_uptime:         1 hour 10 mins\n",
       "H2O_cluster_timezone:       America/New_York\n",
       "H2O_data_parsing_timezone:  UTC\n",
       "H2O_cluster_version:        3.38.0.1\n",
       "H2O_cluster_version_age:    1 month and 17 days\n",
       "H2O_cluster_name:           H2O_from_python_liang_4y7pfl\n",
       "H2O_cluster_total_nodes:    1\n",
       "H2O_cluster_free_memory:    6.427 Gb\n",
       "H2O_cluster_total_cores:    16\n",
       "H2O_cluster_allowed_cores:  16\n",
       "H2O_cluster_status:         locked, healthy\n",
       "H2O_connection_url:         http://localhost:54321\n",
       "H2O_connection_proxy:       {\"http\": null, \"https\": null}\n",
       "H2O_internal_security:      False\n",
       "Python_version:             3.9.7 final\n",
       "--------------------------  -----------------------------"
      ]
     },
     "metadata": {},
     "output_type": "display_data"
    }
   ],
   "source": [
    "import h2o\n",
    "from h2o.automl import H2OAutoML\n",
    "from h2o.estimators.gbm import H2OGradientBoostingEstimator\n",
    "from h2o.estimators.deeplearning import H2ODeepLearningEstimator\n",
    "from h2o.estimators.glm import H2OGeneralizedLinearEstimator\n",
    "from h2o.grid.grid_search import H2OGridSearch\n",
    "h2o.init()"
   ]
  },
  {
   "cell_type": "code",
   "execution_count": 2,
   "id": "873045dd",
   "metadata": {},
   "outputs": [
    {
     "name": "stdout",
     "output_type": "stream",
     "text": [
      "Parse progress: |████████████████████████████████████████████████████████████████| (done) 100%\n"
     ]
    }
   ],
   "source": [
    "df = h2o.import_file(path = \"insurance.csv\")"
   ]
  },
  {
   "cell_type": "code",
   "execution_count": 3,
   "id": "51bce35c",
   "metadata": {},
   "outputs": [
    {
     "data": {
      "text/html": [
       "<table class='dataframe'>\n",
       "<thead>\n",
       "<tr><th style=\"text-align: right;\">  age</th><th>sex   </th><th style=\"text-align: right;\">   bmi</th><th style=\"text-align: right;\">  children</th><th>smoker  </th><th>region   </th><th style=\"text-align: right;\">  charges</th></tr>\n",
       "</thead>\n",
       "<tbody>\n",
       "<tr><td style=\"text-align: right;\">   19</td><td>female</td><td style=\"text-align: right;\">27.9  </td><td style=\"text-align: right;\">         0</td><td>yes     </td><td>southwest</td><td style=\"text-align: right;\"> 16884.9 </td></tr>\n",
       "<tr><td style=\"text-align: right;\">   18</td><td>male  </td><td style=\"text-align: right;\">33.77 </td><td style=\"text-align: right;\">         1</td><td>no      </td><td>southeast</td><td style=\"text-align: right;\">  1725.55</td></tr>\n",
       "<tr><td style=\"text-align: right;\">   28</td><td>male  </td><td style=\"text-align: right;\">33    </td><td style=\"text-align: right;\">         3</td><td>no      </td><td>southeast</td><td style=\"text-align: right;\">  4449.46</td></tr>\n",
       "<tr><td style=\"text-align: right;\">   33</td><td>male  </td><td style=\"text-align: right;\">22.705</td><td style=\"text-align: right;\">         0</td><td>no      </td><td>northwest</td><td style=\"text-align: right;\"> 21984.5 </td></tr>\n",
       "<tr><td style=\"text-align: right;\">   32</td><td>male  </td><td style=\"text-align: right;\">28.88 </td><td style=\"text-align: right;\">         0</td><td>no      </td><td>northwest</td><td style=\"text-align: right;\">  3866.86</td></tr>\n",
       "<tr><td style=\"text-align: right;\">   31</td><td>female</td><td style=\"text-align: right;\">25.74 </td><td style=\"text-align: right;\">         0</td><td>no      </td><td>southeast</td><td style=\"text-align: right;\">  3756.62</td></tr>\n",
       "<tr><td style=\"text-align: right;\">   46</td><td>female</td><td style=\"text-align: right;\">33.44 </td><td style=\"text-align: right;\">         1</td><td>no      </td><td>southeast</td><td style=\"text-align: right;\">  8240.59</td></tr>\n",
       "<tr><td style=\"text-align: right;\">   37</td><td>female</td><td style=\"text-align: right;\">27.74 </td><td style=\"text-align: right;\">         3</td><td>no      </td><td>northwest</td><td style=\"text-align: right;\">  7281.51</td></tr>\n",
       "<tr><td style=\"text-align: right;\">   37</td><td>male  </td><td style=\"text-align: right;\">29.83 </td><td style=\"text-align: right;\">         2</td><td>no      </td><td>northeast</td><td style=\"text-align: right;\">  6406.41</td></tr>\n",
       "<tr><td style=\"text-align: right;\">   60</td><td>female</td><td style=\"text-align: right;\">25.84 </td><td style=\"text-align: right;\">         0</td><td>no      </td><td>northwest</td><td style=\"text-align: right;\"> 28923.1 </td></tr>\n",
       "</tbody>\n",
       "</table><pre style='font-size: smaller; margin-bottom: 1em;'>[10 rows x 7 columns]</pre>"
      ],
      "text/plain": [
       "  age  sex        bmi    children  smoker    region       charges\n",
       "-----  ------  ------  ----------  --------  ---------  ---------\n",
       "   19  female  27.9             0  yes       southwest   16884.9\n",
       "   18  male    33.77            1  no        southeast    1725.55\n",
       "   28  male    33               3  no        southeast    4449.46\n",
       "   33  male    22.705           0  no        northwest   21984.5\n",
       "   32  male    28.88            0  no        northwest    3866.86\n",
       "   31  female  25.74            0  no        southeast    3756.62\n",
       "   46  female  33.44            1  no        southeast    8240.59\n",
       "   37  female  27.74            3  no        northwest    7281.51\n",
       "   37  male    29.83            2  no        northeast    6406.41\n",
       "   60  female  25.84            0  no        northwest   28923.1\n",
       "[10 rows x 7 columns]\n"
      ]
     },
     "execution_count": 3,
     "metadata": {},
     "output_type": "execute_result"
    }
   ],
   "source": [
    "df.head()"
   ]
  },
  {
   "cell_type": "markdown",
   "id": "d63a86b7",
   "metadata": {},
   "source": [
    "# return an output type of the dataframe\n",
    "df.describe()"
   ]
  },
  {
   "cell_type": "markdown",
   "id": "e8a1bc10",
   "metadata": {},
   "source": [
    "2. discriminate the null data value and remove it"
   ]
  },
  {
   "cell_type": "code",
   "execution_count": 45,
   "id": "d3cc288b",
   "metadata": {},
   "outputs": [
    {
     "data": {
      "text/plain": [
       "<bound method H2OFrame.describe of H2OFrame({'_ex': <Expr(rows <Expr()#insurance.hex> <Expr(> <Expr(cols_py <Expr()#insurance.hex> 'charges'); scalar> 0); scalar>); scalar>})>"
      ]
     },
     "execution_count": 45,
     "metadata": {},
     "output_type": "execute_result"
    }
   ],
   "source": [
    "mask = df['charges'] > 0\n",
    "s1 = df[mask,:]\n",
    "s1.describe"
   ]
  },
  {
   "cell_type": "code",
   "execution_count": 46,
   "id": "de904d87",
   "metadata": {},
   "outputs": [
    {
     "name": "stdout",
     "output_type": "stream",
     "text": [
      "(1015, 7)\n",
      "(323, 7)\n"
     ]
    },
    {
     "data": {
      "text/html": [
       "<table class='dataframe'>\n",
       "<thead>\n",
       "<tr><th style=\"text-align: right;\">  age</th><th>sex   </th><th style=\"text-align: right;\">   bmi</th><th style=\"text-align: right;\">  children</th><th>smoker  </th><th>region   </th><th style=\"text-align: right;\">  charges</th></tr>\n",
       "</thead>\n",
       "<tbody>\n",
       "<tr><td style=\"text-align: right;\">   19</td><td>female</td><td style=\"text-align: right;\">27.9  </td><td style=\"text-align: right;\">         0</td><td>yes     </td><td>southwest</td><td style=\"text-align: right;\"> 16884.9 </td></tr>\n",
       "<tr><td style=\"text-align: right;\">   28</td><td>male  </td><td style=\"text-align: right;\">33    </td><td style=\"text-align: right;\">         3</td><td>no      </td><td>southeast</td><td style=\"text-align: right;\">  4449.46</td></tr>\n",
       "<tr><td style=\"text-align: right;\">   33</td><td>male  </td><td style=\"text-align: right;\">22.705</td><td style=\"text-align: right;\">         0</td><td>no      </td><td>northwest</td><td style=\"text-align: right;\"> 21984.5 </td></tr>\n",
       "<tr><td style=\"text-align: right;\">   32</td><td>male  </td><td style=\"text-align: right;\">28.88 </td><td style=\"text-align: right;\">         0</td><td>no      </td><td>northwest</td><td style=\"text-align: right;\">  3866.86</td></tr>\n",
       "<tr><td style=\"text-align: right;\">   46</td><td>female</td><td style=\"text-align: right;\">33.44 </td><td style=\"text-align: right;\">         1</td><td>no      </td><td>southeast</td><td style=\"text-align: right;\">  8240.59</td></tr>\n",
       "<tr><td style=\"text-align: right;\">   37</td><td>male  </td><td style=\"text-align: right;\">29.83 </td><td style=\"text-align: right;\">         2</td><td>no      </td><td>northeast</td><td style=\"text-align: right;\">  6406.41</td></tr>\n",
       "<tr><td style=\"text-align: right;\">   60</td><td>female</td><td style=\"text-align: right;\">25.84 </td><td style=\"text-align: right;\">         0</td><td>no      </td><td>northwest</td><td style=\"text-align: right;\"> 28923.1 </td></tr>\n",
       "<tr><td style=\"text-align: right;\">   25</td><td>male  </td><td style=\"text-align: right;\">26.22 </td><td style=\"text-align: right;\">         0</td><td>no      </td><td>northeast</td><td style=\"text-align: right;\">  2721.32</td></tr>\n",
       "<tr><td style=\"text-align: right;\">   23</td><td>male  </td><td style=\"text-align: right;\">34.4  </td><td style=\"text-align: right;\">         0</td><td>no      </td><td>southwest</td><td style=\"text-align: right;\">  1826.84</td></tr>\n",
       "<tr><td style=\"text-align: right;\">   56</td><td>female</td><td style=\"text-align: right;\">39.82 </td><td style=\"text-align: right;\">         0</td><td>no      </td><td>southeast</td><td style=\"text-align: right;\"> 11090.7 </td></tr>\n",
       "</tbody>\n",
       "</table><pre style='font-size: smaller; margin-bottom: 1em;'>[10 rows x 7 columns]</pre>"
      ],
      "text/plain": [
       "  age  sex        bmi    children  smoker    region       charges\n",
       "-----  ------  ------  ----------  --------  ---------  ---------\n",
       "   19  female  27.9             0  yes       southwest   16884.9\n",
       "   28  male    33               3  no        southeast    4449.46\n",
       "   33  male    22.705           0  no        northwest   21984.5\n",
       "   32  male    28.88            0  no        northwest    3866.86\n",
       "   46  female  33.44            1  no        southeast    8240.59\n",
       "   37  male    29.83            2  no        northeast    6406.41\n",
       "   60  female  25.84            0  no        northwest   28923.1\n",
       "   25  male    26.22            0  no        northeast    2721.32\n",
       "   23  male    34.4             0  no        southwest    1826.84\n",
       "   56  female  39.82            0  no        southeast   11090.7\n",
       "[10 rows x 7 columns]\n"
      ]
     },
     "execution_count": 46,
     "metadata": {},
     "output_type": "execute_result"
    }
   ],
   "source": [
    "# Create a 75/25 train/test split\n",
    "pct_rows=0.75\n",
    "s12_train, s12_test = s1.split_frame([pct_rows])\n",
    "print(s12_train.shape)\n",
    "print(s12_test.shape)\n",
    "s12_train.head()"
   ]
  },
  {
   "cell_type": "raw",
   "id": "fecd74e7",
   "metadata": {},
   "source": [
    "4. Train Models Using H2O's"
   ]
  },
  {
   "cell_type": "code",
   "execution_count": 6,
   "id": "24f0256c",
   "metadata": {},
   "outputs": [
    {
     "name": "stdout",
     "output_type": "stream",
     "text": [
      "['age', 'sex', 'bmi', 'children', 'smoker', 'region', 'charges']\n",
      "['age', 'sex', 'bmi', 'children', 'smoker', 'charges']\n"
     ]
    }
   ],
   "source": [
    "# Set the features and target\n",
    "X=s1.columns\n",
    "print(X)\n",
    "[\"age\",\"sex\",\"bmi\",\"children\",\"smoker\",\"region\"]\n",
    "# Set target and predictor variables\n",
    "y='charges'\n",
    "X.remove('region')\n",
    "print(X)"
   ]
  },
  {
   "cell_type": "code",
   "execution_count": 7,
   "id": "0c354647",
   "metadata": {},
   "outputs": [
    {
     "name": "stdout",
     "output_type": "stream",
     "text": [
      "AutoML progress: |\n",
      "01:38:01.981: AutoML: XGBoost is not available; skipping it.\n",
      "\n",
      "███████████████████████████████████████████████████████████████| (done) 100%\n"
     ]
    },
    {
     "data": {
      "text/html": [
       "<pre style='margin: 1em 0 1em 0;'>Model Details\n",
       "=============\n",
       "H2OStackedEnsembleEstimator : Stacked Ensemble\n",
       "Model Key: StackedEnsemble_BestOfFamily_4_AutoML_1_20221106_13801\n",
       "\n",
       "No summary for this model</pre>\n",
       "<div style='margin: 1em 0 1em 0;'><pre style='margin: 1em 0 1em 0;'>ModelMetricsRegressionGLM: stackedensemble\n",
       "** Reported on train data. **\n",
       "\n",
       "MSE: 19792356.431067754\n",
       "RMSE: 4448.860127163784\n",
       "MAE: 2563.25061385044\n",
       "RMSLE: 0.409443244978321\n",
       "Mean Residual Deviance: 19792356.431067754\n",
       "R^2: 0.8706255658317625\n",
       "Null degrees of freedom: 990\n",
       "Residual degrees of freedom: 988\n",
       "Null deviance: 151608201027.42984\n",
       "Residual deviance: 19614225223.188145\n",
       "AIC: 19469.93529766861</pre></div>\n",
       "<div style='margin: 1em 0 1em 0;'><pre style='margin: 1em 0 1em 0;'>ModelMetricsRegressionGLM: stackedensemble\n",
       "** Reported on cross-validation data. **\n",
       "\n",
       "MSE: 23820563.022506487\n",
       "RMSE: 4880.631416374985\n",
       "MAE: 2806.638971303851\n",
       "RMSLE: 0.45648985095226424\n",
       "Mean Residual Deviance: 23820563.022506487\n",
       "R^2: 0.8442948481986605\n",
       "Null degrees of freedom: 990\n",
       "Residual degrees of freedom: 988\n",
       "Null deviance: 152016571755.788\n",
       "Residual deviance: 23606177955.30393\n",
       "AIC: 19653.521393145526</pre></div>\n",
       "<div style='margin: 1em 0 1em 0;'>\n",
       "<style>\n",
       "\n",
       "#h2o-table-2.h2o-container {\n",
       "  overflow-x: auto;\n",
       "}\n",
       "#h2o-table-2 .h2o-table {\n",
       "  /* width: 100%; */\n",
       "  margin-top: 1em;\n",
       "  margin-bottom: 1em;\n",
       "}\n",
       "#h2o-table-2 .h2o-table caption {\n",
       "  white-space: nowrap;\n",
       "  caption-side: top;\n",
       "  text-align: left;\n",
       "  /* margin-left: 1em; */\n",
       "  margin: 0;\n",
       "  font-size: larger;\n",
       "}\n",
       "#h2o-table-2 .h2o-table thead {\n",
       "  white-space: nowrap; \n",
       "  position: sticky;\n",
       "  top: 0;\n",
       "  box-shadow: 0 -1px inset;\n",
       "}\n",
       "#h2o-table-2 .h2o-table tbody {\n",
       "  overflow: auto;\n",
       "}\n",
       "#h2o-table-2 .h2o-table th,\n",
       "#h2o-table-2 .h2o-table td {\n",
       "  text-align: right;\n",
       "  /* border: 1px solid; */\n",
       "}\n",
       "#h2o-table-2 .h2o-table tr:nth-child(even) {\n",
       "  /* background: #F5F5F5 */\n",
       "}\n",
       "\n",
       "</style>      \n",
       "<div id=\"h2o-table-2\" class=\"h2o-container\">\n",
       "  <table class=\"h2o-table\">\n",
       "    <caption>Cross-Validation Metrics Summary: </caption>\n",
       "    <thead><tr><th></th>\n",
       "<th>mean</th>\n",
       "<th>sd</th>\n",
       "<th>cv_1_valid</th>\n",
       "<th>cv_2_valid</th>\n",
       "<th>cv_3_valid</th>\n",
       "<th>cv_4_valid</th>\n",
       "<th>cv_5_valid</th></tr></thead>\n",
       "    <tbody><tr><td>mae</td>\n",
       "<td>2808.6514</td>\n",
       "<td>158.09935</td>\n",
       "<td>2781.6753</td>\n",
       "<td>3032.3064</td>\n",
       "<td>2589.6226</td>\n",
       "<td>2797.3652</td>\n",
       "<td>2842.2866</td></tr>\n",
       "<tr><td>mean_residual_deviance</td>\n",
       "<td>23875512.0000000</td>\n",
       "<td>4916922.0</td>\n",
       "<td>23801892.0000000</td>\n",
       "<td>31152842.0000000</td>\n",
       "<td>17321238.0000000</td>\n",
       "<td>24084704.0000000</td>\n",
       "<td>23016880.0000000</td></tr>\n",
       "<tr><td>mse</td>\n",
       "<td>23875512.0000000</td>\n",
       "<td>4916922.0</td>\n",
       "<td>23801892.0000000</td>\n",
       "<td>31152842.0000000</td>\n",
       "<td>17321238.0000000</td>\n",
       "<td>24084704.0000000</td>\n",
       "<td>23016880.0000000</td></tr>\n",
       "<tr><td>null_deviance</td>\n",
       "<td>30403313700.0000000</td>\n",
       "<td>4834393100.0000000</td>\n",
       "<td>26026571800.0000000</td>\n",
       "<td>38481125000.0000000</td>\n",
       "<td>28274389000.0000000</td>\n",
       "<td>30903779300.0000000</td>\n",
       "<td>28330709000.0000000</td></tr>\n",
       "<tr><td>r2</td>\n",
       "<td>0.8431419</td>\n",
       "<td>0.0228217</td>\n",
       "<td>0.8123130</td>\n",
       "<td>0.8425644</td>\n",
       "<td>0.876753</td>\n",
       "<td>0.8425043</td>\n",
       "<td>0.8415748</td></tr>\n",
       "<tr><td>residual_deviance</td>\n",
       "<td>4719925200.0000000</td>\n",
       "<td>891281470.0000000</td>\n",
       "<td>4831783900.0000000</td>\n",
       "<td>5950193200.0000000</td>\n",
       "<td>3464247300.0000000</td>\n",
       "<td>4865110000.0000000</td>\n",
       "<td>4488291800.0000000</td></tr>\n",
       "<tr><td>rmse</td>\n",
       "<td>4865.4556</td>\n",
       "<td>503.55243</td>\n",
       "<td>4878.7183</td>\n",
       "<td>5581.473</td>\n",
       "<td>4161.879</td>\n",
       "<td>4907.6167</td>\n",
       "<td>4797.5913</td></tr>\n",
       "<tr><td>rmsle</td>\n",
       "<td>0.4563660</td>\n",
       "<td>0.0209702</td>\n",
       "<td>0.4485117</td>\n",
       "<td>0.4771924</td>\n",
       "<td>0.4338033</td>\n",
       "<td>0.4423397</td>\n",
       "<td>0.4799828</td></tr></tbody>\n",
       "  </table>\n",
       "</div>\n",
       "</div><pre style=\"font-size: smaller; margin: 1em 0 0 0;\">\n",
       "\n",
       "[tips]\n",
       "Use `model.explain()` to inspect the model.\n",
       "--\n",
       "Use `h2o.display.toggle_user_tips()` to switch on/off this section.</pre>"
      ],
      "text/plain": [
       "Model Details\n",
       "=============\n",
       "H2OStackedEnsembleEstimator : Stacked Ensemble\n",
       "Model Key: StackedEnsemble_BestOfFamily_4_AutoML_1_20221106_13801\n",
       "\n",
       "No summary for this model\n",
       "\n",
       "ModelMetricsRegressionGLM: stackedensemble\n",
       "** Reported on train data. **\n",
       "\n",
       "MSE: 19792356.431067754\n",
       "RMSE: 4448.860127163784\n",
       "MAE: 2563.25061385044\n",
       "RMSLE: 0.409443244978321\n",
       "Mean Residual Deviance: 19792356.431067754\n",
       "R^2: 0.8706255658317625\n",
       "Null degrees of freedom: 990\n",
       "Residual degrees of freedom: 988\n",
       "Null deviance: 151608201027.42984\n",
       "Residual deviance: 19614225223.188145\n",
       "AIC: 19469.93529766861\n",
       "\n",
       "ModelMetricsRegressionGLM: stackedensemble\n",
       "** Reported on cross-validation data. **\n",
       "\n",
       "MSE: 23820563.022506487\n",
       "RMSE: 4880.631416374985\n",
       "MAE: 2806.638971303851\n",
       "RMSLE: 0.45648985095226424\n",
       "Mean Residual Deviance: 23820563.022506487\n",
       "R^2: 0.8442948481986605\n",
       "Null degrees of freedom: 990\n",
       "Residual degrees of freedom: 988\n",
       "Null deviance: 152016571755.788\n",
       "Residual deviance: 23606177955.30393\n",
       "AIC: 19653.521393145526\n",
       "\n",
       "Cross-Validation Metrics Summary: \n",
       "                        mean         sd           cv_1_valid    cv_2_valid    cv_3_valid    cv_4_valid    cv_5_valid\n",
       "----------------------  -----------  -----------  ------------  ------------  ------------  ------------  ------------\n",
       "mae                     2808.65      158.099      2781.68       3032.31       2589.62       2797.37       2842.29\n",
       "mean_residual_deviance  2.38755e+07  4.91692e+06  2.38019e+07   3.11528e+07   1.73212e+07   2.40847e+07   2.30169e+07\n",
       "mse                     2.38755e+07  4.91692e+06  2.38019e+07   3.11528e+07   1.73212e+07   2.40847e+07   2.30169e+07\n",
       "null_deviance           3.04033e+10  4.83439e+09  2.60266e+10   3.84811e+10   2.82744e+10   3.09038e+10   2.83307e+10\n",
       "r2                      0.843142     0.0228217    0.812313      0.842564      0.876753      0.842504      0.841575\n",
       "residual_deviance       4.71993e+09  8.91281e+08  4.83178e+09   5.95019e+09   3.46425e+09   4.86511e+09   4.48829e+09\n",
       "rmse                    4865.46      503.552      4878.72       5581.47       4161.88       4907.62       4797.59\n",
       "rmsle                   0.456366     0.0209702    0.448512      0.477192      0.433803      0.44234       0.479983\n",
       "\n",
       "[tips]\n",
       "Use `model.explain()` to inspect the model.\n",
       "--\n",
       "Use `h2o.display.toggle_user_tips()` to switch on/off this section."
      ]
     },
     "execution_count": 7,
     "metadata": {},
     "output_type": "execute_result"
    }
   ],
   "source": [
    "# Set up AutoML\n",
    "aml = H2OAutoML(max_runtime_secs=30, seed=1)\n",
    "aml.train(x=X,y=y,training_frame=s12_train)"
   ]
  },
  {
   "cell_type": "code",
   "execution_count": 8,
   "id": "430c799f",
   "metadata": {},
   "outputs": [
    {
     "name": "stdout",
     "output_type": "stream",
     "text": [
      "model_id                                                            rmse          mse      mae     rmsle    mean_residual_deviance\n",
      "StackedEnsemble_BestOfFamily_4_AutoML_1_20221106_13801           4880.63  2.38206e+07  2806.64  0.45649                2.38206e+07\n",
      "GBM_lr_annealing_selection_AutoML_1_20221106_13801_select_model  4885.62  2.38693e+07  2859.52  0.470261               2.38693e+07\n",
      "GBM_grid_1_AutoML_1_20221106_13801_model_86                      4907.7   2.40855e+07  2868.86  0.470272               2.40855e+07\n",
      "GBM_grid_1_AutoML_1_20221106_13801_model_25                      4955.66  2.45586e+07  2917.35  0.469009               2.45586e+07\n",
      "GBM_grid_1_AutoML_1_20221106_13801_model_54                      4965.24  2.46536e+07  2916.43  0.469308               2.46536e+07\n",
      "GBM_grid_1_AutoML_1_20221106_13801_model_42                      4971.11  2.4712e+07   2908.91  0.481583               2.4712e+07\n",
      "GBM_grid_1_AutoML_1_20221106_13801_model_34                      4976.87  2.47693e+07  2951.57  0.474469               2.47693e+07\n",
      "StackedEnsemble_BestOfFamily_3_AutoML_1_20221106_13801           5014.77  2.51479e+07  2918.95  0.486265               2.51479e+07\n",
      "GBM_grid_1_AutoML_1_20221106_13801_model_29                      5025.13  2.5252e+07   3018.37  0.481278               2.5252e+07\n",
      "StackedEnsemble_AllModels_2_AutoML_1_20221106_13801              5026.99  2.52707e+07  2919.24  0.486195               2.52707e+07\n",
      "[123 rows x 6 columns]\n",
      "\n"
     ]
    }
   ],
   "source": [
    "#Show the leaderboard of all the model\n",
    "print(aml.leaderboard)"
   ]
  },
  {
   "cell_type": "markdown",
   "id": "255e35a2",
   "metadata": {},
   "source": [
    "5. The fourth step is to examine the best model"
   ]
  },
  {
   "cell_type": "code",
   "execution_count": 22,
   "id": "a3cd7ead",
   "metadata": {},
   "outputs": [],
   "source": [
    "model_index=0\n",
    "glm_index=0\n",
    "glm_model=''\n",
    "models_dict = {}\n",
    "aml_leaderboard_df=aml.leaderboard.as_data_frame() \n",
    "for m in aml_leaderboard_df['model_id']:\n",
    "    models_dict[m]=model_index\n",
    "    if 'StackedEnsemble' not in m:\n",
    "        break\n",
    "    model_index=model_index+1\n",
    "    \n",
    "for m in aml_leaderboard_df['model_id']:\n",
    "    if 'GLM' in m:\n",
    "        models_dict[m]=glm_index\n",
    "        break\n",
    "    glm_index=glm_index+1"
   ]
  },
  {
   "cell_type": "code",
   "execution_count": 23,
   "id": "450775b5",
   "metadata": {},
   "outputs": [
    {
     "data": {
      "text/plain": [
       "{'StackedEnsemble_BestOfFamily_4_AutoML_1_20221106_13801': 0,\n",
       " 'GBM_lr_annealing_selection_AutoML_1_20221106_13801_select_model': 1,\n",
       " 'GLM_1_AutoML_1_20221106_13801': 122}"
      ]
     },
     "execution_count": 23,
     "metadata": {},
     "output_type": "execute_result"
    }
   ],
   "source": [
    "models_dict"
   ]
  },
  {
   "cell_type": "code",
   "execution_count": 24,
   "id": "92b225d7",
   "metadata": {},
   "outputs": [
    {
     "name": "stdout",
     "output_type": "stream",
     "text": [
      "1\n"
     ]
    }
   ],
   "source": [
    "#Show the best model and save another model as a test model to contr\n",
    "print(model_index)\n",
    "best_model = h2o.get_model(aml.leaderboard[model_index,'model_id'])\n",
    "best_model.algo\n",
    "test_model =h2o.get_model('GLM_1_AutoML_1_20221106_13801')"
   ]
  },
  {
   "cell_type": "code",
   "execution_count": 26,
   "id": "8ae3c60d",
   "metadata": {},
   "outputs": [
    {
     "data": {
      "image/png": "[encoded data removed]",
      "text/plain": [
       "<Figure size 1008x720 with 1 Axes>"
      ]
     },
     "metadata": {
      "needs_background": "light"
     },
     "output_type": "display_data"
    },
    {
     "data": {
      "text/plain": [
       "<Figure size 432x288 with 0 Axes>"
      ]
     },
     "metadata": {},
     "output_type": "display_data"
    }
   ],
   "source": [
    "#Show the varible importance in the plot\n",
    "import matplotlib.pyplot as pl\n",
    "import warnings\n",
    "import matplotlib.cbook\n",
    "warnings.filterwarnings(\"ignore\", category = matplotlib.cbook.mplDeprecation)\n",
    "if best_model.algo in ['gbm','drf','xrt','xgboost']:\n",
    "    best_model.varimp_plot()"
   ]
  },
  {
   "cell_type": "code",
   "execution_count": 28,
   "id": "3e0ca9dd",
   "metadata": {},
   "outputs": [
    {
     "name": "stdout",
     "output_type": "stream",
     "text": [
      "122\n",
      "glm\n"
     ]
    },
    {
     "name": "stderr",
     "output_type": "stream",
     "text": [
      "<>:1: SyntaxWarning: \"is not\" with a literal. Did you mean \"!=\"?\n",
      "<>:1: SyntaxWarning: \"is not\" with a literal. Did you mean \"!=\"?\n",
      "C:\\Users\\liang\\AppData\\Local\\Temp\\ipykernel_11316\\953932315.py:1: SyntaxWarning: \"is not\" with a literal. Did you mean \"!=\"?\n",
      "  if glm_index is not 0:\n"
     ]
    },
    {
     "data": {
      "text/plain": [
       "<h2o.plot._plot_result._MObject at 0x2c32a39e250>"
      ]
     },
     "execution_count": 28,
     "metadata": {},
     "output_type": "execute_result"
    },
    {
     "data": {
      "image/png": "[encoded data removed]",
      "text/plain": [
       "<Figure size 1008x720 with 1 Axes>"
      ]
     },
     "metadata": {
      "needs_background": "light"
     },
     "output_type": "display_data"
    }
   ],
   "source": [
    "if glm_index is not 0:\n",
    "    print(glm_index)\n",
    "glm_model=h2o.get_model(aml.leaderboard[glm_index,'model_id'])\n",
    "print(glm_model.algo)\n",
    "glm_model.std_coef_plot()"
   ]
  },
  {
   "cell_type": "code",
   "execution_count": 29,
   "id": "b3e82f6e",
   "metadata": {},
   "outputs": [
    {
     "name": "stdout",
     "output_type": "stream",
     "text": [
      "4362.93898637003\n",
      "12368.640027716772\n"
     ]
    }
   ],
   "source": [
    "#Show the model’s rmse\n",
    "print(best_model.rmse(train = True))\n",
    "print(test_model.rmse(train = True))"
   ]
  },
  {
   "cell_type": "code",
   "execution_count": 31,
   "id": "3f35878d",
   "metadata": {},
   "outputs": [
    {
     "data": {
      "text/plain": [
       "{'mse': 12370577.62862283,\n",
       " 'rmse': 3517.183195203632,\n",
       " 'null_degrees_of_freedom': None,\n",
       " 'residual_degrees_of_freedom': None,\n",
       " 'residual_deviance': None,\n",
       " 'null_deviance': None}"
      ]
     },
     "execution_count": 31,
     "metadata": {},
     "output_type": "execute_result"
    }
   ],
   "source": [
    "#Show the model’s rmse and mse using in test set\n",
    "def model_performance_stats(perf):\n",
    "    d={}\n",
    "    try:\n",
    "        d['mse']=perf.mse()\n",
    "    except:\n",
    "        pass\n",
    "    try:\n",
    "        d['rmse']=perf.rmse()\n",
    "    except:\n",
    "        pass\n",
    "    try:\n",
    "        d['null_degrees_of_freedom']=perf.null_degrees_of_freedom()\n",
    "    except:\n",
    "        pass\n",
    "    try:\n",
    "        d['residual_degrees_of_freedom']=perf.residual_degrees_of_freedom()\n",
    "    except:\n",
    "        pass\n",
    "    try:\n",
    "        d['residual_deviance']=perf.residual_deviance()\n",
    "    except:\n",
    "        pass\n",
    "    try:\n",
    "        d['null_deviance']=perf.null_deviance()\n",
    "    except:\n",
    "        pass\n",
    "    try:\n",
    "        d['aic']=perf.aic()\n",
    "    except:\n",
    "        pass\n",
    "    try:\n",
    "        d['logloss']=perf.logloss()\n",
    "    except:\n",
    "        pass\n",
    "    try:\n",
    "        d['auc']=perf.auc()\n",
    "    except:\n",
    "        pass\n",
    "    try:\n",
    "        d['gini']=perf.gini()\n",
    "    except:\n",
    "        pass\n",
    "    return d\n",
    "mod_perf=best_model.model_performance(s12_test)\n",
    "stats_test={}\n",
    "stats_test=model_performance_stats(mod_perf)\n",
    "stats_test"
   ]
  },
  {
   "cell_type": "code",
   "execution_count": 35,
   "id": "541a38f9",
   "metadata": {},
   "outputs": [
    {
     "name": "stdout",
     "output_type": "stream",
     "text": [
      "PartialDependencePlot progress: |████████████████████████████████████████████████| (done) 100%\n"
     ]
    },
    {
     "data": {
      "text/plain": [
       "[PartialDependence: Partial Dependence Plot of model GBM_lr_annealing_selection_AutoML_1_20221106_13801_select_model on column 'age'.\n",
       "age      mean_response    stddev_response    std_error_mean_response\n",
       "-------  ---------------  -----------------  -------------------------\n",
       "18       9518.53          10024.9            274.064\n",
       "20.4211  9445.64          10124.4            276.785\n",
       "22.8421  10048.8          10126.1            276.832\n",
       "25.2632  10351.6          9932.01            271.525\n",
       "27.6842  10305.5          9952.03            272.072\n",
       "30.1053  10797.4          10973.4            299.993\n",
       "32.5263  11448.8          10736.1            293.508\n",
       "34.9474  11692.2          10634.1            290.719\n",
       "37.3684  11969            10537.8            288.086\n",
       "39.7895  12300.4          10405.9            284.479\n",
       "42.2105  13131.6          11143.6            304.646\n",
       "44.6316  14760.4          10792.6            295.051\n",
       "47.0526  15548.2          10241.8            279.993\n",
       "49.4737  15874.1          10093              275.926\n",
       "51.8947  17744.2          10211.4            279.163\n",
       "54.3158  17646.5          10528.5            287.833\n",
       "56.7368  17688.5          10524              287.708\n",
       "59.1579  19082            10230.4            279.682\n",
       "61.5789  20065.2          9963.66            272.39\n",
       "64       20065.2          9963.66            272.39]"
      ]
     },
     "execution_count": 35,
     "metadata": {},
     "output_type": "execute_result"
    },
    {
     "data": {
      "image/png": "[encoded data removed]",
      "text/plain": [
       "<Figure size 504x720 with 1 Axes>"
      ]
     },
     "metadata": {
      "needs_background": "light"
     },
     "output_type": "display_data"
    }
   ],
   "source": [
    "#How age influence cost in the best Model(XGBoost)\n",
    "best_model.partial_plot(s1, cols=['age'])"
   ]
  },
  {
   "cell_type": "code",
   "execution_count": 39,
   "id": "c23af361",
   "metadata": {},
   "outputs": [
    {
     "name": "stdout",
     "output_type": "stream",
     "text": [
      "PartialDependencePlot progress: |████████████████████████████████████████████████| (done) 100%\n"
     ]
    },
    {
     "data": {
      "text/plain": [
       "[PartialDependence: Partial Dependence Plot of model GLM_1_AutoML_1_20221106_13801 on column 'bmi'.\n",
       "bmi      mean_response    stddev_response    std_error_mean_response\n",
       "-------  ---------------  -----------------  -------------------------\n",
       "15.96    13436.3          0.0859151          0.00234878\n",
       "17.9163  13436.3          0.0859151          0.00234878\n",
       "19.8726  13436.4          0.0859151          0.00234878\n",
       "21.8289  13436.4          0.0859151          0.00234878\n",
       "23.7853  13436.4          0.0859151          0.00234878\n",
       "25.7416  13436.4          0.0859151          0.00234878\n",
       "27.6979  13436.4          0.0859151          0.00234878\n",
       "29.6542  13436.4          0.0859151          0.00234878\n",
       "31.6105  13436.4          0.0859151          0.00234878\n",
       "33.5668  13436.5          0.0859151          0.00234878\n",
       "35.5232  13436.5          0.0859151          0.00234878\n",
       "37.4795  13436.5          0.0859151          0.00234878\n",
       "39.4358  13436.5          0.0859151          0.00234878\n",
       "41.3921  13436.5          0.0859151          0.00234878\n",
       "43.3484  13436.5          0.0859151          0.00234878\n",
       "45.3047  13436.5          0.0859151          0.00234878\n",
       "47.2611  13436.6          0.0859151          0.00234878\n",
       "49.2174  13436.6          0.0859151          0.00234878\n",
       "51.1737  13436.6          0.0859151          0.00234878\n",
       "53.13    13436.6          0.0859151          0.00234878]"
      ]
     },
     "execution_count": 39,
     "metadata": {},
     "output_type": "execute_result"
    },
    {
     "data": {
      "image/png": "[encoded data removed]",
      "text/plain": [
       "<Figure size 504x720 with 1 Axes>"
      ]
     },
     "metadata": {
      "needs_background": "light"
     },
     "output_type": "display_data"
    }
   ],
   "source": [
    "#How BMI influence charges in the test Model\n",
    "test_model.partial_plot(s1, cols=['bmi'])"
   ]
  },
  {
   "cell_type": "code",
   "execution_count": 38,
   "id": "1f5e4946",
   "metadata": {},
   "outputs": [
    {
     "name": "stdout",
     "output_type": "stream",
     "text": [
      "PartialDependencePlot progress: |████████████████████████████████████████████████| (done) 100%\n"
     ]
    },
    {
     "data": {
      "text/plain": [
       "[PartialDependence: Partial Dependence Plot of model GBM_lr_annealing_selection_AutoML_1_20221106_13801_select_model on column 'sex'.\n",
       "sex     mean_response    stddev_response    std_error_mean_response\n",
       "------  ---------------  -----------------  -------------------------\n",
       "female  13550.3          10945.5            299.232\n",
       "male    13358.1          10972.8            299.977]"
      ]
     },
     "execution_count": 38,
     "metadata": {},
     "output_type": "execute_result"
    },
    {
     "data": {
      "image/png": "[encoded data removed]",
      "text/plain": [
       "<Figure size 504x720 with 1 Axes>"
      ]
     },
     "metadata": {
      "needs_background": "light"
     },
     "output_type": "display_data"
    }
   ],
   "source": [
    "#How sex influence the charges in the best Model(XGBoost)\n",
    "best_model.partial_plot(s1, cols=['sex'])"
   ]
  },
  {
   "cell_type": "markdown",
   "id": "f80bfa69",
   "metadata": {},
   "source": [
    "## Questions:\n",
    "## 1. Is the relationship significant?"
   ]
  },
  {
   "cell_type": "code",
   "execution_count": 42,
   "id": "9042abff",
   "metadata": {},
   "outputs": [
    {
     "name": "stdout",
     "output_type": "stream",
     "text": [
      "glm Model Build progress: |██████████████████████████████████████████████████████| (done) 100%\n"
     ]
    },
    {
     "data": {
      "text/html": [
       "<div>\n",
       "<style scoped>\n",
       "    .dataframe tbody tr th:only-of-type {\n",
       "        vertical-align: middle;\n",
       "    }\n",
       "\n",
       "    .dataframe tbody tr th {\n",
       "        vertical-align: top;\n",
       "    }\n",
       "\n",
       "    .dataframe thead th {\n",
       "        text-align: right;\n",
       "    }\n",
       "</style>\n",
       "<table border=\"1\" class=\"dataframe\">\n",
       "  <thead>\n",
       "    <tr style=\"text-align: right;\">\n",
       "      <th></th>\n",
       "      <th>names</th>\n",
       "      <th>coefficients</th>\n",
       "      <th>std_error</th>\n",
       "      <th>z_value</th>\n",
       "      <th>p_value</th>\n",
       "      <th>standardized_coefficients</th>\n",
       "    </tr>\n",
       "  </thead>\n",
       "  <tbody>\n",
       "    <tr>\n",
       "      <th>0</th>\n",
       "      <td>Intercept</td>\n",
       "      <td>-11760.103479</td>\n",
       "      <td>1159.310704</td>\n",
       "      <td>-10.144048</td>\n",
       "      <td>4.571059e-23</td>\n",
       "      <td>8804.516764</td>\n",
       "    </tr>\n",
       "    <tr>\n",
       "      <th>1</th>\n",
       "      <td>sex.male</td>\n",
       "      <td>-485.310819</td>\n",
       "      <td>402.976648</td>\n",
       "      <td>-1.204315</td>\n",
       "      <td>2.287572e-01</td>\n",
       "      <td>-485.310819</td>\n",
       "    </tr>\n",
       "    <tr>\n",
       "      <th>2</th>\n",
       "      <td>smoker.yes</td>\n",
       "      <td>23908.370203</td>\n",
       "      <td>499.960256</td>\n",
       "      <td>47.820542</td>\n",
       "      <td>5.215517e-259</td>\n",
       "      <td>23908.370203</td>\n",
       "    </tr>\n",
       "    <tr>\n",
       "      <th>3</th>\n",
       "      <td>age</td>\n",
       "      <td>254.895555</td>\n",
       "      <td>14.348384</td>\n",
       "      <td>17.764758</td>\n",
       "      <td>1.840805e-61</td>\n",
       "      <td>3592.384100</td>\n",
       "    </tr>\n",
       "    <tr>\n",
       "      <th>4</th>\n",
       "      <td>bmi</td>\n",
       "      <td>328.686677</td>\n",
       "      <td>33.333385</td>\n",
       "      <td>9.860585</td>\n",
       "      <td>6.148251e-22</td>\n",
       "      <td>1992.175165</td>\n",
       "    </tr>\n",
       "    <tr>\n",
       "      <th>5</th>\n",
       "      <td>children</td>\n",
       "      <td>488.783346</td>\n",
       "      <td>164.561697</td>\n",
       "      <td>2.970213</td>\n",
       "      <td>3.048118e-03</td>\n",
       "      <td>597.519070</td>\n",
       "    </tr>\n",
       "  </tbody>\n",
       "</table>\n",
       "</div>"
      ],
      "text/plain": [
       "        names  coefficients    std_error    z_value        p_value  \\\n",
       "0   Intercept -11760.103479  1159.310704 -10.144048   4.571059e-23   \n",
       "1    sex.male   -485.310819   402.976648  -1.204315   2.287572e-01   \n",
       "2  smoker.yes  23908.370203   499.960256  47.820542  5.215517e-259   \n",
       "3         age    254.895555    14.348384  17.764758   1.840805e-61   \n",
       "4         bmi    328.686677    33.333385   9.860585   6.148251e-22   \n",
       "5    children    488.783346   164.561697   2.970213   3.048118e-03   \n",
       "\n",
       "   standardized_coefficients  \n",
       "0                8804.516764  \n",
       "1                -485.310819  \n",
       "2               23908.370203  \n",
       "3                3592.384100  \n",
       "4                1992.175165  \n",
       "5                 597.519070  "
      ]
     },
     "execution_count": 42,
     "metadata": {},
     "output_type": "execute_result"
    }
   ],
   "source": [
    "charges_glm = H2OGeneralizedLinearEstimator( lambda_ = 0,remove_collinear_columns = True,compute_p_values = True)\n",
    "charges_glm.train(x = X, y = y, training_frame = s12_train, validation_frame = s12_test)\n",
    "coeff_table = charges_glm._model_json['output']['coefficients_table']\n",
    "coeff_table.as_data_frame()"
   ]
  },
  {
   "cell_type": "markdown",
   "id": "4d71663e",
   "metadata": {},
   "source": [
    "### Answer: From the table, we can check z_value and standardized_coefficients, all variables shown in the table are significant."
   ]
  },
  {
   "cell_type": "markdown",
   "id": "73fef313",
   "metadata": {},
   "source": [
    "### 2. Are any model assumptions violated?\n",
    "### Answer: Yes. Beacuse I bulit two models. XGBoost is not a linear model. From the picture of model, wo can find that smoker, bmi, children and age are multicollinearity.\n",
    "\n",
    "### 3. Is there any multicollinearity in the model?\n",
    "### Answer: Yes, in the result of XGBoost, smoker, bmi, children and age are multicollinearity.\n",
    "\n",
    "### 4. In the multivariate models are predictor variables independent of all the other predictor variables?\n",
    "### No, I have some variables are vamulticollinearity in the model.\n",
    "\n",
    "### 5. In multivariate models rank the most significant predictor variables and exclude insignificant ones from the model.\n",
    "### Answer: I used varimp_plot() to get the result. Rank: 1.age 2.smoker(Yes/No) 3.bmi 4. children 5.sex(male/femal)\n",
    "\n",
    "### 6.Does the model make sense?\n",
    "### Answer: From the above plot and model result, we can see that BMI for individuals of age 20 lie between 15 to 60 and as the age increases the range of BMI keeps dicreaseing. The BMI tends to be lower for females as compared to females. If the person smokes or not will affect the cost of insurance. Two models prove the relationship of different variables and they make sense.\n",
    "\n",
    "### 7. Does regularization help?\n",
    "### Answer: Sure, When choosing a value for lambda, the goal is to strike the right balance between simplification and fit to the training data:If your lambda value is too high, the model will be very simple, but you will run the risk of underfitting the data. If our lambda value would be great, but we won't be able to get a huge risk out of our data because our data predictions can be extremely risky. If our lambda value is complex, there is a risk that your data model will be too low due to too low data.The lambda is set to completely cancel the positive risk rule. In this case, the sole purpose of training is to minimize the minimization loss, and the highest degree is 0.\n",
    "\n",
    "### 8.Which independent variables are significant?\n",
    "### Answer: Signicant Rank: 1.age 2.smoker(Yes/No) 3.bmi 4. children 5.sex(male/femal) 6.region"
   ]
  },
  {
   "cell_type": "code",
   "execution_count": 50,
   "id": "40c7e9c8",
   "metadata": {},
   "outputs": [
    {
     "name": "stdout",
     "output_type": "stream",
     "text": [
      "gbm Grid Build progress: |███████████████████████████████████████████████████████| (done) 100%\n"
     ]
    }
   ],
   "source": [
    "gbm_params1 = {'learn_rate': [0.01, 0.1],\n",
    "                'max_depth': [3, 5, 9],\n",
    "                'sample_rate': [0.8, 1.0],\n",
    "                'col_sample_rate': [0.2, 0.5, 1.0]}\n",
    "gbm_grid1 = H2OGridSearch(model=H2OGradientBoostingEstimator,\n",
    "grid_id='gbm_grid1',\n",
    "hyper_params=gbm_params1)\n",
    "gbm_grid1.train(x=X, y=y,\n",
    "training_frame=s12_train,\n",
    "validation_frame=s12_test,\n",
    "ntrees=100,\n",
    "seed=1)\n",
    "gbm_gridperf1 = gbm_grid1.get_grid( sort_by='mse',decreasing=False)"
   ]
  },
  {
   "cell_type": "code",
   "execution_count": 51,
   "id": "ff460bde",
   "metadata": {},
   "outputs": [
    {
     "data": {
      "text/html": [
       "\n",
       "<style>\n",
       "\n",
       "#h2o-table-5.h2o-container {\n",
       "  overflow-x: auto;\n",
       "}\n",
       "#h2o-table-5 .h2o-table {\n",
       "  /* width: 100%; */\n",
       "  margin-top: 1em;\n",
       "  margin-bottom: 1em;\n",
       "}\n",
       "#h2o-table-5 .h2o-table caption {\n",
       "  white-space: nowrap;\n",
       "  caption-side: top;\n",
       "  text-align: left;\n",
       "  /* margin-left: 1em; */\n",
       "  margin: 0;\n",
       "  font-size: larger;\n",
       "}\n",
       "#h2o-table-5 .h2o-table thead {\n",
       "  white-space: nowrap; \n",
       "  position: sticky;\n",
       "  top: 0;\n",
       "  box-shadow: 0 -1px inset;\n",
       "}\n",
       "#h2o-table-5 .h2o-table tbody {\n",
       "  overflow: auto;\n",
       "}\n",
       "#h2o-table-5 .h2o-table th,\n",
       "#h2o-table-5 .h2o-table td {\n",
       "  text-align: right;\n",
       "  /* border: 1px solid; */\n",
       "}\n",
       "#h2o-table-5 .h2o-table tr:nth-child(even) {\n",
       "  /* background: #F5F5F5 */\n",
       "}\n",
       "\n",
       "</style>      \n",
       "<div id=\"h2o-table-5\" class=\"h2o-container\">\n",
       "  <table class=\"h2o-table\">\n",
       "    <caption>Hyper-Parameter Search Summary: ordered by increasing mse</caption>\n",
       "    <thead><tr><th></th>\n",
       "<th>col_sample_rate</th>\n",
       "<th>learn_rate</th>\n",
       "<th>max_depth</th>\n",
       "<th>sample_rate</th>\n",
       "<th>model_ids</th>\n",
       "<th>mse</th></tr></thead>\n",
       "    <tbody><tr><td></td>\n",
       "<td>1.0</td>\n",
       "<td>0.1</td>\n",
       "<td>3.0</td>\n",
       "<td>1.0</td>\n",
       "<td>gbm_grid1_model_24</td>\n",
       "<td>22952574.3474150</td></tr>\n",
       "<tr><td></td>\n",
       "<td>1.0</td>\n",
       "<td>0.1</td>\n",
       "<td>3.0</td>\n",
       "<td>0.8</td>\n",
       "<td>gbm_grid1_model_6</td>\n",
       "<td>23257362.6159559</td></tr>\n",
       "<tr><td></td>\n",
       "<td>0.5</td>\n",
       "<td>0.1</td>\n",
       "<td>3.0</td>\n",
       "<td>1.0</td>\n",
       "<td>gbm_grid1_model_23</td>\n",
       "<td>23328889.5444748</td></tr>\n",
       "<tr><td></td>\n",
       "<td>0.5</td>\n",
       "<td>0.1</td>\n",
       "<td>3.0</td>\n",
       "<td>0.8</td>\n",
       "<td>gbm_grid1_model_5</td>\n",
       "<td>23595059.7163506</td></tr>\n",
       "<tr><td></td>\n",
       "<td>1.0</td>\n",
       "<td>0.1</td>\n",
       "<td>5.0</td>\n",
       "<td>1.0</td>\n",
       "<td>gbm_grid1_model_30</td>\n",
       "<td>24238131.1393157</td></tr>\n",
       "<tr><td></td>\n",
       "<td>1.0</td>\n",
       "<td>0.1</td>\n",
       "<td>5.0</td>\n",
       "<td>0.8</td>\n",
       "<td>gbm_grid1_model_12</td>\n",
       "<td>24499752.6135353</td></tr>\n",
       "<tr><td></td>\n",
       "<td>0.5</td>\n",
       "<td>0.1</td>\n",
       "<td>5.0</td>\n",
       "<td>0.8</td>\n",
       "<td>gbm_grid1_model_11</td>\n",
       "<td>24689329.9566322</td></tr>\n",
       "<tr><td></td>\n",
       "<td>0.5</td>\n",
       "<td>0.1</td>\n",
       "<td>5.0</td>\n",
       "<td>1.0</td>\n",
       "<td>gbm_grid1_model_29</td>\n",
       "<td>24693263.2740225</td></tr>\n",
       "<tr><td></td>\n",
       "<td>0.2</td>\n",
       "<td>0.1</td>\n",
       "<td>5.0</td>\n",
       "<td>0.8</td>\n",
       "<td>gbm_grid1_model_10</td>\n",
       "<td>24837089.1381592</td></tr>\n",
       "<tr><td></td>\n",
       "<td>0.2</td>\n",
       "<td>0.1</td>\n",
       "<td>5.0</td>\n",
       "<td>1.0</td>\n",
       "<td>gbm_grid1_model_28</td>\n",
       "<td>25253678.7679405</td></tr>\n",
       "<tr><td>---</td>\n",
       "<td>---</td>\n",
       "<td>---</td>\n",
       "<td>---</td>\n",
       "<td>---</td>\n",
       "<td>---</td>\n",
       "<td>---</td></tr>\n",
       "<tr><td></td>\n",
       "<td>0.5</td>\n",
       "<td>0.01</td>\n",
       "<td>9.0</td>\n",
       "<td>0.8</td>\n",
       "<td>gbm_grid1_model_14</td>\n",
       "<td>43048100.1540924</td></tr>\n",
       "<tr><td></td>\n",
       "<td>0.5</td>\n",
       "<td>0.01</td>\n",
       "<td>5.0</td>\n",
       "<td>0.8</td>\n",
       "<td>gbm_grid1_model_8</td>\n",
       "<td>43336555.2163218</td></tr>\n",
       "<tr><td></td>\n",
       "<td>0.5</td>\n",
       "<td>0.01</td>\n",
       "<td>3.0</td>\n",
       "<td>0.8</td>\n",
       "<td>gbm_grid1_model_2</td>\n",
       "<td>51673745.5803619</td></tr>\n",
       "<tr><td></td>\n",
       "<td>0.5</td>\n",
       "<td>0.01</td>\n",
       "<td>3.0</td>\n",
       "<td>1.0</td>\n",
       "<td>gbm_grid1_model_20</td>\n",
       "<td>51826224.9418803</td></tr>\n",
       "<tr><td></td>\n",
       "<td>0.2</td>\n",
       "<td>0.01</td>\n",
       "<td>9.0</td>\n",
       "<td>1.0</td>\n",
       "<td>gbm_grid1_model_31</td>\n",
       "<td>64328591.0542178</td></tr>\n",
       "<tr><td></td>\n",
       "<td>0.2</td>\n",
       "<td>0.01</td>\n",
       "<td>9.0</td>\n",
       "<td>0.8</td>\n",
       "<td>gbm_grid1_model_13</td>\n",
       "<td>66491121.3236362</td></tr>\n",
       "<tr><td></td>\n",
       "<td>0.2</td>\n",
       "<td>0.01</td>\n",
       "<td>5.0</td>\n",
       "<td>1.0</td>\n",
       "<td>gbm_grid1_model_25</td>\n",
       "<td>67775708.8474032</td></tr>\n",
       "<tr><td></td>\n",
       "<td>0.2</td>\n",
       "<td>0.01</td>\n",
       "<td>5.0</td>\n",
       "<td>0.8</td>\n",
       "<td>gbm_grid1_model_7</td>\n",
       "<td>69505526.1019492</td></tr>\n",
       "<tr><td></td>\n",
       "<td>0.2</td>\n",
       "<td>0.01</td>\n",
       "<td>3.0</td>\n",
       "<td>0.8</td>\n",
       "<td>gbm_grid1_model_1</td>\n",
       "<td>81125439.4107165</td></tr>\n",
       "<tr><td></td>\n",
       "<td>0.2</td>\n",
       "<td>0.01</td>\n",
       "<td>3.0</td>\n",
       "<td>1.0</td>\n",
       "<td>gbm_grid1_model_19</td>\n",
       "<td>81322637.2500650</td></tr></tbody>\n",
       "  </table>\n",
       "</div>\n",
       "<pre style='font-size: smaller; margin-bottom: 1em;'>[36 rows x 7 columns]</pre>"
      ],
      "text/plain": [
       "Hyper-Parameter Search Summary: ordered by increasing mse\n",
       "     col_sample_rate    learn_rate    max_depth    sample_rate    model_ids           mse\n",
       "---  -----------------  ------------  -----------  -------------  ------------------  ------------------\n",
       "     1.0                0.1           3.0          1.0            gbm_grid1_model_24  22952574.34741504\n",
       "     1.0                0.1           3.0          0.8            gbm_grid1_model_6   23257362.615955874\n",
       "     0.5                0.1           3.0          1.0            gbm_grid1_model_23  23328889.54447481\n",
       "     0.5                0.1           3.0          0.8            gbm_grid1_model_5   23595059.71635062\n",
       "     1.0                0.1           5.0          1.0            gbm_grid1_model_30  24238131.13931573\n",
       "     1.0                0.1           5.0          0.8            gbm_grid1_model_12  24499752.613535296\n",
       "     0.5                0.1           5.0          0.8            gbm_grid1_model_11  24689329.956632193\n",
       "     0.5                0.1           5.0          1.0            gbm_grid1_model_29  24693263.27402255\n",
       "     0.2                0.1           5.0          0.8            gbm_grid1_model_10  24837089.13815916\n",
       "     0.2                0.1           5.0          1.0            gbm_grid1_model_28  25253678.76794051\n",
       "---  ---                ---           ---          ---            ---                 ---\n",
       "     0.5                0.01          9.0          0.8            gbm_grid1_model_14  43048100.15409243\n",
       "     0.5                0.01          5.0          0.8            gbm_grid1_model_8   43336555.2163218\n",
       "     0.5                0.01          3.0          0.8            gbm_grid1_model_2   51673745.580361925\n",
       "     0.5                0.01          3.0          1.0            gbm_grid1_model_20  51826224.941880286\n",
       "     0.2                0.01          9.0          1.0            gbm_grid1_model_31  64328591.05421779\n",
       "     0.2                0.01          9.0          0.8            gbm_grid1_model_13  66491121.32363615\n",
       "     0.2                0.01          5.0          1.0            gbm_grid1_model_25  67775708.84740315\n",
       "     0.2                0.01          5.0          0.8            gbm_grid1_model_7   69505526.10194923\n",
       "     0.2                0.01          3.0          0.8            gbm_grid1_model_1   81125439.41071653\n",
       "     0.2                0.01          3.0          1.0            gbm_grid1_model_19  81322637.250065\n",
       "[36 rows x 7 columns]\n"
      ]
     },
     "execution_count": 51,
     "metadata": {},
     "output_type": "execute_result"
    }
   ],
   "source": [
    "gbm_gridperf1"
   ]
  },
  {
   "cell_type": "markdown",
   "id": "79499870",
   "metadata": {},
   "source": [
    "### 9. Which hyperparameters are important?\n",
    "### Answer: Form the above table, when the learn_rate = 0.2, max_depth =3.0, sample_rate =1.0, we will have the best preformance."
   ]
  },
  {
   "cell_type": "markdown",
   "id": "e84c09d5",
   "metadata": {},
   "source": [
    "Copyright <2022>\n",
    "\n",
    "Permission is hereby granted, free of charge, to any person obtaining a copy of this software and associated documentation files (the \"Software\"), to deal in the Software without restriction, including without limitation the rights to use, copy, modify, merge, publish, distribute, sublicense, and/or sell copies of the Software, and to permit persons to whom the Software is furnished to do so, subject to the following conditions:\n",
    "\n",
    "The above copyright notice and this permission notice shall be included in all copies or substantial portions of the Software.\n",
    "\n",
    "THE SOFTWARE IS PROVIDED \"AS IS\", WITHOUT WARRANTY OF ANY KIND, EXPRESS OR IMPLIED, INCLUDING BUT NOT LIMITED TO THE WARRANTIES OF MERCHANTABILITY, FITNESS FOR A PARTICULAR PURPOSE AND NONINFRINGEMENT. IN NO EVENT SHALL THE AUTHORS OR COPYRIGHT HOLDERS BE LIABLE FOR ANY CLAIM, DAMAGES OR OTHER LIABILITY, WHETHER IN AN ACTION OF CONTRACT, TORT OR OTHERWISE, ARISING FROM, OUT OF OR IN CONNECTION WITH THE SOFTWARE OR THE USE OR OTHER DEALINGS IN THE SOFTWARE.\n",
    "\n",
    "### dataset: https://www.kaggle.com/datasets/mirichoi0218/insurance\n",
    "### Reference: https://github.com/aiskunks/Skunks_Skool/tree/main/INFO_6105/ML_Data_Cleaning_and_Feature_Selection/6105_ML_Data_Cleaning_and_Feature_Selection_Abalone_Example (Training and test dataset)\n",
    "### https://www.kaggle.com/code/joachimcaron/eda-and-predicting-insurance-cost (LinearRegression)\n",
    "### The remaining code was written independently."
   ]
  }
 ],
 "metadata": {
  "kernelspec": {
   "display_name": "Python 3 (ipykernel)",
   "language": "python",
   "name": "python3"
  },
  "language_info": {
   "codemirror_mode": {
    "name": "ipython",
    "version": 3
   },
   "file_extension": ".py",
   "mimetype": "text/x-python",
   "name": "python",
   "nbconvert_exporter": "python",
   "pygments_lexer": "ipython3",
   "version": "3.9.7"
  }
 },
 "nbformat": 4,
 "nbformat_minor": 5
}
